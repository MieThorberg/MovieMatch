{
 "cells": [
  {
   "cell_type": "markdown",
   "source": [
    "# Collaborative Recommander\n",
    "\n",
    "With the collaborative-based filtering we will (based on one movie choice) recommends movies by finding similarities between the ratings from others that has rated the movie"
   ],
   "metadata": {
    "collapsed": false,
    "pycharm": {
     "name": "#%% md\n"
    }
   }
  },
  {
   "cell_type": "code",
   "execution_count": 1,
   "metadata": {
    "collapsed": true,
    "pycharm": {
     "name": "#%%\n"
    }
   },
   "outputs": [],
   "source": [
    "import modules.recommmender.CollaborativeRecommender as cr\n",
    "from sklearn.neighbors import NearestNeighbors"
   ]
  },
  {
   "cell_type": "markdown",
   "source": [
    "#### Getting data\n",
    "We are going to use data about movies and rating. We load our datasets from our folder \"data\"."
   ],
   "metadata": {
    "collapsed": false,
    "pycharm": {
     "name": "#%% md\n"
    }
   }
  },
  {
   "cell_type": "code",
   "execution_count": 2,
   "outputs": [
    {
     "data": {
      "text/plain": "        id                        title\n0    862.0                    Toy Story\n1   8844.0                      Jumanji\n2  15602.0             Grumpier Old Men\n3  31357.0            Waiting to Exhale\n4  11862.0  Father of the Bride Part II",
      "text/html": "<div>\n<style scoped>\n    .dataframe tbody tr th:only-of-type {\n        vertical-align: middle;\n    }\n\n    .dataframe tbody tr th {\n        vertical-align: top;\n    }\n\n    .dataframe thead th {\n        text-align: right;\n    }\n</style>\n<table border=\"1\" class=\"dataframe\">\n  <thead>\n    <tr style=\"text-align: right;\">\n      <th></th>\n      <th>id</th>\n      <th>title</th>\n    </tr>\n  </thead>\n  <tbody>\n    <tr>\n      <th>0</th>\n      <td>862.0</td>\n      <td>Toy Story</td>\n    </tr>\n    <tr>\n      <th>1</th>\n      <td>8844.0</td>\n      <td>Jumanji</td>\n    </tr>\n    <tr>\n      <th>2</th>\n      <td>15602.0</td>\n      <td>Grumpier Old Men</td>\n    </tr>\n    <tr>\n      <th>3</th>\n      <td>31357.0</td>\n      <td>Waiting to Exhale</td>\n    </tr>\n    <tr>\n      <th>4</th>\n      <td>11862.0</td>\n      <td>Father of the Bride Part II</td>\n    </tr>\n  </tbody>\n</table>\n</div>"
     },
     "execution_count": 2,
     "metadata": {},
     "output_type": "execute_result"
    }
   ],
   "source": [
    "movie_df = cr.load_movies()\n",
    "movie_df.head()"
   ],
   "metadata": {
    "collapsed": false,
    "pycharm": {
     "name": "#%%\n"
    }
   }
  },
  {
   "cell_type": "code",
   "execution_count": 3,
   "outputs": [
    {
     "data": {
      "text/plain": "(45466, 2)"
     },
     "execution_count": 3,
     "metadata": {},
     "output_type": "execute_result"
    }
   ],
   "source": [
    "movie_df.shape"
   ],
   "metadata": {
    "collapsed": false,
    "pycharm": {
     "name": "#%%\n"
    }
   }
  },
  {
   "cell_type": "code",
   "execution_count": 4,
   "outputs": [
    {
     "data": {
      "text/plain": "   userId  movieId  rating\n0       1       31     2.5\n1       1     1029     3.0\n2       1     1061     3.0\n3       1     1129     2.0\n4       1     1172     4.0",
      "text/html": "<div>\n<style scoped>\n    .dataframe tbody tr th:only-of-type {\n        vertical-align: middle;\n    }\n\n    .dataframe tbody tr th {\n        vertical-align: top;\n    }\n\n    .dataframe thead th {\n        text-align: right;\n    }\n</style>\n<table border=\"1\" class=\"dataframe\">\n  <thead>\n    <tr style=\"text-align: right;\">\n      <th></th>\n      <th>userId</th>\n      <th>movieId</th>\n      <th>rating</th>\n    </tr>\n  </thead>\n  <tbody>\n    <tr>\n      <th>0</th>\n      <td>1</td>\n      <td>31</td>\n      <td>2.5</td>\n    </tr>\n    <tr>\n      <th>1</th>\n      <td>1</td>\n      <td>1029</td>\n      <td>3.0</td>\n    </tr>\n    <tr>\n      <th>2</th>\n      <td>1</td>\n      <td>1061</td>\n      <td>3.0</td>\n    </tr>\n    <tr>\n      <th>3</th>\n      <td>1</td>\n      <td>1129</td>\n      <td>2.0</td>\n    </tr>\n    <tr>\n      <th>4</th>\n      <td>1</td>\n      <td>1172</td>\n      <td>4.0</td>\n    </tr>\n  </tbody>\n</table>\n</div>"
     },
     "execution_count": 4,
     "metadata": {},
     "output_type": "execute_result"
    }
   ],
   "source": [
    "# todo: try making a bar plot of the film rating, and other visual plots ...\n",
    "rating_df = cr.load_rating()\n",
    "rating_df.head()"
   ],
   "metadata": {
    "collapsed": false,
    "pycharm": {
     "name": "#%%\n"
    }
   }
  },
  {
   "cell_type": "code",
   "execution_count": 5,
   "outputs": [
    {
     "data": {
      "text/plain": "(100004, 3)"
     },
     "execution_count": 5,
     "metadata": {},
     "output_type": "execute_result"
    }
   ],
   "source": [
    "rating_df.shape"
   ],
   "metadata": {
    "collapsed": false,
    "pycharm": {
     "name": "#%%\n"
    }
   }
  },
  {
   "cell_type": "markdown",
   "source": [
    "#### Preparing\n",
    "We will now clean and combine the two dataframes into one"
   ],
   "metadata": {
    "collapsed": false,
    "pycharm": {
     "name": "#%% md\n"
    }
   }
  },
  {
   "cell_type": "code",
   "execution_count": 6,
   "outputs": [
    {
     "data": {
      "text/plain": "   movieId                        title\n0      862                    Toy Story\n1     8844                      Jumanji\n2    15602             Grumpier Old Men\n3    31357            Waiting to Exhale\n4    11862  Father of the Bride Part II",
      "text/html": "<div>\n<style scoped>\n    .dataframe tbody tr th:only-of-type {\n        vertical-align: middle;\n    }\n\n    .dataframe tbody tr th {\n        vertical-align: top;\n    }\n\n    .dataframe thead th {\n        text-align: right;\n    }\n</style>\n<table border=\"1\" class=\"dataframe\">\n  <thead>\n    <tr style=\"text-align: right;\">\n      <th></th>\n      <th>movieId</th>\n      <th>title</th>\n    </tr>\n  </thead>\n  <tbody>\n    <tr>\n      <th>0</th>\n      <td>862</td>\n      <td>Toy Story</td>\n    </tr>\n    <tr>\n      <th>1</th>\n      <td>8844</td>\n      <td>Jumanji</td>\n    </tr>\n    <tr>\n      <th>2</th>\n      <td>15602</td>\n      <td>Grumpier Old Men</td>\n    </tr>\n    <tr>\n      <th>3</th>\n      <td>31357</td>\n      <td>Waiting to Exhale</td>\n    </tr>\n    <tr>\n      <th>4</th>\n      <td>11862</td>\n      <td>Father of the Bride Part II</td>\n    </tr>\n  </tbody>\n</table>\n</div>"
     },
     "execution_count": 6,
     "metadata": {},
     "output_type": "execute_result"
    }
   ],
   "source": [
    "# drops NaN values, rename id name to movieId to match rating_df id column\n",
    "movie_df = cr.prepare_movie_data(movie_df)\n",
    "movie_df.head()"
   ],
   "metadata": {
    "collapsed": false,
    "pycharm": {
     "name": "#%%\n"
    }
   }
  },
  {
   "cell_type": "code",
   "execution_count": 7,
   "outputs": [
    {
     "data": {
      "text/plain": "(45460, 2)"
     },
     "execution_count": 7,
     "metadata": {},
     "output_type": "execute_result"
    }
   ],
   "source": [
    "movie_df.shape"
   ],
   "metadata": {
    "collapsed": false,
    "pycharm": {
     "name": "#%%\n"
    }
   }
  },
  {
   "cell_type": "code",
   "execution_count": 8,
   "outputs": [
    {
     "data": {
      "text/plain": "   userId  movieId  rating      title\n0       1     1371     2.5  Rocky III\n1       4     1371     4.0  Rocky III\n2       7     1371     3.0  Rocky III\n3      19     1371     4.0  Rocky III\n4      21     1371     3.0  Rocky III",
      "text/html": "<div>\n<style scoped>\n    .dataframe tbody tr th:only-of-type {\n        vertical-align: middle;\n    }\n\n    .dataframe tbody tr th {\n        vertical-align: top;\n    }\n\n    .dataframe thead th {\n        text-align: right;\n    }\n</style>\n<table border=\"1\" class=\"dataframe\">\n  <thead>\n    <tr style=\"text-align: right;\">\n      <th></th>\n      <th>userId</th>\n      <th>movieId</th>\n      <th>rating</th>\n      <th>title</th>\n    </tr>\n  </thead>\n  <tbody>\n    <tr>\n      <th>0</th>\n      <td>1</td>\n      <td>1371</td>\n      <td>2.5</td>\n      <td>Rocky III</td>\n    </tr>\n    <tr>\n      <th>1</th>\n      <td>4</td>\n      <td>1371</td>\n      <td>4.0</td>\n      <td>Rocky III</td>\n    </tr>\n    <tr>\n      <th>2</th>\n      <td>7</td>\n      <td>1371</td>\n      <td>3.0</td>\n      <td>Rocky III</td>\n    </tr>\n    <tr>\n      <th>3</th>\n      <td>19</td>\n      <td>1371</td>\n      <td>4.0</td>\n      <td>Rocky III</td>\n    </tr>\n    <tr>\n      <th>4</th>\n      <td>21</td>\n      <td>1371</td>\n      <td>3.0</td>\n      <td>Rocky III</td>\n    </tr>\n  </tbody>\n</table>\n</div>"
     },
     "execution_count": 8,
     "metadata": {},
     "output_type": "execute_result"
    }
   ],
   "source": [
    "# combine movie_df and rating_df into one dataframe\n",
    "df = cr.merge_movie_and_rating(rating_df, movie_df)\n",
    "df.head()"
   ],
   "metadata": {
    "collapsed": false,
    "pycharm": {
     "name": "#%%\n"
    }
   }
  },
  {
   "cell_type": "code",
   "execution_count": 9,
   "outputs": [
    {
     "data": {
      "text/plain": "(44994, 4)"
     },
     "execution_count": 9,
     "metadata": {},
     "output_type": "execute_result"
    }
   ],
   "source": [
    "df.shape"
   ],
   "metadata": {
    "collapsed": false,
    "pycharm": {
     "name": "#%%\n"
    }
   }
  },
  {
   "cell_type": "code",
   "execution_count": 10,
   "outputs": [
    {
     "data": {
      "text/plain": "                                  title  totalRatingCount\n0                 !Women Art Revolution                 2\n1                           'Gator Bait                 1\n2      'Twas the Night Before Christmas                 2\n3              ...And God Created Woman                 1\n4  00 Schneider - Jagd auf Nihil Baxter                 2",
      "text/html": "<div>\n<style scoped>\n    .dataframe tbody tr th:only-of-type {\n        vertical-align: middle;\n    }\n\n    .dataframe tbody tr th {\n        vertical-align: top;\n    }\n\n    .dataframe thead th {\n        text-align: right;\n    }\n</style>\n<table border=\"1\" class=\"dataframe\">\n  <thead>\n    <tr style=\"text-align: right;\">\n      <th></th>\n      <th>title</th>\n      <th>totalRatingCount</th>\n    </tr>\n  </thead>\n  <tbody>\n    <tr>\n      <th>0</th>\n      <td>!Women Art Revolution</td>\n      <td>2</td>\n    </tr>\n    <tr>\n      <th>1</th>\n      <td>'Gator Bait</td>\n      <td>1</td>\n    </tr>\n    <tr>\n      <th>2</th>\n      <td>'Twas the Night Before Christmas</td>\n      <td>2</td>\n    </tr>\n    <tr>\n      <th>3</th>\n      <td>...And God Created Woman</td>\n      <td>1</td>\n    </tr>\n    <tr>\n      <th>4</th>\n      <td>00 Schneider - Jagd auf Nihil Baxter</td>\n      <td>2</td>\n    </tr>\n  </tbody>\n</table>\n</div>"
     },
     "execution_count": 10,
     "metadata": {},
     "output_type": "execute_result"
    }
   ],
   "source": [
    "movie_rating_count = cr.count_ratings(df)\n",
    "movie_rating_count.head()"
   ],
   "metadata": {
    "collapsed": false,
    "pycharm": {
     "name": "#%%\n"
    }
   }
  },
  {
   "cell_type": "code",
   "execution_count": 11,
   "outputs": [
    {
     "data": {
      "text/plain": "(2794, 2)"
     },
     "execution_count": 11,
     "metadata": {},
     "output_type": "execute_result"
    }
   ],
   "source": [
    "movie_rating_count.shape"
   ],
   "metadata": {
    "collapsed": false,
    "pycharm": {
     "name": "#%%\n"
    }
   }
  },
  {
   "cell_type": "code",
   "execution_count": 12,
   "outputs": [
    {
     "data": {
      "text/plain": "       userId  movieId  rating              title  totalRatingCount\n0           1     1371     2.5          Rocky III                47\n1           4     1371     4.0          Rocky III                47\n2           7     1371     3.0          Rocky III                47\n3          19     1371     4.0          Rocky III                47\n4          21     1371     3.0          Rocky III                47\n...       ...      ...     ...                ...               ...\n44989     652   129009     4.0     Love Is a Ball                 1\n44990     653     2103     3.0            Solaris               305\n44991     659      167     4.0              K-PAX                 1\n44992     659      563     3.0  Starship Troopers                 1\n44993     665      129     3.0      Spirited Away                 1\n\n[44994 rows x 5 columns]",
      "text/html": "<div>\n<style scoped>\n    .dataframe tbody tr th:only-of-type {\n        vertical-align: middle;\n    }\n\n    .dataframe tbody tr th {\n        vertical-align: top;\n    }\n\n    .dataframe thead th {\n        text-align: right;\n    }\n</style>\n<table border=\"1\" class=\"dataframe\">\n  <thead>\n    <tr style=\"text-align: right;\">\n      <th></th>\n      <th>userId</th>\n      <th>movieId</th>\n      <th>rating</th>\n      <th>title</th>\n      <th>totalRatingCount</th>\n    </tr>\n  </thead>\n  <tbody>\n    <tr>\n      <th>0</th>\n      <td>1</td>\n      <td>1371</td>\n      <td>2.5</td>\n      <td>Rocky III</td>\n      <td>47</td>\n    </tr>\n    <tr>\n      <th>1</th>\n      <td>4</td>\n      <td>1371</td>\n      <td>4.0</td>\n      <td>Rocky III</td>\n      <td>47</td>\n    </tr>\n    <tr>\n      <th>2</th>\n      <td>7</td>\n      <td>1371</td>\n      <td>3.0</td>\n      <td>Rocky III</td>\n      <td>47</td>\n    </tr>\n    <tr>\n      <th>3</th>\n      <td>19</td>\n      <td>1371</td>\n      <td>4.0</td>\n      <td>Rocky III</td>\n      <td>47</td>\n    </tr>\n    <tr>\n      <th>4</th>\n      <td>21</td>\n      <td>1371</td>\n      <td>3.0</td>\n      <td>Rocky III</td>\n      <td>47</td>\n    </tr>\n    <tr>\n      <th>...</th>\n      <td>...</td>\n      <td>...</td>\n      <td>...</td>\n      <td>...</td>\n      <td>...</td>\n    </tr>\n    <tr>\n      <th>44989</th>\n      <td>652</td>\n      <td>129009</td>\n      <td>4.0</td>\n      <td>Love Is a Ball</td>\n      <td>1</td>\n    </tr>\n    <tr>\n      <th>44990</th>\n      <td>653</td>\n      <td>2103</td>\n      <td>3.0</td>\n      <td>Solaris</td>\n      <td>305</td>\n    </tr>\n    <tr>\n      <th>44991</th>\n      <td>659</td>\n      <td>167</td>\n      <td>4.0</td>\n      <td>K-PAX</td>\n      <td>1</td>\n    </tr>\n    <tr>\n      <th>44992</th>\n      <td>659</td>\n      <td>563</td>\n      <td>3.0</td>\n      <td>Starship Troopers</td>\n      <td>1</td>\n    </tr>\n    <tr>\n      <th>44993</th>\n      <td>665</td>\n      <td>129</td>\n      <td>3.0</td>\n      <td>Spirited Away</td>\n      <td>1</td>\n    </tr>\n  </tbody>\n</table>\n<p>44994 rows × 5 columns</p>\n</div>"
     },
     "execution_count": 12,
     "metadata": {},
     "output_type": "execute_result"
    }
   ],
   "source": [
    "rating_with_total_rating_count = df.merge(movie_rating_count, left_on='title', right_on='title', how='left')\n",
    "rating_with_total_rating_count"
   ],
   "metadata": {
    "collapsed": false,
    "pycharm": {
     "name": "#%%\n"
    }
   }
  },
  {
   "cell_type": "code",
   "execution_count": 13,
   "outputs": [
    {
     "data": {
      "text/plain": "(44994, 5)"
     },
     "execution_count": 13,
     "metadata": {},
     "output_type": "execute_result"
    }
   ],
   "source": [
    "rating_with_total_rating_count.shape"
   ],
   "metadata": {
    "collapsed": false,
    "pycharm": {
     "name": "#%%\n"
    }
   }
  },
  {
   "cell_type": "code",
   "execution_count": 14,
   "outputs": [
    {
     "data": {
      "text/plain": "     userId  movieId  rating                           title  totalRatingCount\n182       1     2294     2.0  Jay and Silent Bob Strike Back                53\n183       5     2294     4.0  Jay and Silent Bob Strike Back                53\n184       9     2294     2.0  Jay and Silent Bob Strike Back                53\n185      15     2294     2.0  Jay and Silent Bob Strike Back                53\n186      48     2294     3.0  Jay and Silent Bob Strike Back                53",
      "text/html": "<div>\n<style scoped>\n    .dataframe tbody tr th:only-of-type {\n        vertical-align: middle;\n    }\n\n    .dataframe tbody tr th {\n        vertical-align: top;\n    }\n\n    .dataframe thead th {\n        text-align: right;\n    }\n</style>\n<table border=\"1\" class=\"dataframe\">\n  <thead>\n    <tr style=\"text-align: right;\">\n      <th></th>\n      <th>userId</th>\n      <th>movieId</th>\n      <th>rating</th>\n      <th>title</th>\n      <th>totalRatingCount</th>\n    </tr>\n  </thead>\n  <tbody>\n    <tr>\n      <th>182</th>\n      <td>1</td>\n      <td>2294</td>\n      <td>2.0</td>\n      <td>Jay and Silent Bob Strike Back</td>\n      <td>53</td>\n    </tr>\n    <tr>\n      <th>183</th>\n      <td>5</td>\n      <td>2294</td>\n      <td>4.0</td>\n      <td>Jay and Silent Bob Strike Back</td>\n      <td>53</td>\n    </tr>\n    <tr>\n      <th>184</th>\n      <td>9</td>\n      <td>2294</td>\n      <td>2.0</td>\n      <td>Jay and Silent Bob Strike Back</td>\n      <td>53</td>\n    </tr>\n    <tr>\n      <th>185</th>\n      <td>15</td>\n      <td>2294</td>\n      <td>2.0</td>\n      <td>Jay and Silent Bob Strike Back</td>\n      <td>53</td>\n    </tr>\n    <tr>\n      <th>186</th>\n      <td>48</td>\n      <td>2294</td>\n      <td>3.0</td>\n      <td>Jay and Silent Bob Strike Back</td>\n      <td>53</td>\n    </tr>\n  </tbody>\n</table>\n</div>"
     },
     "execution_count": 14,
     "metadata": {},
     "output_type": "execute_result"
    }
   ],
   "source": [
    "rating_popular_movie = cr.get_popular_movies(rating_with_total_rating_count)\n",
    "rating_popular_movie.head()"
   ],
   "metadata": {
    "collapsed": false,
    "pycharm": {
     "name": "#%%\n"
    }
   }
  },
  {
   "cell_type": "code",
   "execution_count": 15,
   "outputs": [
    {
     "data": {
      "text/plain": "(23969, 5)"
     },
     "execution_count": 15,
     "metadata": {},
     "output_type": "execute_result"
    }
   ],
   "source": [
    "rating_popular_movie.shape"
   ],
   "metadata": {
    "collapsed": false,
    "pycharm": {
     "name": "#%%\n"
    }
   }
  },
  {
   "cell_type": "code",
   "execution_count": 16,
   "outputs": [
    {
     "data": {
      "text/plain": "userId                        1    2    3    4    5    6    7    8    9    \\\ntitle                                                                       \n20,000 Leagues Under the Sea  0.0  0.0  0.0  3.0  0.0  2.0  0.0  0.0  0.0   \n2001: A Space Odyssey         0.0  3.0  0.0  0.0  0.0  0.0  0.0  0.0  0.0   \n48 Hrs.                       0.0  5.0  0.0  0.0  4.0  0.0  0.0  0.0  0.0   \n5 Card Stud                   0.0  0.0  0.0  0.0  0.0  0.0  0.0  3.5  0.0   \nA Brief History of Time       0.0  0.0  0.0  0.0  0.0  2.0  0.0  0.5  4.0   \n\nuserId                        10   ...  662  663  664  665  666  667  668  \\\ntitle                              ...                                      \n20,000 Leagues Under the Sea  0.0  ...  0.0  0.0  0.0  0.0  0.0  0.0  0.0   \n2001: A Space Odyssey         0.0  ...  0.0  0.0  0.0  3.0  0.0  0.0  0.0   \n48 Hrs.                       0.0  ...  4.0  0.0  0.0  0.0  4.0  4.0  0.0   \n5 Card Stud                   0.0  ...  0.0  0.0  4.0  5.0  0.0  0.0  0.0   \nA Brief History of Time       5.0  ...  0.0  0.0  0.0  0.0  0.0  0.0  4.0   \n\nuserId                        669  670  671  \ntitle                                        \n20,000 Leagues Under the Sea  0.0  0.0  0.0  \n2001: A Space Odyssey         0.0  0.0  0.0  \n48 Hrs.                       0.0  3.0  0.0  \n5 Card Stud                   0.0  0.0  5.0  \nA Brief History of Time       0.0  0.0  0.0  \n\n[5 rows x 665 columns]",
      "text/html": "<div>\n<style scoped>\n    .dataframe tbody tr th:only-of-type {\n        vertical-align: middle;\n    }\n\n    .dataframe tbody tr th {\n        vertical-align: top;\n    }\n\n    .dataframe thead th {\n        text-align: right;\n    }\n</style>\n<table border=\"1\" class=\"dataframe\">\n  <thead>\n    <tr style=\"text-align: right;\">\n      <th>userId</th>\n      <th>1</th>\n      <th>2</th>\n      <th>3</th>\n      <th>4</th>\n      <th>5</th>\n      <th>6</th>\n      <th>7</th>\n      <th>8</th>\n      <th>9</th>\n      <th>10</th>\n      <th>...</th>\n      <th>662</th>\n      <th>663</th>\n      <th>664</th>\n      <th>665</th>\n      <th>666</th>\n      <th>667</th>\n      <th>668</th>\n      <th>669</th>\n      <th>670</th>\n      <th>671</th>\n    </tr>\n    <tr>\n      <th>title</th>\n      <th></th>\n      <th></th>\n      <th></th>\n      <th></th>\n      <th></th>\n      <th></th>\n      <th></th>\n      <th></th>\n      <th></th>\n      <th></th>\n      <th></th>\n      <th></th>\n      <th></th>\n      <th></th>\n      <th></th>\n      <th></th>\n      <th></th>\n      <th></th>\n      <th></th>\n      <th></th>\n      <th></th>\n    </tr>\n  </thead>\n  <tbody>\n    <tr>\n      <th>20,000 Leagues Under the Sea</th>\n      <td>0.0</td>\n      <td>0.0</td>\n      <td>0.0</td>\n      <td>3.0</td>\n      <td>0.0</td>\n      <td>2.0</td>\n      <td>0.0</td>\n      <td>0.0</td>\n      <td>0.0</td>\n      <td>0.0</td>\n      <td>...</td>\n      <td>0.0</td>\n      <td>0.0</td>\n      <td>0.0</td>\n      <td>0.0</td>\n      <td>0.0</td>\n      <td>0.0</td>\n      <td>0.0</td>\n      <td>0.0</td>\n      <td>0.0</td>\n      <td>0.0</td>\n    </tr>\n    <tr>\n      <th>2001: A Space Odyssey</th>\n      <td>0.0</td>\n      <td>3.0</td>\n      <td>0.0</td>\n      <td>0.0</td>\n      <td>0.0</td>\n      <td>0.0</td>\n      <td>0.0</td>\n      <td>0.0</td>\n      <td>0.0</td>\n      <td>0.0</td>\n      <td>...</td>\n      <td>0.0</td>\n      <td>0.0</td>\n      <td>0.0</td>\n      <td>3.0</td>\n      <td>0.0</td>\n      <td>0.0</td>\n      <td>0.0</td>\n      <td>0.0</td>\n      <td>0.0</td>\n      <td>0.0</td>\n    </tr>\n    <tr>\n      <th>48 Hrs.</th>\n      <td>0.0</td>\n      <td>5.0</td>\n      <td>0.0</td>\n      <td>0.0</td>\n      <td>4.0</td>\n      <td>0.0</td>\n      <td>0.0</td>\n      <td>0.0</td>\n      <td>0.0</td>\n      <td>0.0</td>\n      <td>...</td>\n      <td>4.0</td>\n      <td>0.0</td>\n      <td>0.0</td>\n      <td>0.0</td>\n      <td>4.0</td>\n      <td>4.0</td>\n      <td>0.0</td>\n      <td>0.0</td>\n      <td>3.0</td>\n      <td>0.0</td>\n    </tr>\n    <tr>\n      <th>5 Card Stud</th>\n      <td>0.0</td>\n      <td>0.0</td>\n      <td>0.0</td>\n      <td>0.0</td>\n      <td>0.0</td>\n      <td>0.0</td>\n      <td>0.0</td>\n      <td>3.5</td>\n      <td>0.0</td>\n      <td>0.0</td>\n      <td>...</td>\n      <td>0.0</td>\n      <td>0.0</td>\n      <td>4.0</td>\n      <td>5.0</td>\n      <td>0.0</td>\n      <td>0.0</td>\n      <td>0.0</td>\n      <td>0.0</td>\n      <td>0.0</td>\n      <td>5.0</td>\n    </tr>\n    <tr>\n      <th>A Brief History of Time</th>\n      <td>0.0</td>\n      <td>0.0</td>\n      <td>0.0</td>\n      <td>0.0</td>\n      <td>0.0</td>\n      <td>2.0</td>\n      <td>0.0</td>\n      <td>0.5</td>\n      <td>4.0</td>\n      <td>5.0</td>\n      <td>...</td>\n      <td>0.0</td>\n      <td>0.0</td>\n      <td>0.0</td>\n      <td>0.0</td>\n      <td>0.0</td>\n      <td>0.0</td>\n      <td>4.0</td>\n      <td>0.0</td>\n      <td>0.0</td>\n      <td>0.0</td>\n    </tr>\n  </tbody>\n</table>\n<p>5 rows × 665 columns</p>\n</div>"
     },
     "execution_count": 16,
     "metadata": {},
     "output_type": "execute_result"
    }
   ],
   "source": [
    "# todo: try making a bar plot of the film rating, and other visual plots ...\n",
    "df = cr.prepare_data()\n",
    "movie_features_df = cr.create_rating_metrix(df)\n",
    "movie_features_df.head()"
   ],
   "metadata": {
    "collapsed": false,
    "pycharm": {
     "name": "#%%\n"
    }
   }
  },
  {
   "cell_type": "code",
   "execution_count": 17,
   "outputs": [
    {
     "data": {
      "text/plain": "(245, 665)"
     },
     "execution_count": 17,
     "metadata": {},
     "output_type": "execute_result"
    }
   ],
   "source": [
    "movie_features_df.shape"
   ],
   "metadata": {
    "collapsed": false,
    "pycharm": {
     "name": "#%%\n"
    }
   }
  },
  {
   "cell_type": "markdown",
   "source": [
    "#### Modeling"
   ],
   "metadata": {
    "collapsed": false,
    "pycharm": {
     "name": "#%% md\n"
    }
   }
  },
  {
   "cell_type": "code",
   "execution_count": 18,
   "outputs": [],
   "source": [
    "# choose movie and size of recommendation\n",
    "movie_index = 1\n",
    "recommends_size = 5"
   ],
   "metadata": {
    "collapsed": false,
    "pycharm": {
     "name": "#%%\n"
    }
   }
  },
  {
   "cell_type": "code",
   "execution_count": 19,
   "outputs": [],
   "source": [
    "model_knn = NearestNeighbors(metric='cosine', algorithm='brute')\n",
    "model_knn.fit(movie_features_df)\n",
    "distances, indices = model_knn.kneighbors(movie_features_df.iloc[movie_index, :].values.reshape(1, -1),n_neighbors=recommends_size+1)"
   ],
   "metadata": {
    "collapsed": false,
    "pycharm": {
     "name": "#%%\n"
    }
   }
  },
  {
   "cell_type": "code",
   "execution_count": 20,
   "outputs": [
    {
     "data": {
      "text/plain": "array([[0.        , 0.5386513 , 0.54027957, 0.5432961 , 0.57435095,\n        0.57523125]], dtype=float32)"
     },
     "execution_count": 20,
     "metadata": {},
     "output_type": "execute_result"
    }
   ],
   "source": [
    "distances"
   ],
   "metadata": {
    "collapsed": false,
    "pycharm": {
     "name": "#%%\n"
    }
   }
  },
  {
   "cell_type": "code",
   "execution_count": 21,
   "outputs": [
    {
     "data": {
      "text/plain": "array([[  1,  96,  59,  16, 208, 184]], dtype=int64)"
     },
     "execution_count": 21,
     "metadata": {},
     "output_type": "execute_result"
    }
   ],
   "source": [
    "indices"
   ],
   "metadata": {
    "collapsed": false,
    "pycharm": {
     "name": "#%%\n"
    }
   }
  },
  {
   "cell_type": "markdown",
   "source": [
    "#### Clustering"
   ],
   "metadata": {
    "collapsed": false,
    "pycharm": {
     "name": "#%% md\n"
    }
   }
  },
  {
   "cell_type": "code",
   "execution_count": 22,
   "outputs": [
    {
     "data": {
      "text/plain": "<Figure size 1000x500 with 1 Axes>",
      "image/png": "[encoded data removed]"
     },
     "metadata": {},
     "output_type": "display_data"
    }
   ],
   "source": [
    "cr.optimise_k_means(movie_features_df, 5)"
   ],
   "metadata": {
    "collapsed": false,
    "pycharm": {
     "name": "#%%\n"
    }
   }
  },
  {
   "cell_type": "code",
   "execution_count": 23,
   "outputs": [
    {
     "data": {
      "text/plain": "userId                          1    2    3    4    5    6    7    8    9  \\\ntitle                                                                       \n20,000 Leagues Under the Sea  0.0  0.0  0.0  3.0  0.0  2.0  0.0  0.0  0.0   \n2001: A Space Odyssey         0.0  3.0  0.0  0.0  0.0  0.0  0.0  0.0  0.0   \n48 Hrs.                       0.0  5.0  0.0  0.0  4.0  0.0  0.0  0.0  0.0   \n5 Card Stud                   0.0  0.0  0.0  0.0  0.0  0.0  0.0  3.5  0.0   \nA Brief History of Time       0.0  0.0  0.0  0.0  0.0  2.0  0.0  0.5  4.0   \n\nuserId                         10  ...  663  664  665  666  667  668  669  \\\ntitle                              ...                                      \n20,000 Leagues Under the Sea  0.0  ...  0.0  0.0  0.0  0.0  0.0  0.0  0.0   \n2001: A Space Odyssey         0.0  ...  0.0  0.0  3.0  0.0  0.0  0.0  0.0   \n48 Hrs.                       0.0  ...  0.0  0.0  0.0  4.0  4.0  0.0  0.0   \n5 Card Stud                   0.0  ...  0.0  4.0  5.0  0.0  0.0  0.0  0.0   \nA Brief History of Time       5.0  ...  0.0  0.0  0.0  0.0  0.0  4.0  0.0   \n\nuserId                        670  671  labels  \ntitle                                           \n20,000 Leagues Under the Sea  0.0  0.0       1  \n2001: A Space Odyssey         0.0  0.0       1  \n48 Hrs.                       3.0  0.0       3  \n5 Card Stud                   0.0  5.0       4  \nA Brief History of Time       0.0  0.0       2  \n\n[5 rows x 666 columns]",
      "text/html": "<div>\n<style scoped>\n    .dataframe tbody tr th:only-of-type {\n        vertical-align: middle;\n    }\n\n    .dataframe tbody tr th {\n        vertical-align: top;\n    }\n\n    .dataframe thead th {\n        text-align: right;\n    }\n</style>\n<table border=\"1\" class=\"dataframe\">\n  <thead>\n    <tr style=\"text-align: right;\">\n      <th>userId</th>\n      <th>1</th>\n      <th>2</th>\n      <th>3</th>\n      <th>4</th>\n      <th>5</th>\n      <th>6</th>\n      <th>7</th>\n      <th>8</th>\n      <th>9</th>\n      <th>10</th>\n      <th>...</th>\n      <th>663</th>\n      <th>664</th>\n      <th>665</th>\n      <th>666</th>\n      <th>667</th>\n      <th>668</th>\n      <th>669</th>\n      <th>670</th>\n      <th>671</th>\n      <th>labels</th>\n    </tr>\n    <tr>\n      <th>title</th>\n      <th></th>\n      <th></th>\n      <th></th>\n      <th></th>\n      <th></th>\n      <th></th>\n      <th></th>\n      <th></th>\n      <th></th>\n      <th></th>\n      <th></th>\n      <th></th>\n      <th></th>\n      <th></th>\n      <th></th>\n      <th></th>\n      <th></th>\n      <th></th>\n      <th></th>\n      <th></th>\n      <th></th>\n    </tr>\n  </thead>\n  <tbody>\n    <tr>\n      <th>20,000 Leagues Under the Sea</th>\n      <td>0.0</td>\n      <td>0.0</td>\n      <td>0.0</td>\n      <td>3.0</td>\n      <td>0.0</td>\n      <td>2.0</td>\n      <td>0.0</td>\n      <td>0.0</td>\n      <td>0.0</td>\n      <td>0.0</td>\n      <td>...</td>\n      <td>0.0</td>\n      <td>0.0</td>\n      <td>0.0</td>\n      <td>0.0</td>\n      <td>0.0</td>\n      <td>0.0</td>\n      <td>0.0</td>\n      <td>0.0</td>\n      <td>0.0</td>\n      <td>1</td>\n    </tr>\n    <tr>\n      <th>2001: A Space Odyssey</th>\n      <td>0.0</td>\n      <td>3.0</td>\n      <td>0.0</td>\n      <td>0.0</td>\n      <td>0.0</td>\n      <td>0.0</td>\n      <td>0.0</td>\n      <td>0.0</td>\n      <td>0.0</td>\n      <td>0.0</td>\n      <td>...</td>\n      <td>0.0</td>\n      <td>0.0</td>\n      <td>3.0</td>\n      <td>0.0</td>\n      <td>0.0</td>\n      <td>0.0</td>\n      <td>0.0</td>\n      <td>0.0</td>\n      <td>0.0</td>\n      <td>1</td>\n    </tr>\n    <tr>\n      <th>48 Hrs.</th>\n      <td>0.0</td>\n      <td>5.0</td>\n      <td>0.0</td>\n      <td>0.0</td>\n      <td>4.0</td>\n      <td>0.0</td>\n      <td>0.0</td>\n      <td>0.0</td>\n      <td>0.0</td>\n      <td>0.0</td>\n      <td>...</td>\n      <td>0.0</td>\n      <td>0.0</td>\n      <td>0.0</td>\n      <td>4.0</td>\n      <td>4.0</td>\n      <td>0.0</td>\n      <td>0.0</td>\n      <td>3.0</td>\n      <td>0.0</td>\n      <td>3</td>\n    </tr>\n    <tr>\n      <th>5 Card Stud</th>\n      <td>0.0</td>\n      <td>0.0</td>\n      <td>0.0</td>\n      <td>0.0</td>\n      <td>0.0</td>\n      <td>0.0</td>\n      <td>0.0</td>\n      <td>3.5</td>\n      <td>0.0</td>\n      <td>0.0</td>\n      <td>...</td>\n      <td>0.0</td>\n      <td>4.0</td>\n      <td>5.0</td>\n      <td>0.0</td>\n      <td>0.0</td>\n      <td>0.0</td>\n      <td>0.0</td>\n      <td>0.0</td>\n      <td>5.0</td>\n      <td>4</td>\n    </tr>\n    <tr>\n      <th>A Brief History of Time</th>\n      <td>0.0</td>\n      <td>0.0</td>\n      <td>0.0</td>\n      <td>0.0</td>\n      <td>0.0</td>\n      <td>2.0</td>\n      <td>0.0</td>\n      <td>0.5</td>\n      <td>4.0</td>\n      <td>5.0</td>\n      <td>...</td>\n      <td>0.0</td>\n      <td>0.0</td>\n      <td>0.0</td>\n      <td>0.0</td>\n      <td>0.0</td>\n      <td>4.0</td>\n      <td>0.0</td>\n      <td>0.0</td>\n      <td>0.0</td>\n      <td>2</td>\n    </tr>\n  </tbody>\n</table>\n<p>5 rows × 666 columns</p>\n</div>"
     },
     "execution_count": 23,
     "metadata": {},
     "output_type": "execute_result"
    }
   ],
   "source": [
    "movie_cluster_df = cr.make_cluster(movie_features_df)\n",
    "movie_cluster_df.head()"
   ],
   "metadata": {
    "collapsed": false,
    "pycharm": {
     "name": "#%%\n"
    }
   }
  },
  {
   "cell_type": "markdown",
   "source": [
    "#### Result"
   ],
   "metadata": {
    "collapsed": false,
    "pycharm": {
     "name": "#%% md\n"
    }
   }
  },
  {
   "cell_type": "code",
   "execution_count": 24,
   "outputs": [
    {
     "data": {
      "text/plain": "['Lolita',\n 'Donnie Darko',\n 'Arlington Road',\n 'The Passion of Joan of Arc',\n 'The Dark']"
     },
     "execution_count": 24,
     "metadata": {},
     "output_type": "execute_result"
    }
   ],
   "source": [
    "cr.recommend_movies(movie_index, recommends_size)"
   ],
   "metadata": {
    "collapsed": false,
    "pycharm": {
     "name": "#%%\n"
    }
   }
  },
  {
   "cell_type": "code",
   "execution_count": 25,
   "outputs": [
    {
     "name": "stdout",
     "output_type": "stream",
     "text": [
      "Recommendations for 2001: A Space Odyssey , cluster 1:\n",
      "\n",
      "1: Lolita, with distance of 0.5386512875556946: cluster 1\n",
      "2: Donnie Darko, with distance of 0.5402795672416687: cluster 1\n",
      "3: Arlington Road, with distance of 0.5432960987091064: cluster 2\n",
      "4: The Passion of Joan of Arc, with distance of 0.5743509531021118: cluster 1\n",
      "5: The Dark, with distance of 0.5752312541007996: cluster 1\n"
     ]
    }
   ],
   "source": [
    "for i in range(0, len(distances.flatten())):\n",
    "    if i == 0:\n",
    "        print('Recommendations for {0} , cluster {1}:\\n'.format(movie_features_df.index[movie_index], movie_features_df['labels'][[indices.flatten()[i]]].values[0]))\n",
    "    else:\n",
    "        print('{0}: {1}, with distance of {2}: cluster {3}'.\n",
    "        format(i, movie_features_df.index[indices.flatten()[i]], distances.flatten()[i],movie_features_df['labels'][[indices.flatten()[i]]].values[0]))"
   ],
   "metadata": {
    "collapsed": false,
    "pycharm": {
     "name": "#%%\n"
    }
   }
  }
 ],
 "metadata": {
  "kernelspec": {
   "display_name": "Python 3",
   "language": "python",
   "name": "python3"
  },
  "language_info": {
   "codemirror_mode": {
    "name": "ipython",
    "version": 2
   },
   "file_extension": ".py",
   "mimetype": "text/x-python",
   "name": "python",
   "nbconvert_exporter": "python",
   "pygments_lexer": "ipython2",
   "version": "2.7.6"
  }
 },
 "nbformat": 4,
 "nbformat_minor": 0
}