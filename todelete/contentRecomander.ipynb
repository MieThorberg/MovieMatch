{
 "cells": [
  {
   "cell_type": "code",
   "execution_count": 1,
   "metadata": {
    "pycharm": {
     "name": "#%%\n"
    }
   },
   "outputs": [],
   "source": [
    "import numpy as np\n",
    "import pandas as pd\n",
    "import matplotlib.pyplot as plt"
   ]
  },
  {
   "cell_type": "code",
   "execution_count": 2,
   "metadata": {
    "pycharm": {
     "name": "#%%\n"
    }
   },
   "outputs": [],
   "source": [
    "movies=pd.read_csv(\"data/movies_metadata.csv\")\n",
    "credits = pd.read_csv(\"data/credits.zip\")\n",
    "keywords = pd.read_csv(\"data/keywords.csv\")"
   ]
  },
  {
   "cell_type": "code",
   "execution_count": 3,
   "metadata": {
    "pycharm": {
     "name": "#%%\n"
    }
   },
   "outputs": [],
   "source": [
    "# credits=credits.drop(\"title\",axis=1)\n",
    "movies=movies.merge(credits,on='id')\n",
    "movies=movies.merge(keywords,on='id')\n"
   ]
  },
  {
   "cell_type": "code",
   "execution_count": 4,
   "metadata": {
    "pycharm": {
     "name": "#%%\n"
    }
   },
   "outputs": [
    {
     "data": {
      "text/plain": "   adult                              belongs_to_collection      budget  \\\n0  False  {'id': 10194, 'name': 'Toy Story Collection', ...  30000000.0   \n1  False                                                NaN  65000000.0   \n\n                                              genres  \\\n0  [{'id': 16, 'name': 'Animation'}, {'id': 35, '...   \n1  [{'id': 12, 'name': 'Adventure'}, {'id': 14, '...   \n\n                               homepage      id    imdb_id original_language  \\\n0  http://toystory.disney.com/toy-story   862.0  tt0114709                en   \n1                                   NaN  8844.0  tt0113497                en   \n\n  original_title                                           overview  ...  \\\n0      Toy Story  Led by Woody, Andy's toys live happily in his ...  ...   \n1        Jumanji  When siblings Judy and Peter discover an encha...  ...   \n\n                                    spoken_languages    status  \\\n0           [{'iso_639_1': 'en', 'name': 'English'}]  Released   \n1  [{'iso_639_1': 'en', 'name': 'English'}, {'iso...  Released   \n\n                                     tagline      title  video  vote_average  \\\n0                                        NaN  Toy Story  False           7.7   \n1  Roll the dice and unleash the excitement!    Jumanji  False           6.9   \n\n   vote_count                                               cast  \\\n0      5415.0  [{'cast_id': 14, 'character': 'Woody (voice)',...   \n1      2413.0  [{'cast_id': 1, 'character': 'Alan Parrish', '...   \n\n                                                crew  \\\n0  [{'credit_id': '52fe4284c3a36847f8024f49', 'de...   \n1  [{'credit_id': '52fe44bfc3a36847f80a7cd1', 'de...   \n\n                                            keywords  \n0  [{'id': 931, 'name': 'jealousy'}, {'id': 4290,...  \n1  [{'id': 10090, 'name': 'board game'}, {'id': 1...  \n\n[2 rows x 27 columns]",
      "text/html": "<div>\n<style scoped>\n    .dataframe tbody tr th:only-of-type {\n        vertical-align: middle;\n    }\n\n    .dataframe tbody tr th {\n        vertical-align: top;\n    }\n\n    .dataframe thead th {\n        text-align: right;\n    }\n</style>\n<table border=\"1\" class=\"dataframe\">\n  <thead>\n    <tr style=\"text-align: right;\">\n      <th></th>\n      <th>adult</th>\n      <th>belongs_to_collection</th>\n      <th>budget</th>\n      <th>genres</th>\n      <th>homepage</th>\n      <th>id</th>\n      <th>imdb_id</th>\n      <th>original_language</th>\n      <th>original_title</th>\n      <th>overview</th>\n      <th>...</th>\n      <th>spoken_languages</th>\n      <th>status</th>\n      <th>tagline</th>\n      <th>title</th>\n      <th>video</th>\n      <th>vote_average</th>\n      <th>vote_count</th>\n      <th>cast</th>\n      <th>crew</th>\n      <th>keywords</th>\n    </tr>\n  </thead>\n  <tbody>\n    <tr>\n      <th>0</th>\n      <td>False</td>\n      <td>{'id': 10194, 'name': 'Toy Story Collection', ...</td>\n      <td>30000000.0</td>\n      <td>[{'id': 16, 'name': 'Animation'}, {'id': 35, '...</td>\n      <td>http://toystory.disney.com/toy-story</td>\n      <td>862.0</td>\n      <td>tt0114709</td>\n      <td>en</td>\n      <td>Toy Story</td>\n      <td>Led by Woody, Andy's toys live happily in his ...</td>\n      <td>...</td>\n      <td>[{'iso_639_1': 'en', 'name': 'English'}]</td>\n      <td>Released</td>\n      <td>NaN</td>\n      <td>Toy Story</td>\n      <td>False</td>\n      <td>7.7</td>\n      <td>5415.0</td>\n      <td>[{'cast_id': 14, 'character': 'Woody (voice)',...</td>\n      <td>[{'credit_id': '52fe4284c3a36847f8024f49', 'de...</td>\n      <td>[{'id': 931, 'name': 'jealousy'}, {'id': 4290,...</td>\n    </tr>\n    <tr>\n      <th>1</th>\n      <td>False</td>\n      <td>NaN</td>\n      <td>65000000.0</td>\n      <td>[{'id': 12, 'name': 'Adventure'}, {'id': 14, '...</td>\n      <td>NaN</td>\n      <td>8844.0</td>\n      <td>tt0113497</td>\n      <td>en</td>\n      <td>Jumanji</td>\n      <td>When siblings Judy and Peter discover an encha...</td>\n      <td>...</td>\n      <td>[{'iso_639_1': 'en', 'name': 'English'}, {'iso...</td>\n      <td>Released</td>\n      <td>Roll the dice and unleash the excitement!</td>\n      <td>Jumanji</td>\n      <td>False</td>\n      <td>6.9</td>\n      <td>2413.0</td>\n      <td>[{'cast_id': 1, 'character': 'Alan Parrish', '...</td>\n      <td>[{'credit_id': '52fe44bfc3a36847f80a7cd1', 'de...</td>\n      <td>[{'id': 10090, 'name': 'board game'}, {'id': 1...</td>\n    </tr>\n  </tbody>\n</table>\n<p>2 rows × 27 columns</p>\n</div>"
     },
     "execution_count": 4,
     "metadata": {},
     "output_type": "execute_result"
    }
   ],
   "source": [
    "movies.head(2)"
   ]
  },
  {
   "cell_type": "code",
   "execution_count": 5,
   "metadata": {
    "pycharm": {
     "name": "#%%\n"
    }
   },
   "outputs": [],
   "source": [
    "movies=movies[['id','title','genres',\"keywords\",'overview','cast','crew']]"
   ]
  },
  {
   "cell_type": "code",
   "execution_count": 6,
   "metadata": {
    "pycharm": {
     "name": "#%%\n"
    }
   },
   "outputs": [
    {
     "data": {
      "text/plain": "id            0\ntitle         4\ngenres        0\nkeywords      0\noverview    995\ncast          0\ncrew          0\ndtype: int64"
     },
     "execution_count": 6,
     "metadata": {},
     "output_type": "execute_result"
    }
   ],
   "source": [
    "movies.isnull().sum()"
   ]
  },
  {
   "cell_type": "code",
   "execution_count": 7,
   "metadata": {
    "pycharm": {
     "name": "#%%\n"
    }
   },
   "outputs": [],
   "source": [
    "movies.dropna(inplace=True)"
   ]
  },
  {
   "cell_type": "code",
   "execution_count": 8,
   "metadata": {
    "pycharm": {
     "name": "#%%\n"
    }
   },
   "outputs": [
    {
     "data": {
      "text/plain": "id          0\ntitle       0\ngenres      0\nkeywords    0\noverview    0\ncast        0\ncrew        0\ndtype: int64"
     },
     "execution_count": 8,
     "metadata": {},
     "output_type": "execute_result"
    }
   ],
   "source": [
    "movies.isnull().sum()"
   ]
  },
  {
   "cell_type": "code",
   "execution_count": 9,
   "metadata": {
    "pycharm": {
     "name": "#%%\n"
    }
   },
   "outputs": [
    {
     "data": {
      "text/plain": "1147"
     },
     "execution_count": 9,
     "metadata": {},
     "output_type": "execute_result"
    }
   ],
   "source": [
    "movies.duplicated().sum()"
   ]
  },
  {
   "cell_type": "code",
   "execution_count": 10,
   "metadata": {
    "pycharm": {
     "name": "#%%\n"
    }
   },
   "outputs": [
    {
     "data": {
      "text/plain": "<function ast.literal_eval(node_or_string)>"
     },
     "execution_count": 10,
     "metadata": {},
     "output_type": "execute_result"
    }
   ],
   "source": [
    "import ast\n",
    "ast.literal_eval"
   ]
  },
  {
   "cell_type": "code",
   "execution_count": 11,
   "metadata": {
    "pycharm": {
     "name": "#%%\n"
    }
   },
   "outputs": [],
   "source": [
    "def convert(obj):\n",
    "    L =[]\n",
    "    for i in ast.literal_eval(obj):\n",
    "        L.append(i['name'])\n",
    "    return L"
   ]
  },
  {
   "cell_type": "code",
   "execution_count": 12,
   "metadata": {
    "pycharm": {
     "name": "#%%\n"
    }
   },
   "outputs": [
    {
     "data": {
      "text/plain": "        id                        title                        genres  \\\n0    862.0                    Toy Story   [Animation, Comedy, Family]   \n1   8844.0                      Jumanji  [Adventure, Fantasy, Family]   \n2  15602.0             Grumpier Old Men             [Romance, Comedy]   \n3  31357.0            Waiting to Exhale      [Comedy, Drama, Romance]   \n4  11862.0  Father of the Bride Part II                      [Comedy]   \n\n                                            keywords  \\\n0  [{'id': 931, 'name': 'jealousy'}, {'id': 4290,...   \n1  [{'id': 10090, 'name': 'board game'}, {'id': 1...   \n2  [{'id': 1495, 'name': 'fishing'}, {'id': 12392...   \n3  [{'id': 818, 'name': 'based on novel'}, {'id':...   \n4  [{'id': 1009, 'name': 'baby'}, {'id': 1599, 'n...   \n\n                                            overview  \\\n0  Led by Woody, Andy's toys live happily in his ...   \n1  When siblings Judy and Peter discover an encha...   \n2  A family wedding reignites the ancient feud be...   \n3  Cheated on, mistreated and stepped on, the wom...   \n4  Just when George Banks has recovered from his ...   \n\n                                                cast  \\\n0  [{'cast_id': 14, 'character': 'Woody (voice)',...   \n1  [{'cast_id': 1, 'character': 'Alan Parrish', '...   \n2  [{'cast_id': 2, 'character': 'Max Goldman', 'c...   \n3  [{'cast_id': 1, 'character': \"Savannah 'Vannah...   \n4  [{'cast_id': 1, 'character': 'George Banks', '...   \n\n                                                crew  \n0  [{'credit_id': '52fe4284c3a36847f8024f49', 'de...  \n1  [{'credit_id': '52fe44bfc3a36847f80a7cd1', 'de...  \n2  [{'credit_id': '52fe466a9251416c75077a89', 'de...  \n3  [{'credit_id': '52fe44779251416c91011acb', 'de...  \n4  [{'credit_id': '52fe44959251416c75039ed7', 'de...  ",
      "text/html": "<div>\n<style scoped>\n    .dataframe tbody tr th:only-of-type {\n        vertical-align: middle;\n    }\n\n    .dataframe tbody tr th {\n        vertical-align: top;\n    }\n\n    .dataframe thead th {\n        text-align: right;\n    }\n</style>\n<table border=\"1\" class=\"dataframe\">\n  <thead>\n    <tr style=\"text-align: right;\">\n      <th></th>\n      <th>id</th>\n      <th>title</th>\n      <th>genres</th>\n      <th>keywords</th>\n      <th>overview</th>\n      <th>cast</th>\n      <th>crew</th>\n    </tr>\n  </thead>\n  <tbody>\n    <tr>\n      <th>0</th>\n      <td>862.0</td>\n      <td>Toy Story</td>\n      <td>[Animation, Comedy, Family]</td>\n      <td>[{'id': 931, 'name': 'jealousy'}, {'id': 4290,...</td>\n      <td>Led by Woody, Andy's toys live happily in his ...</td>\n      <td>[{'cast_id': 14, 'character': 'Woody (voice)',...</td>\n      <td>[{'credit_id': '52fe4284c3a36847f8024f49', 'de...</td>\n    </tr>\n    <tr>\n      <th>1</th>\n      <td>8844.0</td>\n      <td>Jumanji</td>\n      <td>[Adventure, Fantasy, Family]</td>\n      <td>[{'id': 10090, 'name': 'board game'}, {'id': 1...</td>\n      <td>When siblings Judy and Peter discover an encha...</td>\n      <td>[{'cast_id': 1, 'character': 'Alan Parrish', '...</td>\n      <td>[{'credit_id': '52fe44bfc3a36847f80a7cd1', 'de...</td>\n    </tr>\n    <tr>\n      <th>2</th>\n      <td>15602.0</td>\n      <td>Grumpier Old Men</td>\n      <td>[Romance, Comedy]</td>\n      <td>[{'id': 1495, 'name': 'fishing'}, {'id': 12392...</td>\n      <td>A family wedding reignites the ancient feud be...</td>\n      <td>[{'cast_id': 2, 'character': 'Max Goldman', 'c...</td>\n      <td>[{'credit_id': '52fe466a9251416c75077a89', 'de...</td>\n    </tr>\n    <tr>\n      <th>3</th>\n      <td>31357.0</td>\n      <td>Waiting to Exhale</td>\n      <td>[Comedy, Drama, Romance]</td>\n      <td>[{'id': 818, 'name': 'based on novel'}, {'id':...</td>\n      <td>Cheated on, mistreated and stepped on, the wom...</td>\n      <td>[{'cast_id': 1, 'character': \"Savannah 'Vannah...</td>\n      <td>[{'credit_id': '52fe44779251416c91011acb', 'de...</td>\n    </tr>\n    <tr>\n      <th>4</th>\n      <td>11862.0</td>\n      <td>Father of the Bride Part II</td>\n      <td>[Comedy]</td>\n      <td>[{'id': 1009, 'name': 'baby'}, {'id': 1599, 'n...</td>\n      <td>Just when George Banks has recovered from his ...</td>\n      <td>[{'cast_id': 1, 'character': 'George Banks', '...</td>\n      <td>[{'credit_id': '52fe44959251416c75039ed7', 'de...</td>\n    </tr>\n  </tbody>\n</table>\n</div>"
     },
     "execution_count": 12,
     "metadata": {},
     "output_type": "execute_result"
    }
   ],
   "source": [
    "movies['genres'] = movies['genres'].apply(convert)\n",
    "movies.head()"
   ]
  },
  {
   "cell_type": "code",
   "execution_count": 13,
   "metadata": {
    "pycharm": {
     "name": "#%%\n"
    }
   },
   "outputs": [
    {
     "data": {
      "text/plain": "        id                        title                        genres  \\\n0    862.0                    Toy Story   [Animation, Comedy, Family]   \n1   8844.0                      Jumanji  [Adventure, Fantasy, Family]   \n2  15602.0             Grumpier Old Men             [Romance, Comedy]   \n3  31357.0            Waiting to Exhale      [Comedy, Drama, Romance]   \n4  11862.0  Father of the Bride Part II                      [Comedy]   \n\n                                            keywords  \\\n0  [jealousy, toy, boy, friendship, friends, riva...   \n1  [board game, disappearance, based on children'...   \n2  [fishing, best friend, duringcreditsstinger, o...   \n3  [based on novel, interracial relationship, sin...   \n4  [baby, midlife crisis, confidence, aging, daug...   \n\n                                            overview  \\\n0  Led by Woody, Andy's toys live happily in his ...   \n1  When siblings Judy and Peter discover an encha...   \n2  A family wedding reignites the ancient feud be...   \n3  Cheated on, mistreated and stepped on, the wom...   \n4  Just when George Banks has recovered from his ...   \n\n                                                cast  \\\n0  [{'cast_id': 14, 'character': 'Woody (voice)',...   \n1  [{'cast_id': 1, 'character': 'Alan Parrish', '...   \n2  [{'cast_id': 2, 'character': 'Max Goldman', 'c...   \n3  [{'cast_id': 1, 'character': \"Savannah 'Vannah...   \n4  [{'cast_id': 1, 'character': 'George Banks', '...   \n\n                                                crew  \n0  [{'credit_id': '52fe4284c3a36847f8024f49', 'de...  \n1  [{'credit_id': '52fe44bfc3a36847f80a7cd1', 'de...  \n2  [{'credit_id': '52fe466a9251416c75077a89', 'de...  \n3  [{'credit_id': '52fe44779251416c91011acb', 'de...  \n4  [{'credit_id': '52fe44959251416c75039ed7', 'de...  ",
      "text/html": "<div>\n<style scoped>\n    .dataframe tbody tr th:only-of-type {\n        vertical-align: middle;\n    }\n\n    .dataframe tbody tr th {\n        vertical-align: top;\n    }\n\n    .dataframe thead th {\n        text-align: right;\n    }\n</style>\n<table border=\"1\" class=\"dataframe\">\n  <thead>\n    <tr style=\"text-align: right;\">\n      <th></th>\n      <th>id</th>\n      <th>title</th>\n      <th>genres</th>\n      <th>keywords</th>\n      <th>overview</th>\n      <th>cast</th>\n      <th>crew</th>\n    </tr>\n  </thead>\n  <tbody>\n    <tr>\n      <th>0</th>\n      <td>862.0</td>\n      <td>Toy Story</td>\n      <td>[Animation, Comedy, Family]</td>\n      <td>[jealousy, toy, boy, friendship, friends, riva...</td>\n      <td>Led by Woody, Andy's toys live happily in his ...</td>\n      <td>[{'cast_id': 14, 'character': 'Woody (voice)',...</td>\n      <td>[{'credit_id': '52fe4284c3a36847f8024f49', 'de...</td>\n    </tr>\n    <tr>\n      <th>1</th>\n      <td>8844.0</td>\n      <td>Jumanji</td>\n      <td>[Adventure, Fantasy, Family]</td>\n      <td>[board game, disappearance, based on children'...</td>\n      <td>When siblings Judy and Peter discover an encha...</td>\n      <td>[{'cast_id': 1, 'character': 'Alan Parrish', '...</td>\n      <td>[{'credit_id': '52fe44bfc3a36847f80a7cd1', 'de...</td>\n    </tr>\n    <tr>\n      <th>2</th>\n      <td>15602.0</td>\n      <td>Grumpier Old Men</td>\n      <td>[Romance, Comedy]</td>\n      <td>[fishing, best friend, duringcreditsstinger, o...</td>\n      <td>A family wedding reignites the ancient feud be...</td>\n      <td>[{'cast_id': 2, 'character': 'Max Goldman', 'c...</td>\n      <td>[{'credit_id': '52fe466a9251416c75077a89', 'de...</td>\n    </tr>\n    <tr>\n      <th>3</th>\n      <td>31357.0</td>\n      <td>Waiting to Exhale</td>\n      <td>[Comedy, Drama, Romance]</td>\n      <td>[based on novel, interracial relationship, sin...</td>\n      <td>Cheated on, mistreated and stepped on, the wom...</td>\n      <td>[{'cast_id': 1, 'character': \"Savannah 'Vannah...</td>\n      <td>[{'credit_id': '52fe44779251416c91011acb', 'de...</td>\n    </tr>\n    <tr>\n      <th>4</th>\n      <td>11862.0</td>\n      <td>Father of the Bride Part II</td>\n      <td>[Comedy]</td>\n      <td>[baby, midlife crisis, confidence, aging, daug...</td>\n      <td>Just when George Banks has recovered from his ...</td>\n      <td>[{'cast_id': 1, 'character': 'George Banks', '...</td>\n      <td>[{'credit_id': '52fe44959251416c75039ed7', 'de...</td>\n    </tr>\n  </tbody>\n</table>\n</div>"
     },
     "execution_count": 13,
     "metadata": {},
     "output_type": "execute_result"
    }
   ],
   "source": [
    "movies['keywords']=movies['keywords'].apply(convert)\n",
    "movies.head()"
   ]
  },
  {
   "cell_type": "code",
   "execution_count": 14,
   "metadata": {
    "pycharm": {
     "name": "#%%\n"
    }
   },
   "outputs": [],
   "source": [
    "def convert3(obj):\n",
    "    L =[]\n",
    "    counter=0\n",
    "    for i in ast.literal_eval(obj):\n",
    "        if counter !=3:\n",
    "            L.append(i['name'])\n",
    "            counter+=1\n",
    "    return L"
   ]
  },
  {
   "cell_type": "code",
   "execution_count": 15,
   "metadata": {
    "pycharm": {
     "name": "#%%\n"
    }
   },
   "outputs": [
    {
     "data": {
      "text/plain": "        id                        title                        genres  \\\n0    862.0                    Toy Story   [Animation, Comedy, Family]   \n1   8844.0                      Jumanji  [Adventure, Fantasy, Family]   \n2  15602.0             Grumpier Old Men             [Romance, Comedy]   \n3  31357.0            Waiting to Exhale      [Comedy, Drama, Romance]   \n4  11862.0  Father of the Bride Part II                      [Comedy]   \n\n                                            keywords  \\\n0  [jealousy, toy, boy, friendship, friends, riva...   \n1  [board game, disappearance, based on children'...   \n2  [fishing, best friend, duringcreditsstinger, o...   \n3  [based on novel, interracial relationship, sin...   \n4  [baby, midlife crisis, confidence, aging, daug...   \n\n                                            overview  \\\n0  Led by Woody, Andy's toys live happily in his ...   \n1  When siblings Judy and Peter discover an encha...   \n2  A family wedding reignites the ancient feud be...   \n3  Cheated on, mistreated and stepped on, the wom...   \n4  Just when George Banks has recovered from his ...   \n\n                                                cast  \\\n0                [Tom Hanks, Tim Allen, Don Rickles]   \n1     [Robin Williams, Jonathan Hyde, Kirsten Dunst]   \n2         [Walter Matthau, Jack Lemmon, Ann-Margret]   \n3  [Whitney Houston, Angela Bassett, Loretta Devine]   \n4         [Steve Martin, Diane Keaton, Martin Short]   \n\n                                                crew  \n0  [{'credit_id': '52fe4284c3a36847f8024f49', 'de...  \n1  [{'credit_id': '52fe44bfc3a36847f80a7cd1', 'de...  \n2  [{'credit_id': '52fe466a9251416c75077a89', 'de...  \n3  [{'credit_id': '52fe44779251416c91011acb', 'de...  \n4  [{'credit_id': '52fe44959251416c75039ed7', 'de...  ",
      "text/html": "<div>\n<style scoped>\n    .dataframe tbody tr th:only-of-type {\n        vertical-align: middle;\n    }\n\n    .dataframe tbody tr th {\n        vertical-align: top;\n    }\n\n    .dataframe thead th {\n        text-align: right;\n    }\n</style>\n<table border=\"1\" class=\"dataframe\">\n  <thead>\n    <tr style=\"text-align: right;\">\n      <th></th>\n      <th>id</th>\n      <th>title</th>\n      <th>genres</th>\n      <th>keywords</th>\n      <th>overview</th>\n      <th>cast</th>\n      <th>crew</th>\n    </tr>\n  </thead>\n  <tbody>\n    <tr>\n      <th>0</th>\n      <td>862.0</td>\n      <td>Toy Story</td>\n      <td>[Animation, Comedy, Family]</td>\n      <td>[jealousy, toy, boy, friendship, friends, riva...</td>\n      <td>Led by Woody, Andy's toys live happily in his ...</td>\n      <td>[Tom Hanks, Tim Allen, Don Rickles]</td>\n      <td>[{'credit_id': '52fe4284c3a36847f8024f49', 'de...</td>\n    </tr>\n    <tr>\n      <th>1</th>\n      <td>8844.0</td>\n      <td>Jumanji</td>\n      <td>[Adventure, Fantasy, Family]</td>\n      <td>[board game, disappearance, based on children'...</td>\n      <td>When siblings Judy and Peter discover an encha...</td>\n      <td>[Robin Williams, Jonathan Hyde, Kirsten Dunst]</td>\n      <td>[{'credit_id': '52fe44bfc3a36847f80a7cd1', 'de...</td>\n    </tr>\n    <tr>\n      <th>2</th>\n      <td>15602.0</td>\n      <td>Grumpier Old Men</td>\n      <td>[Romance, Comedy]</td>\n      <td>[fishing, best friend, duringcreditsstinger, o...</td>\n      <td>A family wedding reignites the ancient feud be...</td>\n      <td>[Walter Matthau, Jack Lemmon, Ann-Margret]</td>\n      <td>[{'credit_id': '52fe466a9251416c75077a89', 'de...</td>\n    </tr>\n    <tr>\n      <th>3</th>\n      <td>31357.0</td>\n      <td>Waiting to Exhale</td>\n      <td>[Comedy, Drama, Romance]</td>\n      <td>[based on novel, interracial relationship, sin...</td>\n      <td>Cheated on, mistreated and stepped on, the wom...</td>\n      <td>[Whitney Houston, Angela Bassett, Loretta Devine]</td>\n      <td>[{'credit_id': '52fe44779251416c91011acb', 'de...</td>\n    </tr>\n    <tr>\n      <th>4</th>\n      <td>11862.0</td>\n      <td>Father of the Bride Part II</td>\n      <td>[Comedy]</td>\n      <td>[baby, midlife crisis, confidence, aging, daug...</td>\n      <td>Just when George Banks has recovered from his ...</td>\n      <td>[Steve Martin, Diane Keaton, Martin Short]</td>\n      <td>[{'credit_id': '52fe44959251416c75039ed7', 'de...</td>\n    </tr>\n  </tbody>\n</table>\n</div>"
     },
     "execution_count": 15,
     "metadata": {},
     "output_type": "execute_result"
    }
   ],
   "source": [
    "movies['cast']=movies['cast'].apply(convert3)\n",
    "movies.head()"
   ]
  },
  {
   "cell_type": "code",
   "execution_count": 16,
   "metadata": {
    "pycharm": {
     "name": "#%%\n"
    }
   },
   "outputs": [],
   "source": [
    "def fetch_directoer(obj):\n",
    "    L =[]\n",
    "    for i in ast.literal_eval(obj):\n",
    "        if i['job']==\"Director\":\n",
    "            L.append(i['name'])\n",
    "            break\n",
    "    return L"
   ]
  },
  {
   "cell_type": "code",
   "execution_count": 17,
   "metadata": {
    "pycharm": {
     "name": "#%%\n"
    }
   },
   "outputs": [
    {
     "data": {
      "text/plain": "        id                        title                        genres  \\\n0    862.0                    Toy Story   [Animation, Comedy, Family]   \n1   8844.0                      Jumanji  [Adventure, Fantasy, Family]   \n2  15602.0             Grumpier Old Men             [Romance, Comedy]   \n3  31357.0            Waiting to Exhale      [Comedy, Drama, Romance]   \n4  11862.0  Father of the Bride Part II                      [Comedy]   \n\n                                            keywords  \\\n0  [jealousy, toy, boy, friendship, friends, riva...   \n1  [board game, disappearance, based on children'...   \n2  [fishing, best friend, duringcreditsstinger, o...   \n3  [based on novel, interracial relationship, sin...   \n4  [baby, midlife crisis, confidence, aging, daug...   \n\n                                            overview  \\\n0  Led by Woody, Andy's toys live happily in his ...   \n1  When siblings Judy and Peter discover an encha...   \n2  A family wedding reignites the ancient feud be...   \n3  Cheated on, mistreated and stepped on, the wom...   \n4  Just when George Banks has recovered from his ...   \n\n                                                cast               crew  \n0                [Tom Hanks, Tim Allen, Don Rickles]    [John Lasseter]  \n1     [Robin Williams, Jonathan Hyde, Kirsten Dunst]     [Joe Johnston]  \n2         [Walter Matthau, Jack Lemmon, Ann-Margret]    [Howard Deutch]  \n3  [Whitney Houston, Angela Bassett, Loretta Devine]  [Forest Whitaker]  \n4         [Steve Martin, Diane Keaton, Martin Short]    [Charles Shyer]  ",
      "text/html": "<div>\n<style scoped>\n    .dataframe tbody tr th:only-of-type {\n        vertical-align: middle;\n    }\n\n    .dataframe tbody tr th {\n        vertical-align: top;\n    }\n\n    .dataframe thead th {\n        text-align: right;\n    }\n</style>\n<table border=\"1\" class=\"dataframe\">\n  <thead>\n    <tr style=\"text-align: right;\">\n      <th></th>\n      <th>id</th>\n      <th>title</th>\n      <th>genres</th>\n      <th>keywords</th>\n      <th>overview</th>\n      <th>cast</th>\n      <th>crew</th>\n    </tr>\n  </thead>\n  <tbody>\n    <tr>\n      <th>0</th>\n      <td>862.0</td>\n      <td>Toy Story</td>\n      <td>[Animation, Comedy, Family]</td>\n      <td>[jealousy, toy, boy, friendship, friends, riva...</td>\n      <td>Led by Woody, Andy's toys live happily in his ...</td>\n      <td>[Tom Hanks, Tim Allen, Don Rickles]</td>\n      <td>[John Lasseter]</td>\n    </tr>\n    <tr>\n      <th>1</th>\n      <td>8844.0</td>\n      <td>Jumanji</td>\n      <td>[Adventure, Fantasy, Family]</td>\n      <td>[board game, disappearance, based on children'...</td>\n      <td>When siblings Judy and Peter discover an encha...</td>\n      <td>[Robin Williams, Jonathan Hyde, Kirsten Dunst]</td>\n      <td>[Joe Johnston]</td>\n    </tr>\n    <tr>\n      <th>2</th>\n      <td>15602.0</td>\n      <td>Grumpier Old Men</td>\n      <td>[Romance, Comedy]</td>\n      <td>[fishing, best friend, duringcreditsstinger, o...</td>\n      <td>A family wedding reignites the ancient feud be...</td>\n      <td>[Walter Matthau, Jack Lemmon, Ann-Margret]</td>\n      <td>[Howard Deutch]</td>\n    </tr>\n    <tr>\n      <th>3</th>\n      <td>31357.0</td>\n      <td>Waiting to Exhale</td>\n      <td>[Comedy, Drama, Romance]</td>\n      <td>[based on novel, interracial relationship, sin...</td>\n      <td>Cheated on, mistreated and stepped on, the wom...</td>\n      <td>[Whitney Houston, Angela Bassett, Loretta Devine]</td>\n      <td>[Forest Whitaker]</td>\n    </tr>\n    <tr>\n      <th>4</th>\n      <td>11862.0</td>\n      <td>Father of the Bride Part II</td>\n      <td>[Comedy]</td>\n      <td>[baby, midlife crisis, confidence, aging, daug...</td>\n      <td>Just when George Banks has recovered from his ...</td>\n      <td>[Steve Martin, Diane Keaton, Martin Short]</td>\n      <td>[Charles Shyer]</td>\n    </tr>\n  </tbody>\n</table>\n</div>"
     },
     "execution_count": 17,
     "metadata": {},
     "output_type": "execute_result"
    }
   ],
   "source": [
    "movies['crew']=movies['crew'].apply(fetch_directoer)\n",
    "movies.head()"
   ]
  },
  {
   "cell_type": "code",
   "execution_count": 18,
   "metadata": {
    "pycharm": {
     "name": "#%%\n"
    }
   },
   "outputs": [
    {
     "data": {
      "text/plain": "             id                        title                        genres  \\\n0         862.0                    Toy Story   [Animation, Comedy, Family]   \n1        8844.0                      Jumanji  [Adventure, Fantasy, Family]   \n2       15602.0             Grumpier Old Men             [Romance, Comedy]   \n3       31357.0            Waiting to Exhale      [Comedy, Drama, Romance]   \n4       11862.0  Father of the Bride Part II                      [Comedy]   \n...         ...                          ...                           ...   \n46623  439050.0                       Subdue               [Drama, Family]   \n46624  111109.0          Century of Birthing                       [Drama]   \n46625   67758.0                     Betrayal     [Action, Drama, Thriller]   \n46626  227506.0             Satan Triumphant                            []   \n46627  461257.0                     Queerama                            []   \n\n                                                keywords  \\\n0      [jealousy, toy, boy, friendship, friends, riva...   \n1      [board game, disappearance, based on children'...   \n2      [fishing, best friend, duringcreditsstinger, o...   \n3      [based on novel, interracial relationship, sin...   \n4      [baby, midlife crisis, confidence, aging, daug...   \n...                                                  ...   \n46623                                      [tragic love]   \n46624                              [artist, play, pinoy]   \n46625                                                 []   \n46626                                                 []   \n46627                                                 []   \n\n                                                overview  \\\n0      Led by Woody, Andy's toys live happily in his ...   \n1      When siblings Judy and Peter discover an encha...   \n2      A family wedding reignites the ancient feud be...   \n3      Cheated on, mistreated and stepped on, the wom...   \n4      Just when George Banks has recovered from his ...   \n...                                                  ...   \n46623        Rising and falling between a man and woman.   \n46624  An artist struggles to finish his work while a...   \n46625  When one of her hits goes wrong, a professiona...   \n46626  In a small town live two brothers, one a minis...   \n46627  50 years after decriminalisation of homosexual...   \n\n                                                    cast                crew  \n0                    [Tom Hanks, Tim Allen, Don Rickles]     [John Lasseter]  \n1         [Robin Williams, Jonathan Hyde, Kirsten Dunst]      [Joe Johnston]  \n2             [Walter Matthau, Jack Lemmon, Ann-Margret]     [Howard Deutch]  \n3      [Whitney Houston, Angela Bassett, Loretta Devine]   [Forest Whitaker]  \n4             [Steve Martin, Diane Keaton, Martin Short]     [Charles Shyer]  \n...                                                  ...                 ...  \n46623        [Leila Hatami, Kourosh Tahami, Elham Korda]  [Hamid Nematollah]  \n46624         [Angel Aquino, Perry Dizon, Hazel Orencio]          [Lav Diaz]  \n46625       [Erika Eleniak, Adam Baldwin, Julie du Page]    [Mark L. Lester]  \n46626  [Iwan Mosschuchin, Nathalie Lissenko, Pavel Pa...  [Yakov Protazanov]  \n46627                                                 []     [Daisy Asquith]  \n\n[45629 rows x 7 columns]",
      "text/html": "<div>\n<style scoped>\n    .dataframe tbody tr th:only-of-type {\n        vertical-align: middle;\n    }\n\n    .dataframe tbody tr th {\n        vertical-align: top;\n    }\n\n    .dataframe thead th {\n        text-align: right;\n    }\n</style>\n<table border=\"1\" class=\"dataframe\">\n  <thead>\n    <tr style=\"text-align: right;\">\n      <th></th>\n      <th>id</th>\n      <th>title</th>\n      <th>genres</th>\n      <th>keywords</th>\n      <th>overview</th>\n      <th>cast</th>\n      <th>crew</th>\n    </tr>\n  </thead>\n  <tbody>\n    <tr>\n      <th>0</th>\n      <td>862.0</td>\n      <td>Toy Story</td>\n      <td>[Animation, Comedy, Family]</td>\n      <td>[jealousy, toy, boy, friendship, friends, riva...</td>\n      <td>Led by Woody, Andy's toys live happily in his ...</td>\n      <td>[Tom Hanks, Tim Allen, Don Rickles]</td>\n      <td>[John Lasseter]</td>\n    </tr>\n    <tr>\n      <th>1</th>\n      <td>8844.0</td>\n      <td>Jumanji</td>\n      <td>[Adventure, Fantasy, Family]</td>\n      <td>[board game, disappearance, based on children'...</td>\n      <td>When siblings Judy and Peter discover an encha...</td>\n      <td>[Robin Williams, Jonathan Hyde, Kirsten Dunst]</td>\n      <td>[Joe Johnston]</td>\n    </tr>\n    <tr>\n      <th>2</th>\n      <td>15602.0</td>\n      <td>Grumpier Old Men</td>\n      <td>[Romance, Comedy]</td>\n      <td>[fishing, best friend, duringcreditsstinger, o...</td>\n      <td>A family wedding reignites the ancient feud be...</td>\n      <td>[Walter Matthau, Jack Lemmon, Ann-Margret]</td>\n      <td>[Howard Deutch]</td>\n    </tr>\n    <tr>\n      <th>3</th>\n      <td>31357.0</td>\n      <td>Waiting to Exhale</td>\n      <td>[Comedy, Drama, Romance]</td>\n      <td>[based on novel, interracial relationship, sin...</td>\n      <td>Cheated on, mistreated and stepped on, the wom...</td>\n      <td>[Whitney Houston, Angela Bassett, Loretta Devine]</td>\n      <td>[Forest Whitaker]</td>\n    </tr>\n    <tr>\n      <th>4</th>\n      <td>11862.0</td>\n      <td>Father of the Bride Part II</td>\n      <td>[Comedy]</td>\n      <td>[baby, midlife crisis, confidence, aging, daug...</td>\n      <td>Just when George Banks has recovered from his ...</td>\n      <td>[Steve Martin, Diane Keaton, Martin Short]</td>\n      <td>[Charles Shyer]</td>\n    </tr>\n    <tr>\n      <th>...</th>\n      <td>...</td>\n      <td>...</td>\n      <td>...</td>\n      <td>...</td>\n      <td>...</td>\n      <td>...</td>\n      <td>...</td>\n    </tr>\n    <tr>\n      <th>46623</th>\n      <td>439050.0</td>\n      <td>Subdue</td>\n      <td>[Drama, Family]</td>\n      <td>[tragic love]</td>\n      <td>Rising and falling between a man and woman.</td>\n      <td>[Leila Hatami, Kourosh Tahami, Elham Korda]</td>\n      <td>[Hamid Nematollah]</td>\n    </tr>\n    <tr>\n      <th>46624</th>\n      <td>111109.0</td>\n      <td>Century of Birthing</td>\n      <td>[Drama]</td>\n      <td>[artist, play, pinoy]</td>\n      <td>An artist struggles to finish his work while a...</td>\n      <td>[Angel Aquino, Perry Dizon, Hazel Orencio]</td>\n      <td>[Lav Diaz]</td>\n    </tr>\n    <tr>\n      <th>46625</th>\n      <td>67758.0</td>\n      <td>Betrayal</td>\n      <td>[Action, Drama, Thriller]</td>\n      <td>[]</td>\n      <td>When one of her hits goes wrong, a professiona...</td>\n      <td>[Erika Eleniak, Adam Baldwin, Julie du Page]</td>\n      <td>[Mark L. Lester]</td>\n    </tr>\n    <tr>\n      <th>46626</th>\n      <td>227506.0</td>\n      <td>Satan Triumphant</td>\n      <td>[]</td>\n      <td>[]</td>\n      <td>In a small town live two brothers, one a minis...</td>\n      <td>[Iwan Mosschuchin, Nathalie Lissenko, Pavel Pa...</td>\n      <td>[Yakov Protazanov]</td>\n    </tr>\n    <tr>\n      <th>46627</th>\n      <td>461257.0</td>\n      <td>Queerama</td>\n      <td>[]</td>\n      <td>[]</td>\n      <td>50 years after decriminalisation of homosexual...</td>\n      <td>[]</td>\n      <td>[Daisy Asquith]</td>\n    </tr>\n  </tbody>\n</table>\n<p>45629 rows × 7 columns</p>\n</div>"
     },
     "execution_count": 18,
     "metadata": {},
     "output_type": "execute_result"
    }
   ],
   "source": [
    "movies"
   ]
  },
  {
   "cell_type": "code",
   "execution_count": 19,
   "metadata": {
    "pycharm": {
     "name": "#%%\n"
    }
   },
   "outputs": [],
   "source": [
    "movies['overview']=movies['overview'].apply(lambda x: x.split())"
   ]
  },
  {
   "cell_type": "code",
   "execution_count": 20,
   "metadata": {
    "pycharm": {
     "name": "#%%\n"
    }
   },
   "outputs": [],
   "source": [
    "movies['genres']=movies['genres'].apply(lambda x : [i.replace(\" \",\"\")for i in x])\n",
    "movies['keywords']=movies['keywords'].apply(lambda x : [i.replace(\" \",\"\")for i in x])\n",
    "movies['cast']=movies['cast'].apply(lambda x : [i.replace(\" \",\"\")for i in x])\n",
    "movies['crew']=movies['crew'].apply(lambda x : [i.replace(\" \",\"\")for i in x])"
   ]
  },
  {
   "cell_type": "code",
   "execution_count": 21,
   "metadata": {
    "pycharm": {
     "name": "#%%\n"
    }
   },
   "outputs": [],
   "source": [
    "# movies['tags']= movies['genres'] + movies['keywords'] + movies['cast'] + movies['crew'] + movies['overview']\n",
    "movies['tags'] = movies['overview']"
   ]
  },
  {
   "cell_type": "code",
   "execution_count": 22,
   "metadata": {
    "pycharm": {
     "name": "#%%\n"
    }
   },
   "outputs": [
    {
     "data": {
      "text/plain": "       id      title                        genres  \\\n0   862.0  Toy Story   [Animation, Comedy, Family]   \n1  8844.0    Jumanji  [Adventure, Fantasy, Family]   \n\n                                            keywords  \\\n0  [jealousy, toy, boy, friendship, friends, riva...   \n1  [boardgame, disappearance, basedonchildren'sbo...   \n\n                                            overview  \\\n0  [Led, by, Woody,, Andy's, toys, live, happily,...   \n1  [When, siblings, Judy, and, Peter, discover, a...   \n\n                                          cast            crew  \\\n0             [TomHanks, TimAllen, DonRickles]  [JohnLasseter]   \n1  [RobinWilliams, JonathanHyde, KirstenDunst]   [JoeJohnston]   \n\n                                                tags  \n0  [Led, by, Woody,, Andy's, toys, live, happily,...  \n1  [When, siblings, Judy, and, Peter, discover, a...  ",
      "text/html": "<div>\n<style scoped>\n    .dataframe tbody tr th:only-of-type {\n        vertical-align: middle;\n    }\n\n    .dataframe tbody tr th {\n        vertical-align: top;\n    }\n\n    .dataframe thead th {\n        text-align: right;\n    }\n</style>\n<table border=\"1\" class=\"dataframe\">\n  <thead>\n    <tr style=\"text-align: right;\">\n      <th></th>\n      <th>id</th>\n      <th>title</th>\n      <th>genres</th>\n      <th>keywords</th>\n      <th>overview</th>\n      <th>cast</th>\n      <th>crew</th>\n      <th>tags</th>\n    </tr>\n  </thead>\n  <tbody>\n    <tr>\n      <th>0</th>\n      <td>862.0</td>\n      <td>Toy Story</td>\n      <td>[Animation, Comedy, Family]</td>\n      <td>[jealousy, toy, boy, friendship, friends, riva...</td>\n      <td>[Led, by, Woody,, Andy's, toys, live, happily,...</td>\n      <td>[TomHanks, TimAllen, DonRickles]</td>\n      <td>[JohnLasseter]</td>\n      <td>[Led, by, Woody,, Andy's, toys, live, happily,...</td>\n    </tr>\n    <tr>\n      <th>1</th>\n      <td>8844.0</td>\n      <td>Jumanji</td>\n      <td>[Adventure, Fantasy, Family]</td>\n      <td>[boardgame, disappearance, basedonchildren'sbo...</td>\n      <td>[When, siblings, Judy, and, Peter, discover, a...</td>\n      <td>[RobinWilliams, JonathanHyde, KirstenDunst]</td>\n      <td>[JoeJohnston]</td>\n      <td>[When, siblings, Judy, and, Peter, discover, a...</td>\n    </tr>\n  </tbody>\n</table>\n</div>"
     },
     "execution_count": 22,
     "metadata": {},
     "output_type": "execute_result"
    }
   ],
   "source": [
    "movies.head(2)"
   ]
  },
  {
   "cell_type": "code",
   "execution_count": 23,
   "metadata": {
    "pycharm": {
     "name": "#%%\n"
    }
   },
   "outputs": [],
   "source": [
    "new_df = movies[['id','title','tags']]"
   ]
  },
  {
   "cell_type": "code",
   "execution_count": 24,
   "metadata": {
    "pycharm": {
     "name": "#%%\n"
    }
   },
   "outputs": [
    {
     "name": "stderr",
     "output_type": "stream",
     "text": [
      "C:\\Users\\ch__s\\AppData\\Local\\Temp\\ipykernel_13468\\1413511631.py:1: SettingWithCopyWarning: \n",
      "A value is trying to be set on a copy of a slice from a DataFrame.\n",
      "Try using .loc[row_indexer,col_indexer] = value instead\n",
      "\n",
      "See the caveats in the documentation: https://pandas.pydata.org/pandas-docs/stable/user_guide/indexing.html#returning-a-view-versus-a-copy\n",
      "  new_df['tags']=new_df['tags'].apply(lambda x: \" \".join(x))\n",
      "C:\\Users\\ch__s\\AppData\\Local\\Temp\\ipykernel_13468\\1413511631.py:2: SettingWithCopyWarning: \n",
      "A value is trying to be set on a copy of a slice from a DataFrame.\n",
      "Try using .loc[row_indexer,col_indexer] = value instead\n",
      "\n",
      "See the caveats in the documentation: https://pandas.pydata.org/pandas-docs/stable/user_guide/indexing.html#returning-a-view-versus-a-copy\n",
      "  new_df['tags']=new_df['tags'].apply(lambda x: x.lower())\n"
     ]
    }
   ],
   "source": [
    "new_df['tags']=new_df['tags'].apply(lambda x: \" \".join(x))\n",
    "new_df['tags']=new_df['tags'].apply(lambda x: x.lower())"
   ]
  },
  {
   "cell_type": "code",
   "execution_count": 25,
   "metadata": {
    "pycharm": {
     "name": "#%%\n"
    }
   },
   "outputs": [],
   "source": [
    "# from nltk.stem import PorterStemmer\n",
    "# ps=PorterStemmer()"
   ]
  },
  {
   "cell_type": "code",
   "execution_count": 26,
   "metadata": {
    "pycharm": {
     "name": "#%%\n"
    }
   },
   "outputs": [],
   "source": [
    "# def steam(text):\n",
    "#     y=[]\n",
    "#     for i in text.split():\n",
    "#         y.append (ps.stem(i))\n",
    "#     return \" \".join(y)"
   ]
  },
  {
   "cell_type": "code",
   "execution_count": 27,
   "metadata": {
    "pycharm": {
     "name": "#%%\n"
    }
   },
   "outputs": [],
   "source": [
    "# new_df['tags']=new_df['tags'].apply(steam)"
   ]
  },
  {
   "cell_type": "code",
   "execution_count": 28,
   "metadata": {
    "pycharm": {
     "name": "#%%\n"
    }
   },
   "outputs": [],
   "source": [
    "from sklearn.feature_extraction.text import CountVectorizer\n",
    "CV= CountVectorizer(max_features=8000, stop_words=\"english\")"
   ]
  },
  {
   "cell_type": "code",
   "execution_count": 29,
   "metadata": {
    "pycharm": {
     "name": "#%%\n"
    }
   },
   "outputs": [],
   "source": [
    "vector=CV.fit_transform(new_df['tags']).toarray()"
   ]
  },
  {
   "cell_type": "code",
   "execution_count": 30,
   "metadata": {
    "pycharm": {
     "name": "#%%\n"
    }
   },
   "outputs": [
    {
     "name": "stderr",
     "output_type": "stream",
     "text": [
      "C:\\Users\\ch__s\\anaconda3\\lib\\site-packages\\sklearn\\utils\\deprecation.py:87: FutureWarning: Function get_feature_names is deprecated; get_feature_names is deprecated in 1.0 and will be removed in 1.2. Please use get_feature_names_out instead.\n",
      "  warnings.warn(msg, category=FutureWarning)\n"
     ]
    },
    {
     "data": {
      "text/plain": "'brigade'"
     },
     "execution_count": 30,
     "metadata": {},
     "output_type": "execute_result"
    }
   ],
   "source": [
    "CV.get_feature_names()[1002]"
   ]
  },
  {
   "cell_type": "code",
   "execution_count": 31,
   "metadata": {
    "pycharm": {
     "name": "#%%\n"
    }
   },
   "outputs": [],
   "source": [
    "from sklearn.metrics.pairwise import cosine_similarity\n",
    "similarity=cosine_similarity(vector)"
   ]
  },
  {
   "cell_type": "code",
   "execution_count": 32,
   "metadata": {
    "pycharm": {
     "name": "#%%\n"
    }
   },
   "outputs": [
    {
     "data": {
      "text/plain": "14723"
     },
     "execution_count": 32,
     "metadata": {},
     "output_type": "execute_result"
    }
   ],
   "source": [
    "new_df[new_df['title']=='Avatar'].index[0]"
   ]
  },
  {
   "cell_type": "code",
   "execution_count": 33,
   "metadata": {
    "pycharm": {
     "name": "#%%\n"
    }
   },
   "outputs": [
    {
     "data": {
      "text/plain": "(45629, 3)"
     },
     "execution_count": 33,
     "metadata": {},
     "output_type": "execute_result"
    }
   ],
   "source": [
    "new_df[new_df['title']=='The Dark Knight']['tags'].values\n",
    "new_df.shape\n"
   ]
  },
  {
   "cell_type": "code",
   "execution_count": 34,
   "metadata": {
    "pycharm": {
     "name": "#%%\n"
    }
   },
   "outputs": [
    {
     "data": {
      "text/plain": "[(15453, 0.4407044702604308),\n (3006, 0.4088149087663385),\n (10359, 0.3172206342872577),\n (8386, 0.3044713810352108),\n (43692, 0.2611164839335468)]"
     },
     "execution_count": 34,
     "metadata": {},
     "output_type": "execute_result"
    }
   ],
   "source": [
    "sorted(list(enumerate(similarity[0])), reverse=True, key=lambda x : x[1])[1:6]"
   ]
  },
  {
   "cell_type": "code",
   "execution_count": 35,
   "metadata": {
    "pycharm": {
     "name": "#%%\n"
    }
   },
   "outputs": [],
   "source": [
    "def Recommend_Movies(movie):\n",
    "    movie_index=new_df[new_df['title']==movie].index[0]\n",
    "    distance=similarity[movie_index]\n",
    "    movies_list=sorted(list(enumerate(distance)), reverse=True, key=lambda x : x[1])[1:6]\n",
    "    \n",
    "    for i in movies_list:\n",
    "        print(new_df.iloc[i[0]].title)"
   ]
  },
  {
   "cell_type": "code",
   "execution_count": 36,
   "metadata": {
    "pycharm": {
     "name": "#%%\n"
    }
   },
   "outputs": [
    {
     "name": "stdout",
     "output_type": "stream",
     "text": [
      "Viva Maria!\n",
      "Berkeley Square\n",
      "Crisis\n",
      "Enola Gay and the Atomic Bombing of Japan\n",
      "Gone with the Wind\n"
     ]
    }
   ],
   "source": [
    "Recommend_Movies('Batman Begins')"
   ]
  },
  {
   "cell_type": "code",
   "execution_count": 37,
   "metadata": {
    "pycharm": {
     "name": "#%%\n"
    }
   },
   "outputs": [
    {
     "name": "stdout",
     "output_type": "stream",
     "text": [
      "Mr. Untouchable\n",
      "Act One\n",
      "The Adventures of Mark Twain\n",
      "It's a Dog's Life\n",
      "Possible Loves\n"
     ]
    }
   ],
   "source": [
    "Recommend_Movies(\"Avatar\")"
   ]
  },
  {
   "cell_type": "code",
   "execution_count": 38,
   "metadata": {
    "pycharm": {
     "name": "#%%\n"
    }
   },
   "outputs": [
    {
     "name": "stdout",
     "output_type": "stream",
     "text": [
      "Wife\n",
      "Wife\n",
      "Wife\n",
      "Wife\n",
      "Wife\n"
     ]
    }
   ],
   "source": [
    "Recommend_Movies(\"The Godfather\")"
   ]
  },
  {
   "cell_type": "code",
   "execution_count": 39,
   "metadata": {
    "pycharm": {
     "name": "#%%\n"
    }
   },
   "outputs": [
    {
     "name": "stdout",
     "output_type": "stream",
     "text": [
      "Unstable Fables: Tortoise vs. Hare\n",
      "Immoral Tales\n",
      "The Viking Queen\n",
      "Tale of Tales\n",
      "The Vanquished\n"
     ]
    }
   ],
   "source": [
    "Recommend_Movies(\"Scarface\")"
   ]
  },
  {
   "cell_type": "code",
   "execution_count": 40,
   "metadata": {
    "pycharm": {
     "name": "#%%\n"
    }
   },
   "outputs": [
    {
     "name": "stdout",
     "output_type": "stream",
     "text": [
      "Fear and Desire\n",
      "Yesterday's Enemy\n",
      "War of the Dead\n",
      "Brotherhood of Death\n",
      "5 Dolls for an August Moon\n"
     ]
    }
   ],
   "source": [
    "Recommend_Movies(\"The Hunger Games\")"
   ]
  },
  {
   "cell_type": "code",
   "execution_count": 40,
   "metadata": {
    "pycharm": {
     "name": "#%%\n"
    }
   },
   "outputs": [],
   "source": []
  }
 ],
 "metadata": {
  "kernelspec": {
   "display_name": "Python 3.10.8 64-bit (microsoft store)",
   "language": "python",
   "name": "python3"
  },
  "language_info": {
   "codemirror_mode": {
    "name": "ipython",
    "version": 3
   },
   "file_extension": ".py",
   "mimetype": "text/x-python",
   "name": "python",
   "nbconvert_exporter": "python",
   "pygments_lexer": "ipython3",
   "version": "3.10.8"
  },
  "orig_nbformat": 4,
  "vscode": {
   "interpreter": {
    "hash": "80819c54c7d22b05949ff95365b6ac6ca45458f2e36025379a83c9281eefd092"
   }
  }
 },
 "nbformat": 4,
 "nbformat_minor": 2
}