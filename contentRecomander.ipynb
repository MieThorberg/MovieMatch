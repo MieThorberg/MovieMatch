{
 "cells": [
  {
   "cell_type": "code",
   "execution_count": 11,
   "outputs": [],
   "source": [
    "import numpy as np\n",
    "import pandas as pd\n",
    "import matplotlib.pyplot as plt\n",
    "from ast import literal_eval"
   ],
   "metadata": {
    "collapsed": false,
    "pycharm": {
     "name": "#%%\n"
    }
   }
  },
  {
   "cell_type": "code",
   "execution_count": 16,
   "outputs": [],
   "source": [
    "movies=pd.read_csv(\"data/movies_metadata.csv\")\n",
    "keywords=pd.read_csv('data/keywords.csv')"
   ],
   "metadata": {
    "collapsed": false,
    "pycharm": {
     "name": "#%%\n"
    }
   }
  },
  {
   "cell_type": "code",
   "execution_count": 18,
   "outputs": [
    {
     "data": {
      "text/plain": "       adult                              belongs_to_collection      budget  \\\n0      False  {'id': 10194, 'name': 'Toy Story Collection', ...  30000000.0   \n1      False                                                NaN  65000000.0   \n2      False  {'id': 119050, 'name': 'Grumpy Old Men Collect...         0.0   \n3      False                                                NaN  16000000.0   \n4      False  {'id': 96871, 'name': 'Father of the Bride Col...         0.0   \n...      ...                                                ...         ...   \n45461  False                                                NaN         0.0   \n45462  False                                                NaN         0.0   \n45463  False                                                NaN         0.0   \n45464  False                                                NaN         0.0   \n45465  False                                                NaN         0.0   \n\n                                                  genres  \\\n0      [{'id': 16, 'name': 'Animation'}, {'id': 35, '...   \n1      [{'id': 12, 'name': 'Adventure'}, {'id': 14, '...   \n2      [{'id': 10749, 'name': 'Romance'}, {'id': 35, ...   \n3      [{'id': 35, 'name': 'Comedy'}, {'id': 18, 'nam...   \n4                         [{'id': 35, 'name': 'Comedy'}]   \n...                                                  ...   \n45461  [{'id': 18, 'name': 'Drama'}, {'id': 10751, 'n...   \n45462                      [{'id': 18, 'name': 'Drama'}]   \n45463  [{'id': 28, 'name': 'Action'}, {'id': 18, 'nam...   \n45464                                                 []   \n45465                                                 []   \n\n                                   homepage        id    imdb_id  \\\n0      http://toystory.disney.com/toy-story     862.0  tt0114709   \n1                                       NaN    8844.0  tt0113497   \n2                                       NaN   15602.0  tt0113228   \n3                                       NaN   31357.0  tt0114885   \n4                                       NaN   11862.0  tt0113041   \n...                                     ...       ...        ...   \n45461  http://www.imdb.com/title/tt6209470/  439050.0  tt6209470   \n45462                                   NaN  111109.0  tt2028550   \n45463                                   NaN   67758.0  tt0303758   \n45464                                   NaN  227506.0  tt0008536   \n45465                                   NaN  461257.0  tt6980792   \n\n      original_language               original_title  \\\n0                    en                    Toy Story   \n1                    en                      Jumanji   \n2                    en             Grumpier Old Men   \n3                    en            Waiting to Exhale   \n4                    en  Father of the Bride Part II   \n...                 ...                          ...   \n45461                fa                      رگ خواب   \n45462                tl          Siglo ng Pagluluwal   \n45463                en                     Betrayal   \n45464                en          Satana likuyushchiy   \n45465                en                     Queerama   \n\n                                                overview  ...  release_date  \\\n0      Led by Woody, Andy's toys live happily in his ...  ...    30/10/1995   \n1      When siblings Judy and Peter discover an encha...  ...    15/12/1995   \n2      A family wedding reignites the ancient feud be...  ...    22/12/1995   \n3      Cheated on, mistreated and stepped on, the wom...  ...    22/12/1995   \n4      Just when George Banks has recovered from his ...  ...    10/02/1995   \n...                                                  ...  ...           ...   \n45461        Rising and falling between a man and woman.  ...           NaN   \n45462  An artist struggles to finish his work while a...  ...    17/11/2011   \n45463  When one of her hits goes wrong, a professiona...  ...    01/08/2003   \n45464  In a small town live two brothers, one a minis...  ...    21/10/1917   \n45465  50 years after decriminalisation of homosexual...  ...    09/06/2017   \n\n           revenue runtime                                   spoken_languages  \\\n0      373554033.0    81.0           [{'iso_639_1': 'en', 'name': 'English'}]   \n1      262797249.0   104.0  [{'iso_639_1': 'en', 'name': 'English'}, {'iso...   \n2              0.0   101.0           [{'iso_639_1': 'en', 'name': 'English'}]   \n3       81452156.0   127.0           [{'iso_639_1': 'en', 'name': 'English'}]   \n4       76578911.0   106.0           [{'iso_639_1': 'en', 'name': 'English'}]   \n...            ...     ...                                                ...   \n45461          0.0    90.0             [{'iso_639_1': 'fa', 'name': 'فارسی'}]   \n45462          0.0   360.0                  [{'iso_639_1': 'tl', 'name': ''}]   \n45463          0.0    90.0           [{'iso_639_1': 'en', 'name': 'English'}]   \n45464          0.0    87.0                                                 []   \n45465          0.0    75.0           [{'iso_639_1': 'en', 'name': 'English'}]   \n\n         status                                            tagline  \\\n0      Released                                                NaN   \n1      Released          Roll the dice and unleash the excitement!   \n2      Released  Still Yelling. Still Fighting. Still Ready for...   \n3      Released  Friends are the people who let you be yourself...   \n4      Released  Just When His World Is Back To Normal... He's ...   \n...         ...                                                ...   \n45461  Released         Rising and falling between a man and woman   \n45462  Released                                                NaN   \n45463  Released                             A deadly game of wits.   \n45464  Released                                                NaN   \n45465  Released                                                NaN   \n\n                             title  video vote_average vote_count  \n0                        Toy Story  False          7.7     5415.0  \n1                          Jumanji  False          6.9     2413.0  \n2                 Grumpier Old Men  False          6.5       92.0  \n3                Waiting to Exhale  False          6.1       34.0  \n4      Father of the Bride Part II  False          5.7      173.0  \n...                            ...    ...          ...        ...  \n45461                       Subdue  False          4.0        1.0  \n45462          Century of Birthing  False          9.0        3.0  \n45463                     Betrayal  False          3.8        6.0  \n45464             Satan Triumphant  False          0.0        0.0  \n45465                     Queerama  False          0.0        0.0  \n\n[45466 rows x 24 columns]",
      "text/html": "<div>\n<style scoped>\n    .dataframe tbody tr th:only-of-type {\n        vertical-align: middle;\n    }\n\n    .dataframe tbody tr th {\n        vertical-align: top;\n    }\n\n    .dataframe thead th {\n        text-align: right;\n    }\n</style>\n<table border=\"1\" class=\"dataframe\">\n  <thead>\n    <tr style=\"text-align: right;\">\n      <th></th>\n      <th>adult</th>\n      <th>belongs_to_collection</th>\n      <th>budget</th>\n      <th>genres</th>\n      <th>homepage</th>\n      <th>id</th>\n      <th>imdb_id</th>\n      <th>original_language</th>\n      <th>original_title</th>\n      <th>overview</th>\n      <th>...</th>\n      <th>release_date</th>\n      <th>revenue</th>\n      <th>runtime</th>\n      <th>spoken_languages</th>\n      <th>status</th>\n      <th>tagline</th>\n      <th>title</th>\n      <th>video</th>\n      <th>vote_average</th>\n      <th>vote_count</th>\n    </tr>\n  </thead>\n  <tbody>\n    <tr>\n      <th>0</th>\n      <td>False</td>\n      <td>{'id': 10194, 'name': 'Toy Story Collection', ...</td>\n      <td>30000000.0</td>\n      <td>[{'id': 16, 'name': 'Animation'}, {'id': 35, '...</td>\n      <td>http://toystory.disney.com/toy-story</td>\n      <td>862.0</td>\n      <td>tt0114709</td>\n      <td>en</td>\n      <td>Toy Story</td>\n      <td>Led by Woody, Andy's toys live happily in his ...</td>\n      <td>...</td>\n      <td>30/10/1995</td>\n      <td>373554033.0</td>\n      <td>81.0</td>\n      <td>[{'iso_639_1': 'en', 'name': 'English'}]</td>\n      <td>Released</td>\n      <td>NaN</td>\n      <td>Toy Story</td>\n      <td>False</td>\n      <td>7.7</td>\n      <td>5415.0</td>\n    </tr>\n    <tr>\n      <th>1</th>\n      <td>False</td>\n      <td>NaN</td>\n      <td>65000000.0</td>\n      <td>[{'id': 12, 'name': 'Adventure'}, {'id': 14, '...</td>\n      <td>NaN</td>\n      <td>8844.0</td>\n      <td>tt0113497</td>\n      <td>en</td>\n      <td>Jumanji</td>\n      <td>When siblings Judy and Peter discover an encha...</td>\n      <td>...</td>\n      <td>15/12/1995</td>\n      <td>262797249.0</td>\n      <td>104.0</td>\n      <td>[{'iso_639_1': 'en', 'name': 'English'}, {'iso...</td>\n      <td>Released</td>\n      <td>Roll the dice and unleash the excitement!</td>\n      <td>Jumanji</td>\n      <td>False</td>\n      <td>6.9</td>\n      <td>2413.0</td>\n    </tr>\n    <tr>\n      <th>2</th>\n      <td>False</td>\n      <td>{'id': 119050, 'name': 'Grumpy Old Men Collect...</td>\n      <td>0.0</td>\n      <td>[{'id': 10749, 'name': 'Romance'}, {'id': 35, ...</td>\n      <td>NaN</td>\n      <td>15602.0</td>\n      <td>tt0113228</td>\n      <td>en</td>\n      <td>Grumpier Old Men</td>\n      <td>A family wedding reignites the ancient feud be...</td>\n      <td>...</td>\n      <td>22/12/1995</td>\n      <td>0.0</td>\n      <td>101.0</td>\n      <td>[{'iso_639_1': 'en', 'name': 'English'}]</td>\n      <td>Released</td>\n      <td>Still Yelling. Still Fighting. Still Ready for...</td>\n      <td>Grumpier Old Men</td>\n      <td>False</td>\n      <td>6.5</td>\n      <td>92.0</td>\n    </tr>\n    <tr>\n      <th>3</th>\n      <td>False</td>\n      <td>NaN</td>\n      <td>16000000.0</td>\n      <td>[{'id': 35, 'name': 'Comedy'}, {'id': 18, 'nam...</td>\n      <td>NaN</td>\n      <td>31357.0</td>\n      <td>tt0114885</td>\n      <td>en</td>\n      <td>Waiting to Exhale</td>\n      <td>Cheated on, mistreated and stepped on, the wom...</td>\n      <td>...</td>\n      <td>22/12/1995</td>\n      <td>81452156.0</td>\n      <td>127.0</td>\n      <td>[{'iso_639_1': 'en', 'name': 'English'}]</td>\n      <td>Released</td>\n      <td>Friends are the people who let you be yourself...</td>\n      <td>Waiting to Exhale</td>\n      <td>False</td>\n      <td>6.1</td>\n      <td>34.0</td>\n    </tr>\n    <tr>\n      <th>4</th>\n      <td>False</td>\n      <td>{'id': 96871, 'name': 'Father of the Bride Col...</td>\n      <td>0.0</td>\n      <td>[{'id': 35, 'name': 'Comedy'}]</td>\n      <td>NaN</td>\n      <td>11862.0</td>\n      <td>tt0113041</td>\n      <td>en</td>\n      <td>Father of the Bride Part II</td>\n      <td>Just when George Banks has recovered from his ...</td>\n      <td>...</td>\n      <td>10/02/1995</td>\n      <td>76578911.0</td>\n      <td>106.0</td>\n      <td>[{'iso_639_1': 'en', 'name': 'English'}]</td>\n      <td>Released</td>\n      <td>Just When His World Is Back To Normal... He's ...</td>\n      <td>Father of the Bride Part II</td>\n      <td>False</td>\n      <td>5.7</td>\n      <td>173.0</td>\n    </tr>\n    <tr>\n      <th>...</th>\n      <td>...</td>\n      <td>...</td>\n      <td>...</td>\n      <td>...</td>\n      <td>...</td>\n      <td>...</td>\n      <td>...</td>\n      <td>...</td>\n      <td>...</td>\n      <td>...</td>\n      <td>...</td>\n      <td>...</td>\n      <td>...</td>\n      <td>...</td>\n      <td>...</td>\n      <td>...</td>\n      <td>...</td>\n      <td>...</td>\n      <td>...</td>\n      <td>...</td>\n      <td>...</td>\n    </tr>\n    <tr>\n      <th>45461</th>\n      <td>False</td>\n      <td>NaN</td>\n      <td>0.0</td>\n      <td>[{'id': 18, 'name': 'Drama'}, {'id': 10751, 'n...</td>\n      <td>http://www.imdb.com/title/tt6209470/</td>\n      <td>439050.0</td>\n      <td>tt6209470</td>\n      <td>fa</td>\n      <td>رگ خواب</td>\n      <td>Rising and falling between a man and woman.</td>\n      <td>...</td>\n      <td>NaN</td>\n      <td>0.0</td>\n      <td>90.0</td>\n      <td>[{'iso_639_1': 'fa', 'name': 'فارسی'}]</td>\n      <td>Released</td>\n      <td>Rising and falling between a man and woman</td>\n      <td>Subdue</td>\n      <td>False</td>\n      <td>4.0</td>\n      <td>1.0</td>\n    </tr>\n    <tr>\n      <th>45462</th>\n      <td>False</td>\n      <td>NaN</td>\n      <td>0.0</td>\n      <td>[{'id': 18, 'name': 'Drama'}]</td>\n      <td>NaN</td>\n      <td>111109.0</td>\n      <td>tt2028550</td>\n      <td>tl</td>\n      <td>Siglo ng Pagluluwal</td>\n      <td>An artist struggles to finish his work while a...</td>\n      <td>...</td>\n      <td>17/11/2011</td>\n      <td>0.0</td>\n      <td>360.0</td>\n      <td>[{'iso_639_1': 'tl', 'name': ''}]</td>\n      <td>Released</td>\n      <td>NaN</td>\n      <td>Century of Birthing</td>\n      <td>False</td>\n      <td>9.0</td>\n      <td>3.0</td>\n    </tr>\n    <tr>\n      <th>45463</th>\n      <td>False</td>\n      <td>NaN</td>\n      <td>0.0</td>\n      <td>[{'id': 28, 'name': 'Action'}, {'id': 18, 'nam...</td>\n      <td>NaN</td>\n      <td>67758.0</td>\n      <td>tt0303758</td>\n      <td>en</td>\n      <td>Betrayal</td>\n      <td>When one of her hits goes wrong, a professiona...</td>\n      <td>...</td>\n      <td>01/08/2003</td>\n      <td>0.0</td>\n      <td>90.0</td>\n      <td>[{'iso_639_1': 'en', 'name': 'English'}]</td>\n      <td>Released</td>\n      <td>A deadly game of wits.</td>\n      <td>Betrayal</td>\n      <td>False</td>\n      <td>3.8</td>\n      <td>6.0</td>\n    </tr>\n    <tr>\n      <th>45464</th>\n      <td>False</td>\n      <td>NaN</td>\n      <td>0.0</td>\n      <td>[]</td>\n      <td>NaN</td>\n      <td>227506.0</td>\n      <td>tt0008536</td>\n      <td>en</td>\n      <td>Satana likuyushchiy</td>\n      <td>In a small town live two brothers, one a minis...</td>\n      <td>...</td>\n      <td>21/10/1917</td>\n      <td>0.0</td>\n      <td>87.0</td>\n      <td>[]</td>\n      <td>Released</td>\n      <td>NaN</td>\n      <td>Satan Triumphant</td>\n      <td>False</td>\n      <td>0.0</td>\n      <td>0.0</td>\n    </tr>\n    <tr>\n      <th>45465</th>\n      <td>False</td>\n      <td>NaN</td>\n      <td>0.0</td>\n      <td>[]</td>\n      <td>NaN</td>\n      <td>461257.0</td>\n      <td>tt6980792</td>\n      <td>en</td>\n      <td>Queerama</td>\n      <td>50 years after decriminalisation of homosexual...</td>\n      <td>...</td>\n      <td>09/06/2017</td>\n      <td>0.0</td>\n      <td>75.0</td>\n      <td>[{'iso_639_1': 'en', 'name': 'English'}]</td>\n      <td>Released</td>\n      <td>NaN</td>\n      <td>Queerama</td>\n      <td>False</td>\n      <td>0.0</td>\n      <td>0.0</td>\n    </tr>\n  </tbody>\n</table>\n<p>45466 rows × 24 columns</p>\n</div>"
     },
     "execution_count": 18,
     "metadata": {},
     "output_type": "execute_result"
    }
   ],
   "source": [
    "movies"
   ],
   "metadata": {
    "collapsed": false,
    "pycharm": {
     "name": "#%%\n"
    }
   }
  },
  {
   "cell_type": "code",
   "execution_count": 19,
   "outputs": [
    {
     "data": {
      "text/plain": "                             genres        id    imdb_id  \\\n0       [Animation, Comedy, Family]     862.0  tt0114709   \n1      [Adventure, Fantasy, Family]    8844.0  tt0113497   \n2                 [Romance, Comedy]   15602.0  tt0113228   \n3          [Comedy, Drama, Romance]   31357.0  tt0114885   \n4                          [Comedy]   11862.0  tt0113041   \n...                             ...       ...        ...   \n45457             [Mystery, Horror]  390959.0  tt0265736   \n45458                      [Horror]  289923.0  tt0252966   \n45459             [Science Fiction]  222848.0  tt0112613   \n45460      [Drama, Action, Romance]   30840.0  tt0102797   \n45463     [Action, Drama, Thriller]   67758.0  tt0303758   \n\n                             title  \\\n0                        Toy Story   \n1                          Jumanji   \n2                 Grumpier Old Men   \n3                Waiting to Exhale   \n4      Father of the Bride Part II   \n...                            ...   \n45457    Shadow of the Blair Witch   \n45458          The Burkittsville 7   \n45459              Caged Heat 3000   \n45460                   Robin Hood   \n45463                     Betrayal   \n\n                                                overview  \\\n0      Led by Woody, Andy's toys live happily in his ...   \n1      When siblings Judy and Peter discover an encha...   \n2      A family wedding reignites the ancient feud be...   \n3      Cheated on, mistreated and stepped on, the wom...   \n4      Just when George Banks has recovered from his ...   \n...                                                  ...   \n45457  In this true-crime documentary, we delve into ...   \n45458  A film archivist revisits the story of Rustin ...   \n45459  It's the year 3000 AD. The world's most danger...   \n45460  Yet another version of the classic epic, with ...   \n45463  When one of her hits goes wrong, a professiona...   \n\n                                                 tagline  \\\n0                                                    NaN   \n1              Roll the dice and unleash the excitement!   \n2      Still Yelling. Still Fighting. Still Ready for...   \n3      Friends are the people who let you be yourself...   \n4      Just When His World Is Back To Normal... He's ...   \n...                                                  ...   \n45457                                                NaN   \n45458  Do you know what happened 50 years before \"The...   \n45459                                                NaN   \n45460                                                NaN   \n45463                             A deadly game of wits.   \n\n                                    production_companies  \\\n0         [{'name': 'Pixar Animation Studios', 'id': 3}]   \n1      [{'name': 'TriStar Pictures', 'id': 559}, {'na...   \n2      [{'name': 'Warner Bros.', 'id': 6194}, {'name'...   \n3      [{'name': 'Twentieth Century Fox Film Corporat...   \n4      [{'name': 'Sandollar Productions', 'id': 5842}...   \n...                                                  ...   \n45457                                                 []   \n45458  [{'name': 'Neptune Salad Entertainment', 'id':...   \n45459    [{'name': 'Concorde-New Horizons', 'id': 4688}]   \n45460  [{'name': 'Westdeutscher Rundfunk (WDR)', 'id'...   \n45463  [{'name': 'American World Pictures', 'id': 6165}]   \n\n                                    production_countries  \n0      [{'iso_3166_1': 'US', 'name': 'United States o...  \n1      [{'iso_3166_1': 'US', 'name': 'United States o...  \n2      [{'iso_3166_1': 'US', 'name': 'United States o...  \n3      [{'iso_3166_1': 'US', 'name': 'United States o...  \n4      [{'iso_3166_1': 'US', 'name': 'United States o...  \n...                                                  ...  \n45457                                                 []  \n45458  [{'iso_3166_1': 'US', 'name': 'United States o...  \n45459  [{'iso_3166_1': 'US', 'name': 'United States o...  \n45460  [{'iso_3166_1': 'CA', 'name': 'Canada'}, {'iso...  \n45463  [{'iso_3166_1': 'US', 'name': 'United States o...  \n\n[30584 rows x 8 columns]",
      "text/html": "<div>\n<style scoped>\n    .dataframe tbody tr th:only-of-type {\n        vertical-align: middle;\n    }\n\n    .dataframe tbody tr th {\n        vertical-align: top;\n    }\n\n    .dataframe thead th {\n        text-align: right;\n    }\n</style>\n<table border=\"1\" class=\"dataframe\">\n  <thead>\n    <tr style=\"text-align: right;\">\n      <th></th>\n      <th>genres</th>\n      <th>id</th>\n      <th>imdb_id</th>\n      <th>title</th>\n      <th>overview</th>\n      <th>tagline</th>\n      <th>production_companies</th>\n      <th>production_countries</th>\n    </tr>\n  </thead>\n  <tbody>\n    <tr>\n      <th>0</th>\n      <td>[Animation, Comedy, Family]</td>\n      <td>862.0</td>\n      <td>tt0114709</td>\n      <td>Toy Story</td>\n      <td>Led by Woody, Andy's toys live happily in his ...</td>\n      <td>NaN</td>\n      <td>[{'name': 'Pixar Animation Studios', 'id': 3}]</td>\n      <td>[{'iso_3166_1': 'US', 'name': 'United States o...</td>\n    </tr>\n    <tr>\n      <th>1</th>\n      <td>[Adventure, Fantasy, Family]</td>\n      <td>8844.0</td>\n      <td>tt0113497</td>\n      <td>Jumanji</td>\n      <td>When siblings Judy and Peter discover an encha...</td>\n      <td>Roll the dice and unleash the excitement!</td>\n      <td>[{'name': 'TriStar Pictures', 'id': 559}, {'na...</td>\n      <td>[{'iso_3166_1': 'US', 'name': 'United States o...</td>\n    </tr>\n    <tr>\n      <th>2</th>\n      <td>[Romance, Comedy]</td>\n      <td>15602.0</td>\n      <td>tt0113228</td>\n      <td>Grumpier Old Men</td>\n      <td>A family wedding reignites the ancient feud be...</td>\n      <td>Still Yelling. Still Fighting. Still Ready for...</td>\n      <td>[{'name': 'Warner Bros.', 'id': 6194}, {'name'...</td>\n      <td>[{'iso_3166_1': 'US', 'name': 'United States o...</td>\n    </tr>\n    <tr>\n      <th>3</th>\n      <td>[Comedy, Drama, Romance]</td>\n      <td>31357.0</td>\n      <td>tt0114885</td>\n      <td>Waiting to Exhale</td>\n      <td>Cheated on, mistreated and stepped on, the wom...</td>\n      <td>Friends are the people who let you be yourself...</td>\n      <td>[{'name': 'Twentieth Century Fox Film Corporat...</td>\n      <td>[{'iso_3166_1': 'US', 'name': 'United States o...</td>\n    </tr>\n    <tr>\n      <th>4</th>\n      <td>[Comedy]</td>\n      <td>11862.0</td>\n      <td>tt0113041</td>\n      <td>Father of the Bride Part II</td>\n      <td>Just when George Banks has recovered from his ...</td>\n      <td>Just When His World Is Back To Normal... He's ...</td>\n      <td>[{'name': 'Sandollar Productions', 'id': 5842}...</td>\n      <td>[{'iso_3166_1': 'US', 'name': 'United States o...</td>\n    </tr>\n    <tr>\n      <th>...</th>\n      <td>...</td>\n      <td>...</td>\n      <td>...</td>\n      <td>...</td>\n      <td>...</td>\n      <td>...</td>\n      <td>...</td>\n      <td>...</td>\n    </tr>\n    <tr>\n      <th>45457</th>\n      <td>[Mystery, Horror]</td>\n      <td>390959.0</td>\n      <td>tt0265736</td>\n      <td>Shadow of the Blair Witch</td>\n      <td>In this true-crime documentary, we delve into ...</td>\n      <td>NaN</td>\n      <td>[]</td>\n      <td>[]</td>\n    </tr>\n    <tr>\n      <th>45458</th>\n      <td>[Horror]</td>\n      <td>289923.0</td>\n      <td>tt0252966</td>\n      <td>The Burkittsville 7</td>\n      <td>A film archivist revisits the story of Rustin ...</td>\n      <td>Do you know what happened 50 years before \"The...</td>\n      <td>[{'name': 'Neptune Salad Entertainment', 'id':...</td>\n      <td>[{'iso_3166_1': 'US', 'name': 'United States o...</td>\n    </tr>\n    <tr>\n      <th>45459</th>\n      <td>[Science Fiction]</td>\n      <td>222848.0</td>\n      <td>tt0112613</td>\n      <td>Caged Heat 3000</td>\n      <td>It's the year 3000 AD. The world's most danger...</td>\n      <td>NaN</td>\n      <td>[{'name': 'Concorde-New Horizons', 'id': 4688}]</td>\n      <td>[{'iso_3166_1': 'US', 'name': 'United States o...</td>\n    </tr>\n    <tr>\n      <th>45460</th>\n      <td>[Drama, Action, Romance]</td>\n      <td>30840.0</td>\n      <td>tt0102797</td>\n      <td>Robin Hood</td>\n      <td>Yet another version of the classic epic, with ...</td>\n      <td>NaN</td>\n      <td>[{'name': 'Westdeutscher Rundfunk (WDR)', 'id'...</td>\n      <td>[{'iso_3166_1': 'CA', 'name': 'Canada'}, {'iso...</td>\n    </tr>\n    <tr>\n      <th>45463</th>\n      <td>[Action, Drama, Thriller]</td>\n      <td>67758.0</td>\n      <td>tt0303758</td>\n      <td>Betrayal</td>\n      <td>When one of her hits goes wrong, a professiona...</td>\n      <td>A deadly game of wits.</td>\n      <td>[{'name': 'American World Pictures', 'id': 6165}]</td>\n      <td>[{'iso_3166_1': 'US', 'name': 'United States o...</td>\n    </tr>\n  </tbody>\n</table>\n<p>30584 rows × 8 columns</p>\n</div>"
     },
     "execution_count": 19,
     "metadata": {},
     "output_type": "execute_result"
    }
   ],
   "source": [
    "movies = movies[movies['original_language']=='en']\n",
    "# 'release_date', 'runtime',\n",
    "movies = movies[['genres','id', 'imdb_id','title', 'overview', 'tagline', 'production_companies', 'production_countries']]\n",
    "movies = movies[(movies['genres'] != \"[]\")]\n",
    "movies['genres'] = movies['genres'].fillna('[]').apply(literal_eval).apply(lambda x: [i['name'] for i in x] if isinstance(x, list) else [])\n",
    "movies = movies[(movies.T != 0).all()]\n",
    "movies"
   ],
   "metadata": {
    "collapsed": false,
    "pycharm": {
     "name": "#%%\n"
    }
   }
  },
  {
   "cell_type": "code",
   "execution_count": 20,
   "outputs": [
    {
     "data": {
      "text/plain": "           id                                           keywords\n0         862  [{'id': 931, 'name': 'jealousy'}, {'id': 4290,...\n1        8844  [{'id': 10090, 'name': 'board game'}, {'id': 1...\n2       15602  [{'id': 1495, 'name': 'fishing'}, {'id': 12392...\n3       31357  [{'id': 818, 'name': 'based on novel'}, {'id':...\n4       11862  [{'id': 1009, 'name': 'baby'}, {'id': 1599, 'n...\n...       ...                                                ...\n46414  439050             [{'id': 10703, 'name': 'tragic love'}]\n46415  111109  [{'id': 2679, 'name': 'artist'}, {'id': 14531,...\n46416   67758                                                 []\n46417  227506                                                 []\n46418  461257                                                 []\n\n[46419 rows x 2 columns]",
      "text/html": "<div>\n<style scoped>\n    .dataframe tbody tr th:only-of-type {\n        vertical-align: middle;\n    }\n\n    .dataframe tbody tr th {\n        vertical-align: top;\n    }\n\n    .dataframe thead th {\n        text-align: right;\n    }\n</style>\n<table border=\"1\" class=\"dataframe\">\n  <thead>\n    <tr style=\"text-align: right;\">\n      <th></th>\n      <th>id</th>\n      <th>keywords</th>\n    </tr>\n  </thead>\n  <tbody>\n    <tr>\n      <th>0</th>\n      <td>862</td>\n      <td>[{'id': 931, 'name': 'jealousy'}, {'id': 4290,...</td>\n    </tr>\n    <tr>\n      <th>1</th>\n      <td>8844</td>\n      <td>[{'id': 10090, 'name': 'board game'}, {'id': 1...</td>\n    </tr>\n    <tr>\n      <th>2</th>\n      <td>15602</td>\n      <td>[{'id': 1495, 'name': 'fishing'}, {'id': 12392...</td>\n    </tr>\n    <tr>\n      <th>3</th>\n      <td>31357</td>\n      <td>[{'id': 818, 'name': 'based on novel'}, {'id':...</td>\n    </tr>\n    <tr>\n      <th>4</th>\n      <td>11862</td>\n      <td>[{'id': 1009, 'name': 'baby'}, {'id': 1599, 'n...</td>\n    </tr>\n    <tr>\n      <th>...</th>\n      <td>...</td>\n      <td>...</td>\n    </tr>\n    <tr>\n      <th>46414</th>\n      <td>439050</td>\n      <td>[{'id': 10703, 'name': 'tragic love'}]</td>\n    </tr>\n    <tr>\n      <th>46415</th>\n      <td>111109</td>\n      <td>[{'id': 2679, 'name': 'artist'}, {'id': 14531,...</td>\n    </tr>\n    <tr>\n      <th>46416</th>\n      <td>67758</td>\n      <td>[]</td>\n    </tr>\n    <tr>\n      <th>46417</th>\n      <td>227506</td>\n      <td>[]</td>\n    </tr>\n    <tr>\n      <th>46418</th>\n      <td>461257</td>\n      <td>[]</td>\n    </tr>\n  </tbody>\n</table>\n<p>46419 rows × 2 columns</p>\n</div>"
     },
     "execution_count": 20,
     "metadata": {},
     "output_type": "execute_result"
    }
   ],
   "source": [
    "keywords"
   ],
   "metadata": {
    "collapsed": false,
    "pycharm": {
     "name": "#%%\n"
    }
   }
  },
  {
   "cell_type": "code",
   "execution_count": 21,
   "outputs": [],
   "source": [
    "movies=movies.merge(keywords,on='id')"
   ],
   "metadata": {
    "collapsed": false,
    "pycharm": {
     "name": "#%%\n"
    }
   }
  },
  {
   "cell_type": "code",
   "execution_count": 22,
   "outputs": [
    {
     "data": {
      "text/plain": "                        genres     id    imdb_id      title  \\\n0  [Animation, Comedy, Family]  862.0  tt0114709  Toy Story   \n\n                                            overview tagline  \\\n0  Led by Woody, Andy's toys live happily in his ...     NaN   \n\n                             production_companies  \\\n0  [{'name': 'Pixar Animation Studios', 'id': 3}]   \n\n                                production_countries  \\\n0  [{'iso_3166_1': 'US', 'name': 'United States o...   \n\n                                            keywords  \n0  [{'id': 931, 'name': 'jealousy'}, {'id': 4290,...  ",
      "text/html": "<div>\n<style scoped>\n    .dataframe tbody tr th:only-of-type {\n        vertical-align: middle;\n    }\n\n    .dataframe tbody tr th {\n        vertical-align: top;\n    }\n\n    .dataframe thead th {\n        text-align: right;\n    }\n</style>\n<table border=\"1\" class=\"dataframe\">\n  <thead>\n    <tr style=\"text-align: right;\">\n      <th></th>\n      <th>genres</th>\n      <th>id</th>\n      <th>imdb_id</th>\n      <th>title</th>\n      <th>overview</th>\n      <th>tagline</th>\n      <th>production_companies</th>\n      <th>production_countries</th>\n      <th>keywords</th>\n    </tr>\n  </thead>\n  <tbody>\n    <tr>\n      <th>0</th>\n      <td>[Animation, Comedy, Family]</td>\n      <td>862.0</td>\n      <td>tt0114709</td>\n      <td>Toy Story</td>\n      <td>Led by Woody, Andy's toys live happily in his ...</td>\n      <td>NaN</td>\n      <td>[{'name': 'Pixar Animation Studios', 'id': 3}]</td>\n      <td>[{'iso_3166_1': 'US', 'name': 'United States o...</td>\n      <td>[{'id': 931, 'name': 'jealousy'}, {'id': 4290,...</td>\n    </tr>\n  </tbody>\n</table>\n</div>"
     },
     "execution_count": 22,
     "metadata": {},
     "output_type": "execute_result"
    }
   ],
   "source": [
    "movies.head(1)"
   ],
   "metadata": {
    "collapsed": false,
    "pycharm": {
     "name": "#%%\n"
    }
   }
  },
  {
   "cell_type": "code",
   "execution_count": 23,
   "outputs": [],
   "source": [
    "movies=movies[['id','title','genres',\"keywords\",'overview','tagline','production_companies', 'production_countries']]"
   ],
   "metadata": {
    "collapsed": false,
    "pycharm": {
     "name": "#%%\n"
    }
   }
  },
  {
   "cell_type": "code",
   "execution_count": 24,
   "outputs": [
    {
     "data": {
      "text/plain": "id                          0\ntitle                       3\ngenres                      0\nkeywords                    0\noverview                   50\ntagline                 13182\nproduction_companies        3\nproduction_countries        3\ndtype: int64"
     },
     "execution_count": 24,
     "metadata": {},
     "output_type": "execute_result"
    }
   ],
   "source": [
    "movies.isnull().sum()"
   ],
   "metadata": {
    "collapsed": false,
    "pycharm": {
     "name": "#%%\n"
    }
   }
  },
  {
   "cell_type": "code",
   "execution_count": 25,
   "outputs": [],
   "source": [
    "movies.dropna(inplace=True)"
   ],
   "metadata": {
    "collapsed": false,
    "pycharm": {
     "name": "#%%\n"
    }
   }
  },
  {
   "cell_type": "code",
   "execution_count": 26,
   "outputs": [
    {
     "data": {
      "text/plain": "id                      0\ntitle                   0\ngenres                  0\nkeywords                0\noverview                0\ntagline                 0\nproduction_companies    0\nproduction_countries    0\ndtype: int64"
     },
     "execution_count": 26,
     "metadata": {},
     "output_type": "execute_result"
    }
   ],
   "source": [
    "movies.isnull().sum()"
   ],
   "metadata": {
    "collapsed": false,
    "pycharm": {
     "name": "#%%\n"
    }
   }
  },
  {
   "cell_type": "code",
   "execution_count": 27,
   "outputs": [
    {
     "ename": "TypeError",
     "evalue": "unhashable type: 'list'",
     "output_type": "error",
     "traceback": [
      "\u001B[1;31m---------------------------------------------------------------------------\u001B[0m",
      "\u001B[1;31mTypeError\u001B[0m                                 Traceback (most recent call last)",
      "Cell \u001B[1;32mIn [27], line 1\u001B[0m\n\u001B[1;32m----> 1\u001B[0m \u001B[43mmovies\u001B[49m\u001B[38;5;241;43m.\u001B[39;49m\u001B[43mduplicated\u001B[49m\u001B[43m(\u001B[49m\u001B[43m)\u001B[49m\u001B[38;5;241m.\u001B[39msum()\n",
      "File \u001B[1;32m~\\Desktop\\python\\lib\\site-packages\\pandas\\core\\frame.py:6803\u001B[0m, in \u001B[0;36mDataFrame.duplicated\u001B[1;34m(self, subset, keep)\u001B[0m\n\u001B[0;32m   6801\u001B[0m \u001B[38;5;28;01melse\u001B[39;00m:\n\u001B[0;32m   6802\u001B[0m     vals \u001B[38;5;241m=\u001B[39m (col\u001B[38;5;241m.\u001B[39mvalues \u001B[38;5;28;01mfor\u001B[39;00m name, col \u001B[38;5;129;01min\u001B[39;00m \u001B[38;5;28mself\u001B[39m\u001B[38;5;241m.\u001B[39mitems() \u001B[38;5;28;01mif\u001B[39;00m name \u001B[38;5;129;01min\u001B[39;00m subset)\n\u001B[1;32m-> 6803\u001B[0m     labels, shape \u001B[38;5;241m=\u001B[39m \u001B[38;5;28mmap\u001B[39m(\u001B[38;5;28mlist\u001B[39m, \u001B[38;5;28;43mzip\u001B[39;49m\u001B[43m(\u001B[49m\u001B[38;5;241;43m*\u001B[39;49m\u001B[38;5;28;43mmap\u001B[39;49m\u001B[43m(\u001B[49m\u001B[43mf\u001B[49m\u001B[43m,\u001B[49m\u001B[43m \u001B[49m\u001B[43mvals\u001B[49m\u001B[43m)\u001B[49m\u001B[43m)\u001B[49m)\n\u001B[0;32m   6805\u001B[0m     ids \u001B[38;5;241m=\u001B[39m get_group_index(\n\u001B[0;32m   6806\u001B[0m         labels,\n\u001B[0;32m   6807\u001B[0m         \u001B[38;5;66;03m# error: Argument 1 to \"tuple\" has incompatible type \"List[_T]\";\u001B[39;00m\n\u001B[1;32m   (...)\u001B[0m\n\u001B[0;32m   6811\u001B[0m         xnull\u001B[38;5;241m=\u001B[39m\u001B[38;5;28;01mFalse\u001B[39;00m,\n\u001B[0;32m   6812\u001B[0m     )\n\u001B[0;32m   6813\u001B[0m     result \u001B[38;5;241m=\u001B[39m \u001B[38;5;28mself\u001B[39m\u001B[38;5;241m.\u001B[39m_constructor_sliced(duplicated(ids, keep), index\u001B[38;5;241m=\u001B[39m\u001B[38;5;28mself\u001B[39m\u001B[38;5;241m.\u001B[39mindex)\n",
      "File \u001B[1;32m~\\Desktop\\python\\lib\\site-packages\\pandas\\core\\frame.py:6771\u001B[0m, in \u001B[0;36mDataFrame.duplicated.<locals>.f\u001B[1;34m(vals)\u001B[0m\n\u001B[0;32m   6770\u001B[0m \u001B[38;5;28;01mdef\u001B[39;00m \u001B[38;5;21mf\u001B[39m(vals) \u001B[38;5;241m-\u001B[39m\u001B[38;5;241m>\u001B[39m \u001B[38;5;28mtuple\u001B[39m[np\u001B[38;5;241m.\u001B[39mndarray, \u001B[38;5;28mint\u001B[39m]:\n\u001B[1;32m-> 6771\u001B[0m     labels, shape \u001B[38;5;241m=\u001B[39m \u001B[43malgorithms\u001B[49m\u001B[38;5;241;43m.\u001B[39;49m\u001B[43mfactorize\u001B[49m\u001B[43m(\u001B[49m\u001B[43mvals\u001B[49m\u001B[43m,\u001B[49m\u001B[43m \u001B[49m\u001B[43msize_hint\u001B[49m\u001B[38;5;241;43m=\u001B[39;49m\u001B[38;5;28;43mlen\u001B[39;49m\u001B[43m(\u001B[49m\u001B[38;5;28;43mself\u001B[39;49m\u001B[43m)\u001B[49m\u001B[43m)\u001B[49m\n\u001B[0;32m   6772\u001B[0m     \u001B[38;5;28;01mreturn\u001B[39;00m labels\u001B[38;5;241m.\u001B[39mastype(\u001B[38;5;124m\"\u001B[39m\u001B[38;5;124mi8\u001B[39m\u001B[38;5;124m\"\u001B[39m, copy\u001B[38;5;241m=\u001B[39m\u001B[38;5;28;01mFalse\u001B[39;00m), \u001B[38;5;28mlen\u001B[39m(shape)\n",
      "File \u001B[1;32m~\\Desktop\\python\\lib\\site-packages\\pandas\\core\\algorithms.py:818\u001B[0m, in \u001B[0;36mfactorize\u001B[1;34m(values, sort, na_sentinel, use_na_sentinel, size_hint)\u001B[0m\n\u001B[0;32m    815\u001B[0m             \u001B[38;5;66;03m# Don't modify (potentially user-provided) array\u001B[39;00m\n\u001B[0;32m    816\u001B[0m             values \u001B[38;5;241m=\u001B[39m np\u001B[38;5;241m.\u001B[39mwhere(null_mask, na_value, values)\n\u001B[1;32m--> 818\u001B[0m     codes, uniques \u001B[38;5;241m=\u001B[39m \u001B[43mfactorize_array\u001B[49m\u001B[43m(\u001B[49m\n\u001B[0;32m    819\u001B[0m \u001B[43m        \u001B[49m\u001B[43mvalues\u001B[49m\u001B[43m,\u001B[49m\n\u001B[0;32m    820\u001B[0m \u001B[43m        \u001B[49m\u001B[43mna_sentinel\u001B[49m\u001B[38;5;241;43m=\u001B[39;49m\u001B[43mna_sentinel_arg\u001B[49m\u001B[43m,\u001B[49m\n\u001B[0;32m    821\u001B[0m \u001B[43m        \u001B[49m\u001B[43msize_hint\u001B[49m\u001B[38;5;241;43m=\u001B[39;49m\u001B[43msize_hint\u001B[49m\u001B[43m,\u001B[49m\n\u001B[0;32m    822\u001B[0m \u001B[43m    \u001B[49m\u001B[43m)\u001B[49m\n\u001B[0;32m    824\u001B[0m \u001B[38;5;28;01mif\u001B[39;00m sort \u001B[38;5;129;01mand\u001B[39;00m \u001B[38;5;28mlen\u001B[39m(uniques) \u001B[38;5;241m>\u001B[39m \u001B[38;5;241m0\u001B[39m:\n\u001B[0;32m    825\u001B[0m     \u001B[38;5;28;01mif\u001B[39;00m na_sentinel \u001B[38;5;129;01mis\u001B[39;00m \u001B[38;5;28;01mNone\u001B[39;00m:\n\u001B[0;32m    826\u001B[0m         \u001B[38;5;66;03m# TODO: Can remove when na_sentinel=na_sentinel as in TODO above\u001B[39;00m\n",
      "File \u001B[1;32m~\\Desktop\\python\\lib\\site-packages\\pandas\\core\\algorithms.py:574\u001B[0m, in \u001B[0;36mfactorize_array\u001B[1;34m(values, na_sentinel, size_hint, na_value, mask)\u001B[0m\n\u001B[0;32m    571\u001B[0m hash_klass, values \u001B[38;5;241m=\u001B[39m _get_hashtable_algo(values)\n\u001B[0;32m    573\u001B[0m table \u001B[38;5;241m=\u001B[39m hash_klass(size_hint \u001B[38;5;129;01mor\u001B[39;00m \u001B[38;5;28mlen\u001B[39m(values))\n\u001B[1;32m--> 574\u001B[0m uniques, codes \u001B[38;5;241m=\u001B[39m \u001B[43mtable\u001B[49m\u001B[38;5;241;43m.\u001B[39;49m\u001B[43mfactorize\u001B[49m\u001B[43m(\u001B[49m\n\u001B[0;32m    575\u001B[0m \u001B[43m    \u001B[49m\u001B[43mvalues\u001B[49m\u001B[43m,\u001B[49m\n\u001B[0;32m    576\u001B[0m \u001B[43m    \u001B[49m\u001B[43mna_sentinel\u001B[49m\u001B[38;5;241;43m=\u001B[39;49m\u001B[43mna_sentinel\u001B[49m\u001B[43m,\u001B[49m\n\u001B[0;32m    577\u001B[0m \u001B[43m    \u001B[49m\u001B[43mna_value\u001B[49m\u001B[38;5;241;43m=\u001B[39;49m\u001B[43mna_value\u001B[49m\u001B[43m,\u001B[49m\n\u001B[0;32m    578\u001B[0m \u001B[43m    \u001B[49m\u001B[43mmask\u001B[49m\u001B[38;5;241;43m=\u001B[39;49m\u001B[43mmask\u001B[49m\u001B[43m,\u001B[49m\n\u001B[0;32m    579\u001B[0m \u001B[43m    \u001B[49m\u001B[43mignore_na\u001B[49m\u001B[38;5;241;43m=\u001B[39;49m\u001B[43mignore_na\u001B[49m\u001B[43m,\u001B[49m\n\u001B[0;32m    580\u001B[0m \u001B[43m\u001B[49m\u001B[43m)\u001B[49m\n\u001B[0;32m    582\u001B[0m \u001B[38;5;66;03m# re-cast e.g. i8->dt64/td64, uint8->bool\u001B[39;00m\n\u001B[0;32m    583\u001B[0m uniques \u001B[38;5;241m=\u001B[39m _reconstruct_data(uniques, original\u001B[38;5;241m.\u001B[39mdtype, original)\n",
      "File \u001B[1;32mpandas\\_libs\\hashtable_class_helper.pxi:5943\u001B[0m, in \u001B[0;36mpandas._libs.hashtable.PyObjectHashTable.factorize\u001B[1;34m()\u001B[0m\n",
      "File \u001B[1;32mpandas\\_libs\\hashtable_class_helper.pxi:5857\u001B[0m, in \u001B[0;36mpandas._libs.hashtable.PyObjectHashTable._unique\u001B[1;34m()\u001B[0m\n",
      "\u001B[1;31mTypeError\u001B[0m: unhashable type: 'list'"
     ]
    }
   ],
   "source": [
    "movies.duplicated().sum()"
   ],
   "metadata": {
    "collapsed": false,
    "pycharm": {
     "name": "#%%\n"
    }
   }
  },
  {
   "cell_type": "code",
   "execution_count": 28,
   "outputs": [
    {
     "data": {
      "text/plain": "<function ast.literal_eval(node_or_string)>"
     },
     "execution_count": 28,
     "metadata": {},
     "output_type": "execute_result"
    }
   ],
   "source": [
    "import ast\n",
    "ast.literal_eval"
   ],
   "metadata": {
    "collapsed": false,
    "pycharm": {
     "name": "#%%\n"
    }
   }
  },
  {
   "cell_type": "code",
   "execution_count": 29,
   "outputs": [],
   "source": [
    "def convert(obj):\n",
    "    L =[]\n",
    "    for i in ast.literal_eval(obj):\n",
    "        L.append(i['name'])\n",
    "    return L"
   ],
   "metadata": {
    "collapsed": false,
    "pycharm": {
     "name": "#%%\n"
    }
   }
  },
  {
   "cell_type": "code",
   "execution_count": 30,
   "outputs": [
    {
     "ename": "ValueError",
     "evalue": "malformed node or string: ['Adventure', 'Fantasy', 'Family']",
     "output_type": "error",
     "traceback": [
      "\u001B[1;31m---------------------------------------------------------------------------\u001B[0m",
      "\u001B[1;31mValueError\u001B[0m                                Traceback (most recent call last)",
      "Cell \u001B[1;32mIn [30], line 1\u001B[0m\n\u001B[1;32m----> 1\u001B[0m movies[\u001B[38;5;124m'\u001B[39m\u001B[38;5;124mgenres\u001B[39m\u001B[38;5;124m'\u001B[39m] \u001B[38;5;241m=\u001B[39m \u001B[43mmovies\u001B[49m\u001B[43m[\u001B[49m\u001B[38;5;124;43m'\u001B[39;49m\u001B[38;5;124;43mgenres\u001B[39;49m\u001B[38;5;124;43m'\u001B[39;49m\u001B[43m]\u001B[49m\u001B[38;5;241;43m.\u001B[39;49m\u001B[43mapply\u001B[49m\u001B[43m(\u001B[49m\u001B[43mconvert\u001B[49m\u001B[43m)\u001B[49m\n\u001B[0;32m      2\u001B[0m movies\u001B[38;5;241m.\u001B[39mhead()\n",
      "File \u001B[1;32m~\\Desktop\\python\\lib\\site-packages\\pandas\\core\\series.py:4771\u001B[0m, in \u001B[0;36mSeries.apply\u001B[1;34m(self, func, convert_dtype, args, **kwargs)\u001B[0m\n\u001B[0;32m   4661\u001B[0m \u001B[38;5;28;01mdef\u001B[39;00m \u001B[38;5;21mapply\u001B[39m(\n\u001B[0;32m   4662\u001B[0m     \u001B[38;5;28mself\u001B[39m,\n\u001B[0;32m   4663\u001B[0m     func: AggFuncType,\n\u001B[1;32m   (...)\u001B[0m\n\u001B[0;32m   4666\u001B[0m     \u001B[38;5;241m*\u001B[39m\u001B[38;5;241m*\u001B[39mkwargs,\n\u001B[0;32m   4667\u001B[0m ) \u001B[38;5;241m-\u001B[39m\u001B[38;5;241m>\u001B[39m DataFrame \u001B[38;5;241m|\u001B[39m Series:\n\u001B[0;32m   4668\u001B[0m     \u001B[38;5;124;03m\"\"\"\u001B[39;00m\n\u001B[0;32m   4669\u001B[0m \u001B[38;5;124;03m    Invoke function on values of Series.\u001B[39;00m\n\u001B[0;32m   4670\u001B[0m \n\u001B[1;32m   (...)\u001B[0m\n\u001B[0;32m   4769\u001B[0m \u001B[38;5;124;03m    dtype: float64\u001B[39;00m\n\u001B[0;32m   4770\u001B[0m \u001B[38;5;124;03m    \"\"\"\u001B[39;00m\n\u001B[1;32m-> 4771\u001B[0m     \u001B[38;5;28;01mreturn\u001B[39;00m \u001B[43mSeriesApply\u001B[49m\u001B[43m(\u001B[49m\u001B[38;5;28;43mself\u001B[39;49m\u001B[43m,\u001B[49m\u001B[43m \u001B[49m\u001B[43mfunc\u001B[49m\u001B[43m,\u001B[49m\u001B[43m \u001B[49m\u001B[43mconvert_dtype\u001B[49m\u001B[43m,\u001B[49m\u001B[43m \u001B[49m\u001B[43margs\u001B[49m\u001B[43m,\u001B[49m\u001B[43m \u001B[49m\u001B[43mkwargs\u001B[49m\u001B[43m)\u001B[49m\u001B[38;5;241;43m.\u001B[39;49m\u001B[43mapply\u001B[49m\u001B[43m(\u001B[49m\u001B[43m)\u001B[49m\n",
      "File \u001B[1;32m~\\Desktop\\python\\lib\\site-packages\\pandas\\core\\apply.py:1105\u001B[0m, in \u001B[0;36mSeriesApply.apply\u001B[1;34m(self)\u001B[0m\n\u001B[0;32m   1102\u001B[0m     \u001B[38;5;28;01mreturn\u001B[39;00m \u001B[38;5;28mself\u001B[39m\u001B[38;5;241m.\u001B[39mapply_str()\n\u001B[0;32m   1104\u001B[0m \u001B[38;5;66;03m# self.f is Callable\u001B[39;00m\n\u001B[1;32m-> 1105\u001B[0m \u001B[38;5;28;01mreturn\u001B[39;00m \u001B[38;5;28;43mself\u001B[39;49m\u001B[38;5;241;43m.\u001B[39;49m\u001B[43mapply_standard\u001B[49m\u001B[43m(\u001B[49m\u001B[43m)\u001B[49m\n",
      "File \u001B[1;32m~\\Desktop\\python\\lib\\site-packages\\pandas\\core\\apply.py:1156\u001B[0m, in \u001B[0;36mSeriesApply.apply_standard\u001B[1;34m(self)\u001B[0m\n\u001B[0;32m   1154\u001B[0m     \u001B[38;5;28;01melse\u001B[39;00m:\n\u001B[0;32m   1155\u001B[0m         values \u001B[38;5;241m=\u001B[39m obj\u001B[38;5;241m.\u001B[39mastype(\u001B[38;5;28mobject\u001B[39m)\u001B[38;5;241m.\u001B[39m_values\n\u001B[1;32m-> 1156\u001B[0m         mapped \u001B[38;5;241m=\u001B[39m \u001B[43mlib\u001B[49m\u001B[38;5;241;43m.\u001B[39;49m\u001B[43mmap_infer\u001B[49m\u001B[43m(\u001B[49m\n\u001B[0;32m   1157\u001B[0m \u001B[43m            \u001B[49m\u001B[43mvalues\u001B[49m\u001B[43m,\u001B[49m\n\u001B[0;32m   1158\u001B[0m \u001B[43m            \u001B[49m\u001B[43mf\u001B[49m\u001B[43m,\u001B[49m\n\u001B[0;32m   1159\u001B[0m \u001B[43m            \u001B[49m\u001B[43mconvert\u001B[49m\u001B[38;5;241;43m=\u001B[39;49m\u001B[38;5;28;43mself\u001B[39;49m\u001B[38;5;241;43m.\u001B[39;49m\u001B[43mconvert_dtype\u001B[49m\u001B[43m,\u001B[49m\n\u001B[0;32m   1160\u001B[0m \u001B[43m        \u001B[49m\u001B[43m)\u001B[49m\n\u001B[0;32m   1162\u001B[0m \u001B[38;5;28;01mif\u001B[39;00m \u001B[38;5;28mlen\u001B[39m(mapped) \u001B[38;5;129;01mand\u001B[39;00m \u001B[38;5;28misinstance\u001B[39m(mapped[\u001B[38;5;241m0\u001B[39m], ABCSeries):\n\u001B[0;32m   1163\u001B[0m     \u001B[38;5;66;03m# GH#43986 Need to do list(mapped) in order to get treated as nested\u001B[39;00m\n\u001B[0;32m   1164\u001B[0m     \u001B[38;5;66;03m#  See also GH#25959 regarding EA support\u001B[39;00m\n\u001B[0;32m   1165\u001B[0m     \u001B[38;5;28;01mreturn\u001B[39;00m obj\u001B[38;5;241m.\u001B[39m_constructor_expanddim(\u001B[38;5;28mlist\u001B[39m(mapped), index\u001B[38;5;241m=\u001B[39mobj\u001B[38;5;241m.\u001B[39mindex)\n",
      "File \u001B[1;32m~\\Desktop\\python\\lib\\site-packages\\pandas\\_libs\\lib.pyx:2918\u001B[0m, in \u001B[0;36mpandas._libs.lib.map_infer\u001B[1;34m()\u001B[0m\n",
      "Cell \u001B[1;32mIn [29], line 3\u001B[0m, in \u001B[0;36mconvert\u001B[1;34m(obj)\u001B[0m\n\u001B[0;32m      1\u001B[0m \u001B[38;5;28;01mdef\u001B[39;00m \u001B[38;5;21mconvert\u001B[39m(obj):\n\u001B[0;32m      2\u001B[0m     L \u001B[38;5;241m=\u001B[39m[]\n\u001B[1;32m----> 3\u001B[0m     \u001B[38;5;28;01mfor\u001B[39;00m i \u001B[38;5;129;01min\u001B[39;00m \u001B[43mast\u001B[49m\u001B[38;5;241;43m.\u001B[39;49m\u001B[43mliteral_eval\u001B[49m\u001B[43m(\u001B[49m\u001B[43mobj\u001B[49m\u001B[43m)\u001B[49m:\n\u001B[0;32m      4\u001B[0m         L\u001B[38;5;241m.\u001B[39mappend(i[\u001B[38;5;124m'\u001B[39m\u001B[38;5;124mname\u001B[39m\u001B[38;5;124m'\u001B[39m])\n\u001B[0;32m      5\u001B[0m     \u001B[38;5;28;01mreturn\u001B[39;00m L\n",
      "File \u001B[1;32m~\\AppData\\Local\\Programs\\Python\\Python39\\lib\\ast.py:105\u001B[0m, in \u001B[0;36mliteral_eval\u001B[1;34m(node_or_string)\u001B[0m\n\u001B[0;32m    103\u001B[0m                 \u001B[38;5;28;01mreturn\u001B[39;00m left \u001B[38;5;241m-\u001B[39m right\n\u001B[0;32m    104\u001B[0m     \u001B[38;5;28;01mreturn\u001B[39;00m _convert_signed_num(node)\n\u001B[1;32m--> 105\u001B[0m \u001B[38;5;28;01mreturn\u001B[39;00m \u001B[43m_convert\u001B[49m\u001B[43m(\u001B[49m\u001B[43mnode_or_string\u001B[49m\u001B[43m)\u001B[49m\n",
      "File \u001B[1;32m~\\AppData\\Local\\Programs\\Python\\Python39\\lib\\ast.py:104\u001B[0m, in \u001B[0;36mliteral_eval.<locals>._convert\u001B[1;34m(node)\u001B[0m\n\u001B[0;32m    102\u001B[0m         \u001B[38;5;28;01melse\u001B[39;00m:\n\u001B[0;32m    103\u001B[0m             \u001B[38;5;28;01mreturn\u001B[39;00m left \u001B[38;5;241m-\u001B[39m right\n\u001B[1;32m--> 104\u001B[0m \u001B[38;5;28;01mreturn\u001B[39;00m \u001B[43m_convert_signed_num\u001B[49m\u001B[43m(\u001B[49m\u001B[43mnode\u001B[49m\u001B[43m)\u001B[49m\n",
      "File \u001B[1;32m~\\AppData\\Local\\Programs\\Python\\Python39\\lib\\ast.py:78\u001B[0m, in \u001B[0;36mliteral_eval.<locals>._convert_signed_num\u001B[1;34m(node)\u001B[0m\n\u001B[0;32m     76\u001B[0m     \u001B[38;5;28;01melse\u001B[39;00m:\n\u001B[0;32m     77\u001B[0m         \u001B[38;5;28;01mreturn\u001B[39;00m \u001B[38;5;241m-\u001B[39m operand\n\u001B[1;32m---> 78\u001B[0m \u001B[38;5;28;01mreturn\u001B[39;00m \u001B[43m_convert_num\u001B[49m\u001B[43m(\u001B[49m\u001B[43mnode\u001B[49m\u001B[43m)\u001B[49m\n",
      "File \u001B[1;32m~\\AppData\\Local\\Programs\\Python\\Python39\\lib\\ast.py:69\u001B[0m, in \u001B[0;36mliteral_eval.<locals>._convert_num\u001B[1;34m(node)\u001B[0m\n\u001B[0;32m     67\u001B[0m \u001B[38;5;28;01mdef\u001B[39;00m \u001B[38;5;21m_convert_num\u001B[39m(node):\n\u001B[0;32m     68\u001B[0m     \u001B[38;5;28;01mif\u001B[39;00m \u001B[38;5;129;01mnot\u001B[39;00m \u001B[38;5;28misinstance\u001B[39m(node, Constant) \u001B[38;5;129;01mor\u001B[39;00m \u001B[38;5;28mtype\u001B[39m(node\u001B[38;5;241m.\u001B[39mvalue) \u001B[38;5;129;01mnot\u001B[39;00m \u001B[38;5;129;01min\u001B[39;00m (\u001B[38;5;28mint\u001B[39m, \u001B[38;5;28mfloat\u001B[39m, \u001B[38;5;28mcomplex\u001B[39m):\n\u001B[1;32m---> 69\u001B[0m         \u001B[43m_raise_malformed_node\u001B[49m\u001B[43m(\u001B[49m\u001B[43mnode\u001B[49m\u001B[43m)\u001B[49m\n\u001B[0;32m     70\u001B[0m     \u001B[38;5;28;01mreturn\u001B[39;00m node\u001B[38;5;241m.\u001B[39mvalue\n",
      "File \u001B[1;32m~\\AppData\\Local\\Programs\\Python\\Python39\\lib\\ast.py:66\u001B[0m, in \u001B[0;36mliteral_eval.<locals>._raise_malformed_node\u001B[1;34m(node)\u001B[0m\n\u001B[0;32m     65\u001B[0m \u001B[38;5;28;01mdef\u001B[39;00m \u001B[38;5;21m_raise_malformed_node\u001B[39m(node):\n\u001B[1;32m---> 66\u001B[0m     \u001B[38;5;28;01mraise\u001B[39;00m \u001B[38;5;167;01mValueError\u001B[39;00m(\u001B[38;5;124mf\u001B[39m\u001B[38;5;124m'\u001B[39m\u001B[38;5;124mmalformed node or string: \u001B[39m\u001B[38;5;132;01m{\u001B[39;00mnode\u001B[38;5;132;01m!r}\u001B[39;00m\u001B[38;5;124m'\u001B[39m)\n",
      "\u001B[1;31mValueError\u001B[0m: malformed node or string: ['Adventure', 'Fantasy', 'Family']"
     ]
    }
   ],
   "source": [
    "# movies['genres'] = movies['genres'].apply(convert)\n",
    "movies.head()"
   ],
   "metadata": {
    "collapsed": false,
    "pycharm": {
     "name": "#%%\n"
    }
   }
  },
  {
   "cell_type": "code",
   "execution_count": 31,
   "outputs": [],
   "source": [
    "movies['keywords']=movies['keywords'].apply(convert)"
   ],
   "metadata": {
    "collapsed": false,
    "pycharm": {
     "name": "#%%\n"
    }
   }
  },
  {
   "cell_type": "code",
   "execution_count": null,
   "outputs": [],
   "source": [
    "def convert3(obj):\n",
    "    L =[]\n",
    "    counter=0\n",
    "    for i in ast.literal_eval(obj):\n",
    "        if counter !=3:\n",
    "            L.append(i['name'])\n",
    "            counter+=1\n",
    "    return L"
   ],
   "metadata": {
    "collapsed": false,
    "pycharm": {
     "name": "#%%\n"
    }
   }
  },
  {
   "cell_type": "code",
   "execution_count": null,
   "outputs": [],
   "source": [
    "# movies['Cast']=movies['Cast'].apply(convert3)"
   ],
   "metadata": {
    "collapsed": false,
    "pycharm": {
     "name": "#%%\n"
    }
   }
  },
  {
   "cell_type": "code",
   "execution_count": null,
   "outputs": [],
   "source": [
    "def fetch_directoer(obj):\n",
    "    L =[]\n",
    "    for i in ast.literal_eval(obj):\n",
    "        if i['job']==\"Director\":\n",
    "            L.append(i['name'])\n",
    "            break\n",
    "    return L"
   ],
   "metadata": {
    "collapsed": false,
    "pycharm": {
     "name": "#%%\n"
    }
   }
  },
  {
   "cell_type": "code",
   "execution_count": null,
   "outputs": [],
   "source": [
    "# movies['Crew']=movies['Crew'].apply(fetch_directoer)"
   ],
   "metadata": {
    "collapsed": false,
    "pycharm": {
     "name": "#%%\n"
    }
   }
  },
  {
   "cell_type": "code",
   "execution_count": 32,
   "outputs": [],
   "source": [
    "movies['overview']=movies['overview'].apply(lambda x: x.split())"
   ],
   "metadata": {
    "collapsed": false,
    "pycharm": {
     "name": "#%%\n"
    }
   }
  },
  {
   "cell_type": "code",
   "execution_count": 33,
   "outputs": [],
   "source": [
    "movies['genres']=movies['genres'].apply(lambda x : [i.replace(\" \",\"\")for i in x])\n",
    "movies['keywords']=movies['keywords'].apply(lambda x : [i.replace(\" \",\"\")for i in x])\n",
    "# movies['Cast']=movies['Cast'].apply(lambda x : [i.replace(\" \",\"\")for i in x])\n",
    "# movies['Crew']=movies['Crew'].apply(lambda x : [i.replace(\" \",\"\")for i in x])"
   ],
   "metadata": {
    "collapsed": false,
    "pycharm": {
     "name": "#%%\n"
    }
   }
  },
  {
   "cell_type": "code",
   "execution_count": 35,
   "outputs": [],
   "source": [
    "movies['tags']= movies['genres'] + movies['keywords'] + movies['overview']"
   ],
   "metadata": {
    "collapsed": false,
    "pycharm": {
     "name": "#%%\n"
    }
   }
  },
  {
   "cell_type": "code",
   "execution_count": 36,
   "outputs": [
    {
     "data": {
      "text/plain": "        id             title                        genres  \\\n1   8844.0           Jumanji  [Adventure, Fantasy, Family]   \n2  15602.0  Grumpier Old Men             [Romance, Comedy]   \n\n                                            keywords  \\\n1  [boardgame, disappearance, basedonchildren'sbo...   \n2  [fishing, bestfriend, duringcreditsstinger, ol...   \n\n                                            overview  \\\n1  [When, siblings, Judy, and, Peter, discover, a...   \n2  [A, family, wedding, reignites, the, ancient, ...   \n\n                                             tagline  \\\n1          Roll the dice and unleash the excitement!   \n2  Still Yelling. Still Fighting. Still Ready for...   \n\n                                production_companies  \\\n1  [{'name': 'TriStar Pictures', 'id': 559}, {'na...   \n2  [{'name': 'Warner Bros.', 'id': 6194}, {'name'...   \n\n                                production_countries  \\\n1  [{'iso_3166_1': 'US', 'name': 'United States o...   \n2  [{'iso_3166_1': 'US', 'name': 'United States o...   \n\n                                                tags  \n1  [Adventure, Fantasy, Family, boardgame, disapp...  \n2  [Romance, Comedy, fishing, bestfriend, duringc...  ",
      "text/html": "<div>\n<style scoped>\n    .dataframe tbody tr th:only-of-type {\n        vertical-align: middle;\n    }\n\n    .dataframe tbody tr th {\n        vertical-align: top;\n    }\n\n    .dataframe thead th {\n        text-align: right;\n    }\n</style>\n<table border=\"1\" class=\"dataframe\">\n  <thead>\n    <tr style=\"text-align: right;\">\n      <th></th>\n      <th>id</th>\n      <th>title</th>\n      <th>genres</th>\n      <th>keywords</th>\n      <th>overview</th>\n      <th>tagline</th>\n      <th>production_companies</th>\n      <th>production_countries</th>\n      <th>tags</th>\n    </tr>\n  </thead>\n  <tbody>\n    <tr>\n      <th>1</th>\n      <td>8844.0</td>\n      <td>Jumanji</td>\n      <td>[Adventure, Fantasy, Family]</td>\n      <td>[boardgame, disappearance, basedonchildren'sbo...</td>\n      <td>[When, siblings, Judy, and, Peter, discover, a...</td>\n      <td>Roll the dice and unleash the excitement!</td>\n      <td>[{'name': 'TriStar Pictures', 'id': 559}, {'na...</td>\n      <td>[{'iso_3166_1': 'US', 'name': 'United States o...</td>\n      <td>[Adventure, Fantasy, Family, boardgame, disapp...</td>\n    </tr>\n    <tr>\n      <th>2</th>\n      <td>15602.0</td>\n      <td>Grumpier Old Men</td>\n      <td>[Romance, Comedy]</td>\n      <td>[fishing, bestfriend, duringcreditsstinger, ol...</td>\n      <td>[A, family, wedding, reignites, the, ancient, ...</td>\n      <td>Still Yelling. Still Fighting. Still Ready for...</td>\n      <td>[{'name': 'Warner Bros.', 'id': 6194}, {'name'...</td>\n      <td>[{'iso_3166_1': 'US', 'name': 'United States o...</td>\n      <td>[Romance, Comedy, fishing, bestfriend, duringc...</td>\n    </tr>\n  </tbody>\n</table>\n</div>"
     },
     "execution_count": 36,
     "metadata": {},
     "output_type": "execute_result"
    }
   ],
   "source": [
    "movies.head(2)"
   ],
   "metadata": {
    "collapsed": false,
    "pycharm": {
     "name": "#%%\n"
    }
   }
  },
  {
   "cell_type": "code",
   "execution_count": 37,
   "outputs": [],
   "source": [
    "new_df = movies[['id','title','tags']]"
   ],
   "metadata": {
    "collapsed": false,
    "pycharm": {
     "name": "#%%\n"
    }
   }
  },
  {
   "cell_type": "code",
   "execution_count": 38,
   "outputs": [
    {
     "name": "stderr",
     "output_type": "stream",
     "text": [
      "C:\\Users\\miemt\\AppData\\Local\\Temp\\ipykernel_7376\\1413511631.py:1: SettingWithCopyWarning: \n",
      "A value is trying to be set on a copy of a slice from a DataFrame.\n",
      "Try using .loc[row_indexer,col_indexer] = value instead\n",
      "\n",
      "See the caveats in the documentation: https://pandas.pydata.org/pandas-docs/stable/user_guide/indexing.html#returning-a-view-versus-a-copy\n",
      "  new_df['tags']=new_df['tags'].apply(lambda x: \" \".join(x))\n",
      "C:\\Users\\miemt\\AppData\\Local\\Temp\\ipykernel_7376\\1413511631.py:2: SettingWithCopyWarning: \n",
      "A value is trying to be set on a copy of a slice from a DataFrame.\n",
      "Try using .loc[row_indexer,col_indexer] = value instead\n",
      "\n",
      "See the caveats in the documentation: https://pandas.pydata.org/pandas-docs/stable/user_guide/indexing.html#returning-a-view-versus-a-copy\n",
      "  new_df['tags']=new_df['tags'].apply(lambda x: x.lower())\n"
     ]
    }
   ],
   "source": [
    "new_df['tags']=new_df['tags'].apply(lambda x: \" \".join(x))\n",
    "new_df['tags']=new_df['tags'].apply(lambda x: x.lower())"
   ],
   "metadata": {
    "collapsed": false,
    "pycharm": {
     "name": "#%%\n"
    }
   }
  },
  {
   "cell_type": "code",
   "execution_count": null,
   "outputs": [],
   "source": [
    "# from nltk.stem import PorterStemmer\n",
    "# ps=PorterStemmer()"
   ],
   "metadata": {
    "collapsed": false,
    "pycharm": {
     "name": "#%%\n"
    }
   }
  },
  {
   "cell_type": "code",
   "execution_count": null,
   "outputs": [],
   "source": [
    "# def steam(text):\n",
    "#     y=[]\n",
    "#     for i in text.split():\n",
    "#         y.append (ps.stem(i))\n",
    "#     return \" \".join(y)"
   ],
   "metadata": {
    "collapsed": false,
    "pycharm": {
     "name": "#%%\n"
    }
   }
  },
  {
   "cell_type": "code",
   "execution_count": null,
   "outputs": [],
   "source": [
    "# new_df['tags']=new_df['tags'].apply(steam)"
   ],
   "metadata": {
    "collapsed": false,
    "pycharm": {
     "name": "#%%\n"
    }
   }
  },
  {
   "cell_type": "code",
   "execution_count": 39,
   "outputs": [],
   "source": [
    "from sklearn.feature_extraction.text import CountVectorizer\n",
    "CV= CountVectorizer(max_features=8000, stop_words=\"english\")"
   ],
   "metadata": {
    "collapsed": false,
    "pycharm": {
     "name": "#%%\n"
    }
   }
  },
  {
   "cell_type": "code",
   "execution_count": 40,
   "outputs": [],
   "source": [
    "vector=CV.fit_transform(new_df['tags']).toarray()"
   ],
   "metadata": {
    "collapsed": false,
    "pycharm": {
     "name": "#%%\n"
    }
   }
  },
  {
   "cell_type": "code",
   "execution_count": 41,
   "outputs": [
    {
     "name": "stderr",
     "output_type": "stream",
     "text": [
      "C:\\Users\\miemt\\Desktop\\python\\lib\\site-packages\\sklearn\\utils\\deprecation.py:87: FutureWarning: Function get_feature_names is deprecated; get_feature_names is deprecated in 1.0 and will be removed in 1.2. Please use get_feature_names_out instead.\n",
      "  warnings.warn(msg, category=FutureWarning)\n"
     ]
    },
    {
     "data": {
      "text/plain": "'broadway'"
     },
     "execution_count": 41,
     "metadata": {},
     "output_type": "execute_result"
    }
   ],
   "source": [
    "CV.get_feature_names()[1002]"
   ],
   "metadata": {
    "collapsed": false,
    "pycharm": {
     "name": "#%%\n"
    }
   }
  },
  {
   "cell_type": "code",
   "execution_count": 42,
   "outputs": [],
   "source": [
    "from sklearn.metrics.pairwise import cosine_similarity\n",
    "similarity=cosine_similarity(vector)"
   ],
   "metadata": {
    "collapsed": false,
    "pycharm": {
     "name": "#%%\n"
    }
   }
  },
  {
   "cell_type": "code",
   "execution_count": 43,
   "outputs": [
    {
     "data": {
      "text/plain": "11614"
     },
     "execution_count": 43,
     "metadata": {},
     "output_type": "execute_result"
    }
   ],
   "source": [
    "new_df[new_df['title']=='Avatar'].index[0]"
   ],
   "metadata": {
    "collapsed": false,
    "pycharm": {
     "name": "#%%\n"
    }
   }
  },
  {
   "cell_type": "code",
   "execution_count": 44,
   "outputs": [
    {
     "data": {
      "text/plain": "[(6065, 0.2801659073402629),\n (2749, 0.2677264489518961),\n (16752, 0.2524149167425064),\n (4228, 0.24846467329894406),\n (10413, 0.2449979787750126)]"
     },
     "execution_count": 44,
     "metadata": {},
     "output_type": "execute_result"
    }
   ],
   "source": [
    "sorted(list(enumerate(similarity[0])), reverse=True, key=lambda x : x[1])[1:6]"
   ],
   "metadata": {
    "collapsed": false,
    "pycharm": {
     "name": "#%%\n"
    }
   }
  },
  {
   "cell_type": "code",
   "execution_count": 45,
   "outputs": [],
   "source": [
    "def Recommend_Movies(movie):\n",
    "    movie_index=new_df[new_df['title']==movie].index[0]\n",
    "    distance=similarity[movie_index]\n",
    "    movies_list=sorted(list(enumerate(distance)), reverse=True, key=lambda x : x[1])[1:6]\n",
    "    \n",
    "    for i in movies_list:\n",
    "        print(new_df.iloc[i[0]].title)"
   ],
   "metadata": {
    "collapsed": false,
    "pycharm": {
     "name": "#%%\n"
    }
   }
  },
  {
   "cell_type": "code",
   "execution_count": 46,
   "outputs": [
    {
     "name": "stdout",
     "output_type": "stream",
     "text": [
      "Land of the Dead\n",
      "Warm Bodies\n",
      "Bong of the Dead\n",
      "Bad Milo\n",
      "Turbo Kid\n"
     ]
    }
   ],
   "source": [
    "Recommend_Movies('Batman Begins')"
   ],
   "metadata": {
    "collapsed": false,
    "pycharm": {
     "name": "#%%\n"
    }
   }
  },
  {
   "cell_type": "code",
   "execution_count": 47,
   "outputs": [
    {
     "name": "stdout",
     "output_type": "stream",
     "text": [
      "On Any Sunday\n",
      "Road\n",
      "Capital C\n",
      "Capital C\n",
      "Google Me\n"
     ]
    }
   ],
   "source": [
    "Recommend_Movies(\"Avatar\")"
   ],
   "metadata": {
    "collapsed": false,
    "pycharm": {
     "name": "#%%\n"
    }
   }
  },
  {
   "cell_type": "code",
   "execution_count": 48,
   "outputs": [
    {
     "name": "stdout",
     "output_type": "stream",
     "text": [
      "Sabrina\n",
      "Mr. & Mrs. Smith\n",
      "David and Bathsheba\n",
      "The Desperados\n",
      "I'm Not Jesus Mommy\n"
     ]
    }
   ],
   "source": [
    "Recommend_Movies(\"The Godfather\")"
   ],
   "metadata": {
    "collapsed": false,
    "pycharm": {
     "name": "#%%\n"
    }
   }
  },
  {
   "cell_type": "code",
   "execution_count": 49,
   "outputs": [
    {
     "name": "stdout",
     "output_type": "stream",
     "text": [
      "Jett Jackson: The Movie\n",
      "The Revenge of Frankenstein\n",
      "Night of the Lepus\n",
      "Dr. Jekyll and Mr. Hyde\n",
      "Arachnoquake\n"
     ]
    }
   ],
   "source": [
    "Recommend_Movies(\"Scarface\")"
   ],
   "metadata": {
    "collapsed": false,
    "pycharm": {
     "name": "#%%\n"
    }
   }
  },
  {
   "cell_type": "code",
   "execution_count": 50,
   "outputs": [
    {
     "name": "stdout",
     "output_type": "stream",
     "text": [
      "Hot Shots! Part Deux\n",
      "Red Planet\n",
      "World Trade Center\n",
      "Dead Space: Downfall\n",
      "The Rift\n"
     ]
    }
   ],
   "source": [
    "Recommend_Movies(\"The Hunger Games\")"
   ],
   "metadata": {
    "collapsed": false,
    "pycharm": {
     "name": "#%%\n"
    }
   }
  },
  {
   "cell_type": "code",
   "execution_count": null,
   "outputs": [],
   "source": [],
   "metadata": {
    "collapsed": false,
    "pycharm": {
     "name": "#%%\n"
    }
   }
  },
  {
   "cell_type": "code",
   "execution_count": 3,
   "metadata": {},
   "outputs": [],
   "source": [
    "movies=pd.read_csv(\"./data/10000 Movies Data\")\n",
    "credits=pd.read_csv('./data/10000 Credits Data')"
   ]
  },
  {
   "cell_type": "code",
   "execution_count": 4,
   "metadata": {},
   "outputs": [
    {
     "data": {
      "text/html": [
       "<div>\n",
       "<style scoped>\n",
       "    .dataframe tbody tr th:only-of-type {\n",
       "        vertical-align: middle;\n",
       "    }\n",
       "\n",
       "    .dataframe tbody tr th {\n",
       "        vertical-align: top;\n",
       "    }\n",
       "\n",
       "    .dataframe thead th {\n",
       "        text-align: right;\n",
       "    }\n",
       "</style>\n",
       "<table border=\"1\" class=\"dataframe\">\n",
       "  <thead>\n",
       "    <tr style=\"text-align: right;\">\n",
       "      <th></th>\n",
       "      <th>Unnamed: 0</th>\n",
       "      <th>Movie_id</th>\n",
       "      <th>title</th>\n",
       "      <th>Genres</th>\n",
       "      <th>release_date</th>\n",
       "      <th>Keywords</th>\n",
       "      <th>overview</th>\n",
       "      <th>poster_path</th>\n",
       "      <th>Budget</th>\n",
       "      <th>Revenue</th>\n",
       "      <th>popularity</th>\n",
       "      <th>vote_average</th>\n",
       "      <th>vote_count</th>\n",
       "    </tr>\n",
       "  </thead>\n",
       "  <tbody>\n",
       "    <tr>\n",
       "      <th>0</th>\n",
       "      <td>0</td>\n",
       "      <td>238</td>\n",
       "      <td>The Godfather</td>\n",
       "      <td>[{'id': 18, 'name': 'Drama'}, {'id': 80, 'name...</td>\n",
       "      <td>1972-03-14</td>\n",
       "      <td>[{'id': 131, 'name': 'italy'}, {'id': 697, 'na...</td>\n",
       "      <td>Spanning the years 1945 to 1955, a chronicle o...</td>\n",
       "      <td>/3bhkrj58Vtu7enYsRolD1fZdja1.jpg</td>\n",
       "      <td>245066411</td>\n",
       "      <td>245066411</td>\n",
       "      <td>93.552</td>\n",
       "      <td>8.7</td>\n",
       "      <td>16814</td>\n",
       "    </tr>\n",
       "    <tr>\n",
       "      <th>1</th>\n",
       "      <td>1</td>\n",
       "      <td>278</td>\n",
       "      <td>The Shawshank Redemption</td>\n",
       "      <td>[{'id': 18, 'name': 'Drama'}, {'id': 80, 'name...</td>\n",
       "      <td>1994-09-23</td>\n",
       "      <td>[{'id': 378, 'name': 'prison'}, {'id': 417, 'n...</td>\n",
       "      <td>Framed in the 1940s for the double murder of h...</td>\n",
       "      <td>/q6y0Go1tsGEsmtFryDOJo3dEmqu.jpg</td>\n",
       "      <td>28341469</td>\n",
       "      <td>28341469</td>\n",
       "      <td>78.664</td>\n",
       "      <td>8.7</td>\n",
       "      <td>22542</td>\n",
       "    </tr>\n",
       "    <tr>\n",
       "      <th>2</th>\n",
       "      <td>2</td>\n",
       "      <td>240</td>\n",
       "      <td>The Godfather Part II</td>\n",
       "      <td>[{'id': 18, 'name': 'Drama'}, {'id': 80, 'name...</td>\n",
       "      <td>1974-12-20</td>\n",
       "      <td>[{'id': 131, 'name': 'italy'}, {'id': 700, 'na...</td>\n",
       "      <td>In the continuing saga of the Corleone crime f...</td>\n",
       "      <td>/hek3koDUyRQk7FIhPXsa6mT2Zc3.jpg</td>\n",
       "      <td>102600000</td>\n",
       "      <td>102600000</td>\n",
       "      <td>55.752</td>\n",
       "      <td>8.6</td>\n",
       "      <td>10187</td>\n",
       "    </tr>\n",
       "    <tr>\n",
       "      <th>3</th>\n",
       "      <td>3</td>\n",
       "      <td>19404</td>\n",
       "      <td>Dilwale Dulhania Le Jayenge</td>\n",
       "      <td>[{'id': 35, 'name': 'Comedy'}, {'id': 18, 'nam...</td>\n",
       "      <td>1995-10-19</td>\n",
       "      <td>[]</td>\n",
       "      <td>Raj is a rich, carefree, happy-go-lucky second...</td>\n",
       "      <td>/2CAL2433ZeIihfX1Hb2139CX0pW.jpg</td>\n",
       "      <td>100000000</td>\n",
       "      <td>100000000</td>\n",
       "      <td>22.150</td>\n",
       "      <td>8.6</td>\n",
       "      <td>3927</td>\n",
       "    </tr>\n",
       "    <tr>\n",
       "      <th>4</th>\n",
       "      <td>4</td>\n",
       "      <td>424</td>\n",
       "      <td>Schindler's List</td>\n",
       "      <td>[{'id': 18, 'name': 'Drama'}, {'id': 36, 'name...</td>\n",
       "      <td>1993-12-15</td>\n",
       "      <td>[{'id': 818, 'name': 'based on novel or book'}...</td>\n",
       "      <td>The true story of how businessman Oskar Schind...</td>\n",
       "      <td>/sF1U4EUQS8YHUYjNl3pMGNIQyr0.jpg</td>\n",
       "      <td>321365567</td>\n",
       "      <td>321365567</td>\n",
       "      <td>53.542</td>\n",
       "      <td>8.6</td>\n",
       "      <td>13382</td>\n",
       "    </tr>\n",
       "    <tr>\n",
       "      <th>...</th>\n",
       "      <td>...</td>\n",
       "      <td>...</td>\n",
       "      <td>...</td>\n",
       "      <td>...</td>\n",
       "      <td>...</td>\n",
       "      <td>...</td>\n",
       "      <td>...</td>\n",
       "      <td>...</td>\n",
       "      <td>...</td>\n",
       "      <td>...</td>\n",
       "      <td>...</td>\n",
       "      <td>...</td>\n",
       "      <td>...</td>\n",
       "    </tr>\n",
       "    <tr>\n",
       "      <th>9975</th>\n",
       "      <td>9975</td>\n",
       "      <td>384737</td>\n",
       "      <td>Precious Cargo</td>\n",
       "      <td>[{'id': 28, 'name': 'Action'}, {'id': 80, 'nam...</td>\n",
       "      <td>2016-07-15</td>\n",
       "      <td>[{'id': 9730, 'name': 'crime boss'}, {'id': 10...</td>\n",
       "      <td>After a botched heist, Eddie  a murderous crim...</td>\n",
       "      <td>/dOQv2PDBu9bBCZRLeRp6QQYJDr3.jpg</td>\n",
       "      <td>100659</td>\n",
       "      <td>100659</td>\n",
       "      <td>14.663</td>\n",
       "      <td>5.2</td>\n",
       "      <td>243</td>\n",
       "    </tr>\n",
       "    <tr>\n",
       "      <th>9976</th>\n",
       "      <td>9976</td>\n",
       "      <td>282813</td>\n",
       "      <td>The Pyramid</td>\n",
       "      <td>[{'id': 27, 'name': 'Horror'}]</td>\n",
       "      <td>2014-12-04</td>\n",
       "      <td>[{'id': 1299, 'name': 'monster'}, {'id': 3762,...</td>\n",
       "      <td>An archaeological team attempt to unlock the s...</td>\n",
       "      <td>/joPb4PUPP7xClD6XPiQ7laBEtZf.jpg</td>\n",
       "      <td>16861137</td>\n",
       "      <td>16861137</td>\n",
       "      <td>17.892</td>\n",
       "      <td>5.2</td>\n",
       "      <td>861</td>\n",
       "    </tr>\n",
       "    <tr>\n",
       "      <th>9977</th>\n",
       "      <td>9977</td>\n",
       "      <td>134375</td>\n",
       "      <td>Home Alone: The Holiday Heist</td>\n",
       "      <td>[{'id': 35, 'name': 'Comedy'}, {'id': 10751, '...</td>\n",
       "      <td>2012-11-25</td>\n",
       "      <td>[{'id': 207317, 'name': 'christmas'}]</td>\n",
       "      <td>8-year-old Finn is terrified to learn his fami...</td>\n",
       "      <td>/6JPrRC0JPM06y17pUXD6w1xMvKi.jpg</td>\n",
       "      <td>0</td>\n",
       "      <td>0</td>\n",
       "      <td>23.978</td>\n",
       "      <td>5.2</td>\n",
       "      <td>335</td>\n",
       "    </tr>\n",
       "    <tr>\n",
       "      <th>9978</th>\n",
       "      <td>9978</td>\n",
       "      <td>10477</td>\n",
       "      <td>Driven</td>\n",
       "      <td>[{'id': 28, 'name': 'Action'}]</td>\n",
       "      <td>2001-04-27</td>\n",
       "      <td>[{'id': 271, 'name': 'competition'}, {'id': 36...</td>\n",
       "      <td>Talented rookie race-car driver Jimmy Bly has ...</td>\n",
       "      <td>/2aN2BBAbRyfEpfxZAQY82T8zWRq.jpg</td>\n",
       "      <td>54744738</td>\n",
       "      <td>54744738</td>\n",
       "      <td>13.200</td>\n",
       "      <td>5.2</td>\n",
       "      <td>594</td>\n",
       "    </tr>\n",
       "    <tr>\n",
       "      <th>9979</th>\n",
       "      <td>9979</td>\n",
       "      <td>243688</td>\n",
       "      <td>Poltergeist</td>\n",
       "      <td>[{'id': 27, 'name': 'Horror'}]</td>\n",
       "      <td>2015-05-20</td>\n",
       "      <td>[{'id': 3350, 'name': 'poltergeist'}, {'id': 3...</td>\n",
       "      <td>A family's suburban home is invaded by angry s...</td>\n",
       "      <td>/A1ymtbzatZp94Z49ZOBb8JGXOBB.jpg</td>\n",
       "      <td>95437994</td>\n",
       "      <td>95437994</td>\n",
       "      <td>42.458</td>\n",
       "      <td>5.2</td>\n",
       "      <td>2037</td>\n",
       "    </tr>\n",
       "  </tbody>\n",
       "</table>\n",
       "<p>9980 rows × 13 columns</p>\n",
       "</div>"
      ],
      "text/plain": [
       "      Unnamed: 0  Movie_id                          title  \\\n",
       "0              0       238                  The Godfather   \n",
       "1              1       278       The Shawshank Redemption   \n",
       "2              2       240          The Godfather Part II   \n",
       "3              3     19404    Dilwale Dulhania Le Jayenge   \n",
       "4              4       424               Schindler's List   \n",
       "...          ...       ...                            ...   \n",
       "9975        9975    384737                 Precious Cargo   \n",
       "9976        9976    282813                    The Pyramid   \n",
       "9977        9977    134375  Home Alone: The Holiday Heist   \n",
       "9978        9978     10477                         Driven   \n",
       "9979        9979    243688                    Poltergeist   \n",
       "\n",
       "                                                 Genres release_date  \\\n",
       "0     [{'id': 18, 'name': 'Drama'}, {'id': 80, 'name...   1972-03-14   \n",
       "1     [{'id': 18, 'name': 'Drama'}, {'id': 80, 'name...   1994-09-23   \n",
       "2     [{'id': 18, 'name': 'Drama'}, {'id': 80, 'name...   1974-12-20   \n",
       "3     [{'id': 35, 'name': 'Comedy'}, {'id': 18, 'nam...   1995-10-19   \n",
       "4     [{'id': 18, 'name': 'Drama'}, {'id': 36, 'name...   1993-12-15   \n",
       "...                                                 ...          ...   \n",
       "9975  [{'id': 28, 'name': 'Action'}, {'id': 80, 'nam...   2016-07-15   \n",
       "9976                     [{'id': 27, 'name': 'Horror'}]   2014-12-04   \n",
       "9977  [{'id': 35, 'name': 'Comedy'}, {'id': 10751, '...   2012-11-25   \n",
       "9978                     [{'id': 28, 'name': 'Action'}]   2001-04-27   \n",
       "9979                     [{'id': 27, 'name': 'Horror'}]   2015-05-20   \n",
       "\n",
       "                                               Keywords  \\\n",
       "0     [{'id': 131, 'name': 'italy'}, {'id': 697, 'na...   \n",
       "1     [{'id': 378, 'name': 'prison'}, {'id': 417, 'n...   \n",
       "2     [{'id': 131, 'name': 'italy'}, {'id': 700, 'na...   \n",
       "3                                                    []   \n",
       "4     [{'id': 818, 'name': 'based on novel or book'}...   \n",
       "...                                                 ...   \n",
       "9975  [{'id': 9730, 'name': 'crime boss'}, {'id': 10...   \n",
       "9976  [{'id': 1299, 'name': 'monster'}, {'id': 3762,...   \n",
       "9977              [{'id': 207317, 'name': 'christmas'}]   \n",
       "9978  [{'id': 271, 'name': 'competition'}, {'id': 36...   \n",
       "9979  [{'id': 3350, 'name': 'poltergeist'}, {'id': 3...   \n",
       "\n",
       "                                               overview  \\\n",
       "0     Spanning the years 1945 to 1955, a chronicle o...   \n",
       "1     Framed in the 1940s for the double murder of h...   \n",
       "2     In the continuing saga of the Corleone crime f...   \n",
       "3     Raj is a rich, carefree, happy-go-lucky second...   \n",
       "4     The true story of how businessman Oskar Schind...   \n",
       "...                                                 ...   \n",
       "9975  After a botched heist, Eddie  a murderous crim...   \n",
       "9976  An archaeological team attempt to unlock the s...   \n",
       "9977  8-year-old Finn is terrified to learn his fami...   \n",
       "9978  Talented rookie race-car driver Jimmy Bly has ...   \n",
       "9979  A family's suburban home is invaded by angry s...   \n",
       "\n",
       "                           poster_path     Budget    Revenue  popularity  \\\n",
       "0     /3bhkrj58Vtu7enYsRolD1fZdja1.jpg  245066411  245066411      93.552   \n",
       "1     /q6y0Go1tsGEsmtFryDOJo3dEmqu.jpg   28341469   28341469      78.664   \n",
       "2     /hek3koDUyRQk7FIhPXsa6mT2Zc3.jpg  102600000  102600000      55.752   \n",
       "3     /2CAL2433ZeIihfX1Hb2139CX0pW.jpg  100000000  100000000      22.150   \n",
       "4     /sF1U4EUQS8YHUYjNl3pMGNIQyr0.jpg  321365567  321365567      53.542   \n",
       "...                                ...        ...        ...         ...   \n",
       "9975  /dOQv2PDBu9bBCZRLeRp6QQYJDr3.jpg     100659     100659      14.663   \n",
       "9976  /joPb4PUPP7xClD6XPiQ7laBEtZf.jpg   16861137   16861137      17.892   \n",
       "9977  /6JPrRC0JPM06y17pUXD6w1xMvKi.jpg          0          0      23.978   \n",
       "9978  /2aN2BBAbRyfEpfxZAQY82T8zWRq.jpg   54744738   54744738      13.200   \n",
       "9979  /A1ymtbzatZp94Z49ZOBb8JGXOBB.jpg   95437994   95437994      42.458   \n",
       "\n",
       "      vote_average  vote_count  \n",
       "0              8.7       16814  \n",
       "1              8.7       22542  \n",
       "2              8.6       10187  \n",
       "3              8.6        3927  \n",
       "4              8.6       13382  \n",
       "...            ...         ...  \n",
       "9975           5.2         243  \n",
       "9976           5.2         861  \n",
       "9977           5.2         335  \n",
       "9978           5.2         594  \n",
       "9979           5.2        2037  \n",
       "\n",
       "[9980 rows x 13 columns]"
      ]
     },
     "execution_count": 4,
     "metadata": {},
     "output_type": "execute_result"
    }
   ],
   "source": [
    "movies"
   ]
  },
  {
   "cell_type": "code",
   "execution_count": 5,
   "metadata": {},
   "outputs": [],
   "source": [
    "credits=credits.drop(\"title\",axis=1)\n",
    "movies=movies.merge(credits,on='Movie_id')"
   ]
  },
  {
   "cell_type": "code",
   "execution_count": 6,
   "metadata": {},
   "outputs": [
    {
     "data": {
      "text/html": [
       "<div>\n",
       "<style scoped>\n",
       "    .dataframe tbody tr th:only-of-type {\n",
       "        vertical-align: middle;\n",
       "    }\n",
       "\n",
       "    .dataframe tbody tr th {\n",
       "        vertical-align: top;\n",
       "    }\n",
       "\n",
       "    .dataframe thead th {\n",
       "        text-align: right;\n",
       "    }\n",
       "</style>\n",
       "<table border=\"1\" class=\"dataframe\">\n",
       "  <thead>\n",
       "    <tr style=\"text-align: right;\">\n",
       "      <th></th>\n",
       "      <th>Unnamed: 0_x</th>\n",
       "      <th>Movie_id</th>\n",
       "      <th>title</th>\n",
       "      <th>Genres</th>\n",
       "      <th>release_date</th>\n",
       "      <th>Keywords</th>\n",
       "      <th>overview</th>\n",
       "      <th>poster_path</th>\n",
       "      <th>Budget</th>\n",
       "      <th>Revenue</th>\n",
       "      <th>popularity</th>\n",
       "      <th>vote_average</th>\n",
       "      <th>vote_count</th>\n",
       "      <th>Unnamed: 0_y</th>\n",
       "      <th>Cast</th>\n",
       "      <th>Crew</th>\n",
       "    </tr>\n",
       "  </thead>\n",
       "  <tbody>\n",
       "    <tr>\n",
       "      <th>0</th>\n",
       "      <td>0</td>\n",
       "      <td>238</td>\n",
       "      <td>The Godfather</td>\n",
       "      <td>[{'id': 18, 'name': 'Drama'}, {'id': 80, 'name...</td>\n",
       "      <td>1972-03-14</td>\n",
       "      <td>[{'id': 131, 'name': 'italy'}, {'id': 697, 'na...</td>\n",
       "      <td>Spanning the years 1945 to 1955, a chronicle o...</td>\n",
       "      <td>/3bhkrj58Vtu7enYsRolD1fZdja1.jpg</td>\n",
       "      <td>245066411</td>\n",
       "      <td>245066411</td>\n",
       "      <td>93.552</td>\n",
       "      <td>8.7</td>\n",
       "      <td>16814</td>\n",
       "      <td>0</td>\n",
       "      <td>[{'adult': False, 'gender': 2, 'id': 3084, 'kn...</td>\n",
       "      <td>[{'adult': False, 'gender': 2, 'id': 154, 'kno...</td>\n",
       "    </tr>\n",
       "  </tbody>\n",
       "</table>\n",
       "</div>"
      ],
      "text/plain": [
       "   Unnamed: 0_x  Movie_id          title  \\\n",
       "0             0       238  The Godfather   \n",
       "\n",
       "                                              Genres release_date  \\\n",
       "0  [{'id': 18, 'name': 'Drama'}, {'id': 80, 'name...   1972-03-14   \n",
       "\n",
       "                                            Keywords  \\\n",
       "0  [{'id': 131, 'name': 'italy'}, {'id': 697, 'na...   \n",
       "\n",
       "                                            overview  \\\n",
       "0  Spanning the years 1945 to 1955, a chronicle o...   \n",
       "\n",
       "                        poster_path     Budget    Revenue  popularity  \\\n",
       "0  /3bhkrj58Vtu7enYsRolD1fZdja1.jpg  245066411  245066411      93.552   \n",
       "\n",
       "   vote_average  vote_count  Unnamed: 0_y  \\\n",
       "0           8.7       16814             0   \n",
       "\n",
       "                                                Cast  \\\n",
       "0  [{'adult': False, 'gender': 2, 'id': 3084, 'kn...   \n",
       "\n",
       "                                                Crew  \n",
       "0  [{'adult': False, 'gender': 2, 'id': 154, 'kno...  "
      ]
     },
     "execution_count": 6,
     "metadata": {},
     "output_type": "execute_result"
    }
   ],
   "source": [
    "movies.head(1)"
   ]
  },
  {
   "cell_type": "code",
   "execution_count": 7,
   "metadata": {},
   "outputs": [],
   "source": [
    "movies=movies[['Movie_id','title','Genres',\"Keywords\",'overview','Cast','Crew']]"
   ]
  },
  {
   "cell_type": "code",
   "execution_count": 8,
   "metadata": {},
   "outputs": [
    {
     "data": {
      "text/plain": [
       "Movie_id    0\n",
       "title       0\n",
       "Genres      0\n",
       "Keywords    0\n",
       "overview    6\n",
       "Cast        0\n",
       "Crew        0\n",
       "dtype: int64"
      ]
     },
     "execution_count": 8,
     "metadata": {},
     "output_type": "execute_result"
    }
   ],
   "source": [
    "movies.isnull().sum()"
   ]
  },
  {
   "cell_type": "code",
   "execution_count": 9,
   "metadata": {},
   "outputs": [],
   "source": [
    "movies.dropna(inplace=True)"
   ]
  },
  {
   "cell_type": "code",
   "execution_count": 10,
   "metadata": {},
   "outputs": [
    {
     "data": {
      "text/plain": [
       "Movie_id    0\n",
       "title       0\n",
       "Genres      0\n",
       "Keywords    0\n",
       "overview    0\n",
       "Cast        0\n",
       "Crew        0\n",
       "dtype: int64"
      ]
     },
     "execution_count": 10,
     "metadata": {},
     "output_type": "execute_result"
    }
   ],
   "source": [
    "movies.isnull().sum()"
   ]
  },
  {
   "cell_type": "code",
   "execution_count": 11,
   "metadata": {},
   "outputs": [
    {
     "data": {
      "text/plain": [
       "0"
      ]
     },
     "execution_count": 11,
     "metadata": {},
     "output_type": "execute_result"
    }
   ],
   "source": [
    "movies.duplicated().sum()"
   ]
  },
  {
   "cell_type": "code",
   "execution_count": 12,
   "metadata": {},
   "outputs": [
    {
     "data": {
      "text/plain": [
       "<function ast.literal_eval(node_or_string)>"
      ]
     },
     "execution_count": 12,
     "metadata": {},
     "output_type": "execute_result"
    }
   ],
   "source": [
    "import ast\n",
    "ast.literal_eval"
   ]
  },
  {
   "cell_type": "code",
   "execution_count": 13,
   "metadata": {},
   "outputs": [],
   "source": [
    "def convert(obj):\n",
    "    L =[]\n",
    "    for i in ast.literal_eval(obj):\n",
    "        L.append(i['name'])\n",
    "    return L"
   ]
  },
  {
   "cell_type": "code",
   "execution_count": 14,
   "metadata": {},
   "outputs": [
    {
     "data": {
      "text/html": [
       "<div>\n",
       "<style scoped>\n",
       "    .dataframe tbody tr th:only-of-type {\n",
       "        vertical-align: middle;\n",
       "    }\n",
       "\n",
       "    .dataframe tbody tr th {\n",
       "        vertical-align: top;\n",
       "    }\n",
       "\n",
       "    .dataframe thead th {\n",
       "        text-align: right;\n",
       "    }\n",
       "</style>\n",
       "<table border=\"1\" class=\"dataframe\">\n",
       "  <thead>\n",
       "    <tr style=\"text-align: right;\">\n",
       "      <th></th>\n",
       "      <th>Movie_id</th>\n",
       "      <th>title</th>\n",
       "      <th>Genres</th>\n",
       "      <th>Keywords</th>\n",
       "      <th>overview</th>\n",
       "      <th>Cast</th>\n",
       "      <th>Crew</th>\n",
       "    </tr>\n",
       "  </thead>\n",
       "  <tbody>\n",
       "    <tr>\n",
       "      <th>0</th>\n",
       "      <td>238</td>\n",
       "      <td>The Godfather</td>\n",
       "      <td>[Drama, Crime]</td>\n",
       "      <td>[{'id': 131, 'name': 'italy'}, {'id': 697, 'na...</td>\n",
       "      <td>Spanning the years 1945 to 1955, a chronicle o...</td>\n",
       "      <td>[{'adult': False, 'gender': 2, 'id': 3084, 'kn...</td>\n",
       "      <td>[{'adult': False, 'gender': 2, 'id': 154, 'kno...</td>\n",
       "    </tr>\n",
       "    <tr>\n",
       "      <th>1</th>\n",
       "      <td>278</td>\n",
       "      <td>The Shawshank Redemption</td>\n",
       "      <td>[Drama, Crime]</td>\n",
       "      <td>[{'id': 378, 'name': 'prison'}, {'id': 417, 'n...</td>\n",
       "      <td>Framed in the 1940s for the double murder of h...</td>\n",
       "      <td>[{'adult': False, 'gender': 2, 'id': 504, 'kno...</td>\n",
       "      <td>[{'adult': False, 'gender': 2, 'id': 153, 'kno...</td>\n",
       "    </tr>\n",
       "    <tr>\n",
       "      <th>2</th>\n",
       "      <td>240</td>\n",
       "      <td>The Godfather Part II</td>\n",
       "      <td>[Drama, Crime]</td>\n",
       "      <td>[{'id': 131, 'name': 'italy'}, {'id': 700, 'na...</td>\n",
       "      <td>In the continuing saga of the Corleone crime f...</td>\n",
       "      <td>[{'adult': False, 'gender': 2, 'id': 1158, 'kn...</td>\n",
       "      <td>[{'adult': False, 'gender': 2, 'id': 154, 'kno...</td>\n",
       "    </tr>\n",
       "    <tr>\n",
       "      <th>3</th>\n",
       "      <td>19404</td>\n",
       "      <td>Dilwale Dulhania Le Jayenge</td>\n",
       "      <td>[Comedy, Drama, Romance]</td>\n",
       "      <td>[]</td>\n",
       "      <td>Raj is a rich, carefree, happy-go-lucky second...</td>\n",
       "      <td>[{'adult': False, 'gender': 2, 'id': 35742, 'k...</td>\n",
       "      <td>[{'adult': False, 'gender': 1, 'id': 8311, 'kn...</td>\n",
       "    </tr>\n",
       "    <tr>\n",
       "      <th>4</th>\n",
       "      <td>424</td>\n",
       "      <td>Schindler's List</td>\n",
       "      <td>[Drama, History, War]</td>\n",
       "      <td>[{'id': 818, 'name': 'based on novel or book'}...</td>\n",
       "      <td>The true story of how businessman Oskar Schind...</td>\n",
       "      <td>[{'adult': False, 'gender': 2, 'id': 3896, 'kn...</td>\n",
       "      <td>[{'adult': False, 'gender': 2, 'id': 491, 'kno...</td>\n",
       "    </tr>\n",
       "  </tbody>\n",
       "</table>\n",
       "</div>"
      ],
      "text/plain": [
       "   Movie_id                        title                    Genres  \\\n",
       "0       238                The Godfather            [Drama, Crime]   \n",
       "1       278     The Shawshank Redemption            [Drama, Crime]   \n",
       "2       240        The Godfather Part II            [Drama, Crime]   \n",
       "3     19404  Dilwale Dulhania Le Jayenge  [Comedy, Drama, Romance]   \n",
       "4       424             Schindler's List     [Drama, History, War]   \n",
       "\n",
       "                                            Keywords  \\\n",
       "0  [{'id': 131, 'name': 'italy'}, {'id': 697, 'na...   \n",
       "1  [{'id': 378, 'name': 'prison'}, {'id': 417, 'n...   \n",
       "2  [{'id': 131, 'name': 'italy'}, {'id': 700, 'na...   \n",
       "3                                                 []   \n",
       "4  [{'id': 818, 'name': 'based on novel or book'}...   \n",
       "\n",
       "                                            overview  \\\n",
       "0  Spanning the years 1945 to 1955, a chronicle o...   \n",
       "1  Framed in the 1940s for the double murder of h...   \n",
       "2  In the continuing saga of the Corleone crime f...   \n",
       "3  Raj is a rich, carefree, happy-go-lucky second...   \n",
       "4  The true story of how businessman Oskar Schind...   \n",
       "\n",
       "                                                Cast  \\\n",
       "0  [{'adult': False, 'gender': 2, 'id': 3084, 'kn...   \n",
       "1  [{'adult': False, 'gender': 2, 'id': 504, 'kno...   \n",
       "2  [{'adult': False, 'gender': 2, 'id': 1158, 'kn...   \n",
       "3  [{'adult': False, 'gender': 2, 'id': 35742, 'k...   \n",
       "4  [{'adult': False, 'gender': 2, 'id': 3896, 'kn...   \n",
       "\n",
       "                                                Crew  \n",
       "0  [{'adult': False, 'gender': 2, 'id': 154, 'kno...  \n",
       "1  [{'adult': False, 'gender': 2, 'id': 153, 'kno...  \n",
       "2  [{'adult': False, 'gender': 2, 'id': 154, 'kno...  \n",
       "3  [{'adult': False, 'gender': 1, 'id': 8311, 'kn...  \n",
       "4  [{'adult': False, 'gender': 2, 'id': 491, 'kno...  "
      ]
     },
     "execution_count": 14,
     "metadata": {},
     "output_type": "execute_result"
    }
   ],
   "source": [
    "movies['Genres'] = movies['Genres'].apply(convert)\n",
    "movies.head()"
   ]
  },
  {
   "cell_type": "code",
   "execution_count": 15,
   "metadata": {},
   "outputs": [],
   "source": [
    "movies['Keywords']=movies['Keywords'].apply(convert)"
   ]
  },
  {
   "cell_type": "code",
   "execution_count": 16,
   "metadata": {},
   "outputs": [],
   "source": [
    "def convert3(obj):\n",
    "    L =[]\n",
    "    counter=0\n",
    "    for i in ast.literal_eval(obj):\n",
    "        if counter !=3:\n",
    "            L.append(i['name'])\n",
    "            counter+=1\n",
    "    return L"
   ]
  },
  {
   "cell_type": "code",
   "execution_count": 17,
   "metadata": {},
   "outputs": [],
   "source": [
    "movies['Cast']=movies['Cast'].apply(convert3)"
   ]
  },
  {
   "cell_type": "code",
   "execution_count": 18,
   "metadata": {},
   "outputs": [],
   "source": [
    "def fetch_directoer(obj):\n",
    "    L =[]\n",
    "    for i in ast.literal_eval(obj):\n",
    "        if i['job']==\"Director\":\n",
    "            L.append(i['name'])\n",
    "            break\n",
    "    return L"
   ]
  },
  {
   "cell_type": "code",
   "execution_count": 19,
   "metadata": {},
   "outputs": [],
   "source": [
    "movies['Crew']=movies['Crew'].apply(fetch_directoer)"
   ]
  },
  {
   "cell_type": "code",
   "execution_count": 20,
   "metadata": {},
   "outputs": [],
   "source": [
    "movies['overview']=movies['overview'].apply(lambda x: x.split())"
   ]
  },
  {
   "cell_type": "code",
   "execution_count": 21,
   "metadata": {},
   "outputs": [],
   "source": [
    "movies['Genres']=movies['Genres'].apply(lambda x : [i.replace(\" \",\"\")for i in x])\n",
    "movies['Keywords']=movies['Keywords'].apply(lambda x : [i.replace(\" \",\"\")for i in x])\n",
    "movies['Cast']=movies['Cast'].apply(lambda x : [i.replace(\" \",\"\")for i in x])\n",
    "movies['Crew']=movies['Crew'].apply(lambda x : [i.replace(\" \",\"\")for i in x])"
   ]
  },
  {
   "cell_type": "code",
   "execution_count": 22,
   "metadata": {},
   "outputs": [],
   "source": [
    "movies['tags']= movies['Genres'] + movies['Keywords'] + movies['Cast'] + movies['Crew'] + movies['overview']"
   ]
  },
  {
   "cell_type": "code",
   "execution_count": 23,
   "metadata": {},
   "outputs": [
    {
     "data": {
      "text/html": [
       "<div>\n",
       "<style scoped>\n",
       "    .dataframe tbody tr th:only-of-type {\n",
       "        vertical-align: middle;\n",
       "    }\n",
       "\n",
       "    .dataframe tbody tr th {\n",
       "        vertical-align: top;\n",
       "    }\n",
       "\n",
       "    .dataframe thead th {\n",
       "        text-align: right;\n",
       "    }\n",
       "</style>\n",
       "<table border=\"1\" class=\"dataframe\">\n",
       "  <thead>\n",
       "    <tr style=\"text-align: right;\">\n",
       "      <th></th>\n",
       "      <th>Movie_id</th>\n",
       "      <th>title</th>\n",
       "      <th>Genres</th>\n",
       "      <th>Keywords</th>\n",
       "      <th>overview</th>\n",
       "      <th>Cast</th>\n",
       "      <th>Crew</th>\n",
       "      <th>tags</th>\n",
       "    </tr>\n",
       "  </thead>\n",
       "  <tbody>\n",
       "    <tr>\n",
       "      <th>0</th>\n",
       "      <td>238</td>\n",
       "      <td>The Godfather</td>\n",
       "      <td>[Drama, Crime]</td>\n",
       "      <td>[italy, lossoflovedone, loveatfirstsight, base...</td>\n",
       "      <td>[Spanning, the, years, 1945, to, 1955,, a, chr...</td>\n",
       "      <td>[MarlonBrando, AlPacino, JamesCaan]</td>\n",
       "      <td>[FrancisFordCoppola]</td>\n",
       "      <td>[Drama, Crime, italy, lossoflovedone, loveatfi...</td>\n",
       "    </tr>\n",
       "    <tr>\n",
       "      <th>1</th>\n",
       "      <td>278</td>\n",
       "      <td>The Shawshank Redemption</td>\n",
       "      <td>[Drama, Crime]</td>\n",
       "      <td>[prison, corruption, policebrutality, basedonn...</td>\n",
       "      <td>[Framed, in, the, 1940s, for, the, double, mur...</td>\n",
       "      <td>[TimRobbins, MorganFreeman, BobGunton]</td>\n",
       "      <td>[FrankDarabont]</td>\n",
       "      <td>[Drama, Crime, prison, corruption, policebruta...</td>\n",
       "    </tr>\n",
       "  </tbody>\n",
       "</table>\n",
       "</div>"
      ],
      "text/plain": [
       "   Movie_id                     title          Genres  \\\n",
       "0       238             The Godfather  [Drama, Crime]   \n",
       "1       278  The Shawshank Redemption  [Drama, Crime]   \n",
       "\n",
       "                                            Keywords  \\\n",
       "0  [italy, lossoflovedone, loveatfirstsight, base...   \n",
       "1  [prison, corruption, policebrutality, basedonn...   \n",
       "\n",
       "                                            overview  \\\n",
       "0  [Spanning, the, years, 1945, to, 1955,, a, chr...   \n",
       "1  [Framed, in, the, 1940s, for, the, double, mur...   \n",
       "\n",
       "                                     Cast                  Crew  \\\n",
       "0     [MarlonBrando, AlPacino, JamesCaan]  [FrancisFordCoppola]   \n",
       "1  [TimRobbins, MorganFreeman, BobGunton]       [FrankDarabont]   \n",
       "\n",
       "                                                tags  \n",
       "0  [Drama, Crime, italy, lossoflovedone, loveatfi...  \n",
       "1  [Drama, Crime, prison, corruption, policebruta...  "
      ]
     },
     "execution_count": 23,
     "metadata": {},
     "output_type": "execute_result"
    }
   ],
   "source": [
    "movies.head(2)"
   ]
  },
  {
   "cell_type": "code",
   "execution_count": 24,
   "metadata": {},
   "outputs": [],
   "source": [
    "new_df = movies[['Movie_id','title','tags']]"
   ]
  },
  {
   "cell_type": "code",
   "execution_count": 25,
   "metadata": {},
   "outputs": [
    {
     "name": "stderr",
     "output_type": "stream",
     "text": [
      "C:\\Users\\leoni\\AppData\\Local\\Temp\\ipykernel_223248\\2380013068.py:1: SettingWithCopyWarning: \n",
      "A value is trying to be set on a copy of a slice from a DataFrame.\n",
      "Try using .loc[row_indexer,col_indexer] = value instead\n",
      "\n",
      "See the caveats in the documentation: https://pandas.pydata.org/pandas-docs/stable/user_guide/indexing.html#returning-a-view-versus-a-copy\n",
      "  new_df['tags']=new_df['tags'].apply(lambda x: \" \".join(x))\n",
      "C:\\Users\\leoni\\AppData\\Local\\Temp\\ipykernel_223248\\2380013068.py:2: SettingWithCopyWarning: \n",
      "A value is trying to be set on a copy of a slice from a DataFrame.\n",
      "Try using .loc[row_indexer,col_indexer] = value instead\n",
      "\n",
      "See the caveats in the documentation: https://pandas.pydata.org/pandas-docs/stable/user_guide/indexing.html#returning-a-view-versus-a-copy\n",
      "  new_df['tags']=new_df['tags'].apply(lambda x: x.lower())\n"
     ]
    }
   ],
   "source": [
    "new_df['tags']=new_df['tags'].apply(lambda x: \" \".join(x))\n",
    "new_df['tags']=new_df['tags'].apply(lambda x: x.lower())"
   ]
  },
  {
   "cell_type": "code",
   "execution_count": 26,
   "metadata": {},
   "outputs": [],
   "source": [
    "# from nltk.stem import PorterStemmer\n",
    "# ps=PorterStemmer()"
   ]
  },
  {
   "cell_type": "code",
   "execution_count": 27,
   "metadata": {},
   "outputs": [],
   "source": [
    "# def steam(text):\n",
    "#     y=[]\n",
    "#     for i in text.split():\n",
    "#         y.append (ps.stem(i))\n",
    "#     return \" \".join(y)"
   ]
  },
  {
   "cell_type": "code",
   "execution_count": 28,
   "metadata": {},
   "outputs": [],
   "source": [
    "# new_df['tags']=new_df['tags'].apply(steam)"
   ]
  },
  {
   "cell_type": "code",
   "execution_count": 29,
   "metadata": {},
   "outputs": [],
   "source": [
    "from sklearn.feature_extraction.text import CountVectorizer\n",
    "CV= CountVectorizer(max_features=8000, stop_words=\"english\")"
   ]
  },
  {
   "cell_type": "code",
   "execution_count": 30,
   "metadata": {},
   "outputs": [],
   "source": [
    "vector=CV.fit_transform(new_df['tags']).toarray()"
   ]
  },
  {
   "cell_type": "code",
   "execution_count": 31,
   "metadata": {},
   "outputs": [
    {
     "name": "stderr",
     "output_type": "stream",
     "text": [
      "C:\\Users\\leoni\\AppData\\Local\\Packages\\PythonSoftwareFoundation.Python.3.10_qbz5n2kfra8p0\\LocalCache\\local-packages\\Python310\\site-packages\\sklearn\\utils\\deprecation.py:87: FutureWarning: Function get_feature_names is deprecated; get_feature_names is deprecated in 1.0 and will be removed in 1.2. Please use get_feature_names_out instead.\n",
      "  warnings.warn(msg, category=FutureWarning)\n"
     ]
    },
    {
     "data": {
      "text/plain": [
       "'brown'"
      ]
     },
     "execution_count": 31,
     "metadata": {},
     "output_type": "execute_result"
    }
   ],
   "source": [
    "CV.get_feature_names()[1002]"
   ]
  },
  {
   "cell_type": "code",
   "execution_count": 32,
   "metadata": {},
   "outputs": [],
   "source": [
    "from sklearn.metrics.pairwise import cosine_similarity\n",
    "similarity=cosine_similarity(vector)"
   ]
  },
  {
   "cell_type": "code",
   "execution_count": 33,
   "metadata": {},
   "outputs": [
    {
     "data": {
      "text/plain": [
       "1266"
      ]
     },
     "execution_count": 33,
     "metadata": {},
     "output_type": "execute_result"
    }
   ],
   "source": [
    "new_df[new_df['title']=='Avatar'].index[0]"
   ]
  },
  {
   "cell_type": "code",
   "execution_count": 34,
   "metadata": {},
   "outputs": [
    {
     "data": {
      "text/plain": [
       "[(2, 0.4382615323430833),\n",
       " (1633, 0.30218361150951756),\n",
       " (2747, 0.27500954910846337),\n",
       " (9782, 0.25588315785957955),\n",
       " (5229, 0.253546276418555)]"
      ]
     },
     "execution_count": 34,
     "metadata": {},
     "output_type": "execute_result"
    }
   ],
   "source": [
    "sorted(list(enumerate(similarity[0])), reverse=True, key=lambda x : x[1])[1:6]"
   ]
  },
  {
   "cell_type": "code",
   "execution_count": 35,
   "metadata": {},
   "outputs": [],
   "source": [
    "def Recommend_Movies(movie):\n",
    "    movie_index=new_df[new_df['title']==movie].index[0]\n",
    "    distance=similarity[movie_index]\n",
    "    movies_list=sorted(list(enumerate(distance)), reverse=True, key=lambda x : x[1])[1:6]\n",
    "    \n",
    "    for i in movies_list:\n",
    "        print(new_df.iloc[i[0]].title)"
   ]
  },
  {
   "cell_type": "code",
   "execution_count": 36,
   "metadata": {},
   "outputs": [
    {
     "name": "stdout",
     "output_type": "stream",
     "text": [
      "Batman: Under the Red Hood\n",
      "The Dark Knight\n",
      "The Dark Knight Rises\n",
      "Batman: Bad Blood\n",
      "Batman: Year One\n"
     ]
    }
   ],
   "source": [
    "Recommend_Movies('Batman Begins')"
   ]
  },
  {
   "cell_type": "code",
   "execution_count": 37,
   "metadata": {},
   "outputs": [
    {
     "name": "stdout",
     "output_type": "stream",
     "text": [
      "Rakka\n",
      "Titan A.E.\n",
      "Skylines\n",
      "Dragon Ball Z: Bardock - The Father of Goku\n",
      "Valerian and the City of a Thousand Planets\n"
     ]
    }
   ],
   "source": [
    "Recommend_Movies(\"Avatar\")"
   ]
  },
  {
   "cell_type": "code",
   "execution_count": 38,
   "metadata": {},
   "outputs": [
    {
     "name": "stdout",
     "output_type": "stream",
     "text": [
      "The Godfather Part II\n",
      "The Godfather Part III\n",
      "Bomb City\n",
      "Gotti\n",
      "The Wild Goose Lake\n"
     ]
    }
   ],
   "source": [
    "Recommend_Movies(\"The Godfather\")"
   ]
  },
  {
   "cell_type": "code",
   "execution_count": 42,
   "metadata": {},
   "outputs": [
    {
     "name": "stdout",
     "output_type": "stream",
     "text": [
      "Braven\n",
      "Death Wish 4: The Crackdown\n",
      "Bad Boys II\n",
      "Pusher\n",
      "Bad Boys for Life\n"
     ]
    }
   ],
   "source": [
    "Recommend_Movies(\"Scarface\")"
   ]
  },
  {
   "cell_type": "code",
   "execution_count": 48,
   "metadata": {},
   "outputs": [
    {
     "name": "stdout",
     "output_type": "stream",
     "text": [
      "The Hunger Games: Catching Fire\n",
      "The Hunger Games: Mockingjay - Part 2\n",
      "The Hunger Games: Mockingjay - Part 1\n",
      "The Seeker: The Dark Is Rising\n",
      "The Indian in the Cupboard\n"
     ]
    }
   ],
   "source": [
    "Recommend_Movies(\"The Hunger Games\")"
   ]
  },
  {
   "cell_type": "code",
   "execution_count": null,
   "metadata": {},
   "outputs": [],
   "source": []
  }
 ],
 "metadata": {
  "kernelspec": {
   "display_name": "Python 3.10.8 64-bit (microsoft store)",
   "language": "python",
   "name": "python3"
  },
  "language_info": {
   "codemirror_mode": {
    "name": "ipython",
    "version": 3
   },
   "file_extension": ".py",
   "mimetype": "text/x-python",
   "name": "python",
   "nbconvert_exporter": "python",
   "pygments_lexer": "ipython3",
   "version": "3.10.8"
  },
  "orig_nbformat": 4,
  "vscode": {
   "interpreter": {
    "hash": "80819c54c7d22b05949ff95365b6ac6ca45458f2e36025379a83c9281eefd092"
   }
  }
 },
 "nbformat": 4,
 "nbformat_minor": 2
}