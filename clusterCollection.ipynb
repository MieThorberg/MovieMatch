{
 "cells": [
  {
   "cell_type": "code",
   "execution_count": 35,
   "metadata": {
    "collapsed": true,
    "pycharm": {
     "name": "#%%\n"
    }
   },
   "outputs": [
    {
     "data": {
      "text/plain": "           budget                                             genres  \\\n0      30000000.0                        [Animation, Comedy, Family]   \n1      65000000.0                       [Adventure, Fantasy, Family]   \n3      16000000.0                           [Comedy, Drama, Romance]   \n5      60000000.0                   [Action, Crime, Drama, Thriller]   \n8      35000000.0                      [Action, Adventure, Thriller]   \n...           ...                                                ...   \n45014  60000000.0  [Action, Western, Science Fiction, Fantasy, Ho...   \n45139  50000000.0                        [Comedy, Family, Animation]   \n45167  11000000.0                 [Action, Crime, Mystery, Thriller]   \n45409    800000.0                                    [Comedy, Drama]   \n45412   2000000.0                                   [Romance, Drama]   \n\n             id    imdb_id     original_title  popularity release_date  \\\n0         862.0  tt0114709          Toy Story   21.946943   30/10/1995   \n1        8844.0  tt0113497            Jumanji   17.015539   15/12/1995   \n3       31357.0  tt0114885  Waiting to Exhale    3.859495   22/12/1995   \n5         949.0  tt0113277               Heat   17.924927   15/12/1995   \n8        9091.0  tt0114576       Sudden Death    5.231580   22/12/1995   \n...         ...        ...                ...         ...          ...   \n45014  353491.0  tt1648190     The Dark Tower   50.903593   03/08/2017   \n45139  378236.0  tt4877122    The Emoji Movie   33.694599   28/07/2017   \n45167  395834.0  tt5362988         Wind River   40.796775   03/08/2017   \n45409   62757.0  tt0933361             Dikari    0.903061   23/11/2006   \n45412   63281.0  tt1718881         Про любоff    0.121844   30/09/2010   \n\n           revenue  runtime  vote_average  vote_count  \n0      373554033.0     81.0           7.7      5415.0  \n1      262797249.0    104.0           6.9      2413.0  \n3       81452156.0    127.0           6.1        34.0  \n5      187436818.0    170.0           7.7      1886.0  \n8       64350171.0    106.0           5.5       174.0  \n...            ...      ...           ...         ...  \n45014   71000000.0     95.0           5.7       688.0  \n45139   66913939.0     86.0           5.8       327.0  \n45167  184770205.0    111.0           7.4       181.0  \n45409    1328612.0    100.0           5.8         6.0  \n45412    1268793.0    107.0           4.0         3.0  \n\n[4782 rows x 11 columns]",
      "text/html": "<div>\n<style scoped>\n    .dataframe tbody tr th:only-of-type {\n        vertical-align: middle;\n    }\n\n    .dataframe tbody tr th {\n        vertical-align: top;\n    }\n\n    .dataframe thead th {\n        text-align: right;\n    }\n</style>\n<table border=\"1\" class=\"dataframe\">\n  <thead>\n    <tr style=\"text-align: right;\">\n      <th></th>\n      <th>budget</th>\n      <th>genres</th>\n      <th>id</th>\n      <th>imdb_id</th>\n      <th>original_title</th>\n      <th>popularity</th>\n      <th>release_date</th>\n      <th>revenue</th>\n      <th>runtime</th>\n      <th>vote_average</th>\n      <th>vote_count</th>\n    </tr>\n  </thead>\n  <tbody>\n    <tr>\n      <th>0</th>\n      <td>30000000.0</td>\n      <td>[Animation, Comedy, Family]</td>\n      <td>862.0</td>\n      <td>tt0114709</td>\n      <td>Toy Story</td>\n      <td>21.946943</td>\n      <td>30/10/1995</td>\n      <td>373554033.0</td>\n      <td>81.0</td>\n      <td>7.7</td>\n      <td>5415.0</td>\n    </tr>\n    <tr>\n      <th>1</th>\n      <td>65000000.0</td>\n      <td>[Adventure, Fantasy, Family]</td>\n      <td>8844.0</td>\n      <td>tt0113497</td>\n      <td>Jumanji</td>\n      <td>17.015539</td>\n      <td>15/12/1995</td>\n      <td>262797249.0</td>\n      <td>104.0</td>\n      <td>6.9</td>\n      <td>2413.0</td>\n    </tr>\n    <tr>\n      <th>3</th>\n      <td>16000000.0</td>\n      <td>[Comedy, Drama, Romance]</td>\n      <td>31357.0</td>\n      <td>tt0114885</td>\n      <td>Waiting to Exhale</td>\n      <td>3.859495</td>\n      <td>22/12/1995</td>\n      <td>81452156.0</td>\n      <td>127.0</td>\n      <td>6.1</td>\n      <td>34.0</td>\n    </tr>\n    <tr>\n      <th>5</th>\n      <td>60000000.0</td>\n      <td>[Action, Crime, Drama, Thriller]</td>\n      <td>949.0</td>\n      <td>tt0113277</td>\n      <td>Heat</td>\n      <td>17.924927</td>\n      <td>15/12/1995</td>\n      <td>187436818.0</td>\n      <td>170.0</td>\n      <td>7.7</td>\n      <td>1886.0</td>\n    </tr>\n    <tr>\n      <th>8</th>\n      <td>35000000.0</td>\n      <td>[Action, Adventure, Thriller]</td>\n      <td>9091.0</td>\n      <td>tt0114576</td>\n      <td>Sudden Death</td>\n      <td>5.231580</td>\n      <td>22/12/1995</td>\n      <td>64350171.0</td>\n      <td>106.0</td>\n      <td>5.5</td>\n      <td>174.0</td>\n    </tr>\n    <tr>\n      <th>...</th>\n      <td>...</td>\n      <td>...</td>\n      <td>...</td>\n      <td>...</td>\n      <td>...</td>\n      <td>...</td>\n      <td>...</td>\n      <td>...</td>\n      <td>...</td>\n      <td>...</td>\n      <td>...</td>\n    </tr>\n    <tr>\n      <th>45014</th>\n      <td>60000000.0</td>\n      <td>[Action, Western, Science Fiction, Fantasy, Ho...</td>\n      <td>353491.0</td>\n      <td>tt1648190</td>\n      <td>The Dark Tower</td>\n      <td>50.903593</td>\n      <td>03/08/2017</td>\n      <td>71000000.0</td>\n      <td>95.0</td>\n      <td>5.7</td>\n      <td>688.0</td>\n    </tr>\n    <tr>\n      <th>45139</th>\n      <td>50000000.0</td>\n      <td>[Comedy, Family, Animation]</td>\n      <td>378236.0</td>\n      <td>tt4877122</td>\n      <td>The Emoji Movie</td>\n      <td>33.694599</td>\n      <td>28/07/2017</td>\n      <td>66913939.0</td>\n      <td>86.0</td>\n      <td>5.8</td>\n      <td>327.0</td>\n    </tr>\n    <tr>\n      <th>45167</th>\n      <td>11000000.0</td>\n      <td>[Action, Crime, Mystery, Thriller]</td>\n      <td>395834.0</td>\n      <td>tt5362988</td>\n      <td>Wind River</td>\n      <td>40.796775</td>\n      <td>03/08/2017</td>\n      <td>184770205.0</td>\n      <td>111.0</td>\n      <td>7.4</td>\n      <td>181.0</td>\n    </tr>\n    <tr>\n      <th>45409</th>\n      <td>800000.0</td>\n      <td>[Comedy, Drama]</td>\n      <td>62757.0</td>\n      <td>tt0933361</td>\n      <td>Dikari</td>\n      <td>0.903061</td>\n      <td>23/11/2006</td>\n      <td>1328612.0</td>\n      <td>100.0</td>\n      <td>5.8</td>\n      <td>6.0</td>\n    </tr>\n    <tr>\n      <th>45412</th>\n      <td>2000000.0</td>\n      <td>[Romance, Drama]</td>\n      <td>63281.0</td>\n      <td>tt1718881</td>\n      <td>Про любоff</td>\n      <td>0.121844</td>\n      <td>30/09/2010</td>\n      <td>1268793.0</td>\n      <td>107.0</td>\n      <td>4.0</td>\n      <td>3.0</td>\n    </tr>\n  </tbody>\n</table>\n<p>4782 rows × 11 columns</p>\n</div>"
     },
     "execution_count": 35,
     "metadata": {},
     "output_type": "execute_result"
    }
   ],
   "source": [
    "import pandas as pd\n",
    "import matplotlib.pyplot as plt\n",
    "from ast import literal_eval\n",
    "data = pd.read_csv(\"data/movies_metadata.csv\")\n",
    "data = data[data['original_language']=='en']\n",
    "data = data[['budget', 'genres','id', 'imdb_id','original_title', 'popularity', 'release_date', 'revenue', 'runtime', 'vote_average', 'vote_count']]\n",
    "data = data[(data['genres'] != \"[]\")]\n",
    "data['genres'] = data['genres'].fillna('[]').apply(literal_eval).apply(lambda x: [i['name'] for i in x] if isinstance(x, list) else [])\n",
    "data = data[(data.T != 0).all()]\n",
    "data"
   ]
  }
 ],
 "metadata": {
  "kernelspec": {
   "display_name": "Python 3",
   "language": "python",
   "name": "python3"
  },
  "language_info": {
   "codemirror_mode": {
    "name": "ipython",
    "version": 2
   },
   "file_extension": ".py",
   "mimetype": "text/x-python",
   "name": "python",
   "nbconvert_exporter": "python",
   "pygments_lexer": "ipython2",
   "version": "2.7.6"
  }
 },
 "nbformat": 4,
 "nbformat_minor": 0
}