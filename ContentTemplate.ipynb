{
 "cells": [
  {
   "cell_type": "markdown",
   "source": [
    "# Content Recommender\n",
    "With the content-based filtering we will (based on one movie choice) recommends movies by finding similar movies based on the movie genre, overview and crew."
   ],
   "metadata": {
    "collapsed": false,
    "pycharm": {
     "name": "#%% md\n"
    }
   }
  },
  {
   "cell_type": "code",
   "execution_count": 1,
   "outputs": [],
   "source": [
    "import modules.recommmender.ContentRecommender as cr\n",
    "import modules.wordclouds.WordCloud as wc"
   ],
   "metadata": {
    "collapsed": false,
    "pycharm": {
     "name": "#%%\n"
    }
   }
  },
  {
   "cell_type": "markdown",
   "source": [
    "#### Get data\n",
    "We are going to use data about movies and credits. We load our datasets from our folder \"data\"."
   ],
   "metadata": {
    "collapsed": false,
    "pycharm": {
     "name": "#%% md\n"
    }
   }
  },
  {
   "cell_type": "code",
   "execution_count": 2,
   "outputs": [
    {
     "data": {
      "text/plain": "   Unnamed: 0  Movie_id                        title  \\\n0           0       238                The Godfather   \n1           1       278     The Shawshank Redemption   \n2           2       240        The Godfather Part II   \n3           3     19404  Dilwale Dulhania Le Jayenge   \n4           4       424             Schindler's List   \n\n                                              Genres release_date  \\\n0  [{'id': 18, 'name': 'Drama'}, {'id': 80, 'name...   1972-03-14   \n1  [{'id': 18, 'name': 'Drama'}, {'id': 80, 'name...   1994-09-23   \n2  [{'id': 18, 'name': 'Drama'}, {'id': 80, 'name...   1974-12-20   \n3  [{'id': 35, 'name': 'Comedy'}, {'id': 18, 'nam...   1995-10-19   \n4  [{'id': 18, 'name': 'Drama'}, {'id': 36, 'name...   1993-12-15   \n\n                                            Keywords  \\\n0  [{'id': 131, 'name': 'italy'}, {'id': 697, 'na...   \n1  [{'id': 378, 'name': 'prison'}, {'id': 417, 'n...   \n2  [{'id': 131, 'name': 'italy'}, {'id': 700, 'na...   \n3                                                 []   \n4  [{'id': 818, 'name': 'based on novel or book'}...   \n\n                                            overview  \\\n0  Spanning the years 1945 to 1955, a chronicle o...   \n1  Framed in the 1940s for the double murder of h...   \n2  In the continuing saga of the Corleone crime f...   \n3  Raj is a rich, carefree, happy-go-lucky second...   \n4  The true story of how businessman Oskar Schind...   \n\n                        poster_path     Budget    Revenue  popularity  \\\n0  /3bhkrj58Vtu7enYsRolD1fZdja1.jpg  245066411  245066411      93.552   \n1  /q6y0Go1tsGEsmtFryDOJo3dEmqu.jpg   28341469   28341469      78.664   \n2  /hek3koDUyRQk7FIhPXsa6mT2Zc3.jpg  102600000  102600000      55.752   \n3  /2CAL2433ZeIihfX1Hb2139CX0pW.jpg  100000000  100000000      22.150   \n4  /sF1U4EUQS8YHUYjNl3pMGNIQyr0.jpg  321365567  321365567      53.542   \n\n   vote_average  vote_count  \n0           8.7       16814  \n1           8.7       22542  \n2           8.6       10187  \n3           8.6        3927  \n4           8.6       13382  ",
      "text/html": "<div>\n<style scoped>\n    .dataframe tbody tr th:only-of-type {\n        vertical-align: middle;\n    }\n\n    .dataframe tbody tr th {\n        vertical-align: top;\n    }\n\n    .dataframe thead th {\n        text-align: right;\n    }\n</style>\n<table border=\"1\" class=\"dataframe\">\n  <thead>\n    <tr style=\"text-align: right;\">\n      <th></th>\n      <th>Unnamed: 0</th>\n      <th>Movie_id</th>\n      <th>title</th>\n      <th>Genres</th>\n      <th>release_date</th>\n      <th>Keywords</th>\n      <th>overview</th>\n      <th>poster_path</th>\n      <th>Budget</th>\n      <th>Revenue</th>\n      <th>popularity</th>\n      <th>vote_average</th>\n      <th>vote_count</th>\n    </tr>\n  </thead>\n  <tbody>\n    <tr>\n      <th>0</th>\n      <td>0</td>\n      <td>238</td>\n      <td>The Godfather</td>\n      <td>[{'id': 18, 'name': 'Drama'}, {'id': 80, 'name...</td>\n      <td>1972-03-14</td>\n      <td>[{'id': 131, 'name': 'italy'}, {'id': 697, 'na...</td>\n      <td>Spanning the years 1945 to 1955, a chronicle o...</td>\n      <td>/3bhkrj58Vtu7enYsRolD1fZdja1.jpg</td>\n      <td>245066411</td>\n      <td>245066411</td>\n      <td>93.552</td>\n      <td>8.7</td>\n      <td>16814</td>\n    </tr>\n    <tr>\n      <th>1</th>\n      <td>1</td>\n      <td>278</td>\n      <td>The Shawshank Redemption</td>\n      <td>[{'id': 18, 'name': 'Drama'}, {'id': 80, 'name...</td>\n      <td>1994-09-23</td>\n      <td>[{'id': 378, 'name': 'prison'}, {'id': 417, 'n...</td>\n      <td>Framed in the 1940s for the double murder of h...</td>\n      <td>/q6y0Go1tsGEsmtFryDOJo3dEmqu.jpg</td>\n      <td>28341469</td>\n      <td>28341469</td>\n      <td>78.664</td>\n      <td>8.7</td>\n      <td>22542</td>\n    </tr>\n    <tr>\n      <th>2</th>\n      <td>2</td>\n      <td>240</td>\n      <td>The Godfather Part II</td>\n      <td>[{'id': 18, 'name': 'Drama'}, {'id': 80, 'name...</td>\n      <td>1974-12-20</td>\n      <td>[{'id': 131, 'name': 'italy'}, {'id': 700, 'na...</td>\n      <td>In the continuing saga of the Corleone crime f...</td>\n      <td>/hek3koDUyRQk7FIhPXsa6mT2Zc3.jpg</td>\n      <td>102600000</td>\n      <td>102600000</td>\n      <td>55.752</td>\n      <td>8.6</td>\n      <td>10187</td>\n    </tr>\n    <tr>\n      <th>3</th>\n      <td>3</td>\n      <td>19404</td>\n      <td>Dilwale Dulhania Le Jayenge</td>\n      <td>[{'id': 35, 'name': 'Comedy'}, {'id': 18, 'nam...</td>\n      <td>1995-10-19</td>\n      <td>[]</td>\n      <td>Raj is a rich, carefree, happy-go-lucky second...</td>\n      <td>/2CAL2433ZeIihfX1Hb2139CX0pW.jpg</td>\n      <td>100000000</td>\n      <td>100000000</td>\n      <td>22.150</td>\n      <td>8.6</td>\n      <td>3927</td>\n    </tr>\n    <tr>\n      <th>4</th>\n      <td>4</td>\n      <td>424</td>\n      <td>Schindler's List</td>\n      <td>[{'id': 18, 'name': 'Drama'}, {'id': 36, 'name...</td>\n      <td>1993-12-15</td>\n      <td>[{'id': 818, 'name': 'based on novel or book'}...</td>\n      <td>The true story of how businessman Oskar Schind...</td>\n      <td>/sF1U4EUQS8YHUYjNl3pMGNIQyr0.jpg</td>\n      <td>321365567</td>\n      <td>321365567</td>\n      <td>53.542</td>\n      <td>8.6</td>\n      <td>13382</td>\n    </tr>\n  </tbody>\n</table>\n</div>"
     },
     "execution_count": 2,
     "metadata": {},
     "output_type": "execute_result"
    }
   ],
   "source": [
    "movies_df = cr.load_movies()\n",
    "movies_df.head()"
   ],
   "metadata": {
    "collapsed": false,
    "pycharm": {
     "name": "#%%\n"
    }
   }
  },
  {
   "cell_type": "code",
   "execution_count": 3,
   "outputs": [
    {
     "data": {
      "text/plain": "(9980, 13)"
     },
     "execution_count": 3,
     "metadata": {},
     "output_type": "execute_result"
    }
   ],
   "source": [
    "movies_df.shape"
   ],
   "metadata": {
    "collapsed": false,
    "pycharm": {
     "name": "#%%\n"
    }
   }
  },
  {
   "cell_type": "code",
   "execution_count": 4,
   "outputs": [
    {
     "data": {
      "text/plain": "   Unnamed: 0  Movie_id                        title  \\\n0           0       238                The Godfather   \n1           1       278     The Shawshank Redemption   \n2           2       240        The Godfather Part II   \n3           3     19404  Dilwale Dulhania Le Jayenge   \n4           4       424             Schindler's List   \n\n                                                Cast  \\\n0  [{'adult': False, 'gender': 2, 'id': 3084, 'kn...   \n1  [{'adult': False, 'gender': 2, 'id': 504, 'kno...   \n2  [{'adult': False, 'gender': 2, 'id': 1158, 'kn...   \n3  [{'adult': False, 'gender': 2, 'id': 35742, 'k...   \n4  [{'adult': False, 'gender': 2, 'id': 3896, 'kn...   \n\n                                                Crew  \n0  [{'adult': False, 'gender': 2, 'id': 154, 'kno...  \n1  [{'adult': False, 'gender': 2, 'id': 153, 'kno...  \n2  [{'adult': False, 'gender': 2, 'id': 154, 'kno...  \n3  [{'adult': False, 'gender': 1, 'id': 8311, 'kn...  \n4  [{'adult': False, 'gender': 2, 'id': 491, 'kno...  ",
      "text/html": "<div>\n<style scoped>\n    .dataframe tbody tr th:only-of-type {\n        vertical-align: middle;\n    }\n\n    .dataframe tbody tr th {\n        vertical-align: top;\n    }\n\n    .dataframe thead th {\n        text-align: right;\n    }\n</style>\n<table border=\"1\" class=\"dataframe\">\n  <thead>\n    <tr style=\"text-align: right;\">\n      <th></th>\n      <th>Unnamed: 0</th>\n      <th>Movie_id</th>\n      <th>title</th>\n      <th>Cast</th>\n      <th>Crew</th>\n    </tr>\n  </thead>\n  <tbody>\n    <tr>\n      <th>0</th>\n      <td>0</td>\n      <td>238</td>\n      <td>The Godfather</td>\n      <td>[{'adult': False, 'gender': 2, 'id': 3084, 'kn...</td>\n      <td>[{'adult': False, 'gender': 2, 'id': 154, 'kno...</td>\n    </tr>\n    <tr>\n      <th>1</th>\n      <td>1</td>\n      <td>278</td>\n      <td>The Shawshank Redemption</td>\n      <td>[{'adult': False, 'gender': 2, 'id': 504, 'kno...</td>\n      <td>[{'adult': False, 'gender': 2, 'id': 153, 'kno...</td>\n    </tr>\n    <tr>\n      <th>2</th>\n      <td>2</td>\n      <td>240</td>\n      <td>The Godfather Part II</td>\n      <td>[{'adult': False, 'gender': 2, 'id': 1158, 'kn...</td>\n      <td>[{'adult': False, 'gender': 2, 'id': 154, 'kno...</td>\n    </tr>\n    <tr>\n      <th>3</th>\n      <td>3</td>\n      <td>19404</td>\n      <td>Dilwale Dulhania Le Jayenge</td>\n      <td>[{'adult': False, 'gender': 2, 'id': 35742, 'k...</td>\n      <td>[{'adult': False, 'gender': 1, 'id': 8311, 'kn...</td>\n    </tr>\n    <tr>\n      <th>4</th>\n      <td>4</td>\n      <td>424</td>\n      <td>Schindler's List</td>\n      <td>[{'adult': False, 'gender': 2, 'id': 3896, 'kn...</td>\n      <td>[{'adult': False, 'gender': 2, 'id': 491, 'kno...</td>\n    </tr>\n  </tbody>\n</table>\n</div>"
     },
     "execution_count": 4,
     "metadata": {},
     "output_type": "execute_result"
    }
   ],
   "source": [
    "credits_df = cr.load_credits()\n",
    "credits_df.head()"
   ],
   "metadata": {
    "collapsed": false,
    "pycharm": {
     "name": "#%%\n"
    }
   }
  },
  {
   "cell_type": "code",
   "execution_count": 5,
   "outputs": [
    {
     "data": {
      "text/plain": "(9980, 5)"
     },
     "execution_count": 5,
     "metadata": {},
     "output_type": "execute_result"
    }
   ],
   "source": [
    "credits_df.shape"
   ],
   "metadata": {
    "collapsed": false,
    "pycharm": {
     "name": "#%%\n"
    }
   }
  },
  {
   "cell_type": "markdown",
   "source": [
    "#### Preparing data\n",
    "We will now clean the credits dataframe."
   ],
   "metadata": {
    "collapsed": false,
    "pycharm": {
     "name": "#%% md\n"
    }
   }
  },
  {
   "cell_type": "code",
   "execution_count": 6,
   "outputs": [
    {
     "data": {
      "text/plain": "   Unnamed: 0  Movie_id                                               Cast  \\\n0           0       238  [{'adult': False, 'gender': 2, 'id': 3084, 'kn...   \n1           1       278  [{'adult': False, 'gender': 2, 'id': 504, 'kno...   \n2           2       240  [{'adult': False, 'gender': 2, 'id': 1158, 'kn...   \n3           3     19404  [{'adult': False, 'gender': 2, 'id': 35742, 'k...   \n4           4       424  [{'adult': False, 'gender': 2, 'id': 3896, 'kn...   \n\n                                                Crew  \n0  [{'adult': False, 'gender': 2, 'id': 154, 'kno...  \n1  [{'adult': False, 'gender': 2, 'id': 153, 'kno...  \n2  [{'adult': False, 'gender': 2, 'id': 154, 'kno...  \n3  [{'adult': False, 'gender': 1, 'id': 8311, 'kn...  \n4  [{'adult': False, 'gender': 2, 'id': 491, 'kno...  ",
      "text/html": "<div>\n<style scoped>\n    .dataframe tbody tr th:only-of-type {\n        vertical-align: middle;\n    }\n\n    .dataframe tbody tr th {\n        vertical-align: top;\n    }\n\n    .dataframe thead th {\n        text-align: right;\n    }\n</style>\n<table border=\"1\" class=\"dataframe\">\n  <thead>\n    <tr style=\"text-align: right;\">\n      <th></th>\n      <th>Unnamed: 0</th>\n      <th>Movie_id</th>\n      <th>Cast</th>\n      <th>Crew</th>\n    </tr>\n  </thead>\n  <tbody>\n    <tr>\n      <th>0</th>\n      <td>0</td>\n      <td>238</td>\n      <td>[{'adult': False, 'gender': 2, 'id': 3084, 'kn...</td>\n      <td>[{'adult': False, 'gender': 2, 'id': 154, 'kno...</td>\n    </tr>\n    <tr>\n      <th>1</th>\n      <td>1</td>\n      <td>278</td>\n      <td>[{'adult': False, 'gender': 2, 'id': 504, 'kno...</td>\n      <td>[{'adult': False, 'gender': 2, 'id': 153, 'kno...</td>\n    </tr>\n    <tr>\n      <th>2</th>\n      <td>2</td>\n      <td>240</td>\n      <td>[{'adult': False, 'gender': 2, 'id': 1158, 'kn...</td>\n      <td>[{'adult': False, 'gender': 2, 'id': 154, 'kno...</td>\n    </tr>\n    <tr>\n      <th>3</th>\n      <td>3</td>\n      <td>19404</td>\n      <td>[{'adult': False, 'gender': 2, 'id': 35742, 'k...</td>\n      <td>[{'adult': False, 'gender': 1, 'id': 8311, 'kn...</td>\n    </tr>\n    <tr>\n      <th>4</th>\n      <td>4</td>\n      <td>424</td>\n      <td>[{'adult': False, 'gender': 2, 'id': 3896, 'kn...</td>\n      <td>[{'adult': False, 'gender': 2, 'id': 491, 'kno...</td>\n    </tr>\n  </tbody>\n</table>\n</div>"
     },
     "execution_count": 6,
     "metadata": {},
     "output_type": "execute_result"
    }
   ],
   "source": [
    "# drop title column\n",
    "credits_df = cr.prepare_credits(credits_df)\n",
    "credits_df.head()"
   ],
   "metadata": {
    "collapsed": false,
    "pycharm": {
     "name": "#%%\n"
    }
   }
  },
  {
   "cell_type": "code",
   "execution_count": 7,
   "outputs": [
    {
     "data": {
      "text/plain": "(9980, 4)"
     },
     "execution_count": 7,
     "metadata": {},
     "output_type": "execute_result"
    }
   ],
   "source": [
    "credits_df.shape"
   ],
   "metadata": {
    "collapsed": false,
    "pycharm": {
     "name": "#%%\n"
    }
   }
  },
  {
   "cell_type": "markdown",
   "source": [
    "#### Transformation\n",
    "We will now merge the dataframe to get a single dataframe we will use for our modelling. We will also reduce the size of dataframe by removing movies that do not have a high rating count."
   ],
   "metadata": {
    "collapsed": false,
    "pycharm": {
     "name": "#%% md\n"
    }
   }
  },
  {
   "cell_type": "markdown",
   "source": [
    "##### Merging movies and credits into one dataframe"
   ],
   "metadata": {
    "collapsed": false,
    "pycharm": {
     "name": "#%% md\n"
    }
   }
  },
  {
   "cell_type": "code",
   "execution_count": 8,
   "outputs": [
    {
     "data": {
      "text/plain": "   Unnamed: 0_x  Movie_id                        title  \\\n0             0       238                The Godfather   \n1             1       278     The Shawshank Redemption   \n2             2       240        The Godfather Part II   \n3             3     19404  Dilwale Dulhania Le Jayenge   \n4             4       424             Schindler's List   \n\n                                              Genres release_date  \\\n0  [{'id': 18, 'name': 'Drama'}, {'id': 80, 'name...   1972-03-14   \n1  [{'id': 18, 'name': 'Drama'}, {'id': 80, 'name...   1994-09-23   \n2  [{'id': 18, 'name': 'Drama'}, {'id': 80, 'name...   1974-12-20   \n3  [{'id': 35, 'name': 'Comedy'}, {'id': 18, 'nam...   1995-10-19   \n4  [{'id': 18, 'name': 'Drama'}, {'id': 36, 'name...   1993-12-15   \n\n                                            Keywords  \\\n0  [{'id': 131, 'name': 'italy'}, {'id': 697, 'na...   \n1  [{'id': 378, 'name': 'prison'}, {'id': 417, 'n...   \n2  [{'id': 131, 'name': 'italy'}, {'id': 700, 'na...   \n3                                                 []   \n4  [{'id': 818, 'name': 'based on novel or book'}...   \n\n                                            overview  \\\n0  Spanning the years 1945 to 1955, a chronicle o...   \n1  Framed in the 1940s for the double murder of h...   \n2  In the continuing saga of the Corleone crime f...   \n3  Raj is a rich, carefree, happy-go-lucky second...   \n4  The true story of how businessman Oskar Schind...   \n\n                        poster_path     Budget    Revenue  popularity  \\\n0  /3bhkrj58Vtu7enYsRolD1fZdja1.jpg  245066411  245066411      93.552   \n1  /q6y0Go1tsGEsmtFryDOJo3dEmqu.jpg   28341469   28341469      78.664   \n2  /hek3koDUyRQk7FIhPXsa6mT2Zc3.jpg  102600000  102600000      55.752   \n3  /2CAL2433ZeIihfX1Hb2139CX0pW.jpg  100000000  100000000      22.150   \n4  /sF1U4EUQS8YHUYjNl3pMGNIQyr0.jpg  321365567  321365567      53.542   \n\n   vote_average  vote_count  Unnamed: 0_y  \\\n0           8.7       16814             0   \n1           8.7       22542             1   \n2           8.6       10187             2   \n3           8.6        3927             3   \n4           8.6       13382             4   \n\n                                                Cast  \\\n0  [{'adult': False, 'gender': 2, 'id': 3084, 'kn...   \n1  [{'adult': False, 'gender': 2, 'id': 504, 'kno...   \n2  [{'adult': False, 'gender': 2, 'id': 1158, 'kn...   \n3  [{'adult': False, 'gender': 2, 'id': 35742, 'k...   \n4  [{'adult': False, 'gender': 2, 'id': 3896, 'kn...   \n\n                                                Crew  \n0  [{'adult': False, 'gender': 2, 'id': 154, 'kno...  \n1  [{'adult': False, 'gender': 2, 'id': 153, 'kno...  \n2  [{'adult': False, 'gender': 2, 'id': 154, 'kno...  \n3  [{'adult': False, 'gender': 1, 'id': 8311, 'kn...  \n4  [{'adult': False, 'gender': 2, 'id': 491, 'kno...  ",
      "text/html": "<div>\n<style scoped>\n    .dataframe tbody tr th:only-of-type {\n        vertical-align: middle;\n    }\n\n    .dataframe tbody tr th {\n        vertical-align: top;\n    }\n\n    .dataframe thead th {\n        text-align: right;\n    }\n</style>\n<table border=\"1\" class=\"dataframe\">\n  <thead>\n    <tr style=\"text-align: right;\">\n      <th></th>\n      <th>Unnamed: 0_x</th>\n      <th>Movie_id</th>\n      <th>title</th>\n      <th>Genres</th>\n      <th>release_date</th>\n      <th>Keywords</th>\n      <th>overview</th>\n      <th>poster_path</th>\n      <th>Budget</th>\n      <th>Revenue</th>\n      <th>popularity</th>\n      <th>vote_average</th>\n      <th>vote_count</th>\n      <th>Unnamed: 0_y</th>\n      <th>Cast</th>\n      <th>Crew</th>\n    </tr>\n  </thead>\n  <tbody>\n    <tr>\n      <th>0</th>\n      <td>0</td>\n      <td>238</td>\n      <td>The Godfather</td>\n      <td>[{'id': 18, 'name': 'Drama'}, {'id': 80, 'name...</td>\n      <td>1972-03-14</td>\n      <td>[{'id': 131, 'name': 'italy'}, {'id': 697, 'na...</td>\n      <td>Spanning the years 1945 to 1955, a chronicle o...</td>\n      <td>/3bhkrj58Vtu7enYsRolD1fZdja1.jpg</td>\n      <td>245066411</td>\n      <td>245066411</td>\n      <td>93.552</td>\n      <td>8.7</td>\n      <td>16814</td>\n      <td>0</td>\n      <td>[{'adult': False, 'gender': 2, 'id': 3084, 'kn...</td>\n      <td>[{'adult': False, 'gender': 2, 'id': 154, 'kno...</td>\n    </tr>\n    <tr>\n      <th>1</th>\n      <td>1</td>\n      <td>278</td>\n      <td>The Shawshank Redemption</td>\n      <td>[{'id': 18, 'name': 'Drama'}, {'id': 80, 'name...</td>\n      <td>1994-09-23</td>\n      <td>[{'id': 378, 'name': 'prison'}, {'id': 417, 'n...</td>\n      <td>Framed in the 1940s for the double murder of h...</td>\n      <td>/q6y0Go1tsGEsmtFryDOJo3dEmqu.jpg</td>\n      <td>28341469</td>\n      <td>28341469</td>\n      <td>78.664</td>\n      <td>8.7</td>\n      <td>22542</td>\n      <td>1</td>\n      <td>[{'adult': False, 'gender': 2, 'id': 504, 'kno...</td>\n      <td>[{'adult': False, 'gender': 2, 'id': 153, 'kno...</td>\n    </tr>\n    <tr>\n      <th>2</th>\n      <td>2</td>\n      <td>240</td>\n      <td>The Godfather Part II</td>\n      <td>[{'id': 18, 'name': 'Drama'}, {'id': 80, 'name...</td>\n      <td>1974-12-20</td>\n      <td>[{'id': 131, 'name': 'italy'}, {'id': 700, 'na...</td>\n      <td>In the continuing saga of the Corleone crime f...</td>\n      <td>/hek3koDUyRQk7FIhPXsa6mT2Zc3.jpg</td>\n      <td>102600000</td>\n      <td>102600000</td>\n      <td>55.752</td>\n      <td>8.6</td>\n      <td>10187</td>\n      <td>2</td>\n      <td>[{'adult': False, 'gender': 2, 'id': 1158, 'kn...</td>\n      <td>[{'adult': False, 'gender': 2, 'id': 154, 'kno...</td>\n    </tr>\n    <tr>\n      <th>3</th>\n      <td>3</td>\n      <td>19404</td>\n      <td>Dilwale Dulhania Le Jayenge</td>\n      <td>[{'id': 35, 'name': 'Comedy'}, {'id': 18, 'nam...</td>\n      <td>1995-10-19</td>\n      <td>[]</td>\n      <td>Raj is a rich, carefree, happy-go-lucky second...</td>\n      <td>/2CAL2433ZeIihfX1Hb2139CX0pW.jpg</td>\n      <td>100000000</td>\n      <td>100000000</td>\n      <td>22.150</td>\n      <td>8.6</td>\n      <td>3927</td>\n      <td>3</td>\n      <td>[{'adult': False, 'gender': 2, 'id': 35742, 'k...</td>\n      <td>[{'adult': False, 'gender': 1, 'id': 8311, 'kn...</td>\n    </tr>\n    <tr>\n      <th>4</th>\n      <td>4</td>\n      <td>424</td>\n      <td>Schindler's List</td>\n      <td>[{'id': 18, 'name': 'Drama'}, {'id': 36, 'name...</td>\n      <td>1993-12-15</td>\n      <td>[{'id': 818, 'name': 'based on novel or book'}...</td>\n      <td>The true story of how businessman Oskar Schind...</td>\n      <td>/sF1U4EUQS8YHUYjNl3pMGNIQyr0.jpg</td>\n      <td>321365567</td>\n      <td>321365567</td>\n      <td>53.542</td>\n      <td>8.6</td>\n      <td>13382</td>\n      <td>4</td>\n      <td>[{'adult': False, 'gender': 2, 'id': 3896, 'kn...</td>\n      <td>[{'adult': False, 'gender': 2, 'id': 491, 'kno...</td>\n    </tr>\n  </tbody>\n</table>\n</div>"
     },
     "execution_count": 8,
     "metadata": {},
     "output_type": "execute_result"
    }
   ],
   "source": [
    "df = cr.merge_movies_and_credits(movies_df, credits_df)\n",
    "df.head()"
   ],
   "metadata": {
    "collapsed": false,
    "pycharm": {
     "name": "#%%\n"
    }
   }
  },
  {
   "cell_type": "code",
   "execution_count": 9,
   "outputs": [
    {
     "data": {
      "text/plain": "(9980, 16)"
     },
     "execution_count": 9,
     "metadata": {},
     "output_type": "execute_result"
    }
   ],
   "source": [
    "df.shape"
   ],
   "metadata": {
    "collapsed": false,
    "pycharm": {
     "name": "#%%\n"
    }
   }
  },
  {
   "cell_type": "markdown",
   "source": [
    "##### Clean the merged dataframe\n",
    "We will select the columns we will need, plus remove the NaN values from the dataframe."
   ],
   "metadata": {
    "collapsed": false,
    "pycharm": {
     "name": "#%% md\n"
    }
   }
  },
  {
   "cell_type": "code",
   "execution_count": 10,
   "outputs": [
    {
     "data": {
      "text/plain": "   Movie_id                        title  \\\n0       238                The Godfather   \n1       278     The Shawshank Redemption   \n2       240        The Godfather Part II   \n3     19404  Dilwale Dulhania Le Jayenge   \n4       424             Schindler's List   \n\n                                              Genres  \\\n0  [{'id': 18, 'name': 'Drama'}, {'id': 80, 'name...   \n1  [{'id': 18, 'name': 'Drama'}, {'id': 80, 'name...   \n2  [{'id': 18, 'name': 'Drama'}, {'id': 80, 'name...   \n3  [{'id': 35, 'name': 'Comedy'}, {'id': 18, 'nam...   \n4  [{'id': 18, 'name': 'Drama'}, {'id': 36, 'name...   \n\n                                            Keywords  \\\n0  [{'id': 131, 'name': 'italy'}, {'id': 697, 'na...   \n1  [{'id': 378, 'name': 'prison'}, {'id': 417, 'n...   \n2  [{'id': 131, 'name': 'italy'}, {'id': 700, 'na...   \n3                                                 []   \n4  [{'id': 818, 'name': 'based on novel or book'}...   \n\n                                            overview  \\\n0  Spanning the years 1945 to 1955, a chronicle o...   \n1  Framed in the 1940s for the double murder of h...   \n2  In the continuing saga of the Corleone crime f...   \n3  Raj is a rich, carefree, happy-go-lucky second...   \n4  The true story of how businessman Oskar Schind...   \n\n                                                Cast  \\\n0  [{'adult': False, 'gender': 2, 'id': 3084, 'kn...   \n1  [{'adult': False, 'gender': 2, 'id': 504, 'kno...   \n2  [{'adult': False, 'gender': 2, 'id': 1158, 'kn...   \n3  [{'adult': False, 'gender': 2, 'id': 35742, 'k...   \n4  [{'adult': False, 'gender': 2, 'id': 3896, 'kn...   \n\n                                                Crew  \n0  [{'adult': False, 'gender': 2, 'id': 154, 'kno...  \n1  [{'adult': False, 'gender': 2, 'id': 153, 'kno...  \n2  [{'adult': False, 'gender': 2, 'id': 154, 'kno...  \n3  [{'adult': False, 'gender': 1, 'id': 8311, 'kn...  \n4  [{'adult': False, 'gender': 2, 'id': 491, 'kno...  ",
      "text/html": "<div>\n<style scoped>\n    .dataframe tbody tr th:only-of-type {\n        vertical-align: middle;\n    }\n\n    .dataframe tbody tr th {\n        vertical-align: top;\n    }\n\n    .dataframe thead th {\n        text-align: right;\n    }\n</style>\n<table border=\"1\" class=\"dataframe\">\n  <thead>\n    <tr style=\"text-align: right;\">\n      <th></th>\n      <th>Movie_id</th>\n      <th>title</th>\n      <th>Genres</th>\n      <th>Keywords</th>\n      <th>overview</th>\n      <th>Cast</th>\n      <th>Crew</th>\n    </tr>\n  </thead>\n  <tbody>\n    <tr>\n      <th>0</th>\n      <td>238</td>\n      <td>The Godfather</td>\n      <td>[{'id': 18, 'name': 'Drama'}, {'id': 80, 'name...</td>\n      <td>[{'id': 131, 'name': 'italy'}, {'id': 697, 'na...</td>\n      <td>Spanning the years 1945 to 1955, a chronicle o...</td>\n      <td>[{'adult': False, 'gender': 2, 'id': 3084, 'kn...</td>\n      <td>[{'adult': False, 'gender': 2, 'id': 154, 'kno...</td>\n    </tr>\n    <tr>\n      <th>1</th>\n      <td>278</td>\n      <td>The Shawshank Redemption</td>\n      <td>[{'id': 18, 'name': 'Drama'}, {'id': 80, 'name...</td>\n      <td>[{'id': 378, 'name': 'prison'}, {'id': 417, 'n...</td>\n      <td>Framed in the 1940s for the double murder of h...</td>\n      <td>[{'adult': False, 'gender': 2, 'id': 504, 'kno...</td>\n      <td>[{'adult': False, 'gender': 2, 'id': 153, 'kno...</td>\n    </tr>\n    <tr>\n      <th>2</th>\n      <td>240</td>\n      <td>The Godfather Part II</td>\n      <td>[{'id': 18, 'name': 'Drama'}, {'id': 80, 'name...</td>\n      <td>[{'id': 131, 'name': 'italy'}, {'id': 700, 'na...</td>\n      <td>In the continuing saga of the Corleone crime f...</td>\n      <td>[{'adult': False, 'gender': 2, 'id': 1158, 'kn...</td>\n      <td>[{'adult': False, 'gender': 2, 'id': 154, 'kno...</td>\n    </tr>\n    <tr>\n      <th>3</th>\n      <td>19404</td>\n      <td>Dilwale Dulhania Le Jayenge</td>\n      <td>[{'id': 35, 'name': 'Comedy'}, {'id': 18, 'nam...</td>\n      <td>[]</td>\n      <td>Raj is a rich, carefree, happy-go-lucky second...</td>\n      <td>[{'adult': False, 'gender': 2, 'id': 35742, 'k...</td>\n      <td>[{'adult': False, 'gender': 1, 'id': 8311, 'kn...</td>\n    </tr>\n    <tr>\n      <th>4</th>\n      <td>424</td>\n      <td>Schindler's List</td>\n      <td>[{'id': 18, 'name': 'Drama'}, {'id': 36, 'name...</td>\n      <td>[{'id': 818, 'name': 'based on novel or book'}...</td>\n      <td>The true story of how businessman Oskar Schind...</td>\n      <td>[{'adult': False, 'gender': 2, 'id': 3896, 'kn...</td>\n      <td>[{'adult': False, 'gender': 2, 'id': 491, 'kno...</td>\n    </tr>\n  </tbody>\n</table>\n</div>"
     },
     "execution_count": 10,
     "metadata": {},
     "output_type": "execute_result"
    }
   ],
   "source": [
    "df = df[['Movie_id', 'title', 'Genres', \"Keywords\", 'overview', 'Cast', 'Crew']]\n",
    "df.dropna(inplace=True)\n",
    "df.head()"
   ],
   "metadata": {
    "collapsed": false,
    "pycharm": {
     "name": "#%%\n"
    }
   }
  },
  {
   "cell_type": "code",
   "execution_count": 11,
   "outputs": [
    {
     "data": {
      "text/plain": "(9974, 7)"
     },
     "execution_count": 11,
     "metadata": {},
     "output_type": "execute_result"
    }
   ],
   "source": [
    "df.shape"
   ],
   "metadata": {
    "collapsed": false,
    "pycharm": {
     "name": "#%%\n"
    }
   }
  },
  {
   "cell_type": "markdown",
   "source": [
    "##### Convert data\n",
    "We will convert some data by traverse through the syntax tree and converts the values to a list of words."
   ],
   "metadata": {
    "collapsed": false,
    "pycharm": {
     "name": "#%% md\n"
    }
   }
  },
  {
   "cell_type": "code",
   "execution_count": 12,
   "outputs": [
    {
     "data": {
      "text/plain": "   Movie_id                        title                    Genres  \\\n0       238                The Godfather            [Drama, Crime]   \n1       278     The Shawshank Redemption            [Drama, Crime]   \n2       240        The Godfather Part II            [Drama, Crime]   \n3     19404  Dilwale Dulhania Le Jayenge  [Comedy, Drama, Romance]   \n4       424             Schindler's List     [Drama, History, War]   \n\n                                            Keywords  \\\n0  [italy, lossoflovedone, loveatfirstsight, base...   \n1  [prison, corruption, policebrutality, basedonn...   \n2  [italy, italianamerican, cuba, symbolism, gang...   \n3                                                 []   \n4  [basedonnovelorbook, factory, concentrationcam...   \n\n                                            overview  \\\n0  [Spanning, the, years, 1945, to, 1955,, a, chr...   \n1  [Framed, in, the, 1940s, for, the, double, mur...   \n2  [In, the, continuing, saga, of, the, Corleone,...   \n3  [Raj, is, a, rich,, carefree,, happy-go-lucky,...   \n4  [The, true, story, of, how, businessman, Oskar...   \n\n                                      Cast                  Crew  \n0      [MarlonBrando, AlPacino, JamesCaan]  [FrancisFordCoppola]  \n1   [TimRobbins, MorganFreeman, BobGunton]       [FrankDarabont]  \n2    [AlPacino, RobertDuvall, DianeKeaton]  [FrancisFordCoppola]  \n3        [ShahRukhKhan, Kajol, AmrishPuri]        [AdityaChopra]  \n4  [LiamNeeson, BenKingsley, RalphFiennes]     [StevenSpielberg]  ",
      "text/html": "<div>\n<style scoped>\n    .dataframe tbody tr th:only-of-type {\n        vertical-align: middle;\n    }\n\n    .dataframe tbody tr th {\n        vertical-align: top;\n    }\n\n    .dataframe thead th {\n        text-align: right;\n    }\n</style>\n<table border=\"1\" class=\"dataframe\">\n  <thead>\n    <tr style=\"text-align: right;\">\n      <th></th>\n      <th>Movie_id</th>\n      <th>title</th>\n      <th>Genres</th>\n      <th>Keywords</th>\n      <th>overview</th>\n      <th>Cast</th>\n      <th>Crew</th>\n    </tr>\n  </thead>\n  <tbody>\n    <tr>\n      <th>0</th>\n      <td>238</td>\n      <td>The Godfather</td>\n      <td>[Drama, Crime]</td>\n      <td>[italy, lossoflovedone, loveatfirstsight, base...</td>\n      <td>[Spanning, the, years, 1945, to, 1955,, a, chr...</td>\n      <td>[MarlonBrando, AlPacino, JamesCaan]</td>\n      <td>[FrancisFordCoppola]</td>\n    </tr>\n    <tr>\n      <th>1</th>\n      <td>278</td>\n      <td>The Shawshank Redemption</td>\n      <td>[Drama, Crime]</td>\n      <td>[prison, corruption, policebrutality, basedonn...</td>\n      <td>[Framed, in, the, 1940s, for, the, double, mur...</td>\n      <td>[TimRobbins, MorganFreeman, BobGunton]</td>\n      <td>[FrankDarabont]</td>\n    </tr>\n    <tr>\n      <th>2</th>\n      <td>240</td>\n      <td>The Godfather Part II</td>\n      <td>[Drama, Crime]</td>\n      <td>[italy, italianamerican, cuba, symbolism, gang...</td>\n      <td>[In, the, continuing, saga, of, the, Corleone,...</td>\n      <td>[AlPacino, RobertDuvall, DianeKeaton]</td>\n      <td>[FrancisFordCoppola]</td>\n    </tr>\n    <tr>\n      <th>3</th>\n      <td>19404</td>\n      <td>Dilwale Dulhania Le Jayenge</td>\n      <td>[Comedy, Drama, Romance]</td>\n      <td>[]</td>\n      <td>[Raj, is, a, rich,, carefree,, happy-go-lucky,...</td>\n      <td>[ShahRukhKhan, Kajol, AmrishPuri]</td>\n      <td>[AdityaChopra]</td>\n    </tr>\n    <tr>\n      <th>4</th>\n      <td>424</td>\n      <td>Schindler's List</td>\n      <td>[Drama, History, War]</td>\n      <td>[basedonnovelorbook, factory, concentrationcam...</td>\n      <td>[The, true, story, of, how, businessman, Oskar...</td>\n      <td>[LiamNeeson, BenKingsley, RalphFiennes]</td>\n      <td>[StevenSpielberg]</td>\n    </tr>\n  </tbody>\n</table>\n</div>"
     },
     "execution_count": 12,
     "metadata": {},
     "output_type": "execute_result"
    }
   ],
   "source": [
    "# we will convert the data for genres, keywords, cast, crew & overview\n",
    "df = cr.convert_data(df)\n",
    "df.head()"
   ],
   "metadata": {
    "collapsed": false,
    "pycharm": {
     "name": "#%%\n"
    }
   }
  },
  {
   "cell_type": "code",
   "execution_count": 13,
   "outputs": [
    {
     "data": {
      "text/plain": "(9974, 7)"
     },
     "execution_count": 13,
     "metadata": {},
     "output_type": "execute_result"
    }
   ],
   "source": [
    "df.shape"
   ],
   "metadata": {
    "collapsed": false,
    "pycharm": {
     "name": "#%%\n"
    }
   }
  },
  {
   "cell_type": "markdown",
   "source": [
    "##### Create a column with tags\n",
    "The tag column will combine words from genres, keywords, cast, crew & overview."
   ],
   "metadata": {
    "collapsed": false,
    "pycharm": {
     "name": "#%% md\n"
    }
   }
  },
  {
   "cell_type": "code",
   "execution_count": 14,
   "outputs": [
    {
     "data": {
      "text/plain": "   Movie_id                        title                    Genres  \\\n0       238                The Godfather            [Drama, Crime]   \n1       278     The Shawshank Redemption            [Drama, Crime]   \n2       240        The Godfather Part II            [Drama, Crime]   \n3     19404  Dilwale Dulhania Le Jayenge  [Comedy, Drama, Romance]   \n4       424             Schindler's List     [Drama, History, War]   \n\n                                            Keywords  \\\n0  [italy, lossoflovedone, loveatfirstsight, base...   \n1  [prison, corruption, policebrutality, basedonn...   \n2  [italy, italianamerican, cuba, symbolism, gang...   \n3                                                 []   \n4  [basedonnovelorbook, factory, concentrationcam...   \n\n                                            overview  \\\n0  [Spanning, the, years, 1945, to, 1955,, a, chr...   \n1  [Framed, in, the, 1940s, for, the, double, mur...   \n2  [In, the, continuing, saga, of, the, Corleone,...   \n3  [Raj, is, a, rich,, carefree,, happy-go-lucky,...   \n4  [The, true, story, of, how, businessman, Oskar...   \n\n                                      Cast                  Crew  \\\n0      [MarlonBrando, AlPacino, JamesCaan]  [FrancisFordCoppola]   \n1   [TimRobbins, MorganFreeman, BobGunton]       [FrankDarabont]   \n2    [AlPacino, RobertDuvall, DianeKeaton]  [FrancisFordCoppola]   \n3        [ShahRukhKhan, Kajol, AmrishPuri]        [AdityaChopra]   \n4  [LiamNeeson, BenKingsley, RalphFiennes]     [StevenSpielberg]   \n\n                                                tags  \n0  drama crime italy lossoflovedone loveatfirstsi...  \n1  drama crime prison corruption policebrutality ...  \n2  drama crime italy italianamerican cuba symboli...  \n3  comedy drama romance shahrukhkhan kajol amrish...  \n4  drama history war basedonnovelorbook factory c...  ",
      "text/html": "<div>\n<style scoped>\n    .dataframe tbody tr th:only-of-type {\n        vertical-align: middle;\n    }\n\n    .dataframe tbody tr th {\n        vertical-align: top;\n    }\n\n    .dataframe thead th {\n        text-align: right;\n    }\n</style>\n<table border=\"1\" class=\"dataframe\">\n  <thead>\n    <tr style=\"text-align: right;\">\n      <th></th>\n      <th>Movie_id</th>\n      <th>title</th>\n      <th>Genres</th>\n      <th>Keywords</th>\n      <th>overview</th>\n      <th>Cast</th>\n      <th>Crew</th>\n      <th>tags</th>\n    </tr>\n  </thead>\n  <tbody>\n    <tr>\n      <th>0</th>\n      <td>238</td>\n      <td>The Godfather</td>\n      <td>[Drama, Crime]</td>\n      <td>[italy, lossoflovedone, loveatfirstsight, base...</td>\n      <td>[Spanning, the, years, 1945, to, 1955,, a, chr...</td>\n      <td>[MarlonBrando, AlPacino, JamesCaan]</td>\n      <td>[FrancisFordCoppola]</td>\n      <td>drama crime italy lossoflovedone loveatfirstsi...</td>\n    </tr>\n    <tr>\n      <th>1</th>\n      <td>278</td>\n      <td>The Shawshank Redemption</td>\n      <td>[Drama, Crime]</td>\n      <td>[prison, corruption, policebrutality, basedonn...</td>\n      <td>[Framed, in, the, 1940s, for, the, double, mur...</td>\n      <td>[TimRobbins, MorganFreeman, BobGunton]</td>\n      <td>[FrankDarabont]</td>\n      <td>drama crime prison corruption policebrutality ...</td>\n    </tr>\n    <tr>\n      <th>2</th>\n      <td>240</td>\n      <td>The Godfather Part II</td>\n      <td>[Drama, Crime]</td>\n      <td>[italy, italianamerican, cuba, symbolism, gang...</td>\n      <td>[In, the, continuing, saga, of, the, Corleone,...</td>\n      <td>[AlPacino, RobertDuvall, DianeKeaton]</td>\n      <td>[FrancisFordCoppola]</td>\n      <td>drama crime italy italianamerican cuba symboli...</td>\n    </tr>\n    <tr>\n      <th>3</th>\n      <td>19404</td>\n      <td>Dilwale Dulhania Le Jayenge</td>\n      <td>[Comedy, Drama, Romance]</td>\n      <td>[]</td>\n      <td>[Raj, is, a, rich,, carefree,, happy-go-lucky,...</td>\n      <td>[ShahRukhKhan, Kajol, AmrishPuri]</td>\n      <td>[AdityaChopra]</td>\n      <td>comedy drama romance shahrukhkhan kajol amrish...</td>\n    </tr>\n    <tr>\n      <th>4</th>\n      <td>424</td>\n      <td>Schindler's List</td>\n      <td>[Drama, History, War]</td>\n      <td>[basedonnovelorbook, factory, concentrationcam...</td>\n      <td>[The, true, story, of, how, businessman, Oskar...</td>\n      <td>[LiamNeeson, BenKingsley, RalphFiennes]</td>\n      <td>[StevenSpielberg]</td>\n      <td>drama history war basedonnovelorbook factory c...</td>\n    </tr>\n  </tbody>\n</table>\n</div>"
     },
     "execution_count": 14,
     "metadata": {},
     "output_type": "execute_result"
    }
   ],
   "source": [
    "df = cr.generate_tags(df)\n",
    "df.head()"
   ],
   "metadata": {
    "collapsed": false,
    "pycharm": {
     "name": "#%%\n"
    }
   }
  },
  {
   "cell_type": "code",
   "execution_count": 15,
   "outputs": [
    {
     "data": {
      "text/plain": "(9974, 8)"
     },
     "execution_count": 15,
     "metadata": {},
     "output_type": "execute_result"
    }
   ],
   "source": [
    "df.shape"
   ],
   "metadata": {
    "collapsed": false,
    "pycharm": {
     "name": "#%%\n"
    }
   }
  },
  {
   "cell_type": "markdown",
   "source": [
    "#### Modelling\n",
    "We will now make a clustering of our dataframe with K-mean algorithm"
   ],
   "metadata": {
    "collapsed": false,
    "pycharm": {
     "name": "#%% md\n"
    }
   }
  },
  {
   "cell_type": "code",
   "execution_count": 16,
   "outputs": [
    {
     "data": {
      "text/plain": "array([[0, 0, 0, ..., 0, 0, 0],\n       [0, 0, 0, ..., 0, 0, 0],\n       [0, 0, 0, ..., 0, 0, 0],\n       ...,\n       [0, 0, 0, ..., 0, 0, 0],\n       [0, 0, 0, ..., 0, 0, 0],\n       [0, 0, 0, ..., 0, 0, 0]], dtype=int64)"
     },
     "execution_count": 16,
     "metadata": {},
     "output_type": "execute_result"
    }
   ],
   "source": [
    "matrix = cr.create_matrix_of_tag_words(df)\n",
    "matrix"
   ],
   "metadata": {
    "collapsed": false,
    "pycharm": {
     "name": "#%%\n"
    }
   }
  },
  {
   "cell_type": "code",
   "execution_count": 17,
   "outputs": [
    {
     "data": {
      "text/plain": "(9974, 8000)"
     },
     "execution_count": 17,
     "metadata": {},
     "output_type": "execute_result"
    }
   ],
   "source": [
    "matrix.shape"
   ],
   "metadata": {
    "collapsed": false,
    "pycharm": {
     "name": "#%%\n"
    }
   }
  },
  {
   "cell_type": "code",
   "execution_count": 18,
   "outputs": [
    {
     "data": {
      "text/plain": "array([[1.        , 0.15118579, 0.43826153, ..., 0.06482037, 0.01801875,\n        0.14580296],\n       [0.15118579, 1.        , 0.08834522, ..., 0.03429972, 0.0381385 ,\n        0.        ],\n       [0.43826153, 0.08834522, 1.        , ..., 0.1136331 , 0.        ,\n        0.13631964],\n       ...,\n       [0.06482037, 0.03429972, 0.1136331 , ..., 1.        , 0.0327035 ,\n        0.13231403],\n       [0.01801875, 0.0381385 , 0.        , ..., 0.0327035 , 1.        ,\n        0.        ],\n       [0.14580296, 0.        , 0.13631964, ..., 0.13231403, 0.        ,\n        1.        ]])"
     },
     "execution_count": 18,
     "metadata": {},
     "output_type": "execute_result"
    }
   ],
   "source": [
    "similarity = cr.find_similarities(matrix)\n",
    "similarity"
   ],
   "metadata": {
    "collapsed": false,
    "pycharm": {
     "name": "#%%\n"
    }
   }
  },
  {
   "cell_type": "code",
   "execution_count": 19,
   "outputs": [
    {
     "data": {
      "text/plain": "(9974, 9974)"
     },
     "execution_count": 19,
     "metadata": {},
     "output_type": "execute_result"
    }
   ],
   "source": [
    "similarity.shape"
   ],
   "metadata": {
    "collapsed": false,
    "pycharm": {
     "name": "#%%\n"
    }
   }
  },
  {
   "cell_type": "markdown",
   "source": [
    "#### Result\n",
    "The result of our modelling"
   ],
   "metadata": {
    "collapsed": false,
    "pycharm": {
     "name": "#%% md\n"
    }
   }
  },
  {
   "cell_type": "code",
   "execution_count": 20,
   "outputs": [],
   "source": [
    "# choose movie and size of recommendation\n",
    "movie_title = \"Harry Potter and the Goblet of Fire\"\n",
    "recommends_size = 5"
   ],
   "metadata": {
    "collapsed": false,
    "pycharm": {
     "name": "#%%\n"
    }
   }
  },
  {
   "cell_type": "code",
   "execution_count": 21,
   "outputs": [
    {
     "data": {
      "text/plain": "['Harry Potter and the Deathly Hallows: Part 2',\n 'Harry Potter and the Prisoner of Azkaban',\n \"Harry Potter and the Philosopher's Stone\",\n 'Harry Potter and the Order of the Phoenix',\n 'Harry Potter and the Chamber of Secrets']"
     },
     "execution_count": 21,
     "metadata": {},
     "output_type": "execute_result"
    }
   ],
   "source": [
    "recommends = cr.recommend_movies(movie_title, recommends_size)\n",
    "recommends"
   ],
   "metadata": {
    "collapsed": false,
    "pycharm": {
     "name": "#%%\n"
    }
   }
  },
  {
   "cell_type": "markdown",
   "source": [
    "##### WordCloud of the recommendation tags\n",
    "Here is a wordcloud of the words from the recommendation tags:"
   ],
   "metadata": {
    "collapsed": false,
    "pycharm": {
     "name": "#%% md\n"
    }
   }
  },
  {
   "cell_type": "code",
   "execution_count": 22,
   "outputs": [
    {
     "data": {
      "text/plain": "<Figure size 640x480 with 1 Axes>",
      "image/png": "[encoded data removed]"
     },
     "metadata": {},
     "output_type": "display_data"
    }
   ],
   "source": [
    "indexes = [cr.get_movie_index_by_title(df, title) for title in recommends]\n",
    "text = ' '.join(df.at[index, 'tags'] for index in indexes)\n",
    "cloud = wc.create_image_cloud(text, \"images/ligtning_scar.png\")\n",
    "wc.show_cloud(cloud)"
   ],
   "metadata": {
    "collapsed": false,
    "pycharm": {
     "name": "#%%\n"
    }
   }
  }
 ],
 "metadata": {
  "kernelspec": {
   "display_name": "Python 3",
   "language": "python",
   "name": "python3"
  },
  "language_info": {
   "codemirror_mode": {
    "name": "ipython",
    "version": 2
   },
   "file_extension": ".py",
   "mimetype": "text/x-python",
   "name": "python",
   "nbconvert_exporter": "python",
   "pygments_lexer": "ipython2",
   "version": "2.7.6"
  }
 },
 "nbformat": 4,
 "nbformat_minor": 0
}