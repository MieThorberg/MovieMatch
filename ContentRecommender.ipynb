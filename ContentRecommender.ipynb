{
 "cells": [
  {
   "cell_type": "markdown",
   "source": [
    "# Content Recommander\n",
    "\n",
    "With the content-based filtering we will (based on one movie choice) recommends movies by finding similar movies based on the movie genre, overview and crew"
   ],
   "metadata": {
    "collapsed": false,
    "pycharm": {
     "name": "#%% md\n"
    }
   }
  },
  {
   "cell_type": "code",
   "execution_count": 1,
   "outputs": [],
   "source": [
    "import modules.recommmender.ContentRecommender as cr"
   ],
   "metadata": {
    "collapsed": false,
    "pycharm": {
     "name": "#%%\n"
    }
   }
  },
  {
   "cell_type": "markdown",
   "source": [
    "#### Getting data\n",
    "We are going to use data about movies and credits. We load our datasets from our folder \"data\"."
   ],
   "metadata": {
    "collapsed": false,
    "pycharm": {
     "name": "#%% md\n"
    }
   }
  },
  {
   "cell_type": "code",
   "execution_count": 2,
   "outputs": [
    {
     "data": {
      "text/plain": "   Unnamed: 0  Movie_id                        title  \\\n0           0       238                The Godfather   \n1           1       278     The Shawshank Redemption   \n2           2       240        The Godfather Part II   \n3           3     19404  Dilwale Dulhania Le Jayenge   \n4           4       424             Schindler's List   \n\n                                              Genres release_date  \\\n0  [{'id': 18, 'name': 'Drama'}, {'id': 80, 'name...   1972-03-14   \n1  [{'id': 18, 'name': 'Drama'}, {'id': 80, 'name...   1994-09-23   \n2  [{'id': 18, 'name': 'Drama'}, {'id': 80, 'name...   1974-12-20   \n3  [{'id': 35, 'name': 'Comedy'}, {'id': 18, 'nam...   1995-10-19   \n4  [{'id': 18, 'name': 'Drama'}, {'id': 36, 'name...   1993-12-15   \n\n                                            Keywords  \\\n0  [{'id': 131, 'name': 'italy'}, {'id': 697, 'na...   \n1  [{'id': 378, 'name': 'prison'}, {'id': 417, 'n...   \n2  [{'id': 131, 'name': 'italy'}, {'id': 700, 'na...   \n3                                                 []   \n4  [{'id': 818, 'name': 'based on novel or book'}...   \n\n                                            overview  \\\n0  Spanning the years 1945 to 1955, a chronicle o...   \n1  Framed in the 1940s for the double murder of h...   \n2  In the continuing saga of the Corleone crime f...   \n3  Raj is a rich, carefree, happy-go-lucky second...   \n4  The true story of how businessman Oskar Schind...   \n\n                        poster_path     Budget    Revenue  popularity  \\\n0  /3bhkrj58Vtu7enYsRolD1fZdja1.jpg  245066411  245066411      93.552   \n1  /q6y0Go1tsGEsmtFryDOJo3dEmqu.jpg   28341469   28341469      78.664   \n2  /hek3koDUyRQk7FIhPXsa6mT2Zc3.jpg  102600000  102600000      55.752   \n3  /2CAL2433ZeIihfX1Hb2139CX0pW.jpg  100000000  100000000      22.150   \n4  /sF1U4EUQS8YHUYjNl3pMGNIQyr0.jpg  321365567  321365567      53.542   \n\n   vote_average  vote_count  \n0           8.7       16814  \n1           8.7       22542  \n2           8.6       10187  \n3           8.6        3927  \n4           8.6       13382  ",
      "text/html": "<div>\n<style scoped>\n    .dataframe tbody tr th:only-of-type {\n        vertical-align: middle;\n    }\n\n    .dataframe tbody tr th {\n        vertical-align: top;\n    }\n\n    .dataframe thead th {\n        text-align: right;\n    }\n</style>\n<table border=\"1\" class=\"dataframe\">\n  <thead>\n    <tr style=\"text-align: right;\">\n      <th></th>\n      <th>Unnamed: 0</th>\n      <th>Movie_id</th>\n      <th>title</th>\n      <th>Genres</th>\n      <th>release_date</th>\n      <th>Keywords</th>\n      <th>overview</th>\n      <th>poster_path</th>\n      <th>Budget</th>\n      <th>Revenue</th>\n      <th>popularity</th>\n      <th>vote_average</th>\n      <th>vote_count</th>\n    </tr>\n  </thead>\n  <tbody>\n    <tr>\n      <th>0</th>\n      <td>0</td>\n      <td>238</td>\n      <td>The Godfather</td>\n      <td>[{'id': 18, 'name': 'Drama'}, {'id': 80, 'name...</td>\n      <td>1972-03-14</td>\n      <td>[{'id': 131, 'name': 'italy'}, {'id': 697, 'na...</td>\n      <td>Spanning the years 1945 to 1955, a chronicle o...</td>\n      <td>/3bhkrj58Vtu7enYsRolD1fZdja1.jpg</td>\n      <td>245066411</td>\n      <td>245066411</td>\n      <td>93.552</td>\n      <td>8.7</td>\n      <td>16814</td>\n    </tr>\n    <tr>\n      <th>1</th>\n      <td>1</td>\n      <td>278</td>\n      <td>The Shawshank Redemption</td>\n      <td>[{'id': 18, 'name': 'Drama'}, {'id': 80, 'name...</td>\n      <td>1994-09-23</td>\n      <td>[{'id': 378, 'name': 'prison'}, {'id': 417, 'n...</td>\n      <td>Framed in the 1940s for the double murder of h...</td>\n      <td>/q6y0Go1tsGEsmtFryDOJo3dEmqu.jpg</td>\n      <td>28341469</td>\n      <td>28341469</td>\n      <td>78.664</td>\n      <td>8.7</td>\n      <td>22542</td>\n    </tr>\n    <tr>\n      <th>2</th>\n      <td>2</td>\n      <td>240</td>\n      <td>The Godfather Part II</td>\n      <td>[{'id': 18, 'name': 'Drama'}, {'id': 80, 'name...</td>\n      <td>1974-12-20</td>\n      <td>[{'id': 131, 'name': 'italy'}, {'id': 700, 'na...</td>\n      <td>In the continuing saga of the Corleone crime f...</td>\n      <td>/hek3koDUyRQk7FIhPXsa6mT2Zc3.jpg</td>\n      <td>102600000</td>\n      <td>102600000</td>\n      <td>55.752</td>\n      <td>8.6</td>\n      <td>10187</td>\n    </tr>\n    <tr>\n      <th>3</th>\n      <td>3</td>\n      <td>19404</td>\n      <td>Dilwale Dulhania Le Jayenge</td>\n      <td>[{'id': 35, 'name': 'Comedy'}, {'id': 18, 'nam...</td>\n      <td>1995-10-19</td>\n      <td>[]</td>\n      <td>Raj is a rich, carefree, happy-go-lucky second...</td>\n      <td>/2CAL2433ZeIihfX1Hb2139CX0pW.jpg</td>\n      <td>100000000</td>\n      <td>100000000</td>\n      <td>22.150</td>\n      <td>8.6</td>\n      <td>3927</td>\n    </tr>\n    <tr>\n      <th>4</th>\n      <td>4</td>\n      <td>424</td>\n      <td>Schindler's List</td>\n      <td>[{'id': 18, 'name': 'Drama'}, {'id': 36, 'name...</td>\n      <td>1993-12-15</td>\n      <td>[{'id': 818, 'name': 'based on novel or book'}...</td>\n      <td>The true story of how businessman Oskar Schind...</td>\n      <td>/sF1U4EUQS8YHUYjNl3pMGNIQyr0.jpg</td>\n      <td>321365567</td>\n      <td>321365567</td>\n      <td>53.542</td>\n      <td>8.6</td>\n      <td>13382</td>\n    </tr>\n  </tbody>\n</table>\n</div>"
     },
     "execution_count": 2,
     "metadata": {},
     "output_type": "execute_result"
    }
   ],
   "source": [
    "movie_df = cr.load_movies()\n",
    "movie_df.head()"
   ],
   "metadata": {
    "collapsed": false,
    "pycharm": {
     "name": "#%%\n"
    }
   }
  },
  {
   "cell_type": "code",
   "execution_count": 3,
   "outputs": [
    {
     "data": {
      "text/plain": "(9980, 13)"
     },
     "execution_count": 3,
     "metadata": {},
     "output_type": "execute_result"
    }
   ],
   "source": [
    "movie_df.shape"
   ],
   "metadata": {
    "collapsed": false,
    "pycharm": {
     "name": "#%%\n"
    }
   }
  },
  {
   "cell_type": "code",
   "execution_count": 4,
   "outputs": [
    {
     "data": {
      "text/plain": "   Unnamed: 0  Movie_id                        title  \\\n0           0       238                The Godfather   \n1           1       278     The Shawshank Redemption   \n2           2       240        The Godfather Part II   \n3           3     19404  Dilwale Dulhania Le Jayenge   \n4           4       424             Schindler's List   \n\n                                                Cast  \\\n0  [{'adult': False, 'gender': 2, 'id': 3084, 'kn...   \n1  [{'adult': False, 'gender': 2, 'id': 504, 'kno...   \n2  [{'adult': False, 'gender': 2, 'id': 1158, 'kn...   \n3  [{'adult': False, 'gender': 2, 'id': 35742, 'k...   \n4  [{'adult': False, 'gender': 2, 'id': 3896, 'kn...   \n\n                                                Crew  \n0  [{'adult': False, 'gender': 2, 'id': 154, 'kno...  \n1  [{'adult': False, 'gender': 2, 'id': 153, 'kno...  \n2  [{'adult': False, 'gender': 2, 'id': 154, 'kno...  \n3  [{'adult': False, 'gender': 1, 'id': 8311, 'kn...  \n4  [{'adult': False, 'gender': 2, 'id': 491, 'kno...  ",
      "text/html": "<div>\n<style scoped>\n    .dataframe tbody tr th:only-of-type {\n        vertical-align: middle;\n    }\n\n    .dataframe tbody tr th {\n        vertical-align: top;\n    }\n\n    .dataframe thead th {\n        text-align: right;\n    }\n</style>\n<table border=\"1\" class=\"dataframe\">\n  <thead>\n    <tr style=\"text-align: right;\">\n      <th></th>\n      <th>Unnamed: 0</th>\n      <th>Movie_id</th>\n      <th>title</th>\n      <th>Cast</th>\n      <th>Crew</th>\n    </tr>\n  </thead>\n  <tbody>\n    <tr>\n      <th>0</th>\n      <td>0</td>\n      <td>238</td>\n      <td>The Godfather</td>\n      <td>[{'adult': False, 'gender': 2, 'id': 3084, 'kn...</td>\n      <td>[{'adult': False, 'gender': 2, 'id': 154, 'kno...</td>\n    </tr>\n    <tr>\n      <th>1</th>\n      <td>1</td>\n      <td>278</td>\n      <td>The Shawshank Redemption</td>\n      <td>[{'adult': False, 'gender': 2, 'id': 504, 'kno...</td>\n      <td>[{'adult': False, 'gender': 2, 'id': 153, 'kno...</td>\n    </tr>\n    <tr>\n      <th>2</th>\n      <td>2</td>\n      <td>240</td>\n      <td>The Godfather Part II</td>\n      <td>[{'adult': False, 'gender': 2, 'id': 1158, 'kn...</td>\n      <td>[{'adult': False, 'gender': 2, 'id': 154, 'kno...</td>\n    </tr>\n    <tr>\n      <th>3</th>\n      <td>3</td>\n      <td>19404</td>\n      <td>Dilwale Dulhania Le Jayenge</td>\n      <td>[{'adult': False, 'gender': 2, 'id': 35742, 'k...</td>\n      <td>[{'adult': False, 'gender': 1, 'id': 8311, 'kn...</td>\n    </tr>\n    <tr>\n      <th>4</th>\n      <td>4</td>\n      <td>424</td>\n      <td>Schindler's List</td>\n      <td>[{'adult': False, 'gender': 2, 'id': 3896, 'kn...</td>\n      <td>[{'adult': False, 'gender': 2, 'id': 491, 'kno...</td>\n    </tr>\n  </tbody>\n</table>\n</div>"
     },
     "execution_count": 4,
     "metadata": {},
     "output_type": "execute_result"
    }
   ],
   "source": [
    "credit_df = cr.load_credits()\n",
    "credit_df.head()"
   ],
   "metadata": {
    "collapsed": false,
    "pycharm": {
     "name": "#%%\n"
    }
   }
  },
  {
   "cell_type": "code",
   "execution_count": 5,
   "outputs": [
    {
     "data": {
      "text/plain": "(9980, 5)"
     },
     "execution_count": 5,
     "metadata": {},
     "output_type": "execute_result"
    }
   ],
   "source": [
    "credit_df.shape"
   ],
   "metadata": {
    "collapsed": false,
    "pycharm": {
     "name": "#%%\n"
    }
   }
  },
  {
   "cell_type": "markdown",
   "source": [
    "#### Preparing\n",
    "We will now clean and combine the two dataframes into one"
   ],
   "metadata": {
    "collapsed": false,
    "pycharm": {
     "name": "#%% md\n"
    }
   }
  },
  {
   "cell_type": "code",
   "execution_count": 6,
   "outputs": [
    {
     "data": {
      "text/plain": "   Unnamed: 0  Movie_id                                               Cast  \\\n0           0       238  [{'adult': False, 'gender': 2, 'id': 3084, 'kn...   \n1           1       278  [{'adult': False, 'gender': 2, 'id': 504, 'kno...   \n2           2       240  [{'adult': False, 'gender': 2, 'id': 1158, 'kn...   \n3           3     19404  [{'adult': False, 'gender': 2, 'id': 35742, 'k...   \n4           4       424  [{'adult': False, 'gender': 2, 'id': 3896, 'kn...   \n\n                                                Crew  \n0  [{'adult': False, 'gender': 2, 'id': 154, 'kno...  \n1  [{'adult': False, 'gender': 2, 'id': 153, 'kno...  \n2  [{'adult': False, 'gender': 2, 'id': 154, 'kno...  \n3  [{'adult': False, 'gender': 1, 'id': 8311, 'kn...  \n4  [{'adult': False, 'gender': 2, 'id': 491, 'kno...  ",
      "text/html": "<div>\n<style scoped>\n    .dataframe tbody tr th:only-of-type {\n        vertical-align: middle;\n    }\n\n    .dataframe tbody tr th {\n        vertical-align: top;\n    }\n\n    .dataframe thead th {\n        text-align: right;\n    }\n</style>\n<table border=\"1\" class=\"dataframe\">\n  <thead>\n    <tr style=\"text-align: right;\">\n      <th></th>\n      <th>Unnamed: 0</th>\n      <th>Movie_id</th>\n      <th>Cast</th>\n      <th>Crew</th>\n    </tr>\n  </thead>\n  <tbody>\n    <tr>\n      <th>0</th>\n      <td>0</td>\n      <td>238</td>\n      <td>[{'adult': False, 'gender': 2, 'id': 3084, 'kn...</td>\n      <td>[{'adult': False, 'gender': 2, 'id': 154, 'kno...</td>\n    </tr>\n    <tr>\n      <th>1</th>\n      <td>1</td>\n      <td>278</td>\n      <td>[{'adult': False, 'gender': 2, 'id': 504, 'kno...</td>\n      <td>[{'adult': False, 'gender': 2, 'id': 153, 'kno...</td>\n    </tr>\n    <tr>\n      <th>2</th>\n      <td>2</td>\n      <td>240</td>\n      <td>[{'adult': False, 'gender': 2, 'id': 1158, 'kn...</td>\n      <td>[{'adult': False, 'gender': 2, 'id': 154, 'kno...</td>\n    </tr>\n    <tr>\n      <th>3</th>\n      <td>3</td>\n      <td>19404</td>\n      <td>[{'adult': False, 'gender': 2, 'id': 35742, 'k...</td>\n      <td>[{'adult': False, 'gender': 1, 'id': 8311, 'kn...</td>\n    </tr>\n    <tr>\n      <th>4</th>\n      <td>4</td>\n      <td>424</td>\n      <td>[{'adult': False, 'gender': 2, 'id': 3896, 'kn...</td>\n      <td>[{'adult': False, 'gender': 2, 'id': 491, 'kno...</td>\n    </tr>\n  </tbody>\n</table>\n</div>"
     },
     "execution_count": 6,
     "metadata": {},
     "output_type": "execute_result"
    }
   ],
   "source": [
    "# prepare credit dataframe (drop title column)\n",
    "credit_df = cr.prepare_credits(credit_df)\n",
    "credit_df.head()"
   ],
   "metadata": {
    "collapsed": false,
    "pycharm": {
     "name": "#%%\n"
    }
   }
  },
  {
   "cell_type": "code",
   "execution_count": 7,
   "outputs": [
    {
     "data": {
      "text/plain": "(9980, 4)"
     },
     "execution_count": 7,
     "metadata": {},
     "output_type": "execute_result"
    }
   ],
   "source": [
    "credit_df.shape"
   ],
   "metadata": {
    "collapsed": false,
    "pycharm": {
     "name": "#%%\n"
    }
   }
  },
  {
   "cell_type": "code",
   "execution_count": 8,
   "outputs": [],
   "source": [
    "# prepare movie dataframe"
   ],
   "metadata": {
    "collapsed": false,
    "pycharm": {
     "name": "#%%\n"
    }
   }
  },
  {
   "cell_type": "markdown",
   "source": [
    "#### Modeling"
   ],
   "metadata": {
    "collapsed": false,
    "pycharm": {
     "name": "#%% md\n"
    }
   }
  },
  {
   "cell_type": "code",
   "execution_count": 9,
   "outputs": [],
   "source": [
    "# choose movie and size of recommendation\n",
    "movie_title = \"Harry Potter and the Goblet of Fire\"\n",
    "recommends_size = 5"
   ],
   "metadata": {
    "collapsed": false,
    "pycharm": {
     "name": "#%%\n"
    }
   }
  },
  {
   "cell_type": "code",
   "execution_count": 14,
   "outputs": [
    {
     "data": {
      "text/plain": "   Movie_id                        title  \\\n0       238                The Godfather   \n1       278     The Shawshank Redemption   \n2       240        The Godfather Part II   \n3     19404  Dilwale Dulhania Le Jayenge   \n4       424             Schindler's List   \n\n                                                tags  \n0  drama crime italy lossoflovedone loveatfirstsi...  \n1  drama crime prison corruption policebrutality ...  \n2  drama crime italy italianamerican cuba symboli...  \n3  comedy drama romance shahrukhkhan kajol amrish...  \n4  drama history war basedonnovelorbook factory c...  ",
      "text/html": "<div>\n<style scoped>\n    .dataframe tbody tr th:only-of-type {\n        vertical-align: middle;\n    }\n\n    .dataframe tbody tr th {\n        vertical-align: top;\n    }\n\n    .dataframe thead th {\n        text-align: right;\n    }\n</style>\n<table border=\"1\" class=\"dataframe\">\n  <thead>\n    <tr style=\"text-align: right;\">\n      <th></th>\n      <th>Movie_id</th>\n      <th>title</th>\n      <th>tags</th>\n    </tr>\n  </thead>\n  <tbody>\n    <tr>\n      <th>0</th>\n      <td>238</td>\n      <td>The Godfather</td>\n      <td>drama crime italy lossoflovedone loveatfirstsi...</td>\n    </tr>\n    <tr>\n      <th>1</th>\n      <td>278</td>\n      <td>The Shawshank Redemption</td>\n      <td>drama crime prison corruption policebrutality ...</td>\n    </tr>\n    <tr>\n      <th>2</th>\n      <td>240</td>\n      <td>The Godfather Part II</td>\n      <td>drama crime italy italianamerican cuba symboli...</td>\n    </tr>\n    <tr>\n      <th>3</th>\n      <td>19404</td>\n      <td>Dilwale Dulhania Le Jayenge</td>\n      <td>comedy drama romance shahrukhkhan kajol amrish...</td>\n    </tr>\n    <tr>\n      <th>4</th>\n      <td>424</td>\n      <td>Schindler's List</td>\n      <td>drama history war basedonnovelorbook factory c...</td>\n    </tr>\n  </tbody>\n</table>\n</div>"
     },
     "execution_count": 14,
     "metadata": {},
     "output_type": "execute_result"
    }
   ],
   "source": [
    "movies = cr.prepare_movies()\n",
    "movies.head()"
   ],
   "metadata": {
    "collapsed": false,
    "pycharm": {
     "name": "#%%\n"
    }
   }
  },
  {
   "cell_type": "code",
   "execution_count": 13,
   "outputs": [
    {
     "data": {
      "text/plain": "array([[1.        , 0.15118579, 0.43826153, ..., 0.06482037, 0.01801875,\n        0.14580296],\n       [0.15118579, 1.        , 0.08834522, ..., 0.03429972, 0.0381385 ,\n        0.        ],\n       [0.43826153, 0.08834522, 1.        , ..., 0.1136331 , 0.        ,\n        0.13631964],\n       ...,\n       [0.06482037, 0.03429972, 0.1136331 , ..., 1.        , 0.0327035 ,\n        0.13231403],\n       [0.01801875, 0.0381385 , 0.        , ..., 0.0327035 , 1.        ,\n        0.        ],\n       [0.14580296, 0.        , 0.13631964, ..., 0.13231403, 0.        ,\n        1.        ]])"
     },
     "execution_count": 13,
     "metadata": {},
     "output_type": "execute_result"
    }
   ],
   "source": [
    "# vectors\n",
    "vector = cr.create_matrix(movies)\n",
    "# vector\n",
    "similarity = cr.find_similarities(vector)\n",
    "similarity\n",
    "\n",
    "# get movie index\n",
    "\n",
    "# distance\n",
    "\n",
    "# get the recommendations"
   ],
   "metadata": {
    "collapsed": false,
    "pycharm": {
     "name": "#%%\n"
    }
   }
  },
  {
   "cell_type": "markdown",
   "source": [
    "#### Result"
   ],
   "metadata": {
    "collapsed": false,
    "pycharm": {
     "name": "#%% md\n"
    }
   }
  },
  {
   "cell_type": "code",
   "execution_count": 11,
   "outputs": [
    {
     "data": {
      "text/plain": "['Harry Potter and the Deathly Hallows: Part 2',\n 'Harry Potter and the Prisoner of Azkaban',\n \"Harry Potter and the Philosopher's Stone\",\n 'Harry Potter and the Order of the Phoenix',\n 'Harry Potter and the Chamber of Secrets']"
     },
     "execution_count": 11,
     "metadata": {},
     "output_type": "execute_result"
    }
   ],
   "source": [
    "cr.recommend_movies(movie_title, recommends_size)"
   ],
   "metadata": {
    "collapsed": false,
    "pycharm": {
     "name": "#%%\n"
    }
   }
  }
 ],
 "metadata": {
  "kernelspec": {
   "display_name": "Python 3",
   "language": "python",
   "name": "python3"
  },
  "language_info": {
   "codemirror_mode": {
    "name": "ipython",
    "version": 2
   },
   "file_extension": ".py",
   "mimetype": "text/x-python",
   "name": "python",
   "nbconvert_exporter": "python",
   "pygments_lexer": "ipython2",
   "version": "2.7.6"
  }
 },
 "nbformat": 4,
 "nbformat_minor": 0
}