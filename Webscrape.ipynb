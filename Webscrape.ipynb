{
 "cells": [
  {
   "cell_type": "code",
   "execution_count": 17,
   "outputs": [
    {
     "name": "stdout",
     "output_type": "stream",
     "text": [
      "Trivia\n",
      "[<div class=\"ipc-html-content-inner-div\">The Na'vi language was created entirely from scratch by linguist Dr. <a class=\"ipc-md-link ipc-md-link--entity\" href=\"/name/nm1018017/?ref_=tt_trv_trv\">Paul R. Frommer</a>. <a class=\"ipc-md-link ipc-md-link--entity\" href=\"/name/nm0000116/?ref_=tt_trv_trv\">James Cameron</a> hired him to construct a language that would be easy for actors to pronounce but would not resemble any human language. Frommer created about 1,000 words.</div>]\n",
      "None\n",
      "Goofs\n",
      "[<div class=\"ipc-html-content-inner-div\">When Jake's late brother, Tom, is uncovered, he's played by <a class=\"ipc-md-link ipc-md-link--entity\" href=\"/name/nm0941777/?ref_=tt_trv_gf\">Sam Worthington</a>. In the next shot of Tom being covered again it's clearly someone else.</div>]\n",
      "None\n",
      "Quotes\n",
      "[<div class=\"ipc-html-content-inner-div\"><p><a aria-disabled=\"false\" class=\"ipc-link ipc-link--base\" data-reactroot=\"\" href=\"/name/nm0941777/?ref_=tt_trv_qu\" role=\"button\" tabindex=\"0\">Jake Sully</a>: Neytiri calls me skxawng. It means \"moron.\"</p></div>]\n",
      "None\n",
      "Crazy credits\n",
      "[<div class=\"ipc-html-content-inner-div\">There are no opening credits of any kind (outside of the 20th Century Fox title card). The title of the film doesn't appear on screen until the end of the movie.</div>]\n",
      "There are no opening credits of any kind (outside of the 20th Century Fox title card). The title of the film doesn't appear on screen until the end of the movie.\n",
      "Alternate versions\n",
      "[<div class=\"ipc-html-content-inner-div\">\"Avatar: Special Edition\" was released theatrically less than a year after the original release, it contains approximately eight minutes of extra footage, including new creatures and action scenes.</div>]\n",
      "\"Avatar: Special Edition\" was released theatrically less than a year after the original release, it contains approximately eight minutes of extra footage, including new creatures and action scenes.\n",
      "Connections\n",
      "[<div class=\"ipc-html-content-inner-div\">Edited into <a aria-disabled=\"false\" class=\"ipc-link ipc-link--base\" data-reactroot=\"\" href=\"/title/tt1514861/?ref_=tt_trv_cnn\" role=\"button\" tabindex=\"0\">Bones: The Gamer in the Grease</a> (2009)</div>]\n",
      "None\n",
      "Soundtracks\n",
      "[<div class=\"ipc-html-content-inner-div\"><span class=\"soundtrack-trackname\">I See You (Theme from Avatar)</span><span class=\"soundtrack-comment-1\"><br/>Performed by <a class=\"ipc-md-link ipc-md-link--entity\" href=\"/name/nm2452244/?ref_=tt_trv_snd\">Leona Lewis</a></span><span class=\"soundtrack-comment-2\"><br/>Music by <a class=\"ipc-md-link ipc-md-link--entity\" href=\"/name/nm0000035/?ref_=tt_trv_snd\">James Horner</a> and <a class=\"ipc-md-link ipc-md-link--entity\" href=\"/name/nm0290788/?ref_=tt_trv_snd\">Simon Franglen</a></span><span class=\"soundtrack-comment-3\"><br/>Lyrics by <a class=\"ipc-md-link ipc-md-link--entity\" href=\"/name/nm0290788/?ref_=tt_trv_snd\">Simon Franglen</a>, <a class=\"ipc-md-link ipc-md-link--entity\" href=\"/name/nm3854355/?ref_=tt_trv_snd\">Kuk Harrell</a>, and <a class=\"ipc-md-link ipc-md-link--entity\" href=\"/name/nm0000035/?ref_=tt_trv_snd\">James Horner</a></span><span class=\"soundtrack-comment-4\"><br/>Produced by <a class=\"ipc-md-link ipc-md-link--entity\" href=\"/name/nm0290788/?ref_=tt_trv_snd\">Simon Franglen</a> and <a class=\"ipc-md-link ipc-md-link--entity\" href=\"/name/nm0000035/?ref_=tt_trv_snd\">James Horner</a></span><span class=\"soundtrack-comment-5\"><br/>Leona Lewis performs courtesy of Syco Music</span></div>]\n",
      "None\n"
     ]
    }
   ],
   "source": [
    "import requests as rq\n",
    "import re\n",
    "from bs4 import BeautifulSoup\n",
    "\n",
    "def get_imdb_url(imdb_id):\n",
    "    return \"https://www.imdb.com/title/\" + imdb_id\n",
    "\n",
    "def get_soup(url):\n",
    "    headers = {\n",
    "        'User-Agent': 'Mozilla/5.0 (Windows NT 10.0; Win64; x64; rv:107.0) Gecko/20100101 Firefox/107.0'\n",
    "    }\n",
    "    data = rq.get(url, headers = headers).text\n",
    "    soup = BeautifulSoup(data, \"html.parser\")\n",
    "    return soup\n",
    "\n",
    "# returns a list with one short and one detailed movie summary\n",
    "def get_summaries(imdb_id):\n",
    "    url = get_imdb_url(imdb_id) + \"/plotsummary\"\n",
    "    # first p element contains a shorter summary than the rest p's\n",
    "    summaries = get_soup(url).find(\"ul\", {\"class\":\"ipl-zebra-list\"}).findAll(\"p\")[:2]\n",
    "    return summaries\n",
    "\n",
    "def get_poster(imdb_id):\n",
    "    url = get_imdb_url(imdb_id)\n",
    "    poster = get_soup(url).find(\"img\", {\"class\":\"ipc-image\"}).get(\"src\")\n",
    "    return poster\n",
    "\n",
    "def get_trailer(imdb_id):\n",
    "    url = get_imdb_url(imdb_id)\n",
    "    trailer = get_soup(url).find(\"a\", {\"data-testid\":\"videos-slate-overlay-1\"}).attrs[\"href\"]\n",
    "    return \"https://www.imdb.com\" + trailer\n",
    "\n",
    "def imdb_scrape(imdb_id):\n",
    "    url = \"https://www.imdb.com/title/\" + imdb_id\n",
    "    headers = {\n",
    "        'User-Agent': 'Mozilla/5.0 (Windows NT 10.0; Win64; x64; rv:107.0) Gecko/20100101 Firefox/107.0'\n",
    "    }\n",
    "    data = rq.get(url, headers = headers).text\n",
    "    soup = BeautifulSoup(data, \"html.parser\")\n",
    "\n",
    "    # soup1 = soup.find(\"main\").find(\"div\", {\"class\":\"ipc-page-content-container ipc-page-content-container--full sc-6eab0fb3-0 fkOMyK\"}).find(\"section\", {\"class\":\"ipc-page-background ipc-page-background--base sc-9b716f3b-0 hWwhTB\"}).findAll(\"div\", {\"class\": \"ipc-page-content-container ipc-page-content-container--center\"}).find(\"section\", {\"class\":\"ipc-page-background ipc-page-background--base sc-b1d8602f-0 jtTbgg\"})\n",
    "    print(soup)\n",
    "\n",
    "\n",
    "# imdb_scrape('tt0499549')"
   ],
   "metadata": {
    "collapsed": false,
    "pycharm": {
     "name": "#%%\n"
    }
   }
  }
 ],
 "metadata": {
  "kernelspec": {
   "display_name": "Python 3",
   "language": "python",
   "name": "python3"
  },
  "language_info": {
   "codemirror_mode": {
    "name": "ipython",
    "version": 2
   },
   "file_extension": ".py",
   "mimetype": "text/x-python",
   "name": "python",
   "nbconvert_exporter": "python",
   "pygments_lexer": "ipython2",
   "version": "2.7.6"
  }
 },
 "nbformat": 4,
 "nbformat_minor": 0
}