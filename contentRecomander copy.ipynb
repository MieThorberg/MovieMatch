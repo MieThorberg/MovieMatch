{
 "cells": [
  {
   "cell_type": "code",
   "execution_count": 1,
   "metadata": {},
   "outputs": [],
   "source": [
    "import numpy as np\n",
    "import pandas as pd\n",
    "import matplotlib.pyplot as plt"
   ]
  },
  {
   "cell_type": "code",
   "execution_count": 2,
   "metadata": {},
   "outputs": [],
   "source": [
    "movies=pd.read_csv(\"data/10000 Movies Data\")\n",
    "credits=pd.read_csv('data/10000 Credits Data.zip')"
   ]
  },
  {
   "cell_type": "code",
   "execution_count": 3,
   "metadata": {},
   "outputs": [
    {
     "data": {
      "text/plain": "      Unnamed: 0  Movie_id                          title  \\\n0              0       238                  The Godfather   \n1              1       278       The Shawshank Redemption   \n2              2       240          The Godfather Part II   \n3              3     19404    Dilwale Dulhania Le Jayenge   \n4              4       424               Schindler's List   \n...          ...       ...                            ...   \n9975        9975    384737                 Precious Cargo   \n9976        9976    282813                    The Pyramid   \n9977        9977    134375  Home Alone: The Holiday Heist   \n9978        9978     10477                         Driven   \n9979        9979    243688                    Poltergeist   \n\n                                                 Genres release_date  \\\n0     [{'id': 18, 'name': 'Drama'}, {'id': 80, 'name...   1972-03-14   \n1     [{'id': 18, 'name': 'Drama'}, {'id': 80, 'name...   1994-09-23   \n2     [{'id': 18, 'name': 'Drama'}, {'id': 80, 'name...   1974-12-20   \n3     [{'id': 35, 'name': 'Comedy'}, {'id': 18, 'nam...   1995-10-19   \n4     [{'id': 18, 'name': 'Drama'}, {'id': 36, 'name...   1993-12-15   \n...                                                 ...          ...   \n9975  [{'id': 28, 'name': 'Action'}, {'id': 80, 'nam...   2016-07-15   \n9976                     [{'id': 27, 'name': 'Horror'}]   2014-12-04   \n9977  [{'id': 35, 'name': 'Comedy'}, {'id': 10751, '...   2012-11-25   \n9978                     [{'id': 28, 'name': 'Action'}]   2001-04-27   \n9979                     [{'id': 27, 'name': 'Horror'}]   2015-05-20   \n\n                                               Keywords  \\\n0     [{'id': 131, 'name': 'italy'}, {'id': 697, 'na...   \n1     [{'id': 378, 'name': 'prison'}, {'id': 417, 'n...   \n2     [{'id': 131, 'name': 'italy'}, {'id': 700, 'na...   \n3                                                    []   \n4     [{'id': 818, 'name': 'based on novel or book'}...   \n...                                                 ...   \n9975  [{'id': 9730, 'name': 'crime boss'}, {'id': 10...   \n9976  [{'id': 1299, 'name': 'monster'}, {'id': 3762,...   \n9977              [{'id': 207317, 'name': 'christmas'}]   \n9978  [{'id': 271, 'name': 'competition'}, {'id': 36...   \n9979  [{'id': 3350, 'name': 'poltergeist'}, {'id': 3...   \n\n                                               overview  \\\n0     Spanning the years 1945 to 1955, a chronicle o...   \n1     Framed in the 1940s for the double murder of h...   \n2     In the continuing saga of the Corleone crime f...   \n3     Raj is a rich, carefree, happy-go-lucky second...   \n4     The true story of how businessman Oskar Schind...   \n...                                                 ...   \n9975  After a botched heist, Eddie  a murderous crim...   \n9976  An archaeological team attempt to unlock the s...   \n9977  8-year-old Finn is terrified to learn his fami...   \n9978  Talented rookie race-car driver Jimmy Bly has ...   \n9979  A family's suburban home is invaded by angry s...   \n\n                           poster_path     Budget    Revenue  popularity  \\\n0     /3bhkrj58Vtu7enYsRolD1fZdja1.jpg  245066411  245066411      93.552   \n1     /q6y0Go1tsGEsmtFryDOJo3dEmqu.jpg   28341469   28341469      78.664   \n2     /hek3koDUyRQk7FIhPXsa6mT2Zc3.jpg  102600000  102600000      55.752   \n3     /2CAL2433ZeIihfX1Hb2139CX0pW.jpg  100000000  100000000      22.150   \n4     /sF1U4EUQS8YHUYjNl3pMGNIQyr0.jpg  321365567  321365567      53.542   \n...                                ...        ...        ...         ...   \n9975  /dOQv2PDBu9bBCZRLeRp6QQYJDr3.jpg     100659     100659      14.663   \n9976  /joPb4PUPP7xClD6XPiQ7laBEtZf.jpg   16861137   16861137      17.892   \n9977  /6JPrRC0JPM06y17pUXD6w1xMvKi.jpg          0          0      23.978   \n9978  /2aN2BBAbRyfEpfxZAQY82T8zWRq.jpg   54744738   54744738      13.200   \n9979  /A1ymtbzatZp94Z49ZOBb8JGXOBB.jpg   95437994   95437994      42.458   \n\n      vote_average  vote_count  \n0              8.7       16814  \n1              8.7       22542  \n2              8.6       10187  \n3              8.6        3927  \n4              8.6       13382  \n...            ...         ...  \n9975           5.2         243  \n9976           5.2         861  \n9977           5.2         335  \n9978           5.2         594  \n9979           5.2        2037  \n\n[9980 rows x 13 columns]",
      "text/html": "<div>\n<style scoped>\n    .dataframe tbody tr th:only-of-type {\n        vertical-align: middle;\n    }\n\n    .dataframe tbody tr th {\n        vertical-align: top;\n    }\n\n    .dataframe thead th {\n        text-align: right;\n    }\n</style>\n<table border=\"1\" class=\"dataframe\">\n  <thead>\n    <tr style=\"text-align: right;\">\n      <th></th>\n      <th>Unnamed: 0</th>\n      <th>Movie_id</th>\n      <th>title</th>\n      <th>Genres</th>\n      <th>release_date</th>\n      <th>Keywords</th>\n      <th>overview</th>\n      <th>poster_path</th>\n      <th>Budget</th>\n      <th>Revenue</th>\n      <th>popularity</th>\n      <th>vote_average</th>\n      <th>vote_count</th>\n    </tr>\n  </thead>\n  <tbody>\n    <tr>\n      <th>0</th>\n      <td>0</td>\n      <td>238</td>\n      <td>The Godfather</td>\n      <td>[{'id': 18, 'name': 'Drama'}, {'id': 80, 'name...</td>\n      <td>1972-03-14</td>\n      <td>[{'id': 131, 'name': 'italy'}, {'id': 697, 'na...</td>\n      <td>Spanning the years 1945 to 1955, a chronicle o...</td>\n      <td>/3bhkrj58Vtu7enYsRolD1fZdja1.jpg</td>\n      <td>245066411</td>\n      <td>245066411</td>\n      <td>93.552</td>\n      <td>8.7</td>\n      <td>16814</td>\n    </tr>\n    <tr>\n      <th>1</th>\n      <td>1</td>\n      <td>278</td>\n      <td>The Shawshank Redemption</td>\n      <td>[{'id': 18, 'name': 'Drama'}, {'id': 80, 'name...</td>\n      <td>1994-09-23</td>\n      <td>[{'id': 378, 'name': 'prison'}, {'id': 417, 'n...</td>\n      <td>Framed in the 1940s for the double murder of h...</td>\n      <td>/q6y0Go1tsGEsmtFryDOJo3dEmqu.jpg</td>\n      <td>28341469</td>\n      <td>28341469</td>\n      <td>78.664</td>\n      <td>8.7</td>\n      <td>22542</td>\n    </tr>\n    <tr>\n      <th>2</th>\n      <td>2</td>\n      <td>240</td>\n      <td>The Godfather Part II</td>\n      <td>[{'id': 18, 'name': 'Drama'}, {'id': 80, 'name...</td>\n      <td>1974-12-20</td>\n      <td>[{'id': 131, 'name': 'italy'}, {'id': 700, 'na...</td>\n      <td>In the continuing saga of the Corleone crime f...</td>\n      <td>/hek3koDUyRQk7FIhPXsa6mT2Zc3.jpg</td>\n      <td>102600000</td>\n      <td>102600000</td>\n      <td>55.752</td>\n      <td>8.6</td>\n      <td>10187</td>\n    </tr>\n    <tr>\n      <th>3</th>\n      <td>3</td>\n      <td>19404</td>\n      <td>Dilwale Dulhania Le Jayenge</td>\n      <td>[{'id': 35, 'name': 'Comedy'}, {'id': 18, 'nam...</td>\n      <td>1995-10-19</td>\n      <td>[]</td>\n      <td>Raj is a rich, carefree, happy-go-lucky second...</td>\n      <td>/2CAL2433ZeIihfX1Hb2139CX0pW.jpg</td>\n      <td>100000000</td>\n      <td>100000000</td>\n      <td>22.150</td>\n      <td>8.6</td>\n      <td>3927</td>\n    </tr>\n    <tr>\n      <th>4</th>\n      <td>4</td>\n      <td>424</td>\n      <td>Schindler's List</td>\n      <td>[{'id': 18, 'name': 'Drama'}, {'id': 36, 'name...</td>\n      <td>1993-12-15</td>\n      <td>[{'id': 818, 'name': 'based on novel or book'}...</td>\n      <td>The true story of how businessman Oskar Schind...</td>\n      <td>/sF1U4EUQS8YHUYjNl3pMGNIQyr0.jpg</td>\n      <td>321365567</td>\n      <td>321365567</td>\n      <td>53.542</td>\n      <td>8.6</td>\n      <td>13382</td>\n    </tr>\n    <tr>\n      <th>...</th>\n      <td>...</td>\n      <td>...</td>\n      <td>...</td>\n      <td>...</td>\n      <td>...</td>\n      <td>...</td>\n      <td>...</td>\n      <td>...</td>\n      <td>...</td>\n      <td>...</td>\n      <td>...</td>\n      <td>...</td>\n      <td>...</td>\n    </tr>\n    <tr>\n      <th>9975</th>\n      <td>9975</td>\n      <td>384737</td>\n      <td>Precious Cargo</td>\n      <td>[{'id': 28, 'name': 'Action'}, {'id': 80, 'nam...</td>\n      <td>2016-07-15</td>\n      <td>[{'id': 9730, 'name': 'crime boss'}, {'id': 10...</td>\n      <td>After a botched heist, Eddie  a murderous crim...</td>\n      <td>/dOQv2PDBu9bBCZRLeRp6QQYJDr3.jpg</td>\n      <td>100659</td>\n      <td>100659</td>\n      <td>14.663</td>\n      <td>5.2</td>\n      <td>243</td>\n    </tr>\n    <tr>\n      <th>9976</th>\n      <td>9976</td>\n      <td>282813</td>\n      <td>The Pyramid</td>\n      <td>[{'id': 27, 'name': 'Horror'}]</td>\n      <td>2014-12-04</td>\n      <td>[{'id': 1299, 'name': 'monster'}, {'id': 3762,...</td>\n      <td>An archaeological team attempt to unlock the s...</td>\n      <td>/joPb4PUPP7xClD6XPiQ7laBEtZf.jpg</td>\n      <td>16861137</td>\n      <td>16861137</td>\n      <td>17.892</td>\n      <td>5.2</td>\n      <td>861</td>\n    </tr>\n    <tr>\n      <th>9977</th>\n      <td>9977</td>\n      <td>134375</td>\n      <td>Home Alone: The Holiday Heist</td>\n      <td>[{'id': 35, 'name': 'Comedy'}, {'id': 10751, '...</td>\n      <td>2012-11-25</td>\n      <td>[{'id': 207317, 'name': 'christmas'}]</td>\n      <td>8-year-old Finn is terrified to learn his fami...</td>\n      <td>/6JPrRC0JPM06y17pUXD6w1xMvKi.jpg</td>\n      <td>0</td>\n      <td>0</td>\n      <td>23.978</td>\n      <td>5.2</td>\n      <td>335</td>\n    </tr>\n    <tr>\n      <th>9978</th>\n      <td>9978</td>\n      <td>10477</td>\n      <td>Driven</td>\n      <td>[{'id': 28, 'name': 'Action'}]</td>\n      <td>2001-04-27</td>\n      <td>[{'id': 271, 'name': 'competition'}, {'id': 36...</td>\n      <td>Talented rookie race-car driver Jimmy Bly has ...</td>\n      <td>/2aN2BBAbRyfEpfxZAQY82T8zWRq.jpg</td>\n      <td>54744738</td>\n      <td>54744738</td>\n      <td>13.200</td>\n      <td>5.2</td>\n      <td>594</td>\n    </tr>\n    <tr>\n      <th>9979</th>\n      <td>9979</td>\n      <td>243688</td>\n      <td>Poltergeist</td>\n      <td>[{'id': 27, 'name': 'Horror'}]</td>\n      <td>2015-05-20</td>\n      <td>[{'id': 3350, 'name': 'poltergeist'}, {'id': 3...</td>\n      <td>A family's suburban home is invaded by angry s...</td>\n      <td>/A1ymtbzatZp94Z49ZOBb8JGXOBB.jpg</td>\n      <td>95437994</td>\n      <td>95437994</td>\n      <td>42.458</td>\n      <td>5.2</td>\n      <td>2037</td>\n    </tr>\n  </tbody>\n</table>\n<p>9980 rows × 13 columns</p>\n</div>"
     },
     "execution_count": 3,
     "metadata": {},
     "output_type": "execute_result"
    }
   ],
   "source": [
    "movies"
   ]
  },
  {
   "cell_type": "code",
   "execution_count": 4,
   "metadata": {},
   "outputs": [],
   "source": [
    "credits=credits.drop(\"title\",axis=1)\n",
    "movies=movies.merge(credits,on='Movie_id')"
   ]
  },
  {
   "cell_type": "code",
   "execution_count": 5,
   "metadata": {},
   "outputs": [
    {
     "data": {
      "text/plain": "   Unnamed: 0_x  Movie_id          title  \\\n0             0       238  The Godfather   \n\n                                              Genres release_date  \\\n0  [{'id': 18, 'name': 'Drama'}, {'id': 80, 'name...   1972-03-14   \n\n                                            Keywords  \\\n0  [{'id': 131, 'name': 'italy'}, {'id': 697, 'na...   \n\n                                            overview  \\\n0  Spanning the years 1945 to 1955, a chronicle o...   \n\n                        poster_path     Budget    Revenue  popularity  \\\n0  /3bhkrj58Vtu7enYsRolD1fZdja1.jpg  245066411  245066411      93.552   \n\n   vote_average  vote_count  Unnamed: 0_y  \\\n0           8.7       16814             0   \n\n                                                Cast  \\\n0  [{'adult': False, 'gender': 2, 'id': 3084, 'kn...   \n\n                                                Crew  \n0  [{'adult': False, 'gender': 2, 'id': 154, 'kno...  ",
      "text/html": "<div>\n<style scoped>\n    .dataframe tbody tr th:only-of-type {\n        vertical-align: middle;\n    }\n\n    .dataframe tbody tr th {\n        vertical-align: top;\n    }\n\n    .dataframe thead th {\n        text-align: right;\n    }\n</style>\n<table border=\"1\" class=\"dataframe\">\n  <thead>\n    <tr style=\"text-align: right;\">\n      <th></th>\n      <th>Unnamed: 0_x</th>\n      <th>Movie_id</th>\n      <th>title</th>\n      <th>Genres</th>\n      <th>release_date</th>\n      <th>Keywords</th>\n      <th>overview</th>\n      <th>poster_path</th>\n      <th>Budget</th>\n      <th>Revenue</th>\n      <th>popularity</th>\n      <th>vote_average</th>\n      <th>vote_count</th>\n      <th>Unnamed: 0_y</th>\n      <th>Cast</th>\n      <th>Crew</th>\n    </tr>\n  </thead>\n  <tbody>\n    <tr>\n      <th>0</th>\n      <td>0</td>\n      <td>238</td>\n      <td>The Godfather</td>\n      <td>[{'id': 18, 'name': 'Drama'}, {'id': 80, 'name...</td>\n      <td>1972-03-14</td>\n      <td>[{'id': 131, 'name': 'italy'}, {'id': 697, 'na...</td>\n      <td>Spanning the years 1945 to 1955, a chronicle o...</td>\n      <td>/3bhkrj58Vtu7enYsRolD1fZdja1.jpg</td>\n      <td>245066411</td>\n      <td>245066411</td>\n      <td>93.552</td>\n      <td>8.7</td>\n      <td>16814</td>\n      <td>0</td>\n      <td>[{'adult': False, 'gender': 2, 'id': 3084, 'kn...</td>\n      <td>[{'adult': False, 'gender': 2, 'id': 154, 'kno...</td>\n    </tr>\n  </tbody>\n</table>\n</div>"
     },
     "execution_count": 5,
     "metadata": {},
     "output_type": "execute_result"
    }
   ],
   "source": [
    "movies.head(1)"
   ]
  },
  {
   "cell_type": "code",
   "execution_count": 6,
   "metadata": {},
   "outputs": [],
   "source": [
    "movies=movies[['Movie_id','title','Genres',\"Keywords\",'overview','Cast','Crew']]"
   ]
  },
  {
   "cell_type": "code",
   "execution_count": 7,
   "metadata": {},
   "outputs": [
    {
     "data": {
      "text/plain": "Movie_id    0\ntitle       0\nGenres      0\nKeywords    0\noverview    6\nCast        0\nCrew        0\ndtype: int64"
     },
     "execution_count": 7,
     "metadata": {},
     "output_type": "execute_result"
    }
   ],
   "source": [
    "movies.isnull().sum()"
   ]
  },
  {
   "cell_type": "code",
   "execution_count": 8,
   "metadata": {},
   "outputs": [],
   "source": [
    "movies.dropna(inplace=True)"
   ]
  },
  {
   "cell_type": "code",
   "execution_count": 9,
   "metadata": {},
   "outputs": [
    {
     "data": {
      "text/plain": "Movie_id    0\ntitle       0\nGenres      0\nKeywords    0\noverview    0\nCast        0\nCrew        0\ndtype: int64"
     },
     "execution_count": 9,
     "metadata": {},
     "output_type": "execute_result"
    }
   ],
   "source": [
    "movies.isnull().sum()"
   ]
  },
  {
   "cell_type": "code",
   "execution_count": 10,
   "metadata": {},
   "outputs": [
    {
     "data": {
      "text/plain": "0"
     },
     "execution_count": 10,
     "metadata": {},
     "output_type": "execute_result"
    }
   ],
   "source": [
    "movies.duplicated().sum()"
   ]
  },
  {
   "cell_type": "code",
   "execution_count": 11,
   "metadata": {},
   "outputs": [
    {
     "data": {
      "text/plain": "<function ast.literal_eval(node_or_string)>"
     },
     "execution_count": 11,
     "metadata": {},
     "output_type": "execute_result"
    }
   ],
   "source": [
    "import ast\n",
    "ast.literal_eval"
   ]
  },
  {
   "cell_type": "code",
   "execution_count": 12,
   "metadata": {},
   "outputs": [],
   "source": [
    "def convert(obj):\n",
    "    L =[]\n",
    "    for i in ast.literal_eval(obj):\n",
    "        L.append(i['name'])\n",
    "    return L"
   ]
  },
  {
   "cell_type": "code",
   "execution_count": 13,
   "metadata": {},
   "outputs": [
    {
     "data": {
      "text/plain": "   Movie_id                        title                    Genres  \\\n0       238                The Godfather            [Drama, Crime]   \n1       278     The Shawshank Redemption            [Drama, Crime]   \n2       240        The Godfather Part II            [Drama, Crime]   \n3     19404  Dilwale Dulhania Le Jayenge  [Comedy, Drama, Romance]   \n4       424             Schindler's List     [Drama, History, War]   \n\n                                            Keywords  \\\n0  [{'id': 131, 'name': 'italy'}, {'id': 697, 'na...   \n1  [{'id': 378, 'name': 'prison'}, {'id': 417, 'n...   \n2  [{'id': 131, 'name': 'italy'}, {'id': 700, 'na...   \n3                                                 []   \n4  [{'id': 818, 'name': 'based on novel or book'}...   \n\n                                            overview  \\\n0  Spanning the years 1945 to 1955, a chronicle o...   \n1  Framed in the 1940s for the double murder of h...   \n2  In the continuing saga of the Corleone crime f...   \n3  Raj is a rich, carefree, happy-go-lucky second...   \n4  The true story of how businessman Oskar Schind...   \n\n                                                Cast  \\\n0  [{'adult': False, 'gender': 2, 'id': 3084, 'kn...   \n1  [{'adult': False, 'gender': 2, 'id': 504, 'kno...   \n2  [{'adult': False, 'gender': 2, 'id': 1158, 'kn...   \n3  [{'adult': False, 'gender': 2, 'id': 35742, 'k...   \n4  [{'adult': False, 'gender': 2, 'id': 3896, 'kn...   \n\n                                                Crew  \n0  [{'adult': False, 'gender': 2, 'id': 154, 'kno...  \n1  [{'adult': False, 'gender': 2, 'id': 153, 'kno...  \n2  [{'adult': False, 'gender': 2, 'id': 154, 'kno...  \n3  [{'adult': False, 'gender': 1, 'id': 8311, 'kn...  \n4  [{'adult': False, 'gender': 2, 'id': 491, 'kno...  ",
      "text/html": "<div>\n<style scoped>\n    .dataframe tbody tr th:only-of-type {\n        vertical-align: middle;\n    }\n\n    .dataframe tbody tr th {\n        vertical-align: top;\n    }\n\n    .dataframe thead th {\n        text-align: right;\n    }\n</style>\n<table border=\"1\" class=\"dataframe\">\n  <thead>\n    <tr style=\"text-align: right;\">\n      <th></th>\n      <th>Movie_id</th>\n      <th>title</th>\n      <th>Genres</th>\n      <th>Keywords</th>\n      <th>overview</th>\n      <th>Cast</th>\n      <th>Crew</th>\n    </tr>\n  </thead>\n  <tbody>\n    <tr>\n      <th>0</th>\n      <td>238</td>\n      <td>The Godfather</td>\n      <td>[Drama, Crime]</td>\n      <td>[{'id': 131, 'name': 'italy'}, {'id': 697, 'na...</td>\n      <td>Spanning the years 1945 to 1955, a chronicle o...</td>\n      <td>[{'adult': False, 'gender': 2, 'id': 3084, 'kn...</td>\n      <td>[{'adult': False, 'gender': 2, 'id': 154, 'kno...</td>\n    </tr>\n    <tr>\n      <th>1</th>\n      <td>278</td>\n      <td>The Shawshank Redemption</td>\n      <td>[Drama, Crime]</td>\n      <td>[{'id': 378, 'name': 'prison'}, {'id': 417, 'n...</td>\n      <td>Framed in the 1940s for the double murder of h...</td>\n      <td>[{'adult': False, 'gender': 2, 'id': 504, 'kno...</td>\n      <td>[{'adult': False, 'gender': 2, 'id': 153, 'kno...</td>\n    </tr>\n    <tr>\n      <th>2</th>\n      <td>240</td>\n      <td>The Godfather Part II</td>\n      <td>[Drama, Crime]</td>\n      <td>[{'id': 131, 'name': 'italy'}, {'id': 700, 'na...</td>\n      <td>In the continuing saga of the Corleone crime f...</td>\n      <td>[{'adult': False, 'gender': 2, 'id': 1158, 'kn...</td>\n      <td>[{'adult': False, 'gender': 2, 'id': 154, 'kno...</td>\n    </tr>\n    <tr>\n      <th>3</th>\n      <td>19404</td>\n      <td>Dilwale Dulhania Le Jayenge</td>\n      <td>[Comedy, Drama, Romance]</td>\n      <td>[]</td>\n      <td>Raj is a rich, carefree, happy-go-lucky second...</td>\n      <td>[{'adult': False, 'gender': 2, 'id': 35742, 'k...</td>\n      <td>[{'adult': False, 'gender': 1, 'id': 8311, 'kn...</td>\n    </tr>\n    <tr>\n      <th>4</th>\n      <td>424</td>\n      <td>Schindler's List</td>\n      <td>[Drama, History, War]</td>\n      <td>[{'id': 818, 'name': 'based on novel or book'}...</td>\n      <td>The true story of how businessman Oskar Schind...</td>\n      <td>[{'adult': False, 'gender': 2, 'id': 3896, 'kn...</td>\n      <td>[{'adult': False, 'gender': 2, 'id': 491, 'kno...</td>\n    </tr>\n  </tbody>\n</table>\n</div>"
     },
     "execution_count": 13,
     "metadata": {},
     "output_type": "execute_result"
    }
   ],
   "source": [
    "movies['Genres'] = movies['Genres'].apply(convert)\n",
    "movies.head()"
   ]
  },
  {
   "cell_type": "code",
   "execution_count": 14,
   "metadata": {},
   "outputs": [],
   "source": [
    "movies['Keywords']=movies['Keywords'].apply(convert)"
   ]
  },
  {
   "cell_type": "code",
   "execution_count": 15,
   "metadata": {},
   "outputs": [],
   "source": [
    "def convert3(obj):\n",
    "    L =[]\n",
    "    counter=0\n",
    "    for i in ast.literal_eval(obj):\n",
    "        if counter !=3:\n",
    "            L.append(i['name'])\n",
    "            counter+=1\n",
    "    return L"
   ]
  },
  {
   "cell_type": "code",
   "execution_count": 16,
   "metadata": {},
   "outputs": [],
   "source": [
    "movies['Cast']=movies['Cast'].apply(convert3)"
   ]
  },
  {
   "cell_type": "code",
   "execution_count": 17,
   "metadata": {},
   "outputs": [],
   "source": [
    "def fetch_directoer(obj):\n",
    "    L =[]\n",
    "    for i in ast.literal_eval(obj):\n",
    "        if i['job']==\"Director\":\n",
    "            L.append(i['name'])\n",
    "            break\n",
    "    return L"
   ]
  },
  {
   "cell_type": "code",
   "execution_count": 18,
   "metadata": {},
   "outputs": [],
   "source": [
    "movies['Crew']=movies['Crew'].apply(fetch_directoer)"
   ]
  },
  {
   "cell_type": "code",
   "execution_count": 19,
   "metadata": {},
   "outputs": [],
   "source": [
    "movies['overview']=movies['overview'].apply(lambda x: x.split())"
   ]
  },
  {
   "cell_type": "code",
   "execution_count": 20,
   "metadata": {},
   "outputs": [],
   "source": [
    "movies['Genres']=movies['Genres'].apply(lambda x : [i.replace(\" \",\"\")for i in x])\n",
    "movies['Keywords']=movies['Keywords'].apply(lambda x : [i.replace(\" \",\"\")for i in x])\n",
    "movies['Cast']=movies['Cast'].apply(lambda x : [i.replace(\" \",\"\")for i in x])\n",
    "movies['Crew']=movies['Crew'].apply(lambda x : [i.replace(\" \",\"\")for i in x])"
   ]
  },
  {
   "cell_type": "code",
   "execution_count": 21,
   "metadata": {},
   "outputs": [],
   "source": [
    "movies['tags']= movies['Genres'] + movies['Keywords'] + movies['Cast'] + movies['Crew'] + movies['overview']"
   ]
  },
  {
   "cell_type": "code",
   "execution_count": 22,
   "metadata": {},
   "outputs": [
    {
     "data": {
      "text/plain": "   Movie_id                     title          Genres  \\\n0       238             The Godfather  [Drama, Crime]   \n1       278  The Shawshank Redemption  [Drama, Crime]   \n\n                                            Keywords  \\\n0  [italy, lossoflovedone, loveatfirstsight, base...   \n1  [prison, corruption, policebrutality, basedonn...   \n\n                                            overview  \\\n0  [Spanning, the, years, 1945, to, 1955,, a, chr...   \n1  [Framed, in, the, 1940s, for, the, double, mur...   \n\n                                     Cast                  Crew  \\\n0     [MarlonBrando, AlPacino, JamesCaan]  [FrancisFordCoppola]   \n1  [TimRobbins, MorganFreeman, BobGunton]       [FrankDarabont]   \n\n                                                tags  \n0  [Drama, Crime, italy, lossoflovedone, loveatfi...  \n1  [Drama, Crime, prison, corruption, policebruta...  ",
      "text/html": "<div>\n<style scoped>\n    .dataframe tbody tr th:only-of-type {\n        vertical-align: middle;\n    }\n\n    .dataframe tbody tr th {\n        vertical-align: top;\n    }\n\n    .dataframe thead th {\n        text-align: right;\n    }\n</style>\n<table border=\"1\" class=\"dataframe\">\n  <thead>\n    <tr style=\"text-align: right;\">\n      <th></th>\n      <th>Movie_id</th>\n      <th>title</th>\n      <th>Genres</th>\n      <th>Keywords</th>\n      <th>overview</th>\n      <th>Cast</th>\n      <th>Crew</th>\n      <th>tags</th>\n    </tr>\n  </thead>\n  <tbody>\n    <tr>\n      <th>0</th>\n      <td>238</td>\n      <td>The Godfather</td>\n      <td>[Drama, Crime]</td>\n      <td>[italy, lossoflovedone, loveatfirstsight, base...</td>\n      <td>[Spanning, the, years, 1945, to, 1955,, a, chr...</td>\n      <td>[MarlonBrando, AlPacino, JamesCaan]</td>\n      <td>[FrancisFordCoppola]</td>\n      <td>[Drama, Crime, italy, lossoflovedone, loveatfi...</td>\n    </tr>\n    <tr>\n      <th>1</th>\n      <td>278</td>\n      <td>The Shawshank Redemption</td>\n      <td>[Drama, Crime]</td>\n      <td>[prison, corruption, policebrutality, basedonn...</td>\n      <td>[Framed, in, the, 1940s, for, the, double, mur...</td>\n      <td>[TimRobbins, MorganFreeman, BobGunton]</td>\n      <td>[FrankDarabont]</td>\n      <td>[Drama, Crime, prison, corruption, policebruta...</td>\n    </tr>\n  </tbody>\n</table>\n</div>"
     },
     "execution_count": 22,
     "metadata": {},
     "output_type": "execute_result"
    }
   ],
   "source": [
    "movies.head(2)"
   ]
  },
  {
   "cell_type": "code",
   "execution_count": 23,
   "metadata": {},
   "outputs": [],
   "source": [
    "new_df = movies[['Movie_id','title','tags']]"
   ]
  },
  {
   "cell_type": "code",
   "execution_count": 24,
   "metadata": {},
   "outputs": [
    {
     "name": "stderr",
     "output_type": "stream",
     "text": [
      "C:\\Users\\ch__s\\AppData\\Local\\Temp\\ipykernel_16880\\1413511631.py:1: SettingWithCopyWarning: \n",
      "A value is trying to be set on a copy of a slice from a DataFrame.\n",
      "Try using .loc[row_indexer,col_indexer] = value instead\n",
      "\n",
      "See the caveats in the documentation: https://pandas.pydata.org/pandas-docs/stable/user_guide/indexing.html#returning-a-view-versus-a-copy\n",
      "  new_df['tags']=new_df['tags'].apply(lambda x: \" \".join(x))\n",
      "C:\\Users\\ch__s\\AppData\\Local\\Temp\\ipykernel_16880\\1413511631.py:2: SettingWithCopyWarning: \n",
      "A value is trying to be set on a copy of a slice from a DataFrame.\n",
      "Try using .loc[row_indexer,col_indexer] = value instead\n",
      "\n",
      "See the caveats in the documentation: https://pandas.pydata.org/pandas-docs/stable/user_guide/indexing.html#returning-a-view-versus-a-copy\n",
      "  new_df['tags']=new_df['tags'].apply(lambda x: x.lower())\n"
     ]
    }
   ],
   "source": [
    "new_df['tags']=new_df['tags'].apply(lambda x: \" \".join(x))\n",
    "new_df['tags']=new_df['tags'].apply(lambda x: x.lower())"
   ]
  },
  {
   "cell_type": "code",
   "execution_count": 25,
   "metadata": {},
   "outputs": [],
   "source": [
    "# from nltk.stem import PorterStemmer\n",
    "# ps=PorterStemmer()"
   ]
  },
  {
   "cell_type": "code",
   "execution_count": 26,
   "metadata": {},
   "outputs": [],
   "source": [
    "# def steam(text):\n",
    "#     y=[]\n",
    "#     for i in text.split():\n",
    "#         y.append (ps.stem(i))\n",
    "#     return \" \".join(y)"
   ]
  },
  {
   "cell_type": "code",
   "execution_count": 27,
   "metadata": {},
   "outputs": [],
   "source": [
    "# new_df['tags']=new_df['tags'].apply(steam)"
   ]
  },
  {
   "cell_type": "code",
   "execution_count": 28,
   "metadata": {},
   "outputs": [],
   "source": [
    "from sklearn.feature_extraction.text import CountVectorizer\n",
    "CV= CountVectorizer(max_features=8000, stop_words=\"english\")"
   ]
  },
  {
   "cell_type": "code",
   "execution_count": 29,
   "metadata": {},
   "outputs": [],
   "source": [
    "vector=CV.fit_transform(new_df['tags']).toarray()"
   ]
  },
  {
   "cell_type": "code",
   "execution_count": 30,
   "metadata": {},
   "outputs": [
    {
     "name": "stderr",
     "output_type": "stream",
     "text": [
      "C:\\Users\\ch__s\\anaconda3\\lib\\site-packages\\sklearn\\utils\\deprecation.py:87: FutureWarning: Function get_feature_names is deprecated; get_feature_names is deprecated in 1.0 and will be removed in 1.2. Please use get_feature_names_out instead.\n",
      "  warnings.warn(msg, category=FutureWarning)\n"
     ]
    },
    {
     "data": {
      "text/plain": "'brown'"
     },
     "execution_count": 30,
     "metadata": {},
     "output_type": "execute_result"
    }
   ],
   "source": [
    "CV.get_feature_names()[1002]"
   ]
  },
  {
   "cell_type": "code",
   "execution_count": 31,
   "metadata": {},
   "outputs": [],
   "source": [
    "from sklearn.metrics.pairwise import cosine_similarity\n",
    "similarity=cosine_similarity(vector)"
   ]
  },
  {
   "cell_type": "code",
   "execution_count": 32,
   "metadata": {},
   "outputs": [
    {
     "data": {
      "text/plain": "1266"
     },
     "execution_count": 32,
     "metadata": {},
     "output_type": "execute_result"
    }
   ],
   "source": [
    "new_df[new_df['title']=='Avatar'].index[0]"
   ]
  },
  {
   "cell_type": "code",
   "execution_count": 33,
   "metadata": {},
   "outputs": [
    {
     "data": {
      "text/plain": "[(2, 0.4382615323430833),\n (1633, 0.30218361150951756),\n (2747, 0.27500954910846337),\n (9782, 0.25588315785957955),\n (5229, 0.253546276418555)]"
     },
     "execution_count": 33,
     "metadata": {},
     "output_type": "execute_result"
    }
   ],
   "source": [
    "sorted(list(enumerate(similarity[0])), reverse=True, key=lambda x : x[1])[1:6]"
   ]
  },
  {
   "cell_type": "code",
   "execution_count": 34,
   "metadata": {},
   "outputs": [],
   "source": [
    "def Recommend_Movies(movie):\n",
    "    movie_index=new_df[new_df['title']==movie].index[0]\n",
    "    distance=similarity[movie_index]\n",
    "    movies_list=sorted(list(enumerate(distance)), reverse=True, key=lambda x : x[1])[1:6]\n",
    "    \n",
    "    for i in movies_list:\n",
    "        print(new_df.iloc[i[0]].title)"
   ]
  },
  {
   "cell_type": "code",
   "execution_count": 35,
   "metadata": {},
   "outputs": [
    {
     "name": "stdout",
     "output_type": "stream",
     "text": [
      "Batman: Under the Red Hood\n",
      "The Dark Knight\n",
      "The Dark Knight Rises\n",
      "Batman: Bad Blood\n",
      "Batman: Year One\n"
     ]
    }
   ],
   "source": [
    "Recommend_Movies('Batman Begins')"
   ]
  },
  {
   "cell_type": "code",
   "execution_count": 36,
   "metadata": {},
   "outputs": [
    {
     "name": "stdout",
     "output_type": "stream",
     "text": [
      "Rakka\n",
      "Titan A.E.\n",
      "Skylines\n",
      "Dragon Ball Z: Bardock - The Father of Goku\n",
      "Valerian and the City of a Thousand Planets\n"
     ]
    }
   ],
   "source": [
    "Recommend_Movies(\"Avatar\")"
   ]
  },
  {
   "cell_type": "code",
   "execution_count": 37,
   "metadata": {},
   "outputs": [
    {
     "name": "stdout",
     "output_type": "stream",
     "text": [
      "The Godfather Part II\n",
      "The Godfather Part III\n",
      "Bomb City\n",
      "Gotti\n",
      "The Wild Goose Lake\n"
     ]
    }
   ],
   "source": [
    "Recommend_Movies(\"The Godfather\")"
   ]
  },
  {
   "cell_type": "code",
   "execution_count": 38,
   "metadata": {},
   "outputs": [
    {
     "name": "stdout",
     "output_type": "stream",
     "text": [
      "Braven\n",
      "Death Wish 4: The Crackdown\n",
      "Bad Boys II\n",
      "Pusher\n",
      "Bad Boys for Life\n"
     ]
    }
   ],
   "source": [
    "Recommend_Movies(\"Scarface\")"
   ]
  },
  {
   "cell_type": "code",
   "execution_count": 39,
   "metadata": {},
   "outputs": [
    {
     "name": "stdout",
     "output_type": "stream",
     "text": [
      "The Hunger Games: Catching Fire\n",
      "The Hunger Games: Mockingjay - Part 2\n",
      "The Hunger Games: Mockingjay - Part 1\n",
      "The Seeker: The Dark Is Rising\n",
      "The Indian in the Cupboard\n"
     ]
    }
   ],
   "source": [
    "Recommend_Movies(\"The Hunger Games\")"
   ]
  },
  {
   "cell_type": "code",
   "execution_count": 39,
   "metadata": {},
   "outputs": [],
   "source": []
  }
 ],
 "metadata": {
  "kernelspec": {
   "display_name": "Python 3.10.8 64-bit (microsoft store)",
   "language": "python",
   "name": "python3"
  },
  "language_info": {
   "codemirror_mode": {
    "name": "ipython",
    "version": 3
   },
   "file_extension": ".py",
   "mimetype": "text/x-python",
   "name": "python",
   "nbconvert_exporter": "python",
   "pygments_lexer": "ipython3",
   "version": "3.10.8"
  },
  "orig_nbformat": 4,
  "vscode": {
   "interpreter": {
    "hash": "80819c54c7d22b05949ff95365b6ac6ca45458f2e36025379a83c9281eefd092"
   }
  }
 },
 "nbformat": 4,
 "nbformat_minor": 2
}
