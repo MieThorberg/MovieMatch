{
 "cells": [
  {
   "cell_type": "code",
   "execution_count": 1,
   "metadata": {
    "collapsed": true,
    "pycharm": {
     "name": "#%%\n"
    }
   },
   "outputs": [
    {
     "data": {
      "text/html": "        <script type=\"text/javascript\">\n        window.PlotlyConfig = {MathJaxConfig: 'local'};\n        if (window.MathJax && window.MathJax.Hub && window.MathJax.Hub.Config) {window.MathJax.Hub.Config({SVG: {font: \"STIX-Web\"}});}\n        if (typeof require !== 'undefined') {\n        require.undef(\"plotly\");\n        requirejs.config({\n            paths: {\n                'plotly': ['https://cdn.plot.ly/plotly-2.16.1.min']\n            }\n        });\n        require(['plotly'], function(Plotly) {\n            window._Plotly = Plotly;\n        });\n        }\n        </script>\n        "
     },
     "metadata": {},
     "output_type": "display_data"
    },
    {
     "ename": "AttributeError",
     "evalue": "module 'modules.PrepareData' has no attribute 'get_all_movie_titles'",
     "output_type": "error",
     "traceback": [
      "\u001B[1;31m---------------------------------------------------------------------------\u001B[0m",
      "\u001B[1;31mAttributeError\u001B[0m                            Traceback (most recent call last)",
      "Cell \u001B[1;32mIn [1], line 14\u001B[0m\n\u001B[0;32m      5\u001B[0m \u001B[38;5;28;01mimport\u001B[39;00m \u001B[38;5;21;01mmodules\u001B[39;00m\u001B[38;5;21;01m.\u001B[39;00m\u001B[38;5;21;01mPrepareData\u001B[39;00m \u001B[38;5;28;01mas\u001B[39;00m \u001B[38;5;21;01mprepare\u001B[39;00m\n\u001B[0;32m      6\u001B[0m \u001B[38;5;66;03m# cc.get_elbow_diagram(\"budget\", \"runtime\")\u001B[39;00m\n\u001B[0;32m      7\u001B[0m \u001B[38;5;66;03m# cc.create_cluster_scatter(\"budget\", \"revenue\", 5)\u001B[39;00m\n\u001B[0;32m      8\u001B[0m \u001B[38;5;66;03m# cr.recommend_movies(1, 10)\u001B[39;00m\n\u001B[1;32m   (...)\u001B[0m\n\u001B[0;32m     12\u001B[0m \u001B[38;5;66;03m# print(prepare.get_all_movie_titles())\u001B[39;00m\n\u001B[0;32m     13\u001B[0m \u001B[38;5;66;03m# content.recommend_movies(\"Avatar\", 6)\u001B[39;00m\n\u001B[1;32m---> 14\u001B[0m \u001B[43mprepare\u001B[49m\u001B[38;5;241;43m.\u001B[39;49m\u001B[43mget_all_movie_titles\u001B[49m()\n\u001B[0;32m     15\u001B[0m \u001B[38;5;66;03m# print(prepare.prepare_movie_data().head())\u001B[39;00m\n",
      "\u001B[1;31mAttributeError\u001B[0m: module 'modules.PrepareData' has no attribute 'get_all_movie_titles'"
     ]
    }
   ],
   "source": [
    "import modules.recomander.CollaborativeRecomander as cr\n",
    "import modules.clusters.ClusterCompre as cc\n",
    "import Webscraper as ws\n",
    "import modules.recomander.ContentRecomander as content\n",
    "import modules.PrepareData as prepare\n",
    "# cc.get_elbow_diagram(\"budget\", \"runtime\")\n",
    "# cc.create_cluster_scatter(\"budget\", \"revenue\", 5)\n",
    "# cr.recommend_movies(1, 10)\n",
    "# ws.get_poster(\"tt0261392\")\n",
    "# sissi_id = prepare.get_imdb_id_by_title(\"Sissi\")\n",
    "# print(ws.get_trailer(sissi_id))\n",
    "# print(prepare.get_all_movie_titles())\n",
    "# content.recommend_movies(\"Avatar\", 6)\n",
    "prepare.get_all_movie_titles()\n",
    "# print(prepare.prepare_movie_data().head())"
   ]
  }
 ],
 "metadata": {
  "kernelspec": {
   "display_name": "Python 3",
   "language": "python",
   "name": "python3"
  },
  "language_info": {
   "codemirror_mode": {
    "name": "ipython",
    "version": 2
   },
   "file_extension": ".py",
   "mimetype": "text/x-python",
   "name": "python",
   "nbconvert_exporter": "python",
   "pygments_lexer": "ipython2",
   "version": "2.7.6"
  }
 },
 "nbformat": 4,
 "nbformat_minor": 0
}