{
 "cells": [
  {
   "cell_type": "code",
   "execution_count": 1,
   "metadata": {
    "collapsed": true,
    "pycharm": {
     "name": "#%%\n"
    }
   },
   "outputs": [
    {
     "data": {
      "text/html": "        <script type=\"text/javascript\">\n        window.PlotlyConfig = {MathJaxConfig: 'local'};\n        if (window.MathJax && window.MathJax.Hub && window.MathJax.Hub.Config) {window.MathJax.Hub.Config({SVG: {font: \"STIX-Web\"}});}\n        if (typeof require !== 'undefined') {\n        require.undef(\"plotly\");\n        requirejs.config({\n            paths: {\n                'plotly': ['https://cdn.plot.ly/plotly-2.16.1.min']\n            }\n        });\n        require(['plotly'], function(Plotly) {\n            window._Plotly = Plotly;\n        });\n        }\n        </script>\n        "
     },
     "metadata": {},
     "output_type": "display_data"
    },
    {
     "name": "stdout",
     "output_type": "stream",
     "text": [
      "['20,000 Leagues Under the Sea', '2001: A Space Odyssey', '48 Hrs.', '5 Card Stud', 'A Brief History of Time', 'A Clockwork Orange', 'A Nightmare on Elm Street', 'A River Runs Through It', 'A Time to Kill', 'Aguirre: The Wrath of God', 'Aliens vs Predator: Requiem', 'All the Way Boys', 'Almost Famous', 'American Pie 2', 'And Then There Were None', 'Ariel', 'Arlington Road', 'Armageddon', 'Asterix at the Olympic Games', 'Avalon', 'Back to the Future Part II', 'Back to the Future Part III', 'Bad Boys II', 'Bang, Boom, Bang', 'Barry Lyndon', 'Batman Returns', 'Battle Royale', 'Beauty and the Beast', 'Beetlejuice', 'Bell, Book and Candle', 'Belle Époque', 'Big Fish', 'Blackmail', 'Blood: The Last Vampire', 'Boat', 'Bollywood/Hollywood', 'Boogie Nights', 'Bread and Tulips', 'Bridge to Terabithia', 'Broken Blossoms', 'Carry On Screaming', 'Cars', 'Cat on a Hot Tin Roof', \"Cheerleaders' Wild Weekend\", 'Cockles and Muscles', 'Comanche Station', 'Confession of a Child of the Century', 'Contempt', 'Cool Hand Luke', 'Cousin, Cousine', 'Dancer in the Dark', \"Dave Chappelle's Block Party\", 'Dawn of the Dead', 'Die Hard 2', 'Dogtown and Z-Boys', 'Dogville', \"Don't Come Knocking\", \"Don't Look Down\", \"Don't Make Waves\", 'Donnie Darko', 'Dr. Jekyll and Mr. Hyde', 'Eight Miles High', 'Fahrenheit 9/11', 'Fever Pitch', 'Fools Rush In', 'Forces of Nature', 'Four Rooms', 'Frankenstein Conquers the World', 'Get Carter', 'Ghost Rider', 'Gleaming the Cube', 'Gods and Monsters', 'Grbavica: The Land of My Dreams', 'Grill Point', 'Hard Target', 'Harry Potter and the Prisoner of Azkaban', 'Heathers', 'High Noon', 'Houseboat', 'Imagine Me & You', 'Interview with the Vampire', \"Jacob's Ladder\", 'Jarhead', 'Jay and Silent Bob Strike Back', 'Judgment Night', 'Jurassic Park', 'K-19: The Widowmaker', 'Klute', \"Knockin' on Heaven's Door\", 'Kolya', 'La Vie en Rose', 'License to Wed', 'Light of Day', 'Lili Marleen', 'Live and Let Die', 'Local Color', 'Lolita', 'Lonely Hearts', 'Longitude', 'Loose Screws', 'Lost in Translation', 'Love Actually', 'M', 'Madagascar', 'Man of Iron', 'Married to the Mob', 'Men in Black II', 'Mere Brother Ki Dulhan', 'Metropolis', 'Miffo', 'Mirror', \"Monsieur  Hulot's Holiday\", 'Monsieur Ibrahim', 'Monsoon Wedding', 'Mothra vs. Godzilla', \"Mr. Holland's Opus\", 'Mrs. Doubtfire', 'Murder She Said', \"Muriel's Wedding\", 'Muxmäuschenstill', \"My Best Friend's Wedding\", 'My Name Is Bruce', 'Night on Earth', 'Nosferatu', 'Nostalgia', 'Notes on a Scandal', 'Notting Hill', \"Ocean's Eleven\", \"Ocean's Twelve\", 'On Guard', 'Once Were Warriors', 'Parenthood', 'Persepolis', 'Pleasantville', 'Point Break', 'Popular Music', 'Princesses', 'Psycho', 'Rain Man', 'Rambo III', 'Rebecca', 'Reign Over Me', 'Reservoir Dogs', 'Ringu', 'Rocky Balboa', 'Rocky IV', 'Rocky V', 'Romeo + Juliet', 'Rope', 'Run Lola Run', 'Rush Hour', 'Say Anything...', 'Scarface', 'School of Rock', 'Shadows in Paradise', 'Shaft in Africa', 'Shriek If You Know What I Did Last Friday the Thirteenth', 'Silent Hill', 'Silent Light', 'Sissi', 'Sister Act', 'Sleepless in Seattle', 'Solaris', 'Spanglish', 'Speed 2: Cruise Control', 'Stand by Me', 'Star 80', 'Star Wars', 'Street Kings', 'Summer Storm', 'Summer in Berlin', 'Superstar: The Karen Carpenter Story', 'Sweet Sixteen', 'Syriana', 'Terminator 3: Rise of the Machines', 'That Man from Rio', 'The 39 Steps', 'The Arrival of a Train at La Ciotat', 'The Big Sleep', 'The Bourne Supremacy', 'The Butterfly Effect', 'The Cave of the Yellow Dog', 'The Chronicles of Riddick: Dark Fury', 'The Conversation', 'The Dark', 'The Day After Tomorrow', 'The Devil Wears Prada', 'The Dreamers', 'The Endless Summer', 'The Forbidden Kingdom', 'The Garden of Eden', 'The Goddess', 'The Golden Compass', 'The Good Shepherd', 'The Good Thief', 'The Grapes of Wrath', 'The Great Dictator', 'The Great Outdoors', 'The Green Mile', 'The Hidden Fortress', 'The Hours', 'The Last Castle', 'The Last Laugh', 'The Living Daylights', 'The Man with the Golden Arm', 'The Marriage of Maria Braun', 'The Million Dollar Hotel', 'The Motorcycle Diaries', 'The Passion of Joan of Arc', 'The Poseidon Adventure', 'The Prisoner of Zenda', 'The Prize', 'The Projected Man', 'The Red Elvis', 'The Science of Sleep', 'The Searchers', 'The Sixth Sense', 'The Talented Mr. Ripley', 'The Terminal', 'The Third Man', 'The Thirteenth Floor', 'The Thomas Crown Affair', 'The Tunnel', 'The Very Thought of You', 'Three Colors: Red', 'Titanic', 'To Kill a Mockingbird', 'Torrente 3 The Protector', 'Tough Enough', 'Twin Peaks: Fire Walk with Me', 'Two Brothers', 'Under the Sand', 'Wag the Dog', 'Waiter', 'We Own the Night', 'Whale Rider', 'When Saturday Comes', 'Who Killed Bambi?', 'Will Penny', 'Windows on Monday', 'X-Men Origins: Wolverine', 'Y Tu Mamá También', 'Yesterday', 'Young and Innocent', 'Zatoichi']\n"
     ]
    }
   ],
   "source": [
    "import modules.recomander.CollaborativeRecomander as cr\n",
    "import modules.clusters.ClusterCompre as cc\n",
    "import Webscraper as ws\n",
    "import modules.PrepareData as prepare\n",
    "# cc.get_elbow_diagram(\"budget\", \"runtime\")\n",
    "# cc.create_cluster_scatter(\"budget\", \"revenue\", 5)\n",
    "# cr.recommend_movies(1, 10)\n",
    "# ws.get_poster(\"tt0261392\")\n",
    "sissi_id = prepare.get_imdb_id_by_title(\"Sissi\")\n",
    "# print(ws.get_trailer(sissi_id))\n",
    "print(prepare.get_all_movie_titles())\n",
    "# print(prepare.prepare_movie_data().head())"
   ]
  }
 ],
 "metadata": {
  "kernelspec": {
   "display_name": "Python 3",
   "language": "python",
   "name": "python3"
  },
  "language_info": {
   "codemirror_mode": {
    "name": "ipython",
    "version": 2
   },
   "file_extension": ".py",
   "mimetype": "text/x-python",
   "name": "python",
   "nbconvert_exporter": "python",
   "pygments_lexer": "ipython2",
   "version": "2.7.6"
  }
 },
 "nbformat": 4,
 "nbformat_minor": 0
}