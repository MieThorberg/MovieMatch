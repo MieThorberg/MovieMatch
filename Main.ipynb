{
 "cells": [
  {
   "cell_type": "code",
   "execution_count": 2,
   "metadata": {
    "collapsed": true,
    "pycharm": {
     "name": "#%%\n"
    }
   },
   "outputs": [
    {
     "name": "stderr",
     "output_type": "stream",
     "text": [
      "C:\\Users\\miemt\\Desktop\\MovieMatch\\modules\\clusters\\ClusterCompre.py:16: SettingWithCopyWarning:\n",
      "\n",
      "\n",
      "A value is trying to be set on a copy of a slice from a DataFrame\n",
      "\n",
      "See the caveats in the documentation: https://pandas.pydata.org/pandas-docs/stable/user_guide/indexing.html#returning-a-view-versus-a-copy\n",
      "\n"
     ]
    },
    {
     "data": {
      "text/plain": "<Figure size 1000x500 with 1 Axes>",
      "image/png": "[encoded data removed]"
     },
     "metadata": {},
     "output_type": "display_data"
    },
    {
     "name": "stderr",
     "output_type": "stream",
     "text": [
      "C:\\Users\\miemt\\Desktop\\MovieMatch\\modules\\clusters\\ClusterCompre.py:16: SettingWithCopyWarning:\n",
      "\n",
      "\n",
      "A value is trying to be set on a copy of a slice from a DataFrame\n",
      "\n",
      "See the caveats in the documentation: https://pandas.pydata.org/pandas-docs/stable/user_guide/indexing.html#returning-a-view-versus-a-copy\n",
      "\n"
     ]
    },
    {
     "data": {
      "application/vnd.plotly.v1+json": {
       "data": [
        {
         "customdata": [
          [
           "Toy Story"
          ],
          [
           "Jumanji"
          ],
          [
           "GoldenEye"
          ],
          [
           "Babe"
          ],
          [
           "Se7en"
          ],
          [
           "Pocahontas"
          ],
          [
           "Apollo 13"
          ],
          [
           "Casper"
          ],
          [
           "Die Hard: With a Vengeance"
          ],
          [
           "Dumb and Dumber"
          ],
          [
           "Star Wars"
          ],
          [
           "The Flintstones"
          ],
          [
           "Forrest Gump"
          ],
          [
           "Four Weddings and a Funeral"
          ],
          [
           "The Lion King"
          ],
          [
           "The Mask"
          ],
          [
           "Speed"
          ],
          [
           "Cliffhanger"
          ],
          [
           "The Firm"
          ],
          [
           "The Fugitive"
          ],
          [
           "Mrs. Doubtfire"
          ],
          [
           "Schindler's List"
          ],
          [
           "Sleepless in Seattle"
          ],
          [
           "Home Alone"
          ],
          [
           "Ghost"
          ],
          [
           "Aladdin"
          ],
          [
           "Dances with Wolves"
          ],
          [
           "Batman"
          ],
          [
           "The Silence of the Lambs"
          ],
          [
           "Beauty and the Beast"
          ],
          [
           "Pretty Woman"
          ],
          [
           "Mission: Impossible"
          ],
          [
           "Space Jam"
          ],
          [
           "The Rock"
          ],
          [
           "Twister"
          ],
          [
           "Ransom"
          ],
          [
           "The Godfather"
          ],
          [
           "Gone with the Wind"
          ],
          [
           "Cinderella"
          ],
          [
           "Robin Hood: Prince of Thieves"
          ],
          [
           "Alice in Wonderland"
          ],
          [
           "The Sound of Music"
          ],
          [
           "Basic Instinct"
          ],
          [
           "E.T. the Extra-Terrestrial"
          ],
          [
           "Top Gun"
          ],
          [
           "The English Patient"
          ],
          [
           "The Empire Strikes Back"
          ],
          [
           "Raiders of the Lost Ark"
          ],
          [
           "Return of the Jedi"
          ],
          [
           "Dead Poets Society"
          ],
          [
           "Back to the Future"
          ],
          [
           "Indiana Jones and the Last Crusade"
          ],
          [
           "101 Dalmatians"
          ],
          [
           "Die Hard 2"
          ],
          [
           "Batman Returns"
          ],
          [
           "Jaws"
          ],
          [
           "Jerry Maguire"
          ],
          [
           "Liar Liar"
          ],
          [
           "The Fifth Element"
          ],
          [
           "Hercules"
          ],
          [
           "My Best Friend's Wedding"
          ],
          [
           "Face/Off"
          ],
          [
           "Men in Black"
          ],
          [
           "Air Force One"
          ],
          [
           "The Full Monty"
          ],
          [
           "Bean"
          ],
          [
           "The Truman Show"
          ],
          [
           "As Good as It Gets"
          ],
          [
           "Mulan"
          ],
          [
           "Doctor Dolittle"
          ],
          [
           "There's Something About Mary"
          ],
          [
           "Rain Man"
          ],
          [
           "The Exorcist"
          ],
          [
           "Lethal Weapon 2"
          ],
          [
           "Lethal Weapon 3"
          ],
          [
           "Back to the Future Part II"
          ],
          [
           "Back to the Future Part III"
          ],
          [
           "Bambi"
          ],
          [
           "Saving Private Ryan"
          ],
          [
           "Honey, I Shrunk the Kids"
          ],
          [
           "Indiana Jones and the Temple of Doom"
          ],
          [
           "A Few Good Men"
          ],
          [
           "Indecent Proposal"
          ],
          [
           "Rush Hour"
          ],
          [
           "Life Is Beautiful"
          ],
          [
           "Enemy of the State"
          ],
          [
           "Shakespeare in Love"
          ],
          [
           "Rambo: First Blood Part II"
          ],
          [
           "Rocky III"
          ],
          [
           "Rocky IV"
          ],
          [
           "You've Got Mail"
          ],
          [
           "Crocodile Dundee"
          ],
          [
           "The Matrix"
          ],
          [
           "The Mummy"
          ],
          [
           "Superman"
          ],
          [
           "Notting Hill"
          ],
          [
           "Austin Powers: The Spy Who Shagged Me"
          ],
          [
           "Big Daddy"
          ],
          [
           "American Pie"
          ],
          [
           "Ghostbusters"
          ],
          [
           "Runaway Bride"
          ],
          [
           "The Sixth Sense"
          ],
          [
           "American Beauty"
          ],
          [
           "Total Recall"
          ],
          [
           "Home Alone 2: Lost in New York"
          ],
          [
           "Who Framed Roger Rabbit"
          ],
          [
           "Fatal Attraction"
          ],
          [
           "Toy Story 2"
          ],
          [
           "The Green Mile"
          ],
          [
           "Sister Act"
          ],
          [
           "The Bodyguard"
          ],
          [
           "Erin Brockovich"
          ],
          [
           "Close Encounters of the Third Kind"
          ],
          [
           "Hook"
          ],
          [
           "Scary Movie"
          ],
          [
           "X-Men"
          ],
          [
           "Meet the Parents"
          ],
          [
           "Charlie's Angels"
          ],
          [
           "Unbreakable"
          ],
          [
           "What Women Want"
          ],
          [
           "Cast Away"
          ],
          [
           "Beverly Hills Cop II"
          ],
          [
           "Beverly Hills Cop"
          ],
          [
           "Hannibal"
          ],
          [
           "Bridget Jones's Diary"
          ],
          [
           "Shrek"
          ],
          [
           "Coming to America"
          ],
          [
           "Look Who's Talking"
          ],
          [
           "Jurassic Park III"
          ],
          [
           "Rush Hour 2"
          ],
          [
           "American Pie 2"
          ],
          [
           "Ocean's Eleven"
          ],
          [
           "A Beautiful Mind"
          ],
          [
           "Ice Age"
          ],
          [
           "My Big Fat Greek Wedding"
          ],
          [
           "Scooby-Doo"
          ],
          [
           "Austin Powers in Goldmember"
          ],
          [
           "Signs"
          ],
          [
           "xXx"
          ],
          [
           "Spirited Away"
          ],
          [
           "The Ring"
          ],
          [
           "Catch Me If You Can"
          ],
          [
           "Chicago"
          ],
          [
           "Bruce Almighty"
          ],
          [
           "American Wedding"
          ],
          [
           "Love Actually"
          ],
          [
           "Presumed Innocent"
          ],
          [
           "Something's Gotta Give"
          ],
          [
           "The Passion of the Christ"
          ],
          [
           "The Bourne Supremacy"
          ],
          [
           "The Village"
          ],
          [
           "Shark Tale"
          ],
          [
           "The Incredibles"
          ],
          [
           "Meet the Fockers"
          ],
          [
           "Howl's Moving Castle"
          ],
          [
           "Hitch"
          ],
          [
           "Robots"
          ],
          [
           "Madagascar"
          ],
          [
           "Wedding Crashers"
          ],
          [
           "Ice Age: The Meltdown"
          ],
          [
           "Over the Hedge"
          ],
          [
           "The Devil Wears Prada"
          ],
          [
           "The Pursuit of Happyness"
          ],
          [
           "Borat: Cultural Learnings of America for Make Benefit Glorious Nation of Kazakhstan"
          ],
          [
           "The Departed"
          ],
          [
           "300"
          ],
          [
           "Mr. Bean's Holiday"
          ],
          [
           "Ocean's Thirteen"
          ],
          [
           "The Simpsons Movie"
          ],
          [
           "The Bourne Ultimatum"
          ],
          [
           "Enchanted"
          ],
          [
           "Alvin and the Chipmunks"
          ],
          [
           "Horton Hears a Who!"
          ],
          [
           "Taken"
          ],
          [
           "Sex and the City"
          ],
          [
           "Wanted"
          ],
          [
           "Mamma Mia!"
          ],
          [
           "Slumdog Millionaire"
          ],
          [
           "Twilight"
          ],
          [
           "Gran Torino"
          ],
          [
           "Marley & Me"
          ],
          [
           "Fast & Furious"
          ],
          [
           "Inglourious Basterds"
          ],
          [
           "The Hangover"
          ],
          [
           "The Proposal"
          ],
          [
           "The Twilight Saga: New Moon"
          ],
          [
           "The Blind Side"
          ],
          [
           "Sherlock Holmes"
          ],
          [
           "Alvin and the Chipmunks: The Squeakquel"
          ],
          [
           "Shutter Island"
          ],
          [
           "The Twilight Saga: Eclipse"
          ],
          [
           "Despicable Me"
          ],
          [
           "Grown Ups"
          ],
          [
           "The Karate Kid"
          ],
          [
           "The Expendables"
          ],
          [
           "Resident Evil: Afterlife"
          ],
          [
           "The Social Network"
          ],
          [
           "Black Swan"
          ],
          [
           "The King's Speech"
          ],
          [
           "True Grit"
          ],
          [
           "Rio"
          ],
          [
           "Bridesmaids"
          ],
          [
           "The Hangover Part II"
          ],
          [
           "Super 8"
          ],
          [
           "Rise of the Planet of the Apes"
          ],
          [
           "The Hunger Games"
          ],
          [
           "Alvin and the Chipmunks: Chipwrecked"
          ],
          [
           "The Intouchables"
          ],
          [
           "Journey 2: The Mysterious Island"
          ],
          [
           "The Lorax"
          ],
          [
           "American Reunion"
          ],
          [
           "Ted"
          ],
          [
           "Resident Evil: Retribution"
          ],
          [
           "Taken 2"
          ],
          [
           "Hotel Transylvania"
          ],
          [
           "Argo"
          ],
          [
           "Lincoln"
          ],
          [
           "Les Misérables"
          ],
          [
           "A Good Day to Die Hard"
          ],
          [
           "The Conjuring"
          ],
          [
           "We're the Millers"
          ],
          [
           "Grown Ups 2"
          ],
          [
           "Cloudy with a Chance of Meatballs 2"
          ],
          [
           "American Hustle"
          ],
          [
           "Divergent"
          ],
          [
           "The Lego Movie"
          ],
          [
           "Neighbors"
          ],
          [
           "The Fault in Our Stars"
          ],
          [
           "Gone Girl"
          ],
          [
           "The Maze Runner"
          ],
          [
           "American Sniper"
          ],
          [
           "Annabelle"
          ],
          [
           "The Prince"
          ],
          [
           "The Imitation Game"
          ],
          [
           "Paddington"
          ],
          [
           "Maze Runner: The Scorch Trials"
          ],
          [
           "Kingsman: The Secret Service"
          ],
          [
           "Taken 3"
          ],
          [
           "Deadpool"
          ],
          [
           "Fifty Shades of Grey"
          ],
          [
           "The SpongeBob Movie: Sponge Out of Water"
          ],
          [
           "Cinderella"
          ],
          [
           "Pitch Perfect 2"
          ],
          [
           "Spy"
          ],
          [
           "Pixels"
          ],
          [
           "Monster Hunt"
          ],
          [
           "Hotel Transylvania 2"
          ],
          [
           "Daddy's Home"
          ],
          [
           "Mojin: The Lost Legend"
          ],
          [
           "The Mermaid"
          ],
          [
           "The Angry Birds Movie"
          ],
          [
           "Now You See Me 2"
          ],
          [
           "The Conjuring 2"
          ],
          [
           "Sully"
          ],
          [
           "La La Land"
          ],
          [
           "Split"
          ],
          [
           "Hidden Figures"
          ],
          [
           "Sing"
          ],
          [
           "Dangal"
          ],
          [
           "xXx: Return of Xander Cage"
          ],
          [
           "The Lego Batman Movie"
          ],
          [
           "Kung Fu Yoga"
          ],
          [
           "Get Out"
          ],
          [
           "Logan"
          ],
          [
           "Resident Evil: The Final Chapter"
          ],
          [
           "Fifty Shades Darker"
          ],
          [
           "Baahubali 2: The Conclusion"
          ],
          [
           "Baby Driver"
          ]
         ],
         "hovertemplate": "clusters=4<br>budget=%{x}<br>revenue=%{y}<br>title=%{customdata[0]}<extra></extra>",
         "legendgroup": "4",
         "marker": {
          "color": "#636efa",
          "symbol": "circle"
         },
         "mode": "markers",
         "name": "4",
         "showlegend": true,
         "x": [
          3.0E7,
          6.5E7,
          5.8E7,
          3.0E7,
          3.3E7,
          5.5E7,
          5.2E7,
          5.0E7,
          9.0E7,
          1.6E7,
          1.1E7,
          4.6E7,
          5.5E7,
          6000000.0,
          4.5E7,
          2.3E7,
          3.0E7,
          7.0E7,
          4.2E7,
          4.4E7,
          2.5E7,
          2.2E7,
          2.1E7,
          1.8E7,
          2.2E7,
          2.8E7,
          2.2E7,
          3.5E7,
          1.9E7,
          2.5E7,
          1.4E7,
          8.0E7,
          8.0E7,
          7.5E7,
          9.2E7,
          8.0E7,
          6000000.0,
          4000000.0,
          2900000.0,
          4.8E7,
          3000000.0,
          8200000.0,
          4.9E7,
          1.05E7,
          1.5E7,
          2.7E7,
          1.8E7,
          1.8E7,
          3.235E7,
          1.64E7,
          1.9E7,
          4.8E7,
          5.4E7,
          7.0E7,
          8.0E7,
          7000000.0,
          5.0E7,
          4.5E7,
          9.0E7,
          8.5E7,
          3.8E7,
          8.0E7,
          9.0E7,
          8.5E7,
          3500000.0,
          1.8E7,
          6.0E7,
          5.0E7,
          9.0E7,
          7.1E7,
          2.3E7,
          2.5E7,
          8000000.0,
          2.5E7,
          3.5E7,
          4.0E7,
          4.0E7,
          858000.0,
          7.0E7,
          3.2E7,
          2.8E7,
          4.0E7,
          3.8E7,
          3.3E7,
          2.0E7,
          9.0E7,
          2.5E7,
          4.4E7,
          1.7E7,
          3.1E7,
          6.5E7,
          5000000.0,
          6.3E7,
          8.0E7,
          5.5E7,
          4.2E7,
          3.3E7,
          3.42E7,
          1.1E7,
          3.0E7,
          7.0E7,
          4.0E7,
          1.5E7,
          6.5E7,
          1.8E7,
          7.0E7,
          1.4E7,
          9.0E7,
          6.0E7,
          3.1E7,
          2.5E7,
          5.2E7,
          2.0E7,
          7.0E7,
          1.9E7,
          7.5E7,
          5.5E7,
          9.2E7,
          7.5E7,
          7.0E7,
          9.0E7,
          2.0E7,
          1.5E7,
          8.7E7,
          2.5E7,
          6.0E7,
          3.9E7,
          7500000.0,
          9.3E7,
          9.0E7,
          3.0E7,
          8.5E7,
          6.0E7,
          5.9E7,
          5000000.0,
          8.4E7,
          6.3E7,
          7.2E7,
          7.0E7,
          1.5E7,
          4.8E7,
          5.2E7,
          4.5E7,
          8.0E7,
          5.5E7,
          4.0E7,
          2.2E7,
          8.0E7,
          3.0E7,
          7.5E7,
          6.0E7,
          7.5E7,
          9.2E7,
          8.0E7,
          2.4E7,
          7.0E7,
          7.5E7,
          7.5E7,
          4.0E7,
          8.0E7,
          8.0E7,
          3.5E7,
          5.5E7,
          1.8E7,
          9.0E7,
          6.5E7,
          2.5E7,
          8.5E7,
          7.5E7,
          7.0E7,
          8.5E7,
          6.0E7,
          8.5E7,
          2.5E7,
          6.5E7,
          7.5E7,
          5.2E7,
          1.5E7,
          3.7E7,
          3.3E7,
          6.0E7,
          8.5E7,
          7.0E7,
          3.5E7,
          4.0E7,
          5.0E7,
          2.9E7,
          9.0E7,
          7.5E7,
          8.0E7,
          6.8E7,
          6.9E7,
          8.0E7,
          4.0E7,
          8.0E7,
          6.0E7,
          4.0E7,
          1.3E7,
          1.5E7,
          3.8E7,
          9.0E7,
          3.25E7,
          8.0E7,
          5.0E7,
          9.3E7,
          7.5E7,
          7.5E7,
          1.3E7,
          7.9E7,
          7.0E7,
          5.0E7,
          5.0E7,
          6.5E7,
          4.5E7,
          8.5E7,
          4.45E7,
          6.5E7,
          6.1E7,
          9.2E7,
          1.3E7,
          3.7E7,
          8.0E7,
          7.8E7,
          4.0E7,
          8.5E7,
          6.0E7,
          1.8E7,
          1.2E7,
          6.1E7,
          3.4E7,
          5.88E7,
          6500000.0,
          1.8E7,
          1.4E7,
          5.5E7,
          6.1E7,
          8.1E7,
          4.8E7,
          5.8E7,
          4.0E7,
          7.4E7,
          9.5E7,
          2.9E7,
          6.5E7,
          8.8E7,
          4.0E7,
          8.0E7,
          5.0E7,
          3.7E7,
          6.072E7,
          7.3E7,
          9.0E7,
          4.0E7,
          6.0E7,
          3.0E7,
          9000000.0,
          2.5E7,
          7.5E7,
          1.04E7,
          8.5E7,
          8.0E7,
          6.5E7,
          5000000.0,
          9.7E7,
          4.0E7,
          5.5E7,
          1.8E7,
          3.4E7
         ],
         "xaxis": "x",
         "y": [
          3.73554033E8,
          2.62797249E8,
          3.52194034E8,
          2.5413491E8,
          3.27311859E8,
          3.46079773E8,
          3.55237933E8,
          2.87928194E8,
          3.66101666E8,
          2.47275374E8,
          7.75398007E8,
          3.41631208E8,
          6.77945399E8,
          2.54700832E8,
          7.88241776E8,
          3.51583407E8,
          3.50448145E8,
          2.55000211E8,
          2.70248367E8,
          3.6887576E8,
          4.41286195E8,
          3.21365567E8,
          2.27799884E8,
          4.76684675E8,
          5.05E8,
          5.04050219E8,
          4.24208848E8,
          4.11348924E8,
          2.72742922E8,
          3.77350553E8,
          4.63E8,
          4.57696359E8,
          2.502E8,
          3.35062621E8,
          4.94471524E8,
          3.09492681E8,
          2.45066411E8,
          4.00176459E8,
          2.63591415E8,
          3.90493908E8,
          5.72E8,
          2.86214286E8,
          3.52927224E8,
          7.92965326E8,
          3.56830601E8,
          2.31976425E8,
          5.384E8,
          3.89925971E8,
          5.727E8,
          2.35860116E8,
          3.81109762E8,
          4.74171806E8,
          3.20689294E8,
          2.40031094E8,
          2.8E8,
          4.70654E8,
          2.73552592E8,
          3.02710615E8,
          2.6392018E8,
          2.52712101E8,
          2.99288605E8,
          2.45676146E8,
          5.89390539E8,
          3.15156409E8,
          2.57850122E8,
          2.5121267E8,
          2.64118201E8,
          3.14178011E8,
          3.04320254E8,
          2.94456605E8,
          3.69884651E8,
          4.128E8,
          4.41306145E8,
          2.27853986E8,
          3.21731527E8,
          3.32E8,
          2.44527583E8,
          2.6744715E8,
          4.81840909E8,
          2.22724172E8,
          3.33E8,
          2.43240178E8,
          2.66614059E8,
          2.44386864E8,
          2.294E8,
          2.50649836E8,
          2.89317794E8,
          3.00400432E8,
          2.7E8,
          3.00473716E8,
          2.50821495E8,
          3.28203506E8,
          4.63517383E8,
          4.15885488E8,
          3.00218018E8,
          3.63889678E8,
          3.10940086E8,
          2.34801895E8,
          2.35483004E8,
          2.95212467E8,
          3.09457509E8,
          6.72806292E8,
          3.56296601E8,
          2.61317921E8,
          3.58991681E8,
          3.29803958E8,
          3.20145693E8,
          4.97366869E8,
          2.846E8,
          2.3160515E8,
          4.1100674E8,
          2.56271286E8,
          3.03788635E8,
          3.00854823E8,
          2.78019771E8,
          2.96339527E8,
          3.30444045E8,
          2.64105545E8,
          2.48118121E8,
          3.74111707E8,
          4.29632142E8,
          2.99965036E8,
          3.16360478E8,
          3.51692268E8,
          2.81929795E8,
          4.84409218E8,
          2.88752301E8,
          2.96E8,
          3.68780809E8,
          3.47325802E8,
          2.87553595E8,
          4.5071715E8,
          3.13542341E8,
          3.83257136E8,
          3.68744044E8,
          2.75650703E8,
          2.96655431E8,
          4.08247917E8,
          2.77448382E8,
          2.74925095E8,
          2.49348933E8,
          3.52114312E8,
          3.06776732E8,
          4.84572835E8,
          2.31449203E8,
          2.44931766E8,
          2.21303188E8,
          2.66728738E8,
          6.1189942E8,
          2.88500217E8,
          2.5669752E8,
          3.67275019E8,
          6.31442092E8,
          5.16642939E8,
          2.34710455E8,
          3.6810042E8,
          2.60696994E8,
          5.32680671E8,
          2.85176741E8,
          6.6094078E8,
          3.43397247E8,
          3.26551094E8,
          3.07077295E8,
          2.61572744E8,
          2.89847354E8,
          4.22610419E8,
          2.29736344E8,
          3.11312624E8,
          5.27068851E8,
          4.42824138E8,
          3.40487652E8,
          3.61366633E8,
          2.97138014E8,
          2.26830568E8,
          4.15252786E8,
          2.58270008E8,
          6.09841637E8,
          3.77910544E8,
          3.92616625E8,
          2.69958228E8,
          2.44082376E8,
          3.63164265E8,
          3.1913105E8,
          4.59270619E8,
          3.17375031E8,
          7.09827462E8,
          3.09208309E8,
          5.24028679E8,
          4.43140005E8,
          2.94804195E8,
          6.98491347E8,
          5.43513985E8,
          2.71430189E8,
          3.57852395E8,
          2.74470394E8,
          3.00228084E8,
          2.24920315E8,
          3.27803731E8,
          4.14211549E8,
          2.52276927E8,
          4.8463576E8,
          2.88383523E8,
          2.54455986E8,
          2.60095987E8,
          4.82860185E8,
          6.91210692E8,
          3.42695435E8,
          4.26480871E8,
          3.5569276E8,
          3.48840316E8,
          2.34989584E8,
          5.49368315E8,
          2.40159255E8,
          3.76141306E8,
          3.58375603E8,
          2.32324128E8,
          2.7529345E8,
          4.4180977E8,
          3.04654182E8,
          3.18000141E8,
          2.69994119E8,
          2.46984278E8,
          2.48384621E8,
          2.51171807E8,
          2.88747895E8,
          4.69160692E8,
          2.681574E8,
          3.07166834E8,
          3.69330363E8,
          3.48319861E8,
          5.42307423E8,
          2.55273813E8,
          2.665868E8,
          2.33555708E8,
          2.59207227E8,
          3.11256926E8,
          4.14351546E8,
          3.25771424E8,
          7.83112979E8,
          5.71006128E8,
          3.11594032E8,
          5.43514353E8,
          2.87506194E8,
          2.35666219E8,
          2.43637091E8,
          3.85284817E8,
          4.73226958E8,
          2.42786137E8,
          2.783E8,
          5.53810228E8,
          3.49779543E8,
          3.34901337E8,
          3.20170008E8,
          2.38470033E8,
          4.454357E8,
          2.76921998E8,
          2.30698791E8,
          6.32443719E8,
          3.1E8,
          3.46147658E8,
          3.11950384E8,
          2.54212245E8,
          2.5243425E8,
          6.16801808E8,
          3.12242626E8,
          3.78827494E8,
          2.3E8,
          2.24511319E8
         ],
         "yaxis": "y",
         "type": "scattergl"
        },
        {
         "customdata": [
          [
           "Waiting to Exhale"
          ],
          [
           "Sense and Sensibility"
          ],
          [
           "Four Rooms"
          ],
          [
           "Leaving Las Vegas"
          ],
          [
           "Now and Then"
          ],
          [
           "The City of Lost Children"
          ],
          [
           "Dead Man Walking"
          ],
          [
           "Mortal Kombat"
          ],
          [
           "To Die For"
          ],
          [
           "How To Make An American Quilt"
          ],
          [
           "The Usual Suspects"
          ],
          [
           "Mighty Aphrodite"
          ],
          [
           "Friday"
          ],
          [
           "From Dusk Till Dawn"
          ],
          [
           "Big Bully"
          ],
          [
           "Screamers"
          ],
          [
           "Things to Do in Denver When You're Dead"
          ],
          [
           "White Squall"
          ],
          [
           "Nick of Time"
          ],
          [
           "Vampire in Brooklyn"
          ],
          [
           "Bottle Rocket"
          ],
          [
           "Happy Gilmore"
          ],
          [
           "Taxi Driver"
          ],
          [
           "Rumble in the Bronx"
          ],
          [
           "Steal Big Steal Little"
          ],
          [
           "Flirting with Disaster"
          ],
          [
           "Bad Boys"
          ],
          [
           "An Awfully Big Adventure"
          ],
          [
           "Rob Roy"
          ],
          [
           "Blue in the Face"
          ],
          [
           "Canadian Bacon"
          ],
          [
           "Clockers"
          ],
          [
           "Desperado"
          ],
          [
           "Devil in a Blue Dress"
          ],
          [
           "Hackers"
          ],
          [
           "Johnny Mnemonic"
          ],
          [
           "Kids"
          ],
          [
           "Living in Oblivion"
          ],
          [
           "Mallrats"
          ],
          [
           "Mighty Morphin Power Rangers: The Movie"
          ],
          [
           "Mute Witness"
          ],
          [
           "The Net"
          ],
          [
           "Party Girl"
          ],
          [
           "The Prophecy"
          ],
          [
           "Smoke"
          ],
          [
           "The Tie That Binds"
          ],
          [
           "A Walk in the Clouds"
          ],
          [
           "Burnt by the Sun"
          ],
          [
           "Before Sunrise"
          ],
          [
           "Billy Madison"
          ],
          [
           "Boys on the Side"
          ],
          [
           "Clerks"
          ],
          [
           "Don Juan DeMarco"
          ],
          [
           "Ed Wood"
          ],
          [
           "Hideaway"
          ],
          [
           "Hoop Dreams"
          ],
          [
           "Heavenly Creatures"
          ],
          [
           "Houseguest"
          ],
          [
           "Jefferson in Paris"
          ],
          [
           "Like Water for Chocolate"
          ],
          [
           "Losing Isaiah"
          ],
          [
           "Miami Rhapsody"
          ],
          [
           "Natural Born Killers"
          ],
          [
           "Leon: The Professional"
          ],
          [
           "The Perez Family"
          ],
          [
           "Pulp Fiction"
          ],
          [
           "Pushing Hands"
          ],
          [
           "The Quick and the Dead"
          ],
          [
           "Roommates"
          ],
          [
           "Prêt-à-Porter"
          ],
          [
           "The Swan Princess"
          ],
          [
           "The Shawshank Redemption"
          ],
          [
           "Tank Girl"
          ],
          [
           "Tales from the Hood"
          ],
          [
           "What's Eating Gilbert Grape"
          ],
          [
           "Virtuosity"
          ],
          [
           "While You Were Sleeping"
          ],
          [
           "Muriel's Wedding"
          ],
          [
           "Ace Ventura: Pet Detective"
          ],
          [
           "Bitter Moon"
          ],
          [
           "The Crow"
          ],
          [
           "Little Buddha"
          ],
          [
           "New Nightmare"
          ],
          [
           "The Naked Gun 33⅓: The Final Insult"
          ],
          [
           "Reality Bites"
          ],
          [
           "Red Rock West"
          ],
          [
           "Timecop"
          ],
          [
           "A Low Down Dirty Shame"
          ],
          [
           "Jason's Lyric"
          ],
          [
           "Highlander: The Final Dimension"
          ],
          [
           "In the Mouth of Madness"
          ],
          [
           "The Age of Innocence"
          ],
          [
           "The Air Up There"
          ],
          [
           "Body Snatchers"
          ],
          [
           "A Bronx Tale"
          ],
          [
           "Calendar Girl"
          ],
          [
           "Carlito's Way"
          ],
          [
           "Dazed and Confused"
          ],
          [
           "For Love or Money"
          ],
          [
           "Free Willy"
          ],
          [
           "Geronimo: An American Legend"
          ],
          [
           "Hard Target"
          ],
          [
           "Hot Shots! Part Deux"
          ],
          [
           "In the Name of the Father"
          ],
          [
           "Kalifornia"
          ],
          [
           "Killing Zoe"
          ],
          [
           "Manhattan Murder Mystery"
          ],
          [
           "Menace II Society"
          ],
          [
           "The Next Karate Kid"
          ],
          [
           "No Escape"
          ],
          [
           "The Piano"
          ],
          [
           "Poetic Justice"
          ],
          [
           "The Ref"
          ],
          [
           "The Remains of the Day"
          ],
          [
           "RoboCop 3"
          ],
          [
           "Robin Hood: Men in Tights"
          ],
          [
           "Romeo Is Bleeding"
          ],
          [
           "Ruby in Paradise"
          ],
          [
           "Rudy"
          ],
          [
           "Serial Mom"
          ],
          [
           "The Shadow"
          ],
          [
           "Blade Runner"
          ],
          [
           "So I Married an Axe Murderer"
          ],
          [
           "Surviving the Game"
          ],
          [
           "The Nightmare Before Christmas"
          ],
          [
           "The Three Musketeers"
          ],
          [
           "Tombstone"
          ],
          [
           "True Romance"
          ],
          [
           "The Pagemaster"
          ],
          [
           "Snow White and the Seven Dwarfs"
          ],
          [
           "Pinocchio"
          ],
          [
           "The Wild Bunch"
          ],
          [
           "Fargo"
          ],
          [
           "Hellraiser: Bloodline"
          ],
          [
           "The Aristocats"
          ],
          [
           "Girl 6"
          ],
          [
           "Faithful"
          ],
          [
           "Barbarella"
          ],
          [
           "Mrs. Winterbourne"
          ],
          [
           "The Quest"
          ],
          [
           "Oliver & Company"
          ],
          [
           "Flipper"
          ],
          [
           "The Horseman on the Roof"
          ],
          [
           "The Craft"
          ],
          [
           "Original Gangstas"
          ],
          [
           "The Arrival"
          ],
          [
           "Dr. Strangelove or: How I Learned to Stop Worrying and Love the Bomb"
          ],
          [
           "Trainspotting"
          ],
          [
           "Kingpin"
          ],
          [
           "The Frighteners"
          ],
          [
           "Lone Star"
          ],
          [
           "She's the One"
          ],
          [
           "Fled"
          ],
          [
           "Joe's Apartment"
          ],
          [
           "The First Wives Club"
          ],
          [
           "Matilda"
          ],
          [
           "Emma"
          ],
          [
           "The Crow: City of Angels"
          ],
          [
           "Bordello of Blood"
          ],
          [
           "The Spitfire Grill"
          ],
          [
           "Basquiat"
          ],
          [
           "Dingo"
          ],
          [
           "Police Story 3: Supercop"
          ],
          [
           "Manny & Lo"
          ],
          [
           "Bound"
          ],
          [
           "Bulletproof"
          ],
          [
           "Halloween: The Curse of Michael Myers"
          ],
          [
           "Singin' in the Rain"
          ],
          [
           "An American in Paris"
          ],
          [
           "Breakfast at Tiffany's"
          ],
          [
           "Vertigo"
          ],
          [
           "Rear Window"
          ],
          [
           "It Happened One Night"
          ],
          [
           "North by Northwest"
          ],
          [
           "The Apartment"
          ],
          [
           "Some Like It Hot"
          ],
          [
           "Charade"
          ],
          [
           "Casablanca"
          ],
          [
           "The Maltese Falcon"
          ],
          [
           "My Fair Lady"
          ],
          [
           "Sabrina"
          ],
          [
           "Roman Holiday"
          ],
          [
           "The Wizard of Oz"
          ],
          [
           "Sunset Boulevard"
          ],
          [
           "Citizen Kane"
          ],
          [
           "2001: A Space Odyssey"
          ],
          [
           "All About Eve"
          ],
          [
           "The Women"
          ],
          [
           "Rebecca"
          ],
          [
           "Notorious"
          ],
          [
           "Spellbound"
          ],
          [
           "To Catch a Thief"
          ],
          [
           "Ninotchka"
          ],
          [
           "The Adventures of Robin Hood"
          ],
          [
           "Laura"
          ],
          [
           "Top Hat"
          ],
          [
           "Giant"
          ],
          [
           "East of Eden"
          ],
          [
           "The Thin Man"
          ],
          [
           "Around the World in Eighty Days"
          ],
          [
           "It's a Wonderful Life"
          ],
          [
           "Mr. Smith Goes to Washington"
          ],
          [
           "Night of the Living Dead"
          ],
          [
           "The African Queen"
          ],
          [
           "Cat on a Hot Tin Roof"
          ],
          [
           "A Farewell to Arms"
          ],
          [
           "Maximum Risk"
          ],
          [
           "Michael Collins"
          ],
          [
           "Set It Off"
          ],
          [
           "Curdled"
          ],
          [
           "20,000 Leagues Under the Sea"
          ],
          [
           "Cool Runnings"
          ],
          [
           "The Sword in the Stone"
          ],
          [
           "Mary Poppins"
          ],
          [
           "Dumbo"
          ],
          [
           "Bedknobs and Broomsticks"
          ],
          [
           "The Fox and the Hound"
          ],
          [
           "The Lawnmower Man"
          ],
          [
           "Secrets & Lies"
          ],
          [
           "Surviving Picasso"
          ],
          [
           "Get on the Bus"
          ],
          [
           "Jude"
          ],
          [
           "Romeo + Juliet"
          ],
          [
           "Swingers"
          ],
          [
           "Willy Wonka & the Chocolate Factory"
          ],
          [
           "Sleeper"
          ],
          [
           "Bananas"
          ],
          [
           "A Fish Called Wanda"
          ],
          [
           "Life of Brian"
          ],
          [
           "The Great Race"
          ],
          [
           "Bonnie and Clyde"
          ],
          [
           "Dial M for Murder"
          ],
          [
           "Dirty Dancing"
          ],
          [
           "Reservoir Dogs"
          ],
          [
           "Platoon"
          ],
          [
           "Weekend at Bernie's"
          ],
          [
           "The Crying Game"
          ],
          [
           "Glengarry Glen Ross"
          ],
          [
           "Sophie's Choice"
          ],
          [
           "A Streetcar Named Desire"
          ],
          [
           "The Funeral"
          ],
          [
           "The People vs. Larry Flynt"
          ],
          [
           "The Return of the Pink Panther"
          ],
          [
           "Drop Dead Fred"
          ],
          [
           "The Fog"
          ],
          [
           "Escape from New York"
          ],
          [
           "The Howling"
          ],
          [
           "Monty Python and the Holy Grail"
          ],
          [
           "Bad Moon"
          ],
          [
           "Delicatessen"
          ],
          [
           "My Left Foot: The Story of Christy Brown"
          ],
          [
           "Strictly Ballroom"
          ],
          [
           "Madonna: Truth or Dare"
          ],
          [
           "Paris is Burning"
          ],
          [
           "One Flew Over the Cuckoo's Nest"
          ],
          [
           "The Princess Bride"
          ],
          [
           "Aliens"
          ],
          [
           "The Good, the Bad and the Ugly"
          ],
          [
           "12 Angry Men"
          ],
          [
           "Lawrence of Arabia"
          ],
          [
           "A Clockwork Orange"
          ],
          [
           "To Kill a Mockingbird"
          ],
          [
           "Once Upon a Time in the West"
          ],
          [
           "Wings of Desire"
          ],
          [
           "GoodFellas"
          ],
          [
           "Alien"
          ],
          [
           "Ran"
          ],
          [
           "Psycho"
          ],
          [
           "The Blues Brothers"
          ],
          [
           "The Godfather: Part II"
          ],
          [
           "Full Metal Jacket"
          ],
          [
           "Amadeus"
          ],
          [
           "Raging Bull"
          ],
          [
           "Annie Hall"
          ],
          [
           "The Right Stuff"
          ],
          [
           "Das Boot"
          ],
          [
           "The Sting"
          ],
          [
           "The Terminator"
          ],
          [
           "Braindead"
          ],
          [
           "Glory"
          ],
          [
           "Miller's Crossing"
          ],
          [
           "The Graduate"
          ],
          [
           "Touch of Evil"
          ],
          [
           "The Bridge on the River Kwai"
          ],
          [
           "Chinatown"
          ],
          [
           "The Treasure of the Sierra Madre"
          ],
          [
           "The Shining"
          ],
          [
           "Stand by Me"
          ],
          [
           "Evil Dead II"
          ],
          [
           "The Great Escape"
          ],
          [
           "The Deer Hunter"
          ],
          [
           "Groundhog Day"
          ],
          [
           "Unforgiven"
          ],
          [
           "Fried Green Tomatoes"
          ],
          [
           "Patton"
          ],
          [
           "Akira"
          ],
          [
           "Highlander"
          ],
          [
           "Cool Hand Luke"
          ],
          [
           "Young Frankenstein"
          ],
          [
           "Night on Earth"
          ],
          [
           "The Great Dictator"
          ],
          [
           "Fantasia"
          ],
          [
           "High Noon"
          ],
          [
           "Ben-Hur"
          ],
          [
           "This Is Spinal Tap"
          ],
          [
           "Gandhi"
          ],
          [
           "The Unbearable Lightness of Being"
          ],
          [
           "A Room with a View"
          ],
          [
           "Pink Floyd: The Wall"
          ],
          [
           "The Killing Fields"
          ],
          [
           "Forbidden Planet"
          ],
          [
           "Butch Cassidy and the Sundance Kid"
          ],
          [
           "Paris, Texas"
          ],
          [
           "When Harry Met Sally..."
          ],
          [
           "An American Werewolf in London"
          ],
          [
           "The Birds"
          ],
          [
           "Candyman"
          ],
          [
           "Carrie"
          ],
          [
           "A Nightmare on Elm Street"
          ],
          [
           "The Omen"
          ],
          [
           "Sling Blade"
          ],
          [
           "Ridicule"
          ],
          [
           "Star Trek VI: The Undiscovered Country"
          ],
          [
           "Star Trek V: The Final Frontier"
          ],
          [
           "Star Trek II: The Wrath of Khan"
          ],
          [
           "Star Trek III: The Search for Spock"
          ],
          [
           "Star Trek IV: The Voyage Home"
          ],
          [
           "Young Guns"
          ],
          [
           "Grease"
          ],
          [
           "Grease 2"
          ],
          [
           "Marked for Death"
          ],
          [
           "Jaws 2"
          ],
          [
           "Jaws 3-D"
          ],
          [
           "Citizen Ruth"
          ],
          [
           "Raising Arizona"
          ],
          [
           "Marvin's Room"
          ],
          [
           "Scream"
          ],
          [
           "Prefontaine"
          ],
          [
           "Vegas Vacation"
          ],
          [
           "Lost Highway"
          ],
          [
           "Rosewood"
          ],
          [
           "Donnie Brasco"
          ],
          [
           "Kama Sutra - A Tale of Love"
          ],
          [
           "Private Parts"
          ],
          [
           "Selena"
          ],
          [
           "Cats Don't Dance"
          ],
          [
           "Turbo: A Power Rangers Movie"
          ],
          [
           "Anna Karenina"
          ],
          [
           "Austin Powers: International Man of Mystery"
          ],
          [
           "Love! Valour! Compassion!"
          ],
          [
           "Squeeze"
          ],
          [
           "Contempt"
          ],
          [
           "A Simple Wish"
          ],
          [
           "Conan the Barbarian"
          ],
          [
           "Cop Land"
          ],
          [
           "Air Bud"
          ],
          [
           "Picture Perfect"
          ],
          [
           "Steel"
          ],
          [
           "Mimic"
          ],
          [
           "One Eight Seven"
          ],
          [
           "Kiss the Girls"
          ],
          [
           "Wishmaster"
          ],
          [
           "U Turn"
          ],
          [
           "The Ice Storm"
          ],
          [
           "Chasing Amy"
          ],
          [
           "I Know What You Did Last Summer"
          ],
          [
           "Playing God"
          ],
          [
           "The House of Yes"
          ],
          [
           "Gattaca"
          ],
          [
           "Switchback"
          ],
          [
           "Stripes"
          ],
          [
           "One Night Stand"
          ],
          [
           "Boogie Nights"
          ],
          [
           "Witness"
          ],
          [
           "The Joy Luck Club"
          ],
          [
           "Sliding Doors"
          ],
          [
           "Mortal Kombat: Annihilation"
          ],
          [
           "The Man Who Knew Too Little"
          ],
          [
           "Deconstructing Harry"
          ],
          [
           "For Richer or Poorer"
          ],
          [
           "Good Will Hunting"
          ],
          [
           "Midnight in the Garden of Good and Evil"
          ],
          [
           "The Sweet Hereafter"
          ],
          [
           "Jackie Brown"
          ],
          [
           "Kundun"
          ],
          [
           "The Big Lebowski"
          ],
          [
           "Great Expectations"
          ],
          [
           "Wag the Dog"
          ],
          [
           "Dark City"
          ],
          [
           "Half Baked"
          ],
          [
           "Shooting Fish"
          ],
          [
           "Spice World"
          ],
          [
           "The Replacement Killers"
          ],
          [
           "The Night Flier"
          ],
          [
           "Blues Brothers 2000"
          ],
          [
           "The Wedding Singer"
          ],
          [
           "King of New York"
          ],
          [
           "The Newton Boys"
          ],
          [
           "Wild Things"
          ],
          [
           "Two Girls and a Guy"
          ],
          [
           "The Object of My Affection"
          ],
          [
           "Meet the Deedles"
          ],
          [
           "The Spanish Prisoner"
          ],
          [
           "He Got Game"
          ],
          [
           "Zero Effect"
          ],
          [
           "An Alan Smithee Film: Burn, Hollywood, Burn"
          ],
          [
           "Mr. Nice Guy"
          ],
          [
           "Species II"
          ],
          [
           "The Big Hit"
          ],
          [
           "Woo"
          ],
          [
           "Bulworth"
          ],
          [
           "Fear and Loathing in Las Vegas"
          ],
          [
           "The Opposite of Sex"
          ],
          [
           "Can't Hardly Wait"
          ],
          [
           "Children of Heaven"
          ],
          [
           "Buffalo '66"
          ],
          [
           "Pi"
          ],
          [
           "The Broadway Melody"
          ],
          [
           "Grand Hotel"
          ],
          [
           "Cavalcade"
          ],
          [
           "Mutiny on the Bounty"
          ],
          [
           "You Can't Take It With You"
          ],
          [
           "How Green Was My Valley"
          ],
          [
           "Mrs. Miniver"
          ],
          [
           "The Lost Weekend"
          ],
          [
           "The Best Years of Our Lives"
          ],
          [
           "Gentleman's Agreement"
          ],
          [
           "The Greatest Show on Earth"
          ],
          [
           "From Here to Eternity"
          ],
          [
           "On the Waterfront"
          ],
          [
           "Marty"
          ],
          [
           "West Side Story"
          ],
          [
           "Tom Jones"
          ],
          [
           "A Man for All Seasons"
          ],
          [
           "In the Heat of the Night"
          ],
          [
           "Oliver!"
          ],
          [
           "Midnight Cowboy"
          ],
          [
           "The French Connection"
          ],
          [
           "Rocky"
          ],
          [
           "Kramer vs. Kramer"
          ],
          [
           "Chariots of Fire"
          ],
          [
           "The Last Emperor"
          ],
          [
           "Driving Miss Daisy"
          ],
          [
           "Repo Man"
          ],
          [
           "Labyrinth"
          ],
          [
           "The Breakfast Club"
          ],
          [
           "A Nightmare on Elm Street Part 2: Freddy's Revenge"
          ],
          [
           "A Nightmare on Elm Street 3: Dream Warriors"
          ],
          [
           "A Nightmare on Elm Street 4: The Dream Master"
          ],
          [
           "A Nightmare on Elm Street 5: The Dream Child"
          ],
          [
           "Freddy's Dead: The Final Nightmare"
          ],
          [
           "Friday the 13th"
          ],
          [
           "Friday the 13th Part 2"
          ],
          [
           "Friday the 13th Part III"
          ],
          [
           "Friday the 13th: The Final Chapter"
          ],
          [
           "Friday the 13th: A New Beginning"
          ],
          [
           "Friday the 13th Part VI: Jason Lives"
          ],
          [
           "Friday the 13th Part VII: The New Blood"
          ],
          [
           "Friday the 13th Part VIII: Jason Takes Manhattan"
          ],
          [
           "Halloween"
          ],
          [
           "Halloween II"
          ],
          [
           "Halloween III: Season of the Witch"
          ],
          [
           "Halloween 4: The Return of Michael Myers"
          ],
          [
           "Halloween 5: The Revenge of Michael Myers"
          ],
          [
           "Prom Night"
          ],
          [
           "Child's Play"
          ],
          [
           "Child's Play 2"
          ],
          [
           "Child's Play 3"
          ],
          [
           "Poltergeist"
          ],
          [
           "Poltergeist II: The Other Side"
          ],
          [
           "Poltergeist III"
          ],
          [
           "Exorcist II: The Heretic"
          ],
          [
           "Lethal Weapon"
          ],
          [
           "Gremlins"
          ],
          [
           "The Goonies"
          ],
          [
           "The Poseidon Adventure"
          ],
          [
           "Seven Samurai"
          ],
          [
           "Dangerous Liaisons"
          ],
          [
           "The Last Temptation of Christ"
          ],
          [
           "The Rapture"
          ],
          [
           "Disturbing Behavior"
          ],
          [
           "Jane Austen's Mafia!"
          ],
          [
           "The Black Cauldron"
          ],
          [
           "The Black Hole"
          ],
          [
           "Cheetah"
          ],
          [
           "The Great Mouse Detective"
          ],
          [
           "Hocus Pocus"
          ],
          [
           "Roger & Me"
          ],
          [
           "The Purple Rose of Cairo"
          ],
          [
           "Doctor Zhivago"
          ],
          [
           "The 'Burbs"
          ],
          [
           "Blue Velvet"
          ],
          [
           "The Jungle Book"
          ],
          [
           "The Mighty Ducks"
          ],
          [
           "One Hundred and One Dalmatians"
          ],
          [
           "Peter Pan"
          ],
          [
           "The Rescuers"
          ],
          [
           "Return to Oz"
          ],
          [
           "Sleeping Beauty"
          ],
          [
           "Something Wicked This Way Comes"
          ],
          [
           "Splash"
          ],
          [
           "Tron"
          ],
          [
           "Halloween: H20"
          ],
          [
           "Graveyard Shift"
          ],
          [
           "The Outsiders"
          ],
          [
           "The Lord of the Rings"
          ],
          [
           "The Dead Zone"
          ],
          [
           "Maximum Overdrive"
          ],
          [
           "Cujo"
          ],
          [
           "Children of the Corn"
          ],
          [
           "All Dogs Go to Heaven"
          ],
          [
           "Ever After: A Cinderella Story"
          ],
          [
           "First Love, Last Rites"
          ],
          [
           "Atlantic City"
          ],
          [
           "Who's Afraid of Virginia Woolf?"
          ],
          [
           "Doctor Dolittle"
          ],
          [
           "Watership Down"
          ],
          [
           "The Secret of NIMH"
          ],
          [
           "The Dark Crystal"
          ],
          [
           "An American Tail"
          ],
          [
           "Legend"
          ],
          [
           "Sixteen Candles"
          ],
          [
           "The Gods Must Be Crazy"
          ],
          [
           "How Stella Got Her Groove Back"
          ],
          [
           "Rosemary's Baby"
          ],
          [
           "The NeverEnding Story"
          ],
          [
           "The Neverending Story II: The Next Chapter"
          ],
          [
           "Your Friends & Neighbors"
          ],
          [
           "Beetlejuice"
          ],
          [
           "Rope"
          ],
          [
           "Family Plot"
          ],
          [
           "Frenzy"
          ],
          [
           "Topaz"
          ],
          [
           "Torn Curtain"
          ],
          [
           "Marnie"
          ],
          [
           "The Wrong Man"
          ],
          [
           "The Man Who Knew Too Much"
          ],
          [
           "The Trouble with Harry"
          ],
          [
           "Strangers on a Train"
          ],
          [
           "54"
          ],
          [
           "I Married a Strange Person!"
          ],
          [
           "The Untouchables"
          ],
          [
           "Suspicion"
          ],
          [
           "Rounders"
          ],
          [
           "Cube"
          ],
          [
           "Simon Birch"
          ],
          [
           "Without Limits"
          ],
          [
           "Broadcast News"
          ],
          [
           "Working Girl"
          ],
          [
           "Married to the Mob"
          ],
          [
           "Parasite"
          ],
          [
           "Six-String Samurai"
          ],
          [
           "Urban Legend"
          ],
          [
           "The Sheltering Sky"
          ],
          [
           "The Thing"
          ],
          [
           "The Player"
          ],
          [
           "Stardust Memories"
          ],
          [
           "Edward Scissorhands"
          ],
          [
           "A Night at the Roxbury"
          ],
          [
           "Strangeland"
          ],
          [
           "History of the World: Part I"
          ],
          [
           "My Cousin Vinny"
          ],
          [
           "2010"
          ],
          [
           "The Elephant Man"
          ],
          [
           "Bride of Chucky"
          ],
          [
           "Happiness"
          ],
          [
           "Tales from the Darkside: The Movie"
          ],
          [
           "American History X"
          ],
          [
           "Living Out Loud"
          ],
          [
           "Gods and Monsters"
          ],
          [
           "Elizabeth"
          ],
          [
           "Runaway Train"
          ],
          [
           "Sid & Nancy"
          ],
          [
           "Central Station"
          ],
          [
           "Pink Flamingos"
          ],
          [
           "Godzilla 1985"
          ],
          [
           "King Kong"
          ],
          [
           "King Kong"
          ],
          [
           "King Kong Lives"
          ],
          [
           "Desperately Seeking Susan"
          ],
          [
           "Fletch"
          ],
          [
           "Fletch Lives"
          ],
          [
           "Red Sonja"
          ],
          [
           "The Money Pit"
          ],
          [
           "Police Academy"
          ],
          [
           "Home Fries"
          ],
          [
           "Ringmaster"
          ],
          [
           "Very Bad Things"
          ],
          [
           "Rushmore"
          ],
          [
           "First Blood"
          ],
          [
           "The Jewel of the Nile"
          ],
          [
           "Romancing the Stone"
          ],
          [
           "Cocoon: The Return"
          ],
          [
           "Rocky II"
          ],
          [
           "Clue"
          ],
          [
           "The Karate Kid"
          ],
          [
           "The Karate Kid, Part II"
          ],
          [
           "National Lampoon's Christmas Vacation"
          ],
          [
           "The Faculty"
          ],
          [
           "Tea with Mussolini"
          ],
          [
           "Affliction"
          ],
          [
           "Playing by Heart"
          ],
          [
           "The Fly"
          ],
          [
           "The Fly"
          ],
          [
           "Armed and Dangerous"
          ],
          [
           "The Texas Chain Saw Massacre"
          ],
          [
           "The Texas Chainsaw Massacre 2"
          ],
          [
           "Texas Chainsaw Massacre: The Next Generation"
          ],
          [
           "The Name of the Rose"
          ],
          [
           "Peggy Sue Got Married"
          ],
          [
           "The Color of Money"
          ],
          [
           "Heartbreak Ridge"
          ],
          [
           "She's All That"
          ],
          [
           "Blood, Guts, Bullets and Octane"
          ],
          [
           "Peeping Tom"
          ],
          [
           "Simply Irresistible"
          ],
          [
           "Blast from the Past"
          ],
          [
           "Jawbreaker"
          ],
          [
           "Office Space"
          ],
          [
           "200 Cigarettes"
          ],
          [
           "Pet Sematary"
          ],
          [
           "Pet Sematary II"
          ],
          [
           "Children of the Corn II: The Final Sacrifice"
          ],
          [
           "Airport"
          ],
          [
           "Airport 1975"
          ],
          [
           "Airport '77"
          ],
          [
           "The Towering Inferno"
          ],
          [
           "Logan's Run"
          ],
          [
           "Planet of the Apes"
          ],
          [
           "Beneath the Planet of the Apes"
          ],
          [
           "Battle for the Planet of the Apes"
          ],
          [
           "Conquest of the Planet of the Apes"
          ],
          [
           "Escape from the Planet of the Apes"
          ],
          [
           "Earthquake"
          ],
          [
           "The Concorde... Airport '79"
          ],
          [
           "The Corruptor"
          ],
          [
           "Cruel Intentions"
          ],
          [
           "Lock, Stock and Two Smoking Barrels"
          ],
          [
           "The Rage: Carrie 2"
          ],
          [
           "Dead Ringers"
          ],
          [
           "Baby Geniuses"
          ],
          [
           "The King and I"
          ],
          [
           "The King and I"
          ],
          [
           "10 Things I Hate About You"
          ],
          [
           "Following"
          ],
          [
           "Go"
          ],
          [
           "Never Been Kissed"
          ],
          [
           "Twin Dragons"
          ],
          [
           "Cookie's Fortune"
          ],
          [
           "Open Your Eyes"
          ],
          [
           "Lost & Found"
          ],
          [
           "eXistenZ"
          ],
          [
           "Idle Hands"
          ],
          [
           "Mildred Pierce"
          ],
          [
           "Night of the Comet"
          ],
          [
           "The Castle"
          ],
          [
           "Edge of Seventeen"
          ],
          [
           "Superman IV: The Quest for Peace"
          ],
          [
           "Dracula"
          ],
          [
           "Frankenstein"
          ],
          [
           "The Rocky Horror Picture Show"
          ],
          [
           "It Came from Hollywood"
          ],
          [
           "The War of the Worlds"
          ],
          [
           "The Thirteenth Floor"
          ],
          [
           "Limbo"
          ],
          [
           "The Red Violin"
          ],
          [
           "An Ideal Husband"
          ],
          [
           "Run Lola Run"
          ],
          [
           "The Dinner Game"
          ],
          [
           "Arachnophobia"
          ],
          [
           "Muppets from Space"
          ],
          [
           "The Blair Witch Project"
          ],
          [
           "Lake Placid"
          ],
          [
           "The Wood"
          ],
          [
           "Drop Dead Gorgeous"
          ],
          [
           "Trick"
          ],
          [
           "Spartacus"
          ],
          [
           "Lolita"
          ],
          [
           "Barry Lyndon"
          ],
          [
           "Vibes"
          ],
          [
           "The Golden Child"
          ],
          [
           "The Color Purple"
          ],
          [
           "Native Son"
          ],
          [
           "The Mission"
          ],
          [
           "Little Shop of Horrors"
          ],
          [
           "Dick"
          ],
          [
           "Brokedown Palace"
          ],
          [
           "Detroit Rock City"
          ],
          [
           "Never Talk to Strangers"
          ],
          [
           "The Raven"
          ],
          [
           "The Pit and the Pendulum"
          ],
          [
           "Damien: Omen II"
          ],
          [
           "Airplane!"
          ],
          [
           "An American Werewolf in Paris"
          ],
          [
           "National Lampoon's Vacation"
          ],
          [
           "Big"
          ],
          [
           "Teaching Mrs. Tingle"
          ],
          [
           "In Too Deep"
          ],
          [
           "Outside Providence"
          ],
          [
           "Stigmata"
          ],
          [
           "Stir of Echoes"
          ],
          [
           "A Soldier's Story"
          ],
          [
           "Stop Making Sense"
          ],
          [
           "Caligula"
          ],
          [
           "A Hard Day's Night"
          ],
          [
           "The Buddy Holly Story"
          ],
          [
           "Fright Night"
          ],
          [
           "Deliverance"
          ],
          [
           "Excalibur"
          ],
          [
           "Thumbelina"
          ],
          [
           "Tommy"
          ],
          [
           "Guinevere"
          ],
          [
           "Drive Me Crazy"
          ],
          [
           "Mystery, Alaska"
          ],
          [
           "Happy, Texas"
          ],
          [
           "The Dark Half"
          ],
          [
           "Monkey Shines"
          ],
          [
           "Phantasm"
          ],
          [
           "Psycho II"
          ],
          [
           "Boys Don't Cry"
          ],
          [
           "The Limey"
          ],
          [
           "Risky Business"
          ],
          [
           "Ferris Bueller's Day Off"
          ],
          [
           "The Year of Living Dangerously"
          ],
          [
           "High Plains Drifter"
          ],
          [
           "Hang 'em High"
          ],
          [
           "Reds"
          ],
          [
           "Niagara"
          ],
          [
           "South Pacific"
          ],
          [
           "Flashdance"
          ],
          [
           "The Dirty Dozen"
          ],
          [
           "Goldfinger"
          ],
          [
           "From Russia with Love"
          ],
          [
           "Dr. No"
          ],
          [
           "The Blue Lagoon"
          ],
          [
           "A Fistful of Dollars"
          ],
          [
           "Hard Eight"
          ],
          [
           "Someone to Watch Over Me"
          ],
          [
           "Sparrows"
          ],
          [
           "Naturally Native"
          ],
          [
           "Time Bandits"
          ],
          [
           "Crimes and Misdemeanors"
          ],
          [
           "The Best Man"
          ],
          [
           "RoboCop"
          ],
          [
           "Live and Let Die"
          ],
          [
           "Thunderball"
          ],
          [
           "House on Haunted Hill"
          ],
          [
           "Music of the Heart"
          ],
          [
           "Being John Malkovich"
          ],
          [
           "Dreaming of Joseph Lees"
          ],
          [
           "Creepshow"
          ],
          [
           "Creepshow 2"
          ],
          [
           "Re-Animator"
          ],
          [
           "Drugstore Cowboy"
          ],
          [
           "Falling Down"
          ],
          [
           "My Best Girl"
          ],
          [
           "Nighthawks"
          ],
          [
           "Spaceballs"
          ],
          [
           "Robin Hood"
          ],
          [
           "Quest for Fire"
          ],
          [
           "Little Big Man"
          ],
          [
           "Under the Rainbow"
          ],
          [
           "Anywhere But Here"
          ],
          [
           "Dogma"
          ],
          [
           "The Longest Day"
          ],
          [
           "Tora! Tora! Tora!"
          ],
          [
           "Women on the Verge of a Nervous Breakdown"
          ],
          [
           "The Verdict"
          ],
          [
           "All About My Mother"
          ],
          [
           "Bicycle Thieves"
          ],
          [
           "Matewan"
          ],
          [
           "The Natural"
          ],
          [
           "Stanley & Iris"
          ],
          [
           "Midnight Run"
          ],
          [
           "The Fisher King"
          ],
          [
           "The River"
          ],
          [
           "Ride with the Devil"
          ],
          [
           "Tumbleweeds"
          ],
          [
           "The End of the Affair"
          ],
          [
           "The Two Jakes"
          ],
          [
           "Deuce Bigalow: Male Gigolo"
          ],
          [
           "The Cider House Rules"
          ],
          [
           "The Last Picture Show"
          ],
          [
           "Onegin"
          ],
          [
           "Simpatico"
          ],
          [
           "Next Friday"
          ],
          [
           "Angela's Ashes"
          ],
          [
           "Play It to the Bone"
          ],
          [
           "The Terrorist"
          ],
          [
           "Papillon"
          ],
          [
           "Dead Calm"
          ],
          [
           "Fast Times at Ridgemont High"
          ],
          [
           "A Cry in the Dark"
          ],
          [
           "Batman: Mask of the Phantasm"
          ],
          [
           "Poison"
          ],
          [
           "Isn't She Great"
          ],
          [
           "Malcolm X"
          ],
          [
           "The Hand that Rocks the Cradle"
          ],
          [
           "Alive"
          ],
          [
           "Wayne's World"
          ],
          [
           "Twin Peaks: Fire Walk with Me"
          ],
          [
           "Buffy the Vampire Slayer"
          ],
          [
           "El Mariachi"
          ],
          [
           "Bad Lieutenant"
          ],
          [
           "Single White Female"
          ],
          [
           "The Boondock Saints"
          ],
          [
           "Gun Shy"
          ],
          [
           "The Tigger Movie"
          ],
          [
           "Trois"
          ],
          [
           "Boiler Room"
          ],
          [
           "Pitch Black"
          ],
          [
           "City Lights"
          ],
          [
           "The Kid"
          ],
          [
           "3 Strikes"
          ],
          [
           "Drowning Mona"
          ],
          [
           "The Next Best Thing"
          ],
          [
           "Beyond the Mat"
          ],
          [
           "Birdy"
          ],
          [
           "Blood Feast"
          ],
          [
           "Breaking Away"
          ],
          [
           "Hoosiers"
          ],
          [
           "Bull Durham"
          ],
          [
           "Dog Day Afternoon"
          ],
          [
           "American Graffiti"
          ],
          [
           "Blind Date"
          ],
          [
           "Nadine"
          ],
          [
           "Titanic"
          ],
          [
           "Final Destination"
          ],
          [
           "Thelma & Louise"
          ],
          [
           "Animal House"
          ],
          [
           "Do the Right Thing"
          ],
          [
           "Mo' Better Blues"
          ],
          [
           "Jungle Fever"
          ],
          [
           "Death Wish"
          ],
          [
           "Death Wish 2"
          ],
          [
           "Death Wish 3"
          ],
          [
           "Death Wish 5: The Face of Death"
          ],
          [
           "Double Indemnity"
          ],
          [
           "Cool as Ice"
          ],
          [
           "Teenage Mutant Ninja Turtles"
          ],
          [
           "Teenage Mutant Ninja Turtles II: The Secret of the Ooze"
          ],
          [
           "Teenage Mutant Ninja Turtles III"
          ],
          [
           "Red Dawn"
          ],
          [
           "Band of the Hand"
          ],
          [
           "Bloodsport"
          ],
          [
           "Eyes of Laura Mars"
          ],
          [
           "Good Morning, Vietnam"
          ],
          [
           "Guess Who's Coming to Dinner"
          ],
          [
           "Romeo Must Die"
          ],
          [
           "Whatever It Takes"
          ],
          [
           "Waking the Dead"
          ],
          [
           "Modern Times"
          ],
          [
           "Hud"
          ],
          [
           "The Hustler"
          ],
          [
           "Jacob's Ladder"
          ],
          [
           "La Bamba"
          ],
          [
           "Ladyhawke"
          ],
          [
           "Lucas"
          ],
          [
           "High Fidelity"
          ],
          [
           "The Skulls"
          ],
          [
           "El Dorado"
          ],
          [
           "Midnight Express"
          ],
          [
           "Misery"
          ],
          [
           "Murphy's Romance"
          ],
          [
           "Network"
          ],
          [
           "No Way Out"
          ],
          [
           "The Outlaw Josey Wales"
          ],
          [
           "Black and White"
          ],
          [
           "Frequency"
          ],
          [
           "Ready to Rumble"
          ],
          [
           "Return to Me"
          ],
          [
           "Force 10 from Navarone"
          ],
          [
           "Arthur"
          ],
          [
           "Bachelor Party"
          ],
          [
           "Predator"
          ],
          [
           "The Prince of Tides"
          ],
          [
           "American Psycho"
          ],
          [
           "Keeping the Faith"
          ],
          [
           "East Is East"
          ],
          [
           "Marathon Man"
          ],
          [
           "Caddyshack"
          ],
          [
           "Gossip"
          ],
          [
           "Love & Basketball"
          ],
          [
           "The Virgin Suicides"
          ],
          [
           "Jennifer Eight"
          ],
          [
           "Where the Heart Is"
          ],
          [
           "The Big Kahuna"
          ],
          [
           "The Idiots"
          ],
          [
           "Carnosaur"
          ],
          [
           "Human Traffic"
          ],
          [
           "The Lords of Flatbush"
          ],
          [
           "Center Stage"
          ],
          [
           "Hamlet"
          ],
          [
           "Pee-wee's Big Adventure"
          ],
          [
           "Road Trip"
          ],
          [
           "The Hollywood Knights"
          ],
          [
           "The Myth Of Fingerprints"
          ],
          [
           "The Gold Rush"
          ],
          [
           "On Her Majesty's Secret Service"
          ],
          [
           "The Spy Who Loved Me"
          ],
          [
           "The Man with the Golden Gun"
          ],
          [
           "American Gigolo"
          ],
          [
           "The Guns of Navarone"
          ],
          [
           "Stay Tuned"
          ],
          [
           "Blazing Saddles"
          ],
          [
           "Eraserhead"
          ],
          [
           "For a Few Dollars More"
          ],
          [
           "Flatliners"
          ],
          [
           "Porky's"
          ],
          [
           "Porky's II: The Next Day"
          ],
          [
           "Porky's 3: Revenge"
          ],
          [
           "The Running Man"
          ],
          [
           "Starman"
          ],
          [
           "Alien Nation"
          ],
          [
           "Mad Max"
          ],
          [
           "Mad Max 2: The Road Warrior"
          ],
          [
           "Mad Max Beyond Thunderdome"
          ],
          [
           "Angel Heart"
          ],
          [
           "Nine 1/2 Weeks"
          ],
          [
           "Firestarter"
          ],
          [
           "Action Jackson"
          ],
          [
           "Love's Labour's Lost"
          ],
          [
           "Shaft"
          ],
          [
           "The Conversation"
          ],
          [
           "The Fury"
          ],
          [
           "Serpico"
          ],
          [
           "Ace in the Hole"
          ],
          [
           "The Sugarland Express"
          ],
          [
           "Big Trouble in Little China"
          ],
          [
           "Boys and Girls"
          ],
          [
           "Butterfly"
          ],
          [
           "Missing in Action"
          ],
          [
           "Missing in Action 2: The Beginning"
          ],
          [
           "House Party"
          ],
          [
           "Shaft in Africa"
          ],
          [
           "Shaft's Big Score!"
          ],
          [
           "But I'm a Cheerleader"
          ],
          [
           "Footloose"
          ],
          [
           "Duel in the Sun"
          ],
          [
           "The In Crowd"
          ],
          [
           "Sinbad and the Eye of the Tiger"
          ],
          [
           "Everything You Always Wanted to Know About Sex *But Were Afraid to Ask"
          ],
          [
           "Love and Death"
          ],
          [
           "Saving Grace"
          ],
          [
           "The Crush"
          ],
          [
           "Kelly's Heroes"
          ],
          [
           "Phantasm II"
          ],
          [
           "Pumpkinhead"
          ],
          [
           "Silent Fall"
          ],
          [
           "Godzilla 2000"
          ],
          [
           "The Naked Gun: From the Files of Police Squad!"
          ],
          [
           "The Naked Gun 2½: The Smell of Fear"
          ],
          [
           "Shane"
          ],
          [
           "Supergirl"
          ],
          [
           "Bring It On"
          ],
          [
           "Highlander: Endgame"
          ],
          [
           "The Way of the Gun"
          ],
          [
           "Under Suspicion"
          ],
          [
           "Urban Legends: Final Cut"
          ],
          [
           "Dancer in the Dark"
          ],
          [
           "The Broken Hearts Club: A Romantic Comedy"
          ],
          [
           "Hellraiser"
          ],
          [
           "Hellbound: Hellraiser II"
          ],
          [
           "Hellraiser III: Hell on Earth"
          ],
          [
           "Voyage to the Bottom of the Sea"
          ],
          [
           "Fantastic Voyage"
          ],
          [
           "Requiem for a Dream"
          ],
          [
           "The Ladies Man"
          ],
          [
           "Ghoulies"
          ],
          [
           "Billy Elliot"
          ],
          [
           "The Little Vampire"
          ],
          [
           "Men of Honor"
          ],
          [
           "Diamonds Are Forever"
          ],
          [
           "Bounce"
          ],
          [
           "Rugrats in Paris: The Movie"
          ],
          [
           "Quills"
          ],
          [
           "Crouching Tiger, Hidden Dragon"
          ],
          [
           "Dungeons & Dragons"
          ],
          [
           "The Bounty"
          ],
          [
           "The Transformers: The Movie"
          ],
          [
           "Wall Street"
          ],
          [
           "Born on the Fourth of July"
          ],
          [
           "Talk Radio"
          ],
          [
           "Brewster's Millions"
          ],
          [
           "Snatch"
          ],
          [
           "Punchline"
          ],
          [
           "Dude, Where’s My Car?"
          ],
          [
           "Pollock"
          ],
          [
           "The Gift"
          ],
          [
           "The House of Mirth"
          ],
          [
           "O Brother, Where Art Thou?"
          ],
          [
           "Dracula 2000"
          ],
          [
           "Shadow of the Vampire"
          ],
          [
           "Don't Tell Mom the Babysitter's Dead"
          ],
          [
           "The Alamo"
          ],
          [
           "At Close Range"
          ],
          [
           "Antitrust"
          ],
          [
           "Save the Last Dance"
          ],
          [
           "Panic"
          ],
          [
           "The Pledge"
          ],
          [
           "Sugar & Spice"
          ],
          [
           "Barfly"
          ],
          [
           "Can't Buy Me Love"
          ],
          [
           "Cherry 2000"
          ],
          [
           "Empire of the Sun"
          ],
          [
           "Ernest Goes to Camp"
          ],
          [
           "The Evil Dead"
          ],
          [
           "Jaws: The Revenge"
          ],
          [
           "Less Than Zero"
          ],
          [
           "The Lost Boys"
          ],
          [
           "Mannequin"
          ],
          [
           "Masters of the Universe"
          ],
          [
           "The Monster Squad"
          ],
          [
           "Head Over Heels"
          ],
          [
           "Saving Silverman"
          ],
          [
           "Recess: School's Out"
          ],
          [
           "Me, You, Them"
          ],
          [
           "The Greatest Story Ever Told"
          ],
          [
           "Elmer Gantry"
          ],
          [
           "Battle Beyond the Stars"
          ],
          [
           "Death Warrant"
          ],
          [
           "Double Impact"
          ],
          [
           "Harley Davidson and the Marlboro Man"
          ],
          [
           "Losin' It"
          ],
          [
           "Mermaids"
          ],
          [
           "Manhunter"
          ],
          [
           "Death on the Nile"
          ],
          [
           "The Longest Yard"
          ],
          [
           "C.H.U.D."
          ],
          [
           "Memento"
          ],
          [
           "Tomcats"
          ],
          [
           "The Tailor of Panama"
          ],
          [
           "Amores perros"
          ],
          [
           "Pokémon: Spell of the Unknown"
          ],
          [
           "Brigham City"
          ],
          [
           "Joe Dirt"
          ],
          [
           "Crocodile Dundee in Los Angeles"
          ],
          [
           "Scarface"
          ],
          [
           "Cleopatra"
          ],
          [
           "Krull"
          ],
          [
           "The World According to Garp"
          ],
          [
           "A Home of Our Own"
          ],
          [
           "Love Story"
          ],
          [
           "Postcards from the Edge"
          ],
          [
           "Mississippi Burning"
          ],
          [
           "The Magnificent Seven"
          ],
          [
           "Throw Momma from the Train"
          ],
          [
           "The Sand Pebbles"
          ],
          [
           "The Animal"
          ],
          [
           "Catch-22"
          ],
          [
           "Point Break"
          ],
          [
           "Unlawful Entry"
          ],
          [
           "Macabre"
          ],
          [
           "Tootsie"
          ],
          [
           "Baby Boy"
          ],
          [
           "Crazy/Beautiful"
          ],
          [
           "Kiss of the Dragon"
          ],
          [
           "The Cannonball Run"
          ],
          [
           "Donovan's Reef"
          ],
          [
           "House of Usher"
          ],
          [
           "The Man Who Shot Liberty Valance"
          ],
          [
           "Shadows and Fog"
          ],
          [
           "The Misfits"
          ],
          [
           "Moby Dick"
          ],
          [
           "The Last Dragon"
          ],
          [
           "Outland"
          ],
          [
           "The Way of the Dragon"
          ],
          [
           "Legally Blonde"
          ],
          [
           "Made"
          ],
          [
           "Above the Law"
          ],
          [
           "Apartment Zero"
          ],
          [
           "Bad Dreams"
          ],
          [
           "Biloxi Blues"
          ],
          [
           "The Blob"
          ],
          [
           "The Boost"
          ],
          [
           "Camille Claudel 1915"
          ],
          [
           "Cocktail"
          ],
          [
           "Colors"
          ],
          [
           "Critters"
          ],
          [
           "Critters 2"
          ],
          [
           "Ernest Saves Christmas"
          ],
          [
           "Frantic"
          ],
          [
           "The Great Outdoors"
          ],
          [
           "Hot to Trot"
          ],
          [
           "The Lair of the White Worm"
          ],
          [
           "The Land Before Time"
          ],
          [
           "License to Drive"
          ],
          [
           "My Stepmother is an Alien"
          ],
          [
           "Off Limits"
          ],
          [
           "Permanent Record"
          ],
          [
           "Red Heat"
          ],
          [
           "Return of the Living Dead Part II"
          ],
          [
           "The Return of the Living Dead"
          ],
          [
           "The Man from Snowy River"
          ],
          [
           "The Serpent and the Rainbow"
          ],
          [
           "Sunset"
          ],
          [
           "They Live"
          ],
          [
           "Twins"
          ],
          [
           "Always"
          ],
          [
           "American Ninja"
          ],
          [
           "The Big Picture"
          ],
          [
           "Bill & Ted's Excellent Adventure"
          ],
          [
           "Black Rain"
          ],
          [
           "Casualties of War"
          ],
          [
           "Cyborg"
          ],
          [
           "Dad"
          ],
          [
           "Earth Girls Are Easy"
          ],
          [
           "Farewell to the King"
          ],
          [
           "Harlem Nights"
          ],
          [
           "Johnny Handsome"
          ],
          [
           "K-9"
          ],
          [
           "Kickboxer"
          ],
          [
           "Leviathan"
          ],
          [
           "Little Monsters"
          ],
          [
           "Lock Up"
          ],
          [
           "Major League"
          ],
          [
           "Miracle Mile"
          ],
          [
           "Next of Kin"
          ],
          [
           "No Holds Barred"
          ],
          [
           "Red Scorpion"
          ],
          [
           "Brother"
          ],
          [
           "Cure"
          ],
          [
           "Jackpot"
          ],
          [
           "Wet Hot American Summer"
          ],
          [
           "Road House"
          ],
          [
           "Sea of Love"
          ],
          [
           "See No Evil, Hear No Evil"
          ],
          [
           "Shocker"
          ],
          [
           "Three Fugitives"
          ],
          [
           "Uncle Buck"
          ],
          [
           "Vampire's Kiss"
          ],
          [
           "The Wizard"
          ],
          [
           "Paint Your Wagon"
          ],
          [
           "Altered States"
          ],
          [
           "American Outlaws"
          ],
          [
           "Session 9"
          ],
          [
           "Jay and Silent Bob Strike Back"
          ],
          [
           "Ghosts of Mars"
          ],
          [
           "Summer Catch"
          ],
          [
           "Jeepers Creepers"
          ],
          [
           "Vamp"
          ],
          [
           "L.I.E."
          ],
          [
           "The Glass House"
          ],
          [
           "Hardball"
          ],
          [
           "Glitter"
          ],
          [
           "Sidewalks of New York"
          ],
          [
           "It's a Mad, Mad, Mad, Mad World"
          ],
          [
           "Play Misty for Me"
          ],
          [
           "Pocketful of Miracles"
          ],
          [
           "SpaceCamp"
          ],
          [
           "Hearts in Atlantis"
          ],
          [
           "Zoolander"
          ],
          [
           "Joy Ride"
          ],
          [
           "Max Keeble's Big Move"
          ],
          [
           "Serendipity"
          ],
          [
           "The Big Red One"
          ],
          [
           "Coal Miner's Daughter"
          ],
          [
           "Corky Romano"
          ],
          [
           "Mulholland Drive"
          ],
          [
           "Bones"
          ],
          [
           "Dirty Harry"
          ],
          [
           "Fiddler on the Roof"
          ],
          [
           "Donnie Darko"
          ],
          [
           "Tape"
          ],
          [
           "The Wash"
          ],
          [
           "Novocaine"
          ],
          [
           "Out Cold"
          ],
          [
           "The Devil's Backbone"
          ],
          [
           "Funny Girl"
          ],
          [
           "Subway"
          ],
          [
           "The Last Wave"
          ],
          [
           "Dressed to Kill"
          ],
          [
           "Flash Gordon"
          ],
          [
           "The Enforcer"
          ],
          [
           "The Gauntlet"
          ],
          [
           "Lone Wolf McQuade"
          ],
          [
           "Sudden Impact"
          ],
          [
           "Amélie"
          ],
          [
           "Not Another Teen Movie"
          ],
          [
           "The Royal Tenenbaums"
          ],
          [
           "Sheena"
          ],
          [
           "Silent Rage"
          ],
          [
           "Spacehunter: Adventures in the Forbidden Zone"
          ],
          [
           "How High"
          ],
          [
           "Jimmy Neutron: Boy Genius"
          ],
          [
           "Witness for the Prosecution"
          ],
          [
           "Yentl"
          ],
          [
           "Gosford Park"
          ],
          [
           "I Am Sam"
          ],
          [
           "Monster's Ball"
          ],
          [
           "Silent Trigger"
          ],
          [
           "Brotherhood of the Wolf"
          ],
          [
           "Dragonslayer"
          ],
          [
           "Conan the Destroyer"
          ],
          [
           "Fire and Ice"
          ],
          [
           "Galaxina"
          ],
          [
           "48 Hrs."
          ],
          [
           "Brainstorm"
          ],
          [
           "Dragon: The Bruce Lee Story"
          ],
          [
           "M*A*S*H"
          ],
          [
           "One-Eyed Jacks"
          ],
          [
           "The Mothman Prophecies"
          ],
          [
           "A Walk to Remember"
          ],
          [
           "American Adobo"
          ],
          [
           "Metropolis"
          ],
          [
           "Cousins"
          ],
          [
           "Slackers"
          ],
          [
           "Honky Tonk Freeway"
          ],
          [
           "Big Fat Liar"
          ],
          [
           "The Man Who Loved Women"
          ],
          [
           "Crossroads"
          ],
          [
           "Return to Never Land"
          ],
          [
           "Super Troopers"
          ],
          [
           "The Good Son"
          ],
          [
           "Used Cars"
          ],
          [
           "The Bad News Bears"
          ],
          [
           "A Troll in Central Park"
          ],
          [
           "Scarlet Street"
          ],
          [
           "All About the Benjamins"
          ],
          [
           "Full Frontal"
          ],
          [
           "The Long Riders"
          ],
          [
           "Kissing Jessica Stein"
          ],
          [
           "Y Tu Mamá También"
          ],
          [
           "Split Second"
          ],
          [
           "Taps"
          ],
          [
           "Clockstoppers"
          ],
          [
           "The Rookie"
          ],
          [
           "The Piano Teacher"
          ],
          [
           "National Lampoon’s Van Wilder"
          ],
          [
           "Rashomon"
          ],
          [
           "Frailty"
          ],
          [
           "The Cat's Meow"
          ],
          [
           "Human Nature"
          ],
          [
           "Breakout"
          ],
          [
           "Jason X"
          ],
          [
           "Salton Sea"
          ],
          [
           "Vulgar"
          ],
          [
           "Delirious"
          ],
          [
           "Joe"
          ],
          [
           "Thief of Hearts"
          ],
          [
           "Rambling Rose"
          ],
          [
           "White Fang"
          ],
          [
           "My Beautiful Laundrette"
          ],
          [
           "The Believer"
          ],
          [
           "Every Which Way But Loose"
          ],
          [
           "Undercover Brother"
          ],
          [
           "Rapid Fire"
          ],
          [
           "Atanarjuat: The Fast Runner"
          ],
          [
           "Hombre"
          ],
          [
           "The Manhattan Project"
          ],
          [
           "She Wore a Yellow Ribbon"
          ],
          [
           "Lovely & Amazing"
          ],
          [
           "The Powerpuff Girls Movie"
          ],
          [
           "Perfect"
          ],
          [
           "The Legend of Boggy Creek"
          ],
          [
           "Halloween: Resurrection"
          ],
          [
           "The Kid Stays in the Picture"
          ],
          [
           "Happy Times"
          ],
          [
           "Tadpole"
          ],
          [
           "Top Secret!"
          ],
          [
           "The Good Girl"
          ],
          [
           "Martin Lawrence Live: Runteldat"
          ],
          [
           "Blue Crush"
          ],
          [
           "The Isle"
          ],
          [
           "Possession"
          ],
          [
           "One Hour Photo"
          ],
          [
           "Serving Sara"
          ],
          [
           "Undisputed"
          ],
          [
           "Clash of the Titans"
          ],
          [
           "Camilla"
          ],
          [
           "Down and Out in Beverly Hills"
          ],
          [
           "Love Me Tender"
          ],
          [
           "Wolfen"
          ],
          [
           "Swimfan"
          ],
          [
           "Barbershop"
          ],
          [
           "The Transporter"
          ],
          [
           "Igby Goes Down"
          ],
          [
           "Captain Ron"
          ],
          [
           "The Hills Have Eyes"
          ],
          [
           "Spaced Invaders"
          ],
          [
           "The Four Feathers"
          ],
          [
           "Trapped"
          ],
          [
           "Secretary"
          ],
          [
           "Moonlight Mile"
          ],
          [
           "Powaqqatsi"
          ],
          [
           "Valmont"
          ],
          [
           "Claire of the Moon"
          ],
          [
           "Brown Sugar"
          ],
          [
           "Knockaround Guys"
          ],
          [
           "Tuck Everlasting"
          ],
          [
           "Bowling for Columbine"
          ],
          [
           "Punch-Drunk Love"
          ],
          [
           "Swept Away"
          ],
          [
           "Abandon"
          ],
          [
           "The 51st State"
          ],
          [
           "Auto Focus"
          ],
          [
           "Naqoyqatsi"
          ],
          [
           "Jason Goes to Hell: The Final Friday"
          ],
          [
           "Saturday Night Fever"
          ],
          [
           "Staying Alive"
          ],
          [
           "When Time Ran Out..."
          ],
          [
           "Xanadu"
          ],
          [
           "Absence of Malice"
          ],
          [
           "The Amateur"
          ],
          [
           "Blow Out"
          ],
          [
           "Dead & Buried"
          ],
          [
           "Gallipoli"
          ],
          [
           "Goodbye Pork Pie"
          ],
          [
           "The Hand"
          ],
          [
           "Heartbeeps"
          ],
          [
           "The Legend of the Lone Ranger"
          ],
          [
           "Neighbors"
          ],
          [
           "Pennies from Heaven"
          ],
          [
           "Private Lessons"
          ],
          [
           "Jackass: The Movie"
          ],
          [
           "All The Queen's Men"
          ],
          [
           "Frida"
          ],
          [
           "Casino Royale"
          ],
          [
           "Exodus"
          ],
          [
           "The Weight of Water"
          ],
          [
           "Femme Fatale"
          ],
          [
           "Far from Heaven"
          ],
          [
           "Men with Brooms"
          ],
          [
           "Return to the Blue Lagoon"
          ],
          [
           "Roadgames"
          ],
          [
           "Scanners"
          ],
          [
           "Sphinx"
          ],
          [
           "This Is Elvis"
          ],
          [
           "Friday After Next"
          ],
          [
           "The Quiet American"
          ],
          [
           "Talk to Her"
          ],
          [
           "The Sword and the Sorcerer"
          ],
          [
           "Zulu"
          ],
          [
           "Empire"
          ],
          [
           "Adaptation."
          ],
          [
           "Equilibrium"
          ],
          [
           "Escape to Victory"
          ],
          [
           "Alone in the Dark"
          ],
          [
           "Come Back to the 5 & Dime, Jimmy Dean, Jimmy Dean"
          ],
          [
           "Drumline"
          ],
          [
           "25th Hour"
          ],
          [
           "Antwone Fisher"
          ],
          [
           "Narc"
          ],
          [
           "Body of Evidence"
          ],
          [
           "Legend of the Lost"
          ],
          [
           "Running Time"
          ],
          [
           "War and Peace"
          ],
          [
           "The Hours"
          ],
          [
           "Confessions of a Dangerous Mind"
          ],
          [
           "Just Married"
          ],
          [
           "A Guy Thing"
          ],
          [
           "City of God"
          ],
          [
           "Band of Outsiders"
          ],
          [
           "Biker Boyz"
          ],
          [
           "Final Destination 2"
          ],
          [
           "May"
          ],
          [
           "Firefox"
          ],
          [
           "The Jungle Book 2"
          ],
          [
           "10 to Midnight"
          ],
          [
           "The Black Stallion"
          ],
          [
           "A Countess from Hong Kong"
          ],
          [
           "A Patch of Blue"
          ],
          [
           "A Prayer for the Dying"
          ],
          [
           "Dark Blue"
          ],
          [
           "Old School"
          ],
          [
           "Cradle 2 the Grave"
          ],
          [
           "Bringing Down the House"
          ],
          [
           "Bend It Like Beckham"
          ],
          [
           "King of Kings"
          ],
          [
           "Ringu"
          ],
          [
           "Ringu 2"
          ],
          [
           "Sweet Charity"
          ],
          [
           "Boat Trip"
          ],
          [
           "The Robe"
          ],
          [
           "Wind"
          ],
          [
           "Raising Victor Vargas"
          ],
          [
           "Phone Booth"
          ],
          [
           "Levity"
          ],
          [
           "Ghosts of the Abyss"
          ],
          [
           "House of 1000 Corpses"
          ],
          [
           "A Mighty Wind"
          ],
          [
           "Winged Migration"
          ],
          [
           "Straw Dogs"
          ],
          [
           "The Andromeda Strain"
          ],
          [
           "The Other Side of Heaven"
          ],
          [
           "The Wiz"
          ],
          [
           "The Marrying Man"
          ],
          [
           "Scenes from a Mall"
          ],
          [
           "Identity"
          ],
          [
           "House of Fools"
          ],
          [
           "The Lizzie McGuire Movie"
          ],
          [
           "Blue Car"
          ],
          [
           "Down with Love"
          ],
          [
           "The Spanish Apartment"
          ],
          [
           "Wrong Turn"
          ],
          [
           "Whale Rider"
          ],
          [
           "Oscar"
          ],
          [
           "Barton Fink"
          ],
          [
           "Shattered"
          ],
          [
           "Dumb and Dumberer: When Harry Met Lloyd"
          ],
          [
           "From Justin to Kelly"
          ],
          [
           "Alex & Emma"
          ],
          [
           "28 Days Later"
          ],
          [
           "Bodies, Rest & Motion"
          ],
          [
           "Never on Sunday"
          ],
          [
           "Scaramouche"
          ],
          [
           "Swimming Pool"
          ],
          [
           "Loose Cannons"
          ],
          [
           "Mondays in the Sun"
          ],
          [
           "One, Two, Three"
          ],
          [
           "The Private Life of Sherlock Holmes"
          ],
          [
           "Freaky Friday"
          ],
          [
           "Open Range"
          ],
          [
           "Uptown Girls"
          ],
          [
           "Agent Cody Banks"
          ],
          [
           "House of Wax"
          ],
          [
           "Man's Best Friend"
          ],
          [
           "Valley Girl"
          ],
          [
           "Wait Until Dark"
          ],
          [
           "Showdown in Little Tokyo"
          ],
          [
           "THX 1138"
          ],
          [
           "Valley of the Dolls"
          ],
          [
           "The Keep"
          ],
          [
           "The Beast from 20,000 Fathoms"
          ],
          [
           "Tremors"
          ],
          [
           "The Pink Panther Strikes Again"
          ],
          [
           "Commando"
          ],
          [
           "Marci X"
          ],
          [
           "Jeepers Creepers 2"
          ],
          [
           "The Order"
          ],
          [
           "Party Monster"
          ],
          [
           "Cabin Fever"
          ],
          [
           "Once Upon a Time in Mexico"
          ],
          [
           "Lost in Translation"
          ],
          [
           "Convoy"
          ],
          [
           "Day of the Dead"
          ],
          [
           "Hello, Dolly!"
          ],
          [
           "The Rose"
          ],
          [
           "Once Bitten"
          ],
          [
           "The Fighting Temptations"
          ],
          [
           "Underworld"
          ],
          [
           "Under the Tuscan Sun"
          ],
          [
           "Mambo Italiano"
          ],
          [
           "The Triplets of Belleville"
          ],
          [
           "Videodrome"
          ],
          [
           "Lagaan: Once Upon a Time in India"
          ],
          [
           "Judgment at Nuremberg"
          ],
          [
           "Same Time, Next Year"
          ],
          [
           "All the President's Men"
          ],
          [
           "Avalon"
          ],
          [
           "Beethoven's 2nd"
          ],
          [
           "Boyz n the Hood"
          ],
          [
           "Bugsy"
          ],
          [
           "Consenting Adults"
          ],
          [
           "Where Eagles Dare"
          ],
          [
           "Sleeping with the Enemy"
          ],
          [
           "PCU"
          ],
          [
           "The Rookie"
          ],
          [
           "City Heat"
          ],
          [
           "Into the Night"
          ],
          [
           "A Rage in Harlem"
          ],
          [
           "More American Graffiti"
          ],
          [
           "The Gun in Betty Lou's Handbag"
          ],
          [
           "Article 99"
          ],
          [
           "Tough Guys Don't Dance"
          ],
          [
           "There Goes My Baby"
          ],
          [
           "Kingdom of the Spiders"
          ],
          [
           "In Cold Blood"
          ],
          [
           "Mobsters"
          ],
          [
           "The Station Agent"
          ],
          [
           "Wonderland"
          ],
          [
           "House of the Dead"
          ],
          [
           "The Texas Chainsaw Massacre"
          ],
          [
           "Sylvia"
          ],
          [
           "Veronica Guerin"
          ],
          [
           "In the Cut"
          ],
          [
           "Radio"
          ],
          [
           "Elephant"
          ],
          [
           "Shattered Glass"
          ],
          [
           "Tupac: Resurrection"
          ],
          [
           "21 Grams"
          ],
          [
           "The Barbarian Invasions"
          ],
          [
           "Bad Santa"
          ],
          [
           "Darkman"
          ],
          [
           "New Jack City"
          ],
          [
           "WarGames"
          ],
          [
           "Ben-Hur: A Tale of the Christ"
          ],
          [
           "Hannah and Her Sisters"
          ],
          [
           "Highlander II: The Quickening"
          ],
          [
           "Invasion of the Body Snatchers"
          ],
          [
           "Kindergarten Cop"
          ],
          [
           "The Last Boy Scout"
          ],
          [
           "Last Tango in Paris"
          ],
          [
           "Mr. Destiny"
          ],
          [
           "Over the Top"
          ],
          [
           "Passenger 57"
          ],
          [
           "Project X"
          ],
          [
           "Pure Luck"
          ],
          [
           "Battle Royale"
          ],
          [
           "The Wedding Banquet"
          ],
          [
           "Radio Flyer"
          ],
          [
           "The Secret of My Success"
          ],
          [
           "Streets of Fire"
          ],
          [
           "Vivre Sa Vie"
          ],
          [
           "Wild at Heart"
          ],
          [
           "Year of the Dragon"
          ],
          [
           "Mary of Scotland"
          ],
          [
           "Swing Time"
          ],
          [
           "Birdman of Alcatraz"
          ],
          [
           "The Birth of a Nation"
          ],
          [
           "Red River"
          ],
          [
           "Stagecoach"
          ],
          [
           "Bullitt"
          ],
          [
           "42nd Street"
          ],
          [
           "I'm No Angel"
          ],
          [
           "A Passage to India"
          ],
          [
           "Anna Karenina"
          ],
          [
           "Nausicaä of the Valley of the Wind"
          ],
          [
           "Dragnet"
          ],
          [
           "1941"
          ],
          [
           "Leprechaun"
          ],
          [
           "Run"
          ],
          [
           "Honey"
          ],
          [
           "Calendar Girls"
          ],
          [
           "House of Sand and Fog"
          ],
          [
           "Monster"
          ],
          [
           "The Company"
          ],
          [
           "Chasing Liberty"
          ],
          [
           "The Great Gatsby"
          ],
          [
           "Car 54, Where Are You?"
          ],
          [
           "Only the Strong"
          ],
          [
           "The Pick-up Artist"
          ],
          [
           "Cool World"
          ],
          [
           "Money for Nothing"
          ],
          [
           "The Butterfly Effect"
          ],
          [
           "Win a Date with Tad Hamilton!"
          ],
          [
           "Latter Days"
          ],
          [
           "Barbershop 2:  Back in Business"
          ],
          [
           "Catch That Kid"
          ],
          [
           "Miracle"
          ],
          [
           "The Dreamers"
          ],
          [
           "Let's Do It Again"
          ],
          [
           "Thirteen"
          ],
          [
           "Foolish Wives"
          ],
          [
           "Best Defense"
          ],
          [
           "Welcome to Mooseport"
          ],
          [
           "Vanishing Point"
          ],
          [
           "The Thief of Bagdad"
          ],
          [
           "King Solomon's Mines"
          ],
          [
           "Raw Deal"
          ],
          [
           "Confessions of a Teenage Drama Queen"
          ],
          [
           "EuroTrip"
          ],
          [
           "Club Dread"
          ],
          [
           "Dirty Dancing: Havana Nights"
          ],
          [
           "Good bye, Lenin!"
          ],
          [
           "Agent Cody Banks 2: Destination London"
          ],
          [
           "The Girl Next Door"
          ],
          [
           "Spartan"
          ],
          [
           "Clifford"
          ],
          [
           "The Wind in the Willows"
          ],
          [
           "Dawn of the Dead"
          ],
          [
           "Eternal Sunshine of the Spotless Mind"
          ],
          [
           "Intermission"
          ],
          [
           "Jersey Girl"
          ],
          [
           "Never Die Alone"
          ],
          [
           "Dogville"
          ],
          [
           "Johnson Family Vacation"
          ],
          [
           "Ella Enchanted"
          ],
          [
           "The Ten Commandments"
          ],
          [
           "Dawn of the Dead"
          ],
          [
           "Those Magnificent Men in Their Flying Machines or How I Flew from London to Paris in 25 hours 11 minutes"
          ],
          [
           "After Hours"
          ],
          [
           "Connie and Carla"
          ],
          [
           "The Punisher"
          ],
          [
           "Young Adam"
          ],
          [
           "Godsend"
          ],
          [
           "Laws of Attraction"
          ],
          [
           "Mean Girls"
          ],
          [
           "Mickey"
          ],
          [
           "The Mudge Boy"
          ],
          [
           "Enter the Dragon"
          ],
          [
           "You Only Live Twice"
          ],
          [
           "Desert Hearts"
          ],
          [
           "Body Double"
          ],
          [
           "The Miracle Worker"
          ],
          [
           "Raising Cain"
          ],
          [
           "Noises Off..."
          ],
          [
           "The China Syndrome"
          ],
          [
           "Cat People"
          ],
          [
           "Good Guys Wear Black"
          ],
          [
           "Forever Fever"
          ],
          [
           "Explorers"
          ],
          [
           "The Warriors"
          ],
          [
           "Waterloo"
          ],
          [
           "Woodstock"
          ],
          [
           "Pat Garrett & Billy the Kid"
          ],
          [
           "The Ballad of Cable Hogue"
          ],
          [
           "The Indian Runner"
          ],
          [
           "The Night of the Iguana"
          ],
          [
           "Nightbreed"
          ],
          [
           "Ken Park"
          ],
          [
           "A Bridge Too Far"
          ],
          [
           "Broadway Danny Rose"
          ],
          [
           "From Beyond"
          ],
          [
           "Space Truckers"
          ],
          [
           "Not of This Earth"
          ],
          [
           "Death Race 2000"
          ],
          [
           "The Getaway"
          ],
          [
           "Mean Streets"
          ],
          [
           "Harper"
          ],
          [
           "Dahmer"
          ],
          [
           "Paradise"
          ],
          [
           "Bad Day at Black Rock"
          ],
          [
           "Charly"
          ],
          [
           "Beyond the Valley of the Dolls"
          ],
          [
           "At Play in the Fields of the Lord"
          ],
          [
           "Night of the Living Dead"
          ],
          [
           "Queen Christina"
          ],
          [
           "Purple Rain"
          ],
          [
           "The Cowboys"
          ],
          [
           "The Caine Mutiny"
          ],
          [
           "Escape from Alcatraz"
          ],
          [
           "Soul Plane"
          ],
          [
           "The Mother"
          ],
          [
           "Mindhunters"
          ],
          [
           "Napoleon Dynamite"
          ],
          [
           "City of Joy"
          ],
          [
           "The Doctor"
          ],
          [
           "For Me and My Gal"
          ],
          [
           "Star!"
          ],
          [
           "The Molly Maguires"
          ],
          [
           "Meet the Applegates"
          ],
          [
           "Sands of Iwo Jima"
          ],
          [
           "Super Size Me"
          ],
          [
           "The Born Losers"
          ],
          [
           "The Hitcher"
          ],
          [
           "Show Boat"
          ],
          [
           "DodgeBall: A True Underdog Story"
          ],
          [
           "Bob & Carol & Ted & Alice"
          ],
          [
           "Rapa Nui"
          ],
          [
           "Juice"
          ],
          [
           "Taxi 3"
          ],
          [
           "Overboard"
          ],
          [
           "Fahrenheit 9/11"
          ],
          [
           "Search and Destroy"
          ],
          [
           "Hard Times"
          ],
          [
           "The Last Starfighter"
          ],
          [
           "Before Sunset"
          ],
          [
           "Anchorman: The Legend of Ron Burgundy"
          ],
          [
           "A Cinderella Story"
          ],
          [
           "How the West Was Won"
          ],
          [
           "A Home at the End of the World"
          ],
          [
           "Stay Hungry"
          ],
          [
           "Shalako"
          ],
          [
           "The New Adventures of Pippi Longstocking"
          ],
          [
           "The Super"
          ],
          [
           "A Woman Is a Woman"
          ],
          [
           "Garden State"
          ],
          [
           "Little Black Book"
          ],
          [
           "Harold & Kumar Go to White Castle"
          ],
          [
           "Yu-Gi-Oh! The Movie"
          ],
          [
           "We Don't Live Here Anymore"
          ],
          [
           "Without a Paddle"
          ],
          [
           "Anacondas: The Hunt for the Blood Orchid"
          ],
          [
           "Suspect Zero"
          ],
          [
           "Vanity Fair"
          ],
          [
           "The Cookout"
          ],
          [
           "Paparazzi"
          ],
          [
           "Wicker Park"
          ],
          [
           "Night of the Demons"
          ],
          [
           "Cellular"
          ],
          [
           "Mr. 3000"
          ],
          [
           "Wimbledon"
          ],
          [
           "A Dirty Shame"
          ],
          [
           "Shaun of the Dead"
          ],
          [
           "Alexander's Ragtime Band"
          ],
          [
           "Orca: The Killer Whale"
          ],
          [
           "Raise Your Voice"
          ],
          [
           "Taxi"
          ],
          [
           "Primer"
          ],
          [
           "Team America: World Police"
          ],
          [
           "Cannonball"
          ],
          [
           "Friday Night Lights"
          ],
          [
           "Tarnation"
          ],
          [
           "The Grudge"
          ],
          [
           "Sideways"
          ],
          [
           "The Machinist"
          ],
          [
           "Saw"
          ],
          [
           "Seed of Chucky"
          ],
          [
           "Finding Neverland"
          ],
          [
           "Veer-Zaara"
          ],
          [
           "Bad Education"
          ],
          [
           "Closer"
          ],
          [
           "The Bellboy"
          ],
          [
           "Cinderfella"
          ],
          [
           "Stateside"
          ],
          [
           "Fire in the Sky"
          ],
          [
           "The Cheat"
          ],
          [
           "The Big Parade"
          ],
          [
           "She Done Him Wrong"
          ],
          [
           "The Informer"
          ],
          [
           "Boom Town"
          ],
          [
           "A Guy Named Joe"
          ],
          [
           "3 Godfathers"
          ],
          [
           "Fort Apache"
          ],
          [
           "The Pirate"
          ],
          [
           "Annie Get Your Gun"
          ],
          [
           "The Nun's Story"
          ],
          [
           "Eegah"
          ],
          [
           "Mutiny on the Bounty"
          ],
          [
           "The Battle of Algiers"
          ],
          [
           "Dracula: Prince of Darkness"
          ],
          [
           "Major Dundee"
          ],
          [
           "The Train"
          ],
          [
           "The Bride Wore Black"
          ],
          [
           "Point Blank"
          ],
          [
           "Zabriskie Point"
          ],
          [
           "Sweet Sweetback's Baadasssss Song"
          ],
          [
           "Farewell, My Lovely"
          ],
          [
           "Silver Streak"
          ],
          [
           "High Anxiety"
          ],
          [
           "Sorcerer"
          ],
          [
           "The In-Laws"
          ],
          [
           "Peter-No-Tail"
          ],
          [
           "Blue Thunder"
          ],
          [
           "Rumble Fish"
          ],
          [
           "Twilight Zone: The Movie"
          ],
          [
           "Racing with the Moon"
          ],
          [
           "Bliss"
          ],
          [
           "Mishima: A Life in Four Chapters"
          ],
          [
           "Club Paradise"
          ],
          [
           "Solarbabies"
          ],
          [
           "Prince of Darkness"
          ],
          [
           "Prison"
          ],
          [
           "Kiki's Delivery Service"
          ],
          [
           "Cry-Baby"
          ],
          [
           "Frankenhooker"
          ],
          [
           "Hard to Kill"
          ],
          [
           "Lionheart"
          ],
          [
           "Closet Land"
          ],
          [
           "Dutch"
          ],
          [
           "Mannequin Two: On the Move"
          ],
          [
           "Out for Justice"
          ],
          [
           "Diggstown"
          ],
          [
           "Fortress"
          ],
          [
           "Josh and S.A.M."
          ],
          [
           "Philadelphia Experiment II"
          ],
          [
           "Beowulf"
          ],
          [
           "A Place Called Chiapas"
          ],
          [
           "Dil Se.."
          ],
          [
           "Kuch Kuch Hota Hai"
          ],
          [
           "2046"
          ],
          [
           "The Accidental Spy"
          ],
          [
           "Dil Chahta Hai"
          ],
          [
           "Sympathy for Mr. Vengeance"
          ],
          [
           "In My Country"
          ],
          [
           "The Twilight Samurai"
          ],
          [
           "Foolproof"
          ],
          [
           "Oldboy"
          ],
          [
           "The Jacket"
          ],
          [
           "The Sea Inside"
          ],
          [
           "Open Water"
          ],
          [
           "Layer Cake"
          ],
          [
           "Mean Creek"
          ],
          [
           "The Visual Bible: The Gospel of John"
          ],
          [
           "Bummer"
          ],
          [
           "She Hate Me"
          ],
          [
           "Born into Brothels"
          ],
          [
           "Riding Giants"
          ],
          [
           "A Scanner Darkly"
          ],
          [
           "Casshern"
          ],
          [
           "Hotel Rwanda"
          ],
          [
           "White Noise"
          ],
          [
           "Testament"
          ],
          [
           "Hell's Angels"
          ],
          [
           "Man Trouble"
          ],
          [
           "Sergeant York"
          ],
          [
           "Wizards"
          ],
          [
           "Appleseed"
          ],
          [
           "Coach Carter"
          ],
          [
           "A Star Is Born"
          ],
          [
           "Beastmaster 2: Through the Portal of Time"
          ],
          [
           "The Chase"
          ],
          [
           "Downfall"
          ],
          [
           "Assault on Precinct 13"
          ],
          [
           "Alone in the Dark"
          ],
          [
           "Hide and Seek"
          ],
          [
           "Boogeyman"
          ],
          [
           "The Wedding Date"
          ],
          [
           "Double Dragon"
          ],
          [
           "Assisted Living"
          ],
          [
           "Inside Deep Throat"
          ],
          [
           "Because of Winn-Dixie"
          ],
          [
           "Night Watch"
          ],
          [
           "Samson and Delilah"
          ],
          [
           "Kung Fu Hustle"
          ],
          [
           "Cursed"
          ],
          [
           "Bopha!"
          ],
          [
           "Once Upon a Forest"
          ],
          [
           "The Green Berets"
          ],
          [
           "Ice Princess"
          ],
          [
           "Woman Thou Art Loosed"
          ],
          [
           "Walker"
          ],
          [
           "The Ballad of Jack and Rose"
          ],
          [
           "Beauty Shop"
          ],
          [
           "Fever Pitch"
          ],
          [
           "Rhinestone"
          ],
          [
           "Hawaii"
          ],
          [
           "Wilson"
          ],
          [
           "The Amityville Horror"
          ],
          [
           "Before the Fall"
          ],
          [
           "The Frisco Kid"
          ],
          [
           "A Lot Like Love"
          ],
          [
           "Crash"
          ],
          [
           "San Francisco"
          ],
          [
           "9 Songs"
          ],
          [
           "Airborne"
          ],
          [
           "Dominion: Prequel to the Exorcist"
          ],
          [
           "Most Wanted"
          ],
          [
           "The Sisterhood of the Traveling Pants"
          ],
          [
           "Lords of Dogtown"
          ],
          [
           "It's All Gone Pete Tong"
          ],
          [
           "Quo Vadis"
          ],
          [
           "Land of the Dead"
          ],
          [
           "Somebody Up There Likes Me"
          ],
          [
           "An Unmarried Woman"
          ],
          [
           "March of the Penguins"
          ],
          [
           "Dark Water"
          ],
          [
           "Murderball"
          ],
          [
           "Russian Dolls"
          ],
          [
           "Hustle & Flow"
          ],
          [
           "Hardware"
          ],
          [
           "Bad News Bears"
          ],
          [
           "Must Love Dogs"
          ],
          [
           "Broken Flowers"
          ],
          [
           "The Heart is Deceitful Above All Things"
          ],
          [
           "Man-Thing"
          ],
          [
           "Deuce Bigalow: European Gigolo"
          ],
          [
           "The 40 Year Old Virgin"
          ],
          [
           "Red Eye"
          ],
          [
           "Dilwale Dulhania Le Jayenge"
          ],
          [
           "Valiant"
          ],
          [
           "The Cave"
          ],
          [
           "Undiscovered"
          ],
          [
           "The Constant Gardener"
          ],
          [
           "Proof"
          ],
          [
           "Cry_Wolf"
          ],
          [
           "Everything is Illuminated"
          ],
          [
           "Waiting..."
          ],
          [
           "An Unfinished Life"
          ],
          [
           "The Exorcism of Emily Rose"
          ],
          [
           "A History of Violence"
          ],
          [
           "The Greatest Game Ever Played"
          ],
          [
           "Capote"
          ],
          [
           "Mirrormask"
          ],
          [
           "Kiss Kiss Bang Bang"
          ],
          [
           "Goal!: The Dream Begins"
          ],
          [
           "The Wraith"
          ],
          [
           "55 Days at Peking"
          ],
          [
           "The Squid and the Whale"
          ],
          [
           "Two for the Money"
          ],
          [
           "Brokeback Mountain"
          ],
          [
           "North Country"
          ],
          [
           "Good Night, and Good Luck."
          ],
          [
           "The Proposition"
          ],
          [
           "The Fog"
          ],
          [
           "Shopgirl"
          ],
          [
           "The Weather Man"
          ],
          [
           "Saw II"
          ],
          [
           "Empire of the Wolves"
          ],
          [
           "Manderlay"
          ],
          [
           "Damnation Alley"
          ],
          [
           "Joyeux Noël"
          ],
          [
           "Derailed"
          ],
          [
           "Wolf Creek"
          ],
          [
           "Bee Season"
          ],
          [
           "Match Point"
          ],
          [
           "Down"
          ],
          [
           "The Matador"
          ],
          [
           "Mozart and the Whale"
          ],
          [
           "The Three Burials of Melquiades Estrada"
          ],
          [
           "Transamerica"
          ],
          [
           "Keeping Mum"
          ],
          [
           "The New World"
          ],
          [
           "District B13"
          ],
          [
           "BloodRayne"
          ],
          [
           "Hostel"
          ],
          [
           "Tristan & Isolde"
          ],
          [
           "Hoodwinked!"
          ],
          [
           "Riding Alone for Thousands of Miles"
          ],
          [
           "Revolution"
          ],
          [
           "Bandidas"
          ],
          [
           "Annapolis"
          ],
          [
           "Nanny McPhee"
          ],
          [
           "Final Destination 3"
          ],
          [
           "Dave Chappelle's Block Party"
          ],
          [
           "Troll"
          ],
          [
           "When a Stranger Calls"
          ],
          [
           "Tamara"
          ],
          [
           "Freedomland"
          ],
          [
           "Winter Passing"
          ],
          [
           "Date Movie"
          ],
          [
           "Running Scared"
          ],
          [
           "Madea's Family Reunion"
          ],
          [
           "Ultraviolet"
          ],
          [
           "Just My Luck"
          ],
          [
           "She's the Man"
          ],
          [
           "Thank You for Smoking"
          ],
          [
           "Find Me Guilty"
          ],
          [
           "Tsotsi"
          ],
          [
           "Aquamarine"
          ],
          [
           "Leprechaun 2"
          ],
          [
           "Lights in the Dusk"
          ],
          [
           "The Hills Have Eyes"
          ],
          [
           "Son of the Pink Panther"
          ],
          [
           "The Lives of Others"
          ],
          [
           "Take the Lead"
          ],
          [
           "Lucky Number Slevin"
          ],
          [
           "Volver"
          ],
          [
           "Akeelah and the Bee"
          ],
          [
           "Stay Alive"
          ],
          [
           "Brick"
          ],
          [
           "ATL"
          ],
          [
           "Renaissance"
          ],
          [
           "Friends with Money"
          ],
          [
           "Hard Candy"
          ],
          [
           "Pinocchio and the Emperor of the Night"
          ],
          [
           "Battle in Heaven"
          ],
          [
           "American Dreamz"
          ],
          [
           "Mata Hari"
          ],
          [
           "The Protector"
          ],
          [
           "United 93"
          ],
          [
           "Down in the Valley"
          ],
          [
           "Twelve and Holding"
          ],
          [
           "The Lost City"
          ],
          [
           "Standing Still"
          ],
          [
           "The Omen"
          ],
          [
           "Clerks II"
          ],
          [
           "Who Killed the Electric Car?"
          ],
          [
           "An Inconvenient Truth"
          ],
          [
           "Little Miss Sunshine"
          ],
          [
           "Curse of the Pink Panther"
          ],
          [
           "Babel"
          ],
          [
           "Prophecy"
          ],
          [
           "Snakes on a Plane"
          ],
          [
           "Scoop"
          ],
          [
           "Stranger Than Fiction"
          ],
          [
           "The Valley of Decision"
          ],
          [
           "John Tucker Must Die"
          ],
          [
           "Mrs Palfrey at The Claremont"
          ],
          [
           "Crank"
          ],
          [
           "Chaos"
          ],
          [
           "Step Up"
          ],
          [
           "Zoom"
          ],
          [
           "Bon Cop Bad Cop"
          ],
          [
           "Half Nelson"
          ],
          [
           "Tideland"
          ],
          [
           "Cabin in the Sky"
          ],
          [
           "Accepted"
          ],
          [
           "The Queen"
          ],
          [
           "Beerfest"
          ],
          [
           "Crossover"
          ],
          [
           "The Quiet"
          ],
          [
           "The Wind That Shakes the Barley"
          ],
          [
           "The Covenant"
          ],
          [
           "Sherrybaby"
          ],
          [
           "Idiocracy"
          ],
          [
           "The Fountain"
          ],
          [
           "The Science of Sleep"
          ],
          [
           "Initial D"
          ],
          [
           "Gridiron Gang"
          ],
          [
           "Vixen!"
          ],
          [
           "Jackass Number Two"
          ],
          [
           "Conversations with Other Women"
          ],
          [
           "Pan's Labyrinth"
          ],
          [
           "School for Scoundrels"
          ],
          [
           "Employee of the Month"
          ],
          [
           "Running with Scissors"
          ],
          [
           "The Grudge 2"
          ],
          [
           "Man of the Year"
          ],
          [
           "The Marine"
          ],
          [
           "Infamous"
          ],
          [
           "One Night with the King"
          ],
          [
           "Little Children"
          ],
          [
           "F.I.S.T."
          ],
          [
           "Facing the Giants"
          ],
          [
           "The Last King of Scotland"
          ],
          [
           "Shortbus"
          ],
          [
           "Flicka"
          ],
          [
           "9th Company"
          ],
          [
           "Saw III"
          ],
          [
           "Death of a President"
          ],
          [
           "The Charge of the Light Brigade"
          ],
          [
           "The Santa Clause 3: The Escape Clause"
          ],
          [
           "A Good Year"
          ],
          [
           "The Return"
          ],
          [
           "For Your Consideration"
          ],
          [
           "Let's Go to Prison"
          ],
          [
           "Snow Cake"
          ],
          [
           "Harsh Times"
          ],
          [
           "Tenacious D in The Pick of Destiny"
          ],
          [
           "Fur: An Imaginary Portrait of Diane Arbus"
          ],
          [
           "Another Gay Movie"
          ],
          [
           "Freedom Writers"
          ],
          [
           "The History Boys"
          ],
          [
           "Notes on a Scandal"
          ],
          [
           "DOA: Dead or Alive"
          ],
          [
           "The Good German"
          ],
          [
           "Letters from Iwo Jima"
          ],
          [
           "Black Christmas"
          ],
          [
           "Code Name: The Cleaner"
          ],
          [
           "Stomp the Yard"
          ],
          [
           "Miss Potter"
          ],
          [
           "The Hitcher"
          ],
          [
           "Killer of Sheep"
          ],
          [
           "Waitress"
          ],
          [
           "Catch and Release"
          ],
          [
           "Smokin' Aces"
          ],
          [
           "Epic Movie"
          ],
          [
           "The Messengers"
          ],
          [
           "Paris, je t'aime"
          ],
          [
           "The Astronaut Farmer"
          ],
          [
           "It's a Boy Girl Thing"
          ],
          [
           "Myra Breckinridge"
          ],
          [
           "Days of Glory"
          ],
          [
           "Unknown"
          ],
          [
           "Trailer Park Boys: The Movie"
          ],
          [
           "Daddy's Little Girls"
          ],
          [
           "The Number 23"
          ],
          [
           "Reno 911!: Miami"
          ],
          [
           "Black Snake Moan"
          ],
          [
           "Kidulthood"
          ],
          [
           "Hot Fuzz"
          ],
          [
           "Romanzo criminale"
          ],
          [
           "Wise Guys"
          ],
          [
           "Zyzzyx Road"
          ],
          [
           "Starter for 10"
          ],
          [
           "The Host"
          ],
          [
           "Becoming Jane"
          ],
          [
           "The Namesake"
          ],
          [
           "I Think I Love My Wife"
          ],
          [
           "Premonition"
          ],
          [
           "Dead Silence"
          ],
          [
           "Reign Over Me"
          ],
          [
           "Black Book"
          ],
          [
           "The Lookout"
          ],
          [
           "Seraphim Falls"
          ],
          [
           "The Hoax"
          ],
          [
           "Disturbia"
          ],
          [
           "Slow Burn"
          ],
          [
           "The Contract"
          ],
          [
           "Vacancy"
          ],
          [
           "In the Land of Women"
          ],
          [
           "The Invisible"
          ],
          [
           "Tales from Earthsea"
          ],
          [
           "The Rocket: The Legend of Rocket Richard"
          ],
          [
           "Day Watch"
          ],
          [
           "This Is England"
          ],
          [
           "28 Weeks Later"
          ],
          [
           "Once"
          ],
          [
           "Bug"
          ],
          [
           "Mr. Brooks"
          ],
          [
           "Gracie"
          ],
          [
           "88 Minutes"
          ],
          [
           "Ten Canoes"
          ],
          [
           "Alone With Her"
          ],
          [
           "Hostel: Part II"
          ],
          [
           "Fido"
          ],
          [
           "Death Proof"
          ],
          [
           "Robot Monster"
          ],
          [
           "Rescue Dawn"
          ],
          [
           "The TV Set"
          ],
          [
           "Swoon"
          ],
          [
           "Sicko"
          ],
          [
           "Popular Music"
          ],
          [
           "A Mighty Heart"
          ],
          [
           "1408"
          ],
          [
           "Death at a Funeral"
          ],
          [
           "Captivity"
          ],
          [
           "I Know Who Killed Me"
          ],
          [
           "No Reservations"
          ],
          [
           "You Kill Me"
          ],
          [
           "Superbad"
          ],
          [
           "Sydney White"
          ],
          [
           "Daddy Day Camp"
          ],
          [
           "War"
          ],
          [
           "The Nanny Diaries"
          ],
          [
           "Halloween"
          ],
          [
           "Death Sentence"
          ],
          [
           "The Good Night"
          ],
          [
           "4 Months, 3 Weeks and 2 Days"
          ],
          [
           "No End in Sight"
          ],
          [
           "In the Valley of Elah"
          ],
          [
           "Rang De Basanti"
          ],
          [
           "I Could Never Be Your Woman"
          ],
          [
           "December Boys"
          ],
          [
           "Brooklyn Rules"
          ],
          [
           "The Death and Life of Bobby Z"
          ],
          [
           "Good Luck Chuck"
          ],
          [
           "Into the Wild"
          ],
          [
           "The Game Plan"
          ],
          [
           "Dan in Real Life"
          ],
          [
           "The Darjeeling Limited"
          ],
          [
           "We Own the Night"
          ],
          [
           "Michael Clayton"
          ],
          [
           "Lars and the Real Girl"
          ],
          [
           "30 Days of Night"
          ],
          [
           "Rendition"
          ],
          [
           "Things We Lost in the Fire"
          ],
          [
           "Gone Baby Gone"
          ],
          [
           "The Assassination of Jesse James by the Coward Robert Ford"
          ],
          [
           "10th & Wolf"
          ],
          [
           "The Edge of Heaven"
          ],
          [
           "Why Did I Get Married?"
          ],
          [
           "Saw IV"
          ],
          [
           "Before the Devil Knows You're Dead"
          ],
          [
           "The Diving Bell and the Butterfly"
          ],
          [
           "Itty Bitty Titty Committee"
          ],
          [
           "August Rush"
          ],
          [
           "No Mercy for the Rude"
          ],
          [
           "Southland Tales"
          ],
          [
           "12"
          ],
          [
           "The Mist"
          ],
          [
           "Hitman"
          ],
          [
           "P2"
          ],
          [
           "Om Shanti Om"
          ],
          [
           "I'm Not There."
          ],
          [
           "Juno"
          ],
          [
           "My Blueberry Nights"
          ],
          [
           "Redacted"
          ],
          [
           "The Treatment"
          ],
          [
           "Journey from the Fall"
          ],
          [
           "The Kite Runner"
          ],
          [
           "There Will Be Blood"
          ],
          [
           "Walk Hard: The Dewey Cox Story"
          ],
          [
           "The Great Debaters"
          ],
          [
           "Taare Zameen Par"
          ],
          [
           "[REC]"
          ],
          [
           "Flawless"
          ],
          [
           "Untraceable"
          ],
          [
           "Meet the Spartans"
          ],
          [
           "The Eye"
          ],
          [
           "The Signal"
          ],
          [
           "In Bruges"
          ],
          [
           "Bamako"
          ],
          [
           "Dark Angel"
          ],
          [
           "Welcome Home Roscoe Jenkins"
          ],
          [
           "U2 3D"
          ],
          [
           "Step Up 2: The Streets"
          ],
          [
           "Jodhaa Akbar"
          ],
          [
           "Run, Fatboy, Run"
          ],
          [
           "Taxi to the Dark Side"
          ],
          [
           "The Bank Job"
          ],
          [
           "Doomsday"
          ],
          [
           "Funny Games"
          ],
          [
           "Mongol: The Rise of Genghis Khan"
          ],
          [
           "Diary of the Dead"
          ],
          [
           "Hallam Foe"
          ],
          [
           "Justice League: The New Frontier"
          ],
          [
           "What Just Happened"
          ],
          [
           "Return of the Living Dead 3"
          ],
          [
           "Quiet City"
          ],
          [
           "Never Back Down"
          ],
          [
           "Alatriste"
          ],
          [
           "Joysticks"
          ],
          [
           "Smart People"
          ],
          [
           "Assembly"
          ],
          [
           "Stop-Loss"
          ],
          [
           "Julia"
          ],
          [
           "Superhero Movie"
          ],
          [
           "Street Kings"
          ],
          [
           "Harold & Kumar Escape from Guantanamo Bay"
          ],
          [
           "Virgin Territory"
          ],
          [
           "Son of Rambow"
          ],
          [
           "Deception"
          ],
          [
           "Baby Mama"
          ],
          [
           "Expelled: No Intelligence Allowed"
          ],
          [
           "The Bread, My Sweet"
          ],
          [
           "Stargate: The Ark of Truth"
          ],
          [
           "Meet Bill"
          ],
          [
           "War, Inc."
          ],
          [
           "The Strangers"
          ],
          [
           "My Brother Is an Only Child"
          ],
          [
           "Doctor Who"
          ],
          [
           "Boy Culture"
          ],
          [
           "West of Zanzibar"
          ],
          [
           "The Unholy Three"
          ],
          [
           "The Wackness"
          ],
          [
           "Welcome to the Sticks"
          ],
          [
           "Katyn"
          ],
          [
           "Death Defying Acts"
          ],
          [
           "Death Note"
          ],
          [
           "Transsiberian"
          ],
          [
           "Brideshead Revisited"
          ],
          [
           "The X Files: I Want to Believe"
          ],
          [
           "The Tracey Fragments"
          ],
          [
           "Swing Vote"
          ],
          [
           "The Midnight Meat Train"
          ],
          [
           "Bottle Shock"
          ],
          [
           "Vicky Cristina Barcelona"
          ],
          [
           "Pineapple Express"
          ],
          [
           "The Sisterhood of the Traveling Pants 2"
          ],
          [
           "Elegy"
          ],
          [
           "Star Wars: The Clone Wars"
          ],
          [
           "Mutant Chronicles"
          ],
          [
           "Waltz with Bashir"
          ],
          [
           "Let the Right One In"
          ],
          [
           "The House Bunny"
          ],
          [
           "The Rocker"
          ],
          [
           "Sukiyaki Western Django"
          ],
          [
           "Disaster Movie"
          ],
          [
           "Traitor"
          ],
          [
           "College"
          ],
          [
           "The Women"
          ],
          [
           "The Mother of Tears"
          ],
          [
           "The Foot Fist Way"
          ],
          [
           "Lakeview Terrace"
          ],
          [
           "To Rob a Thief"
          ],
          [
           "Appaloosa"
          ],
          [
           "How to Lose Friends & Alienate People"
          ],
          [
           "Nick and Norah's Infinite Playlist"
          ],
          [
           "The Tulse Luper Suitcases, Part 1: The Moab Story"
          ],
          [
           "20,000 Leagues Under the Sea"
          ],
          [
           "Zack and Miri Make a Porno"
          ],
          [
           "W."
          ],
          [
           "My Best Friend's Girl"
          ],
          [
           "The Secret Life of Bees"
          ],
          [
           "An American Carol"
          ],
          [
           "The Wave"
          ],
          [
           "Quarantine"
          ],
          [
           "Pride and Glory"
          ],
          [
           "RockNRolla"
          ],
          [
           "Admiral"
          ],
          [
           "Blindness"
          ],
          [
           "The Road"
          ],
          [
           "Role Models"
          ],
          [
           "JCVD"
          ],
          [
           "Saw V"
          ],
          [
           "Sex Drive"
          ],
          [
           "While She Was Out"
          ],
          [
           "Beverly Hills Chihuahua"
          ],
          [
           "Milk"
          ],
          [
           "The Boy in the Striped Pyjamas"
          ],
          [
           "Surveillance"
          ],
          [
           "Fireproof"
          ],
          [
           "Igor"
          ],
          [
           "Punisher: War Zone"
          ],
          [
           "Doubt"
          ],
          [
           "The Wrestler"
          ],
          [
           "Choke"
          ],
          [
           "Surfer, Dude"
          ],
          [
           "Nobel Son"
          ],
          [
           "Wild Child"
          ],
          [
           "Defiance"
          ],
          [
           "Ip Man"
          ],
          [
           "Passengers"
          ],
          [
           "My Bloody Valentine"
          ],
          [
           "Battle in Seattle"
          ],
          [
           "Timecrimes"
          ],
          [
           "The Lazarus Project"
          ],
          [
           "The Unborn"
          ],
          [
           "Go Go Tales"
          ],
          [
           "The Grudge 3"
          ],
          [
           "Two Lovers"
          ],
          [
           "My Name Is Bruce"
          ],
          [
           "Away We Go"
          ],
          [
           "Il Divo"
          ],
          [
           "Paris"
          ],
          [
           "Friday the 13th"
          ],
          [
           "Rock-A-Doodle"
          ],
          [
           "Dr. Horrible's Sing-Along Blog"
          ],
          [
           "Ong Bak 2"
          ],
          [
           "The Girl with the Dragon Tattoo"
          ],
          [
           "Sunshine Cleaning"
          ],
          [
           "Nothing But the Truth"
          ],
          [
           "Star of Midnight"
          ],
          [
           "Adventureland"
          ],
          [
           "17 Again"
          ],
          [
           "Crank: High Voltage"
          ],
          [
           "Moon"
          ],
          [
           "The Young Victoria"
          ],
          [
           "The Informers"
          ],
          [
           "The Girlfriend Experience"
          ],
          [
           "S. Darko"
          ],
          [
           "Earth"
          ],
          [
           "Crossing Over"
          ],
          [
           "The Brothers Bloom"
          ],
          [
           "The Last House on the Left"
          ],
          [
           "Drag Me to Hell"
          ],
          [
           "Fired Up!"
          ],
          [
           "Antichrist"
          ],
          [
           "Billu"
          ],
          [
           "Special"
          ],
          [
           "New in Town"
          ],
          [
           "Dead Snow"
          ],
          [
           "Dillinger"
          ],
          [
           "The Hurt Locker"
          ],
          [
           "Whatever Works"
          ],
          [
           "Night Of The Living Dead 3D"
          ],
          [
           "Hood of Horror"
          ],
          [
           "Kandukondain Kandukondain"
          ],
          [
           "(500) Days of Summer"
          ],
          [
           "The Inhabited Island"
          ],
          [
           "The Fast and the Furious"
          ],
          [
           "The Imaginarium of Doctor Parnassus"
          ],
          [
           "Cheri"
          ],
          [
           "Orphan"
          ],
          [
           "The Collector"
          ],
          [
           "A Perfect Getaway"
          ],
          [
           "Obsessed"
          ],
          [
           "12 Rounds"
          ],
          [
           "Silent Night, Deadly Night II"
          ],
          [
           "Bandslam"
          ],
          [
           "I Love You, Beth Cooper"
          ],
          [
           "Paper Heart"
          ],
          [
           "Tetro"
          ],
          [
           "Bronson"
          ],
          [
           "The Secret of Moonacre"
          ],
          [
           "Post Grad"
          ],
          [
           "My Life in Ruins"
          ],
          [
           "Halloween II"
          ],
          [
           "Five Graves to Cairo"
          ],
          [
           "Videocracy"
          ],
          [
           "The Secret in Their Eyes"
          ],
          [
           "9"
          ],
          [
           "Pandorum"
          ],
          [
           "The Men Who Stare at Goats"
          ],
          [
           "Jennifer's Body"
          ],
          [
           "The Informant!"
          ],
          [
           "Extract"
          ],
          [
           "Attack of the 50 Foot Woman"
          ],
          [
           "Battle for Terra"
          ],
          [
           "Love Happens"
          ],
          [
           "Bright Star"
          ],
          [
           "Paranormal Activity"
          ],
          [
           "World's Greatest Dad"
          ],
          [
           "Capitalism: A Love Story"
          ],
          [
           "Wanted"
          ],
          [
           "A Serious Man"
          ],
          [
           "City Island"
          ],
          [
           "Whip It"
          ],
          [
           "The Invention of Lying"
          ],
          [
           "Zombieland"
          ],
          [
           "Assassination of a High School President"
          ],
          [
           "Sorority Row"
          ],
          [
           "An Education"
          ],
          [
           "Capone"
          ],
          [
           "All About Steve"
          ],
          [
           "Jab We Met"
          ],
          [
           "New York, I Love You"
          ],
          [
           "Mary and Max"
          ],
          [
           "Saw VI"
          ],
          [
           "The Boondock Saints II: All Saints Day"
          ],
          [
           "Black Dynamite"
          ],
          [
           "Big Fan"
          ],
          [
           "Welcome to Dongmakgol"
          ],
          [
           "Top Dog"
          ],
          [
           "The Pebble and the Penguin"
          ],
          [
           "Goemon"
          ],
          [
           "The Box"
          ],
          [
           "Sunday"
          ],
          [
           "The Fourth Kind"
          ],
          [
           "Precious"
          ],
          [
           "The Bad Lieutenant: Port of Call - New Orleans"
          ],
          [
           "The Messenger"
          ],
          [
           "Police, Adjective"
          ],
          [
           "Cell 211"
          ],
          [
           "Brothers"
          ],
          [
           "Sleep Dealer"
          ],
          [
           "Me and Orson Welles"
          ],
          [
           "Morphine"
          ],
          [
           "Armored"
          ],
          [
           "Invaders from Mars"
          ],
          [
           "Nasty Old People"
          ],
          [
           "Crazy Heart"
          ],
          [
           "Guru"
          ],
          [
           "Beyond a Reasonable Doubt"
          ],
          [
           "Trapeze"
          ],
          [
           "Pontypool"
          ],
          [
           "The Matriarch"
          ],
          [
           "Daybreakers"
          ],
          [
           "Hachi: A Dog's Tale"
          ],
          [
           "Leap Year"
          ],
          [
           "The Girl Who Kicked the Hornet's Nest"
          ],
          [
           "Horsemen"
          ],
          [
           "Soul Kitchen"
          ],
          [
           "The House on Sorority Row"
          ],
          [
           "The Other Man"
          ],
          [
           "3 Idiots"
          ],
          [
           "Legion"
          ],
          [
           "Beautiful"
          ],
          [
           "Four Eyed Monsters"
          ],
          [
           "Extraordinary Measures"
          ],
          [
           "The Red Baron"
          ],
          [
           "I Love You Phillip Morris"
          ],
          [
           "Fish Tank"
          ],
          [
           "The Wounds"
          ],
          [
           "Ondine"
          ],
          [
           "Cop Out"
          ],
          [
           "The Spy Next Door"
          ],
          [
           "I Hope They Serve Beer in Hell"
          ],
          [
           "Singh Is Kinng"
          ],
          [
           "District 13: Ultimatum"
          ],
          [
           "The Crazies"
          ],
          [
           "Dear John"
          ],
          [
           "[REC]²"
          ],
          [
           "My Name Is Khan"
          ],
          [
           "The Fall of the Roman Empire"
          ],
          [
           "Brooklyn's Finest"
          ],
          [
           "She's Out of My League"
          ],
          [
           "Harry Brown"
          ],
          [
           "Remember Me"
          ],
          [
           "Our Family Wedding"
          ],
          [
           "Leaves of Grass"
          ],
          [
           "Women in Trouble"
          ],
          [
           "The Card Player"
          ],
          [
           "The Egyptian"
          ],
          [
           "Repo Men"
          ],
          [
           "Case 39"
          ],
          [
           "Chloe"
          ],
          [
           "Flesh and the Devil"
          ],
          [
           "Mother"
          ],
          [
           "Universal Soldier: Regeneration"
          ],
          [
           "Micmacs"
          ],
          [
           "Defendor"
          ],
          [
           "Kick-Ass"
          ],
          [
           "After.Life"
          ],
          [
           "The Runaways"
          ],
          [
           "Razorback"
          ],
          [
           "A Farewell to Arms"
          ],
          [
           "Death at a Funeral"
          ],
          [
           "Valhalla Rising"
          ],
          [
           "Diary of a Wimpy Kid"
          ],
          [
           "City of Life and Death"
          ],
          [
           "The Losers"
          ],
          [
           "MacGruber"
          ],
          [
           "Ca$h"
          ],
          [
           "Four Lions"
          ],
          [
           "Furry Vengeance"
          ],
          [
           "The Disappearance of Alice Creed"
          ],
          [
           "Halo Legends"
          ],
          [
           "Blue Valentine"
          ],
          [
           "Buried"
          ],
          [
           "How About You..."
          ],
          [
           "Winter's Bone"
          ],
          [
           "Solitary Man"
          ],
          [
           "Enter the Void"
          ],
          [
           "The Yellow Handkerchief"
          ],
          [
           "The Kids Are All Right"
          ],
          [
           "The Silver Chalice"
          ],
          [
           "Ip Man 2"
          ],
          [
           "Invisible Agent"
          ],
          [
           "Animal Kingdom"
          ],
          [
           "Centurion"
          ],
          [
           "Life During Wartime"
          ],
          [
           "Piranha 3D"
          ],
          [
           "The Extraordinary Adventures of Adèle Blanc-Sec"
          ],
          [
           "The Joneses"
          ],
          [
           "Gaby: A True Story"
          ],
          [
           "TEKKEN"
          ],
          [
           "Narco"
          ],
          [
           "The Last Exorcism"
          ],
          [
           "The American"
          ],
          [
           "The Switch"
          ],
          [
           "The End of Poverty?"
          ],
          [
           "Machete"
          ],
          [
           "Going the Distance"
          ],
          [
           "Vampires Suck"
          ],
          [
           "Easy A"
          ],
          [
           "Howl"
          ],
          [
           "Flipped"
          ],
          [
           "It's Kind of a Funny Story"
          ],
          [
           "Saint John of Las Vegas"
          ],
          [
           "Tere Naam"
          ],
          [
           "Let Me In"
          ],
          [
           "Devil"
          ],
          [
           "You Again"
          ],
          [
           "Catfish"
          ],
          [
           "Stone"
          ],
          [
           "Inside Job"
          ],
          [
           "Monsters"
          ],
          [
           "Conviction"
          ],
          [
           "Dirty Girl"
          ],
          [
           "Bran Nue Dae"
          ],
          [
           "Never Let Me Go"
          ],
          [
           "The Illusionist"
          ],
          [
           "PEEPLI [Live]"
          ],
          [
           "Rubber"
          ],
          [
           "Shelter"
          ],
          [
           "Jackass 3D"
          ],
          [
           "My Soul to Take"
          ],
          [
           "Whisper"
          ],
          [
           "Heartbreaker"
          ],
          [
           "Of Gods and Men"
          ],
          [
           "Paranormal Activity 2"
          ],
          [
           "Saw: The Final Chapter"
          ],
          [
           "127 Hours"
          ],
          [
           "Fair Game"
          ],
          [
           "The Next Three Days"
          ],
          [
           "Wild Target"
          ],
          [
           "Carlos"
          ],
          [
           "The Fighter"
          ],
          [
           "The Romantics"
          ],
          [
           "The Extra Man"
          ],
          [
           "Casino Jack"
          ],
          [
           "London Boulevard"
          ],
          [
           "Skyline"
          ],
          [
           "Beastly"
          ],
          [
           "Tiny Furniture"
          ],
          [
           "Hatchet II"
          ],
          [
           "Tomorrow, When the War Began"
          ],
          [
           "Another Year"
          ],
          [
           "Barney's Version"
          ],
          [
           "The Company Men"
          ],
          [
           "Faster"
          ],
          [
           "Rabbit Hole"
          ],
          [
           "The Last Circus"
          ],
          [
           "Mao's Last Dancer"
          ],
          [
           "Tucker and Dale vs Evil"
          ],
          [
           "Waste Land"
          ],
          [
           "Last Night"
          ],
          [
           "The Way Back"
          ],
          [
           "Ghajini"
          ],
          [
           "It's Alive"
          ],
          [
           "The Gorgeous Hussy"
          ],
          [
           "I Spit on Your Grave"
          ],
          [
           "Lucky Lady"
          ],
          [
           "From Prada to Nada"
          ],
          [
           "Country Strong"
          ],
          [
           "Burke & Hare"
          ],
          [
           "Vanishing on 7th Street"
          ],
          [
           "At Long Last Love"
          ],
          [
           "Take Me Home Tonight"
          ],
          [
           "The Eagle"
          ],
          [
           "71: Into the Fire"
          ],
          [
           "The Merry Widow"
          ],
          [
           "Janky Promoters"
          ],
          [
           "Black Lightning"
          ],
          [
           "Super"
          ],
          [
           "Troll Hunter"
          ],
          [
           "Chalet Girl"
          ],
          [
           "Black Bread"
          ],
          [
           "Insidious"
          ],
          [
           "Hobo with a Shotgun"
          ],
          [
           "Win Win"
          ],
          [
           "The Time That Remains"
          ],
          [
           "Boy"
          ],
          [
           "Diary of a Wimpy Kid: Rodrick Rules"
          ],
          [
           "Henry's Crime"
          ],
          [
           "The Nutcracker"
          ],
          [
           "13 Assassins"
          ],
          [
           "Hanna"
          ],
          [
           "New Kids Turbo"
          ],
          [
           "Beyond"
          ],
          [
           "The Princess of Montpensier"
          ],
          [
           "Melancholia"
          ],
          [
           "Atlas Shrugged Part I"
          ],
          [
           "Welcome to the South"
          ],
          [
           "The Robber"
          ],
          [
           "Incendies"
          ],
          [
           "Soul Surfer"
          ],
          [
           "Eye of the Dolphin"
          ],
          [
           "The Beaver"
          ],
          [
           "The Tree of Life"
          ],
          [
           "The Virginity Hit"
          ],
          [
           "Pina"
          ],
          [
           "The Roommate"
          ],
          [
           "Trust"
          ],
          [
           "Stolen"
          ],
          [
           "The Double Hour"
          ],
          [
           "Attack the Block"
          ],
          [
           "Everything Must Go"
          ],
          [
           "Beginners"
          ],
          [
           "Why Did I Get Married Too?"
          ],
          [
           "Larry Crowne"
          ],
          [
           "Judy Moody and the Not Bummer Summer"
          ],
          [
           "Takers"
          ],
          [
           "The Mysterious Lady"
          ],
          [
           "The Ward"
          ],
          [
           "Delhi Belly"
          ],
          [
           "Monte Carlo"
          ],
          [
           "Drive"
          ],
          [
           "Snow Flower and the Secret Fan"
          ],
          [
           "One Day"
          ],
          [
           "The Guard"
          ],
          [
           "Winnie the Pooh"
          ],
          [
           "The Goalie's Anxiety at the Penalty Kick"
          ],
          [
           "Dylan Dog: Dead of Night"
          ],
          [
           "Alpha and Omega"
          ],
          [
           "Deadfall"
          ],
          [
           "Blitz"
          ],
          [
           "Our Idiot Brother"
          ],
          [
           "Princess Kaiulani"
          ],
          [
           "West Is West"
          ],
          [
           "The Help"
          ],
          [
           "30 Minutes or Less"
          ],
          [
           "Glee: The Concert Movie"
          ],
          [
           "The Conspirator"
          ],
          [
           "A Very Harold & Kumar Christmas"
          ],
          [
           "Loose Cannons"
          ],
          [
           "Spy Kids: All the Time in the World"
          ],
          [
           "Miranda"
          ],
          [
           "Don't Be Afraid of the Dark"
          ],
          [
           "Fright Night"
          ],
          [
           "Another Earth"
          ],
          [
           "Hesher"
          ],
          [
           "Stake Land"
          ],
          [
           "The Debt"
          ],
          [
           "Freakonomics"
          ],
          [
           "The Skin I Live In"
          ],
          [
           "Prom"
          ],
          [
           "Red State"
          ],
          [
           "A Better Life"
          ],
          [
           "I Don't Know How She Does It"
          ],
          [
           "Shark Night"
          ],
          [
           "Straw Dogs"
          ],
          [
           "Restless"
          ],
          [
           "A Dangerous Method"
          ],
          [
           "Warrior"
          ],
          [
           "The Ides of March"
          ],
          [
           "Kill List"
          ],
          [
           "Badmaash Company"
          ],
          [
           "Bellflower"
          ],
          [
           "50/50"
          ],
          [
           "The Artist"
          ],
          [
           "Enthiran"
          ],
          [
           "Take Shelter"
          ],
          [
           "Road to Nowhere"
          ],
          [
           "The Music Never Stopped"
          ],
          [
           "Footloose"
          ],
          [
           "The Thing"
          ],
          [
           "We Need to Talk About Kevin"
          ],
          [
           "Margaret"
          ],
          [
           "Carnage"
          ],
          [
           "Margin Call"
          ],
          [
           "Paranormal Activity 3"
          ],
          [
           "This Must Be the Place"
          ],
          [
           "Shame"
          ],
          [
           "What's Your Number?"
          ],
          [
           "Mulan: Rise of a Warrior"
          ],
          [
           "Machine Gun Preacher"
          ],
          [
           "Anonymous"
          ],
          [
           "The Double"
          ],
          [
           "Higher Ground"
          ],
          [
           "Trespass"
          ],
          [
           "The Devil's Double"
          ],
          [
           "Setup"
          ],
          [
           "Another Happy Day"
          ],
          [
           "Shaolin"
          ],
          [
           "Wuthering Heights"
          ],
          [
           "The Descendants"
          ],
          [
           "Like Crazy"
          ],
          [
           "My Week with Marilyn"
          ],
          [
           "Weekend"
          ],
          [
           "Singham"
          ],
          [
           "Chandni Chowk To China"
          ],
          [
           "Hipsters"
          ],
          [
           "Sarah's Key"
          ],
          [
           "The Sitter"
          ],
          [
           "Rampart"
          ],
          [
           "The Perfect Game"
          ],
          [
           "Flypaper"
          ],
          [
           "Bathing Beauty"
          ],
          [
           "Life in a Day"
          ],
          [
           "Coriolanus"
          ],
          [
           "Young Adult"
          ],
          [
           "The Darkest Hour"
          ],
          [
           "Albert Nobbs"
          ],
          [
           "In the Land of Blood and Honey"
          ],
          [
           "The Devil Inside"
          ],
          [
           "Contraband"
          ],
          [
           "The Iron Lady"
          ],
          [
           "The Divide"
          ],
          [
           "The Grey"
          ],
          [
           "Haywire"
          ],
          [
           "Apollo 18"
          ],
          [
           "Seeking Justice"
          ],
          [
           "W.E."
          ],
          [
           "The Innkeepers"
          ],
          [
           "Six Degrees of Celebration"
          ],
          [
           "Detective Dee and the Mystery of the Phantom Flame"
          ],
          [
           "Chronicle"
          ],
          [
           "The Woman in Black"
          ],
          [
           "The Monk"
          ],
          [
           "Louis C.K.: Live at the Beacon Theater"
          ],
          [
           "For a Good Time, Call..."
          ],
          [
           "Chapiteau-Show"
          ],
          [
           "Kokowaah"
          ],
          [
           "Bodyguards and Assassins"
          ],
          [
           "Winter in Wartime"
          ],
          [
           "Courageous"
          ],
          [
           "Project X"
          ],
          [
           "Act of Valor"
          ],
          [
           "The Awakening"
          ],
          [
           "The Ledge"
          ],
          [
           "Jeff, Who Lives at Home"
          ],
          [
           "Lockout"
          ],
          [
           "A Lonely Place to Die"
          ],
          [
           "Space Battleship Yamato"
          ],
          [
           "Salmon Fishing in the Yemen"
          ],
          [
           "Iron Sky"
          ],
          [
           "The Raid"
          ],
          [
           "The Cabin in the Woods"
          ],
          [
           "L!fe Happens"
          ],
          [
           "Silent House"
          ],
          [
           "The Three Stooges"
          ],
          [
           "The Raven"
          ],
          [
           "The Best Exotic Marigold Hotel"
          ],
          [
           "The Five-Year Engagement"
          ],
          [
           "Think Like a Man"
          ],
          [
           "The Lucky One"
          ],
          [
           "Bride Flight"
          ],
          [
           "Safe"
          ],
          [
           "Jumping the Broom"
          ],
          [
           "Chicken with Plums"
          ],
          [
           "Bernie"
          ],
          [
           "Inhale"
          ],
          [
           "Wanderlust"
          ],
          [
           "Moonrise Kingdom"
          ],
          [
           "Kahaani"
          ],
          [
           "5 Days of War"
          ],
          [
           "A Few Best Men"
          ],
          [
           "Cosmopolis"
          ],
          [
           "Love's Deadly Triangle: The Texas Cadet Murder"
          ],
          [
           "Safety Not Guaranteed"
          ],
          [
           "Your Sister's Sister"
          ],
          [
           "Bel Ami"
          ],
          [
           "To Rome with Love"
          ],
          [
           "4.3.2.1"
          ],
          [
           "For Greater Glory - The True Story of Cristiada"
          ],
          [
           "Seeking a Friend for the End of the World"
          ],
          [
           "Magic Mike"
          ],
          [
           "On the Road"
          ],
          [
           "Beasts of the Southern Wild"
          ],
          [
           "People Like Us"
          ],
          [
           "2 Days in New York"
          ],
          [
           "Killer Joe"
          ],
          [
           "Love, Wedding, Marriage"
          ],
          [
           "Diary of a Wimpy Kid: Dog Days"
          ],
          [
           "War of the Arrows"
          ],
          [
           "Hit & Run"
          ],
          [
           "Premium Rush"
          ],
          [
           "Lawless"
          ],
          [
           "Piranha 3DD"
          ],
          [
           "ATM"
          ],
          [
           "The Possession"
          ],
          [
           "Little White Lies"
          ],
          [
           "The Apparition"
          ],
          [
           "Bachelorette"
          ],
          [
           "The Words"
          ],
          [
           "Pitch Perfect"
          ],
          [
           "The Cold Light of Day"
          ],
          [
           "Looper"
          ],
          [
           "Robot & Frank"
          ],
          [
           "The Master"
          ],
          [
           "Arbitrage"
          ],
          [
           "End of Watch"
          ],
          [
           "The Perks of Being a Wallflower"
          ],
          [
           "The Hunt"
          ],
          [
           "Behind the Burly Q"
          ],
          [
           "Two Rabbits"
          ],
          [
           "Sparkle"
          ],
          [
           "Red Lights"
          ],
          [
           "The Paperboy"
          ],
          [
           "A Royal Affair"
          ],
          [
           "House at the End of the Street"
          ],
          [
           "2016: Obama's America"
          ],
          [
           "Laurence Anyways"
          ],
          [
           "The Painted Veil"
          ],
          [
           "Rust and Bone"
          ],
          [
           "Katy Perry: Part of Me"
          ],
          [
           "Sinister"
          ],
          [
           "Seven Psychopaths"
          ],
          [
           "Hoodwinked Too! Hood VS. Evil"
          ],
          [
           "Gangs of Wasseypur"
          ],
          [
           "Paranormal Activity 4"
          ],
          [
           "Silent Hill: Revelation 3D"
          ],
          [
           "Like Dandelion Dust"
          ],
          [
           "Killing Them Softly"
          ],
          [
           "The Sessions"
          ],
          [
           "Smashed"
          ],
          [
           "Lookin' to Get Out"
          ],
          [
           "The Man with the Iron Fists"
          ],
          [
           "Sleepless Night"
          ],
          [
           "Stolen"
          ],
          [
           "Amour"
          ],
          [
           "Meet Monica Velour"
          ],
          [
           "Deadfall"
          ],
          [
           "Byzantium"
          ],
          [
           "1911"
          ],
          [
           "Lay the Favorite"
          ],
          [
           "Crooked Arrows"
          ],
          [
           "Yossi"
          ],
          [
           "Barfi"
          ],
          [
           "Fire with Fire"
          ],
          [
           "Not Fade Away"
          ],
          [
           "Quartet"
          ],
          [
           "StreetDance 3D"
          ],
          [
           "Parental Guidance"
          ],
          [
           "Promised Land"
          ],
          [
           "The Sweeney"
          ],
          [
           "English Vinglish"
          ],
          [
           "Texas Chainsaw 3D"
          ],
          [
           "The Samaritan"
          ],
          [
           "The Iceman"
          ],
          [
           "A Haunted House"
          ],
          [
           "Mama"
          ],
          [
           "Upstream Color"
          ],
          [
           "Shadow Dancer"
          ],
          [
           "Sunny"
          ],
          [
           "Movie 43"
          ],
          [
           "The Last Godfather"
          ],
          [
           "The East"
          ],
          [
           "Pink Ribbons, Inc."
          ],
          [
           "Side Effects"
          ],
          [
           "21 & Over"
          ],
          [
           "Safe Haven"
          ],
          [
           "Elles"
          ],
          [
           "The Act of Killing"
          ],
          [
           "Universal Soldier: Day of Reckoning"
          ],
          [
           "Before Midnight"
          ],
          [
           "Snitch"
          ],
          [
           "Dark Skies"
          ],
          [
           "A Coffee in Berlin"
          ],
          [
           "The Last Exorcism Part II"
          ],
          [
           "Stoker"
          ],
          [
           "Phantom"
          ],
          [
           "Burn"
          ],
          [
           "The Incredible Burt Wonderstone"
          ],
          [
           "Spring Breakers"
          ],
          [
           "I'm So Excited!"
          ],
          [
           "The Call"
          ],
          [
           "The Place Beyond the Pines"
          ],
          [
           "The Good Doctor"
          ],
          [
           "Admission"
          ],
          [
           "Hey Ram"
          ],
          [
           "Evil Dead"
          ],
          [
           "Trance"
          ],
          [
           "Welcome to the Punch"
          ],
          [
           "Poor White Trash"
          ],
          [
           "Dark Tide"
          ],
          [
           "Love Is All You Need"
          ],
          [
           "Disconnect"
          ],
          [
           "Scary Movie 5"
          ],
          [
           "Pain & Gain"
          ],
          [
           "Home Run"
          ],
          [
           "The Grandmaster"
          ],
          [
           "Late Autumn"
          ],
          [
           "Mud"
          ],
          [
           "The Afflicted"
          ],
          [
           "About Cherry"
          ],
          [
           "Only God Forgives"
          ],
          [
           "The Past"
          ],
          [
           "Down Terrace"
          ],
          [
           "The Lords of Salem"
          ],
          [
           "Behind the Candelabra"
          ],
          [
           "Aftershock"
          ],
          [
           "Lovelace"
          ],
          [
           "Special Forces"
          ],
          [
           "Redd Inc."
          ],
          [
           "The Way Way Back"
          ],
          [
           "The Big Wedding"
          ],
          [
           "The Purge"
          ],
          [
           "The Bling Ring"
          ],
          [
           "Maniac"
          ],
          [
           "The Best Offer"
          ],
          [
           "What Maisie Knew"
          ],
          [
           "The World's End"
          ],
          [
           "Hummingbird"
          ],
          [
           "The Spectacular Now"
          ],
          [
           "Bhaag Milkha Bhaag"
          ],
          [
           "The Breath"
          ],
          [
           "Lost in Thailand"
          ],
          [
           "Blue Jasmine"
          ],
          [
           "The Great Beauty"
          ],
          [
           "The Canyons"
          ],
          [
           "Alan Partridge: Alpha Papa"
          ],
          [
           "Class of 1999"
          ],
          [
           "Man of Tai Chi"
          ],
          [
           "Kick-Ass 2"
          ],
          [
           "Cameron's Closet"
          ],
          [
           "Paranoia"
          ],
          [
           "Jobs"
          ],
          [
           "The Butler"
          ],
          [
           "In a World..."
          ],
          [
           "About Time"
          ],
          [
           "Chennai Express"
          ],
          [
           "The Frozen Ground"
          ],
          [
           "Empire State"
          ],
          [
           "The Immortals"
          ],
          [
           "Tidal Wave"
          ],
          [
           "Adore"
          ],
          [
           "Instructions Not Included"
          ],
          [
           "Getaway"
          ],
          [
           "What If"
          ],
          [
           "Out of the Furnace"
          ],
          [
           "Austenland"
          ],
          [
           "The Family"
          ],
          [
           "The To Do List"
          ],
          [
           "Grand Masti"
          ],
          [
           "Battle of the Year"
          ],
          [
           "Out on a Limb"
          ],
          [
           "Nebraska"
          ],
          [
           "Metallica: Through the Never"
          ],
          [
           "Special 26"
          ],
          [
           "Runner Runner"
          ],
          [
           "Blue Is the Warmest Color"
          ],
          [
           "Parkland"
          ],
          [
           "On the Job"
          ],
          [
           "Machete Kills"
          ],
          [
           "Filth"
          ],
          [
           "Drona"
          ],
          [
           "Baggage Claim"
          ],
          [
           "Stitches"
          ],
          [
           "Carrie"
          ],
          [
           "The Fifth Estate"
          ],
          [
           "The Counselor"
          ],
          [
           "12 Years a Slave"
          ],
          [
           "All Is Lost"
          ],
          [
           "Bad Grandpa"
          ],
          [
           "Dallas Buyers Club"
          ],
          [
           "Pieta"
          ],
          [
           "Philomena"
          ],
          [
           "The Best Man Holiday"
          ],
          [
           "Ida"
          ],
          [
           "Delivery Man"
          ],
          [
           "Twice Born"
          ],
          [
           "Inside Llewyn Davis"
          ],
          [
           "Homefront"
          ],
          [
           "Mandela: Long Walk to Freedom"
          ],
          [
           "August: Osage County"
          ],
          [
           "Amen"
          ],
          [
           "Sweetwater"
          ],
          [
           "Her"
          ],
          [
           "A Perfect Man"
          ],
          [
           "Oldboy"
          ],
          [
           "Aquí Entre Nos"
          ],
          [
           "The Precocious and Brief Life of Sabina Rivas"
          ],
          [
           "Fun Size"
          ],
          [
           "The Physician"
          ],
          [
           "Mio in the Land of Faraway"
          ],
          [
           "The Hijack That Went South"
          ],
          [
           "Dhoom"
          ],
          [
           "Paranormal Activity: The Marked Ones"
          ],
          [
           "The Lunchbox"
          ],
          [
           "Yves Saint Laurent"
          ],
          [
           "Hunting Elephants"
          ],
          [
           "Underdogs"
          ],
          [
           "The Railway Man"
          ],
          [
           "Diana"
          ],
          [
           "Devil's Due"
          ],
          [
           "The First Power"
          ],
          [
           "Decoding Annie Parker"
          ],
          [
           "Justice League: War"
          ],
          [
           "Yeh Jawaani Hai Deewani"
          ],
          [
           "Vizontele Tuuba"
          ],
          [
           "Ernest & Celestine"
          ],
          [
           "Better Living Through Chemistry"
          ],
          [
           "Labor Day"
          ],
          [
           "The Young and Prodigious T.S. Spivet"
          ],
          [
           "Sabotage"
          ],
          [
           "The Zero Theorem"
          ],
          [
           "Endless Love"
          ],
          [
           "Joe"
          ],
          [
           "Love Story 2050"
          ],
          [
           "About Last Night"
          ],
          [
           "That Awkward Moment"
          ],
          [
           "3 Days to Kill"
          ],
          [
           "Under the Skin"
          ],
          [
           "Barefoot"
          ],
          [
           "Veronica Mars"
          ],
          [
           "Bad Words"
          ],
          [
           "Son of God"
          ],
          [
           "Space Pirate Captain Harlock"
          ],
          [
           "Across to Singapore"
          ],
          [
           "13 Sins"
          ],
          [
           "Blood Ties"
          ],
          [
           "Best Man Down"
          ],
          [
           "The Quiet Ones"
          ],
          [
           "Draft Day"
          ],
          [
           "The Raid 2"
          ],
          [
           "Oculus"
          ],
          [
           "God's Not Dead"
          ],
          [
           "Beauty and the Beast"
          ],
          [
           "Heaven is for Real"
          ],
          [
           "Brick Mansions"
          ],
          [
           "Locke"
          ],
          [
           "Tentacles"
          ],
          [
           "Belle"
          ],
          [
           "The Immigrant"
          ],
          [
           "A Wednesday!"
          ],
          [
           "Moms' Night Out"
          ],
          [
           "Walk of Shame"
          ],
          [
           "Chef"
          ],
          [
           "Afflicted"
          ],
          [
           "Begin Again"
          ],
          [
           "Million Dollar Arm"
          ],
          [
           "The Grand Seduction"
          ],
          [
           "Black Nativity"
          ],
          [
           "Minuscule: Valley of the Lost Ants"
          ],
          [
           "Camille Claudel 1915"
          ],
          [
           "Mindscape"
          ],
          [
           "Bikini Spring Break"
          ],
          [
           "Human Capital"
          ],
          [
           "Birdman"
          ],
          [
           "17 Girls"
          ],
          [
           "Boyhood"
          ],
          [
           "Think Like a Man Too"
          ],
          [
           "Mrs. Brown's Boys D'Movie"
          ],
          [
           "Tammy"
          ],
          [
           "The Babadook"
          ],
          [
           "White God"
          ],
          [
           "Whiplash"
          ],
          [
           "No One Lives"
          ],
          [
           "And So It Goes"
          ],
          [
           "The Purge: Anarchy"
          ],
          [
           "The Signal"
          ],
          [
           "A Most Wanted Man"
          ],
          [
           "Wish I Was Here"
          ],
          [
           "Earth to Echo"
          ],
          [
           "Life After Beth"
          ],
          [
           "The Rover"
          ],
          [
           "Magic in the Moonlight"
          ],
          [
           "The Hundred-Foot Journey"
          ],
          [
           "The Giver"
          ],
          [
           "Let's Be Cops"
          ],
          [
           "The Sacrament"
          ],
          [
           "Make Your Move"
          ],
          [
           "If I Stay"
          ],
          [
           "Two Days, One Night"
          ],
          [
           "The Pyramid"
          ],
          [
           "Life of Crime"
          ],
          [
           "As Above, So Below"
          ],
          [
           "The Guest"
          ],
          [
           "Before I Go to Sleep"
          ],
          [
           "Atlas Shrugged Part III: Who is John Galt?"
          ],
          [
           "Third Person"
          ],
          [
           "Honeymoon"
          ],
          [
           "The Drop"
          ],
          [
           "No Good Deed"
          ],
          [
           "Camp X-Ray"
          ],
          [
           "A Walk Among the Tombstones"
          ],
          [
           "My Old Lady"
          ],
          [
           "CBGB"
          ],
          [
           "The Homesman"
          ],
          [
           "The November Man"
          ],
          [
           "This Is Where I Leave You"
          ],
          [
           "Tusk"
          ],
          [
           "The Adventurer: The Curse of the Midas Box"
          ],
          [
           "Predestination"
          ],
          [
           "The Best of Me"
          ],
          [
           "John Wick"
          ],
          [
           "The Salvation"
          ],
          [
           "St. Vincent"
          ],
          [
           "Alexander and the Terrible, Horrible, No Good, Very Bad Day"
          ],
          [
           "Left Behind"
          ],
          [
           "Ouija"
          ],
          [
           "Nightcrawler"
          ],
          [
           "Felix The Cat: The Movie"
          ],
          [
           "Marshland"
          ],
          [
           "Ex Machina"
          ],
          [
           "Kung Fu Dunk"
          ],
          [
           "Paradise: Love"
          ],
          [
           "Foxcatcher"
          ],
          [
           "Wolf Creek 2"
          ],
          [
           "Remington and the Curse of the Zombadings"
          ],
          [
           "Stalingrad"
          ],
          [
           "Inherent Vice"
          ],
          [
           "Repentance"
          ],
          [
           "The Theory of Everything"
          ],
          [
           "Moscow, Belgium"
          ],
          [
           "When the Game Stands Tall"
          ],
          [
           "Aashiqui 2"
          ],
          [
           "Ragnarok"
          ],
          [
           "20th Century Boys - Chapter 1: Beginning of the End"
          ],
          [
           "Beyond the Lights"
          ],
          [
           "My Dear Desperado"
          ],
          [
           "Lucia"
          ],
          [
           "Black or White"
          ],
          [
           "The Water Diviner"
          ],
          [
           "Still Alice"
          ],
          [
           "Clouds of Sils Maria"
          ],
          [
           "Hard to Be a God"
          ],
          [
           "Kill the Messenger"
          ],
          [
           "The Face of Love"
          ],
          [
           "Selma"
          ],
          [
           "Fat Pizza"
          ],
          [
           "Khumba"
          ],
          [
           "A Girl Walks Home Alone at Night"
          ],
          [
           "Mommy"
          ],
          [
           "A Most Violent Year"
          ],
          [
           "Wild"
          ],
          [
           "Big Eyes"
          ],
          [
           "Madea's Big Happy Family"
          ],
          [
           "Gloss"
          ],
          [
           "Fishtales"
          ],
          [
           "PK"
          ],
          [
           "Drishyam"
          ],
          [
           "Gimme Shelter"
          ],
          [
           "The Woman in Black 2: Angel of Death"
          ],
          [
           "Forbidden Kingdom"
          ],
          [
           "Justin Bieber: Never Say Never"
          ],
          [
           "Nurse 3-D"
          ],
          [
           "Tad, the Lost Explorer"
          ],
          [
           "Nothing Left to Fear"
          ],
          [
           "It Follows"
          ],
          [
           "Highway to Hell"
          ],
          [
           "The Berlin File"
          ],
          [
           "Tim"
          ],
          [
           "Solomon and Sheba"
          ],
          [
           "Peter and Vandy"
          ],
          [
           "Kandahar"
          ],
          [
           "Torrente 5: Operación Eurovegas"
          ],
          [
           "Insidious: Chapter 3"
          ],
          [
           "Sankofa"
          ],
          [
           "My Way"
          ],
          [
           "The Derby Stallion"
          ],
          [
           "Cake"
          ],
          [
           "The Snow Queen"
          ],
          [
           "Hard Contract"
          ],
          [
           "The Gambler"
          ],
          [
           "Parrish"
          ],
          [
           "The DUFF"
          ],
          [
           "Of Horses and Men"
          ],
          [
           "Project Almanac"
          ],
          [
           "Brooklyn"
          ],
          [
           "A Walk in the Woods"
          ],
          [
           "99 Homes"
          ],
          [
           "Aloft"
          ],
          [
           "The Bronze"
          ],
          [
           "The D Train"
          ],
          [
           "The Diary of a Teenage Girl"
          ],
          [
           "Dope"
          ],
          [
           "Miss Julie"
          ],
          [
           "The Loft"
          ],
          [
           "Lost River"
          ],
          [
           "Battletruck"
          ],
          [
           "Italiano medio"
          ],
          [
           "Paper Towns"
          ],
          [
           "The Wedding Ringer"
          ],
          [
           "The Boy Next Door"
          ],
          [
           "Hot Tub Time Machine 2"
          ],
          [
           "Demonic"
          ],
          [
           "The Second Best Exotic Marigold Hotel"
          ],
          [
           "Tracers"
          ],
          [
           "The Lazarus Effect"
          ],
          [
           "Unfinished Business"
          ],
          [
           "Soulless"
          ],
          [
           "Raanjhanaa"
          ],
          [
           "While We're Young"
          ],
          [
           "Suite Française"
          ],
          [
           "Big Game"
          ],
          [
           "La vérité si je mens !"
          ],
          [
           "Midnight Special"
          ],
          [
           "Escobar: Paradise Lost"
          ],
          [
           "Unfriended"
          ],
          [
           "Bolero"
          ],
          [
           "What Men Talk About"
          ],
          [
           "Kung Fu Jungle"
          ],
          [
           "Infinitely Polar Bear"
          ],
          [
           "Woman in Gold"
          ],
          [
           "Ryaba, My Chicken"
          ],
          [
           "Samba"
          ],
          [
           "Space Dogs"
          ],
          [
           "Long Live Freedom"
          ],
          [
           "Parts Per Billion"
          ],
          [
           "The Admiral: Roaring Currents"
          ],
          [
           "Table For Five"
          ],
          [
           "The Age of Adaline"
          ],
          [
           "Danny Collins"
          ],
          [
           "Grandma"
          ],
          [
           "50 to 1"
          ],
          [
           "Barbecue"
          ],
          [
           "Falling From Grace"
          ],
          [
           "A Company Man"
          ],
          [
           "Jimmy P."
          ],
          [
           "Ricki and the Flash"
          ],
          [
           "Piku"
          ],
          [
           "Carol"
          ],
          [
           "Strangerland"
          ],
          [
           "The Lobster"
          ],
          [
           "Maggie"
          ],
          [
           "The Green Inferno"
          ],
          [
           "A Driver for Vera"
          ],
          [
           "Plus one"
          ],
          [
           "Badlapur"
          ],
          [
           "Youth"
          ],
          [
           "Wake Up Sid"
          ],
          [
           "Rangeela"
          ],
          [
           "Sarkar"
          ],
          [
           "From a Whisper to a Scream"
          ],
          [
           "Tutto tutto niente niente"
          ],
          [
           "Song One"
          ],
          [
           "Mere Brother Ki Dulhan"
          ],
          [
           "Entourage"
          ],
          [
           "5 Flights Up"
          ],
          [
           "Tanu Weds Manu"
          ],
          [
           "Max"
          ],
          [
           "Madras Cafe"
          ],
          [
           "White Tiger"
          ],
          [
           "Gabbar Is Back"
          ],
          [
           "Little Boy"
          ],
          [
           "Self/less"
          ],
          [
           "Criminal"
          ],
          [
           "Krampus"
          ],
          [
           "Bluffmaster!"
          ],
          [
           "Pizza"
          ],
          [
           "Rockstar"
          ],
          [
           "This is Sodom"
          ],
          [
           "Jackson County Jail"
          ],
          [
           "Kaminey"
          ],
          [
           "Company"
          ],
          [
           "Vishwaroopam"
          ],
          [
           "Shootout at Lokhandwala"
          ],
          [
           "Josh"
          ],
          [
           "Dhoom 3"
          ],
          [
           "Dhoom 2"
          ],
          [
           "Rough Cut"
          ],
          [
           "Mickey's Christmas Carol"
          ],
          [
           "Bulletproof"
          ],
          [
           "Steve Jobs"
          ],
          [
           "Macbeth"
          ],
          [
           "Manglehorn"
          ],
          [
           "Shabd"
          ],
          [
           "Gemma Bovery"
          ],
          [
           "Love and the City"
          ],
          [
           "Magic Mike XXL"
          ],
          [
           "Dragon Ball Z: Resurrection 'F'"
          ],
          [
           "Bombay Velvet"
          ],
          [
           "Treehouse"
          ],
          [
           "French Women"
          ],
          [
           "Welcome to the North"
          ],
          [
           "The Worst Christmas of My Life"
          ],
          [
           "La peggior settimana della mia vita"
          ],
          [
           "A Whole Life Ahead"
          ],
          [
           "The Opposite Sex"
          ],
          [
           "The Gallows"
          ],
          [
           "Dark Places"
          ],
          [
           "Mustang"
          ],
          [
           "Soodhu Kavvum"
          ],
          [
           "Bajrangi Bhaijaan"
          ],
          [
           "Irrational Man"
          ],
          [
           "Southpaw"
          ],
          [
           "Sicario"
          ],
          [
           "Anomalisa"
          ],
          [
           "Colonia"
          ],
          [
           "The Vatican Tapes"
          ],
          [
           "Love"
          ],
          [
           "Room"
          ],
          [
           "The Gift"
          ],
          [
           "The Witch"
          ],
          [
           "3 Generations"
          ],
          [
           "Zaytoun"
          ],
          [
           "The Visit"
          ],
          [
           "Secret in Their Eyes"
          ],
          [
           "Sinister 2"
          ],
          [
           "American Ultra"
          ],
          [
           "No Escape"
          ],
          [
           "Tangerine"
          ],
          [
           "Iron & Blood: The Legend of Taras Bulba"
          ],
          [
           "Sholem Aleichem: Laughing In The Darkness"
          ],
          [
           "The Angrez"
          ],
          [
           "Captive"
          ],
          [
           "Equals"
          ],
          [
           "Scouts Guide to the Zombie Apocalypse"
          ],
          [
           "Suffragette"
          ],
          [
           "We Are Your Friends"
          ],
          [
           "War Room"
          ],
          [
           "Legend"
          ],
          [
           "The Danish Girl"
          ],
          [
           "Green Room"
          ],
          [
           "Beasts of No Nation"
          ],
          [
           "The Lady in the Van"
          ],
          [
           "Zid"
          ],
          [
           "The Transporter Refueled"
          ],
          [
           "La Vérité si je Mens ! 3"
          ],
          [
           "Would I Lie to You? 2"
          ],
          [
           "Knock Knock"
          ],
          [
           "Dreaming of Space"
          ],
          [
           "Silenced"
          ],
          [
           "The House of Usher"
          ],
          [
           "Demolition"
          ],
          [
           "Our Brand Is Crisis"
          ],
          [
           "Agneepath"
          ],
          [
           "Cocktail"
          ],
          [
           "The Assassin"
          ],
          [
           "The Night Before"
          ],
          [
           "Spotlight"
          ],
          [
           "Son of Saul"
          ],
          [
           "Pawn Sacrifice"
          ],
          [
           "Hardcore Henry"
          ],
          [
           "Burnt"
          ],
          [
           "Lootera"
          ],
          [
           "Bangalore Days"
          ],
          [
           "Ohm Shanthi Oshaana"
          ],
          [
           "Alaipayuthey"
          ],
          [
           "Vaaranam Aayiram"
          ],
          [
           "Godfather"
          ],
          [
           "Varalaru"
          ],
          [
           "Freeheld"
          ],
          [
           "By the Sea"
          ],
          [
           "The Circle"
          ],
          [
           "Cruel World"
          ],
          [
           "Hail, Caesar!"
          ],
          [
           "Look Who's Back"
          ],
          [
           "Standing Tall"
          ],
          [
           "Clockstoppers"
          ],
          [
           "The Bullet Vanishes"
          ],
          [
           "Confessions of a Dangerous Mind"
          ],
          [
           "Rita's Last Fairy Tale"
          ],
          [
           "The Perfect Guy"
          ],
          [
           "Rock the Kasbah"
          ],
          [
           "Momentum"
          ],
          [
           "Aferim!"
          ],
          [
           "Paranormal Activity: The Ghost Dimension"
          ],
          [
           "Jem and the Holograms"
          ],
          [
           "The 33"
          ],
          [
           "The Dressmaker"
          ],
          [
           "Trumbo"
          ],
          [
           "Wolf Warrior"
          ],
          [
           "Antikiller"
          ],
          [
           "Duniyadari"
          ],
          [
           "Shikshanachya Aaicha Gho"
          ],
          [
           "Dil To Pagal Hai"
          ],
          [
           "Fiza"
          ],
          [
           "William & Kate"
          ],
          [
           "Lost in the Sun"
          ],
          [
           "Louder Than Bombs"
          ],
          [
           "Heist"
          ],
          [
           "Love the Coopers"
          ],
          [
           "Prem Ratan Dhan Payo"
          ],
          [
           "Faster than Rabbits"
          ],
          [
           "Recep İvedik"
          ],
          [
           "Katyar Kaljat Ghusali"
          ],
          [
           "Mary Kom"
          ],
          [
           "Premam"
          ],
          [
           "The Last Breath"
          ],
          [
           "The Wave"
          ],
          [
           "Monkey King: Hero Is Back"
          ],
          [
           "Truth"
          ],
          [
           "The Letters"
          ],
          [
           "Valentino"
          ],
          [
           "Loham"
          ],
          [
           "The Legend of Bhagat Singh"
          ],
          [
           "The Perfect Weapon"
          ],
          [
           "Fifty Shades of Black"
          ],
          [
           "Nocturnal Animals"
          ],
          [
           "Bajirao Mastani"
          ],
          [
           "F.C. De Kampioenen: Kampioen zijn blijft plezant"
          ],
          [
           "Pride and Prejudice and Zombies"
          ],
          [
           "Jane Got a Gun"
          ],
          [
           "Dilwale"
          ],
          [
           "Woodlawn"
          ],
          [
           "Captive"
          ],
          [
           "The Forest"
          ],
          [
           "Raavan"
          ],
          [
           "Rowdy Rathore"
          ],
          [
           "Wazir"
          ],
          [
           "Mickey"
          ],
          [
           "Norm of the North"
          ],
          [
           "Eddie the Eagle"
          ],
          [
           "Airlift"
          ],
          [
           "Stonewall"
          ],
          [
           "The Boy"
          ],
          [
           "90 Minutes in Heaven"
          ],
          [
           "Risen"
          ],
          [
           "Dirty Grandpa"
          ],
          [
           "Orleans"
          ],
          [
           "The Guide"
          ],
          [
           "The Birth of a Nation"
          ],
          [
           "Anjaana Anjaani"
          ],
          [
           "Na Maloom Afraad"
          ],
          [
           "Triple 9"
          ],
          [
           "Embrace of the Serpent"
          ],
          [
           "Neerja"
          ],
          [
           "Race"
          ],
          [
           "10 Cloverfield Lane"
          ],
          [
           "Whiskey Tango Foxtrot"
          ],
          [
           "The Young Messiah"
          ],
          [
           "Grimsby"
          ],
          [
           "Na Tum Jaano Na Hum"
          ],
          [
           "Garv: Pride and Honour"
          ],
          [
           "Capture the Flag"
          ],
          [
           "The Touch"
          ],
          [
           "3 Braves"
          ],
          [
           "Jaane Tu... Ya Jaane Na"
          ],
          [
           "Bachna Ae Haseeno"
          ],
          [
           "Dostana"
          ],
          [
           "Phoonk"
          ],
          [
           "Gabbar Singh"
          ],
          [
           "Eega"
          ],
          [
           "99"
          ],
          [
           "Khatta Meetha"
          ],
          [
           "Dear Guest, When Will You Leave?"
          ],
          [
           "Bodyguard"
          ],
          [
           "Thank You"
          ],
          [
           "Raja Natwarlal"
          ],
          [
           "Heropanti"
          ],
          [
           "Happy Family"
          ],
          [
           "The Neon Demon"
          ],
          [
           "Vinnaithaandi Varuvaayaa"
          ],
          [
           "Ayan"
          ],
          [
           "Bommarillu"
          ],
          [
           "Arundhati"
          ],
          [
           "Happy Days"
          ],
          [
           "Dil Dhadakne Do"
          ],
          [
           "Eye in the Sky"
          ],
          [
           "Hello, My Name Is Doris"
          ],
          [
           "Roar"
          ],
          [
           "Mr. Right"
          ],
          [
           "Miracles from Heaven"
          ],
          [
           "Florence Foster Jenkins"
          ],
          [
           "My Big Fat Greek Wedding 2"
          ],
          [
           "Irudhi Suttru"
          ],
          [
           "I Saw the Light"
          ],
          [
           "Keanu"
          ],
          [
           "The Lure"
          ],
          [
           "White Girl"
          ],
          [
           "Love & Friendship"
          ],
          [
           "Sunshine Superman"
          ],
          [
           "Everybody Wants Some!!"
          ],
          [
           "Sing Street"
          ],
          [
           "Paterson"
          ],
          [
           "Aadukalam"
          ],
          [
           "Visaranai"
          ],
          [
           "Things to Come"
          ],
          [
           "Fan"
          ],
          [
           "Money Monster"
          ],
          [
           "Nine Lives"
          ],
          [
           "Barbershop: The Next Cut"
          ],
          [
           "The Choice"
          ],
          [
           "The Boss"
          ],
          [
           "Bastille Day"
          ],
          [
           "Precious Cargo"
          ],
          [
           "Arrambam"
          ],
          [
           "Yennai Arindhaal"
          ],
          [
           "Mankatha"
          ],
          [
           "Indru Netru Naalai"
          ],
          [
           "Veeram"
          ],
          [
           "Vaali"
          ],
          [
           "Villan"
          ],
          [
           "Dheena"
          ],
          [
           "Citizen"
          ],
          [
           "Amarkalam"
          ],
          [
           "Mugavari"
          ],
          [
           "Aasai"
          ],
          [
           "Kadhal Kottai"
          ],
          [
           "Mother's Day"
          ],
          [
           "Ratchet & Clank"
          ],
          [
           "Term Life"
          ],
          [
           "A Hologram for the King"
          ],
          [
           "Singam"
          ],
          [
           "Saamy"
          ],
          [
           "7Aum Arivu"
          ],
          [
           "Flight Crew"
          ],
          [
           "The Shallows"
          ],
          [
           "A Little Night Music"
          ],
          [
           "Skinning"
          ],
          [
           "Kick"
          ],
          [
           "Aitraaz"
          ],
          [
           "Paws"
          ],
          [
           "The Handmaiden"
          ],
          [
           "Sausage Party"
          ],
          [
           "Captain Fantastic"
          ],
          [
           "Toni Erdmann"
          ],
          [
           "The Meddler"
          ],
          [
           "Finding Mr. Right"
          ],
          [
           "Café Society"
          ],
          [
           "Swiss Army Man"
          ],
          [
           "A Violent Prosecutor"
          ],
          [
           "Graduation"
          ],
          [
           "The Darkness"
          ],
          [
           "Boris - Il film"
          ],
          [
           "Udta Punjab"
          ],
          [
           "Te3n"
          ],
          [
           "Raman Raghav 2.0"
          ],
          [
           "The Purge: Election Year"
          ],
          [
           "Lights Out"
          ],
          [
           "The Duel"
          ],
          [
           "Nerve"
          ],
          [
           "Sultan"
          ],
          [
           "Charlie"
          ],
          [
           "Kismat Konnection"
          ],
          [
           "The Infiltrator"
          ],
          [
           "To Steal from a Thief"
          ],
          [
           "Batman: The Killing Joke"
          ],
          [
           "Lights of New York"
          ],
          [
           "Bad Moms"
          ],
          [
           "Hell or High Water"
          ],
          [
           "Don't Breathe"
          ],
          [
           "47 Meters Down"
          ],
          [
           "Hillary's America: The Secret History of the Democratic Party"
          ],
          [
           "The Cherry Orchard"
          ],
          [
           "Robinson Crusoe"
          ],
          [
           "The Edge of Seventeen"
          ],
          [
           "Anthropoid"
          ],
          [
           "Elle"
          ],
          [
           "Grandmaster"
          ],
          [
           "Train to Busan"
          ],
          [
           "Friend Request"
          ],
          [
           "Starchaser: The Legend of Orin"
          ],
          [
           "Skiptrace"
          ],
          [
           "Moonlight"
          ],
          [
           "Big Fish & Begonia"
          ],
          [
           "A Conspiracy of Faith"
          ],
          [
           "Masterminds"
          ],
          [
           "Pelli Choopulu"
          ],
          [
           "The Light Between Oceans"
          ],
          [
           "Morgan"
          ],
          [
           "Queen of Katwe"
          ],
          [
           "Middle School: The Worst Years of My Life"
          ],
          [
           "God's Not Dead 2"
          ],
          [
           "Kabali"
          ],
          [
           "Mohenjo Daro"
          ],
          [
           "A Quiet Passion"
          ],
          [
           "Local Color"
          ],
          [
           "I'm Staying"
          ],
          [
           "Shin Godzilla"
          ],
          [
           "Wabash Avenue"
          ],
          [
           "Aquarius"
          ],
          [
           "The Work and the Glory"
          ],
          [
           "The Work and the Glory II: American Zion"
          ],
          [
           "The Work and the Glory III: A House Divided"
          ],
          [
           "The Book of Mormon Movie, Volume 1: The Journey"
          ],
          [
           "Blair Witch"
          ],
          [
           "The Hollars"
          ],
          [
           "Loving"
          ],
          [
           "31"
          ],
          [
           "From the Land of the Moon"
          ],
          [
           "My Life as a Zucchini"
          ],
          [
           "Musudan"
          ],
          [
           "The Duelist"
          ],
          [
           "Ouija: Origin of Evil"
          ],
          [
           "Max Steel"
          ],
          [
           "Denial"
          ],
          [
           "Manchester by the Sea"
          ],
          [
           "Lion"
          ],
          [
           "Bad Santa 2"
          ],
          [
           "Almost Christmas"
          ],
          [
           "Smoke & Mirrors"
          ],
          [
           "Alesha Popovich and Tugarin the Dragon"
          ],
          [
           "Nikitich and The Dragon"
          ],
          [
           "Max & Leon"
          ],
          [
           "A United Kingdom"
          ],
          [
           "Shut In"
          ],
          [
           "Jimmy Vestvood: Amerikan Hero"
          ],
          [
           "Jackie"
          ],
          [
           "The Tiger: An Old Hunter's Tale"
          ],
          [
           "Logan"
          ],
          [
           "The Space Between Us"
          ],
          [
           "Miss Sloane"
          ],
          [
           "Rules Don't Apply"
          ],
          [
           "Voracious"
          ],
          [
           "Aanandam"
          ],
          [
           "Action Hero Biju"
          ],
          [
           "Fences"
          ],
          [
           "Bleed for This"
          ],
          [
           "Tri bogatyrya i Shamakhanskaya tsaritsa"
          ],
          [
           "20th Century Women"
          ],
          [
           "The Founder"
          ],
          [
           "Dear Zindagi"
          ],
          [
           "The Guillotines"
          ],
          [
           "Collide"
          ],
          [
           "Gold"
          ],
          [
           "Ballerina"
          ],
          [
           "Sleepless"
          ],
          [
           "He's a Dragon"
          ],
          [
           "A Street Cat Named Bob"
          ],
          [
           "The Bye Bye Man"
          ],
          [
           "When the Bough Breaks"
          ],
          [
           "I'm Not Ashamed"
          ],
          [
           "The King's Choice"
          ],
          [
           "Rings"
          ],
          [
           "Vipers Nest"
          ],
          [
           "Raw"
          ],
          [
           "T2 Trainspotting"
          ],
          [
           "Before I Fall"
          ],
          [
           "Incarnate"
          ],
          [
           "A Ghost Story"
          ],
          [
           "Black Snow"
          ],
          [
           "Song to Song"
          ],
          [
           "Queen of Spades: The Dark Rite"
          ],
          [
           "Ayurveda: Art of Being"
          ],
          [
           "Their Finest"
          ],
          [
           "Personal Shopper"
          ],
          [
           "The Shack"
          ],
          [
           "The Lost City of Z"
          ],
          [
           "Free Fire"
          ],
          [
           "CHiPS"
          ],
          [
           "Table 19"
          ],
          [
           "Going in Style"
          ],
          [
           "O Kadhal Kanmani"
          ],
          [
           "Bitter Harvest"
          ],
          [
           "The Amazing Truth About Queen Raquela"
          ],
          [
           "RRRrrrr!!!"
          ],
          [
           "Shadowboxing"
          ],
          [
           "The Zookeeper's Wife"
          ],
          [
           "Gifted"
          ],
          [
           "24"
          ],
          [
           "Aftermath"
          ],
          [
           "Diary of a Wimpy Kid: The Long Haul"
          ],
          [
           "The Spacewalker"
          ],
          [
           "Unforgettable"
          ],
          [
           "The Book of Henry"
          ],
          [
           "Phoenix Forgotten"
          ],
          [
           "Lowriders"
          ],
          [
           "Heavy Traffic"
          ],
          [
           "Королёв"
          ],
          [
           "Bizim Aile"
          ],
          [
           "Tosun Pasha"
          ],
          [
           "Have Fun, Vasya!"
          ],
          [
           "Horoscope for Good Luck"
          ],
          [
           "Kidnapping, Caucasian Style"
          ],
          [
           "Nasha Russia: Yaytsa sudby"
          ],
          [
           "The Best Movie 3-DE"
          ],
          [
           "The New Year's Rate Plan"
          ],
          [
           "The Star"
          ],
          [
           "The Irony of Fate. The Sequel"
          ],
          [
           "Kabhi Alvida Naa Kehna"
          ],
          [
           "The Beguiled"
          ],
          [
           "Desmundo"
          ],
          [
           "Rough Night"
          ],
          [
           "In the Forests of Siberia"
          ],
          [
           "The Dawns Here Are Quiet"
          ],
          [
           "Waltzing Anna"
          ],
          [
           "Cowboys & Angels"
          ],
          [
           "Boj S Tenyu 2: Revansh"
          ],
          [
           "Easy on the Eyes"
          ],
          [
           "Lucky Island"
          ],
          [
           "Hooked on the Game 2. The Next Level"
          ],
          [
           "Lovey-Dovey 2"
          ],
          [
           "The Interceptor"
          ],
          [
           "Hooked on the Game"
          ],
          [
           "High Security Vacation"
          ],
          [
           "Antikiller D.K"
          ],
          [
           "The Spy"
          ],
          [
           "Mechenosets"
          ],
          [
           "Paris Can Wait"
          ],
          [
           "Hitler's Kaput!"
          ],
          [
           "Glukhar v kino"
          ],
          [
           "That still Karloson!"
          ],
          [
           "I Was a Teenage Werewolf"
          ],
          [
           "Kidnap"
          ],
          [
           "Black Rose"
          ],
          [
           "Mudhalvan"
          ],
          [
           "Nirvana"
          ],
          [
           "The Battalion"
          ],
          [
           "Fanaa"
          ],
          [
           "Atomic Blonde"
          ],
          [
           "Gymkata"
          ],
          [
           "Confidential Assignment"
          ],
          [
           "Pokémon: Spell of the Unknown"
          ],
          [
           "Mommies, Happy New Year!"
          ],
          [
           "Pregnant"
          ],
          [
           "On the Hook!"
          ],
          [
           "FC Venus"
          ],
          [
           "Wind River"
          ],
          [
           "Sivaji: The Boss"
          ],
          [
           "All at Once"
          ],
          [
           "Savages"
          ],
          [
           "Pro Lyuboff"
          ],
          [
           "Antidur"
          ]
         ],
         "hovertemplate": "clusters=0<br>budget=%{x}<br>revenue=%{y}<br>title=%{customdata[0]}<extra></extra>",
         "legendgroup": "0",
         "marker": {
          "color": "#EF553B",
          "symbol": "circle"
         },
         "mode": "markers",
         "name": "0",
         "showlegend": true,
         "x": [
          1.6E7,
          1.65E7,
          4000000.0,
          3600000.0,
          1.2E7,
          1.8E7,
          1.1E7,
          1.8E7,
          2.0E7,
          1.0E7,
          6000000.0,
          1.5E7,
          3500000.0,
          1.9E7,
          1.5E7,
          2.0E7,
          8000000.0,
          3.8E7,
          8169363.0,
          1.4E7,
          7000000.0,
          1.2E7,
          1300000.0,
          7500000.0,
          2.5E7,
          7000000.0,
          1.9E7,
          4000000.0,
          2.8E7,
          2000000.0,
          1.1E7,
          2.5E7,
          7000000.0,
          2.7E7,
          2.0E7,
          2.5E7,
          1500000.0,
          500000.0,
          6000000.0,
          1.5E7,
          2.0,
          2.2E7,
          150000.0,
          8.0,
          7000000.0,
          1.4E7,
          2.0E7,
          2800000.0,
          2500000.0,
          1.0E7,
          2.1E7,
          27000.0,
          2.5E7,
          1.8E7,
          1.5E7,
          700000.0,
          5000000.0,
          1.05E7,
          1.4E7,
          2000000.0,
          1.7E7,
          6.0,
          3.4E7,
          1.6E7,
          1.1E7,
          8000000.0,
          400000.0,
          3.2E7,
          2.2E7,
          1.5E7,
          3.5E7,
          2.5E7,
          2.5E7,
          6000000.0,
          1.1E7,
          3.0E7,
          1.7E7,
          3000000.0,
          1.5E7,
          5000000.0,
          1.5E7,
          3.5E7,
          1.4E7,
          3.0E7,
          1.15E7,
          8000000.0,
          2.7E7,
          1.0E7,
          7000000.0,
          2.6E7,
          8000000.0,
          3.4E7,
          1.708E7,
          1.3E7,
          2.2E7,
          1.3E7,
          3.0E7,
          6900000.0,
          3.0E7,
          2.0E7,
          3.5E7,
          1.8E7,
          2.5E7,
          1.3E7,
          9000000.0,
          1500000.0,
          1.35E7,
          3500000.0,
          1.2E7,
          2.0E7,
          7000000.0,
          1.4E7,
          1.1E7,
          1.15E7,
          2.2E7,
          2.0E7,
          1.15E7,
          800000.0,
          1.2E7,
          1.3E7,
          2.5E7,
          2.8E7,
          2.0E7,
          7400000.0,
          1.8E7,
          3.0E7,
          2.5E7,
          1.25E7,
          2.7E7,
          1488423.0,
          2600000.0,
          6244087.0,
          7000000.0,
          4000000.0,
          4000000.0,
          1.2E7,
          1.3E7,
          9000000.0,
          2.5E7,
          3.0E7,
          3.1E7,
          2.553E7,
          3.5E7,
          1.5E7,
          4800000.0,
          2.5E7,
          1800000.0,
          4000000.0,
          2.7E7,
          3.0E7,
          5000000.0,
          3500000.0,
          2.5E7,
          1.3E7,
          2.6E7,
          3.6E7,
          6000000.0,
          1.3E7,
          1.5E7,
          6000000.0,
          2962051.0,
          200000.0,
          900000.0,
          500000.0,
          4500000.0,
          2.5E7,
          5000000.0,
          2540800.0,
          2723903.0,
          2500000.0,
          2479000.0,
          1000000.0,
          325000.0,
          4000000.0,
          3000000.0,
          2883848.0,
          4000000.0,
          878000.0,
          375000.0,
          1.7E7,
          2238813.0,
          1500000.0,
          2777000.0,
          1752000.0,
          839727.0,
          1.05E7,
          1400000.0,
          1688000.0,
          1288000.0,
          2000000.0,
          1500000.0,
          2500000.0,
          1365000.0,
          2033000.0,
          1020000.0,
          609000.0,
          5400000.0,
          1.0,
          226408.0,
          6000000.0,
          3180000.0,
          1500000.0,
          114000.0,
          1300000.0,
          3000000.0,
          4.0,
          2.5E7,
          2.8E7,
          9000000.0,
          2300000.0,
          5000000.0,
          1.4E7,
          3000000.0,
          6000000.0,
          812000.0,
          2.0E7,
          1.2E7,
          1.0E7,
          4500000.0,
          1.6E7,
          2400000.0,
          7000000.0,
          1.45E7,
          200000.0,
          3000000.0,
          2000000.0,
          2000000.0,
          7500000.0,
          4000000.0,
          1.2E7,
          2500000.0,
          1400000.0,
          6000000.0,
          1200000.0,
          6000000.0,
          6500000.0,
          3705538.0,
          1.25E7,
          1.2E7,
          1800000.0,
          1.25E7,
          3.6E7,
          5000000.0,
          6788000.0,
          1000000.0,
          6000000.0,
          1000000.0,
          400000.0,
          7000000.0,
          4000000.0,
          645180.0,
          3000000.0,
          4.0,
          500000.0,
          3000000.0,
          1.6E7,
          1.85E7,
          1200000.0,
          350000.0,
          1.5E7,
          2200000.0,
          2000000.0,
          5000000.0,
          2500000.0,
          2.5E7,
          1.1E7,
          1.15E7,
          806948.0,
          2.7E7,
          1.3E7,
          1.7E7,
          1.8E7,
          1.8E7,
          4000000.0,
          2.7E7,
          1.4E7,
          5500000.0,
          6400000.0,
          3000000.0,
          1.8E7,
          1.4E7,
          3000000.0,
          829000.0,
          3000000.0,
          6000000.0,
          3800000.0,
          1.9E7,
          8000000.0,
          3600000.0,
          4000000.0,
          1.5E7,
          1.46E7,
          1.4E7,
          1.1E7,
          1.2E7,
          8000000.0,
          1.6E7,
          3000000.0,
          2800000.0,
          3500000.0,
          2000000.0,
          2280000.0,
          730000.0,
          1.5E7,
          2500000.0,
          2.2E7,
          1.7E7,
          3000000.0,
          1.2E7,
          1.44E7,
          1900000.0,
          6000000.0,
          1746964.0,
          1.6E7,
          1.0E7,
          2500000.0,
          6000000.0,
          1800000.0,
          1800000.0,
          2800000.0,
          1000000.0,
          3000000.0,
          2.7E7,
          3.0E7,
          1.2E7,
          1.8E7,
          2.4E7,
          1.3E7,
          6000000.0,
          1.32E7,
          1.2E7,
          2.0E7,
          2.05E7,
          3000000.0,
          6000000.0,
          2.3E7,
          1.4E7,
          8000000.0,
          2.5E7,
          1.5E7,
          3.0E7,
          3.5E7,
          3000000.0,
          2.8E7,
          2.0E7,
          3.2E7,
          1.0E7,
          3.5E7,
          1.65E7,
          2000000.0,
          500000.0,
          900000.0,
          2.8E7,
          2.0E7,
          1.5E7,
          3000000.0,
          1.9E7,
          1.6E7,
          3.0E7,
          2.0E7,
          2.7E7,
          5000000.0,
          1.9E7,
          1.8E7,
          250000.0,
          1.7E7,
          1.2E7,
          1500000.0,
          3.6E7,
          3.7E7,
          1.0E7,
          2.4E7,
          1.5E7,
          1.2E7,
          1.1E7,
          6000000.0,
          3.0E7,
          2.0E7,
          2.0E7,
          3.5E7,
          1.0E7,
          3.5E7,
          5000000.0,
          1.2E7,
          2.8E7,
          1.5E7,
          2.5E7,
          1.5E7,
          2.7E7,
          8000000.0,
          3000000.0,
          2.5E7,
          3.0E7,
          1000000.0,
          2.8E7,
          1.8E7,
          1000000.0,
          2.7E7,
          2.0E7,
          1000000.0,
          1.5E7,
          2.4E7,
          1.0E7,
          2.5E7,
          5000000.0,
          1.0E7,
          1.2716953E7,
          3.5E7,
          1.3E7,
          1.3E7,
          3.0E7,
          1.85E7,
          5000000.0,
          1.0E7,
          180000.0,
          1500000.0,
          60000.0,
          379000.0,
          700000.0,
          1180280.0,
          1950000.0,
          1644736.0,
          1250000.0,
          1344000.0,
          1250000.0,
          2100000.0,
          2000000.0,
          4000000.0,
          1650000.0,
          910000.0,
          343000.0,
          6000000.0,
          1000000.0,
          3900000.0,
          2000000.0,
          1.0E7,
          3600000.0,
          1800000.0,
          1000000.0,
          8000000.0,
          5500000.0,
          2.3E7,
          7500000.0,
          1500000.0,
          2.5E7,
          1000000.0,
          3000000.0,
          5000000.0,
          7000000.0,
          8000000.0,
          1.1E7,
          550000.0,
          1250000.0,
          4000000.0,
          2600000.0,
          2200000.0,
          3000000.0,
          2800000.0,
          5000000.0,
          300000.0,
          2500000.0,
          2500000.0,
          5000000.0,
          5000000.0,
          1000000.0,
          9000000.0,
          1.3E7,
          1.3E7,
          1.07E7,
          1.9E7,
          1.05E7,
          1.4E7,
          1.5E7,
          1.1E7,
          1.9E7,
          5000000.0,
          2000000.0,
          1.4E7,
          7000000.0,
          1227401.0,
          1.5E7,
          1.0E7,
          2.5E7,
          2.0E7,
          5000000.0,
          1.4E7,
          2.8E7,
          160000.0,
          1.5E7,
          1.1E7,
          1.8E7,
          6000000.0,
          4000000.0,
          1.0E7,
          4000000.0,
          4000000.0,
          1200000.0,
          2.5E7,
          6000000.0,
          1.9E7,
          8000000.0,
          1.7E7,
          1.7E7,
          1.05E7,
          1.0E7,
          4000000.0,
          1.0E7,
          1.0E7,
          5000000.0,
          800000.0,
          1.38E7,
          2.6E7,
          300000.0,
          7200000.0,
          7500000.0,
          1.8E7,
          1000000.0,
          7000000.0,
          1.5E7,
          9000000.0,
          2.5E7,
          6500000.0,
          5000000.0,
          2.0E7,
          3200000.0,
          2.7E7,
          3.2E7,
          5000000.0,
          1.5E7,
          1500000.0,
          2000000.0,
          3500000.0,
          4000000.0,
          3000000.0,
          2135161.0,
          1200000.0,
          2500000.0,
          1200000.0,
          1200000.0,
          1.3E7,
          250.0,
          2.5E7,
          1103000.0,
          1.2E7,
          250000.0,
          2.0E7,
          2.5E7,
          2.0E7,
          2.8E7,
          1.0E7,
          800000.0,
          2000000.0,
          1.4E7,
          2.5E7,
          1.5E7,
          8000000.0,
          1.0E7,
          2.0E7,
          1.7E7,
          1100000.0,
          1.1E7,
          1.1E7,
          2.8E7,
          5000000.0,
          2.5E7,
          3000000.0,
          3500000.0,
          2.0E7,
          1.2E7,
          1.0E7,
          3.0E7,
          9000000.0,
          4000000.0,
          2900000.0,
          12000.0,
          2000000.0,
          672000.0,
          2.3E7,
          1.0E7,
          5000000.0,
          8000000.0,
          8045760.0,
          1.79E7,
          1.0E7,
          4500000.0,
          1.5E7,
          3500000.0,
          3.0E7,
          9000000.0,
          1.5E7,
          2.5E7,
          1.0E7,
          1.75E7,
          7000000.0,
          1.5E7,
          8000000.0,
          113.0,
          2.7E7,
          1.5E7,
          1.2E7,
          6000000.0,
          2.0E7,
          700000.0,
          1.5E7,
          1.2E7,
          85000.0,
          4700000.0,
          600000.0,
          2.0E7,
          1.8E7,
          1.38E7,
          1.5E7,
          1.0E7,
          7300.0,
          150000.0,
          6000000.0,
          3.5E7,
          3000000.0,
          1.0E7,
          6000000.0,
          1.15E7,
          8000000.0,
          900000.0,
          1.0E7,
          3000000.0,
          6000000.0,
          1.4E7,
          9000000.0,
          5800000.0,
          3000000.0,
          1700000.0,
          1700000.0,
          2500000.0,
          7000000.0,
          1.4E7,
          2.5E7,
          1.05E7,
          1350000.0,
          2.1E7,
          1.3E7,
          1.2E7,
          2.5E7,
          4550000.0,
          1.6E7,
          6000.0,
          6500000.0,
          2.5E7,
          1.0E7,
          1.0E7,
          2900000.0,
          1.0,
          1.5E7,
          2.5E7,
          1453000.0,
          3000000.0,
          786675.0,
          1500000.0,
          1.7E7,
          355000.0,
          291000.0,
          1200000.0,
          5000000.0,
          2000000.0,
          1.6E7,
          8000000.0,
          1.8E7,
          1.4E7,
          1530000.0,
          1.25E7,
          3.1E7,
          2.4E7,
          60000.0,
          2.7E7,
          6000000.0,
          1.0E7,
          450000.0,
          1.2E7,
          2000000.0,
          1.1E7,
          1884000.0,
          2.5E7,
          1.5E7,
          2000000.0,
          2.45E7,
          2.5E7,
          1.3E7,
          2.5E7,
          6500000.0,
          6400000.0,
          350000.0,
          200000.0,
          6800000.0,
          3500000.0,
          2.2E7,
          1.5E7,
          1.8E7,
          1.3E7,
          7000000.0,
          7000000.0,
          2.9E7,
          1.2E7,
          6000000.0,
          1200000.0,
          1.75E7,
          560000.0,
          1200000.0,
          9000000.0,
          2000000.0,
          1.1E7,
          2.8E7,
          5000000.0,
          2600000.0,
          8000000.0,
          2.8E7,
          1700000.0,
          1.5E7,
          7000000.0,
          300000.0,
          5000000.0,
          2000000.0,
          1.0E7,
          6200000.0,
          6000000.0,
          6000000.0,
          5500000.0,
          1800000.0,
          3.2E7,
          1250000.0,
          6000000.0,
          4000000.0,
          5400000.0,
          2500000.0,
          2000000.0,
          950000.0,
          4500000.0,
          200000.0,
          3000000.0,
          1.7E7,
          463455.0,
          700000.0,
          5000000.0,
          1.9E7,
          9000000.0,
          1.3E7,
          7000000.0,
          5500000.0,
          1.9E7,
          2.7E7,
          1.3E7,
          2000000.0,
          8000000.0,
          3500000.0,
          900000.0,
          2500000.0,
          2.5E7,
          483103.0,
          5000000.0,
          2.27E7,
          1.5E7,
          1.2E7,
          1.5E7,
          2.0E7,
          2.3E7,
          1.0E7,
          1.0E7,
          2.5485E7,
          700000.0,
          1.6E7,
          8272296.0,
          133000.0,
          4000000.0,
          2.8E7,
          2.3E7,
          3.0E7,
          2.4E7,
          1.8E7,
          3.8E7,
          312000.0,
          2.3E7,
          1.9E7,
          1.7E7,
          2.4E7,
          1300000.0,
          1.4E7,
          1.0E7,
          1.1E7,
          25.0,
          2.4E7,
          24554.0,
          1.2E7,
          1.0E7,
          4500000.0,
          1.5E7,
          6000000.0,
          250000.0,
          3.6E7,
          3.4E7,
          1.17E7,
          3.2E7,
          2.0E7,
          1.0E7,
          7000000.0,
          220000.0,
          1000000.0,
          1.6E7,
          6000000.0,
          1.0E7,
          3.0E7,
          200000.0,
          2.6E7,
          2.3E7,
          1500000.0,
          250000.0,
          6000000.0,
          1.6E7,
          2.5E7,
          2053648.0,
          1.2E7,
          24500.0,
          2300000.0,
          9000000.0,
          7000000.0,
          1800000.0,
          777000.0,
          1.8E7,
          1.2E7,
          1805000.0,
          2.3E7,
          1.6E7,
          2700000.0,
          6500000.0,
          1.0E7,
          1.4E7,
          3000000.0,
          2000000.0,
          9000000.0,
          5000000.0,
          927262.0,
          6000000.0,
          1.35E7,
          2.5E7,
          2.1E7,
          4200000.0,
          8700000.0,
          1500000.0,
          7000000.0,
          1.3E7,
          4000000.0,
          2.5E7,
          1.5E7,
          8500000.0,
          1.0,
          2500000.0,
          2000000.0,
          2.5E7,
          6500000.0,
          2.0E7,
          6000000.0,
          3.0E7,
          1.5E7,
          4653000.0,
          2300000.0,
          2.0E7,
          1.3E7,
          3800000.0,
          1.5E7,
          3700000.0,
          1.0E7,
          3.1E7,
          2.4E7,
          2.4E7,
          5000000.0,
          7000000.0,
          6000000.0,
          1.8E7,
          3.0E7,
          7000000.0,
          3.0E7,
          3800000.0,
          6500000.0,
          6000000.0,
          1.4E7,
          2.0E7,
          6000000.0,
          2.0E7,
          1.5E7,
          7000000.0,
          2500000.0,
          1000000.0,
          600000.0,
          160000.0,
          1.8E7,
          2000000.0,
          6000000.0,
          1.6E7,
          2500000.0,
          2000000.0,
          923000.0,
          6500000.0,
          1.4E7,
          7000000.0,
          4800000.0,
          6000000.0,
          2.5E7,
          2600000.0,
          10000.0,
          600000.0,
          2.6E7,
          4000000.0,
          6500000.0,
          9000000.0,
          2.7E7,
          2.2E7,
          1.6E7,
          400000.0,
          2000000.0,
          1.2305523E7,
          1.7E7,
          1.7E7,
          1.5E7,
          7000000.0,
          1.3E7,
          4000000.0,
          1600000.0,
          5500000.0,
          3000000.0,
          1821052.0,
          3000000.0,
          2.5E7,
          1.6E7,
          3000000.0,
          1500000.0,
          2410000.0,
          2500000.0,
          2142000.0,
          1978000.0,
          1200000.0,
          8200000.0,
          6000000.0,
          1.5E7,
          3500000.0,
          2000000.0,
          3000000.0,
          1.0E7,
          6000000.0,
          4000000.0,
          3000000.0,
          3500000.0,
          3.0E7,
          1000000.0,
          1.2E7,
          2.3E7,
          3100000.0,
          3.5E7,
          2.8E7,
          2.5E7,
          8500000.0,
          2.5E7,
          1.4E7,
          1.28E7,
          1000000.0,
          1000000.0,
          3000000.0,
          5000000.0,
          1580000.0,
          5115000.0,
          4500000.0,
          2.4E7,
          1000000.0,
          5000000.0,
          2.2E7,
          3.2E7,
          7200000.0,
          3.5E7,
          30.0,
          1.35E7,
          1.7E7,
          3.5E7,
          2.5E7,
          6000000.0,
          1.5E7,
          1.4E7,
          4000000.0,
          2.0E7,
          1.0E7,
          1.5E7,
          1.3E7,
          6.0,
          1.0E7,
          1.0E7,
          2.6E7,
          2.8E7,
          8000000.0,
          1.0E7,
          1.2E7,
          6500000.0,
          3.0E7,
          1.3E7,
          1000000.0,
          3.5E7,
          1.1E7,
          3000000.0,
          1800000.0,
          1.0E7,
          3.5E7,
          3000000.0,
          350000.0,
          2.3E7,
          1.0,
          8500000.0,
          6000000.0,
          2.2E7,
          1.2E7,
          1.4E7,
          2.2E7,
          1.0E7,
          1900000.0,
          2.0E7,
          3000000.0,
          2000000.0,
          4000000.0,
          1.5E7,
          2.3E7,
          7000000.0,
          3.1E7,
          1.5E7,
          7920000.0,
          2900000.0,
          1250000.0,
          9000000.0,
          1.1E7,
          2.1E7,
          2000000.0,
          1.6E7,
          1000000.0,
          1.77E7,
          2.115E7,
          2.5E7,
          3.1115E7,
          2.7E7,
          1.7E7,
          1.2E7,
          2200000.0,
          2.2E7,
          1.5E7,
          2000000.0,
          1.4E7,
          1.2E7,
          2.2E7,
          1.8E7,
          2.4E7,
          2.3E7,
          90000.0,
          2.1E7,
          1.6E7,
          1.3E7,
          2.5E7,
          1.8E7,
          2686000.0,
          270000.0,
          3200000.0,
          1.4E7,
          4000000.0,
          4500000.0,
          1.0E7,
          1.6E7,
          130000.0,
          1.8E7,
          5000000.0,
          7500000.0,
          4000000.0,
          4000000.0,
          2.0E7,
          1.9E7,
          8000000.0,
          3512454.0,
          2.0E7,
          6000000.0,
          2000000.0,
          4500000.0,
          6000000.0,
          2.0E7,
          2.4E7,
          9000000.0,
          2500000.0,
          1.23E7,
          8000000.0,
          2.0E7,
          1.2E7,
          8000000.0,
          2.9E7,
          6200000.0,
          4000000.0,
          3500000.0,
          7000000.0,
          1.6E7,
          4000000.0,
          1.5E7,
          3.1E7,
          1000000.0,
          5000000.0,
          1.0E7,
          3.0E7,
          2.25E7,
          500000.0,
          1.9E7,
          1.0E7,
          1.6E7,
          3.0E7,
          2.0E7,
          1.7E7,
          1500000.0,
          2.5E7,
          7000000.0,
          2.4E7,
          1.1E7,
          3000000.0,
          1.2E7,
          8000000.0,
          1.6E7,
          1.2E7,
          20000.0,
          400000.0,
          5000000.0,
          1.5E7,
          1.9E7,
          1.8E7,
          5000000.0,
          1.5E7,
          1.5E7,
          2000000.0,
          6000000.0,
          2.0E7,
          1.5E7,
          3.5E7,
          1500000.0,
          2.2E7,
          2.8E7,
          3.4E7,
          1.0E7,
          1900000.0,
          700000.0,
          3.0E7,
          3.2E7,
          2.2E7,
          1000000.0,
          9400000.0,
          725000.0,
          2900000.0,
          1.8E7,
          3.1E7,
          2.8E7,
          2.3E7,
          1.2E7,
          2.8E7,
          4500000.0,
          1.5E7,
          1.1E7,
          1.5E7,
          1.0E7,
          4000000.0,
          9000000.0,
          6000000.0,
          100000.0,
          7000000.0,
          6000000.0,
          2.4E7,
          4500000.0,
          1.4E7,
          2000000.0,
          810000.0,
          6500000.0,
          3.5E7,
          9000000.0,
          5500000.0,
          5000000.0,
          2.2E7,
          1.0E7,
          1.6E7,
          2.1E7,
          2.5E7,
          4500000.0,
          1.5E7,
          1.2E7,
          2.5E7,
          3000000.0,
          1.2E7,
          1.98E7,
          2.2E7,
          4000000.0,
          1.5E7,
          2.9E7,
          1.8E7,
          1.8E7,
          1200000.0,
          5500000.0,
          1.2E7,
          1.5E7,
          1.4E7,
          3500000.0,
          6000000.0,
          3.2E7,
          1.1E7,
          344.0,
          1.45E7,
          1.3E7,
          1.4E7,
          2.4E7,
          1.5E7,
          1.9E7,
          1.2E7,
          2.0E7,
          3000000.0,
          1.7E7,
          8000000.0,
          3.5E7,
          2.3E7,
          1202007.0,
          1.4E7,
          2000000.0,
          1.0E7,
          1000000.0,
          5000000.0,
          7.0,
          1.4E7,
          2.6E7,
          2.0E7,
          3000000.0,
          5000000.0,
          250000.0,
          1.1E7,
          7000000.0,
          6000000.0,
          1000000.0,
          1.1E7,
          1.8E7,
          120000.0,
          1.8E7,
          106000.0,
          9000000.0,
          7500000.0,
          1.4E7,
          860000.0,
          1500000.0,
          5.0,
          2.5E7,
          1.0E7,
          1934000.0,
          5860000.0,
          1.8E7,
          1600000.0,
          250000.0,
          1.0E7,
          1.9E7,
          100000.0,
          1.3E7,
          40000.0,
          1900000.0,
          150000.0,
          9000000.0,
          8000000.0,
          3000000.0,
          2.5E7,
          50000.0,
          2.5E7,
          1.2E7,
          2.9E7,
          2.0E7,
          1.5E7,
          8500000.0,
          1.4E7,
          1000000.0,
          1.7E7,
          8500000.0,
          1.2E7,
          2.1E7,
          9000000.0,
          2.4E7,
          230000.0,
          3000000.0,
          3.5E7,
          3.0E7,
          4000000.0,
          2.1E7,
          2500000.0,
          3.3E7,
          130000.0,
          8000000.0,
          1.5E7,
          1.5E7,
          4000000.0,
          2.5E7,
          1.0E7,
          2.5E7,
          28.0,
          7000000.0,
          3000000.0,
          3000000.0,
          3500000.0,
          2.2E7,
          2.0E7,
          2.0E7,
          1.2E7,
          1.0E7,
          1.8E7,
          3000000.0,
          3000000.0,
          300000.0,
          6500000.0,
          1.0E7,
          1.8E7,
          8500000.0,
          2.2E7,
          2800000.0,
          5000000.0,
          1.5E7,
          1.2E7,
          1.2E7,
          4000000.0,
          1.6E7,
          3.5E7,
          1.35E7,
          7500000.0,
          1.1E7,
          1750000.0,
          4100000.0,
          1.4E7,
          5000000.0,
          2.0E7,
          3.0E7,
          9285469.0,
          4000000.0,
          3500000.0,
          4000000.0,
          1.9E7,
          2.0E7,
          1.0E7,
          2.0E7,
          850000.0,
          2.0E7,
          1.5E7,
          1.25E7,
          6500000.0,
          3.0E7,
          1750000.0,
          130000.0,
          6000000.0,
          2.5E7,
          3.0E7,
          1.8E7,
          2.0E7,
          3300000.0,
          120000.0,
          2.4E7,
          2.6E7,
          500000.0,
          1.8E7,
          2.0E7,
          4520000.0,
          2700000.0,
          3500000.0,
          800000.0,
          6000000.0,
          1.5E7,
          2.4E7,
          2.5E7,
          2.0E7,
          3500159.0,
          5037000.0,
          1200000.0,
          6000000.0,
          8000000.0,
          2.0E7,
          4100000.0,
          2.9E7,
          800000.0,
          1.3E7,
          7500000.0,
          1.3E7,
          7000000.0,
          6000000.0,
          3.5866397E7,
          2200000.0,
          6500000.0,
          7000000.0,
          2.4E7,
          2.6E7,
          3000000.0,
          3.0E7,
          2500000.0,
          1.7E7,
          1000000.0,
          3.5E7,
          5300000.0,
          1.26E7,
          8000000.0,
          3.5E7,
          9000000.0,
          2.2E7,
          1.9E7,
          1.2E7,
          3.0E7,
          5000000.0,
          2500000.0,
          151000.0,
          3005000.0,
          7800000.0,
          1500000.0,
          4000000.0,
          3000000.0,
          1.0E7,
          2.6E7,
          2.2E7,
          2.0E7,
          2.8E7,
          658000.0,
          6000000.0,
          350000.0,
          4000000.0,
          8000000.0,
          777000.0,
          5000000.0,
          6000000.0,
          210000.0,
          1.1E7,
          6000000.0,
          1.0E7,
          2.0E7,
          1.7E7,
          3.5E7,
          5000000.0,
          1500000.0,
          2.9E7,
          4000000.0,
          1.2E7,
          3500000.0,
          2.4E7,
          9250000.0,
          3200000.0,
          1.5E7,
          2.2E7,
          1.8E7,
          4361898.0,
          8000000.0,
          5952000.0,
          5200000.0,
          3000000.0,
          118.0,
          8500000.0,
          8000000.0,
          1.5E7,
          6500000.0,
          3.0E7,
          1.8E7,
          7700000.0,
          1.9E7,
          9000000.0,
          1.0E7,
          2.5E7,
          1.14E7,
          8000000.0,
          2500000.0,
          1.3E7,
          1.8E7,
          5000000.0,
          1.05E7,
          500000.0,
          3500000.0,
          2.3E7,
          500000.0,
          5000000.0,
          7000000.0,
          9500000.0,
          7000000.0,
          1.7E7,
          1.2E7,
          3.2E7,
          3000000.0,
          6000000.0,
          300000.0,
          2.0E7,
          8000000.0,
          2.3E7,
          1.6E7,
          8500000.0,
          1.2E7,
          3900000.0,
          6400000.0,
          3.0E7,
          3500000.0,
          1.5E7,
          2.9E7,
          1250000.0,
          2.0E7,
          2.5E7,
          1.5E7,
          1.8E7,
          1.701E7,
          4500000.0,
          1000000.0,
          3.5E7,
          1.2E7,
          1.45E7,
          64000.0,
          9500000.0,
          2.4E7,
          864000.0,
          886000.0,
          2650000.0,
          100000.0,
          3000000.0,
          531374.0,
          5500000.0,
          439000.0,
          225000.0,
          8000000.0,
          1152000.0,
          1000000.0,
          2.0E7,
          3.5E7,
          900000.0,
          1.6E7,
          1.8E7,
          1.0E7,
          1.65E7,
          8000000.0,
          1.5E7,
          2.3E7,
          6500000.0,
          1.07E7,
          6000000.0,
          1.5E7,
          3.0E7,
          1.1E7,
          1.3E7,
          1.7E7,
          850000.0,
          1.8E7,
          1.8E7,
          2.8E7,
          1.5E7,
          70000.0,
          2000000.0,
          1100000.0,
          1.8E7,
          3.0E7,
          1300000.0,
          1135654.0,
          1.25E7,
          8500000.0,
          1.5E7,
          2.5E7,
          8500000.0,
          2.5E7,
          4800000.0,
          2.6E7,
          2.5E7,
          1.925E7,
          1.9E7,
          12.0,
          2.8E7,
          2.0E7,
          5000000.0,
          3.5E7,
          3000000.0,
          1.0E7,
          1.2E7,
          3.1E7,
          1.3E7,
          650000.0,
          5600000.0,
          4500000.0,
          2.0E7,
          3.3E7,
          6400000.0,
          2.5E7,
          2.8E7,
          1.7E7,
          6000000.0,
          800000.0,
          850000.0,
          9500000.0,
          350000.0,
          1.0E7,
          500000.0,
          1.2E7,
          1.2E7,
          5900000.0,
          134000.0,
          1000000.0,
          1070000.0,
          2.5E7,
          4000000.0,
          2.5E7,
          600000.0,
          4638783.0,
          3716946.0,
          7000000.0,
          3000000.0,
          1.1E7,
          1300000.0,
          2.2E7,
          8000000.0,
          4500000.0,
          2.5E7,
          210000.0,
          300000.0,
          3352254.0,
          500000.0,
          3500000.0,
          250000.0,
          3.4E7,
          1271000.0,
          950000.0,
          2090000.0,
          3.6E7,
          4200000.0,
          1114000.0,
          7200000.0,
          6000000.0,
          2000000.0,
          8000000.0,
          1.6E7,
          2500000.0,
          2.7E7,
          400000.0,
          2.7E7,
          1.2E7,
          802000.0,
          1.432E7,
          1.1E7,
          5000000.0,
          1000000.0,
          65000.0,
          360000.0,
          6000000.0,
          2300000.0,
          2.0E7,
          2000000.0,
          2.0E7,
          5000000.0,
          1.45E7,
          1880006.0,
          6000000.0,
          4000000.0,
          2700000.0,
          1.5E7,
          2700000.0,
          2.6E7,
          1.9E7,
          1.5E7,
          6500000.0,
          5000000.0,
          1455000.0,
          5000000.0,
          2.2E7,
          160000.0,
          2500000.0,
          3.5E7,
          9000000.0,
          2.0E7,
          3000000.0,
          1.9E7,
          2.0E7,
          2.7E7,
          2.3E7,
          1.6E7,
          2.0E7,
          3.0E7,
          1200000.0,
          2.5E7,
          3.0E7,
          3.1E7,
          1.5E7,
          4000000.0,
          2000000.0,
          6000000.0,
          1.5E7,
          2.5E7,
          7000.0,
          3.2E7,
          780000.0,
          3.0E7,
          218.0,
          1.0E7,
          1.6E7,
          5000000.0,
          1200000.0,
          1.2E7,
          2.5E7,
          7000000.0,
          5000000.0,
          2.7E7,
          900000.0,
          3000000.0,
          1.6E7,
          1.9885552E7,
          17311.0,
          245000.0,
          200000.0,
          243000.0,
          2000000.0,
          2627000.0,
          1243000.0,
          2500000.0,
          3700000.0,
          3768785.0,
          3500000.0,
          15000.0,
          1.9E7,
          800000.0,
          280379.0,
          3800000.0,
          5800000.0,
          747000.0,
          2500000.0,
          7000000.0,
          150000.0,
          2500000.0,
          6500000.0,
          3400000.0,
          2.2E7,
          9000000.0,
          48740.0,
          2.2E7,
          1.0E7,
          1.0E7,
          9000000.0,
          3400000.0,
          5000000.0,
          1.5E7,
          2.5E7,
          3000000.0,
          1300000.0,
          6900000.0,
          1.1E7,
          2500000.0,
          1.0E7,
          6000000.0,
          4000000.0,
          1.7E7,
          1.3E7,
          1.4E7,
          1.7E7,
          8000000.0,
          1.8E7,
          5000000.0,
          2.0E7,
          891000.0,
          5200000.0,
          1530000.0,
          1.2E7,
          2.5697387E7,
          2079000.0,
          4000000.0,
          1.2E7,
          5000000.0,
          8256269.0,
          3000000.0,
          2.9E7,
          1.2806E7,
          130000.0,
          6500000.0,
          500000.0,
          1.0E7,
          700000.0,
          8000000.0,
          350000.0,
          2600000.0,
          8700000.0,
          6000000.0,
          1.75E7,
          1.0E7,
          1500000.0,
          3950000.0,
          30.0,
          1400000.0,
          1200000.0,
          1.0E7,
          3.0E7,
          6000000.0,
          6000000.0,
          2.6E7,
          1.833975E7,
          3.0E7,
          2.0E7,
          2.5E7,
          2.0E7,
          1.5E7,
          3500000.0,
          500.0,
          2000000.0,
          1.4E7,
          4200000.0,
          3000000.0,
          2.0E7,
          3.5E7,
          1.2E7,
          1.3E7,
          7000000.0,
          2.5E7,
          3000000.0,
          5800000.0,
          1500000.0,
          2.5E7,
          3.0E7,
          2.8E7,
          1.5E7,
          2995000.0,
          1.9E7,
          4500000.0,
          9200000.0,
          3.0E7,
          6500000.0,
          1300000.0,
          1000000.0,
          2600000.0,
          3.0E7,
          2.5E7,
          2.5E7,
          2.5E7,
          2000000.0,
          8250000.0,
          1.5E7,
          1920000.0,
          2515000.0,
          8000000.0,
          3.0E7,
          300000.0,
          1.3E7,
          8000000.0,
          1500000.0,
          3.0E7,
          3.0E7,
          1.0E7,
          74050.0,
          7500000.0,
          2.2E7,
          2.6E7,
          2.6E7,
          1.32E7,
          3.5E7,
          3.0E7,
          9000000.0,
          2.5E7,
          2.0E7,
          1000000.0,
          7000000.0,
          3000000.0,
          3.0E7,
          1.9E7,
          3.2E7,
          2.5E7,
          7000000.0,
          4000000.0,
          1.5E7,
          3.0E7,
          2700000.0,
          1.7E7,
          1500000.0,
          3.5E7,
          1.4E7,
          3.5E7,
          7000000.0,
          2000000.0,
          1.8E7,
          1.0284523E7,
          2.0E7,
          4000000.0,
          2.4E7,
          1.42E7,
          1.7E7,
          2.2E7,
          2.2E7,
          1000000.0,
          1.4E7,
          1.5E7,
          1.5E7,
          1.0E7,
          1.2E7,
          1.5E7,
          1000000.0,
          169000.0,
          3.0E7,
          1.2E7,
          2.5E7,
          4800000.0,
          3.1E7,
          1.5E7,
          7500000.0,
          2.8E7,
          3.5E7,
          2.6E7,
          2.5E7,
          2.5E7,
          3000000.0,
          1100000.0,
          1.5E7,
          4750000.0,
          3.7665E7,
          3500000.0,
          2.0E7,
          1.7E7,
          6000000.0,
          3.0E7,
          2.8E7,
          2.0E7,
          6500000.0,
          1.3E7,
          3000000.0,
          1.2E7,
          2000000.0,
          1380000.0,
          1.5E7,
          2.5E7,
          2000000.0,
          3.0E7,
          2.7E7,
          1.2899867E7,
          8000000.0,
          9000000.0,
          475000.0,
          2.0E7,
          1.8E7,
          6500000.0,
          950000.0,
          8000000.0,
          1601792.0,
          1.7E7,
          558000.0,
          6000000.0,
          1.5E7,
          8000000.0,
          400000.0,
          9600000.0,
          1700000.0,
          2.5E7,
          5000000.0,
          1000000.0,
          1000000.0,
          8000000.0,
          1.1E7,
          2.5E7,
          1.2E7,
          3.3E7,
          4000000.0,
          3.0E7,
          2160000.0,
          1.8E7,
          750000.0,
          1.2E7,
          2.0E7,
          1.2E7,
          3.5E7,
          8000000.0,
          700000.0,
          1.2E7,
          662141.0,
          2.3E7,
          1.5E7,
          1.75E7,
          5800000.0,
          900000.0,
          6500000.0,
          2.0E7,
          2000000.0,
          3.0E7,
          3.5E7,
          6000000.0,
          1549000.0,
          3.0E7,
          76000.0,
          1.1E7,
          450000.0,
          1.9E7,
          2.0E7,
          1.2E7,
          1.2E7,
          2.0E7,
          2.0E7,
          2.0E7,
          1.3E7,
          2.0E7,
          2.6E7,
          11.0,
          100000.0,
          6000000.0,
          2000000.0,
          1.5E7,
          9500000.0,
          1.0E7,
          2000000.0,
          1200000.0,
          1.2E7,
          3.5E7,
          1.5E7,
          1.2E7,
          4000000.0,
          1.2E7,
          2000000.0,
          2.2E7,
          1.68E7,
          500000.0,
          2.1E7,
          4000000.0,
          1.5E7,
          2.1E7,
          3.2E7,
          1.9E7,
          9000000.0,
          2.0E7,
          1.3E7,
          3.0E7,
          1.0E7,
          100000.0,
          2000000.0,
          2.5E7,
          1.7E7,
          2.0E7,
          1.6E7,
          1.3E7,
          1.3E7,
          1.55E7,
          5000000.0,
          1.45E7,
          3700000.0,
          5000000.0,
          1.0E7,
          3.0E7,
          1.0E7,
          1.5E7,
          994000.0,
          1.2E7,
          818418.0,
          1.3E7,
          2000000.0,
          8.0,
          1.1E7,
          1.65E7,
          1.2E7,
          1.1E7,
          2.0E7,
          2.0E7,
          2.0E7,
          2.1E7,
          1.6E7,
          1.8E7,
          2.5E7,
          2.0E7,
          1.55E7,
          2.5E7,
          1.9E7,
          1.0E7,
          3.0E7,
          2.2E7,
          8000000.0,
          4200000.0,
          2380000.0,
          1.5E7,
          160000.0,
          4000000.0,
          2.0E7,
          9000000.0,
          3.0E7,
          2000000.0,
          1000000.0,
          1.02E7,
          8000000.0,
          2.5E7,
          16000.0,
          1.0E7,
          2000000.0,
          250000.0,
          9000000.0,
          2224000.0,
          1.6E7,
          2.5E7,
          9000000.0,
          1.7E7,
          1.2E7,
          2.8E7,
          4000000.0,
          2.0E7,
          1.65E7,
          6000000.0,
          2.5E7,
          2.0E7,
          1.5E7,
          2.0E7,
          1.5E7,
          852510.0,
          2000000.0,
          2.3E7,
          2200000.0,
          2.4E7,
          4000000.0,
          8000000.0,
          2.2E7,
          2.5E7,
          1.5E7,
          2.2E7,
          2.5E7,
          1.6E7,
          2.1E7,
          2.5E7,
          1.2E7,
          3.0E7,
          2.75E7,
          1.6E7,
          1.9E7,
          3.0E7,
          8000000.0,
          3800000.0,
          1.5E7,
          1.0E7,
          1.8E7,
          1.4E7,
          1000000.0,
          2.5E7,
          3.0,
          1.7E7,
          4000000.0,
          1.8E7,
          2.4E7,
          8000000.0,
          9100000.0,
          2.0E7,
          7500000.0,
          1.0E7,
          5000000.0,
          900000.0,
          1300000.0,
          2.0E7,
          2.5E7,
          3.5E7,
          1.5E7,
          2600000.0,
          1500000.0,
          2.0E7,
          3.5E7,
          3.0E7,
          1.2E7,
          50000.0,
          1.5E7,
          2000000.0,
          7000000.0,
          3.5E7,
          1.5E7,
          2.3E7,
          8376800.0,
          1.0E7,
          1000000.0,
          2.0E7,
          3.0E7,
          1.5E7,
          1.8E7,
          2000000.0,
          8000000.0,
          3500000.0,
          2.5E7,
          2000000.0,
          2500.0,
          2.0E7,
          2.4E7,
          300000.0,
          7000000.0,
          1.6E7,
          2.5E7,
          6000000.0,
          3.5E7,
          2.0E7,
          1.2E7,
          3.8E7,
          4000000.0,
          2.5E7,
          3.0E7,
          3500000.0,
          600000.0,
          7000000.0,
          5000000.0,
          5000000.0,
          9000000.0,
          5000000.0,
          5000000.0,
          500000.0,
          259000.0,
          103000.0,
          6000000.0,
          1.1E7,
          5200000.0,
          2.0E7,
          2.0E7,
          1.5E7,
          2.0E7,
          3.0E7,
          700000.0,
          2.1E7,
          1.5E7,
          5000000.0,
          1.5E7,
          2.7E7,
          2.7E7,
          1.3E7,
          8500000.0,
          8000000.0,
          2000000.0,
          4000000.0,
          2.5E7,
          1.5E7,
          3800000.0,
          2.5E7,
          2.2E7,
          7000000.0,
          1.6E7,
          3500000.0,
          79000.0,
          2.0E7,
          4002313.0,
          2.0E7,
          2.7E7,
          9000000.0,
          1.0E7,
          200000.0,
          2.4E7,
          2.51E7,
          2.0E7,
          1.1E7,
          2.0E7,
          7500000.0,
          1.2E7,
          3.0E7,
          1.8E7,
          2000000.0,
          2.5E7,
          3.2E7,
          2.8E7,
          6000000.0,
          1.08E7,
          1.9E7,
          6000000.0,
          2.0E7,
          2.0E7,
          1.25E7,
          3500000.0,
          500000.0,
          2.5E7,
          2.05E7,
          2.0E7,
          6000000.0,
          3000000.0,
          6000000.0,
          4000000.0,
          2.0E7,
          3.2E7,
          1.1715578E7,
          2.5E7,
          1.5E7,
          8000000.0,
          2600000.0,
          9750000.0,
          1.6E7,
          4000000.0,
          5000000.0,
          1.2E7,
          1500000.0,
          1.7E7,
          7275000.0,
          1.9E7,
          1.9E7,
          1.8E7,
          200000.0,
          8500000.0,
          1.3E7,
          5000000.0,
          1.15E7,
          280.0,
          9500000.0,
          2.0E7,
          2.0E7,
          5000000.0,
          3.5E7,
          1.8E7,
          1700000.0,
          4000000.0,
          1.5E7,
          2.5E7,
          2.0E7,
          1.5E7,
          3.0E7,
          2.0E7,
          1.1E7,
          5750000.0,
          1000000.0,
          8000000.0,
          800000.0,
          1000000.0,
          1.5E7,
          1.5E7,
          3000000.0,
          5000000.0,
          500000.0,
          7500000.0,
          3.65E7,
          66000.0,
          3.0E7,
          2.3E7,
          2.0E7,
          3400000.0,
          1.4E7,
          2.0E7,
          2.0E7,
          250000.0,
          2.0E7,
          1.8E7,
          1000000.0,
          1.5E7,
          230000.0,
          1.2E7,
          1.5E7,
          1.7E7,
          1.5E7,
          855000.0,
          700000.0,
          2000000.0,
          3.0E7,
          3.3E7,
          2.4E7,
          1.6E7,
          2.2E7,
          8000000.0,
          88000.0,
          4000000.0,
          1.8E7,
          8500000.0,
          15000.0,
          1.0E7,
          2.0E7,
          75.0,
          7000000.0,
          6000000.0,
          1.5E7,
          1.85E7,
          2.36E7,
          1.15E7,
          1.25E7,
          7500000.0,
          970000.0,
          1.5E7,
          2300000.0,
          1.47E7,
          590235.0,
          1.1E7,
          8000000.0,
          2900000.0,
          250000.0,
          8.0,
          6000000.0,
          2.8E7,
          9000000.0,
          3.0E7,
          450.0,
          1.0E7,
          1.0E7,
          2.5E7,
          6500000.0,
          1089360.0,
          5700000.0,
          2.6E7,
          2500000.0,
          2.5E7,
          3600000.0,
          2.0E7,
          1.2E7,
          15000.0,
          7000000.0,
          4700000.0,
          2.5E7,
          4000000.0,
          1500000.0,
          1400000.0,
          2.0E7,
          1.6E7,
          1.9E7,
          4000000.0,
          2.0E7,
          5000000.0,
          425000.0,
          1.5E7,
          9000000.0,
          2.6E7,
          1500000.0,
          250000.0,
          3.1E7,
          1.8E7,
          1.3E7,
          3000000.0,
          10000.0,
          1.2E7,
          3.0E7,
          2.8E7,
          7000000.0,
          1.4E7,
          1.5E7,
          2.0E7,
          2.5E7,
          5600000.0,
          1.2E7,
          1.9E7,
          1.7E7,
          2.0E7,
          7300000.0,
          1.6E7,
          1.4E7,
          9000000.0,
          3000000.0,
          2600000.0,
          5000000.0,
          3.2E7,
          2.7E7,
          1.5E7,
          373000.0,
          5000000.0,
          1.4E7,
          3.3E7,
          3500000.0,
          2.8E7,
          4500000.0,
          1.0E7,
          5500000.0,
          4.0,
          2.1E7,
          5641880.0,
          1.5E7,
          1.2E7,
          2.5E7,
          1.0E7,
          7000000.0,
          967686.0,
          3.5E7,
          800000.0,
          100000.0,
          3500000.0,
          1987650.0,
          9000000.0,
          2000000.0,
          1.5E7,
          1.3E7,
          1.5E7,
          3500000.0,
          4500000.0,
          1.2902809E7,
          322000.0,
          5000000.0,
          1.2E7,
          4500000.0,
          2.4E7,
          2.5E7,
          1.0E7,
          5000000.0,
          3.0E7,
          823258.0,
          1800000.0,
          2.0E7,
          1.9E7,
          1000000.0,
          2.0E7,
          3.2E7,
          2.0E7,
          8000000.0,
          30000.0,
          1.4E7,
          8000000.0,
          3800000.0,
          1.0,
          2.0E7,
          1.0E7,
          2.0E7,
          30000.0,
          2.2E7,
          2000000.0,
          500000.0,
          1.25E7,
          4000000.0,
          7.0,
          1.5E7,
          1.8E7,
          2270000.0,
          500000.0,
          2.2E7,
          2.0E7,
          2.5E7,
          1.2E7,
          8700000.0,
          4000000.0,
          3000000.0,
          2.0E7,
          1.8E7,
          2.2E7,
          3.0E7,
          8000000.0,
          1.8E7,
          2.5E7,
          4500000.0,
          7000000.0,
          1.25E7,
          2.5E7,
          1.0E7,
          1.7E7,
          65000.0,
          2500000.0,
          2.7E7,
          8000000.0,
          3.0E7,
          1.5E7,
          2.4E7,
          5000000.0,
          7000000.0,
          2.5E7,
          5000000.0,
          1500000.0,
          7000000.0,
          3.0E7,
          9100000.0,
          1.1E7,
          1119000.0,
          2000000.0,
          1.3E7,
          93.0,
          1.5E7,
          1.0E7,
          1.0E7,
          6000000.0,
          1.9E7,
          2.5E7,
          1.04E7,
          592.0,
          1.0E7,
          1.5E7,
          2500000.0,
          3500000.0,
          8000000.0,
          6000000.0,
          1500000.0,
          3000000.0,
          1.0831173E7,
          6500000.0,
          3.0,
          2.1E7,
          1.2E7,
          1.9E7,
          6000000.0,
          3.0E7,
          1500000.0,
          3000000.0,
          1.4734E7,
          7400000.0,
          1.5E7,
          4000000.0,
          3900000.0,
          6800000.0,
          1.8E7,
          2500000.0,
          2.1E7,
          3.2E7,
          2000000.0,
          4317946.0,
          1.6E7,
          9500000.0,
          2000000.0,
          3906840.0,
          1.4350531E7,
          5000000.0,
          3200000.0,
          2.0E7,
          3.0E7,
          2.0E7,
          3.2E7,
          337.0,
          1.0E7,
          4090000.0,
          2.0E7,
          1.5E7,
          134005.0,
          1.5E7,
          6000000.0,
          3.0E7,
          410000.0,
          2.0E7,
          2.0E7,
          1.0E7,
          1.5774948E7,
          1.0E7,
          9000000.0,
          3837625.0,
          2.5E7,
          2.8E7,
          9000000.0,
          2.5E7,
          1.9E7,
          7000000.0,
          2.7E7,
          784170.0,
          2.5E7,
          1.7E7,
          100000.0,
          7000000.0,
          650000.0,
          2.0E7,
          3000000.0,
          1.3E7,
          8000000.0,
          4000000.0,
          1.0E7,
          2.4E7,
          2.8E7,
          2.5E7,
          8000000.0,
          1.5E7,
          2.5E7,
          1.25E7,
          500000.0,
          6250000.0,
          17000.0,
          8000000.0,
          1.5E7,
          2.64E7,
          5000000.0,
          5000000.0,
          4000000.0,
          2.4E7,
          3.5E7,
          7000000.0,
          1.4E7,
          2.5E7,
          3500000.0,
          5000000.0,
          2.5E7,
          6500000.0,
          2.0E7,
          1.2E7,
          3.0E7,
          3.0E7,
          1.7E7,
          2000000.0,
          3.6E7,
          1.91E7,
          2.0E7,
          4000000.0,
          2.9E7,
          8000000.0,
          2.0E7,
          250000.0,
          6400000.0,
          8000.0,
          3062000.0,
          1.05E7,
          1.5E7,
          1.0E7,
          2.5E7,
          1.2E7,
          1.25E7,
          5000000.0,
          2361000.0,
          45202.0,
          7700000.0,
          1.2E7,
          3.0E7,
          8000000.0,
          1.0E7,
          1000000.0,
          2.5E7,
          1.3E7,
          3000000.0,
          2.5E7,
          2.3E7,
          5000000.0,
          1.7E7,
          1.5E7,
          750000.0,
          5000000.0,
          1.3E7,
          1.5E7,
          1.7E7,
          1.1E7,
          250000.0,
          850000.0,
          2000000.0,
          5650000.0,
          2.3E7,
          4000000.0,
          1000000.0,
          1.2E7,
          1.2E7,
          4798235.0,
          1.0E7,
          1.0E7,
          2.0E7,
          4000000.0,
          1.2E7,
          5000000.0,
          7500000.0,
          1100000.0,
          3.0E7,
          930000.0,
          2000000.0,
          3.0E7,
          2.6E7,
          1.0E7,
          3.0E7,
          1.2E7,
          2.5E7,
          6400000.0,
          3.0E7,
          6600000.0,
          1.2E7,
          5000000.0,
          1.0E7,
          3.5E7,
          1.6E7,
          1200000.0,
          2.0E7,
          1.2468389E7,
          2.05E7,
          1.4E7,
          750000.0,
          125000.0,
          9000000.0,
          1.7E7,
          4600000.0,
          1.2E7,
          1.0E7,
          7000000.0,
          2.5E7,
          1800000.0,
          1.6E7,
          8000000.0,
          1.0E7,
          1.0,
          2.2E7,
          8000000.0,
          2000000.0,
          3.5E7,
          2.6E7,
          5000000.0,
          3000000.0,
          1.4E7,
          2.5E7,
          1.7E7,
          3000000.0,
          6000000.0,
          1.7E7,
          2.0E7,
          3.0E7,
          2500000.0,
          3.2E7,
          1.2E7,
          7000000.0,
          1.3E7,
          3800000.0,
          250000.0,
          2000000.0,
          1.4E7,
          1.4E7,
          1.25E7,
          8000000.0,
          6900000.0,
          2500000.0,
          9500000.0,
          947000.0,
          1.54E7,
          1.2E7,
          3000000.0,
          1.5E7,
          3.0E7,
          1400000.0,
          5000000.0,
          2.0E7,
          2500000.0,
          1.5E7,
          1000000.0,
          500000.0,
          1.7E7,
          1.5E7,
          2500000.0,
          3.5E7,
          8900000.0,
          5000000.0,
          1.2E7,
          1.0E7,
          3.0E7,
          2.635E7,
          1.3E7,
          500000.0,
          4437508.0,
          2.0E7,
          2.0E7,
          1.1E7,
          5773100.0,
          2.5E7,
          1.5E7,
          3730500.0,
          2840000.0,
          2.0E7,
          1.2E7,
          2.0E7,
          2500000.0,
          1.5E7,
          100000.0,
          6300000.0,
          3550000.0,
          6000000.0,
          1.34E7,
          6500000.0,
          900000.0,
          3.0E7,
          1.3E7,
          2.8E7,
          4000000.0,
          1000000.0,
          1.15E7,
          3000000.0,
          3.5E7,
          3500000.0,
          300000.0,
          5000000.0,
          1.2E7,
          1.0E7,
          225000.0,
          3.0E7,
          5000000.0,
          5000000.0,
          1.3E7,
          1.5E7,
          6000000.0,
          1.3E7,
          3900000.0,
          1.7E7,
          2.0E7,
          8500000.0,
          1200000.0,
          2.5E7,
          5500000.0,
          1.0E7,
          2.0E7,
          2.5E7,
          1200000.0,
          3860000.0,
          6200000.0,
          1.0E7,
          180000.0,
          2500000.0,
          4800000.0,
          1.1E7,
          31192.0,
          1500000.0,
          2.3E7,
          2000000.0,
          1.0E7,
          1.0E7,
          500000.0,
          4600000.0,
          3.5E7,
          3000000.0,
          1.5E7,
          6000000.0,
          1.35E7,
          6000000.0,
          2.0E7,
          2.0E7,
          2500000.0,
          4600000.0,
          2000000.0,
          2200000.0,
          1.8E7,
          1.24E7,
          250000.0,
          4000000.0,
          5200000.0,
          2.5E7,
          2.8E7,
          7000000.0,
          3.5E7,
          1.2E7,
          2.5E7,
          1000000.0,
          1.2E7,
          1.8E7,
          2.722E7,
          1.1E7,
          50.0,
          1.6E7,
          1.6E7,
          5500000.0,
          1.8E7,
          1.1E7,
          2.2E7,
          4900000.0,
          3.0E7,
          1500000.0,
          5500000.0,
          2.0E7,
          1.1E7,
          1.2E7,
          1.8E7,
          7100000.0,
          3.0E7,
          4300000.0,
          1.0E7,
          1052753.0,
          1.2E7,
          5000000.0,
          1.5E7,
          8500000.0,
          100000.0,
          3.0E7,
          2.8E7,
          2.5E7,
          2.0E7,
          9000000.0,
          1.5E7,
          5000000.0,
          103000.0,
          1.2E7,
          1.7E7,
          2159280.0,
          2.6E7,
          1.3E7,
          1.1E7,
          2.2E7,
          3.5E7,
          2.5E7,
          110000.0,
          7000000.0,
          2.3E7,
          5000000.0,
          3.0E7,
          1.0,
          4620000.0,
          1.4E7,
          3.2E7,
          7200000.0,
          1800000.0,
          1500000.0,
          5000000.0,
          1000000.0,
          1.2E7,
          2300000.0,
          2.2E7,
          1.8E7,
          1.5E7,
          7000000.0,
          1.0E7,
          2000000.0,
          3500000.0,
          7700000.0,
          3000000.0,
          1.2516654E7,
          5000000.0,
          1.8E7,
          3.3E7,
          3.5E7,
          8500000.0,
          2.0E7,
          4000000.0,
          2.0E7,
          1.25E7,
          8000000.0,
          2.8E7,
          1.33E7,
          6000000.0,
          6000000.0,
          9500000.0,
          2.2E7,
          3.0E7,
          290000.0,
          5000000.0,
          2.55E7,
          1500000.0,
          200000.0,
          2.5E7,
          4500000.0,
          5000000.0,
          1.7E7,
          3.3E7,
          1.2E7,
          2.8E7,
          2000000.0,
          750000.0,
          1.09E7,
          1.6E7,
          1400000.0,
          5000000.0,
          1.5E7,
          1.1E7,
          318000.0,
          8000000.0,
          2.5E7,
          1.27E7,
          1.75E7,
          1.97E7,
          3512454.0,
          4357373.0,
          500000.0,
          6000000.0,
          1.8E7,
          4141459.0,
          4000000.0,
          2.4E7,
          5900000.0,
          2.0E7,
          2000000.0,
          2200000.0,
          3300000.0,
          2900000.0,
          1.8E7,
          9000000.0,
          4000000.0,
          1.5E7,
          5500000.0,
          1.3E7,
          2400000.0,
          1.225E7,
          1.68E7,
          2.2E7,
          2.5E7,
          1.7E7,
          4000000.0,
          15.0,
          1.1E7,
          7000000.0,
          6500000.0,
          1.2E7,
          5000000.0,
          5000000.0,
          2.2E7,
          5000000.0,
          2.8E7,
          1000000.0,
          1.26E7,
          1.32E7,
          1000000.0,
          2.8E7,
          5000000.0,
          5000000.0,
          1.6E7,
          1.5E7,
          1.98E7,
          2800000.0,
          2.5E7,
          5500000.0,
          2.6E7,
          2.0E7,
          1.05E7,
          1.3E7,
          2.8E7,
          1.6E7,
          5000000.0,
          8500000.0,
          9000000.0,
          4000000.0,
          1.5E7,
          1.0E7,
          3600000.0,
          2.4E7,
          8000000.0,
          22361.0,
          3.0E7,
          2.0E7,
          5000000.0,
          1.5E7,
          560000.0,
          1.5E7,
          1300000.0,
          6500000.0,
          2.0E7,
          7000000.0,
          800000.0,
          79000.0,
          9000000.0,
          2.25E7,
          5000000.0,
          6600000.0,
          7000000.0,
          5000000.0,
          4000000.0,
          2.0E7,
          400000.0,
          2.0E7,
          1000000.0,
          4900000.0,
          2.0E7,
          1.5E7,
          1.0E7,
          2.5E7,
          2500000.0,
          1.4E7,
          1.3E7,
          750000.0,
          7500000.0,
          1000000.0,
          2.6E7,
          1.3E7,
          10.0,
          1.05E7,
          3000000.0,
          2000000.0,
          9000000.0,
          9000000.0,
          600000.0,
          5000000.0,
          500000.0,
          7000000.0,
          9272437.0,
          1.0E7,
          1000000.0,
          2.7563396E7,
          750000.0,
          7000000.0,
          7000000.0,
          4000000.0,
          2.5E7,
          1500000.0,
          8500000.0,
          10.0,
          1.2E7,
          1.1E7,
          8000000.0,
          8000000.0,
          8000000.0,
          3500000.0,
          447524.0,
          2000000.0,
          700000.0,
          5500000.0,
          1.4E7,
          2000000.0,
          1000000.0,
          1816720.0,
          1.2E7,
          2.3E7,
          4000000.0,
          1.4E7,
          3000000.0,
          1.0E7,
          1.1E7,
          3300000.0,
          3.5E7,
          2800000.0,
          6400000.0,
          1.0E7,
          1.5E7,
          8500000.0,
          4000000.0,
          1.8E7,
          1.7E7,
          1000000.0,
          7000000.0,
          1950000.0,
          2.5E7,
          6700000.0,
          1.1E7,
          2700000.0,
          2.0E7,
          2.5E7,
          5000000.0,
          500000.0,
          9500000.0,
          8000000.0,
          2.5E7,
          1.0E7,
          600000.0,
          1.0E7,
          6000000.0,
          3.0,
          3500000.0,
          1.0E7,
          1.8E7,
          5500000.0,
          1.18E7,
          1.0E7,
          4000000.0,
          4000000.0,
          5000000.0,
          3300000.0,
          336029.0,
          3700000.0,
          1.336E7,
          3000000.0,
          2800000.0,
          1900000.0,
          1100000.0,
          5579750.0,
          6000000.0,
          5510000.0,
          3.0E7,
          6000000.0,
          400000.0,
          2.0E7,
          5400000.0,
          1.1E7,
          1.1E7,
          2.0E7,
          2.6E7,
          3.15E7,
          1.5E7,
          1823152.0,
          240000.0,
          1.092E7,
          2745000.0,
          445000.0,
          9000000.0,
          1500000.0,
          1.7E7,
          1.1E7,
          6900000.0,
          1.95E7,
          1.1E7,
          1.4E7,
          3000000.0,
          5000000.0,
          3.0E7,
          1.5E7,
          4000000.0,
          2500000.0,
          9700000.0,
          3500000.0,
          1.48E7,
          5000000.0,
          1.8E7,
          3250000.0,
          5000000.0,
          6000000.0,
          6843500.0,
          1.1E7,
          5940000.0,
          3300000.0,
          100000.0,
          2.0E7,
          1300000.0,
          310000.0,
          1.4E7,
          1.1E7,
          3.0E7,
          3.0E7,
          8000000.0,
          1.4E7,
          1.3E7,
          3000000.0,
          6000000.0,
          5000000.0,
          3500000.0,
          5000000.0,
          8000000.0,
          5000000.0,
          1.95E7,
          1.0E7,
          2.8E7,
          5000000.0,
          100000.0,
          2.5E7,
          500000.0,
          50000.0,
          11180.0,
          1.6E7,
          1.5E7,
          1.4E7,
          6000000.0,
          3000000.0,
          2.5E7,
          1.5E7,
          5000000.0,
          6000000.0,
          6000000.0,
          1556288.0,
          2.5E7,
          2.5496629E7,
          1.256E7,
          2500000.0,
          2000000.0,
          2200000.0,
          130000.0,
          1.0E7,
          2.8E7,
          1.1097E7,
          6400000.0,
          1.5E7,
          2.5E7,
          2.0E7,
          1000000.0,
          1.9E7,
          1.0E7,
          2.0E7,
          4100000.0,
          7400000.0,
          220000.0,
          2000000.0,
          3000000.0,
          18000.0,
          500000.0,
          7000000.0,
          1.0E7,
          1.8E7,
          2000000.0,
          2.2E7,
          3196621.0,
          5000000.0,
          2.6E7,
          1.2E7,
          3.0E7,
          200000.0,
          1.2E7,
          1.5E7,
          2.0E7,
          1379375.0,
          1.0E7,
          5000000.0,
          2.5E7,
          1.193E7,
          1.5E7,
          1.2E7,
          5000000.0,
          390000.0,
          380000.0,
          1300000.0,
          1000000.0,
          20.0,
          25000.0,
          1.1E7,
          8900000.0,
          1.7E7,
          2.34E7,
          3000000.0,
          500000.0,
          1500000.0,
          224056.0,
          6200000.0,
          3800000.0,
          5904067.0,
          1.0E7,
          9600000.0,
          1.0,
          1300000.0,
          1050255.0,
          3000000.0,
          1.0E7,
          2.0E7,
          2.25E7,
          1.95E7,
          3849796.0,
          2.8E7,
          2.5E7,
          2.6E7,
          1.2E7,
          2000000.0,
          1.0E7,
          4500000.0,
          6700000.0,
          5200000.0,
          250000.0,
          1.8E7,
          2.3E7,
          4500000.0,
          1.35E7,
          1.0E7,
          5000000.0,
          2.0E7,
          1.15E7,
          2500000.0,
          722083.0,
          8500000.0,
          6400000.0,
          884130.0,
          2.0E7,
          1400000.0,
          1.0721568E7,
          5000000.0,
          1.5E7,
          3.5E7,
          1.85E7,
          3.5E7,
          350000.0,
          1300000.0,
          1.4E7,
          6900000.0,
          143149.0,
          2300000.0,
          2400000.0,
          1.0E7,
          750000.0,
          7000000.0,
          5990000.0,
          3000000.0,
          7500000.0,
          3750000.0,
          130.0,
          1.31E7,
          5.0,
          4200000.0,
          800000.0,
          7000000.0,
          3000000.0,
          3230939.0,
          1333333.0,
          2915739.0,
          440141.0,
          1.3E7,
          1.3E7,
          1000000.0,
          1.7E7,
          8000000.0,
          1.6E7,
          2.9E7,
          1.8E7,
          300000.0,
          1.3E7,
          1.5E7,
          1300000.0,
          700000.0,
          3000000.0,
          400000.0,
          1.0E7,
          4000000.0,
          5000000.0,
          4000000.0,
          325000.0,
          2100000.0,
          1.6E7,
          2.7E7,
          3.0E7,
          2.0E7,
          1.0E7,
          2.9E7,
          2.0E7,
          1.05E7,
          9200000.0,
          7900000.0,
          6100000.0,
          620000.0,
          5900000.0,
          500000.0,
          500000.0,
          500000.0,
          500000.0,
          500000.0,
          500000.0,
          500000.0,
          500000.0,
          2.5E7,
          2.0E7,
          1.65E7,
          3.0E7,
          2200000.0,
          1.0,
          1.6E7,
          1.0E7,
          1.7E7,
          200000.0,
          500000.0,
          2.2E7,
          3500000.0,
          137731.0,
          8575000.0,
          1.9E7,
          5000000.0,
          3537415.0,
          3200000.0,
          4881000.0,
          3.0E7,
          3000000.0,
          500.0,
          2000000.0,
          4000000.0,
          3347850.0,
          5980000.0,
          5069632.0,
          521873.0,
          1.0E7,
          4900000.0,
          1.0E7,
          1.9E7,
          1.04E7,
          1900000.0,
          4180000.0,
          2.5E7,
          6700000.0,
          3500000.0,
          75000.0,
          2.0E7,
          1.2E7,
          9900000.0,
          5500000.0,
          5000000.0,
          5.0,
          1.35E7,
          9000000.0,
          9000000.0,
          9804690.0,
          120000.0,
          8820000.0,
          9900000.0,
          1.5E7,
          3.2E7,
          4000000.0,
          4531653.0,
          5210000.0,
          2.5E7,
          200000.0,
          2.0E7,
          8000000.0,
          1.5E7,
          8500000.0,
          5000000.0,
          1.87E7,
          1.505E7,
          8138338.0,
          3250000.0,
          1000000.0,
          1.5E7,
          2115000.0,
          762241.0,
          7500000.0,
          6500000.0,
          6500000.0,
          2000000.0,
          5000000.0,
          3800000.0,
          9000000.0,
          1500000.0,
          1.03E7,
          8000000.0,
          500.0,
          1.2823507E7,
          9000000.0,
          1.0E7,
          1.0E7,
          9000000.0,
          1.2E7,
          2.6E7,
          1.7E7,
          5000000.0,
          4000000.0,
          4500000.0,
          1.2156348E7,
          1.4E7,
          1.0E7,
          2500000.0,
          9000000.0,
          5000.0,
          135000.0,
          3.0E7,
          1.3E7,
          2.5E7,
          11178.0,
          450000.0,
          300000.0,
          2.4E7,
          6000000.0,
          3000000.0,
          7000000.0,
          2.5E7,
          4300000.0,
          1.5E7,
          2.15E7,
          2.0E7,
          3.0E7,
          3.0E7,
          1.8E7,
          8000000.0,
          7400000.0,
          1.0E7,
          1500000.0,
          7500000.0,
          2.5E7,
          3500000.0,
          3500000.0,
          1.8E7,
          5000000.0,
          5000000.0,
          100000.0,
          4000000.0,
          1.0E7,
          1000000.0,
          300000.0,
          3.27453E7,
          6000000.0,
          2.0E7,
          3.0E7,
          1.0E7,
          2.5E7,
          5000000.0,
          2.5E7,
          940000.0,
          2.0E7,
          400000.0,
          1.782E7,
          3500000.0,
          2.0E7,
          7000000.0,
          1.0E7,
          1.05E7,
          2.2E7,
          7075038.0,
          1.2E7,
          1.0E7,
          2800000.0,
          916000.0,
          950000.0,
          6000000.0,
          65700.0,
          64200.0,
          707503.0,
          2800000.0,
          3500000.0,
          2000000.0,
          6500000.0,
          3200000.0,
          1300000.0,
          5000000.0,
          7400000.0,
          1.05E7,
          3.0,
          2.0E7,
          3500000.0,
          3300000.0,
          1000000.0,
          2000000.0,
          6000000.0,
          2153912.0,
          2000000.0,
          3500000.0,
          3000000.0,
          7000000.0,
          3500000.0,
          5000000.0,
          2500000.0,
          6000000.0,
          5000000.0,
          5000000.0,
          3000000.0,
          2500000.0,
          4000000.0,
          82000.0,
          2.1E7,
          7000000.0,
          7400000.0,
          2000000.0,
          1.0E7,
          5300000.0,
          3.0E7,
          8500000.0,
          8520000.0,
          1.6E7,
          2000000.0,
          2000000.0,
          3000000.0,
          2196531.0,
          1.1E7,
          1.2E7,
          750000.0,
          800000.0,
          2000000.0,
          5000000.0
         ],
         "xaxis": "x",
         "y": [
          8.1452156E7,
          1.35E8,
          4300000.0,
          4.98E7,
          2.74E7,
          1738611.0,
          3.9363635E7,
          1.2219592E8,
          2.1284514E7,
          2.357413E7,
          2.3341568E7,
          6700000.0,
          2.8215918E7,
          2.5836616E7,
          2042530.0,
          5781885.0,
          529766.0,
          1.03E7,
          8175346.0,
          1.98E7,
          560069.0,
          4.1205099E7,
          2.8262574E7,
          3.2392047E7,
          6278139.0,
          1.4702438E7,
          1.41407024E8,
          851545.0,
          3.1596911E7,
          1275000.0,
          178104.0,
          1.3071518E7,
          2.5405445E7,
          1.6140822E7,
          7563728.0,
          1.907572E7,
          7412216.0,
          1148752.0,
          2122561.0,
          6.6E7,
          1.0,
          1.10627965E8,
          472370.0,
          16.0,
          8349430.0,
          5780000.0,
          5.0012507E7,
          2616503.0,
          5535405.0,
          2.6488734E7,
          2.345E7,
          3151130.0,
          2.22E7,
          5887457.0,
          1.2201255E7,
          7830611.0,
          3049135.0,
          2.6325256E7,
          2474000.0,
          2.1665468E7,
          7603766.0,
          5.0,
          5.0282766E7,
          4.5284974E7,
          2832826.0,
          2.13928762E8,
          152322.0,
          1.855246E7,
          1.24E7,
          1.1300653E7,
          9771658.0,
          2.8341469E7,
          4064495.0,
          1.2E7,
          1.0032765E7,
          2.4048E7,
          1.82057016E8,
          1.5119639E7,
          1.07217396E8,
          1862805.0,
          9.4E7,
          4858139.0,
          1.8090181E7,
          5.1132598E7,
          2.007985E7,
          2000000.0,
          1.01646581E8,
          2.9392418E7,
          2.0851521E7,
          3.68E7,
          8946600.0,
          3.225544E7,
          2.10115E7,
          428868.0,
          1.7287898E7,
          2570145.0,
          3.6516012E7,
          7993039.0,
          1.114627E7,
          1.53698625E8,
          1.863562E7,
          7.4189677E7,
          1.33752825E8,
          6.5796862E7,
          2395231.0,
          418961.0,
          1.1285588E7,
          2.79E7,
          1.5826984E7,
          1.534E7,
          1.167E8,
          2.7515786E7,
          1.1439193E7,
          2.3237911E7,
          1.069621E7,
          3.5739755E7,
          3275585.0,
          1001437.0,
          2.2750363E7,
          7820688.0,
          4.8063435E7,
          3.3139618E7,
          1.1585483E7,
          7690013.0,
          7.5634409E7,
          5.3898845E7,
          5.6505065E7,
          1.2281551E7,
          1.3670688E7,
          1.84925486E8,
          8.43E7,
          638641.0,
          6.0611975E7,
          1.6675E7,
          5.5675257E7,
          4939939.0,
          9789900.0,
          2500000.0,
          1.007E7,
          5.7400547E7,
          7.4151346E7,
          2.008002E7,
          1.5E7,
          2.4769466E7,
          3014000.0,
          1.4048372E7,
          9440272.0,
          1.649108E7,
          2.5023434E7,
          2.9359216E7,
          1.3269963E7,
          9482579.0,
          1.7193231E7,
          4619014.0,
          1.164E8,
          3.3459416E7,
          2.2231658E7,
          1.7917287E7,
          5600000.0,
          1.2643776E7,
          3011195.0,
          300000.0,
          2.0483423E7,
          431326.0,
          7011317.0,
          2.2611954E7,
          1.5116634E7,
          7200000.0,
          4500000.0,
          9500000.0,
          2.8E7,
          3.6764313E7,
          4500000.0,
          1.3275E7,
          2.5E7,
          2.5E7,
          1.3474588E7,
          1.04625E7,
          1000000.0,
          7.2070731E7,
          1.0E7,
          1.2E7,
          3.3754967E7,
          5000000.0,
          2.3217674E7,
          6.87E7,
          63463.0,
          2270000.0,
          6000000.0,
          2.4464742E7,
          7000000.0,
          8750000.0,
          2279000.0,
          3981000.0,
          2000000.0,
          3202000.0,
          3.5E7,
          5.0,
          1423000.0,
          4.2E7,
          9644124.0,
          9600000.0,
          3.0E7,
          1.075E7,
          1.7570324E7,
          25.0,
          5.1702483E7,
          1.69E7,
          4.1590886E7,
          49620.0,
          2.82E7,
          1.54864401E8,
          2.2182353E7,
          1.02272727E8,
          1600000.0,
          1.79E7,
          2.98E7,
          3.2101E7,
          1.3417292E7,
          1985001.0,
          5731103.0,
          405000.0,
          1.47298761E8,
          4505922.0,
          4000000.0,
          1.8344729E7,
          1.1833696E7,
          6.2493712E7,
          2.0045115E7,
          2.5333333E7,
          5.07E7,
          3000000.0,
          2.13954274E8,
          1.4661007E7,
          1.38530565E8,
          3.0218387E7,
          6.2548947E7,
          1.0725228E7,
          3.0036E7,
          8000000.0,
          1227324.0,
          2.0300385E7,
          4.1833347E7,
          1.3878334E7,
          2.1378361E7,
          5.02447E7,
          1.7985893E7,
          5028948.0,
          1100000.0,
          1794187.0,
          1.4743391E7,
          3.3946224E7,
          29.0,
          3779620.0,
          1.08981275E8,
          3.0857814E7,
          1.83316455E8,
          6000000.0,
          1000000.0,
          6.9995385E7,
          2.6589E7,
          1.3129846E7,
          5321508.0,
          3200000.0,
          4.6836394E7,
          1.04931801E8,
          4069653.0,
          3.2E7,
          1.1522989E8,
          4.7542841E7,
          4.6357676E7,
          5.1973029E7,
          2.3E7,
          3.8251425E7,
          2.15E7,
          8.5E7,
          1.59616327E8,
          7.83712E7,
          242623.0,
          2.6828365E7,
          5080409.0,
          1.04945305E8,
          2247465.0,
          2.72E7,
          3.0E7,
          4307000.0,
          4.4017374E7,
          5.2287414E7,
          5923044.0,
          1.1744471E7,
          5.0E7,
          7.0906973E7,
          1.59157447E8,
          1.19418501E8,
          8.98E7,
          553171.0,
          5900000.0,
          1.6217773E7,
          8.6273333E7,
          2015810.0,
          1.1E7,
          8.332E7,
          8000000.0,
          1.469E8,
          4736202.0,
          7.7737889E7,
          1.0006806E7,
          2.0966644E7,
          2.2244207E7,
          3.4700291E7,
          3250000.0,
          1.02308889E8,
          2181987.0,
          9.2823546E7,
          3.1973249E7,
          1.1403529E7,
          2.579231E7,
          3.38E7,
          2.5504513E7,
          6.092298E7,
          2.4444121E7,
          2503829.0,
          9.69E7,
          7.02E7,
          9.68E7,
          8.7E7,
          1.33E8,
          4.4726644E7,
          1.8181377E8,
          1.5171476E7,
          4.60444E7,
          1.87884007E8,
          8.7987055E7,
          153155.0,
          2.918028E7,
          1.2803305E7,
          1.73046663E8,
          589304.0,
          3.640036E7,
          3675201.0,
          1.3130349E7,
          4.1954997E7,
          4109095.0,
          4.1230799E7,
          6.0E7,
          3566637.0,
          1.7979739E7,
          791830.0,
          6.7683989E7,
          2900000.0,
          10300.0,
          528428.0,
          8345056.0,
          7.9114085E7,
          4.4862187E7,
          2.3144499E7,
          4.4332015E7,
          1686429.0,
          2.548049E7,
          5716080.0,
          6.0527873E7,
          1.5719109E7,
          6682098.0,
          8038061.0,
          1.2021272E7,
          1.25586134E8,
          4000000.0,
          626057.0,
          1.2532777E7,
          6482195.0,
          8.53E7,
          2642983.0,
          4.3101594E7,
          6.8706993E7,
          3.2861136E7,
          5.8E7,
          5.1376861E7,
          1.3801755E7,
          1.0686841E7,
          3.1611225E7,
          2.25933435E8,
          2.5105255E7,
          3263585.0,
          3.9673162E7,
          5684789.0,
          4.6189568E7,
          5.5494066E7,
          6.4256513E7,
          2.7200316E7,
          1.746002E7,
          302204.0,
          1.0E8,
          1.9204929E7,
          91549.0,
          1.4051384E7,
          1.23306987E8,
          2554476.0,
          7.6E7,
          6.72E7,
          2057193.0,
          4.6905889E7,
          4562146.0,
          1.383513E7,
          2.1567853E7,
          1980338.0,
          45779.0,
          1.881472E7,
          1.916556E7,
          2.7007143E7,
          8026971.0,
          2.9202884E7,
          1.0680275E7,
          5879254.0,
          2.5605015E7,
          900000.0,
          2375097.0,
          3221152.0,
          4358000.0,
          2594000.0,
          7630000.0,
          4460000.0,
          7433101.0,
          6000000.0,
          1.35E7,
          1.1E7,
          2.365E7,
          7800000.0,
          3.6E7,
          3.05E7,
          9600000.0,
          3000000.0,
          4.3656822E7,
          3.76E7,
          2.835E7,
          2.7379978E7,
          3.7402877E7,
          4.4785053E7,
          4.1158757E7,
          1.17235147E8,
          1.0626E8,
          5.8972904E7,
          4.398423E7,
          1.45793296E8,
          2300000.0,
          1.2729917E7,
          5.1525171E7,
          2.9999213E7,
          4.4793222E7,
          7.25E7,
          2.2168359E7,
          3.4872033E7,
          5.9754601E7,
          2.1722776E7,
          3.6690067E7,
          3.298088E7,
          2.1930418E7,
          1.9472057E7,
          1.9170001E7,
          1.4E7,
          7.0E7,
          2.5533818E7,
          1.44E7,
          1.7768757E7,
          1.1642254E7,
          1.4796236E7,
          4.4196684E7,
          3.5763605E7,
          2.0560255E7,
          1.222E8,
          4.0996665E7,
          1.4144E7,
          3.0749142E7,
          1.20207127E8,
          1.53083102E8,
          6.1503218E7,
          8.4563118E7,
          271841.0,
          3.467072E7,
          8373585.0,
          1277401.0,
          1.7507368E7,
          1.9E7,
          2.1288692E7,
          3.5841901E7,
          8153677.0,
          3.862555E7,
          3.9514713E7,
          6706368.0,
          1.0631333E7,
          1.11858363E8,
          3.6602E7,
          8551228.0,
          2.05843612E8,
          5.0752337E7,
          2.15880014E8,
          8.7404651E7,
          7.1215869E7,
          1.1137801E7,
          5.1E7,
          5656087.0,
          6.9821334E7,
          3.3E7,
          5.5041738E7,
          1.1582891E7,
          3.3697647E7,
          3.047142E7,
          2.0766616E7,
          7433663.0,
          2.12E7,
          1.4E7,
          2.7100027E7,
          6.5705772E7,
          40542.0,
          1.2729678E7,
          3.3736689E7,
          9000000.0,
          3713768.0,
          1.4665733E7,
          4.0577001E7,
          8.4542002E7,
          1.5502112E7,
          2.3686027E7,
          6.0E7,
          3.767235E7,
          3.3395426E7,
          2.0158808E7,
          1.6283667E7,
          4710749.0,
          7.3326666E7,
          2200000.0,
          7900000.0,
          1.26E7,
          6000000.0,
          1.3E7,
          7000000.0,
          2000000.0,
          1.025E7,
          7000000.0,
          7000000.0,
          1.6757163E7,
          203.0,
          7.6270454E7,
          4500000.0,
          2.2921898E7,
          501818.0,
          1.8253415E7,
          777423.0,
          5.1249404E7,
          1.03173635E8,
          2.1486757E7,
          7000000.0,
          124494.0,
          7.2527595E7,
          2075084.0,
          1.962976E7,
          2.1706101E7,
          1.0389003E7,
          5.3E7,
          3.0331165E7,
          631221.0,
          3.1672907E7,
          6.4088552E7,
          4.0400657E7,
          2.6010864E7,
          5.067185E7,
          2807390.0,
          1.6324573E7,
          2.3875127E7,
          1.290279E7,
          6451628.0,
          8.2150642E7,
          7936012.0,
          2826523.0,
          5596708.0,
          6000000.0,
          4100000.0,
          1.0E7,
          9.0614445E7,
          4711220.0,
          2.74E7,
          5.9612888E7,
          3.515096E7,
          6948633.0,
          5.4999651E7,
          1.46198896E8,
          1.0443316E7,
          9247881.0,
          9898412.0,
          1.7096053E7,
          1.25212904E8,
          9.67732E7,
          8.6572238E7,
          2.5024919E7,
          2.0018216E8,
          1.4643997E7,
          9.0815558E7,
          1.15103979E8,
          7.132E7,
          4.0283321E7,
          2.1001563E7,
          6330054.0,
          3970078.0,
          3000000.0,
          6.0629159E7,
          1.5945534E7,
          3.0859E7,
          8025872.0,
          185898.0,
          7.72E7,
          4.1382841E7,
          5.2293982E7,
          4.2724017E7,
          1.03166989E8,
          13674.0,
          83957.0,
          4398989.0,
          4.026302E7,
          3076820.0,
          1.2827813E7,
          6852450.0,
          5.7469467E7,
          1.7092453E7,
          6980986.0,
          1.00489151E8,
          4.7E7,
          3.0E7,
          1.16E8,
          2.5E7,
          3.3395426E7,
          1.8999718E7,
          8844595.0,
          9700000.0,
          1.2348905E7,
          7.9666653E7,
          1.3015688E7,
          1.51562E7,
          7.5902208E7,
          3897569.0,
          1.7762705E7,
          8038508.0,
          3.6450736E7,
          1.2E7,
          2.13E7,
          5.3478166E7,
          48482.0,
          2.8451622E7,
          8.456523E7,
          8359717.0,
          1.0920544E7,
          368234.0,
          100.0,
          2856712.0,
          4152230.0,
          5638000.0,
          1.4418922E7,
          861789.0,
          870751.0,
          1.93E7,
          1012189.0,
          1.2E7,
          1.12892319E8,
          2091037.0,
          2000000.0,
          1.8564088E7,
          1997807.0,
          9495408.0,
          1.8535191E7,
          7267585.0,
          7.8599508E7,
          5.320818E7,
          1.6290976E7,
          2.48E8,
          5.6870414E7,
          2.505964E7,
          1.0571408E7,
          2049595.0,
          6.0E7,
          9250000.0,
          2.0E7,
          1883811.0,
          7.9817939E7,
          1.46292009E8,
          1301121.0,
          1.7218023E7,
          3.8748395E7,
          2.75E7,
          1.3E7,
          4217115.0,
          6.0,
          1499275.0,
          2000000.0,
          2.6518355E7,
          8.3453539E7,
          2.6570463E7,
          6.1399552E7,
          1.51668774E8,
          8946237.0,
          1.4011454E7,
          7292175.0,
          5.0041732E7,
          2.1133087E7,
          2.1821347E7,
          4978922.0,
          2.343812E7,
          1.2299668E7,
          1.43634E7,
          2.4922237E7,
          4.6122355E7,
          3.4967437E7,
          1.1373501E7,
          3.4251525E7,
          614202.0,
          2.2593409E7,
          8888143.0,
          1943649.0,
          1.061116E7,
          5344577.0,
          1.1988469E7,
          3.4725E7,
          1.1540607E7,
          3193102.0,
          6.3541777E7,
          7.0136369E7,
          1317657.0,
          1.57E7,
          6800000.0,
          4.0382659E7,
          8500000.0,
          3.68E7,
          9.2921203E7,
          4.53E7,
          1.24881062E8,
          7.8898765E7,
          5.96E7,
          5.8853106E7,
          1.45E7,
          222559.0,
          1.0278549E7,
          966878.0,
          10508.0,
          4.2365581E7,
          1.8254702E7,
          3.457378E7,
          5.3E7,
          1.61777836E8,
          1.41195658E8,
          4.0846082E7,
          1.4859394E7,
          2.2863596E7,
          7.0,
          2.1028755E7,
          1.4E7,
          2023414.0,
          4729352.0,
          4.0903593E7,
          1027757.0,
          1.9905359E7,
          3.8119483E7,
          3.2056467E7,
          5.5260558E7,
          3.1559552E7,
          2297493.0,
          1.8653615E7,
          3.065289E7,
          5.01E7,
          2.9548291E7,
          7179298.0,
          5.397725E7,
          6.7872296E7,
          361712.0,
          1680358.0,
          4.7951979E7,
          5820015.0,
          3.8413606E7,
          4.1895491E7,
          1.15E7,
          635096.0,
          1281176.0,
          1.0827816E7,
          1.0E7,
          6.5535067E7,
          8.8545092E7,
          2.9133E7,
          206128.0,
          929606.0,
          5.9827328E7,
          13.0,
          8434146.0,
          140021.0,
          5.3267E7,
          7825000.0,
          2.709288E7,
          6908797.0,
          5617391.0,
          609524.0,
          3003296.0,
          4.8169908E7,
          8.8036683E7,
          3.6733909E7,
          1.21697323E8,
          4160851.0,
          1.6624456E7,
          2040920.0,
          2019469.0,
          4.8017402E7,
          30471.0,
          1631839.0,
          4.5554533E7,
          1160268.0,
          2.8780255E7,
          5.3187659E7,
          19181.0,
          2500000.0,
          9000000.0,
          1.5427192E7,
          2.4362772E7,
          500000.0,
          1400000.0,
          4000000.0,
          2.0E7,
          2.8607524E7,
          5.0888E7,
          4.6665856E7,
          1.4E8,
          3.9321715E7,
          5669831.0,
          4905000.0,
          5.3302314E7,
          4.5361E7,
          1.41E8,
          3.7295445E7,
          1.6153593E7,
          3.2482682E7,
          2.2E7,
          4.5E7,
          1.6945171E7,
          1702394.0,
          2500000.0,
          1193062.0,
          2.02E8,
          7.8E7,
          4.2E7,
          3.8376497E7,
          4865912.0,
          1.1806119E7,
          2.0E7,
          1.2392237E8,
          5.6666667E7,
          9.103676E7,
          9902115.0,
          327418.0,
          8500000.0,
          1.0E7,
          7600000.0,
          2.5965144E7,
          5.4215416E7,
          1.8432E7,
          8200000.0,
          4.7126295E7,
          3.500718E7,
          6000000.0,
          3.5E7,
          6.1276872E7,
          3.0867525E7,
          2.3689877E7,
          3.5509515E7,
          3.18E7,
          5241315.0,
          6.8106245E7,
          1.237241E7,
          3.6609995E7,
          7230000.0,
          9.5461682E7,
          3.8435947E7,
          9.8235548E7,
          7.4787599E7,
          3.4266564E7,
          3.7036004E7,
          2.82E7,
          2.170902E7,
          3.9846344E7,
          5108820.0,
          2.7728118E7,
          1.0409377E7,
          1.1390479E7,
          3.3771174E7,
          3728888.0,
          7235.0,
          1753979.0,
          4000000.0,
          4000000.0,
          1.7200925E7,
          1568749.0,
          4.0940662E7,
          1.19754278E8,
          1.0E7,
          458815.0,
          2500000.0,
          8.1974493E7,
          1.85438673E8,
          9.7572E7,
          2.2743674E7,
          2.89E7,
          1.0736401E7,
          1.195E8,
          7000000.0,
          1.5E7,
          6.1489265E7,
          1.25728258E8,
          3.3759266E7,
          2.0518905E7,
          3.8122105E7,
          2.8744356E7,
          3.2155047E7,
          1.0E8,
          2.4600832E7,
          3.6230219E7,
          1.7185632E7,
          6735922.0,
          1.7080167E7,
          2.0256975E7,
          299792.0,
          1.2121618E7,
          4420000.0,
          2.4E7,
          2.98E7,
          1300000.0,
          1.28E7,
          1.1E7,
          2.0627372E7,
          6000000.0,
          2.2812411E7,
          1.0755447E7,
          2.6386E7,
          1458000.0,
          1.0E7,
          2600000.0,
          8.0035402E7,
          2.04E7,
          5217498.0,
          1.6E7,
          1.801629E7,
          2.0173742E7,
          2.6330482E7,
          1.3609396E7,
          5200000.0,
          7282851.0,
          4385516.0,
          3180674.0,
          1.003739E7,
          7.8756177E7,
          8.6930411E7,
          2.0E7,
          1.4296438E7,
          9.0449929E7,
          1.5843608E7,
          1.9125401E7,
          260562.0,
          3.8574362E7,
          4.0031879E7,
          1744858.0,
          1.4564027E7,
          1.2090735E7,
          1.2534961E7,
          7000000.0,
          1.2E7,
          7390108.0,
          1.37E7,
          3.5E7,
          1.1E8,
          1.3555988E7,
          4.8814909E7,
          1.16019547E8,
          3.6779296E7,
          103.0,
          7060876.0,
          2.13525736E8,
          1.5185241E7,
          8613462.0,
          5849647.0,
          4.3848069E7,
          1.61001698E8,
          3468572.0,
          4.5833132E7,
          8.3557872E7,
          2.1032267E7,
          7.3180723E7,
          8.0,
          1.2008642E7,
          5164404.0,
          7.1868327E7,
          3.3000337E7,
          8279017.0,
          2.5196249E7,
          7900000.0,
          2347000.0,
          1.819561E7,
          9.1038276E7,
          779137.0,
          2.94E7,
          1.3276953E7,
          3221568.0,
          3.1623833E7,
          14000.0,
          2.2238696E7,
          2.3509382E7,
          2.94E7,
          5.1881013E7,
          1.2396383E7,
          3.2222567E7,
          4.2721196E7,
          1.733637E7,
          3769990.0,
          1.042447E7,
          1.9351569E7,
          4.446085E7,
          2070806.0,
          1.5473333E7,
          1.04E7,
          1.1E7,
          1.6853487E7,
          3.0102717E7,
          7434726.0,
          1246141.0,
          3.5419397E7,
          8620929.0,
          1.4560084E7,
          4.3008075E7,
          3412497.0,
          3.9723096E7,
          2.3430766E7,
          2.8008462E7,
          2.0908467E7,
          6.8411275E7,
          852206.0,
          3.0987695E7,
          3.9438674E7,
          6.5884703E7,
          7.1E7,
          1.651946E7,
          2.9712172E7,
          1703282.0,
          1.364E8,
          3.9071603E7,
          3.4604E7,
          4905000.0,
          5.7915972E7,
          2.0E7,
          8.4772742E7,
          2.491167E7,
          8.3531958E7,
          5.7138719E7,
          5000000.0,
          1.772E8,
          2.9381649E7,
          1.6929123E7,
          6.4437847E7,
          7.2179579E7,
          6600000.0,
          1450000.0,
          8000000.0,
          2735731.0,
          8200000.0,
          1.04E7,
          2.5754284E7,
          1.7374595E7,
          8.5E7,
          1.41774679E8,
          5476060.0,
          1.8869631E7,
          670774.0,
          9797098.0,
          5.1684798E7,
          8247943.0,
          784990.0,
          115860.0,
          1.71504781E8,
          4.6616067E7,
          1.3167232E7,
          3813293.0,
          2.8202109E7,
          1.763795E7,
          4.345523E7,
          6436211.0,
          1189315.0,
          8.4460846E7,
          2.2433275E7,
          1.3854E7,
          7242035.0,
          1893139.0,
          3.4994648E7,
          9205924.0,
          1.4237E7,
          2.0659423E7,
          1.9595031E7,
          4594452.0,
          1.3008928E7,
          2.16614388E8,
          7.413479E7,
          1.0499694E7,
          117463.0,
          4.0485039E7,
          4.5892212E7,
          1.8671317E7,
          1.0166459E7,
          1.9738015E7,
          3916303.0,
          2420917.0,
          6.086487E7,
          7237794.0,
          7.8247647E7,
          1.4697005E7,
          1.5704614E7,
          793775.0,
          2.2099847E7,
          4.9797148E7,
          1145404.0,
          1.5942628E7,
          1.6093651E7,
          4192440.0,
          1.525E7,
          99000.0,
          43719.0,
          295206.0,
          3.0050028E7,
          1.10879513E8,
          4.6908987E7,
          1.6554699E7,
          4.059E7,
          7.9258538E7,
          725131.0,
          1.42789E7,
          3.1678778E7,
          1.9853892E7,
          1.3678913E7,
          373967.0,
          3.3788161E7,
          1.4010832E7,
          1.9693891E7,
          5.9217789E7,
          4790926.0,
          1667192.0,
          2.3619609E7,
          4.0222729E7,
          5271666.0,
          2402459.0,
          6.0E7,
          1.06E7,
          5000000.0,
          9697739.0,
          2.4185781E7,
          6.0780981E7,
          3.6642838E7,
          1.7292381E7,
          7.7516304E7,
          7206220.0,
          6.7182787E7,
          2.3978402E7,
          2.0117339E7,
          7316658.0,
          3.5976E7,
          8.330433E7,
          1270522.0,
          490475.0,
          1.0229331E7,
          2025238.0,
          1.4782676E7,
          6459020.0,
          5.2223306E7,
          390659.0,
          1258000.0,
          3.1899E7,
          2.710796E7,
          4.6236E7,
          2.6414658E7,
          1.2232628E7,
          6.7642693E7,
          1.73921954E8,
          6.6468332E7,
          7.144125E7,
          5778353.0,
          1.05E7,
          1.65E7,
          3.1155435E7,
          8.0936232E7,
          9000000.0,
          3.04E7,
          8.7754044E7,
          9.2542418E7,
          4.4909486E7,
          76382.0,
          7.0752904E7,
          1.4110013E7,
          1.0E8,
          760883.0,
          4865000.0,
          7.8868508E7,
          1.021946E7,
          6.3513743E7,
          8.16E7,
          4300000.0,
          5.5157539E7,
          4.1227069E7,
          4.0,
          9.5789342E7,
          2.203E7,
          6413915.0,
          939423.0,
          5.2970014E7,
          1.1E7,
          6.114103E7,
          1.09862682E8,
          1.8492362E7,
          4.4456478E7,
          1.1715321E7,
          3.5323292E7,
          71368.0,
          2948386.0,
          2.5482931E7,
          2506446.0,
          1.5795189E7,
          1.0013424E7,
          3.3616692E7,
          5.0,
          3.5856053E7,
          3.8793283E7,
          7.5597042E7,
          9801375.0,
          3.8275483E7,
          96568.0,
          1.3110448E7,
          3646994.0,
          705308.0,
          1.6E7,
          1.6951798E7,
          676698.0,
          14904.0,
          5546827.0,
          1.9319254E7,
          1.0364904E7,
          6266621.0,
          3.479316E7,
          2451545.0,
          416925.0,
          85.0,
          4.1604473E7,
          1.4356479E7,
          3786801.0,
          1.2E7,
          3900000.0,
          5400000.0,
          4186931.0,
          1.1411644E7,
          1.2918858E7,
          2.2E7,
          3.7664855E7,
          1434436.0,
          240093.0,
          2891288.0,
          2.045834E7,
          1.6856124E7,
          1.9184015E7,
          5.1842679E7,
          21075.0,
          1.0113733E7,
          5.2223306E7,
          1.6930185E7,
          1.2398628E7,
          4.1092328E7,
          250993.0,
          6.2134225E7,
          9000000.0,
          1.0626725E7,
          3.441124E7,
          7.5781642E7,
          4.3928932E7,
          4777465.0,
          2.2518097E7,
          2.5E7,
          1.5369573E7,
          2.9882645E7,
          6916869.0,
          9304609.0,
          1.001105E7,
          589244.0,
          1132112.0,
          799674.0,
          2.7362712E7,
          1.2E7,
          1.9158074E7,
          3.5564473E7,
          1.7E7,
          598645.0,
          1.0719357E7,
          14.0,
          2062066.0,
          13308.0,
          1.5938065E7,
          2.37113184E8,
          6.489267E7,
          3763988.0,
          2.2471595E7,
          4.0716963E7,
          6892098.0,
          1.2E7,
          216166.0,
          1.174E7,
          1400000.0,
          566736.0,
          2154696.0,
          2945600.0,
          2.9916207E7,
          9171289.0,
          2.6279E7,
          6.4282312E7,
          23000.0,
          5.6298474E7,
          4.1744718E7,
          2.175E7,
          109130.0,
          1.683891E7,
          2.9027914E7,
          4245870.0,
          2807854.0,
          100000.0,
          1.4225876E7,
          439564.0,
          2028612.0,
          3.3526835E7,
          2.7674124E7,
          5.100155E7,
          3.9103425E7,
          8000000.0,
          1.8591272E7,
          3.2801173E7,
          5359645.0,
          2.7453418E7,
          8178569.0,
          840000.0,
          5.7588485E7,
          1.3060843E7,
          2.3367586E7,
          1.2633747E7,
          1.3273595E7,
          2200000.0,
          1596.0,
          1.25E7,
          4.159783E7,
          3.3013805E7,
          1.01564935E8,
          1.7432163E7,
          3.064177E7,
          182857.0,
          2.3510601E7,
          9.0426405E7,
          150277.0,
          7.0687344E7,
          1.3568E8,
          7175592.0,
          3.7799643E7,
          2000000.0,
          6792000.0,
          1432687.0,
          9237470.0,
          8.7055349E7,
          5.6489558E7,
          1.32675402E8,
          7.6578641E7,
          1.4483352E7,
          8690429.0,
          1.8686644E7,
          2.0E7,
          8586376.0,
          3.6E7,
          5519569.0,
          2816116.0,
          9.7837138E7,
          209151.0,
          1.7040871E7,
          1.6829545E7,
          1.8750246E7,
          2.021708E7,
          3251794.0,
          1.2376563E7,
          4720371.0,
          2.1049053E7,
          1.2454768E7,
          9563393.0,
          9.0259536E7,
          57862.0,
          5.5534455E7,
          464000.0,
          2.0298207E7,
          3897799.0,
          2.8650575E7,
          4.14E7,
          2.3562716E7,
          6153939.0,
          1.1511031E7,
          3.9267515E7,
          4922166.0,
          1.5368897E7,
          8.2719885E7,
          764083.0,
          8000000.0,
          6746000.0,
          2.2441323E7,
          5585154.0,
          146402.0,
          4000000.0,
          1500000.0,
          1.10230332E8,
          6.8296293E7,
          3.7095657E7,
          5.8795814E7,
          2.38E7,
          1.2974636E7,
          1.7343596E7,
          1.1E7,
          2275557.0,
          2437000.0,
          5.0E7,
          3661757.0,
          5000000.0,
          4.8572E7,
          3.3833201E7,
          5.75E7,
          1675706.0,
          6.3102666E7,
          1.1560806E7,
          742898.0,
          3.0553394E7,
          9.8185582E7,
          1.19723856E8,
          2.2765081E7,
          3.4E7,
          3.3208099E7,
          2.9174648E7,
          1.0E7,
          3.0238577E7,
          9.5708457E7,
          5.8878723E7,
          3031801.0,
          1477676.0,
          2120439.0,
          8100000.0,
          1.0E7,
          19.0,
          7.06E7,
          8826094.0,
          1.18243066E8,
          5.7504069E7,
          4.9114016E7,
          2.1591728E7,
          2.1E7,
          1.74999005E8,
          4350774.0,
          2.1633874E7,
          3.8348988E7,
          6700000.0,
          1.04E7,
          1.5014674E7,
          3721911.0,
          6375979.0,
          858250.0,
          123509.0,
          1.7E7,
          1.3007551E7,
          2.024679E7,
          8679814.0,
          2466444.0,
          1.3818181E7,
          1.07071655E8,
          1.0E7,
          1569918.0,
          23.0,
          5.2277485E7,
          1.0012022E7,
          2944752.0,
          7808524.0,
          6.0427839E7,
          3432342.0,
          7.6488889E7,
          4.8878502E7,
          4.7624253E7,
          7.9567667E7,
          9000000.0,
          4.0084041E7,
          1.555634E7,
          2.4046533E7,
          2.01957688E8,
          5.9509925E7,
          3.6144E7,
          1.5379253E7,
          1.605758E7,
          4.4065653E7,
          1.8532286E7,
          2.4941969E7,
          2.5E7,
          6933459.0,
          4651977.0,
          1.10996879E8,
          8089290.0,
          24517.0,
          1.4560247E7,
          1.8707466E7,
          1276000.0,
          2600000.0,
          3100000.0,
          1.1E7,
          9012000.0,
          1103757.0,
          4.2300873E7,
          2281000.0,
          2850000.0,
          2.7187653E7,
          1439000.0,
          3301446.0,
          6.6673516E7,
          3.1755742E7,
          8556940.0,
          4409328.0,
          6.2646763E7,
          9.6542059E7,
          1.6942795E7,
          6.0378584E7,
          2281585.0,
          12.0,
          2.65332E7,
          1238080.0,
          3283371.0,
          1.3290368E7,
          1.4110589E7,
          1044824.0,
          9.6060858E7,
          1.6980098E7,
          819939.0,
          6.5070412E7,
          1.6702864E7,
          6.4445708E7,
          1.5121165E7,
          1.18E7,
          4601043.0,
          400200.0,
          1.9265302E7,
          1.4E7,
          7.2266306E7,
          1213880.0,
          238227.0,
          1.6209459E7,
          2.9331068E7,
          2.0796847E7,
          5001655.0,
          2.7685016E7,
          7.938488E7,
          2.8818995E7,
          3.0411183E7,
          8112712.0,
          7411659.0,
          1.0,
          1.02356381E8,
          7.2258126E7,
          4856298.0,
          3.6098382E7,
          5923000.0,
          1.6680836E7,
          3.1179516E7,
          2.7388767E7,
          1.227E8,
          5.5E7,
          2.995E7,
          1.0609321E7,
          1.1341016E7,
          5.4700105E7,
          2500000.0,
          3.0114487E7,
          3.0016165E7,
          1.29042871E8,
          293793.0,
          62852.0,
          9.0E7,
          1.11584787E8,
          2400000.0,
          8801940.0,
          2500000.0,
          3.7170057E7,
          2280148.0,
          5.1718367E7,
          4000000.0,
          1.83E7,
          570000.0,
          9873044.0,
          2.2490039E7,
          3052000.0,
          3.450511E7,
          1.1E7,
          5000000.0,
          191125.0,
          1.2E7,
          8862354.0,
          447741.0,
          5.075E7,
          1.0600497E7,
          1261000.0,
          1614266.0,
          107352.0,
          8000000.0,
          5.8831997E7,
          3000000.0,
          1.2E7,
          144008.0,
          1.8634643E7,
          3788000.0,
          814666.0,
          4.0E7,
          1345903.0,
          5835247.0,
          2610000.0,
          6.8392977E7,
          7500000.0,
          2.175E7,
          4.3E7,
          1.4822346E7,
          1062253.0,
          2.1148829E7,
          4.6118097E7,
          1.4683921E7,
          3.8120905E7,
          4371000.0,
          1.4E7,
          2200000.0,
          485772.0,
          7800000.0,
          2.8575078E7,
          3.6E7,
          5844868.0,
          1.1E7,
          1.6772231E8,
          3.0E7,
          305070.0,
          2.014688E7,
          6.5497208E7,
          2.6713187E7,
          1.19114517E8,
          389503.0,
          5000000.0,
          2.873329E7,
          1.5992615E7,
          9.0574188E7,
          7.0067909E7,
          5.0E7,
          1548955.0,
          2.4854765E7,
          2620000.0,
          3569939.0,
          1.1000863E7,
          100655.0,
          2.6781723E7,
          2.2034832E7,
          2.3936908E7,
          2.917041E7,
          2037545.0,
          6.9631118E7,
          7.0992898E7,
          1.3E7,
          1.6123851E7,
          12.0,
          1.6605763E7,
          1.3001257E7,
          3109904.0,
          5.6422687E7,
          2.1800302E7,
          4.1512007E7,
          1914166.0,
          3.0039392E7,
          4000000.0,
          1.4717854E7,
          1.4867514E7,
          3.6609966E7,
          424760.0,
          5.0907422E7,
          1500000.0,
          6.1255921E7,
          1162014.0,
          1.83474602E8,
          1.09502303E8,
          8203235.0,
          1.03911669E8,
          2.4829644E7,
          1.16766556E8,
          2.938532E7,
          4.0266982E7,
          1.15505027E8,
          1.0E7,
          7100000.0,
          174318.0,
          1.9724334E7,
          137365.0,
          2.2E7,
          2200000.0,
          950000.0,
          9172000.0,
          5363000.0,
          2841000.0,
          3000000.0,
          2956000.0,
          8000000.0,
          1.28E7,
          3274.0,
          1.368E7,
          921548.0,
          364937.0,
          14873.0,
          6800000.0,
          44566.0,
          3200000.0,
          1000000.0,
          1.52E7,
          2000000.0,
          5.1079064E7,
          3.1063038E7,
          1.2E7,
          3.82E7,
          955401.0,
          4.2313354E7,
          2494480.0,
          2.9450919E7,
          6045657.0,
          660537.0,
          502758.0,
          1.2308521E7,
          1579260.0,
          1.4182492E7,
          354704.0,
          1.8172849E7,
          8266343.0,
          205068.0,
          4.741E7,
          2.4078196E7,
          259012.0,
          4603929.0,
          3752426.0,
          3.9673161E7,
          4836637.0,
          6739141.0,
          1528163.0,
          2970.0,
          1531251.0,
          229000.0,
          1.3E7,
          1.5306E7,
          1.9271312E7,
          3849941.0,
          4099000.0,
          1954937.0,
          163536.0,
          7338987.0,
          460978.0,
          1.4980005E7,
          2.1126225E7,
          3.8535221E7,
          5.4667954E7,
          1.1850214E7,
          603943.0,
          4069090.0,
          1600000.0,
          365134.0,
          3515061.0,
          3166000.0,
          7659918.0,
          1530216.0,
          3.8E7,
          9.1196419E7,
          2044892.0,
          8000000.0,
          4.0,
          1.6361885E7,
          9000000.0,
          1461989.0,
          7.6669806E7,
          1.61E8,
          869325.0,
          8009329.0,
          9.218091E7,
          3.529447E7,
          1.0442808E7,
          1.2264482E8,
          6.7192859E7,
          4.7175038E7,
          2341309.0,
          41.0,
          653621.0,
          3.2645546E7,
          3.2E7,
          1.15E7,
          1.00914445E8,
          1.9294901E7,
          212483.0,
          6582052.0,
          1.1E7,
          2.7645491E7,
          6804016.0,
          257043.0,
          712294.0,
          3.635135E7,
          5.0451307E7,
          2.1435321E7,
          3.4562222E7,
          2000000.0,
          1.08047131E8,
          3764219.0,
          9346177.0,
          4.2886719E7,
          9.8410061E7,
          5273000.0,
          1574623.0,
          2850263.0,
          251495.0,
          1.1838218E7,
          3.9053061E7,
          1.3411957E7,
          120620.0,
          3.0E7,
          4.6770602E7,
          3360000.0,
          2.4E7,
          1.27392239E8,
          2.5473093E7,
          1750211.0,
          2.3727301E7,
          2.3563727E7,
          5728953.0,
          3.4252847E7,
          5.8405313E7,
          4.5742101E7,
          176153.0,
          143000.0,
          2.2400154E7,
          1.09449237E8,
          5.7891803E7,
          1.0E8,
          1.9478106E7,
          1.5007991E7,
          1046166.0,
          8.246667E7,
          7535331.0,
          1.0047674E7,
          2697930.0,
          1.863769E7,
          1.8618284E7,
          1.44216468E8,
          6.0740827E7,
          1.5431177E7,
          4.908483E7,
          866999.0,
          1.5785148E7,
          2.7610873E7,
          3500000.0,
          1.0E7,
          1.1098131E7,
          3.0526509E7,
          1.78043761E8,
          2.5224242E7,
          5.46E7,
          5048693.0,
          4.6201432E7,
          1.1588205E7,
          1.2482775E7,
          1.52925093E8,
          1.1875866E7,
          674918.0,
          8720000.0,
          1.7709155E7,
          5.7479076E7,
          2.7762648E7,
          6856989.0,
          8.5306374E7,
          163169.0,
          1.7297244E7,
          84967.0,
          1.2036149E7,
          1.3350369E7,
          1.8564702E7,
          3.0536013E7,
          9584131.0,
          2405420.0,
          8.0578934E7,
          2.8E7,
          5.1053787E7,
          3752325.0,
          358574.0,
          1.0496317E7,
          1.7496992E7,
          1.22489822E8,
          1.17719158E8,
          1.1718595E7,
          5450815.0,
          6.6966987E7,
          206871.0,
          1.4655628E7,
          113783.0,
          4.8548426E7,
          9500000.0,
          5.7231524E7,
          3.1070211E7,
          3.8159905E7,
          3.3889159E7,
          2.4793509E7,
          2636637.0,
          9879971.0,
          2.3006849E7,
          2260622.0,
          1615018.0,
          6.9623713E7,
          2438031.0,
          7.0E7,
          3.4742066E7,
          5.6308881E7,
          8.5582407E7,
          1.8948425E7,
          2.7105095E7,
          3919254.0,
          2.1170563E7,
          1831348.0,
          1.3368437E7,
          7022209.0,
          3261638.0,
          253527.0,
          7314027.0,
          2227000.0,
          2.7165581E7,
          7.6286096E7,
          852872.0,
          95687.0,
          4386236.0,
          12762.0,
          1.19188334E8,
          2.6888376E7,
          1678874.0,
          4.6243E7,
          1.00523181E8,
          4491986.0,
          1.35330182E8,
          5.4E7,
          6.2022014E7,
          3.1584901E7,
          5.3653224E7,
          9132000.0,
          4.1009669E7,
          1720953.0,
          4.2931041E7,
          10289.0,
          1.14194847E8,
          1.2506188E7,
          1.26713E7,
          4911725.0,
          566611.0,
          1606624.0,
          3.8505009E7,
          1.23384128E8,
          1.9179969E7,
          7000000.0,
          381420.0,
          2.2889018E7,
          3.7597471E7,
          622806.0,
          495303.0,
          1.530489E7,
          9524340.0,
          7096000.0,
          4.1480851E7,
          6000000.0,
          7.2778712E7,
          973525.0,
          8.3258226E7,
          1.7807569E7,
          3.8368909E7,
          6754898.0,
          3.9143839E7,
          4.1237648E7,
          2.2165608E7,
          1151330.0,
          1.3391174E7,
          1.4821658E7,
          11.0,
          1.0178331E7,
          4.802797E7,
          5179037.0,
          2.1E7,
          2.4E7,
          1.63876815E8,
          167000.0,
          2736000.0,
          8.4500122E7,
          4.2064105E7,
          1.1992014E7,
          5542025.0,
          4630045.0,
          1381665.0,
          5967038.0,
          1.3405595E7,
          2281089.0,
          745327.0,
          4.1170784E7,
          1.3401952E7,
          4.9469904E7,
          480314.0,
          5914908.0,
          6.8673228E7,
          2.1510851E7,
          1.0337477E7,
          7.5511123E7,
          3.5078241E7,
          2.5399945E7,
          362222.0,
          2.217943E7,
          1.6158487E7,
          5.7103895E7,
          8.6865564E7,
          1109660.0,
          4857367.0,
          1.1130889E7,
          7385434.0,
          3000000.0,
          2.2963701E7,
          3338228.0,
          3833507.0,
          3.1609243E7,
          7.7566815E7,
          2.0342161E7,
          1.0903846E7,
          165000.0,
          8.0573774E7,
          4851244.0,
          8475466.0,
          30.0,
          21.0,
          8.8489643E7,
          3.7311672E7,
          2.0138836E7,
          1.3196245E7,
          8.4146832E7,
          2.2217407E7,
          2.2222308E7,
          2.6193068E7,
          5367030.0,
          1196307.0,
          1.1772461E7,
          1.17760134E8,
          1237615.0,
          5549200.0,
          3.5300645E7,
          1.75E7,
          2.6810113E7,
          6.8E7,
          2019009.0,
          3.8862717E7,
          8176544.0,
          6.423844E7,
          2.0710513E7,
          8059140.0,
          4.1637263E7,
          2955039.0,
          1.6930884E7,
          300000.0,
          10018.0,
          3.5619521E7,
          426224.0,
          2.5037897E7,
          1000000.0,
          7177143.0,
          265198.0,
          340147.0,
          2.4538513E7,
          2.8E7,
          1.8928871E7,
          9.4679598E7,
          46.0,
          2626800.0,
          9620399.0,
          9.260105E7,
          2426851.0,
          1.21463226E8,
          1.3620075E7,
          1.8197398E7,
          4.0452643E7,
          4.7738099E7,
          8.0253908E7,
          1.6974459E7,
          20380.0,
          1185783.0,
          1431623.0,
          2.954179E7,
          1.1502151E7,
          9576495.0,
          46474.0,
          458232.0,
          413454.0,
          5.9192128E7,
          5.6255142E7,
          1.47880543E8,
          6.8377859E7,
          2.4377151E7,
          5.4926886E7,
          9.2991835E7,
          1.1293663E7,
          7.5505973E7,
          2.474867E7,
          2849142.0,
          3.4619699E7,
          1.4711793E7,
          143451.0,
          1.7804565E7,
          5.5184721E7,
          1.39352633E8,
          2.5005257E7,
          1.9777647E7,
          18479.0,
          6.6122026E7,
          4.0,
          374743.0,
          7537453.0,
          5.709619E7,
          9.9965753E7,
          7766240.0,
          3.7707444E7,
          4001121.0,
          2.31411584E8,
          2.1786738E7,
          782102.0,
          82701.0,
          639000.0,
          7.3276047E7,
          7.7208711E7,
          1.8317151E7,
          3.0226144E7,
          2.843E7,
          3.0448E7,
          6819587.0,
          3.248341E7,
          8.4646831E7,
          5.6309766E7,
          249905.0,
          3.4533783E7,
          111000.0,
          9229401.0,
          4.3650785E7,
          2.2730842E7,
          1.508167E8,
          1.3E7,
          3.3E7,
          274661.0,
          6.4822796E7,
          2.2211426E7,
          7938872.0,
          2.652751E7,
          5364858.0,
          60641.0,
          5231128.0,
          6673422.0,
          54207.0,
          15425.0,
          4.1627431E7,
          2.3321954E7,
          3952448.0,
          1.0569964E7,
          3.478696E7,
          1.120713E7,
          1300000.0,
          2.5871834E7,
          6.5569869E7,
          4.3493123E7,
          5410749.0,
          6870249.0,
          1.7741298E7,
          6.3833449E7,
          7700000.0,
          1023156.0,
          8900000.0,
          346592.0,
          1296184.0,
          8.2391145E7,
          6463286.0,
          4.2E7,
          220151.0,
          921000.0,
          704000.0,
          2899975.0,
          5.3191886E7,
          1.4723313E7,
          8380329.0,
          2.77932E7,
          5926410.0,
          1.3204291E7,
          6.8369434E7,
          31576.0,
          1.76E7,
          3533227.0,
          4040588.0,
          9.6408652E7,
          1.01624843E8,
          4.4352417E7,
          1.4894347E7,
          6.8282844E7,
          2033165.0,
          1.1125849E7,
          1.0785801E7,
          7.044294E7,
          8762890.0,
          2725258.0,
          1.4109284E7,
          2.3530831E7,
          6230276.0,
          5.0007546E7,
          54947.0,
          245000.0,
          2.7640028E7,
          6.0,
          2.0211394E7,
          1.7286299E7,
          3.2973937E7,
          25800.0,
          8000000.0,
          4.2105111E7,
          2.9506464E7,
          3.6620508E7,
          3.8105395E7,
          7000000.0,
          1.9E7,
          4.0855419E7,
          3.1148328E7,
          2.5739015E7,
          3.8135878E7,
          1.9844979E7,
          2.7635305E7,
          9.2380927E7,
          276891.0,
          1.13857533E8,
          1.8755936E7,
          391410.0,
          1.49281606E8,
          5.4586584E7,
          2.0416563E7,
          1115493.0,
          3.3456317E7,
          3.0E7,
          1.0089373E7,
          5.0907234E7,
          4.4703995E7,
          3830137.0,
          69497.0,
          333912.0,
          2.1972336E7,
          5.1155219E7,
          2.1888598E7,
          2000000.0,
          1.00734718E8,
          908847.0,
          553198.0,
          558000.0,
          7.651405E7,
          907456.0,
          3.8610009E7,
          3148182.0,
          173066.0,
          1.4899417E7,
          1.1260366E7,
          2.355E7,
          9.1379051E7,
          1.1657385E7,
          3.0,
          8936663.0,
          1.04345682E8,
          1.6174377E7,
          186702.0,
          831.0,
          1.7164377E7,
          1.36267476E8,
          3.4560577E7,
          9760104.0,
          2.7409889E7,
          382174.0,
          1007962.0,
          4100000.0,
          1.09E8,
          1037335.0,
          5530764.0,
          3.2721635E7,
          9.0810892E7,
          1.8599102E7,
          791867.0,
          1.0E7,
          7202.0,
          2.9010817E7,
          1984662.0,
          2000000.0,
          4.2E7,
          3.5097815E7,
          1449945.0,
          25900.0,
          500000.0,
          6.0722734E7,
          2.1834845E7,
          250000.0,
          6.4352607E7,
          9366227.0,
          4.1596251E7,
          1.14E8,
          2.2852638E7,
          7.383034E7,
          1.7280326E7,
          154323.0,
          5210988.0,
          1.5345201E7,
          1296971.0,
          113221.0,
          2260712.0,
          7070330.0,
          6405245.0,
          2.0455276E7,
          3.9421467E7,
          1200000.0,
          1179676.0,
          3.3965843E7,
          4.8428063E7,
          2.0645327E7,
          6.8729358E7,
          3.1556061E7,
          3.5424826E7,
          1.0848783E7,
          480000.0,
          6101046.0,
          3.6133014E7,
          4440055.0,
          1.933558E8,
          295750.0,
          1.7436509E7,
          134.0,
          3.1430334E7,
          6670712.0,
          1.6633035E7,
          3.1912793E7,
          1.02391382E8,
          69564.0,
          2.720612E7,
          2.6096852E7,
          2000000.0,
          4.0105542E7,
          4600000.0,
          8049666.0,
          1725381.0,
          6.8233629E7,
          1.0629321E7,
          296557.0,
          232732.0,
          3.3579813E7,
          5093707.0,
          3983912.0,
          1.6E7,
          3.3333531E7,
          288.0,
          4.2333295E7,
          4.7536959E7,
          1.0589102E7,
          1521261.0,
          48298.0,
          1.9300483E7,
          4.3318349E7,
          107559.0,
          2336172.0,
          766075.0,
          2.2942221E7,
          4884663.0,
          5300.0,
          3.9462438E7,
          3.1E7,
          4388563.0,
          1.44E7,
          32000.0,
          435000.0,
          5.1416464E7,
          4.7801389E7,
          2.9922472E7,
          4.3498108E7,
          1017401.0,
          1.7872796E7,
          1.0604986E7,
          1143856.0,
          7.0E7,
          6.7918658E7,
          56000.0,
          245000.0,
          1.5134293E7,
          40239.0,
          1.0652035E7,
          2357852.0,
          150000.0,
          1644755.0,
          5.5583804E7,
          4.5236543E7,
          1429299.0,
          2.5E7,
          8786375.0,
          5.495614E7,
          1.14977104E8,
          1.846968E7,
          4.234536E7,
          4750000.0,
          2.9536299E7,
          4.9779728E7,
          1.0329747E7,
          5.6032889E7,
          2.1409028E7,
          985117.0,
          18097.0,
          1479042.0,
          1.5E7,
          1.8409891E7,
          2.9E7,
          8459458.0,
          658000.0,
          1.7112713E7,
          875386.0,
          1.4E7,
          44462.0,
          9.6188903E7,
          3606395.0,
          2995811.0,
          801000.0,
          25.0,
          4.9050886E7,
          30638.0,
          7.5700498E7,
          1.0652498E7,
          2.358E7,
          6110000.0,
          46488.0,
          4270000.0,
          3.9340177E7,
          867714.0,
          1000000.0,
          1.656624E7,
          1.915248E7,
          706000.0,
          1.3831503E7,
          5024782.0,
          754249.0,
          317000.0,
          3.470585E7,
          3200000.0,
          3.6E7,
          1040000.0,
          1000000.0,
          6814789.0,
          744816.0,
          8.3188165E7,
          3.41E7,
          7022728.0,
          125400.0,
          967000.0,
          823258.0,
          6.773809E7,
          6.5464324E7,
          4.9830607E7,
          57.0,
          3.1327899E7,
          4.2045846E7,
          8.0547866E7,
          7.4952305E7,
          617000.0,
          1755212.0,
          6491240.0,
          111731.0,
          2.0,
          2.4145613E7,
          3.3583175E7,
          3.2005248E7,
          3045943.0,
          9479718.0,
          7871522.0,
          4242978.0,
          6732980.0,
          55125.0,
          7.0,
          9455232.0,
          5602431.0,
          6900000.0,
          98017.0,
          851517.0,
          1.17224271E8,
          1.9829957E7,
          5285197.0,
          4.7355187E7,
          4.1424067E7,
          1.77512032E8,
          1.36150434E8,
          3.569292E7,
          2.4188922E7,
          5.1148651E7,
          3453043.0,
          871279.0,
          9.3617009E7,
          123820.0,
          453079.0,
          1083683.0,
          4644108.0,
          6.6821036E7,
          4.3165571E7,
          416498.0,
          52604.0,
          1.6504936E7,
          1.8124262E7,
          8454301.0,
          4882577.0,
          2.3081726E7,
          5129058.0,
          3218666.0,
          2.0719451E7,
          5476793.0,
          187716.0,
          7644937.0,
          2.0348249E7,
          7.6E7,
          1.55E7,
          2019000.0,
          572809.0,
          2.4441725E7,
          2500000.0,
          2.0529194E7,
          4349187.0,
          1068682.0,
          1500000.0,
          6928068.0,
          2.712204E7,
          2.096766E7,
          1.0,
          9069.0,
          2.15E7,
          324138.0,
          4159678.0,
          1749457.0,
          3770657.0,
          9.700915E7,
          748453.0,
          1.0654385E7,
          753808.0,
          43.0,
          7.2417394E7,
          204940.0,
          2119994.0,
          1.7555141E7,
          6.3782078E7,
          8786756.0,
          4800080.0,
          6775121.0,
          2.1817298E7,
          4627375.0,
          6.5584679E7,
          208475.0,
          7103838.0,
          4.708899E7,
          71904.0,
          970816.0,
          5.4674226E7,
          563706.0,
          1.4624826E7,
          4.0492759E7,
          120000.0,
          7306.0,
          4300000.0,
          3964682.0,
          2614773.0,
          5332926.0,
          6.0072596E7,
          3.6160375E7,
          1.4166853E7,
          6.9055695E7,
          551.0,
          498974.0,
          1.8035E7,
          1.7425E7,
          7.8054825E7,
          1332231.0,
          5.9389433E7,
          1.9560274E7,
          1.446E7,
          100.0,
          4634062.0,
          3.93E7,
          18.0,
          741875.0,
          1.7273593E7,
          771499.0,
          3867000.0,
          1.24272124E8,
          4.054744E7,
          1.8663238E7,
          1.54788E7,
          3.5387212E7,
          8220215.0,
          8.556431E7,
          834332.0,
          3.6993168E7,
          2.4922237E7,
          1776935.0,
          382946.0,
          33245.0,
          4.5636368E7,
          103735.0,
          5774854.0,
          1.013E7,
          1104682.0,
          1759252.0,
          3.0551495E7,
          1.0126458E7,
          1.0324441E7,
          163265.0,
          2.7462041E7,
          2.3057115E7,
          7.5993061E7,
          171760.0,
          8500000.0,
          101236.0,
          3.9187783E7,
          1.33432856E8,
          6.2E7,
          3099314.0,
          27046.0,
          253899.0,
          6.3543328E7,
          2.812867E7,
          6038942.0,
          46495.0,
          2.7603069E7,
          1.9504039E7,
          2.05703818E8,
          1.1790979E7,
          1.7693675E7,
          3.0426096E7,
          1.3380561E7,
          2527904.0,
          1.5395087E7,
          3696232.0,
          841733.0,
          9612469.0,
          5728213.0,
          2128186.0,
          355688.0,
          3.3662874E7,
          100915.0,
          1.77243185E8,
          3542353.0,
          3.5057696E7,
          484592.0,
          2.5034E7,
          9400000.0,
          1.6810383E7,
          1.7511906E7,
          3.4942188E7,
          972512.0,
          3878993.0,
          3142154.0,
          6892000.0,
          225861.0,
          1072602.0,
          2.2939027E7,
          6.4626786E7,
          5634828.0,
          303877.0,
          1.0175849E8,
          6.31E7,
          1.14956699E8,
          22000.0,
          7.7278331E7,
          3.3372606E7,
          2.5562924E7,
          1.2355798E7,
          868439.0,
          78396.0,
          2.2772019E7,
          5.1723285E7,
          1.45E8,
          1.27730736E8,
          807535.0,
          1000000.0,
          1243961.0,
          393816.0,
          4.3E7,
          5837674.0,
          530048.0,
          3.4522221E7,
          1.0E8,
          8.1272766E7,
          209696.0,
          610986.0,
          4417580.0,
          3.220403E7,
          2.5345E7,
          1.1212294E7,
          3.4564651E7,
          8135031.0,
          4105187.0,
          6.648608E7,
          30905.0,
          1.3101672E7,
          5.4819301E7,
          2.9657751E7,
          1.36836156E8,
          5.3909751E7,
          9.6070507E7,
          9.9357138E7,
          2556911.0,
          4.0346186E7,
          3.771061E7,
          1428291.0,
          9206470.0,
          55089.0,
          2.4159934E7,
          6.8263166E7,
          1.6E7,
          17479.0,
          2.9007412E7,
          6063556.0,
          1.61001698E8,
          4007792.0,
          3200000.0,
          8303261.0,
          7.3244881E7,
          1163967.0,
          9622846.0,
          9636289.0,
          1.67221571E8,
          8784318.0,
          2.1107746E7,
          1.2434778E7,
          1653792.0,
          3665069.0,
          1378.0,
          7.7112176E7,
          4.9E7,
          1.44E7,
          3.1083599E7,
          5.367658E7,
          8493728.0,
          3010.0,
          8.5446075E7,
          4.853147E7,
          9627492.0,
          1.1947954E7,
          1.3231461E7,
          1.15350426E8,
          1.6863583E7,
          4.7042E7,
          3325038.0,
          2.825806E7,
          3.5485056E7,
          4.8126384E7,
          3.34E7,
          1.68E7,
          23859.0,
          1620436.0,
          2.4637469E7,
          1.3551174E7,
          1353868.0,
          7594693.0,
          4.4287131E7,
          3.34E7,
          12250.0,
          1120000.0,
          2.5762027E7,
          3.2726956E7,
          7.7712439E7,
          1.9422261E7,
          1.3521829E7,
          4100000.0,
          1.42817992E8,
          5.2302796E7,
          352810.0,
          3.7930465E7,
          9138338.0,
          376597.0,
          946461.0,
          1.5608545E7,
          3358.0,
          2106557.0,
          2.9844753E7,
          31649.0,
          66351.0,
          89237.0,
          108348.0,
          1576687.0,
          1832541.0,
          116207.0,
          2804874.0,
          4636169.0,
          610792.0,
          5.9520298E7,
          1.814403E7,
          1.19772232E8,
          8138788.0,
          6294161.0,
          1.162E7,
          4.7241945E7,
          2521.0,
          1969193.0,
          6.0141683E7,
          1.46497771E8,
          444098.0,
          419953.0,
          4.8E7,
          3.2438988E7,
          1.67E7,
          2401510.0,
          25000.0,
          6.3372757E7,
          4.8065672E7,
          9.759414E7,
          911466.0,
          444575.0,
          1402307.0,
          1.1176469E7,
          4.2930462E7,
          2.5174316E7,
          2750275.0,
          1.5179302E7,
          1.2077441E7,
          1034589.0,
          111300.0,
          2.7437881E7,
          3.1724284E7,
          1.1724119E7,
          6.8572378E7,
          3.5485608E7,
          5206.0,
          1.8E7,
          4900000.0,
          9.7542952E7,
          2.4261569E7,
          9747.0,
          1404.0,
          432274.0,
          1.0016934E7,
          3428048.0,
          7.8378744E7,
          8.6175291E7,
          2861020.0,
          6.4076736E7,
          4820000.0,
          2.15877E7,
          175742.0,
          3003.0,
          1.0337387E7,
          1.0631747E7,
          10000.0,
          1165882.0,
          1.56E7,
          58510.0,
          1585582.0,
          10759.0,
          1000000.0,
          2.3198652E7,
          2.1819348E7,
          8.9328627E7,
          1.9145732E7,
          31081.0,
          1.9255873E7,
          1066471.0,
          4.6089287E7,
          8352885.0,
          6854611.0,
          2.5E7,
          1.35E7,
          2.08E8,
          9.9206215E7,
          8371085.0,
          56825.0,
          9800000.0,
          2459895.0,
          2054941.0,
          6.07E7,
          136203.0,
          1.3785015E7,
          3.593141E7,
          1.15922175E8,
          2963902.0,
          8.7100449E7,
          6.2E7,
          5496951.0,
          3639345.0,
          83.0,
          1.1301649E7,
          318982.0,
          9.9067206E7,
          1.0501938E7,
          7847000.0,
          1.54E7,
          2159041.0,
          3.6894225E7,
          3566225.0,
          4.7E7,
          1.6549477E7,
          1659542.0,
          1.7654912E7,
          7972967.0,
          1.8E7,
          6.2616646E7,
          1.0165694E7,
          653651.0,
          466088.0,
          1.5008161E7,
          9114264.0,
          3250000.0,
          2.2456509E7,
          95000.0,
          8.2394288E7,
          8555008.0,
          7.1009334E7,
          1.87E8,
          6108720.0,
          1.51831537E8,
          5.5198285E7,
          3623330.0,
          1.00129872E8,
          7.1625195E7,
          1.5298355E7,
          5.1164106E7,
          18295.0,
          3.2935319E7,
          4.3058898E7,
          2.733E7,
          7.4188937E7,
          270000.0,
          6147.0,
          4.7351251E7,
          388.0,
          4861022.0,
          2755584.0,
          2395000.0,
          1.1417362E7,
          5.7284237E7,
          2300000.0,
          532269.0,
          1.2E7,
          8.6362372E7,
          4235151.0,
          2.102629E7,
          4500000.0,
          2.4E7,
          2.2309223E7,
          2.1766271E7,
          3.6433975E7,
          2.2424195E7,
          48390.0,
          5155325.0,
          4.6E7,
          1.3954476E7,
          8109160.0,
          75143.0,
          2.0275812E7,
          9494789.0,
          1.7508518E7,
          770706.0,
          3.407792E7,
          2365467.0,
          5000000.0,
          4.9002684E7,
          2.6049082E7,
          5.2597999E7,
          5380251.0,
          15071.0,
          3485127.0,
          7800000.0,
          6.7800064E7,
          1.7137302E7,
          596000.0,
          13809.0,
          2415472.0,
          1938.0,
          1.7834867E7,
          2.8831145E7,
          2627209.0,
          4.4030246E7,
          2.9789E7,
          4.91E7,
          1.01332962E8,
          6.8896829E7,
          4635300.0,
          3000000.0,
          1.650546E7,
          5867686.0,
          3500000.0,
          1.0429707E7,
          59209.0,
          4.5967935E7,
          121179.0,
          6.3464861E7,
          3.8307627E7,
          3430018.0,
          7018189.0,
          3.0E7,
          115860.0,
          1200000.0,
          500000.0,
          5809330.0,
          1.03215094E8,
          201607.0,
          4.4349E7,
          7.0181428E7,
          2.3E7,
          1.00525432E8,
          6676471.0,
          282358.0,
          1.3092E7,
          74918.0,
          2.5312387E7,
          1.08782847E8,
          600896.0,
          3.1554855E7,
          5483299.0,
          4.53E7,
          88273.0,
          2295423.0,
          5.1029361E7,
          8.8880821E7,
          6.6980456E7,
          1.36621271E8,
          9221.0,
          122.0,
          7.8874843E7,
          6860853.0,
          1.3865435E7,
          265452.0,
          4.01E7,
          2367161.0,
          1.5447154E7,
          846704.0,
          1749201.0,
          9318.0,
          1.9054534E7,
          5.3830415E7,
          59744.0,
          5.31816E7,
          7527232.0,
          40400.0,
          3442853.0,
          3.2556119E7,
          4.129632E7,
          1826705.0,
          6399.0,
          3000000.0,
          3.5926213E7,
          8.8761661E7,
          4.207E7,
          5.4837234E7,
          1.00654149E8,
          1.9682924E7,
          1.03590271E8,
          3.8697217E7,
          1964253.0,
          5169755.0,
          3.6869414E7,
          2.2896728E7,
          24267.0,
          1.20963E7,
          9630444.0,
          721651.0,
          6.8129518E7,
          1.1110975E7,
          1189612.0,
          1.23726688E8,
          1500000.0,
          3.0127963E7,
          1.6E7,
          3721345.0,
          3.1244858E7,
          1.4618727E7,
          4214668.0,
          170000.0,
          2.1571189E7,
          1.5520023E7,
          4.3884652E7,
          1851517.0,
          1310673.0,
          2450846.0,
          350006.0,
          6.6787908E7,
          7888102.0,
          2.7187375E7,
          395000.0,
          3494070.0,
          1.200707E7,
          5.2501541E7,
          2.8883511E7,
          5.3213633E7,
          4684165.0,
          9216.0,
          1.2E8,
          1.2E7,
          1359910.0,
          2.6501323E7,
          3.4592118E7,
          9.8441954E7,
          1.0E7,
          2.3E7,
          1675381.0,
          1.4674076E7,
          26055.0,
          4.896521E7,
          809000.0,
          1.22E7,
          11276.0,
          1.5172408E7,
          1.1672363E7,
          1.04303851E8,
          2691899.0,
          2.919333E7,
          4000000.0,
          2360281.0,
          1.24E7,
          1750000.0,
          3.917113E7,
          4200000.0,
          4.3528634E7,
          11.0,
          3.2248241E7,
          6.2076141E7,
          3.5991087E7,
          1411927.0,
          53086.0,
          615816.0,
          771317.0,
          1477002.0,
          1.7986781E7,
          5000000.0,
          1.007679E7,
          45431.0,
          3000000.0,
          4541800.0,
          8.55123E7,
          7.979988E7,
          5.2425855E7,
          1.2314651E7,
          3387000.0,
          8.5978266E7,
          593683.0,
          6.4110728E7,
          1.4431253E7,
          1.321898E7,
          1.8E7,
          7587485.0,
          9104716.0,
          7500000.0,
          2.9456E7,
          6212282.0,
          3758328.0,
          6.288209E7,
          8914881.0,
          1.2005838E7,
          129115.0,
          1430655.0,
          6.1619773E7,
          4635143.0,
          151530.0,
          6500000.0,
          48125.0,
          1.5E7,
          1.12156811E8,
          2439705.0,
          6.5663276E7,
          1.0835752E7,
          7087452.0,
          1064454.0,
          1.4348529E7,
          232.0,
          7339398.0,
          30283.0,
          4.1325328E7,
          2.2159216E7,
          4.0272135E7,
          17472.0,
          1.5656193E7,
          187112.0,
          6833445.0,
          2011837.0,
          927277.0,
          1.148E7,
          2000000.0,
          1.1E7,
          1.4E7,
          5900000.0,
          1400000.0,
          8927600.0,
          32251.0,
          1.805E7,
          4.9263404E7,
          1020921.0,
          252000.0,
          4.3967255E7,
          6500000.0,
          7200000.0,
          4.1E7,
          6485961.0,
          3.0523226E7,
          1.4708696E7,
          6.1548707E7,
          7133082.0,
          2800000.0,
          1.966E7,
          5850000.0,
          2300000.0,
          1.813E7,
          6000000.0,
          5.1E7,
          1.2E7,
          1.5E7,
          9.1E7,
          4.6396427E7,
          1.6656125E7,
          2.1E7,
          807947.0,
          3.4441873E7,
          1.2601706E7,
          143101.0,
          3100000.0,
          154701.0,
          9112193.0,
          1.22513057E8,
          6.176819E7,
          1500000.0,
          3250000.0,
          1.2058187E7,
          3.5E7,
          1.0703234E7,
          1.29358E7,
          4250000.0,
          45000.0,
          4.266441E7,
          208588.0,
          250000.0,
          1.2E7,
          9.8E7,
          2.7391084E7,
          9.1709827E7,
          8.4025816E7,
          5659286.0,
          3621046.0,
          1784763.0,
          249083.0,
          3.5401758E7,
          5.8978653E7,
          4.0423945E7,
          443962.0,
          42330.0,
          9.8450062E7,
          3.485499E7,
          5.2882018E7,
          2.7139524E7,
          5.4418872E7,
          702354.0,
          1.6815892E7,
          845188.0,
          300000.0,
          24591.0,
          2084628.0,
          1.4860766E7,
          1.600242E7,
          1.112209E7,
          6.7790117E7,
          4.2972994E7,
          6.4191523E7,
          3220371.0,
          9077700.0,
          4.1387687E7,
          1268395.0,
          7.262967E7,
          4.0924982E7,
          4.27E7,
          6341684.0,
          696681.0,
          3.15E7,
          1677.0,
          1978592.0,
          7002261.0,
          4.9028E7,
          1.88E7,
          632542.0,
          5.2395996E7,
          8.8346473E7,
          1777043.0,
          5578519.0,
          1.433379E7,
          3.6606743E7,
          4300000.0,
          1300000.0,
          1500000.0,
          6000000.0,
          1.4E7,
          700000.0,
          500000.0,
          573335.0,
          3727746.0,
          2.0497844E7,
          16344.0,
          6.3647656E7,
          2.5513752E7,
          26144.0,
          3.8793283E7,
          117629.0,
          3.3013805E7,
          486937.0,
          6.0273173E7,
          3020664.0,
          133332.0,
          105097.0,
          7.8096553E7,
          2333684.0,
          2.4902723E7,
          1.834E7,
          8235661.0,
          8.0E7,
          340312.0,
          3.0,
          520000.0,
          1.1E7,
          623791.0,
          15.0,
          25000.0,
          161789.0,
          4100000.0,
          4.2426912E7,
          6.7E7,
          5279982.0,
          5330000.0,
          4400000.0,
          1.5536328E7,
          1.1E7,
          559298.0,
          1.2975143E7,
          1.5E8,
          2541554.0,
          1.0,
          1550000.0,
          2250547.0,
          6000000.0,
          1.4061361E7,
          2.1164799E7,
          2.9252978E7,
          5.6E7,
          7471304.0,
          1.6374328E7,
          1397284.0,
          6.1E7,
          1.4394097E7,
          2801508.0,
          4.0055439E7,
          4200000.0,
          3.1E7,
          9200000.0,
          8000000.0,
          1.7062499E7,
          4.6152411E7,
          3.2E7,
          187674.0,
          6.4188367E7,
          4842699.0,
          4.6069568E7,
          9.4073028E7,
          302000.0,
          499168.0,
          1.5861566E7,
          5900000.0,
          2259444.0,
          1.2639297E7,
          1320005.0,
          2978994.0,
          2.4804129E7,
          1.08286421E8,
          2.3083334E7,
          6490401.0,
          2.5182929E7,
          6100000.0,
          1.1E7,
          8306690.0,
          6530000.0,
          645135.0,
          1.11E7,
          9600000.0,
          2.0E7,
          2760000.0,
          1.6E7,
          1.945E7,
          6600000.0,
          1.0E7,
          5000000.0,
          8.0,
          4100000.0,
          4.0,
          1.0E7,
          966214.0,
          1333124.0,
          1.2E7,
          1.8E7,
          5333333.0,
          1.4E7,
          2640850.0,
          2.2E7,
          1.8704595E7,
          1.4444999E7,
          2000000.0,
          34694.0,
          7.3883359E7,
          4.8902953E7,
          8.8923251E7,
          2100000.0,
          1646788.0,
          2.0566327E7,
          101657.0,
          200242.0,
          1.4016568E7,
          88097.0,
          3400278.0,
          1.3624522E7,
          2152738.0,
          6000000.0,
          1600000.0,
          282382.0,
          2.9251596E7,
          9.3282604E7,
          5.7814445E7,
          5.5030051E7,
          1.8730891E7,
          7.8636257E7,
          1.4397593E7,
          100659.0,
          2.1E7,
          1.6E7,
          2.8E7,
          1400000.0,
          1.9E7,
          500000.0,
          500000.0,
          500000.0,
          500000.0,
          500000.0,
          500000.0,
          500000.0,
          500000.0,
          4.841816E7,
          8821329.0,
          21256.0,
          4212494.0,
          9700000.0,
          3.0,
          9.89E7,
          2.7305571E7,
          1.19100758E8,
          286000.0,
          198.0,
          5.5E7,
          9250000.0,
          1778391.0,
          1983204.0,
          1.40705322E8,
          5879736.0,
          1390172.0,
          4267218.0,
          8.135E7,
          4.3763247E7,
          4210454.0,
          50.0,
          343617.0,
          1.0898293E7,
          1248748.0,
          1.49E7,
          4817642.0,
          1013926.0,
          1.1858788E8,
          1.48868835E8,
          4500.0,
          8.5241496E7,
          1.02E8,
          5900000.0,
          1.1E7,
          1.5436808E7,
          1.2118661E7,
          3775000.0,
          1200000.0,
          1.83936074E8,
          3.7589296E7,
          1.57100845E8,
          4.4235023E7,
          1.3E7,
          135.0,
          3342697.0,
          1.8803648E7,
          4600000.0,
          2341534.0,
          130000.0,
          2129768.0,
          2400000.0,
          3360800.0,
          5.85E7,
          6.5046687E7,
          8.455225E7,
          5900000.0,
          2.92E7,
          5500000.0,
          2.5956113E7,
          8810591.0,
          1.0367161E7,
          1.9985196E7,
          2.3507567E7,
          7.4E7,
          1.618E7,
          1864266.0,
          32788.0,
          404785.0,
          7.7E7,
          2039000.0,
          285930.0,
          3347647.0,
          2025032.0,
          1325092.0,
          1672730.0,
          4.5172994E7,
          1016985.0,
          8996802.0,
          779820.0,
          47748.0,
          292279.0,
          500.0,
          6101904.0,
          8.1705746E7,
          6272403.0,
          4073489.0,
          7.5026965E7,
          1.40302754E8,
          1.7782178E7,
          4.2487325E7,
          2387127.0,
          1730000.0,
          3468423.0,
          7900000.0,
          1.3819139E7,
          1.3082071E7,
          230069.0,
          1.3960394E7,
          1.1083449E7,
          10474.0,
          1.4793385E7,
          3500605.0,
          3885342.0,
          34659.0,
          2300000.0,
          2500000.0,
          6.4414761E7,
          6174491.0,
          1.9010585E7,
          5816211.0,
          2.3964782E7,
          3376375.0,
          5290.0,
          4811525.0,
          7227038.0,
          2351359.0,
          3.2540674E7,
          1776333.0,
          82703.0,
          2.6667197E7,
          3.0658387E7,
          2000000.0,
          9100000.0,
          8.308089E7,
          1.8E7,
          4100000.0,
          4.1412709E7,
          1.0025571E7,
          6341855.0,
          1.5584255E7,
          1440000.0,
          443684.0,
          2228115.0,
          2074000.0,
          1.217347E7,
          1305195.0,
          5.7330873E7,
          8574339.0,
          3565109.0,
          2.6800152E7,
          3305592.0,
          8.4618541E7,
          5100000.0,
          557241.0,
          5255.0,
          1.4054361E7,
          8262833.0,
          1.3162475E7,
          3.7461045E7,
          1.5E7,
          3451.0,
          4.0120144E7,
          9868942.0,
          1.7768012E7,
          4219536.0,
          3600000.0,
          2403885.0,
          1500000.0,
          31000.0,
          214600.0,
          698200.0,
          4781454.0,
          964206.0,
          179000.0,
          2.2212223E7,
          9816332.0,
          3877492.0,
          809000.0,
          5.5635037E7,
          1.7E7,
          2.5442939E7,
          3.0,
          4.5056771E7,
          1492523.0,
          5249225.0,
          11455.0,
          33700.0,
          1.11719E7,
          4864560.0,
          4803665.0,
          2294357.0,
          1.7850711E7,
          1877122.0,
          3704408.0,
          1.756604E7,
          2141028.0,
          4588176.0,
          3919731.0,
          6700000.0,
          9713500.0,
          1477030.0,
          9938268.0,
          2000000.0,
          2.4527158E7,
          855450.0,
          2.2E7,
          273137.0,
          7547762.0,
          2.2175908E7,
          9.0007945E7,
          5730596.0,
          5.61E7,
          6.8411275E7,
          1.1666088E7,
          8000000.0,
          1957000.0,
          2411594.0,
          1.84770205E8,
          1.9E7,
          3.0,
          1328612.0,
          1268793.0,
          1413000.0
         ],
         "yaxis": "y",
         "type": "scattergl"
        },
        {
         "customdata": [
          [
           "Heat"
          ],
          [
           "Sudden Death"
          ],
          [
           "The American President"
          ],
          [
           "Nixon"
          ],
          [
           "Cutthroat Island"
          ],
          [
           "Casino"
          ],
          [
           "Ace Ventura: When Nature Calls"
          ],
          [
           "Money Train"
          ],
          [
           "Get Shorty"
          ],
          [
           "Assassins"
          ],
          [
           "Twelve Monkeys"
          ],
          [
           "Fair Game"
          ],
          [
           "Mary Reilly"
          ],
          [
           "Broken Arrow"
          ],
          [
           "The Bridges of Madison County"
          ],
          [
           "Braveheart"
          ],
          [
           "Boomerang"
          ],
          [
           "Jade"
          ],
          [
           "The Birdcage"
          ],
          [
           "Congo"
          ],
          [
           "Crimson Tide"
          ],
          [
           "First Knight"
          ],
          [
           "Judge Dredd"
          ],
          [
           "The Scarlet Letter"
          ],
          [
           "Showgirls"
          ],
          [
           "Species"
          ],
          [
           "Strange Days"
          ],
          [
           "Under Siege 2: Dark Territory"
          ],
          [
           "Disclosure"
          ],
          [
           "Interview with the Vampire"
          ],
          [
           "Junior"
          ],
          [
           "Legends of the Fall"
          ],
          [
           "Mary Shelley's Frankenstein"
          ],
          [
           "Nell"
          ],
          [
           "Outbreak"
          ],
          [
           "The Specialist"
          ],
          [
           "Stargate"
          ],
          [
           "The Santa Clause"
          ],
          [
           "Star Trek: Generations"
          ],
          [
           "Clear and Present Danger"
          ],
          [
           "The Client"
          ],
          [
           "I Love Trouble"
          ],
          [
           "Wyatt Earp"
          ],
          [
           "Street Fighter"
          ],
          [
           "Beverly Hills Cop III"
          ],
          [
           "Color of Night"
          ],
          [
           "Demolition Man"
          ],
          [
           "In the Line of Fire"
          ],
          [
           "Last Action Hero"
          ],
          [
           "Executive Decision"
          ],
          [
           "A Perfect World"
          ],
          [
           "Philadelphia"
          ],
          [
           "Renaissance Man"
          ],
          [
           "Sliver"
          ],
          [
           "Super Mario Bros."
          ],
          [
           "Terminal Velocity"
          ],
          [
           "Primal Fear"
          ],
          [
           "Courage Under Fire"
          ],
          [
           "DragonHeart"
          ],
          [
           "James and the Giant Peach"
          ],
          [
           "The Phantom"
          ],
          [
           "Striptease"
          ],
          [
           "Jack"
          ],
          [
           "The Fan"
          ],
          [
           "The Hunchback of Notre Dame"
          ],
          [
           "The Cable Guy"
          ],
          [
           "The Nutty Professor"
          ],
          [
           "Daylight"
          ],
          [
           "Phenomenon"
          ],
          [
           "A Time to Kill"
          ],
          [
           "Chain Reaction"
          ],
          [
           "Escape from L.A."
          ],
          [
           "Tin Cup"
          ],
          [
           "The Relic"
          ],
          [
           "The Island of Dr. Moreau"
          ],
          [
           "Last Man Standing"
          ],
          [
           "Extreme Measures"
          ],
          [
           "The Chamber"
          ],
          [
           "Die Hard"
          ],
          [
           "The Long Kiss Goodnight"
          ],
          [
           "The Ghost and the Darkness"
          ],
          [
           "Shadow Conspiracy"
          ],
          [
           "Sleepers"
          ],
          [
           "The Doors"
          ],
          [
           "Days of Thunder"
          ],
          [
           "The Abyss"
          ],
          [
           "Apocalypse Now"
          ],
          [
           "The Manchurian Candidate"
          ],
          [
           "Alien³"
          ],
          [
           "Dracula"
          ],
          [
           "Cape Fear"
          ],
          [
           "Star Trek: First Contact"
          ],
          [
           "Jingle All the Way"
          ],
          [
           "The Preacher's Wife"
          ],
          [
           "Star Trek: The Motion Picture"
          ],
          [
           "Under Siege"
          ],
          [
           "Mars Attacks!"
          ],
          [
           "The Last of the Mohicans"
          ],
          [
           "Evita"
          ],
          [
           "Turbulence"
          ],
          [
           "Metro"
          ],
          [
           "Absolute Power"
          ],
          [
           "The Saint"
          ],
          [
           "The Devil's Own"
          ],
          [
           "Anaconda"
          ],
          [
           "Breakdown"
          ],
          [
           "The Lost World: Jurassic Park"
          ],
          [
           "Con Air"
          ],
          [
           "Contact"
          ],
          [
           "G.I. Jane"
          ],
          [
           "Event Horizon"
          ],
          [
           "Spawn"
          ],
          [
           "Conspiracy Theory"
          ],
          [
           "The Hunt for Red October"
          ],
          [
           "L.A. Confidential"
          ],
          [
           "Seven Years in Tibet"
          ],
          [
           "The Game"
          ],
          [
           "Fire Down Below"
          ],
          [
           "The Devil's Advocate"
          ],
          [
           "Mad City"
          ],
          [
           "The Rainmaker"
          ],
          [
           "Starship Troopers"
          ],
          [
           "The Jackal"
          ],
          [
           "Anastasia"
          ],
          [
           "Alien: Resurrection"
          ],
          [
           "Amistad"
          ],
          [
           "Flubber"
          ],
          [
           "Home Alone 3"
          ],
          [
           "MouseHunt"
          ],
          [
           "Scream 2"
          ],
          [
           "The Postman"
          ],
          [
           "The Horse Whisperer"
          ],
          [
           "Hard Rain"
          ],
          [
           "Deep Rising"
          ],
          [
           "Sphere"
          ],
          [
           "U.S. Marshals"
          ],
          [
           "Lost in Space"
          ],
          [
           "City of Angels"
          ],
          [
           "Deep Impact"
          ],
          [
           "Quest for Camelot"
          ],
          [
           "A Perfect Murder"
          ],
          [
           "Six Days Seven Nights"
          ],
          [
           "The X Files"
          ],
          [
           "Out of Sight"
          ],
          [
           "Small Soldiers"
          ],
          [
           "Out of Africa"
          ],
          [
           "Gremlins 2: The New Batch"
          ],
          [
           "Metropolis"
          ],
          [
           "Dune"
          ],
          [
           "The Godfather: Part III"
          ],
          [
           "Lolita"
          ],
          [
           "Honey I Blew Up the Kid"
          ],
          [
           "The Negotiator"
          ],
          [
           "The Little Mermaid"
          ],
          [
           "The Rescuers Down Under"
          ],
          [
           "The Rocketeer"
          ],
          [
           "The Addams Family"
          ],
          [
           "Snake Eyes"
          ],
          [
           "The Avengers"
          ],
          [
           "Blade"
          ],
          [
           "Willow"
          ],
          [
           "Nothing but Trouble"
          ],
          [
           "Ronin"
          ],
          [
           "Antz"
          ],
          [
           "What Dreams May Come"
          ],
          [
           "Practical Magic"
          ],
          [
           "Soldier"
          ],
          [
           "The Siege"
          ],
          [
           "The Waterboy"
          ],
          [
           "I Still Know What You Did Last Summer"
          ],
          [
           "Meet Joe Black"
          ],
          [
           "The Rugrats Movie"
          ],
          [
           "A View to a Kill"
          ],
          [
           "Babe: Pig in the City"
          ],
          [
           "Psycho"
          ],
          [
           "Star Trek: Insurrection"
          ],
          [
           "The Prince of Egypt"
          ],
          [
           "Santa Claus: The Movie"
          ],
          [
           "Rambo III"
          ],
          [
           "Rocky V"
          ],
          [
           "The Thin Red Line"
          ],
          [
           "Patch Adams"
          ],
          [
           "A Civil Action"
          ],
          [
           "Virus"
          ],
          [
           "Howard the Duck"
          ],
          [
           "Payback"
          ],
          [
           "Message in a Bottle"
          ],
          [
           "My Favorite Martian"
          ],
          [
           "8MM"
          ],
          [
           "Analyze This"
          ],
          [
           "The Deep End of the Ocean"
          ],
          [
           "Forces of Nature"
          ],
          [
           "The Mod Squad"
          ],
          [
           "The Out-of-Towners"
          ],
          [
           "Life"
          ],
          [
           "Entrapment"
          ],
          [
           "Dick Tracy"
          ],
          [
           "Superman II"
          ],
          [
           "Superman III"
          ],
          [
           "The General's Daughter"
          ],
          [
           "Eyes Wide Shut"
          ],
          [
           "Ghostbusters II"
          ],
          [
           "The Haunting"
          ],
          [
           "Deep Blue Sea"
          ],
          [
           "Mystery Men"
          ],
          [
           "The Iron Giant"
          ],
          [
           "The Thomas Crown Affair"
          ],
          [
           "The Pelican Brief"
          ],
          [
           "Universal Soldier: The Return"
          ],
          [
           "The Astronaut's Wife"
          ],
          [
           "Chill Factor"
          ],
          [
           "Blue Streak"
          ],
          [
           "Double Jeopardy"
          ],
          [
           "Three Kings"
          ],
          [
           "Random Hearts"
          ],
          [
           "Fight Club"
          ],
          [
           "The Story of Us"
          ],
          [
           "RoboCop 2"
          ],
          [
           "For Your Eyes Only"
          ],
          [
           "Licence to Kill"
          ],
          [
           "Princess Mononoke"
          ],
          [
           "The Bachelor"
          ],
          [
           "The Bone Collector"
          ],
          [
           "The Insider"
          ],
          [
           "Trading Places"
          ],
          [
           "The Messenger: The Story of Joan of Arc"
          ],
          [
           "Pokémon: The First Movie: Mewtwo Strikes Back"
          ],
          [
           "Backdraft"
          ],
          [
           "The Bonfire of the Vanities"
          ],
          [
           "Bicentennial Man"
          ],
          [
           "Fantasia 2000"
          ],
          [
           "Magnolia"
          ],
          [
           "Any Given Sunday"
          ],
          [
           "Man on the Moon"
          ],
          [
           "Galaxy Quest"
          ],
          [
           "The Talented Mr. Ripley"
          ],
          [
           "The Hurricane"
          ],
          [
           "Supernova"
          ],
          [
           "Sister Act 2: Back in the Habit"
          ],
          [
           "Scent of a Woman"
          ],
          [
           "A League of Their Own"
          ],
          [
           "Patriot Games"
          ],
          [
           "Death Becomes Her"
          ],
          [
           "Far and Away"
          ],
          [
           "Scream 3"
          ],
          [
           "The Beach"
          ],
          [
           "Hanging Up"
          ],
          [
           "The Whole Nine Yards"
          ],
          [
           "Reindeer Games"
          ],
          [
           "Mission to Mars"
          ],
          [
           "The Ninth Gate"
          ],
          [
           "JFK"
          ],
          [
           "The Road to El Dorado"
          ],
          [
           "Mr. Saturday Night"
          ],
          [
           "Rules of Engagement"
          ],
          [
           "U-571"
          ],
          [
           "The Flintstones in Viva Rock Vegas"
          ],
          [
           "Battlefield Earth"
          ],
          [
           "Shanghai Noon"
          ],
          [
           "Moonraker"
          ],
          [
           "Big Momma's House"
          ],
          [
           "Predator 2"
          ],
          [
           "Gone in Sixty Seconds"
          ],
          [
           "Shaft"
          ],
          [
           "Titan A.E."
          ],
          [
           "Chicken Run"
          ],
          [
           "Me, Myself & Irene"
          ],
          [
           "The Adventures of Rocky & Bullwinkle"
          ],
          [
           "The Kid"
          ],
          [
           "What Lies Beneath"
          ],
          [
           "Pokémon: The Movie 2000"
          ],
          [
           "What About Bob?"
          ],
          [
           "Nutty Professor II: The Klumps"
          ],
          [
           "Coyote Ugly"
          ],
          [
           "Hollow Man"
          ],
          [
           "Space Cowboys"
          ],
          [
           "The Cell"
          ],
          [
           "The Art of War"
          ],
          [
           "Almost Famous"
          ],
          [
           "Remember the Titans"
          ],
          [
           "Get Carter"
          ],
          [
           "Bedazzled"
          ],
          [
           "Pay It Forward"
          ],
          [
           "The Legend of Bagger Vance"
          ],
          [
           "Red Planet"
          ],
          [
           "The 6th Day"
          ],
          [
           "102 Dalmatians"
          ],
          [
           "Vertical Limit"
          ],
          [
           "The Living Daylights"
          ],
          [
           "Chocolat"
          ],
          [
           "The Emperor's New Groove"
          ],
          [
           "Finding Forrester"
          ],
          [
           "Miss Congeniality"
          ],
          [
           "Thirteen Days"
          ],
          [
           "Traffic"
          ],
          [
           "Annie"
          ],
          [
           "The Wedding Planner"
          ],
          [
           "Ishtar"
          ],
          [
           "Sweet November"
          ],
          [
           "Monkeybone"
          ],
          [
           "3000 Miles to Graceland"
          ],
          [
           "The Mexican"
          ],
          [
           "15 Minutes"
          ],
          [
           "Enemy at the Gates"
          ],
          [
           "Exit Wounds"
          ],
          [
           "Spy Kids"
          ],
          [
           "Along Came a Spider"
          ],
          [
           "Blow"
          ],
          [
           "Driven"
          ],
          [
           "Town & Country"
          ],
          [
           "For the Boys"
          ],
          [
           "A Knight's Tale"
          ],
          [
           "Angel Eyes"
          ],
          [
           "Moulin Rouge!"
          ],
          [
           "City Slickers"
          ],
          [
           "Evolution"
          ],
          [
           "Swordfish"
          ],
          [
           "Dr. Dolittle 2"
          ],
          [
           "The Fast and the Furious"
          ],
          [
           "Cats & Dogs"
          ],
          [
           "Scary Movie 2"
          ],
          [
           "The Score"
          ],
          [
           "The Adventures of Baron Munchausen"
          ],
          [
           "Tango & Cash"
          ],
          [
           "The Cotton Club"
          ],
          [
           "Original Sin"
          ],
          [
           "The Princess Diaries"
          ],
          [
           "Osmosis Jones"
          ],
          [
           "Captain Corelli's Mandolin"
          ],
          [
           "Rat Race"
          ],
          [
           "The Musketeer"
          ],
          [
           "Rock Star"
          ],
          [
           "Big Trouble"
          ],
          [
           "Training Day"
          ],
          [
           "Don't Say a Word"
          ],
          [
           "Bandits"
          ],
          [
           "From Hell"
          ],
          [
           "The Last Castle"
          ],
          [
           "Riding in Cars with Boys"
          ],
          [
           "K-PAX"
          ],
          [
           "Domestic Disturbance"
          ],
          [
           "The One"
          ],
          [
           "Shallow Hal"
          ],
          [
           "Spy Game"
          ],
          [
           "Behind Enemy Lines"
          ],
          [
           "Vanilla Sky"
          ],
          [
           "The Majestic"
          ],
          [
           "Ali"
          ],
          [
           "Black Hawk Down"
          ],
          [
           "Another 48 Hrs."
          ],
          [
           "The Count of Monte Cristo"
          ],
          [
           "Collateral Damage"
          ],
          [
           "Baby's Day Out"
          ],
          [
           "Hart's War"
          ],
          [
           "John Q"
          ],
          [
           "Dragonfly"
          ],
          [
           "Queen of the Damned"
          ],
          [
           "We Were Soldiers"
          ],
          [
           "Intersection"
          ],
          [
           "The Time Machine"
          ],
          [
           "Heaven's Gate"
          ],
          [
           "Resident Evil"
          ],
          [
           "Showtime"
          ],
          [
           "Blade II"
          ],
          [
           "Panic Room"
          ],
          [
           "High Crimes"
          ],
          [
           "Changing Lanes"
          ],
          [
           "The Sweetest Thing"
          ],
          [
           "Murder by Numbers"
          ],
          [
           "The Scorpion King"
          ],
          [
           "Life or Something Like It"
          ],
          [
           "Unfaithful"
          ],
          [
           "About a Boy"
          ],
          [
           "Enough"
          ],
          [
           "Insomnia"
          ],
          [
           "Spirit: Stallion of the Cimarron"
          ],
          [
           "The Sum of All Fears"
          ],
          [
           "Bad Company"
          ],
          [
           "The Bourne Identity"
          ],
          [
           "Windtalkers"
          ],
          [
           "Lilo & Stitch"
          ],
          [
           "Mr. Deeds"
          ],
          [
           "Reign of Fire"
          ],
          [
           "Road to Perdition"
          ],
          [
           "K-19: The Widowmaker"
          ],
          [
           "Spy Kids 2: The Island of Lost Dreams"
          ],
          [
           "Blood Work"
          ],
          [
           "The Adventures of Pluto Nash"
          ],
          [
           "Hot Shots!"
          ],
          [
           "FearDotCom"
          ],
          [
           "City By The Sea"
          ],
          [
           "Ballistic: Ecks vs. Sever"
          ],
          [
           "Sweet Home Alabama"
          ],
          [
           "Red Dragon"
          ],
          [
           "Ghost Ship"
          ],
          [
           "I Spy"
          ],
          [
           "The Santa Clause 2"
          ],
          [
           "8 Mile"
          ],
          [
           "Extreme Ops"
          ],
          [
           "Solaris"
          ],
          [
           "Analyze That"
          ],
          [
           "The Best Little Whorehouse in Texas"
          ],
          [
           "Maid in Manhattan"
          ],
          [
           "Star Trek: Nemesis"
          ],
          [
           "About Schmidt"
          ],
          [
           "Gangs of New York"
          ],
          [
           "Two Weeks Notice"
          ],
          [
           "Pinocchio"
          ],
          [
           "The Pianist"
          ],
          [
           "How to Lose a Guy in 10 Days"
          ],
          [
           "Shanghai Knights"
          ],
          [
           "Daredevil"
          ],
          [
           "Dennis the Menace"
          ],
          [
           "Gods and Generals"
          ],
          [
           "The Life of David Gale"
          ],
          [
           "Tears of the Sun"
          ],
          [
           "The Hunted"
          ],
          [
           "Dreamcatcher"
          ],
          [
           "Basic"
          ],
          [
           "The Core"
          ],
          [
           "A Man Apart"
          ],
          [
           "Anger Management"
          ],
          [
           "Daddy Day Care"
          ],
          [
           "The Italian Job"
          ],
          [
           "2 Fast 2 Furious"
          ],
          [
           "Hollywood Homicide"
          ],
          [
           "Legally Blonde 2: Red, White & Blonde"
          ],
          [
           "Sinbad: Legend of the Seven Seas"
          ],
          [
           "The League of Extraordinary Gentlemen"
          ],
          [
           "Johnny English"
          ],
          [
           "Lara Croft Tomb Raider: The Cradle of Life"
          ],
          [
           "Seabiscuit"
          ],
          [
           "Spy Kids 3-D: Game Over"
          ],
          [
           "Gigli"
          ],
          [
           "S.W.A.T."
          ],
          [
           "Freddy vs. Jason"
          ],
          [
           "Matchstick Men"
          ],
          [
           "Memoirs of an Invisible Man"
          ],
          [
           "Duplex"
          ],
          [
           "The Rundown"
          ],
          [
           "Out of Time"
          ],
          [
           "School of Rock"
          ],
          [
           "Mystic River"
          ],
          [
           "Intolerable Cruelty"
          ],
          [
           "Kill Bill: Vol. 1"
          ],
          [
           "Runaway Jury"
          ],
          [
           "Scary Movie 3"
          ],
          [
           "Elf"
          ],
          [
           "Looney Tunes: Back in Action"
          ],
          [
           "Gothika"
          ],
          [
           "The Haunted Mansion"
          ],
          [
           "Timeline"
          ],
          [
           "Hudson Hawk"
          ],
          [
           "Hero"
          ],
          [
           "Big Fish"
          ],
          [
           "Stuck on You"
          ],
          [
           "Cheaper by the Dozen"
          ],
          [
           "Cold Mountain"
          ],
          [
           "Paycheck"
          ],
          [
           "Peter Pan"
          ],
          [
           "Along Came Polly"
          ],
          [
           "Torque"
          ],
          [
           "The Adventures of Ford Fairlane"
          ],
          [
           "The Big Bounce"
          ],
          [
           "50 First Dates"
          ],
          [
           "Against the Ropes"
          ],
          [
           "Twisted"
          ],
          [
           "Hidalgo"
          ],
          [
           "Starsky & Hutch"
          ],
          [
           "Secret Window"
          ],
          [
           "Taking Lives"
          ],
          [
           "Hellboy"
          ],
          [
           "Home on the Range"
          ],
          [
           "Walking Tall"
          ],
          [
           "The Whole Ten Yards"
          ],
          [
           "Kill Bill: Vol. 2"
          ],
          [
           "13 Going on 30"
          ],
          [
           "Man on Fire"
          ],
          [
           "D-Tox"
          ],
          [
           "Enemy Mine"
          ],
          [
           "Octopussy"
          ],
          [
           "Never Say Never Again"
          ],
          [
           "On Deadly Ground"
          ],
          [
           "Raising Helen"
          ],
          [
           "The Chronicles of Riddick"
          ],
          [
           "Garfield"
          ],
          [
           "The Stepford Wives"
          ],
          [
           "Around the World in 80 Days"
          ],
          [
           "The Terminal"
          ],
          [
           "White Chicks"
          ],
          [
           "The Notebook"
          ],
          [
           "Two Brothers"
          ],
          [
           "Catwoman"
          ],
          [
           "The Manchurian Candidate"
          ],
          [
           "Thunderbirds"
          ],
          [
           "Collateral"
          ],
          [
           "The Princess Diaries 2: Royal Engagement"
          ],
          [
           "AVP: Alien vs. Predator"
          ],
          [
           "Exorcist: The Beginning"
          ],
          [
           "Resident Evil: Apocalypse"
          ],
          [
           "Sky Captain and the World of Tomorrow"
          ],
          [
           "The Forgotten"
          ],
          [
           "1492: Conquest of Paradise"
          ],
          [
           "Ladder 49"
          ],
          [
           "Shall We Dance?"
          ],
          [
           "Surviving Christmas"
          ],
          [
           "Alfie"
          ],
          [
           "Ray"
          ],
          [
           "After the Sunset"
          ],
          [
           "Bridget Jones: The Edge of Reason"
          ],
          [
           "The SpongeBob SquarePants Movie"
          ],
          [
           "Blade: Trinity"
          ],
          [
           "Havana"
          ],
          [
           "A Sound of Thunder"
          ],
          [
           "Spanglish"
          ],
          [
           "The Interpreter"
          ],
          [
           "Flight of the Phoenix"
          ],
          [
           "The Ring Two"
          ],
          [
           "Million Dollar Baby"
          ],
          [
           "The Life Aquatic with Steve Zissou"
          ],
          [
           "The Phantom of the Opera"
          ],
          [
           "Elektra"
          ],
          [
           "Racing Stripes"
          ],
          [
           "Are We There Yet?"
          ],
          [
           "The Pacifier"
          ],
          [
           "Be Cool"
          ],
          [
           "Hostage"
          ],
          [
           "Guess Who"
          ],
          [
           "Sin City"
          ],
          [
           "The Hitchhiker's Guide to the Galaxy"
          ],
          [
           "xXx: State of the Union"
          ],
          [
           "House of Wax"
          ],
          [
           "Unleashed"
          ],
          [
           "Kicking & Screaming"
          ],
          [
           "Monster-in-Law"
          ],
          [
           "The Longest Yard"
          ],
          [
           "Cinderella Man"
          ],
          [
           "The Adventures of Sharkboy and Lavagirl"
          ],
          [
           "Herbie Fully Loaded"
          ],
          [
           "Bewitched"
          ],
          [
           "Rebound"
          ],
          [
           "Sky High"
          ],
          [
           "Serenity"
          ],
          [
           "The Dukes of Hazzard"
          ],
          [
           "The Skeleton Key"
          ],
          [
           "Four Brothers"
          ],
          [
           "The Great Raid"
          ],
          [
           "The Brothers Grimm"
          ],
          [
           "Transporter 2"
          ],
          [
           "Just Like Heaven"
          ],
          [
           "Lord of War"
          ],
          [
           "Doom"
          ],
          [
           "Domino"
          ],
          [
           "Æon Flux"
          ],
          [
           "Flightplan"
          ],
          [
           "Corpse Bride"
          ],
          [
           "Oliver Twist"
          ],
          [
           "Into the Blue"
          ],
          [
           "The Curse of the Were-Rabbit"
          ],
          [
           "Elizabethtown"
          ],
          [
           "Stay"
          ],
          [
           "The Legend of Zorro"
          ],
          [
           "Jarhead"
          ],
          [
           "Get Rich or Die Tryin'"
          ],
          [
           "Syriana"
          ],
          [
           "Pride & Prejudice"
          ],
          [
           "Walk the Line"
          ],
          [
           "Rent"
          ],
          [
           "Zathura: A Space Adventure"
          ],
          [
           "Yours, Mine & Ours"
          ],
          [
           "Memoirs of a Geisha"
          ],
          [
           "Munich"
          ],
          [
           "The Producers"
          ],
          [
           "Rumor Has It..."
          ],
          [
           "Cheaper by the Dozen 2"
          ],
          [
           "Last Holiday"
          ],
          [
           "Underworld: Evolution"
          ],
          [
           "Big Momma's House 2"
          ],
          [
           "Curious George"
          ],
          [
           "Firewall"
          ],
          [
           "Eight Below"
          ],
          [
           "Pulse"
          ],
          [
           "16 Blocks"
          ],
          [
           "Failure to Launch"
          ],
          [
           "V for Vendetta"
          ],
          [
           "Inside Man"
          ],
          [
           "The Shaggy Dog"
          ],
          [
           "Basic Instinct 2"
          ],
          [
           "Scary Movie 4"
          ],
          [
           "The Sentinel"
          ],
          [
           "The Wild"
          ],
          [
           "Silent Hill"
          ],
          [
           "RV"
          ],
          [
           "The Break-Up"
          ],
          [
           "Nacho Libre"
          ],
          [
           "The Lake House"
          ],
          [
           "Click"
          ],
          [
           "You, Me and Dupree"
          ],
          [
           "Lady in the Water"
          ],
          [
           "Marie Antoinette"
          ],
          [
           "The Fast and the Furious: Tokyo Drift"
          ],
          [
           "Little Man"
          ],
          [
           "Monster House"
          ],
          [
           "Talladega Nights: The Ballad of Ricky Bobby"
          ],
          [
           "World Trade Center"
          ],
          [
           "The Ant Bully"
          ],
          [
           "Black Gold"
          ],
          [
           "Barnyard"
          ],
          [
           "The Illusionist"
          ],
          [
           "The Wicker Man"
          ],
          [
           "The Black Dahlia"
          ],
          [
           "Apocalypto"
          ],
          [
           "Flyboys"
          ],
          [
           "All the King's Men"
          ],
          [
           "The Guardian"
          ],
          [
           "Open Season"
          ],
          [
           "Stormbreaker"
          ],
          [
           "Children of Men"
          ],
          [
           "The Prestige"
          ],
          [
           "Flags of Our Fathers"
          ],
          [
           "Perfume: The Story of a Murderer"
          ],
          [
           "Déjà Vu"
          ],
          [
           "The Holiday"
          ],
          [
           "Blood Diamond"
          ],
          [
           "Charlotte's Web"
          ],
          [
           "Rocky Balboa"
          ],
          [
           "We Are Marshall"
          ],
          [
           "The Good Shepherd"
          ],
          [
           "Dreamgirls"
          ],
          [
           "Happily N'Ever After"
          ],
          [
           "Arthur and the Invisibles"
          ],
          [
           "Bridge to Terabithia"
          ],
          [
           "Hannibal Rising"
          ],
          [
           "Norbit"
          ],
          [
           "Music and Lyrics"
          ],
          [
           "Next"
          ],
          [
           "Zodiac"
          ],
          [
           "Shooter"
          ],
          [
           "TMNT"
          ],
          [
           "The Reaping"
          ],
          [
           "Sunshine"
          ],
          [
           "Goya's Ghosts"
          ],
          [
           "Perfect Stranger"
          ],
          [
           "Pathfinder"
          ],
          [
           "Knocked Up"
          ],
          [
           "Hairspray"
          ],
          [
           "Surf's Up"
          ],
          [
           "License to Wed"
          ],
          [
           "I Now Pronounce You Chuck & Larry"
          ],
          [
           "Stardust"
          ],
          [
           "The Last Legion"
          ],
          [
           "The Kingdom"
          ],
          [
           "The Invasion"
          ],
          [
           "3:10 to Yuma"
          ],
          [
           "Shoot 'Em Up"
          ],
          [
           "Atonement"
          ],
          [
           "The Brave One"
          ],
          [
           "Eastern Promises"
          ],
          [
           "Resident Evil: Extinction"
          ],
          [
           "The Heartbreak Kid"
          ],
          [
           "Elizabeth: The Golden Age"
          ],
          [
           "No Country for Old Men"
          ],
          [
           "Lions for Lambs"
          ],
          [
           "Fred Claus"
          ],
          [
           "Beowulf"
          ],
          [
           "Love in the Time of Cholera"
          ],
          [
           "Awake"
          ],
          [
           "The Bucket List"
          ],
          [
           "Sweeney Todd: The Demon Barber of Fleet Street"
          ],
          [
           "Charlie Wilson's War"
          ],
          [
           "Aliens vs Predator: Requiem"
          ],
          [
           "The Water Horse"
          ],
          [
           "P.S. I Love You"
          ],
          [
           "27 Dresses"
          ],
          [
           "Dragon Wars: D-War"
          ],
          [
           "Cloverfield"
          ],
          [
           "Rambo"
          ],
          [
           "Hellboy II: The Golden Army"
          ],
          [
           "Fool's Gold"
          ],
          [
           "Jumper"
          ],
          [
           "Vantage Point"
          ],
          [
           "The Spiderwick Chronicles"
          ],
          [
           "The Love Guru"
          ],
          [
           "21"
          ],
          [
           "Leatherheads"
          ],
          [
           "Pirates"
          ],
          [
           "Nim's Island"
          ],
          [
           "Forgetting Sarah Marshall"
          ],
          [
           "The Forbidden Kingdom"
          ],
          [
           "Made of Honor"
          ],
          [
           "What Happens in Vegas"
          ],
          [
           "You Don't Mess with the Zohan"
          ],
          [
           "The Happening"
          ],
          [
           "The Children of Huang Shi"
          ],
          [
           "Get Smart"
          ],
          [
           "Journey to the Center of the Earth"
          ],
          [
           "Meet Dave"
          ],
          [
           "Space Chimps"
          ],
          [
           "Step Brothers"
          ],
          [
           "Red Cliff"
          ],
          [
           "Tropic Thunder"
          ],
          [
           "Death Race"
          ],
          [
           "Mirrors"
          ],
          [
           "Burn After Reading"
          ],
          [
           "Babylon A.D."
          ],
          [
           "The Spirit"
          ],
          [
           "Bangkok Dangerous"
          ],
          [
           "Righteous Kill"
          ],
          [
           "Miracle at St. Anna"
          ],
          [
           "Eagle Eye"
          ],
          [
           "Body of Lies"
          ],
          [
           "City of Ember"
          ],
          [
           "Max Payne"
          ],
          [
           "The Express"
          ],
          [
           "Changeling"
          ],
          [
           "Transporter 3"
          ],
          [
           "Four Christmases"
          ],
          [
           "The Day the Earth Stood Still"
          ],
          [
           "The Reader"
          ],
          [
           "Seven Pounds"
          ],
          [
           "Yes Man"
          ],
          [
           "Valkyrie"
          ],
          [
           "Bedtime Stories"
          ],
          [
           "Revolutionary Road"
          ],
          [
           "Ponyo"
          ],
          [
           "The Tale of Despereaux"
          ],
          [
           "Bride Wars"
          ],
          [
           "Underworld: Rise of the Lycans"
          ],
          [
           "Inkheart"
          ],
          [
           "Paul Blart: Mall Cop"
          ],
          [
           "Outlander"
          ],
          [
           "Coraline"
          ],
          [
           "Push"
          ],
          [
           "The International"
          ],
          [
           "He's Just Not That Into You"
          ],
          [
           "Hotel for Dogs"
          ],
          [
           "Funny People"
          ],
          [
           "Street Fighter: The Legend of Chun-Li"
          ],
          [
           "I Love You, Man"
          ],
          [
           "Duplicity"
          ],
          [
           "Knowing"
          ],
          [
           "Confessions of a Shopaholic"
          ],
          [
           "The Boat That Rocked"
          ],
          [
           "State of Play"
          ],
          [
           "Red Cliff Part II"
          ],
          [
           "The Soloist"
          ],
          [
           "Land of the Lost"
          ],
          [
           "The Taking of Pelham 1 2 3"
          ],
          [
           "Year One"
          ],
          [
           "Public Enemies"
          ],
          [
           "My Sister's Keeper"
          ],
          [
           "The Ugly Truth"
          ],
          [
           "Aliens in the Attic"
          ],
          [
           "District 9"
          ],
          [
           "Julie & Julia"
          ],
          [
           "Race to Witch Mountain"
          ],
          [
           "Hannah Montana: The Movie"
          ],
          [
           "The Time Traveler's Wife"
          ],
          [
           "Christopher Columbus: The Discovery"
          ],
          [
           "The Final Destination"
          ],
          [
           "Gamer"
          ],
          [
           "Surrogates"
          ],
          [
           "Whiteout"
          ],
          [
           "Couples Retreat"
          ],
          [
           "Where the Wild Things Are"
          ],
          [
           "Shorts"
          ],
          [
           "Law Abiding Citizen"
          ],
          [
           "Amelia"
          ],
          [
           "Up in the Air"
          ],
          [
           "Cirque du Freak: The Vampire's Assistant"
          ],
          [
           "Astro Boy"
          ],
          [
           "Fantastic Mr. Fox"
          ],
          [
           "Ninja Assassin"
          ],
          [
           "Old Dogs"
          ],
          [
           "Planet 51"
          ],
          [
           "The Lovely Bones"
          ],
          [
           "Invictus"
          ],
          [
           "Did You Hear About the Morgans?"
          ],
          [
           "Nine"
          ],
          [
           "It's Complicated"
          ],
          [
           "The Book of Eli"
          ],
          [
           "Asterix at the Olympic Games"
          ],
          [
           "Edge of Darkness"
          ],
          [
           "Valentine's Day"
          ],
          [
           "Percy Jackson & the Olympians: The Lightning Thief"
          ],
          [
           "The Ghost Writer"
          ],
          [
           "Agora"
          ],
          [
           "Tooth Fairy"
          ],
          [
           "Green Zone"
          ],
          [
           "From Paris with Love"
          ],
          [
           "The Bounty Hunter"
          ],
          [
           "Hot Tub Time Machine"
          ],
          [
           "Date Night"
          ],
          [
           "Solomon Kane"
          ],
          [
           "Marmaduke"
          ],
          [
           "A Nightmare on Elm Street"
          ],
          [
           "Killers"
          ],
          [
           "Get Him to the Greek"
          ],
          [
           "The Back-Up Plan"
          ],
          [
           "Jonah Hex"
          ],
          [
           "Predators"
          ],
          [
           "Mr. Nobody"
          ],
          [
           "Dinner for Schmucks"
          ],
          [
           "Nanny McPhee and the Big Bang"
          ],
          [
           "Charlie St. Cloud"
          ],
          [
           "The Other Guys"
          ],
          [
           "Scott Pilgrim vs. the World"
          ],
          [
           "Step Up 3D"
          ],
          [
           "The Town"
          ],
          [
           "Eat Pray Love"
          ],
          [
           "Wall Street: Money Never Sleeps"
          ],
          [
           "Legend of the Guardians: The Owls of Ga'Hoole"
          ],
          [
           "Cats & Dogs 2 : The Revenge of Kitty Galore"
          ],
          [
           "Secretariat"
          ],
          [
           "Life As We Know It"
          ],
          [
           "RED"
          ],
          [
           "Hereafter"
          ],
          [
           "Due Date"
          ],
          [
           "Unstoppable"
          ],
          [
           "Morning Glory"
          ],
          [
           "Love & Other Drugs"
          ],
          [
           "How Do You Know"
          ],
          [
           "Burlesque"
          ],
          [
           "The Secret World of Arrietty"
          ],
          [
           "Yogi Bear"
          ],
          [
           "The Warrior's Way"
          ],
          [
           "Season of the Witch"
          ],
          [
           "The Dilemma"
          ],
          [
           "Limitless"
          ],
          [
           "No Strings Attached"
          ],
          [
           "The Lincoln Lawyer"
          ],
          [
           "The Rite"
          ],
          [
           "Unknown"
          ],
          [
           "Sanctum"
          ],
          [
           "Gnomeo & Juliet"
          ],
          [
           "Paul"
          ],
          [
           "Drive Angry"
          ],
          [
           "The Adjustment Bureau"
          ],
          [
           "The Mechanic"
          ],
          [
           "Hall Pass"
          ],
          [
           "I Am Number Four"
          ],
          [
           "Battle: Los Angeles"
          ],
          [
           "Just Go with It"
          ],
          [
           "Red Riding Hood"
          ],
          [
           "Big Mommas: Like Father, Like Son"
          ],
          [
           "Source Code"
          ],
          [
           "Sucker Punch"
          ],
          [
           "Hop"
          ],
          [
           "Arthur"
          ],
          [
           "Scream 4"
          ],
          [
           "Water for Elephants"
          ],
          [
           "Something Borrowed"
          ],
          [
           "Priest"
          ],
          [
           "Midnight in Paris"
          ],
          [
           "The Other Woman"
          ],
          [
           "Mr. Popper's Penguins"
          ],
          [
           "Bad Teacher"
          ],
          [
           "Your Highness"
          ],
          [
           "Zookeeper"
          ],
          [
           "Horrible Bosses"
          ],
          [
           "Crazy, Stupid, Love."
          ],
          [
           "Friends with Benefits"
          ],
          [
           "The Change-Up"
          ],
          [
           "Final Destination 5"
          ],
          [
           "Colombiana"
          ],
          [
           "Conan the Barbarian"
          ],
          [
           "Contagion"
          ],
          [
           "Moneyball"
          ],
          [
           "Killer Elite"
          ],
          [
           "The Three Musketeers"
          ],
          [
           "In Time"
          ],
          [
           "Johnny English Reborn"
          ],
          [
           "Abduction"
          ],
          [
           "Dream House"
          ],
          [
           "Tower Heist"
          ],
          [
           "J. Edgar"
          ],
          [
           "Immortals"
          ],
          [
           "Jack and Jill"
          ],
          [
           "The Muppets"
          ],
          [
           "War Horse"
          ],
          [
           "The Rum Diary"
          ],
          [
           "Extremely Loud & Incredibly Close"
          ],
          [
           "Bullet to the Head"
          ],
          [
           "New Year's Eve"
          ],
          [
           "We Bought a Zoo"
          ],
          [
           "The Girl with the Dragon Tattoo"
          ],
          [
           "Dolphin Tale"
          ],
          [
           "Underworld: Awakening"
          ],
          [
           "Man on a Ledge"
          ],
          [
           "Red Tails"
          ],
          [
           "The Flowers of War"
          ],
          [
           "One for the Money"
          ],
          [
           "Big Miracle"
          ],
          [
           "Safe House"
          ],
          [
           "The Vow"
          ],
          [
           "Ghost Rider: Spirit of Vengeance"
          ],
          [
           "The Big Year"
          ],
          [
           "This Means War"
          ],
          [
           "21 Jump Street"
          ],
          [
           "Mirror Mirror"
          ],
          [
           "The Dictator"
          ],
          [
           "The Pirates! In an Adventure with Scientists!"
          ],
          [
           "A Thousand Words"
          ],
          [
           "What to Expect When You're Expecting"
          ],
          [
           "Abraham Lincoln: Vampire Hunter"
          ],
          [
           "Rock of Ages"
          ],
          [
           "Savages"
          ],
          [
           "The Watch"
          ],
          [
           "Hope Springs"
          ],
          [
           "ParaNorman"
          ],
          [
           "That's My Boy"
          ],
          [
           "Dredd"
          ],
          [
           "Frankenweenie"
          ],
          [
           "Alex Cross"
          ],
          [
           "Cloud Atlas"
          ],
          [
           "Silver Linings Playbook"
          ],
          [
           "Flight"
          ],
          [
           "Red Dawn"
          ],
          [
           "Step Up Revolution"
          ],
          [
           "Zero Dark Thirty"
          ],
          [
           "Warm Bodies"
          ],
          [
           "The Guilt Trip"
          ],
          [
           "Jack Reacher"
          ],
          [
           "This Is 40"
          ],
          [
           "The Impossible"
          ],
          [
           "Gangster Squad"
          ],
          [
           "Broken City"
          ],
          [
           "Parker"
          ],
          [
           "Hansel & Gretel: Witch Hunters"
          ],
          [
           "Upside Down"
          ],
          [
           "Identity Thief"
          ],
          [
           "Beautiful Creatures"
          ],
          [
           "Escape from Planet Earth"
          ],
          [
           "Olympus Has Fallen"
          ],
          [
           "The Host"
          ],
          [
           "42"
          ],
          [
           "This Is the End"
          ],
          [
           "Black Gold"
          ],
          [
           "The Internship"
          ],
          [
           "Now You See Me"
          ],
          [
           "The Heat"
          ],
          [
           "2 Guns"
          ],
          [
           "Percy Jackson: Sea of Monsters"
          ],
          [
           "Riddick"
          ],
          [
           "Planes"
          ],
          [
           "The Wind Rises"
          ],
          [
           "The Mortal Instruments: City of Bones"
          ],
          [
           "Prisoners"
          ],
          [
           "Rush"
          ],
          [
           "Captain Phillips"
          ],
          [
           "Escape Plan"
          ],
          [
           "Ender's Game"
          ],
          [
           "Free Birds"
          ],
          [
           "Last Vegas"
          ],
          [
           "The Secret Life of Walter Mitty"
          ],
          [
           "Lone Survivor"
          ],
          [
           "Saving Mr. Banks"
          ],
          [
           "The Nutcracker: The Untold Story"
          ],
          [
           "Anchorman 2: The Legend Continues"
          ],
          [
           "Snowpiercer"
          ],
          [
           "Grudge Match"
          ],
          [
           "Ride Along"
          ],
          [
           "Jack Ryan: Shadow Recruit"
          ],
          [
           "HOUBA! On the Trail of the Marsupilami"
          ],
          [
           "I, Frankenstein"
          ],
          [
           "The Monuments Men"
          ],
          [
           "Winter's Tale"
          ],
          [
           "The Grand Budapest Hotel"
          ],
          [
           "Non-Stop"
          ],
          [
           "Need for Speed"
          ],
          [
           "The Legend of Hercules"
          ],
          [
           "Muppets Most Wanted"
          ],
          [
           "Transcendence"
          ],
          [
           "The Other Woman"
          ],
          [
           "Lucy"
          ],
          [
           "Legends of Oz: Dorothy's Return"
          ],
          [
           "Blended"
          ],
          [
           "22 Jump Street"
          ],
          [
           "The Equalizer"
          ],
          [
           "Jersey Boys"
          ],
          [
           "Planes: Fire & Rescue"
          ],
          [
           "Sex Tape"
          ],
          [
           "The Expendables 3"
          ],
          [
           "Step Up All In"
          ],
          [
           "Sin City: A Dame to Kill For"
          ],
          [
           "Into the Storm"
          ],
          [
           "The Boxtrolls"
          ],
          [
           "The Tale of the Princess Kaguya"
          ],
          [
           "Dracula Untold"
          ],
          [
           "The Judge"
          ],
          [
           "Fury"
          ],
          [
           "The Book of Life"
          ],
          [
           "Walking With Dinosaurs"
          ],
          [
           "Dumb and Dumber To"
          ],
          [
           "Dolphin Tale 2"
          ],
          [
           "In the Heart of the Sea"
          ],
          [
           "Horrible Bosses 2"
          ],
          [
           "Unbroken"
          ],
          [
           "Into the Woods"
          ],
          [
           "The Interview"
          ],
          [
           "Seventh Son"
          ],
          [
           "Annie"
          ],
          [
           "Foodfight!"
          ],
          [
           "Chappie"
          ],
          [
           "Blackhat"
          ],
          [
           "Ben-Hur"
          ],
          [
           "Mortdecai"
          ],
          [
           "The Hateful Eight"
          ],
          [
           "Crimson Peak"
          ],
          [
           "Focus"
          ],
          [
           "Wolf Totem"
          ],
          [
           "Run All Night"
          ],
          [
           "Stand by Me Doraemon"
          ],
          [
           "Poltergeist"
          ],
          [
           "The Gunman"
          ],
          [
           "Child 44"
          ],
          [
           "Get Hard"
          ],
          [
           "Paul Blart: Mall Cop 2"
          ],
          [
           "The Longest Ride"
          ],
          [
           "Hitman: Agent 47"
          ],
          [
           "Hot Pursuit"
          ],
          [
           "Trainwreck"
          ],
          [
           "Aloha"
          ],
          [
           "Dragon Blade"
          ],
          [
           "The Last Witch Hunter"
          ],
          [
           "Ted 2"
          ],
          [
           "Black Mass"
          ],
          [
           "Vacation"
          ],
          [
           "The Man from U.N.C.L.E."
          ],
          [
           "The Walk"
          ],
          [
           "13 Hours: The Secret Soldiers of Benghazi"
          ],
          [
           "Baahubali: The Beginning"
          ],
          [
           "The Intern"
          ],
          [
           "Straight Outta Compton"
          ],
          [
           "Joy"
          ],
          [
           "Victor Frankenstein"
          ],
          [
           "Everest"
          ],
          [
           "The Little Prince"
          ],
          [
           "Silence"
          ],
          [
           "Bridge of Spies"
          ],
          [
           "Goosebumps"
          ],
          [
           "Concussion"
          ],
          [
           "Creed"
          ],
          [
           "Point Break"
          ],
          [
           "The 5th Wave"
          ],
          [
           "The Big Short"
          ],
          [
           "Zoolander 2"
          ],
          [
           "How to Be Single"
          ],
          [
           "Sisters"
          ],
          [
           "Ride Along 2"
          ],
          [
           "The Finest Hours"
          ],
          [
           "Me Before You"
          ],
          [
           "London Has Fallen"
          ],
          [
           "Ip Man 3"
          ],
          [
           "Neighbors 2: Sorority Rising"
          ],
          [
           "Free State of Jones"
          ],
          [
           "Snowden"
          ],
          [
           "The Nice Guys"
          ],
          [
           "Central Intelligence"
          ],
          [
           "Mike and Dave Need Wedding Dates"
          ],
          [
           "Pete's Dragon"
          ],
          [
           "War Dogs"
          ],
          [
           "Mechanic: Resurrection"
          ],
          [
           "The Magnificent Seven"
          ],
          [
           "Kubo and the Two Strings"
          ],
          [
           "Bridget Jones's Baby"
          ],
          [
           "Deepwater Horizon"
          ],
          [
           "The Girl on the Train"
          ],
          [
           "The Accountant"
          ],
          [
           "Hacksaw Ridge"
          ],
          [
           "Billy Lynn's Long Halftime Walk"
          ],
          [
           "A Monster Calls"
          ],
          [
           "Arrival"
          ],
          [
           "Storks"
          ],
          [
           "Railroad Tigers"
          ],
          [
           "Allied"
          ],
          [
           "Inferno"
          ],
          [
           "Keeping Up with the Joneses"
          ],
          [
           "Jack Reacher: Never Go Back"
          ],
          [
           "Collateral Beauty"
          ],
          [
           "Office Christmas Party"
          ],
          [
           "Live by Night"
          ],
          [
           "Underworld: Blood Wars"
          ],
          [
           "Why Him?"
          ],
          [
           "A Dog's Purpose"
          ],
          [
           "Patriots Day"
          ],
          [
           "A Cure for Wellness"
          ],
          [
           "John Wick: Chapter 2"
          ],
          [
           "The Ottoman Lieutenant"
          ],
          [
           "Life"
          ],
          [
           "Power Rangers"
          ],
          [
           "Smurfs: The Lost Village"
          ],
          [
           "Baywatch"
          ],
          [
           "Snatched"
          ],
          [
           "Captain Underpants: The First Epic Movie"
          ],
          [
           "Rock Dog"
          ],
          [
           "The Dark Tower"
          ],
          [
           "The Emoji Movie"
          ]
         ],
         "hovertemplate": "clusters=3<br>budget=%{x}<br>revenue=%{y}<br>title=%{customdata[0]}<extra></extra>",
         "legendgroup": "3",
         "marker": {
          "color": "#00cc96",
          "symbol": "circle"
         },
         "mode": "markers",
         "name": "3",
         "showlegend": true,
         "x": [
          6.0E7,
          3.5E7,
          6.2E7,
          4.4E7,
          9.8E7,
          5.2E7,
          3.0E7,
          6.0E7,
          3.025E7,
          5.0E7,
          2.95E7,
          5.0E7,
          4.7E7,
          5.0E7,
          2.4E7,
          7.2E7,
          4.0E7,
          5.0E7,
          3.1E7,
          5.0E7,
          5.3E7,
          5.5E7,
          9.0E7,
          5.0E7,
          4.5E7,
          3.5E7,
          4.2E7,
          6.0E7,
          5.5E7,
          6.0E7,
          6.0E7,
          3.0E7,
          4.5E7,
          3.1E7,
          5.0E7,
          4.5E7,
          5.5E7,
          2.2E7,
          3.8E7,
          6.2E7,
          4.5E7,
          4.5E7,
          6.3E7,
          3.5E7,
          5.0E7,
          4.0E7,
          5.7E7,
          4.0E7,
          8.5E7,
          5.5E7,
          3.0E7,
          2.6E7,
          4.0E7,
          4.0E7,
          4.8E7,
          5.0E7,
          3.0E7,
          4.6E7,
          5.7E7,
          3.8E7,
          4.5E7,
          5.0E7,
          4.5E7,
          5.5E7,
          1.0E8,
          4.7E7,
          5.4E7,
          8.0E7,
          3.2E7,
          4.0E7,
          5.0E7,
          5.0E7,
          4.5E7,
          6.0E7,
          4.0E7,
          6.7E7,
          3.8E7,
          5.0E7,
          2.8E7,
          6.5E7,
          5.0E7,
          4.5E7,
          4.4E7,
          3.8E7,
          6.0E7,
          7.0E7,
          3.15E7,
          8.0E7,
          5.0E7,
          4.0E7,
          3.5E7,
          4.6E7,
          6.0E7,
          4.0E7,
          3.5E7,
          3.5E7,
          7.0E7,
          4.0E7,
          5.5E7,
          5.5E7,
          5.5E7,
          5.0E7,
          6.8E7,
          9.0E7,
          4.5E7,
          3.6E7,
          7.3E7,
          7.5E7,
          9.0E7,
          5.0E7,
          6.0E7,
          4.0E7,
          7.5E7,
          3.0E7,
          3.5E7,
          7.0E7,
          5.0E7,
          6.0E7,
          5.7E7,
          5.0E7,
          4.0E7,
          1.05E8,
          6.0E7,
          5.3E7,
          7.0E7,
          3.6E7,
          8.0E7,
          3.2E7,
          3.8E7,
          2.4E7,
          8.0E7,
          6.0E7,
          7.0E7,
          4.5E7,
          7.5E7,
          6.0E7,
          8.0E7,
          5.5E7,
          7.5E7,
          4.0E7,
          6.0E7,
          7.0E7,
          6.6E7,
          4.8E7,
          4.0E7,
          3.1E7,
          5.0E7,
          9.262E7,
          4.0E7,
          5.4E7,
          6.2E7,
          4.0E7,
          5.0E7,
          4.0E7,
          3.7931E7,
          4.2E7,
          3.0E7,
          7.3E7,
          6.0E7,
          4.5E7,
          3.5E7,
          4.0E7,
          5.5E7,
          6.0E7,
          8.5E7,
          7.5E7,
          7.5E7,
          7.0E7,
          2.3E7,
          6.5E7,
          9.0E7,
          3.0E7,
          3.0E7,
          9.0E7,
          6.0E7,
          7.0E7,
          7.0E7,
          5.0E7,
          6.3E7,
          4.2E7,
          5.2E7,
          5.0E7,
          7.0E7,
          7.5E7,
          3.7E7,
          9.0E7,
          8.0E7,
          6.5E7,
          4.0E7,
          8.0E7,
          3.8E7,
          7.5E7,
          5.0E7,
          7.5E7,
          8.0E7,
          6.6E7,
          4.7E7,
          5.4E7,
          3.9E7,
          6.0E7,
          6.5E7,
          3.7E7,
          8.0E7,
          6.0E7,
          6.8E7,
          7.0E7,
          4.8E7,
          4.5E7,
          4.5E7,
          7.5E7,
          7.0E7,
          6.5E7,
          7.0E7,
          7.5E7,
          6.4E7,
          6.3E7,
          5.0E7,
          3.5E7,
          2.8E7,
          3.2E7,
          2.65E7,
          5.1E7,
          7.3E7,
          9.0E7,
          4.06E7,
          6.0E7,
          3.0E7,
          7.5E7,
          4.7E7,
          1.0E8,
          8.0E7,
          3.7E7,
          5.5E7,
          8.2E7,
          4.5E7,
          4.0E7,
          5.0E7,
          9.0E7,
          3.8E7,
          3.1E7,
          4.0E7,
          4.5E7,
          5.5E7,
          6.0E7,
          4.0E7,
          4.0E7,
          4.0E7,
          4.13E7,
          4.2E7,
          9.0E7,
          3.8E7,
          4.0E7,
          9.5E7,
          4.3E7,
          6.0E7,
          6.2E7,
          8.3E7,
          4.4E7,
          5.5E7,
          3.4E7,
          3.0E7,
          3.5E7,
          9.0E7,
          4.6E7,
          7.5E7,
          4.5E7,
          5.1E7,
          7.6E7,
          6.5E7,
          1.0E8,
          3.0E7,
          3.5E7,
          8.4E7,
          4.5E7,
          9.5E7,
          6.5E7,
          3.3E7,
          4.0E7,
          6.0E7,
          3.0E7,
          6.36E7,
          4.8E7,
          4.0E7,
          8.0E7,
          8.0E7,
          8.2E7,
          8.5E7,
          7.5E7,
          4.0E7,
          2.5E7,
          1.0E8,
          4.3E7,
          4.5E7,
          8.0E7,
          4.8E7,
          5.0E7,
          3.5E7,
          5.5E7,
          4.0E7,
          7.5E7,
          6.2E7,
          5.7E7,
          6.0E7,
          6.8E7,
          5.0E7,
          3.5E7,
          6.0E7,
          5.3E7,
          9.4E7,
          9.0E7,
          4.0E7,
          6.5E7,
          5.3E7,
          5.25E7,
          2.7E7,
          8.0E7,
          1.02E8,
          7.0E7,
          3.8E7,
          6.0E7,
          4.5E7,
          6.8E7,
          4.663E7,
          5.5E7,
          5.8E7,
          4.2E7,
          3.7E7,
          7.5E7,
          5.7E7,
          4.8E7,
          4.0E7,
          5.7E7,
          4.0E7,
          4.5E7,
          5.0E7,
          7.5E7,
          3.5E7,
          7.2E7,
          4.8E7,
          4.8E7,
          7.5E7,
          4.9E7,
          4.0E7,
          9.2E7,
          4.0E7,
          6.8E7,
          7.2E7,
          1.07E8,
          9.2E7,
          3.8E7,
          3.5E7,
          8.5E7,
          5.0E7,
          7.0E7,
          3.6E7,
          6.0E7,
          3.5E7,
          7.5E7,
          4.5E7,
          8.0E7,
          4.4E7,
          3.3E7,
          8.5E7,
          5.4E7,
          4.8E7,
          4.2E7,
          4.5E7,
          4.3E7,
          5.0E7,
          6.0E7,
          4.0E7,
          5.0E7,
          2.7E7,
          3.8E7,
          4.6E7,
          8.0E7,
          6.8E7,
          7.0E7,
          6.0E7,
          1.15E8,
          8.0E7,
          5.0E7,
          6.0E7,
          8.0E7,
          1.0E8,
          3.8E7,
          5.0E7,
          1.0E8,
          2.6E7,
          4.0E7,
          4.0E7,
          7.0E7,
          3.0E7,
          7.8E7,
          3.5E7,
          7.0E7,
          6.5E7,
          4.1E7,
          4.0E7,
          4.7E7,
          6.0E7,
          3.5E7,
          5.5E7,
          6.0E7,
          3.0E7,
          1.0E8,
          6.0E7,
          4.0E7,
          3.5E7,
          5.0E7,
          5.0E7,
          7.8E7,
          3.5E7,
          5.6E7,
          5.0E7,
          7.0E7,
          5.5E7,
          6.8E7,
          5.0E7,
          6.0E7,
          3.6E7,
          7.5E7,
          6.0E7,
          6.0E7,
          7.6E7,
          7.5E7,
          4.5E7,
          6.0E7,
          7.8E7,
          4.0E7,
          9.5E7,
          8.7E7,
          3.8E7,
          5.4E7,
          8.0E7,
          3.0E7,
          6.2E7,
          4.0E7,
          4.0E7,
          8.5E7,
          5.0E7,
          3.5E7,
          2.5E7,
          6.0E7,
          3.0E7,
          6.0E7,
          4.8E7,
          3.2E7,
          8.0E7,
          4.0E7,
          9.0E7,
          8.0E7,
          6.5E7,
          3.1E7,
          7.0E7,
          5.5E7,
          4.0E7,
          7.9E7,
          6.0E7,
          1.0E8,
          4.2E7,
          4.0E7,
          4.9E7,
          5.0E7,
          7.5E7,
          3.9E7,
          5.0E7,
          1.0E8,
          6.0E7,
          4.0E7,
          4.5E7,
          6.6E7,
          1.1E8,
          5.6E7,
          4.0E7,
          3.0E7,
          3.7E7,
          7.0E7,
          5.5E7,
          4.0E7,
          2.75E7,
          3.6E7,
          5.0E7,
          5.0E7,
          1.05E8,
          5.0E7,
          9.0E7,
          1.1E8,
          6.0E7,
          3.7E7,
          2.9E7,
          7.45E7,
          1.0E8,
          8.0E7,
          5.7E7,
          6.5E7,
          4.0E7,
          7.0E7,
          8.0E7,
          4.5E7,
          7.0E7,
          4.2E7,
          4.7E7,
          6.0E7,
          5.0E7,
          4.5E7,
          6.0E7,
          4.0E7,
          6.0E7,
          5.0E7,
          3.0E7,
          6.5E7,
          4.0E7,
          8.0E7,
          8.0E7,
          8.0E7,
          4.5E7,
          5.0E7,
          3.0E7,
          5.0E7,
          7.0E7,
          4.3E7,
          3.0E7,
          3.2E7,
          5.6E7,
          5.3E7,
          5.2E7,
          3.5E7,
          4.0E7,
          5.0E7,
          6.0E7,
          4.0E7,
          4.5E7,
          4.5E7,
          4.3E7,
          8.2E7,
          8.8E7,
          5.0E7,
          5.0E7,
          8.5E7,
          4.5E7,
          3.5E7,
          3.9E7,
          5.0E7,
          4.3E7,
          4.5E7,
          8.0E7,
          8.8E7,
          3.2E7,
          5.8E7,
          4.2E7,
          6.0E7,
          5.0E7,
          6.2E7,
          5.5E7,
          4.0E7,
          5.0E7,
          5.0E7,
          3.0E7,
          5.7E7,
          5.0E7,
          7.5E7,
          7.2E7,
          4.0E7,
          5.0E7,
          2.8E7,
          2.8E7,
          4.0E7,
          6.5E7,
          4.5E7,
          8.5E7,
          7.0E7,
          4.5E7,
          7.0E7,
          6.0E7,
          4.5E7,
          5.0E7,
          4.0E7,
          5.0E7,
          4.5E7,
          4.0E7,
          3.8E7,
          5.5E7,
          5.0E7,
          5.4E7,
          4.5E7,
          5.0E7,
          7.0E7,
          4.5E7,
          6.0E7,
          8.0E7,
          5.0E7,
          5.0E7,
          5.2E7,
          3.2E7,
          4.0E7,
          8.25E7,
          5.4E7,
          7.5E7,
          4.0E7,
          8.5E7,
          6.4E7,
          7.5E7,
          7.25E7,
          6.3E7,
          5.0E7,
          4.0E7,
          5.1E7,
          4.0E7,
          4.0E7,
          5.0E7,
          4.0E7,
          6.0E7,
          5.5E7,
          7.0E7,
          8.5E7,
          4.0E7,
          7.6E7,
          4.0E7,
          9.0E7,
          5.0E7,
          7.5E7,
          8.5E7,
          1.0E8,
          8.5E7,
          2.4E7,
          6.5E7,
          8.5E7,
          7.0E7,
          4.7E7,
          8.6E7,
          6.0E7,
          5.0E7,
          6.0E7,
          4.0E7,
          7.0E7,
          6.5E7,
          6.1E7,
          3.4E7,
          4.0E7,
          5.0E7,
          5.0E7,
          6.0795E7,
          4.5E7,
          3.0E7,
          5.0E7,
          8.5E7,
          3.5E7,
          8.5E7,
          7.0E7,
          6.7E7,
          7.0E7,
          8.0E7,
          5.5E7,
          3.9E7,
          3.0E7,
          7.0E7,
          5.15E7,
          4.5E7,
          6.0E7,
          5.5E7,
          2.5E7,
          3.5E7,
          1.0E8,
          7.0E7,
          4.5E7,
          8.6E7,
          4.5E7,
          5.0E7,
          7.5E7,
          4.0E7,
          4.0E7,
          3.0E7,
          3.0E7,
          7.0E7,
          2.5E7,
          5.0E7,
          8.5E7,
          7.0E7,
          8.5E7,
          4.0E7,
          9.0E7,
          6.2E7,
          3.5E7,
          5.8E7,
          4.0E7,
          3.7E7,
          3.0E7,
          5.5E7,
          4.0E7,
          3.5E7,
          9.0E7,
          6.0E7,
          4.0E7,
          8.0E7,
          4.5E7,
          6.0E7,
          3.7E7,
          6.5E7,
          8.0341E7,
          9.2E7,
          4.5E7,
          3.5E7,
          3.7E7,
          7.0E7,
          6.0E7,
          4.5E7,
          6.0E7,
          4.5E7,
          8.0E7,
          7.0E7,
          5.5E7,
          3.5E7,
          4.0E7,
          5.5E7,
          3.0E7,
          8.0E7,
          8.0E7,
          3.2E7,
          5.5E7,
          7.0E7,
          7.5E7,
          8.0E7,
          3.5E7,
          4.1677699E7,
          6.0E7,
          3.0E7,
          3.5E7,
          6.0E7,
          2.6E7,
          5.0E7,
          6.0E7,
          3.8E7,
          5.0E7,
          4.0E7,
          3.5E7,
          7.5E7,
          5.0E7,
          4.1E7,
          7.8146652E7,
          5.0E7,
          4.0E7,
          5.0E7,
          6.0E7,
          8.0E7,
          6.0E7,
          1.0E8,
          1.0E8,
          6.0E7,
          8.0E7,
          3.0E7,
          3.8E7,
          4.5E7,
          3.0E7,
          4.0E7,
          5.0E7,
          3.5E7,
          3.9E7,
          4.0E7,
          4.0E7,
          5.0E7,
          8.0E7,
          4.0E7,
          7.0E7,
          1.0E8,
          4.0E7,
          5.3E7,
          4.0E7,
          2.5E7,
          4.0E7,
          6.5E7,
          4.0E7,
          4.0E7,
          3.5E7,
          7.0E7,
          6.5E7,
          6.0E7,
          5.8E7,
          8.0E7,
          8.5E7,
          8.0E7,
          9.72504E7,
          8.0E7,
          5.2E7,
          9.5E7,
          4.5E7,
          7.0E7,
          4.8E7,
          1.0E8,
          5.2E7,
          4.0E7,
          3.6E7,
          5.5E7,
          4.5E7,
          5.0E7,
          3.5E7,
          7.5E7,
          4.0E7,
          3.5E7,
          4.7E7,
          4.0E7,
          4.7E7,
          6.9E7,
          3.5E7,
          4.4E7,
          1.0E8,
          6.0E7,
          3.0E7,
          3.7E7,
          6.0E7,
          7.0E7,
          8.0E7,
          8.5E7,
          3.5E7,
          3.8E7,
          5.8E7,
          5.0E7,
          6.5E7,
          1.0E8,
          4.0E7,
          3.0E7,
          1.2E8,
          5.5E7,
          3.7E7,
          8.0E7,
          4.2E7,
          4.0E7,
          7.0E7,
          2.7E7,
          2.5E7,
          4.0E7,
          3.7E7,
          3.0E7,
          3.0E7,
          3.6E7,
          4.0E7,
          5.0E7,
          5.02E7,
          4.0E7,
          3.6E7,
          5.0E7,
          7.0E7,
          8.0E7,
          4.2E7,
          3.2E7,
          3.2E7,
          8.2E7,
          6.3E7,
          4.0E7,
          4.0E7,
          3.8E7,
          3.5E7,
          6.0E7,
          3.0E7,
          3.0E7,
          5.5E7,
          2.0E7,
          4.99E7,
          8.0E7,
          3.5E7,
          5.0E7,
          3.5E7,
          5.2E7,
          4.7E7,
          4.0E7,
          9.0E7,
          6.0E7,
          5.0E7,
          6.6E7,
          7.5E7,
          4.0E7,
          4.5E7,
          3.5E7,
          5.0E7,
          7.5E7,
          3.5E7,
          7.5E7,
          7.9E7,
          4.5E7,
          6.6E7,
          4.5E7,
          4.0E7,
          5.5E7,
          5.6E7,
          5.0E7,
          9.0E7,
          3.7E7,
          7.0E7,
          4.2E7,
          5.8E7,
          9.4E7,
          4.0E7,
          4.0E7,
          8.5E7,
          3.0E7,
          5.7E7,
          4.1E7,
          6.5E7,
          4.2E7,
          8.5E7,
          6.5E7,
          6.0E7,
          4.0E7,
          4.0E7,
          6.9E7,
          7.5E7,
          4.5E7,
          6.8E7,
          3.0E7,
          6.0E7,
          7.0E7,
          5.0E7,
          3.9E7,
          4.5E7,
          1.02E8,
          2.1E7,
          3.1E7,
          6.5E7,
          3.3E7,
          4.0E7,
          3.5E7,
          4.0E7,
          6.0E7,
          3.5E7,
          4.2E7,
          6.0E7,
          5.6E7,
          3.5E7,
          5.0E7,
          6.0E7,
          3.5E7,
          6.0E7,
          4.0E7,
          7.0E7,
          4.4E7,
          4.0E7,
          3.2E7,
          4.0E7,
          5.8E7,
          7.5E7,
          4.3E7,
          6.1E7,
          9.0E7,
          3.8E7,
          5.0E7,
          3.0E7,
          6.0E7,
          4.6E7,
          3.8E7,
          5.5E7,
          5.0E7,
          1.1E8,
          5.5E7,
          2.8E7,
          9.0E7,
          4.0E7,
          3.5E7,
          9.0E7,
          5.0E7,
          3.92E7,
          4.0E7,
          2.5E7,
          6.0E7,
          5.0E7,
          6.5E7,
          7.0E7,
          6.0E7,
          3.0E7,
          5.0E7,
          6.6E7,
          7.0E7,
          5.0E7,
          1.0E8,
          4.0E7,
          4.0E7,
          7.0E7,
          4.0E7,
          5.0E7,
          5.5E7,
          4.0E7,
          5.0E7,
          4.0E7,
          9.0E7,
          4.5E7,
          6.5E7,
          5.0E7,
          6.0E7,
          4.93E7,
          7.0E7,
          5.0E7,
          6.8E7,
          5.0E7,
          8.0E7,
          4.0E7,
          3.6E7,
          1.0E8,
          4.2E7,
          6.5E7,
          5.0E7,
          4.4E7,
          9.5E7,
          6.5E7,
          6.5E7,
          4.9E7,
          7.0E7,
          1.0E8,
          6.0E7,
          4.4E7,
          5.5E7,
          5.01E7,
          3.8E7,
          5.0E7,
          3.5E7,
          3.5E7,
          4.0E7,
          5.0E7,
          4.0E7,
          3.8E7,
          3.4E7,
          3.5E7,
          3.5E7,
          3.5E7,
          3.7E7,
          6.5E7,
          9.0E7,
          6.8E7,
          5.3E7,
          3.1E7,
          7.5E7,
          3.5E7,
          5.0E7,
          4.0E7,
          3.5E7,
          2.8E7,
          6.0E7,
          4.0E7,
          5.5E7,
          6.4E7,
          4.6E7,
          4.0E7,
          5.8E7,
          3.5E7,
          3.7E7,
          1.05E8,
          3.8E7,
          2.8E7,
          5.0E7,
          3.8E7,
          3.0E7,
          4.0E7,
          8.0E7,
          2.0E7,
          6.0E7,
          3.6E7,
          3.5E7,
          5.0E7,
          4.0E7,
          5.0E7,
          5.0E7,
          3.3E7,
          6.5E7,
          4.0E7,
          4.0E7,
          9.0E7,
          6.0E7,
          3.5E7,
          1.1E8,
          4.5E7,
          4.4E7,
          4.0E7,
          4.0E7,
          4.3E7,
          4.7E7,
          7.0E7,
          5.0E7,
          8.5E7,
          7.5E7,
          4.0E7,
          6.0E7,
          3.6E7,
          4.5E7,
          1.08E8,
          3.5E7,
          3.8E7,
          2.2E7,
          4.5E7,
          4.0E7,
          4.0E7,
          4.0E7,
          5.8E7,
          1.0E8,
          6.0E7,
          6.9E7,
          4.2E7,
          3.8E7,
          6.0E7,
          6.0E7,
          5.0E7
         ],
         "xaxis": "x",
         "y": [
          1.87436818E8,
          6.4350171E7,
          1.07879496E8,
          1.3681765E7,
          1.0017322E7,
          1.16112375E8,
          2.12385533E8,
          3.5431113E7,
          1.15101622E8,
          3.0303072E7,
          1.6884E8,
          1.1534477E7,
          1.2379402E7,
          1.50270147E8,
          1.82016617E8,
          2.1E8,
          7.01E7,
          9851610.0,
          1.85260553E8,
          1.52022101E8,
          1.57387195E8,
          1.27600435E8,
          1.13493481E8,
          1.0382407E7,
          2.0350754E7,
          1.13374103E8,
          7959291.0,
          1.04324083E8,
          2.14015089E8,
          2.23664608E8,
          3.7E7,
          1.60638883E8,
          1.12006296E8,
          1.06683817E8,
          1.8985956E8,
          1.70362582E8,
          1.96567262E8,
          1.89833357E8,
          1.2E8,
          2.15887717E8,
          1.17615211E8,
          6.1947267E7,
          2.5052E7,
          9.9423521E7,
          1.19208989E8,
          1.972605E7,
          1.59055768E8,
          1.76997168E8,
          1.37298489E8,
          1.21969216E8,
          1.35130999E8,
          2.0667844E8,
          2.4332324E7,
          1.163E8,
          2.0915465E7,
          1.64789E7,
          1.02616183E8,
          1.00860818E8,
          1.15267375E8,
          2.8921264E7,
          1.7300889E7,
          1.13309743E8,
          5.8620973E7,
          1.8626419E7,
          1.00138851E8,
          1.02825796E8,
          1.28769345E8,
          1.59212469E8,
          1.52036382E8,
          1.52266007E8,
          6.0209334E7,
          4.2277365E7,
          5.3854588E7,
          3.3956608E7,
          4.9627779E7,
          4.7267001E7,
          1.7380126E7,
          2.2540359E7,
          1.40767956E8,
          8.9456761E7,
          7.5E7,
          2154540.0,
          1.65615285E8,
          3.4416893E7,
          1.57920733E8,
          9.0000098E7,
          8.9460381E7,
          9.610591E7,
          1.59773545E8,
          2.15862692E8,
          1.823E8,
          1.5E8,
          1.29832389E8,
          4.8093211E7,
          1.39E8,
          1.56563139E8,
          1.01371017E8,
          7.5505856E7,
          1.41047179E8,
          1.1466088E7,
          3.1987563E7,
          5.006831E7,
          1.18063304E8,
          1.40807547E8,
          1.36885767E8,
          5.0159144E7,
          2.29074524E8,
          2.24012234E8,
          1.71120329E8,
          4.8169156E7,
          2.6673242E7,
          8.7840042E7,
          1.36982834E8,
          1.992E8,
          1.2621694E8,
          1.31457682E8,
          1.09423648E8,
          1.6E7,
          1.5294466E8,
          1.0541523E7,
          4.5916769E7,
          1.21214377E8,
          1.5933028E8,
          1.39804348E8,
          1.62E8,
          7.4E7,
          1.77977226E8,
          7.9082515E7,
          1.22417389E8,
          1.72363301E8,
          1.7626234E7,
          1.86883563E8,
          1.9870567E7,
          1.1203026E7,
          1.31E7,
          1.02367405E8,
          1.36159423E8,
          1.98685114E8,
          1.40464664E8,
          3.81725E7,
          1.28038368E8,
          1.64E8,
          1.89198313E8,
          7.7745568E7,
          5.4682547E7,
          1.28499205E8,
          4.1482207E7,
          650422.0,
          3.092569E7,
          1.36766062E8,
          1060056.0,
          5.8662452E7,
          4.4547681E7,
          2.223E8,
          4.7431461E7,
          6.2E7,
          1.91502426E8,
          1.03891409E8,
          4.8585416E7,
          1.3118353E8,
          5.7269863E7,
          8479793.0,
          4.1610884E7,
          1.71757863E8,
          7.1485043E7,
          4.6683377E7,
          1.4567883E7,
          1.16672912E8,
          1.85991646E8,
          4.0002112E7,
          1.429401E8,
          1.00491683E8,
          1.5242796E8,
          6.913186E7,
          3.714113E7,
          1.18E8,
          2.18613188E8,
          2.3717291E7,
          1.89015611E8,
          1.19946358E8,
          9.8126565E7,
          2.02292902E8,
          5.6702901E7,
          1.401069E7,
          3.7962774E7,
          1.61626121E8,
          1.18880016E8,
          3.6850101E7,
          9.6618699E7,
          1.76885658E8,
          2.81211E7,
          9.388818E7,
          1.326005E7,
          2.9E7,
          7.3345029E7,
          2.12404396E8,
          1.03738726E8,
          1.90458706E8,
          7.5850624E7,
          1.49705852E8,
          1.62091208E8,
          2.15394738E8,
          9.1188905E7,
          7.3648228E7,
          2.9762011E7,
          2.3159305E7,
          1.24305181E8,
          1.95268056E8,
          1.0667893E7,
          1.9598588E7,
          1.1263966E7,
          1.177585E8,
          1.77841558E8,
          1.08E8,
          7.460857E7,
          1.00853753E8,
          5.8900031E7,
          4.5681173E7,
          1.95312802E8,
          1.56167015E8,
          1.59375308E8,
          3.6911617E7,
          1.51493655E8,
          6.0289912E7,
          9.04E7,
          6.6976317E7,
          1.63644662E8,
          1.52368585E8,
          1.5691192E7,
          9.37E7,
          9.087457E7,
          4.8451803E7,
          1.00230832E8,
          4.743443E7,
          9.0683916E7,
          1.28798265E8,
          7.3956241E7,
          1.4828081E7,
          5.7319029E7,
          1.34095253E8,
          1.07458785E8,
          1.78051587E8,
          1.4902265E8,
          1.3778384E8,
          1.61834276E8,
          1.44056873E8,
          3.6037909E7,
          1.06371651E8,
          3.216897E7,
          6.0874615E7,
          5.8401898E7,
          2.05405498E8,
          7.6432727E7,
          1.33E7,
          7.1E7,
          1.27666415E8,
          5.9468275E7,
          2.14E7,
          5.6932305E7,
          2.10308099E8,
          1.73959438E8,
          5.7120318E7,
          2.37202299E8,
          1.07196498E8,
          3.6754634E7,
          2.24834564E8,
          1.49270999E8,
          3.513482E7,
          6.97E7,
          1.55464351E8,
          1.3394927E8,
          6.371E7,
          1.23307945E8,
          1.13916474E8,
          1.90213455E8,
          1.28884132E8,
          1.04155843E8,
          3.0199105E7,
          4.7383689E7,
          1.36706683E8,
          1.9412993E7,
          9.0383208E7,
          5.5707411E7,
          3.9459427E7,
          3.3463969E7,
          9.6085477E7,
          1.83611771E8,
          2.15663859E8,
          1.91185897E8,
          1.52500343E8,
          1.69327687E8,
          8.0049764E7,
          2.12E8,
          3.4566746E7,
          2.07515725E8,
          5.7059003E7,
          9.4728529E7,
          1.4375181E7,
          6.5754228E7,
          5409517.0,
          1.8720175E7,
          1.47845033E8,
          5.635998E7,
          9.697627E7,
          7.9958599E7,
          1.4793418E8,
          1.05178561E8,
          8.3282296E7,
          5.4744738E7,
          1.0372291E7,
          2.3202444E7,
          1.17487473E8,
          2.97E7,
          1.79213434E8,
          1.79033791E8,
          9.8376292E7,
          1.47080413E8,
          1.76104344E8,
          2.07283925E8,
          9.3375151E7,
          1.41220678E8,
          7.1069884E7,
          8083123.0,
          6.3408614E7,
          2.5928721E7,
          3.540232E7,
          1.65335153E8,
          1.3596911E7,
          6.2112895E7,
          8.5498534E7,
          2.7053815E7,
          1.6991902E7,
          8493890.0,
          1.04876233E8,
          1.00020092E8,
          6.7631903E7,
          7.4558115E7,
          2.7642707E7,
          3.5743308E7,
          5.031514E7,
          5.4249294E7,
          7.27E7,
          1.4106986E8,
          1.4304956E8,
          9.1753202E7,
          2.03388341E8,
          3.7317558E7,
          8.7713825E7,
          1.72989651E8,
          1.53518974E8,
          7.5395048E7,
          7.8382433E7,
          1.6671505E7,
          3.2287044E7,
          1.0224477E8,
          5.23224E7,
          4.547911E7,
          1.14660784E8,
          2.1355893E7,
          1.23729176E8,
          3484331.0,
          1.02984862E8,
          7.7741732E7,
          1.55010032E8,
          1.96397415E8,
          6.378181E7,
          9.4935764E7,
          6.869677E7,
          5.6714147E7,
          1.6533318E8,
          1.6872671E7,
          1.19137784E8,
          1.29E8,
          5.1801187E7,
          1.1371483E8,
          1.22563539E8,
          1.93E8,
          6.5977295E7,
          2.14034224E8,
          7.7628265E7,
          1.45771527E8,
          1.71269535E8,
          4.3061982E7,
          1.81001478E8,
          3.5168966E7,
          1.19723358E8,
          2.6199517E7,
          7103973.0,
          1.81096164E8,
          1.8902015E7,
          2.2433915E7,
          1.9924033E7,
          1.80622424E8,
          2.09196298E8,
          6.8349884E7,
          3.3561137E7,
          1.72855065E8,
          2.15E8,
          1.0959475E7,
          3.0002758E7,
          5.5003135E7,
          6.9701637E7,
          1.54906693E8,
          6.7312826E7,
          1.05834556E8,
          1.93772504E8,
          9.3354918E7,
          4.1323171E7,
          1.20072577E8,
          1.77371441E8,
          8.8323487E7,
          1.79179718E8,
          1.17270765E8,
          1.2923936E7,
          3.8955598E7,
          8.5632458E7,
          3.4234008E7,
          7.5715436E7,
          4.2792561E7,
          7.4208267E7,
          4.4350926E7,
          1.95745823E8,
          1.64433867E8,
          1.76070171E8,
          2.36350661E8,
          5.1142659E7,
          1.24914842E8,
          2.628832E7,
          1.79265204E8,
          1.60583018E8,
          1.56505388E8,
          1.48336445E8,
          1.97011982E8,
          7266209.0,
          1.16643346E8,
          1.1490883E8,
          6.5565672E7,
          1.4358033E7,
          1.9322135E7,
          8.0916492E7,
          5.5495563E7,
          1.31282949E8,
          1.5682202E8,
          1.19940815E8,
          1.80949E8,
          8.015414E7,
          2.20673217E8,
          1.73398518E8,
          6.8514844E7,
          1.41591324E8,
          1.82290266E8,
          4.3935763E7,
          1.721808E7,
          1.77394432E8,
          1.22919055E8,
          3.3828318E7,
          1.90212113E8,
          1.73013509E8,
          9.6269812E7,
          1.21975011E8,
          1.71963386E8,
          4.6546197E7,
          2.0423389E7,
          6808550.0,
          1.96482882E8,
          6614280.0,
          2.5195E7,
          1.0810345E8,
          1.7026875E8,
          9.2913171E7,
          6.5470529E7,
          9.9318987E7,
          1.03951461E8,
          5.722389E7,
          2.6155781E7,
          1.52159461E8,
          9.6455697E7,
          1.30293714E8,
          6416302.0,
          1.2303411E7,
          1.875E8,
          1.6E8,
          4.9E7,
          4.9718611E7,
          1.15772733E8,
          2.00804534E8,
          1.02E8,
          7.2178895E7,
          2.19417255E8,
          1.13086475E8,
          1.15603229E8,
          6.217205E7,
          8.2102379E7,
          9.6105964E7,
          2.8283637E7,
          2.17764291E8,
          9.5149435E7,
          1.71183863E8,
          7.8000586E7,
          1.29394835E8,
          5.7958696E7,
          1.17575636E8,
          7191399.0,
          7.4541707E7,
          1.7012846E8,
          1.4793624E7,
          1.3395939E7,
          1.24731534E8,
          6.1347797E7,
          4.020302E7,
          1.40161792E8,
          1.28905366E8,
          9243140.0,
          5989640.0,
          5.5041367E7,
          1.62944923E8,
          2.100918E7,
          1.61451538E8,
          2.16763646E8,
          3.4808403E7,
          1.54648887E8,
          5.6681566E7,
          9.3772522E7,
          9.7918663E7,
          1.1300688E8,
          9.5226116E7,
          7.7944725E7,
          6.8915888E7,
          1.5873382E8,
          1.04478416E8,
          7.1073932E7,
          6.8766121E7,
          5.0871113E7,
          5.6070433E7,
          1.54749918E8,
          1.90320568E8,
          1.08539911E8,
          6.9425966E7,
          6.6002004E7,
          1.31426169E8,
          1.6809014E7,
          8.6369815E7,
          3.8869464E7,
          1.10803676E8,
          9.1974818E7,
          9.2374674E7,
          1.0166502E7,
          1.05316267E8,
          8.5167639E7,
          1.02854431E8,
          2.4127895E7,
          5.5987321E7,
          2.2944502E7,
          5.2304001E7,
          2.23387299E8,
          1.17195061E8,
          4.2093706E7,
          4.4434439E7,
          1.92452832E8,
          5.2034889E7,
          8342132.0,
          1.42400065E8,
          9.6889998E7,
          4.6442528E7,
          9.4E7,
          1.21147947E8,
          1.86438883E8,
          3.167062E7,
          6.4321501E7,
          7.2028752E7,
          1.62242962E8,
          1.30358911E8,
          3.8058335E7,
          8.8933562E7,
          1.2918183E8,
          3.8399961E7,
          1.11340801E8,
          1.38259062E8,
          6.9834815E7,
          8.28E7,
          1.20455994E8,
          2.9907685E7,
          6.5664721E7,
          1.28406887E8,
          1.32511035E8,
          1.84376254E8,
          6.1112916E7,
          3.8629478E7,
          1.7826262E8,
          7.7920346E7,
          3.7384046E7,
          9.7607453E7,
          8.7528173E7,
          2.04999686E8,
          8.0197993E7,
          1.14830111E8,
          2.37681299E8,
          1.30431368E8,
          4.2285169E7,
          6.047434E7,
          1.58468292E8,
          1.01595121E8,
          1.40175006E8,
          1.62966177E8,
          1.62945894E8,
          5.5181129E7,
          5446000.0,
          7.2779E7,
          8.6915017E7,
          3.8755073E7,
          4.9111202E7,
          1.2017529E8,
          1.78E7,
          9450897.0,
          5.5011732E7,
          1.97309027E8,
          2.393787E7,
          6.9959751E7,
          1.09676311E8,
          6.5900249E7,
          1.32180323E8,
          1.8055755E8,
          1.941687E8,
          1.70877916E8,
          1.44E8,
          1.55721132E8,
          4.3545364E7,
          5.9908565E7,
          1.5493768E8,
          3.8085778E7,
          1.07944236E8,
          1.37587063E8,
          8.2169884E7,
          9.5673607E7,
          1.45896422E8,
          7.6066841E7,
          8.4785914E7,
          9.5696996E7,
          9.5608995E7,
          6.2771059E7,
          3.2017803E7,
          9448082.0,
          7.3090611E7,
          3.0822861E7,
          2.19076518E8,
          9.0450008E7,
          1.49044513E8,
          6.9307224E7,
          1.86072214E8,
          1.35560026E8,
          2.5303038E7,
          8.6658558E7,
          1.5071514E7,
          7.001622E7,
          2.6820641E7,
          1.29266061E8,
          6.9766619E7,
          5.5112356E7,
          1.48412065E8,
          1.2776665E8,
          7.4237563E7,
          1.716E8,
          6.3215872E7,
          9.7838349E7,
          1.95735876E8,
          4607608.0,
          1.4373825E7,
          1.75372502E8,
          1.52E8,
          1.1900041E8,
          4.1797066E7,
          1.03071443E8,
          1.56835339E8,
          1.60259319E8,
          5.3587404E7,
          1.70764026E8,
          1.1324429E8,
          1.60388063E8,
          1.11231041E8,
          2.22231186E8,
          1.51161491E8,
          1.62839667E8,
          4.1819064E7,
          6.9823199E7,
          4.1299492E7,
          1641825.0,
          1.00076342E8,
          1.05173115E8,
          1.27906624E8,
          8.4601681E7,
          1.7E8,
          2.01596308E8,
          1.63403799E8,
          7400000.0,
          2.30685453E8,
          1.0170206E8,
          5.0650079E7,
          6.3800345E7,
          1.28107642E8,
          1.27814609E8,
          1.88072649E8,
          7.3762516E7,
          7.2436439E7,
          1.63720069E8,
          7.2108608E7,
          3.9031337E7,
          4.248739E7,
          7.3174566E7,
          9323833.0,
          1.78066569E8,
          1.13280098E8,
          1.7869048E7,
          8.5416905E7,
          9793496.0,
          1.13020255E8,
          1.08979549E8,
          1.63733697E8,
          2.33093859E8,
          1.1301929E8,
          1.68167691E8,
          2.25990978E8,
          2.00276E8,
          2.12874442E8,
          7.5225693E7,
          1.87479518E8,
          5.0877145E7,
          1.14663461E8,
          9.1353501E7,
          5.7490374E7,
          1.83293131E8,
          7033683.0,
          1.24596398E8,
          4.5465299E7,
          6.0161391E7,
          1.77259441E8,
          7.303446E7,
          6.1458982E7,
          1.2764201E7,
          9.1636986E7,
          6.0E7,
          1.55446362E8,
          1.08332743E8,
          3.6348784E7,
          8.7784194E7,
          1.21059225E8,
          3.1720158E7,
          6.8688831E7,
          1.50166126E8,
          6.23579E7,
          2.1410462E8,
          9.5714875E7,
          2.05298907E8,
          5.7881056E7,
          2.10819611E8,
          1.29540499E8,
          1.06303988E8,
          1.55545279E8,
          1.01229792E8,
          8251071.0,
          1.86167139E8,
          4.082854E7,
          1.22444772E8,
          1.2206028E7,
          1.7184484E8,
          1.00086793E8,
          2.8972508E7,
          1.26690726E8,
          1.9258519E7,
          1.6367E8,
          2.8169671E7,
          4.4091067E7,
          4.6471023E7,
          6.0462347E7,
          9.221931E7,
          1.04945765E8,
          9.3525586E7,
          1.22233971E8,
          8.528025E7,
          5.3825515E7,
          2.19103655E8,
          1.57107755E8,
          1.329E8,
          7.4901339E7,
          2.16485654E8,
          2.26497209E8,
          6.0222298E7,
          3.9041505E7,
          1.12462508E8,
          9.4882889E7,
          5.2826594E7,
          1.36E8,
          6.4572262E7,
          1.5226388E8,
          7810000.0,
          8.3761844E7,
          1.15664037E8,
          9.8159963E7,
          9.0029656E7,
          7.7477008E7,
          1.0539E7,
          1.26248813E8,
          3547209.0,
          8.6387857E7,
          9.3246388E7,
          4.8190704E7,
          1.70432927E8,
          4.7664559E7,
          1.59291809E8,
          1.54026136E8,
          2.04594016E8,
          1.34748021E8,
          1.4007339E8,
          1.12483764E8,
          6.0251371E7,
          1.05610124E8,
          7.1664962E7,
          1.05197635E8,
          2.11780824E8,
          1.67805466E8,
          5.878518E7,
          1.02820008E8,
          4.8668907E7,
          8.9519773E7,
          1.45570827E8,
          2.01584141E8,
          1.1087569E7,
          8.81E7,
          6.7112664E7,
          1.61849455E8,
          1.4778044E8,
          8.5412898E7,
          9.6047633E7,
          1.30786397E8,
          1.0860931E8,
          1.89712432E8,
          9.755205E7,
          2.8931401E7,
          1.27869379E8,
          5.1070807E7,
          8.3160734E7,
          1.4449283E8,
          2.02466756E8,
          2.14918407E8,
          8.9162162E7,
          8.3615414E7,
          1.47332697E8,
          8.9792502E7,
          1.83953723E8,
          4.5735397E7,
          9.7138686E7,
          1.1415623E8,
          5.9901913E7,
          7.8309131E7,
          1.51119219E8,
          1.02E8,
          1.87361754E8,
          2.16197492E8,
          2.6121638E7,
          1.69852759E8,
          1.17E8,
          1.42851197E8,
          1.50483765E8,
          7.5450437E7,
          1.57887643E8,
          6.0965854E7,
          4.8795021E7,
          1.37551594E8,
          1.10206216E8,
          5.7777106E7,
          1.32274484E8,
          1.73930596E8,
          1.60078586E8,
          8.2087155E7,
          3.850234E7,
          1.52930623E8,
          8.460603E7,
          2.26904017E8,
          1.49673788E8,
          1.65184237E8,
          1.77584879E8,
          2.4E7,
          5.5247881E7,
          9489829.0,
          1.42044638E8,
          1.20081841E8,
          2.3261743E8,
          9.5404397E7,
          1.60112671E8,
          4.6221189E7,
          5.0365377E7,
          9.5311434E7,
          3.6893721E7,
          2.4719215E7,
          2.08076205E8,
          1.9611457E8,
          1.49217355E8,
          7448385.0,
          1.56974557E8,
          2.01585328E8,
          1.83018522E8,
          1.79379533E8,
          1.18338361E8,
          2.2044277E7,
          7.97E7,
          1.12265139E8,
          5.9418613E7,
          8.2966152E7,
          6.8267862E7,
          1.14281051E8,
          1.07139399E8,
          5.8058367E7,
          4.1037742E7,
          3.5287788E7,
          3.0353232E7,
          1.30482868E8,
          2.05738714E8,
          1.61772375E8,
          4.4806783E7,
          1.40470746E8,
          1.32820716E8,
          1.16980662E8,
          4.1863726E7,
          2.18340595E8,
          8.8058786E7,
          1.80274123E8,
          1.05200903E8,
          1.9701164E7,
          4.6216641E7,
          2.24803475E8,
          8106475.0,
          1.7396501E8,
          6.0052138E7,
          7.4597643E7,
          1.6102564E8,
          6.3327201E7,
          9.5020213E7,
          1.26041322E8,
          5446000.0,
          4.4E7,
          1.17698894E8,
          1.5867418E8,
          1.31940411E8,
          1.74578751E8,
          9.8337295E7,
          2.19788712E8,
          1.17932401E8,
          9.0565421E7,
          1.22126687E8,
          9.0247624E7,
          9.5E7,
          1.22915111E8,
          1.25537191E8,
          1.1E8,
          1.3440245E8,
          1.88133322E8,
          1.49295601E8,
          1.1254458E8,
          1.6178959E7,
          1.73649015E8,
          8.6758912E7,
          4.490726E7,
          1.53997819E8,
          5.0549107E7,
          4.86E7,
          7.1154592E7,
          1.54984035E8,
          3.0800231E7,
          1.74600318E8,
          2.228096E8,
          2.03277636E8,
          6.1279452E7,
          8.038329E7,
          1.03039258E8,
          1.96781193E8,
          1.26546825E8,
          1.8662027E7,
          1.2349461E8,
          1.88441614E8,
          1.92330738E8,
          6.7347013E7,
          1.51165787E8,
          1.26069509E8,
          2.06172544E8,
          8.6165646E7,
          3.9407616E7,
          1.60602194E8,
          1.0825577E8,
          2.4186232E7,
          2.15529201E8,
          8.3719388E7,
          2.11817906E8,
          9.7437106E7,
          1.26546518E8,
          1.6983701E8,
          5.2424533E7,
          9.3820758E7,
          1.07670357E8,
          1.63442937E8,
          2.12902372E8,
          1.2342632E7,
          1.14178613E8,
          1.33821816E8,
          73706.0,
          1.04399548E8,
          1.775294E7,
          9.4061311E7,
          3.041856E7,
          1.55760117E8,
          7.4679822E7,
          1.53962963E8,
          1.23205624E8,
          7.1561644E7,
          8.3061158E7,
          9.5437994E7,
          1.3644292E7,
          3324330.0,
          1.11811453E8,
          1.07597242E8,
          6.3013281E7,
          8.196745E7,
          5.1680201E7,
          1.40795793E8,
          2.625002E7,
          1.21545703E8,
          1.4693691E8,
          2.17022588E8,
          9.8837872E7,
          1.04384188E8,
          1.08145109E8,
          6.1181942E7,
          6.941137E7,
          1.0E8,
          1.94564672E8,
          2.01634991E8,
          1.01134059E8,
          3.4227298E7,
          2.03427584E8,
          9.757125E7,
          2.3737523E7,
          1.65478348E8,
          1.58162788E8,
          5.036379E7,
          1.73567581E8,
          1.33718711E8,
          1.09906372E8,
          1.33346506E8,
          5.5969E7,
          1.12343513E8,
          1.05011053E8,
          1.24827316E8,
          5.209909E7,
          2.07945075E8,
          2.05754447E8,
          1.56844753E8,
          1.08758521E8,
          2.503595E7,
          3.7279439E7,
          6.2788218E7,
          2.16972543E8,
          7.7068246E7,
          1.43695338E8,
          8.6234523E7,
          1.25729635E8,
          1.62360636E8,
          6.9929545E7,
          2.1195242E8,
          1.21790373E8,
          1.73185859E8,
          1.55160045E8,
          1.75302354E8,
          3.0930984E7,
          4.6652768E7,
          2.03388186E8,
          1.82379278E8,
          1.02205175E8,
          1.19520023E8,
          2.20021259E8,
          2.9918745E7,
          1.62146076E8,
          8.7416021E7,
          1.14501299E8,
          2.2678555E7,
          8.1093313E7,
          1.18034273E8,
          1.94647323E8,
          5.0548152E7,
          2.6559557E7,
          1.71539887E8,
          240978.0,
          1.00541806E8,
          1.4233724E8,
          1.97183546E8,
          1.77856751E8,
          6.0845711E7,
          1.10824373E8,
          9420546.0,
          7.1E7,
          6.6913939E7
         ],
         "yaxis": "y",
         "type": "scattergl"
        },
        {
         "customdata": [
          [
           "Batman Forever"
          ],
          [
           "Waterworld"
          ],
          [
           "True Lies"
          ],
          [
           "Terminator 2: Judgment Day"
          ],
          [
           "Eraser"
          ],
          [
           "Dante's Peak"
          ],
          [
           "Speed 2: Cruise Control"
          ],
          [
           "Batman & Robin"
          ],
          [
           "Tomorrow Never Dies"
          ],
          [
           "Godzilla"
          ],
          [
           "Armageddon"
          ],
          [
           "Lethal Weapon 4"
          ],
          [
           "The Mask of Zorro"
          ],
          [
           "A Bug's Life"
          ],
          [
           "Tarzan"
          ],
          [
           "Wild Wild West"
          ],
          [
           "The 13th Warrior"
          ],
          [
           "Sleepy Hollow"
          ],
          [
           "The World Is Not Enough"
          ],
          [
           "End of Days"
          ],
          [
           "Stuart Little"
          ],
          [
           "Gladiator"
          ],
          [
           "Dinosaur"
          ],
          [
           "Mission: Impossible II"
          ],
          [
           "The Patriot"
          ],
          [
           "The Perfect Storm"
          ],
          [
           "How the Grinch Stole Christmas"
          ],
          [
           "The Mummy Returns"
          ],
          [
           "Pearl Harbor"
          ],
          [
           "Atlantis: The Lost Empire"
          ],
          [
           "Lara Croft: Tomb Raider"
          ],
          [
           "A.I. Artificial Intelligence"
          ],
          [
           "Final Fantasy: The Spirits Within"
          ],
          [
           "Planet of the Apes"
          ],
          [
           "Monsters, Inc."
          ],
          [
           "Star Wars: Episode II - Attack of the Clones"
          ],
          [
           "Minority Report"
          ],
          [
           "Men in Black II"
          ],
          [
           "Stuart Little 2"
          ],
          [
           "Die Another Day"
          ],
          [
           "Treasure Planet"
          ],
          [
           "X2"
          ],
          [
           "Charlie's Angels: Full Throttle"
          ],
          [
           "Hulk"
          ],
          [
           "Terminator 3: Rise of the Machines"
          ],
          [
           "Bad Boys II"
          ],
          [
           "The Matrix Revolutions"
          ],
          [
           "Master and Commander: The Far Side of the World"
          ],
          [
           "The Last Samurai"
          ],
          [
           "The Alamo"
          ],
          [
           "Van Helsing"
          ],
          [
           "Troy"
          ],
          [
           "The Day After Tomorrow"
          ],
          [
           "King Arthur"
          ],
          [
           "I, Robot"
          ],
          [
           "The Polar Express"
          ],
          [
           "National Treasure"
          ],
          [
           "Alexander"
          ],
          [
           "Ocean's Twelve"
          ],
          [
           "Lemony Snicket's A Series of Unfortunate Events"
          ],
          [
           "Charlie and the Chocolate Factory"
          ],
          [
           "The Aviator"
          ],
          [
           "Constantine"
          ],
          [
           "Sahara"
          ],
          [
           "Kingdom of Heaven"
          ],
          [
           "Mr. & Mrs. Smith"
          ],
          [
           "Batman Begins"
          ],
          [
           "War of the Worlds"
          ],
          [
           "Fantastic Four"
          ],
          [
           "The Island"
          ],
          [
           "Stealth"
          ],
          [
           "Chicken Little"
          ],
          [
           "King Kong"
          ],
          [
           "Fun with Dick and Jane"
          ],
          [
           "Mission: Impossible III"
          ],
          [
           "Poseidon"
          ],
          [
           "X-Men: The Last Stand"
          ],
          [
           "Cars"
          ],
          [
           "Superman Returns"
          ],
          [
           "Night at the Museum"
          ],
          [
           "Miami Vice"
          ],
          [
           "Flushed Away"
          ],
          [
           "Casino Royale"
          ],
          [
           "Happy Feet"
          ],
          [
           "Eragon"
          ],
          [
           "Ratatouille"
          ],
          [
           "Ghost Rider"
          ],
          [
           "Meet the Robinsons"
          ],
          [
           "Fantastic 4: Rise of the Silver Surfer"
          ],
          [
           "Live Free or Die Hard"
          ],
          [
           "Evan Almighty"
          ],
          [
           "Rush Hour 3"
          ],
          [
           "American Gangster"
          ],
          [
           "Bee Movie"
          ],
          [
           "The Golden Compass"
          ],
          [
           "I Am Legend"
          ],
          [
           "National Treasure: Book of Secrets"
          ],
          [
           "10,000 BC"
          ],
          [
           "Speed Racer"
          ],
          [
           "Iron Man"
          ],
          [
           "The Chronicles of Narnia: Prince Caspian"
          ],
          [
           "Kung Fu Panda"
          ],
          [
           "The Incredible Hulk"
          ],
          [
           "WALL·E"
          ],
          [
           "Hancock"
          ],
          [
           "Watchmen"
          ],
          [
           "The Mummy: Tomb of the Dragon Emperor"
          ],
          [
           "Madagascar: Escape 2 Africa"
          ],
          [
           "Quantum of Solace"
          ],
          [
           "Australia"
          ],
          [
           "Bolt"
          ],
          [
           "The Curious Case of Benjamin Button"
          ],
          [
           "Monsters vs Aliens"
          ],
          [
           "X-Men Origins: Wolverine"
          ],
          [
           "Star Trek"
          ],
          [
           "Angels & Demons"
          ],
          [
           "Terminator Salvation"
          ],
          [
           "Night at the Museum: Battle of the Smithsonian"
          ],
          [
           "G.I. Joe: The Rise of Cobra"
          ],
          [
           "G-Force"
          ],
          [
           "Cloudy with a Chance of Meatballs"
          ],
          [
           "A Christmas Carol"
          ],
          [
           "The Princess and the Frog"
          ],
          [
           "How to Train Your Dragon"
          ],
          [
           "Clash of the Titans"
          ],
          [
           "Robin Hood"
          ],
          [
           "Prince of Persia: The Sands of Time"
          ],
          [
           "Sex and the City 2"
          ],
          [
           "The A-Team"
          ],
          [
           "The Last Airbender"
          ],
          [
           "The Sorcerer's Apprentice"
          ],
          [
           "Knight and Day"
          ],
          [
           "Salt"
          ],
          [
           "Megamind"
          ],
          [
           "The Chronicles of Narnia: The Voyage of the Dawn Treader"
          ],
          [
           "The Tourist"
          ],
          [
           "TRON: Legacy"
          ],
          [
           "Little Fockers"
          ],
          [
           "Gulliver's Travels"
          ],
          [
           "The Green Hornet"
          ],
          [
           "Cowboys & Aliens"
          ],
          [
           "Rango"
          ],
          [
           "Mars Needs Moms"
          ],
          [
           "Thor"
          ],
          [
           "Fast Five"
          ],
          [
           "X-Men: First Class"
          ],
          [
           "Green Lantern"
          ],
          [
           "Cars 2"
          ],
          [
           "Captain America: The First Avenger"
          ],
          [
           "The Smurfs"
          ],
          [
           "Real Steel"
          ],
          [
           "The Adventures of Tintin"
          ],
          [
           "Hugo"
          ],
          [
           "Happy Feet Two"
          ],
          [
           "The Expendables 2"
          ],
          [
           "The Bourne Legacy"
          ],
          [
           "Sherlock Holmes: A Game of Shadows"
          ],
          [
           "John Carter"
          ],
          [
           "Wrath of the Titans"
          ],
          [
           "Battleship"
          ],
          [
           "Dark Shadows"
          ],
          [
           "Snow White and the Huntsman"
          ],
          [
           "Prometheus"
          ],
          [
           "Brave"
          ],
          [
           "Total Recall"
          ],
          [
           "Wreck-It Ralph"
          ],
          [
           "Life of Pi"
          ],
          [
           "Rise of the Guardians"
          ],
          [
           "Django Unchained"
          ],
          [
           "Jack the Giant Slayer"
          ],
          [
           "G.I. Joe: Retaliation"
          ],
          [
           "Oz: The Great and Powerful"
          ],
          [
           "The Croods"
          ],
          [
           "Oblivion"
          ],
          [
           "The Great Gatsby"
          ],
          [
           "Star Trek Into Darkness"
          ],
          [
           "The Hangover Part III"
          ],
          [
           "Epic"
          ],
          [
           "After Earth"
          ],
          [
           "Pacific Rim"
          ],
          [
           "World War Z"
          ],
          [
           "Elysium"
          ],
          [
           "White House Down"
          ],
          [
           "The Lone Ranger"
          ],
          [
           "R.I.P.D."
          ],
          [
           "Turbo"
          ],
          [
           "The Wolverine"
          ],
          [
           "The Smurfs 2"
          ],
          [
           "47 Ronin"
          ],
          [
           "The Wolf of Wall Street"
          ],
          [
           "RoboCop"
          ],
          [
           "300: Rise of an Empire"
          ],
          [
           "Mr. Peabody & Sherman"
          ],
          [
           "Noah"
          ],
          [
           "Rio 2"
          ],
          [
           "Pompeii"
          ],
          [
           "Godzilla"
          ],
          [
           "Edge of Tomorrow"
          ],
          [
           "How to Train Your Dragon 2"
          ],
          [
           "Hercules"
          ],
          [
           "Jupiter Ascending"
          ],
          [
           "Teenage Mutant Ninja Turtles"
          ],
          [
           "Exodus: Gods and Kings"
          ],
          [
           "Penguins of Madagascar"
          ],
          [
           "Night at the Museum: Secret of the Tomb"
          ],
          [
           "Terminator Genisys"
          ],
          [
           "Mad Max: Fury Road"
          ],
          [
           "Warcraft"
          ],
          [
           "Ant-Man"
          ],
          [
           "Fantastic Four"
          ],
          [
           "X-Men: Apocalypse"
          ],
          [
           "Pan"
          ],
          [
           "Insurgent"
          ],
          [
           "Home"
          ],
          [
           "Tomorrowland"
          ],
          [
           "San Andreas"
          ],
          [
           "The Martian"
          ],
          [
           "Allegiant"
          ],
          [
           "Independence Day: Resurgence"
          ],
          [
           "Star Trek Beyond"
          ],
          [
           "The Good Dinosaur"
          ],
          [
           "The Revenant"
          ],
          [
           "The Peanuts Movie"
          ],
          [
           "Kung Fu Panda 3"
          ],
          [
           "Gods of Egypt"
          ],
          [
           "The Huntsman: Winter's War"
          ],
          [
           "Alice Through the Looking Glass"
          ],
          [
           "The BFG"
          ],
          [
           "Teenage Mutant Ninja Turtles: Out of the Shadows"
          ],
          [
           "Ghostbusters"
          ],
          [
           "Jason Bourne"
          ],
          [
           "The Legend of Tarzan"
          ],
          [
           "Ice Age: Collision Course"
          ],
          [
           "Miss Peregrine's Home for Peculiar Children"
          ],
          [
           "Trolls"
          ],
          [
           "Passengers"
          ],
          [
           "The Great Wall"
          ],
          [
           "Assassin's Creed"
          ],
          [
           "Monster Trucks"
          ],
          [
           "Kong: Skull Island"
          ],
          [
           "King Arthur: Legend of the Sword"
          ],
          [
           "The Boss Baby"
          ],
          [
           "Ghost in the Shell"
          ],
          [
           "Alien: Covenant"
          ],
          [
           "The Mummy"
          ],
          [
           "Cars 3"
          ],
          [
           "War for the Planet of the Apes"
          ],
          [
           "Valerian and the City of a Thousand Planets"
          ],
          [
           "Dunkirk"
          ]
         ],
         "hovertemplate": "clusters=2<br>budget=%{x}<br>revenue=%{y}<br>title=%{customdata[0]}<extra></extra>",
         "legendgroup": "2",
         "marker": {
          "color": "#ab63fa",
          "symbol": "circle"
         },
         "mode": "markers",
         "name": "2",
         "showlegend": true,
         "x": [
          1.0E8,
          1.75E8,
          1.15E8,
          1.0E8,
          1.0E8,
          1.16E8,
          1.6E8,
          1.25E8,
          1.1E8,
          1.3E8,
          1.4E8,
          1.4E8,
          9.5E7,
          1.2E8,
          1.5E8,
          1.7E8,
          1.6E8,
          1.0E8,
          1.35E8,
          1.0E8,
          1.33E8,
          1.03E8,
          1.275E8,
          1.25E8,
          1.1E8,
          1.2E8,
          1.23E8,
          9.8E7,
          1.4E8,
          1.2E8,
          1.15E8,
          1.0E8,
          1.37E8,
          1.0E8,
          1.15E8,
          1.2E8,
          1.02E8,
          1.4E8,
          1.2E8,
          1.4E8,
          1.4E8,
          1.1E8,
          1.2E8,
          1.37E8,
          2.0E8,
          1.3E8,
          1.5E8,
          1.5E8,
          1.4E8,
          1.45E8,
          1.6E8,
          1.75E8,
          1.25E8,
          1.2E8,
          1.2E8,
          1.65E8,
          1.0E8,
          1.55E8,
          1.1E8,
          1.4E8,
          1.5E8,
          1.16E8,
          1.0E8,
          1.3E8,
          1.3E8,
          1.1E8,
          1.5E8,
          1.32E8,
          1.0E8,
          1.26E8,
          1.35E8,
          1.5E8,
          2.07E8,
          1.0E8,
          1.5E8,
          1.6E8,
          2.1E8,
          1.2E8,
          2.7E8,
          1.1E8,
          1.35E8,
          1.49E8,
          1.5E8,
          1.0E8,
          1.0E8,
          1.5E8,
          1.1E8,
          1.5E8,
          1.3E8,
          1.1E8,
          1.75E8,
          1.4E8,
          1.0E8,
          1.5E8,
          1.8E8,
          1.5E8,
          1.3E8,
          1.05E8,
          1.2E8,
          1.4E8,
          2.25E8,
          1.3E8,
          1.5E8,
          1.8E8,
          1.5E8,
          1.3E8,
          1.45E8,
          1.5E8,
          2.0E8,
          1.3E8,
          1.5E8,
          1.5E8,
          1.75E8,
          1.5E8,
          1.5E8,
          1.5E8,
          2.0E8,
          1.5E8,
          1.75E8,
          1.5E8,
          1.0E8,
          2.0E8,
          1.05E8,
          1.65E8,
          1.25E8,
          2.0E8,
          1.5E8,
          1.0E8,
          1.1E8,
          1.5E8,
          1.5E8,
          1.17E8,
          1.1E8,
          1.3E8,
          1.55E8,
          1.0E8,
          1.7E8,
          1.0E8,
          1.12E8,
          1.2E8,
          1.63E8,
          1.35E8,
          1.5E8,
          1.5E8,
          1.25E8,
          1.6E8,
          2.0E8,
          2.0E8,
          1.4E8,
          1.1E8,
          1.1E8,
          1.3E8,
          1.7E8,
          1.3E8,
          1.0E8,
          1.3E8,
          1.25E8,
          2.6E8,
          1.5E8,
          2.09E8,
          1.5E8,
          1.7E8,
          1.3E8,
          1.85E8,
          1.25E8,
          1.65E8,
          1.2E8,
          1.45E8,
          1.0E8,
          1.95E8,
          1.3E8,
          2.0E8,
          1.35E8,
          1.2E8,
          1.05E8,
          1.9E8,
          1.03E8,
          1.0E8,
          1.3E8,
          1.8E8,
          2.0E8,
          1.15E8,
          1.5E8,
          2.55E8,
          1.3E8,
          1.35E8,
          1.2E8,
          1.05E8,
          1.75E8,
          1.0E8,
          1.2E8,
          1.1E8,
          1.45E8,
          1.25E8,
          1.03E8,
          1.3E8,
          1.6E8,
          1.78E8,
          1.45E8,
          1.0E8,
          1.76000003E8,
          1.25E8,
          1.4E8,
          1.32E8,
          1.27E8,
          1.55E8,
          1.5E8,
          1.6E8,
          1.3E8,
          1.2E8,
          1.78E8,
          1.5E8,
          1.1E8,
          1.35E8,
          1.9E8,
          1.1E8,
          1.08E8,
          1.1E8,
          1.65E8,
          1.85E8,
          1.75E8,
          1.35E8,
          9.9E7,
          1.45E8,
          1.4E8,
          1.15E8,
          1.7E8,
          1.4E8,
          1.35E8,
          1.44E8,
          1.2E8,
          1.8E8,
          1.05E8,
          1.1E8,
          1.25E8,
          1.1E8,
          1.5E8,
          1.25E8,
          1.25E8,
          1.85E8,
          1.75E8,
          1.25E8,
          1.1E8,
          9.7E7,
          1.25E8,
          1.75E8,
          1.52E8,
          1.97471676E8,
          1.0E8
         ],
         "xaxis": "x",
         "y": [
          3.36529144E8,
          2.6421822E8,
          3.78882411E8,
          5.2E8,
          2.42295562E8,
          1.7812776E8,
          1.64508066E8,
          2.38207122E8,
          3.33011068E8,
          3.79014294E8,
          5.53799566E8,
          2.85444603E8,
          2.50288523E8,
          3.63258859E8,
          4.48E8,
          2.22104681E8,
          6.1698899E7,
          2.06071502E8,
          3.618324E8,
          2.11989043E8,
          3.00135367E8,
          4.57640427E8,
          3.54248063E8,
          5.46388105E8,
          2.15294342E8,
          3.25756637E8,
          3.45141403E8,
          4.33013274E8,
          4.49220945E8,
          1.86053725E8,
          2.7470334E8,
          2.35926552E8,
          8.513183E7,
          3.6221174E8,
          5.62816256E8,
          6.49398328E8,
          3.58372926E8,
          4.41818803E8,
          1.69956806E8,
          4.31971116E8,
          1.09578115E8,
          4.07711549E8,
          2.59175788E8,
          2.4536048E8,
          4.35E8,
          2.73339556E8,
          4.24988211E8,
          2.12011111E8,
          4.56758981E8,
          2.5819961E7,
          3.00257475E8,
          4.97409852E8,
          5.44272402E8,
          2.03567857E8,
          3.47234916E8,
          3.0587573E8,
          3.47451894E8,
          1.67298192E8,
          3.6274428E8,
          2.09073645E8,
          4.74968763E8,
          1.02E8,
          2.30884728E8,
          1.19269486E8,
          2.11643158E8,
          4.7820752E8,
          3.74218673E8,
          5.91739379E8,
          3.30579719E8,
          1.62949164E8,
          7.6932943E7,
          3.14432665E8,
          5.5E8,
          2.02026112E8,
          3.97850012E8,
          1.81674817E8,
          4.59359555E8,
          4.61983149E8,
          3.91081192E8,
          5.74480841E8,
          1.63794509E8,
          6.4459316E7,
          5.9904596E8,
          3.84335608E8,
          2.49288105E8,
          6.23722818E8,
          2.28738393E8,
          1.69332978E8,
          2.89047763E8,
          3.83531464E8,
          1.73E8,
          2.58022233E8,
          2.66465037E8,
          2.87594577E8,
          3.72234864E8,
          5.8534901E8,
          4.57363168E8,
          2.66E8,
          9.3945766E7,
          5.85174222E8,
          4.19651413E8,
          6.3174456E8,
          1.63712074E8,
          5.2131186E8,
          6.24029371E8,
          1.85258983E8,
          4.01128639E8,
          6.03900354E8,
          5.86090727E8,
          4.9554002E7,
          3.09979994E8,
          3.33932083E8,
          3.8150987E8,
          3.73062864E8,
          3.85680446E8,
          3.56613439E8,
          3.71353001E8,
          4.1310617E8,
          3.02469017E8,
          2.92817841E8,
          2.42988466E8,
          3.25233863E8,
          2.67045765E8,
          4.94878759E8,
          2.32713139E8,
          3.1066954E8,
          3.35154643E8,
          2.88347692E8,
          1.77238796E8,
          3.18502923E8,
          2.15283742E8,
          2.61930431E8,
          2.93329073E8,
          3.21887208E8,
          4.15686217E8,
          2.78731369E8,
          4.00062763E8,
          3.10650585E8,
          2.37382724E8,
          2.27817248E8,
          1.74822325E8,
          2.45724603E8,
          3.8992758E7,
          4.49326618E8,
          6.26137675E8,
          3.53624124E8,
          2.19851172E8,
          5.59852396E8,
          3.70569774E8,
          5.63749323E8,
          2.99268508E8,
          3.71940071E8,
          1.8577016E8,
          1.50406466E8,
          3.12573423E8,
          2.76572938E8,
          3.34615E8,
          2.841391E8,
          3.01E8,
          3.03025485E8,
          2.45527149E8,
          3.966E8,
          4.03170142E8,
          5.38983207E8,
          1.98802074E8,
          4.71222889E8,
          6.09016565E8,
          3.0694167E8,
          4.25368238E8,
          1.97687603E8,
          3.71876278E8,
          4.91868548E8,
          5.85178928E8,
          2.86168572E8,
          3.51040419E8,
          4.67365246E8,
          3.62000072E8,
          2.68426634E8,
          2.43843127E8,
          4.07602906E8,
          5.31865E8,
          2.861407E8,
          2.05366737E8,
          8.928991E7,
          6.16485E7,
          2.82570682E8,
          4.15440673E8,
          3.47434178E8,
          1.50962475E8,
          3.92000694E8,
          2.42688965E8,
          3.37580051E8,
          2.7291243E8,
          3.62637473E8,
          5.00188435E8,
          1.17831631E8,
          5.29076069E8,
          3.70541256E8,
          6.09123048E8,
          2.434E8,
          1.83987723E8,
          4.772E8,
          2.68031828E8,
          3.73552094E8,
          3.49424282E8,
          4.40603537E8,
          3.7885834E8,
          4.33677183E8,
          5.19311965E8,
          1.67977596E8,
          5.43934787E8,
          1.2838832E8,
          2.95238201E8,
          3.68871007E8,
          2.09154322E8,
          4.70490832E8,
          6.3016189E8,
          1.79246868E8,
          3.89681935E8,
          3.43471816E8,
          3.31926147E8,
          5.32950503E8,
          2.46233113E8,
          5.21170825E8,
          1.50680864E8,
          1.64602163E8,
          2.99370084E8,
          1.83345589E8,
          2.45623848E8,
          2.29147509E8,
          4.15484914E8,
          3.56743061E8,
          4.08579038E8,
          2.96485719E8,
          3.46864462E8,
          3.03144152E8,
          3.31957105E8,
          2.40697856E8,
          6.4493915E7,
          5.66652812E8,
          1.46175066E8,
          4.98814908E8,
          1.69801921E8,
          2.32380243E8,
          4.07778013E8,
          3.50170057E8,
          3.69907963E8,
          9.0024292E7,
          5.19876949E8
         ],
         "yaxis": "y",
         "type": "scattergl"
        },
        {
         "customdata": [
          [
           "Jurassic Park"
          ],
          [
           "Independence Day"
          ],
          [
           "Titanic"
          ],
          [
           "Star Wars: Episode I - The Phantom Menace"
          ],
          [
           "Harry Potter and the Philosopher's Stone"
          ],
          [
           "The Lord of the Rings: The Fellowship of the Ring"
          ],
          [
           "Spider-Man"
          ],
          [
           "Harry Potter and the Chamber of Secrets"
          ],
          [
           "The Lord of the Rings: The Two Towers"
          ],
          [
           "The Matrix Reloaded"
          ],
          [
           "Finding Nemo"
          ],
          [
           "Pirates of the Caribbean: The Curse of the Black Pearl"
          ],
          [
           "The Lord of the Rings: The Return of the King"
          ],
          [
           "Shrek 2"
          ],
          [
           "Harry Potter and the Prisoner of Azkaban"
          ],
          [
           "Spider-Man 2"
          ],
          [
           "Star Wars: Episode III - Revenge of the Sith"
          ],
          [
           "Harry Potter and the Goblet of Fire"
          ],
          [
           "The Chronicles of Narnia: The Lion, the Witch and the Wardrobe"
          ],
          [
           "The Da Vinci Code"
          ],
          [
           "Pirates of the Caribbean: Dead Man's Chest"
          ],
          [
           "Spider-Man 3"
          ],
          [
           "Shrek the Third"
          ],
          [
           "Pirates of the Caribbean: At World's End"
          ],
          [
           "Transformers"
          ],
          [
           "Harry Potter and the Order of the Phoenix"
          ],
          [
           "The Dark Knight"
          ],
          [
           "Indiana Jones and the Kingdom of the Crystal Skull"
          ],
          [
           "Up"
          ],
          [
           "Transformers: Revenge of the Fallen"
          ],
          [
           "Ice Age: Dawn of the Dinosaurs"
          ],
          [
           "Harry Potter and the Half-Blood Prince"
          ],
          [
           "2012"
          ],
          [
           "Avatar"
          ],
          [
           "Alice in Wonderland"
          ],
          [
           "Iron Man 2"
          ],
          [
           "Toy Story 3"
          ],
          [
           "Shrek Forever After"
          ],
          [
           "Inception"
          ],
          [
           "Harry Potter and the Deathly Hallows: Part 1"
          ],
          [
           "Tangled"
          ],
          [
           "Pirates of the Caribbean: On Stranger Tides"
          ],
          [
           "Kung Fu Panda 2"
          ],
          [
           "Transformers: Dark of the Moon"
          ],
          [
           "Harry Potter and the Deathly Hallows: Part 2"
          ],
          [
           "The Avengers"
          ],
          [
           "The Twilight Saga: Breaking Dawn - Part 1"
          ],
          [
           "The Dark Knight Rises"
          ],
          [
           "Mission: Impossible - Ghost Protocol"
          ],
          [
           "Men in Black 3"
          ],
          [
           "Madagascar 3: Europe's Most Wanted"
          ],
          [
           "The Amazing Spider-Man"
          ],
          [
           "Ice Age: Continental Drift"
          ],
          [
           "Skyfall"
          ],
          [
           "The Twilight Saga: Breaking Dawn - Part 2"
          ],
          [
           "The Hobbit: An Unexpected Journey"
          ],
          [
           "Iron Man 3"
          ],
          [
           "Fast & Furious 6"
          ],
          [
           "Man of Steel"
          ],
          [
           "Monsters University"
          ],
          [
           "Despicable Me 2"
          ],
          [
           "Gravity"
          ],
          [
           "Thor: The Dark World"
          ],
          [
           "The Hunger Games: Catching Fire"
          ],
          [
           "The Hobbit: The Desolation of Smaug"
          ],
          [
           "Frozen"
          ],
          [
           "Interstellar"
          ],
          [
           "Captain America: The Winter Soldier"
          ],
          [
           "The Amazing Spider-Man 2"
          ],
          [
           "X-Men: Days of Future Past"
          ],
          [
           "Maleficent"
          ],
          [
           "Mission: Impossible - Rogue Nation"
          ],
          [
           "Transformers: Age of Extinction"
          ],
          [
           "Dawn of the Planet of the Apes"
          ],
          [
           "Guardians of the Galaxy"
          ],
          [
           "Big Hero 6"
          ],
          [
           "The Hunger Games: Mockingjay - Part 1"
          ],
          [
           "Jurassic World"
          ],
          [
           "The Hobbit: The Battle of the Five Armies"
          ],
          [
           "Star Wars: The Force Awakens"
          ],
          [
           "Avengers: Age of Ultron"
          ],
          [
           "Pirates of the Caribbean: Dead Men Tell No Tales"
          ],
          [
           "Guardians of the Galaxy Vol. 2"
          ],
          [
           "Captain America: Civil War"
          ],
          [
           "Doctor Strange"
          ],
          [
           "Furious 7"
          ],
          [
           "Inside Out"
          ],
          [
           "The Hunger Games: Mockingjay - Part 2"
          ],
          [
           "Fantastic Beasts and Where to Find Them"
          ],
          [
           "The Secret Life of Pets"
          ],
          [
           "Suicide Squad"
          ],
          [
           "Minions"
          ],
          [
           "Spectre"
          ],
          [
           "Batman v Superman: Dawn of Justice"
          ],
          [
           "The Jungle Book"
          ],
          [
           "Wonder Woman"
          ],
          [
           "Zootopia"
          ],
          [
           "Finding Dory"
          ],
          [
           "Moana"
          ],
          [
           "Rogue One: A Star Wars Story"
          ],
          [
           "Beauty and the Beast"
          ],
          [
           "The Fate of the Furious"
          ],
          [
           "Despicable Me 3"
          ],
          [
           "Transformers: The Last Knight"
          ]
         ],
         "hovertemplate": "clusters=1<br>budget=%{x}<br>revenue=%{y}<br>title=%{customdata[0]}<extra></extra>",
         "legendgroup": "1",
         "marker": {
          "color": "#FFA15A",
          "symbol": "circle"
         },
         "mode": "markers",
         "name": "1",
         "showlegend": true,
         "x": [
          6.3E7,
          7.5E7,
          2.0E8,
          1.15E8,
          1.25E8,
          9.3E7,
          1.39E8,
          1.0E8,
          7.9E7,
          1.5E8,
          9.4E7,
          1.4E8,
          9.4E7,
          1.5E8,
          1.3E8,
          2.0E8,
          1.13E8,
          1.5E8,
          1.8E8,
          1.25E8,
          2.0E8,
          2.58E8,
          1.6E8,
          3.0E8,
          1.5E8,
          1.5E8,
          1.85E8,
          1.85E8,
          1.75E8,
          1.5E8,
          9.0E7,
          2.5E8,
          2.0E8,
          2.37E8,
          2.0E8,
          2.0E8,
          2.0E8,
          1.65E8,
          1.6E8,
          2.5E8,
          2.6E8,
          3.8E8,
          1.5E8,
          1.95E8,
          1.25E8,
          2.2E8,
          1.1E8,
          2.5E8,
          1.45E8,
          2.25E8,
          1.45E8,
          2.15E8,
          9.5E7,
          2.0E8,
          1.2E8,
          2.5E8,
          2.0E8,
          1.6E8,
          2.25E8,
          2.0E8,
          7.6E7,
          1.05E8,
          1.7E8,
          1.3E8,
          2.5E8,
          1.5E8,
          1.65E8,
          1.7E8,
          2.0E8,
          2.5E8,
          1.8E8,
          1.5E8,
          2.1E8,
          1.7E8,
          1.7E8,
          1.65E8,
          1.25E8,
          1.5E8,
          2.5E8,
          2.45E8,
          2.8E8,
          2.3E8,
          2.0E8,
          2.5E8,
          1.65E8,
          1.9E8,
          1.75E8,
          1.6E8,
          1.8E8,
          7.5E7,
          1.75E8,
          7.4E7,
          2.45E8,
          2.5E8,
          1.75E8,
          1.49E8,
          1.5E8,
          2.0E8,
          1.5E8,
          2.0E8,
          1.6E8,
          2.5E8,
          8.0E7,
          2.6E8
         ],
         "xaxis": "x",
         "y": [
          9.201E8,
          8.16969268E8,
          1.845034188E9,
          9.24317558E8,
          9.7647555E8,
          8.71368364E8,
          8.21708551E8,
          8.76688482E8,
          9.262874E8,
          7.38599701E8,
          9.40335536E8,
          6.55011224E8,
          1.118888979E9,
          9.19838758E8,
          7.89804554E8,
          7.83766341E8,
          8.5E8,
          8.95921036E8,
          7.48806957E8,
          7.67820459E8,
          1.065659812E9,
          8.90871626E8,
          7.98958165E8,
          9.61E8,
          7.0970978E8,
          9.38212738E8,
          1.004558444E9,
          7.86636033E8,
          7.35099082E8,
          8.36297228E8,
          8.86686817E8,
          9.33959197E8,
          7.69653595E8,
          2.787965087E9,
          1.02549111E9,
          6.23933331E8,
          1.066969703E9,
          7.52600867E8,
          8.25532764E8,
          9.54305868E8,
          5.91794936E8,
          1.045713802E9,
          6.65692281E8,
          1.123746996E9,
          1.342E9,
          1.51955791E9,
          7.12171856E8,
          1.084939099E9,
          6.9471338E8,
          6.24026776E8,
          7.46921274E8,
          7.52215857E8,
          8.77244782E8,
          1.108561013E9,
          8.29E8,
          1.021103568E9,
          1.215439994E9,
          7.8867985E8,
          6.62845518E8,
          7.43559607E8,
          9.70761885E8,
          7.16392705E8,
          6.44571402E8,
          8.47423452E8,
          9.584E8,
          1.274219009E9,
          6.75120017E8,
          7.14766572E8,
          7.05717432E8,
          7.47862775E8,
          7.58539785E8,
          6.82330139E8,
          1.091405097E9,
          7.10644566E8,
          7.73328629E8,
          6.52105443E8,
          7.52100229E8,
          1.51352881E9,
          9.56019788E8,
          2.068223624E9,
          1.405403694E9,
          7.94191988E8,
          8.63416141E8,
          1.153304495E9,
          6.77718395E8,
          1.50624936E9,
          8.57611174E8,
          6.53428261E8,
          8.09342332E8,
          8.75457937E8,
          7.45600054E8,
          1.156730962E9,
          8.80674609E8,
          8.73260194E8,
          9.665506E8,
          8.20580447E8,
          1.023784195E9,
          1.028570889E9,
          6.43034466E8,
          1.056057273E9,
          1.262886337E9,
          1.238764765E9,
          1.020063384E9,
          6.04942143E8
         ],
         "yaxis": "y",
         "type": "scattergl"
        }
       ],
       "layout": {
        "legend": {
         "title": {
          "text": "clusters"
         },
         "tracegroupgap": 0
        },
        "margin": {
         "t": 60
        },
        "template": {
         "data": {
          "barpolar": [
           {
            "marker": {
             "line": {
              "color": "rgb(17,17,17)",
              "width": 0.5
             },
             "pattern": {
              "fillmode": "overlay",
              "size": 10,
              "solidity": 0.2
             }
            },
            "type": "barpolar"
           }
          ],
          "bar": [
           {
            "error_x": {
             "color": "#f2f5fa"
            },
            "error_y": {
             "color": "#f2f5fa"
            },
            "marker": {
             "line": {
              "color": "rgb(17,17,17)",
              "width": 0.5
             },
             "pattern": {
              "fillmode": "overlay",
              "size": 10,
              "solidity": 0.2
             }
            },
            "type": "bar"
           }
          ],
          "carpet": [
           {
            "aaxis": {
             "endlinecolor": "#A2B1C6",
             "gridcolor": "#506784",
             "linecolor": "#506784",
             "minorgridcolor": "#506784",
             "startlinecolor": "#A2B1C6"
            },
            "baxis": {
             "endlinecolor": "#A2B1C6",
             "gridcolor": "#506784",
             "linecolor": "#506784",
             "minorgridcolor": "#506784",
             "startlinecolor": "#A2B1C6"
            },
            "type": "carpet"
           }
          ],
          "choropleth": [
           {
            "colorbar": {
             "outlinewidth": 0,
             "ticks": ""
            },
            "type": "choropleth"
           }
          ],
          "contourcarpet": [
           {
            "colorbar": {
             "outlinewidth": 0,
             "ticks": ""
            },
            "type": "contourcarpet"
           }
          ],
          "contour": [
           {
            "colorbar": {
             "outlinewidth": 0,
             "ticks": ""
            },
            "colorscale": [
             [
              0.0,
              "#0d0887"
             ],
             [
              0.1111111111111111,
              "#46039f"
             ],
             [
              0.2222222222222222,
              "#7201a8"
             ],
             [
              0.3333333333333333,
              "#9c179e"
             ],
             [
              0.4444444444444444,
              "#bd3786"
             ],
             [
              0.5555555555555556,
              "#d8576b"
             ],
             [
              0.6666666666666666,
              "#ed7953"
             ],
             [
              0.7777777777777778,
              "#fb9f3a"
             ],
             [
              0.8888888888888888,
              "#fdca26"
             ],
             [
              1.0,
              "#f0f921"
             ]
            ],
            "type": "contour"
           }
          ],
          "heatmapgl": [
           {
            "colorbar": {
             "outlinewidth": 0,
             "ticks": ""
            },
            "colorscale": [
             [
              0.0,
              "#0d0887"
             ],
             [
              0.1111111111111111,
              "#46039f"
             ],
             [
              0.2222222222222222,
              "#7201a8"
             ],
             [
              0.3333333333333333,
              "#9c179e"
             ],
             [
              0.4444444444444444,
              "#bd3786"
             ],
             [
              0.5555555555555556,
              "#d8576b"
             ],
             [
              0.6666666666666666,
              "#ed7953"
             ],
             [
              0.7777777777777778,
              "#fb9f3a"
             ],
             [
              0.8888888888888888,
              "#fdca26"
             ],
             [
              1.0,
              "#f0f921"
             ]
            ],
            "type": "heatmapgl"
           }
          ],
          "heatmap": [
           {
            "colorbar": {
             "outlinewidth": 0,
             "ticks": ""
            },
            "colorscale": [
             [
              0.0,
              "#0d0887"
             ],
             [
              0.1111111111111111,
              "#46039f"
             ],
             [
              0.2222222222222222,
              "#7201a8"
             ],
             [
              0.3333333333333333,
              "#9c179e"
             ],
             [
              0.4444444444444444,
              "#bd3786"
             ],
             [
              0.5555555555555556,
              "#d8576b"
             ],
             [
              0.6666666666666666,
              "#ed7953"
             ],
             [
              0.7777777777777778,
              "#fb9f3a"
             ],
             [
              0.8888888888888888,
              "#fdca26"
             ],
             [
              1.0,
              "#f0f921"
             ]
            ],
            "type": "heatmap"
           }
          ],
          "histogram2dcontour": [
           {
            "colorbar": {
             "outlinewidth": 0,
             "ticks": ""
            },
            "colorscale": [
             [
              0.0,
              "#0d0887"
             ],
             [
              0.1111111111111111,
              "#46039f"
             ],
             [
              0.2222222222222222,
              "#7201a8"
             ],
             [
              0.3333333333333333,
              "#9c179e"
             ],
             [
              0.4444444444444444,
              "#bd3786"
             ],
             [
              0.5555555555555556,
              "#d8576b"
             ],
             [
              0.6666666666666666,
              "#ed7953"
             ],
             [
              0.7777777777777778,
              "#fb9f3a"
             ],
             [
              0.8888888888888888,
              "#fdca26"
             ],
             [
              1.0,
              "#f0f921"
             ]
            ],
            "type": "histogram2dcontour"
           }
          ],
          "histogram2d": [
           {
            "colorbar": {
             "outlinewidth": 0,
             "ticks": ""
            },
            "colorscale": [
             [
              0.0,
              "#0d0887"
             ],
             [
              0.1111111111111111,
              "#46039f"
             ],
             [
              0.2222222222222222,
              "#7201a8"
             ],
             [
              0.3333333333333333,
              "#9c179e"
             ],
             [
              0.4444444444444444,
              "#bd3786"
             ],
             [
              0.5555555555555556,
              "#d8576b"
             ],
             [
              0.6666666666666666,
              "#ed7953"
             ],
             [
              0.7777777777777778,
              "#fb9f3a"
             ],
             [
              0.8888888888888888,
              "#fdca26"
             ],
             [
              1.0,
              "#f0f921"
             ]
            ],
            "type": "histogram2d"
           }
          ],
          "histogram": [
           {
            "marker": {
             "pattern": {
              "fillmode": "overlay",
              "size": 10,
              "solidity": 0.2
             }
            },
            "type": "histogram"
           }
          ],
          "mesh3d": [
           {
            "colorbar": {
             "outlinewidth": 0,
             "ticks": ""
            },
            "type": "mesh3d"
           }
          ],
          "parcoords": [
           {
            "line": {
             "colorbar": {
              "outlinewidth": 0,
              "ticks": ""
             }
            },
            "type": "parcoords"
           }
          ],
          "pie": [
           {
            "automargin": true,
            "type": "pie"
           }
          ],
          "scatter3d": [
           {
            "line": {
             "colorbar": {
              "outlinewidth": 0,
              "ticks": ""
             }
            },
            "marker": {
             "colorbar": {
              "outlinewidth": 0,
              "ticks": ""
             }
            },
            "type": "scatter3d"
           }
          ],
          "scattercarpet": [
           {
            "marker": {
             "colorbar": {
              "outlinewidth": 0,
              "ticks": ""
             }
            },
            "type": "scattercarpet"
           }
          ],
          "scattergeo": [
           {
            "marker": {
             "colorbar": {
              "outlinewidth": 0,
              "ticks": ""
             }
            },
            "type": "scattergeo"
           }
          ],
          "scattergl": [
           {
            "marker": {
             "line": {
              "color": "#283442"
             }
            },
            "type": "scattergl"
           }
          ],
          "scattermapbox": [
           {
            "marker": {
             "colorbar": {
              "outlinewidth": 0,
              "ticks": ""
             }
            },
            "type": "scattermapbox"
           }
          ],
          "scatterpolargl": [
           {
            "marker": {
             "colorbar": {
              "outlinewidth": 0,
              "ticks": ""
             }
            },
            "type": "scatterpolargl"
           }
          ],
          "scatterpolar": [
           {
            "marker": {
             "colorbar": {
              "outlinewidth": 0,
              "ticks": ""
             }
            },
            "type": "scatterpolar"
           }
          ],
          "scatter": [
           {
            "marker": {
             "line": {
              "color": "#283442"
             }
            },
            "type": "scatter"
           }
          ],
          "scatterternary": [
           {
            "marker": {
             "colorbar": {
              "outlinewidth": 0,
              "ticks": ""
             }
            },
            "type": "scatterternary"
           }
          ],
          "surface": [
           {
            "colorbar": {
             "outlinewidth": 0,
             "ticks": ""
            },
            "colorscale": [
             [
              0.0,
              "#0d0887"
             ],
             [
              0.1111111111111111,
              "#46039f"
             ],
             [
              0.2222222222222222,
              "#7201a8"
             ],
             [
              0.3333333333333333,
              "#9c179e"
             ],
             [
              0.4444444444444444,
              "#bd3786"
             ],
             [
              0.5555555555555556,
              "#d8576b"
             ],
             [
              0.6666666666666666,
              "#ed7953"
             ],
             [
              0.7777777777777778,
              "#fb9f3a"
             ],
             [
              0.8888888888888888,
              "#fdca26"
             ],
             [
              1.0,
              "#f0f921"
             ]
            ],
            "type": "surface"
           }
          ],
          "table": [
           {
            "cells": {
             "fill": {
              "color": "#506784"
             },
             "line": {
              "color": "rgb(17,17,17)"
             }
            },
            "header": {
             "fill": {
              "color": "#2a3f5f"
             },
             "line": {
              "color": "rgb(17,17,17)"
             }
            },
            "type": "table"
           }
          ]
         },
         "layout": {
          "annotationdefaults": {
           "arrowcolor": "#f2f5fa",
           "arrowhead": 0,
           "arrowwidth": 1
          },
          "autotypenumbers": "strict",
          "coloraxis": {
           "colorbar": {
            "outlinewidth": 0,
            "ticks": ""
           }
          },
          "colorscale": {
           "diverging": [
            [
             0,
             "#8e0152"
            ],
            [
             0.1,
             "#c51b7d"
            ],
            [
             0.2,
             "#de77ae"
            ],
            [
             0.3,
             "#f1b6da"
            ],
            [
             0.4,
             "#fde0ef"
            ],
            [
             0.5,
             "#f7f7f7"
            ],
            [
             0.6,
             "#e6f5d0"
            ],
            [
             0.7,
             "#b8e186"
            ],
            [
             0.8,
             "#7fbc41"
            ],
            [
             0.9,
             "#4d9221"
            ],
            [
             1,
             "#276419"
            ]
           ],
           "sequential": [
            [
             0.0,
             "#0d0887"
            ],
            [
             0.1111111111111111,
             "#46039f"
            ],
            [
             0.2222222222222222,
             "#7201a8"
            ],
            [
             0.3333333333333333,
             "#9c179e"
            ],
            [
             0.4444444444444444,
             "#bd3786"
            ],
            [
             0.5555555555555556,
             "#d8576b"
            ],
            [
             0.6666666666666666,
             "#ed7953"
            ],
            [
             0.7777777777777778,
             "#fb9f3a"
            ],
            [
             0.8888888888888888,
             "#fdca26"
            ],
            [
             1.0,
             "#f0f921"
            ]
           ],
           "sequentialminus": [
            [
             0.0,
             "#0d0887"
            ],
            [
             0.1111111111111111,
             "#46039f"
            ],
            [
             0.2222222222222222,
             "#7201a8"
            ],
            [
             0.3333333333333333,
             "#9c179e"
            ],
            [
             0.4444444444444444,
             "#bd3786"
            ],
            [
             0.5555555555555556,
             "#d8576b"
            ],
            [
             0.6666666666666666,
             "#ed7953"
            ],
            [
             0.7777777777777778,
             "#fb9f3a"
            ],
            [
             0.8888888888888888,
             "#fdca26"
            ],
            [
             1.0,
             "#f0f921"
            ]
           ]
          },
          "colorway": [
           "#636efa",
           "#EF553B",
           "#00cc96",
           "#ab63fa",
           "#FFA15A",
           "#19d3f3",
           "#FF6692",
           "#B6E880",
           "#FF97FF",
           "#FECB52"
          ],
          "font": {
           "color": "#f2f5fa"
          },
          "geo": {
           "bgcolor": "rgb(17,17,17)",
           "lakecolor": "rgb(17,17,17)",
           "landcolor": "rgb(17,17,17)",
           "showlakes": true,
           "showland": true,
           "subunitcolor": "#506784"
          },
          "hoverlabel": {
           "align": "left"
          },
          "hovermode": "closest",
          "mapbox": {
           "style": "dark"
          },
          "paper_bgcolor": "rgb(17,17,17)",
          "plot_bgcolor": "rgb(17,17,17)",
          "polar": {
           "angularaxis": {
            "gridcolor": "#506784",
            "linecolor": "#506784",
            "ticks": ""
           },
           "bgcolor": "rgb(17,17,17)",
           "radialaxis": {
            "gridcolor": "#506784",
            "linecolor": "#506784",
            "ticks": ""
           }
          },
          "scene": {
           "xaxis": {
            "backgroundcolor": "rgb(17,17,17)",
            "gridcolor": "#506784",
            "gridwidth": 2,
            "linecolor": "#506784",
            "showbackground": true,
            "ticks": "",
            "zerolinecolor": "#C8D4E3"
           },
           "yaxis": {
            "backgroundcolor": "rgb(17,17,17)",
            "gridcolor": "#506784",
            "gridwidth": 2,
            "linecolor": "#506784",
            "showbackground": true,
            "ticks": "",
            "zerolinecolor": "#C8D4E3"
           },
           "zaxis": {
            "backgroundcolor": "rgb(17,17,17)",
            "gridcolor": "#506784",
            "gridwidth": 2,
            "linecolor": "#506784",
            "showbackground": true,
            "ticks": "",
            "zerolinecolor": "#C8D4E3"
           }
          },
          "shapedefaults": {
           "line": {
            "color": "#f2f5fa"
           }
          },
          "sliderdefaults": {
           "bgcolor": "#C8D4E3",
           "bordercolor": "rgb(17,17,17)",
           "borderwidth": 1,
           "tickwidth": 0
          },
          "ternary": {
           "aaxis": {
            "gridcolor": "#506784",
            "linecolor": "#506784",
            "ticks": ""
           },
           "baxis": {
            "gridcolor": "#506784",
            "linecolor": "#506784",
            "ticks": ""
           },
           "bgcolor": "rgb(17,17,17)",
           "caxis": {
            "gridcolor": "#506784",
            "linecolor": "#506784",
            "ticks": ""
           }
          },
          "title": {
           "x": 0.05
          },
          "updatemenudefaults": {
           "bgcolor": "#506784",
           "borderwidth": 0
          },
          "xaxis": {
           "automargin": true,
           "gridcolor": "#283442",
           "linecolor": "#506784",
           "ticks": "",
           "title": {
            "standoff": 15
           },
           "zerolinecolor": "#283442",
           "zerolinewidth": 2
          },
          "yaxis": {
           "automargin": true,
           "gridcolor": "#283442",
           "linecolor": "#506784",
           "ticks": "",
           "title": {
            "standoff": 15
           },
           "zerolinecolor": "#283442",
           "zerolinewidth": 2
          }
         }
        },
        "xaxis": {
         "anchor": "y",
         "domain": [
          0.0,
          1.0
         ],
         "title": {
          "text": "budget"
         }
        },
        "yaxis": {
         "anchor": "x",
         "domain": [
          0.0,
          1.0
         ],
         "title": {
          "text": "revenue"
         }
        }
       },
       "config": {
        "showLink": false,
        "linkText": "Export to plot.ly",
        "plotlyServerURL": "https://plot.ly"
       }
      },
      "text/html": "<div>                            <div id=\"cfb0d07e-5895-40cb-a9a0-f534a386ad8b\" class=\"plotly-graph-div\" style=\"height:525px; width:100%;\"></div>            <script type=\"text/javascript\">                require([\"plotly\"], function(Plotly) {                    window.PLOTLYENV=window.PLOTLYENV || {};                                    if (document.getElementById(\"cfb0d07e-5895-40cb-a9a0-f534a386ad8b\")) {                    Plotly.newPlot(                        \"cfb0d07e-5895-40cb-a9a0-f534a386ad8b\",                        [{\"customdata\":[[\"Toy Story\"],[\"Jumanji\"],[\"GoldenEye\"],[\"Babe\"],[\"Se7en\"],[\"Pocahontas\"],[\"Apollo 13\"],[\"Casper\"],[\"Die Hard: With a Vengeance\"],[\"Dumb and Dumber\"],[\"Star Wars\"],[\"The Flintstones\"],[\"Forrest Gump\"],[\"Four Weddings and a Funeral\"],[\"The Lion King\"],[\"The Mask\"],[\"Speed\"],[\"Cliffhanger\"],[\"The Firm\"],[\"The Fugitive\"],[\"Mrs. Doubtfire\"],[\"Schindler's List\"],[\"Sleepless in Seattle\"],[\"Home Alone\"],[\"Ghost\"],[\"Aladdin\"],[\"Dances with Wolves\"],[\"Batman\"],[\"The Silence of the Lambs\"],[\"Beauty and the Beast\"],[\"Pretty Woman\"],[\"Mission: Impossible\"],[\"Space Jam\"],[\"The Rock\"],[\"Twister\"],[\"Ransom\"],[\"The Godfather\"],[\"Gone with the Wind\"],[\"Cinderella\"],[\"Robin Hood: Prince of Thieves\"],[\"Alice in Wonderland\"],[\"The Sound of Music\"],[\"Basic Instinct\"],[\"E.T. the Extra-Terrestrial\"],[\"Top Gun\"],[\"The English Patient\"],[\"The Empire Strikes Back\"],[\"Raiders of the Lost Ark\"],[\"Return of the Jedi\"],[\"Dead Poets Society\"],[\"Back to the Future\"],[\"Indiana Jones and the Last Crusade\"],[\"101 Dalmatians\"],[\"Die Hard 2\"],[\"Batman Returns\"],[\"Jaws\"],[\"Jerry Maguire\"],[\"Liar Liar\"],[\"The Fifth Element\"],[\"Hercules\"],[\"My Best Friend's Wedding\"],[\"Face/Off\"],[\"Men in Black\"],[\"Air Force One\"],[\"The Full Monty\"],[\"Bean\"],[\"The Truman Show\"],[\"As Good as It Gets\"],[\"Mulan\"],[\"Doctor Dolittle\"],[\"There's Something About Mary\"],[\"Rain Man\"],[\"The Exorcist\"],[\"Lethal Weapon 2\"],[\"Lethal Weapon 3\"],[\"Back to the Future Part II\"],[\"Back to the Future Part III\"],[\"Bambi\"],[\"Saving Private Ryan\"],[\"Honey, I Shrunk the Kids\"],[\"Indiana Jones and the Temple of Doom\"],[\"A Few Good Men\"],[\"Indecent Proposal\"],[\"Rush Hour\"],[\"Life Is Beautiful\"],[\"Enemy of the State\"],[\"Shakespeare in Love\"],[\"Rambo: First Blood Part II\"],[\"Rocky III\"],[\"Rocky IV\"],[\"You've Got Mail\"],[\"Crocodile Dundee\"],[\"The Matrix\"],[\"The Mummy\"],[\"Superman\"],[\"Notting Hill\"],[\"Austin Powers: The Spy Who Shagged Me\"],[\"Big Daddy\"],[\"American Pie\"],[\"Ghostbusters\"],[\"Runaway Bride\"],[\"The Sixth Sense\"],[\"American Beauty\"],[\"Total Recall\"],[\"Home Alone 2: Lost in New York\"],[\"Who Framed Roger Rabbit\"],[\"Fatal Attraction\"],[\"Toy Story 2\"],[\"The Green Mile\"],[\"Sister Act\"],[\"The Bodyguard\"],[\"Erin Brockovich\"],[\"Close Encounters of the Third Kind\"],[\"Hook\"],[\"Scary Movie\"],[\"X-Men\"],[\"Meet the Parents\"],[\"Charlie's Angels\"],[\"Unbreakable\"],[\"What Women Want\"],[\"Cast Away\"],[\"Beverly Hills Cop II\"],[\"Beverly Hills Cop\"],[\"Hannibal\"],[\"Bridget Jones's Diary\"],[\"Shrek\"],[\"Coming to America\"],[\"Look Who's Talking\"],[\"Jurassic Park III\"],[\"Rush Hour 2\"],[\"American Pie 2\"],[\"Ocean's Eleven\"],[\"A Beautiful Mind\"],[\"Ice Age\"],[\"My Big Fat Greek Wedding\"],[\"Scooby-Doo\"],[\"Austin Powers in Goldmember\"],[\"Signs\"],[\"xXx\"],[\"Spirited Away\"],[\"The Ring\"],[\"Catch Me If You Can\"],[\"Chicago\"],[\"Bruce Almighty\"],[\"American Wedding\"],[\"Love Actually\"],[\"Presumed Innocent\"],[\"Something's Gotta Give\"],[\"The Passion of the Christ\"],[\"The Bourne Supremacy\"],[\"The Village\"],[\"Shark Tale\"],[\"The Incredibles\"],[\"Meet the Fockers\"],[\"Howl's Moving Castle\"],[\"Hitch\"],[\"Robots\"],[\"Madagascar\"],[\"Wedding Crashers\"],[\"Ice Age: The Meltdown\"],[\"Over the Hedge\"],[\"The Devil Wears Prada\"],[\"The Pursuit of Happyness\"],[\"Borat: Cultural Learnings of America for Make Benefit Glorious Nation of Kazakhstan\"],[\"The Departed\"],[\"300\"],[\"Mr. Bean's Holiday\"],[\"Ocean's Thirteen\"],[\"The Simpsons Movie\"],[\"The Bourne Ultimatum\"],[\"Enchanted\"],[\"Alvin and the Chipmunks\"],[\"Horton Hears a Who!\"],[\"Taken\"],[\"Sex and the City\"],[\"Wanted\"],[\"Mamma Mia!\"],[\"Slumdog Millionaire\"],[\"Twilight\"],[\"Gran Torino\"],[\"Marley & Me\"],[\"Fast & Furious\"],[\"Inglourious Basterds\"],[\"The Hangover\"],[\"The Proposal\"],[\"The Twilight Saga: New Moon\"],[\"The Blind Side\"],[\"Sherlock Holmes\"],[\"Alvin and the Chipmunks: The Squeakquel\"],[\"Shutter Island\"],[\"The Twilight Saga: Eclipse\"],[\"Despicable Me\"],[\"Grown Ups\"],[\"The Karate Kid\"],[\"The Expendables\"],[\"Resident Evil: Afterlife\"],[\"The Social Network\"],[\"Black Swan\"],[\"The King's Speech\"],[\"True Grit\"],[\"Rio\"],[\"Bridesmaids\"],[\"The Hangover Part II\"],[\"Super 8\"],[\"Rise of the Planet of the Apes\"],[\"The Hunger Games\"],[\"Alvin and the Chipmunks: Chipwrecked\"],[\"The Intouchables\"],[\"Journey 2: The Mysterious Island\"],[\"The Lorax\"],[\"American Reunion\"],[\"Ted\"],[\"Resident Evil: Retribution\"],[\"Taken 2\"],[\"Hotel Transylvania\"],[\"Argo\"],[\"Lincoln\"],[\"Les Mis\\u00e9rables\"],[\"A Good Day to Die Hard\"],[\"The Conjuring\"],[\"We're the Millers\"],[\"Grown Ups 2\"],[\"Cloudy with a Chance of Meatballs 2\"],[\"American Hustle\"],[\"Divergent\"],[\"The Lego Movie\"],[\"Neighbors\"],[\"The Fault in Our Stars\"],[\"Gone Girl\"],[\"The Maze Runner\"],[\"American Sniper\"],[\"Annabelle\"],[\"The Prince\"],[\"The Imitation Game\"],[\"Paddington\"],[\"Maze Runner: The Scorch Trials\"],[\"Kingsman: The Secret Service\"],[\"Taken 3\"],[\"Deadpool\"],[\"Fifty Shades of Grey\"],[\"The SpongeBob Movie: Sponge Out of Water\"],[\"Cinderella\"],[\"Pitch Perfect 2\"],[\"Spy\"],[\"Pixels\"],[\"Monster Hunt\"],[\"Hotel Transylvania 2\"],[\"Daddy's Home\"],[\"Mojin: The Lost Legend\"],[\"The Mermaid\"],[\"The Angry Birds Movie\"],[\"Now You See Me 2\"],[\"The Conjuring 2\"],[\"Sully\"],[\"La La Land\"],[\"Split\"],[\"Hidden Figures\"],[\"Sing\"],[\"Dangal\"],[\"xXx: Return of Xander Cage\"],[\"The Lego Batman Movie\"],[\"Kung Fu Yoga\"],[\"Get Out\"],[\"Logan\"],[\"Resident Evil: The Final Chapter\"],[\"Fifty Shades Darker\"],[\"Baahubali 2: The Conclusion\"],[\"Baby Driver\"]],\"hovertemplate\":\"clusters=4<br>budget=%{x}<br>revenue=%{y}<br>title=%{customdata[0]}<extra></extra>\",\"legendgroup\":\"4\",\"marker\":{\"color\":\"#636efa\",\"symbol\":\"circle\"},\"mode\":\"markers\",\"name\":\"4\",\"showlegend\":true,\"x\":[30000000.0,65000000.0,58000000.0,30000000.0,33000000.0,55000000.0,52000000.0,50000000.0,90000000.0,16000000.0,11000000.0,46000000.0,55000000.0,6000000.0,45000000.0,23000000.0,30000000.0,70000000.0,42000000.0,44000000.0,25000000.0,22000000.0,21000000.0,18000000.0,22000000.0,28000000.0,22000000.0,35000000.0,19000000.0,25000000.0,14000000.0,80000000.0,80000000.0,75000000.0,92000000.0,80000000.0,6000000.0,4000000.0,2900000.0,48000000.0,3000000.0,8200000.0,49000000.0,10500000.0,15000000.0,27000000.0,18000000.0,18000000.0,32350000.0,16400000.0,19000000.0,48000000.0,54000000.0,70000000.0,80000000.0,7000000.0,50000000.0,45000000.0,90000000.0,85000000.0,38000000.0,80000000.0,90000000.0,85000000.0,3500000.0,18000000.0,60000000.0,50000000.0,90000000.0,71000000.0,23000000.0,25000000.0,8000000.0,25000000.0,35000000.0,40000000.0,40000000.0,858000.0,70000000.0,32000000.0,28000000.0,40000000.0,38000000.0,33000000.0,20000000.0,90000000.0,25000000.0,44000000.0,17000000.0,31000000.0,65000000.0,5000000.0,63000000.0,80000000.0,55000000.0,42000000.0,33000000.0,34200000.0,11000000.0,30000000.0,70000000.0,40000000.0,15000000.0,65000000.0,18000000.0,70000000.0,14000000.0,90000000.0,60000000.0,31000000.0,25000000.0,52000000.0,20000000.0,70000000.0,19000000.0,75000000.0,55000000.0,92000000.0,75000000.0,70000000.0,90000000.0,20000000.0,15000000.0,87000000.0,25000000.0,60000000.0,39000000.0,7500000.0,93000000.0,90000000.0,30000000.0,85000000.0,60000000.0,59000000.0,5000000.0,84000000.0,63000000.0,72000000.0,70000000.0,15000000.0,48000000.0,52000000.0,45000000.0,80000000.0,55000000.0,40000000.0,22000000.0,80000000.0,30000000.0,75000000.0,60000000.0,75000000.0,92000000.0,80000000.0,24000000.0,70000000.0,75000000.0,75000000.0,40000000.0,80000000.0,80000000.0,35000000.0,55000000.0,18000000.0,90000000.0,65000000.0,25000000.0,85000000.0,75000000.0,70000000.0,85000000.0,60000000.0,85000000.0,25000000.0,65000000.0,75000000.0,52000000.0,15000000.0,37000000.0,33000000.0,60000000.0,85000000.0,70000000.0,35000000.0,40000000.0,50000000.0,29000000.0,90000000.0,75000000.0,80000000.0,68000000.0,69000000.0,80000000.0,40000000.0,80000000.0,60000000.0,40000000.0,13000000.0,15000000.0,38000000.0,90000000.0,32500000.0,80000000.0,50000000.0,93000000.0,75000000.0,75000000.0,13000000.0,79000000.0,70000000.0,50000000.0,50000000.0,65000000.0,45000000.0,85000000.0,44500000.0,65000000.0,61000000.0,92000000.0,13000000.0,37000000.0,80000000.0,78000000.0,40000000.0,85000000.0,60000000.0,18000000.0,12000000.0,61000000.0,34000000.0,58800000.0,6500000.0,18000000.0,14000000.0,55000000.0,61000000.0,81000000.0,48000000.0,58000000.0,40000000.0,74000000.0,95000000.0,29000000.0,65000000.0,88000000.0,40000000.0,80000000.0,50000000.0,37000000.0,60720000.0,73000000.0,90000000.0,40000000.0,60000000.0,30000000.0,9000000.0,25000000.0,75000000.0,10400000.0,85000000.0,80000000.0,65000000.0,5000000.0,97000000.0,40000000.0,55000000.0,18000000.0,34000000.0],\"xaxis\":\"x\",\"y\":[373554033.0,262797249.0,352194034.0,254134910.0,327311859.0,346079773.0,355237933.0,287928194.0,366101666.0,247275374.0,775398007.0,341631208.0,677945399.0,254700832.0,788241776.0,351583407.0,350448145.0,255000211.0,270248367.0,368875760.0,441286195.0,321365567.0,227799884.0,476684675.0,505000000.0,504050219.0,424208848.0,411348924.0,272742922.0,377350553.0,463000000.0,457696359.0,250200000.0,335062621.0,494471524.0,309492681.0,245066411.0,400176459.0,263591415.0,390493908.0,572000000.0,286214286.0,352927224.0,792965326.0,356830601.0,231976425.0,538400000.0,389925971.0,572700000.0,235860116.0,381109762.0,474171806.0,320689294.0,240031094.0,280000000.0,470654000.0,273552592.0,302710615.0,263920180.0,252712101.0,299288605.0,245676146.0,589390539.0,315156409.0,257850122.0,251212670.0,264118201.0,314178011.0,304320254.0,294456605.0,369884651.0,412800000.0,441306145.0,227853986.0,321731527.0,332000000.0,244527583.0,267447150.0,481840909.0,222724172.0,333000000.0,243240178.0,266614059.0,244386864.0,229400000.0,250649836.0,289317794.0,300400432.0,270000000.0,300473716.0,250821495.0,328203506.0,463517383.0,415885488.0,300218018.0,363889678.0,310940086.0,234801895.0,235483004.0,295212467.0,309457509.0,672806292.0,356296601.0,261317921.0,358991681.0,329803958.0,320145693.0,497366869.0,284600000.0,231605150.0,411006740.0,256271286.0,303788635.0,300854823.0,278019771.0,296339527.0,330444045.0,264105545.0,248118121.0,374111707.0,429632142.0,299965036.0,316360478.0,351692268.0,281929795.0,484409218.0,288752301.0,296000000.0,368780809.0,347325802.0,287553595.0,450717150.0,313542341.0,383257136.0,368744044.0,275650703.0,296655431.0,408247917.0,277448382.0,274925095.0,249348933.0,352114312.0,306776732.0,484572835.0,231449203.0,244931766.0,221303188.0,266728738.0,611899420.0,288500217.0,256697520.0,367275019.0,631442092.0,516642939.0,234710455.0,368100420.0,260696994.0,532680671.0,285176741.0,660940780.0,343397247.0,326551094.0,307077295.0,261572744.0,289847354.0,422610419.0,229736344.0,311312624.0,527068851.0,442824138.0,340487652.0,361366633.0,297138014.0,226830568.0,415252786.0,258270008.0,609841637.0,377910544.0,392616625.0,269958228.0,244082376.0,363164265.0,319131050.0,459270619.0,317375031.0,709827462.0,309208309.0,524028679.0,443140005.0,294804195.0,698491347.0,543513985.0,271430189.0,357852395.0,274470394.0,300228084.0,224920315.0,327803731.0,414211549.0,252276927.0,484635760.0,288383523.0,254455986.0,260095987.0,482860185.0,691210692.0,342695435.0,426480871.0,355692760.0,348840316.0,234989584.0,549368315.0,240159255.0,376141306.0,358375603.0,232324128.0,275293450.0,441809770.0,304654182.0,318000141.0,269994119.0,246984278.0,248384621.0,251171807.0,288747895.0,469160692.0,268157400.0,307166834.0,369330363.0,348319861.0,542307423.0,255273813.0,266586800.0,233555708.0,259207227.0,311256926.0,414351546.0,325771424.0,783112979.0,571006128.0,311594032.0,543514353.0,287506194.0,235666219.0,243637091.0,385284817.0,473226958.0,242786137.0,278300000.0,553810228.0,349779543.0,334901337.0,320170008.0,238470033.0,445435700.0,276921998.0,230698791.0,632443719.0,310000000.0,346147658.0,311950384.0,254212245.0,252434250.0,616801808.0,312242626.0,378827494.0,230000000.0,224511319.0],\"yaxis\":\"y\",\"type\":\"scattergl\"},{\"customdata\":[[\"Waiting to Exhale\"],[\"Sense and Sensibility\"],[\"Four Rooms\"],[\"Leaving Las Vegas\"],[\"Now and Then\"],[\"The City of Lost Children\"],[\"Dead Man Walking\"],[\"Mortal Kombat\"],[\"To Die For\"],[\"How To Make An American Quilt\"],[\"The Usual Suspects\"],[\"Mighty Aphrodite\"],[\"Friday\"],[\"From Dusk Till Dawn\"],[\"Big Bully\"],[\"Screamers\"],[\"Things to Do in Denver When You're Dead\"],[\"White Squall\"],[\"Nick of Time\"],[\"Vampire in Brooklyn\"],[\"Bottle Rocket\"],[\"Happy Gilmore\"],[\"Taxi Driver\"],[\"Rumble in the Bronx\"],[\"Steal Big Steal Little\"],[\"Flirting with Disaster\"],[\"Bad Boys\"],[\"An Awfully Big Adventure\"],[\"Rob Roy\"],[\"Blue in the Face\"],[\"Canadian Bacon\"],[\"Clockers\"],[\"Desperado\"],[\"Devil in a Blue Dress\"],[\"Hackers\"],[\"Johnny Mnemonic\"],[\"Kids\"],[\"Living in Oblivion\"],[\"Mallrats\"],[\"Mighty Morphin Power Rangers: The Movie\"],[\"Mute Witness\"],[\"The Net\"],[\"Party Girl\"],[\"The Prophecy\"],[\"Smoke\"],[\"The Tie That Binds\"],[\"A Walk in the Clouds\"],[\"Burnt by the Sun\"],[\"Before Sunrise\"],[\"Billy Madison\"],[\"Boys on the Side\"],[\"Clerks\"],[\"Don Juan DeMarco\"],[\"Ed Wood\"],[\"Hideaway\"],[\"Hoop Dreams\"],[\"Heavenly Creatures\"],[\"Houseguest\"],[\"Jefferson in Paris\"],[\"Like Water for Chocolate\"],[\"Losing Isaiah\"],[\"Miami Rhapsody\"],[\"Natural Born Killers\"],[\"Leon: The Professional\"],[\"The Perez Family\"],[\"Pulp Fiction\"],[\"Pushing Hands\"],[\"The Quick and the Dead\"],[\"Roommates\"],[\"Pr\\u00eat-\\u00e0-Porter\"],[\"The Swan Princess\"],[\"The Shawshank Redemption\"],[\"Tank Girl\"],[\"Tales from the Hood\"],[\"What's Eating Gilbert Grape\"],[\"Virtuosity\"],[\"While You Were Sleeping\"],[\"Muriel's Wedding\"],[\"Ace Ventura: Pet Detective\"],[\"Bitter Moon\"],[\"The Crow\"],[\"Little Buddha\"],[\"New Nightmare\"],[\"The Naked Gun 33\\u2153: The Final Insult\"],[\"Reality Bites\"],[\"Red Rock West\"],[\"Timecop\"],[\"A Low Down Dirty Shame\"],[\"Jason's Lyric\"],[\"Highlander: The Final Dimension\"],[\"In the Mouth of Madness\"],[\"The Age of Innocence\"],[\"The Air Up There\"],[\"Body Snatchers\"],[\"A Bronx Tale\"],[\"Calendar Girl\"],[\"Carlito's Way\"],[\"Dazed and Confused\"],[\"For Love or Money\"],[\"Free Willy\"],[\"Geronimo: An American Legend\"],[\"Hard Target\"],[\"Hot Shots! Part Deux\"],[\"In the Name of the Father\"],[\"Kalifornia\"],[\"Killing Zoe\"],[\"Manhattan Murder Mystery\"],[\"Menace II Society\"],[\"The Next Karate Kid\"],[\"No Escape\"],[\"The Piano\"],[\"Poetic Justice\"],[\"The Ref\"],[\"The Remains of the Day\"],[\"RoboCop 3\"],[\"Robin Hood: Men in Tights\"],[\"Romeo Is Bleeding\"],[\"Ruby in Paradise\"],[\"Rudy\"],[\"Serial Mom\"],[\"The Shadow\"],[\"Blade Runner\"],[\"So I Married an Axe Murderer\"],[\"Surviving the Game\"],[\"The Nightmare Before Christmas\"],[\"The Three Musketeers\"],[\"Tombstone\"],[\"True Romance\"],[\"The Pagemaster\"],[\"Snow White and the Seven Dwarfs\"],[\"Pinocchio\"],[\"The Wild Bunch\"],[\"Fargo\"],[\"Hellraiser: Bloodline\"],[\"The Aristocats\"],[\"Girl 6\"],[\"Faithful\"],[\"Barbarella\"],[\"Mrs. Winterbourne\"],[\"The Quest\"],[\"Oliver & Company\"],[\"Flipper\"],[\"The Horseman on the Roof\"],[\"The Craft\"],[\"Original Gangstas\"],[\"The Arrival\"],[\"Dr. Strangelove or: How I Learned to Stop Worrying and Love the Bomb\"],[\"Trainspotting\"],[\"Kingpin\"],[\"The Frighteners\"],[\"Lone Star\"],[\"She's the One\"],[\"Fled\"],[\"Joe's Apartment\"],[\"The First Wives Club\"],[\"Matilda\"],[\"Emma\"],[\"The Crow: City of Angels\"],[\"Bordello of Blood\"],[\"The Spitfire Grill\"],[\"Basquiat\"],[\"Dingo\"],[\"Police Story 3: Supercop\"],[\"Manny & Lo\"],[\"Bound\"],[\"Bulletproof\"],[\"Halloween: The Curse of Michael Myers\"],[\"Singin' in the Rain\"],[\"An American in Paris\"],[\"Breakfast at Tiffany's\"],[\"Vertigo\"],[\"Rear Window\"],[\"It Happened One Night\"],[\"North by Northwest\"],[\"The Apartment\"],[\"Some Like It Hot\"],[\"Charade\"],[\"Casablanca\"],[\"The Maltese Falcon\"],[\"My Fair Lady\"],[\"Sabrina\"],[\"Roman Holiday\"],[\"The Wizard of Oz\"],[\"Sunset Boulevard\"],[\"Citizen Kane\"],[\"2001: A Space Odyssey\"],[\"All About Eve\"],[\"The Women\"],[\"Rebecca\"],[\"Notorious\"],[\"Spellbound\"],[\"To Catch a Thief\"],[\"Ninotchka\"],[\"The Adventures of Robin Hood\"],[\"Laura\"],[\"Top Hat\"],[\"Giant\"],[\"East of Eden\"],[\"The Thin Man\"],[\"Around the World in Eighty Days\"],[\"It's a Wonderful Life\"],[\"Mr. Smith Goes to Washington\"],[\"Night of the Living Dead\"],[\"The African Queen\"],[\"Cat on a Hot Tin Roof\"],[\"A Farewell to Arms\"],[\"Maximum Risk\"],[\"Michael Collins\"],[\"Set It Off\"],[\"Curdled\"],[\"20,000 Leagues Under the Sea\"],[\"Cool Runnings\"],[\"The Sword in the Stone\"],[\"Mary Poppins\"],[\"Dumbo\"],[\"Bedknobs and Broomsticks\"],[\"The Fox and the Hound\"],[\"The Lawnmower Man\"],[\"Secrets & Lies\"],[\"Surviving Picasso\"],[\"Get on the Bus\"],[\"Jude\"],[\"Romeo + Juliet\"],[\"Swingers\"],[\"Willy Wonka & the Chocolate Factory\"],[\"Sleeper\"],[\"Bananas\"],[\"A Fish Called Wanda\"],[\"Life of Brian\"],[\"The Great Race\"],[\"Bonnie and Clyde\"],[\"Dial M for Murder\"],[\"Dirty Dancing\"],[\"Reservoir Dogs\"],[\"Platoon\"],[\"Weekend at Bernie's\"],[\"The Crying Game\"],[\"Glengarry Glen Ross\"],[\"Sophie's Choice\"],[\"A Streetcar Named Desire\"],[\"The Funeral\"],[\"The People vs. Larry Flynt\"],[\"The Return of the Pink Panther\"],[\"Drop Dead Fred\"],[\"The Fog\"],[\"Escape from New York\"],[\"The Howling\"],[\"Monty Python and the Holy Grail\"],[\"Bad Moon\"],[\"Delicatessen\"],[\"My Left Foot: The Story of Christy Brown\"],[\"Strictly Ballroom\"],[\"Madonna: Truth or Dare\"],[\"Paris is Burning\"],[\"One Flew Over the Cuckoo's Nest\"],[\"The Princess Bride\"],[\"Aliens\"],[\"The Good, the Bad and the Ugly\"],[\"12 Angry Men\"],[\"Lawrence of Arabia\"],[\"A Clockwork Orange\"],[\"To Kill a Mockingbird\"],[\"Once Upon a Time in the West\"],[\"Wings of Desire\"],[\"GoodFellas\"],[\"Alien\"],[\"Ran\"],[\"Psycho\"],[\"The Blues Brothers\"],[\"The Godfather: Part II\"],[\"Full Metal Jacket\"],[\"Amadeus\"],[\"Raging Bull\"],[\"Annie Hall\"],[\"The Right Stuff\"],[\"Das Boot\"],[\"The Sting\"],[\"The Terminator\"],[\"Braindead\"],[\"Glory\"],[\"Miller's Crossing\"],[\"The Graduate\"],[\"Touch of Evil\"],[\"The Bridge on the River Kwai\"],[\"Chinatown\"],[\"The Treasure of the Sierra Madre\"],[\"The Shining\"],[\"Stand by Me\"],[\"Evil Dead II\"],[\"The Great Escape\"],[\"The Deer Hunter\"],[\"Groundhog Day\"],[\"Unforgiven\"],[\"Fried Green Tomatoes\"],[\"Patton\"],[\"Akira\"],[\"Highlander\"],[\"Cool Hand Luke\"],[\"Young Frankenstein\"],[\"Night on Earth\"],[\"The Great Dictator\"],[\"Fantasia\"],[\"High Noon\"],[\"Ben-Hur\"],[\"This Is Spinal Tap\"],[\"Gandhi\"],[\"The Unbearable Lightness of Being\"],[\"A Room with a View\"],[\"Pink Floyd: The Wall\"],[\"The Killing Fields\"],[\"Forbidden Planet\"],[\"Butch Cassidy and the Sundance Kid\"],[\"Paris, Texas\"],[\"When Harry Met Sally...\"],[\"An American Werewolf in London\"],[\"The Birds\"],[\"Candyman\"],[\"Carrie\"],[\"A Nightmare on Elm Street\"],[\"The Omen\"],[\"Sling Blade\"],[\"Ridicule\"],[\"Star Trek VI: The Undiscovered Country\"],[\"Star Trek V: The Final Frontier\"],[\"Star Trek II: The Wrath of Khan\"],[\"Star Trek III: The Search for Spock\"],[\"Star Trek IV: The Voyage Home\"],[\"Young Guns\"],[\"Grease\"],[\"Grease 2\"],[\"Marked for Death\"],[\"Jaws 2\"],[\"Jaws 3-D\"],[\"Citizen Ruth\"],[\"Raising Arizona\"],[\"Marvin's Room\"],[\"Scream\"],[\"Prefontaine\"],[\"Vegas Vacation\"],[\"Lost Highway\"],[\"Rosewood\"],[\"Donnie Brasco\"],[\"Kama Sutra - A Tale of Love\"],[\"Private Parts\"],[\"Selena\"],[\"Cats Don't Dance\"],[\"Turbo: A Power Rangers Movie\"],[\"Anna Karenina\"],[\"Austin Powers: International Man of Mystery\"],[\"Love! Valour! Compassion!\"],[\"Squeeze\"],[\"Contempt\"],[\"A Simple Wish\"],[\"Conan the Barbarian\"],[\"Cop Land\"],[\"Air Bud\"],[\"Picture Perfect\"],[\"Steel\"],[\"Mimic\"],[\"One Eight Seven\"],[\"Kiss the Girls\"],[\"Wishmaster\"],[\"U Turn\"],[\"The Ice Storm\"],[\"Chasing Amy\"],[\"I Know What You Did Last Summer\"],[\"Playing God\"],[\"The House of Yes\"],[\"Gattaca\"],[\"Switchback\"],[\"Stripes\"],[\"One Night Stand\"],[\"Boogie Nights\"],[\"Witness\"],[\"The Joy Luck Club\"],[\"Sliding Doors\"],[\"Mortal Kombat: Annihilation\"],[\"The Man Who Knew Too Little\"],[\"Deconstructing Harry\"],[\"For Richer or Poorer\"],[\"Good Will Hunting\"],[\"Midnight in the Garden of Good and Evil\"],[\"The Sweet Hereafter\"],[\"Jackie Brown\"],[\"Kundun\"],[\"The Big Lebowski\"],[\"Great Expectations\"],[\"Wag the Dog\"],[\"Dark City\"],[\"Half Baked\"],[\"Shooting Fish\"],[\"Spice World\"],[\"The Replacement Killers\"],[\"The Night Flier\"],[\"Blues Brothers 2000\"],[\"The Wedding Singer\"],[\"King of New York\"],[\"The Newton Boys\"],[\"Wild Things\"],[\"Two Girls and a Guy\"],[\"The Object of My Affection\"],[\"Meet the Deedles\"],[\"The Spanish Prisoner\"],[\"He Got Game\"],[\"Zero Effect\"],[\"An Alan Smithee Film: Burn, Hollywood, Burn\"],[\"Mr. Nice Guy\"],[\"Species II\"],[\"The Big Hit\"],[\"Woo\"],[\"Bulworth\"],[\"Fear and Loathing in Las Vegas\"],[\"The Opposite of Sex\"],[\"Can't Hardly Wait\"],[\"Children of Heaven\"],[\"Buffalo '66\"],[\"Pi\"],[\"The Broadway Melody\"],[\"Grand Hotel\"],[\"Cavalcade\"],[\"Mutiny on the Bounty\"],[\"You Can't Take It With You\"],[\"How Green Was My Valley\"],[\"Mrs. Miniver\"],[\"The Lost Weekend\"],[\"The Best Years of Our Lives\"],[\"Gentleman's Agreement\"],[\"The Greatest Show on Earth\"],[\"From Here to Eternity\"],[\"On the Waterfront\"],[\"Marty\"],[\"West Side Story\"],[\"Tom Jones\"],[\"A Man for All Seasons\"],[\"In the Heat of the Night\"],[\"Oliver!\"],[\"Midnight Cowboy\"],[\"The French Connection\"],[\"Rocky\"],[\"Kramer vs. Kramer\"],[\"Chariots of Fire\"],[\"The Last Emperor\"],[\"Driving Miss Daisy\"],[\"Repo Man\"],[\"Labyrinth\"],[\"The Breakfast Club\"],[\"A Nightmare on Elm Street Part 2: Freddy's Revenge\"],[\"A Nightmare on Elm Street 3: Dream Warriors\"],[\"A Nightmare on Elm Street 4: The Dream Master\"],[\"A Nightmare on Elm Street 5: The Dream Child\"],[\"Freddy's Dead: The Final Nightmare\"],[\"Friday the 13th\"],[\"Friday the 13th Part 2\"],[\"Friday the 13th Part III\"],[\"Friday the 13th: The Final Chapter\"],[\"Friday the 13th: A New Beginning\"],[\"Friday the 13th Part VI: Jason Lives\"],[\"Friday the 13th Part VII: The New Blood\"],[\"Friday the 13th Part VIII: Jason Takes Manhattan\"],[\"Halloween\"],[\"Halloween II\"],[\"Halloween III: Season of the Witch\"],[\"Halloween 4: The Return of Michael Myers\"],[\"Halloween 5: The Revenge of Michael Myers\"],[\"Prom Night\"],[\"Child's Play\"],[\"Child's Play 2\"],[\"Child's Play 3\"],[\"Poltergeist\"],[\"Poltergeist II: The Other Side\"],[\"Poltergeist III\"],[\"Exorcist II: The Heretic\"],[\"Lethal Weapon\"],[\"Gremlins\"],[\"The Goonies\"],[\"The Poseidon Adventure\"],[\"Seven Samurai\"],[\"Dangerous Liaisons\"],[\"The Last Temptation of Christ\"],[\"The Rapture\"],[\"Disturbing Behavior\"],[\"Jane Austen's Mafia!\"],[\"The Black Cauldron\"],[\"The Black Hole\"],[\"Cheetah\"],[\"The Great Mouse Detective\"],[\"Hocus Pocus\"],[\"Roger & Me\"],[\"The Purple Rose of Cairo\"],[\"Doctor Zhivago\"],[\"The 'Burbs\"],[\"Blue Velvet\"],[\"The Jungle Book\"],[\"The Mighty Ducks\"],[\"One Hundred and One Dalmatians\"],[\"Peter Pan\"],[\"The Rescuers\"],[\"Return to Oz\"],[\"Sleeping Beauty\"],[\"Something Wicked This Way Comes\"],[\"Splash\"],[\"Tron\"],[\"Halloween: H20\"],[\"Graveyard Shift\"],[\"The Outsiders\"],[\"The Lord of the Rings\"],[\"The Dead Zone\"],[\"Maximum Overdrive\"],[\"Cujo\"],[\"Children of the Corn\"],[\"All Dogs Go to Heaven\"],[\"Ever After: A Cinderella Story\"],[\"First Love, Last Rites\"],[\"Atlantic City\"],[\"Who's Afraid of Virginia Woolf?\"],[\"Doctor Dolittle\"],[\"Watership Down\"],[\"The Secret of NIMH\"],[\"The Dark Crystal\"],[\"An American Tail\"],[\"Legend\"],[\"Sixteen Candles\"],[\"The Gods Must Be Crazy\"],[\"How Stella Got Her Groove Back\"],[\"Rosemary's Baby\"],[\"The NeverEnding Story\"],[\"The Neverending Story II: The Next Chapter\"],[\"Your Friends & Neighbors\"],[\"Beetlejuice\"],[\"Rope\"],[\"Family Plot\"],[\"Frenzy\"],[\"Topaz\"],[\"Torn Curtain\"],[\"Marnie\"],[\"The Wrong Man\"],[\"The Man Who Knew Too Much\"],[\"The Trouble with Harry\"],[\"Strangers on a Train\"],[\"54\"],[\"I Married a Strange Person!\"],[\"The Untouchables\"],[\"Suspicion\"],[\"Rounders\"],[\"Cube\"],[\"Simon Birch\"],[\"Without Limits\"],[\"Broadcast News\"],[\"Working Girl\"],[\"Married to the Mob\"],[\"Parasite\"],[\"Six-String Samurai\"],[\"Urban Legend\"],[\"The Sheltering Sky\"],[\"The Thing\"],[\"The Player\"],[\"Stardust Memories\"],[\"Edward Scissorhands\"],[\"A Night at the Roxbury\"],[\"Strangeland\"],[\"History of the World: Part I\"],[\"My Cousin Vinny\"],[\"2010\"],[\"The Elephant Man\"],[\"Bride of Chucky\"],[\"Happiness\"],[\"Tales from the Darkside: The Movie\"],[\"American History X\"],[\"Living Out Loud\"],[\"Gods and Monsters\"],[\"Elizabeth\"],[\"Runaway Train\"],[\"Sid & Nancy\"],[\"Central Station\"],[\"Pink Flamingos\"],[\"Godzilla 1985\"],[\"King Kong\"],[\"King Kong\"],[\"King Kong Lives\"],[\"Desperately Seeking Susan\"],[\"Fletch\"],[\"Fletch Lives\"],[\"Red Sonja\"],[\"The Money Pit\"],[\"Police Academy\"],[\"Home Fries\"],[\"Ringmaster\"],[\"Very Bad Things\"],[\"Rushmore\"],[\"First Blood\"],[\"The Jewel of the Nile\"],[\"Romancing the Stone\"],[\"Cocoon: The Return\"],[\"Rocky II\"],[\"Clue\"],[\"The Karate Kid\"],[\"The Karate Kid, Part II\"],[\"National Lampoon's Christmas Vacation\"],[\"The Faculty\"],[\"Tea with Mussolini\"],[\"Affliction\"],[\"Playing by Heart\"],[\"The Fly\"],[\"The Fly\"],[\"Armed and Dangerous\"],[\"The Texas Chain Saw Massacre\"],[\"The Texas Chainsaw Massacre 2\"],[\"Texas Chainsaw Massacre: The Next Generation\"],[\"The Name of the Rose\"],[\"Peggy Sue Got Married\"],[\"The Color of Money\"],[\"Heartbreak Ridge\"],[\"She's All That\"],[\"Blood, Guts, Bullets and Octane\"],[\"Peeping Tom\"],[\"Simply Irresistible\"],[\"Blast from the Past\"],[\"Jawbreaker\"],[\"Office Space\"],[\"200 Cigarettes\"],[\"Pet Sematary\"],[\"Pet Sematary II\"],[\"Children of the Corn II: The Final Sacrifice\"],[\"Airport\"],[\"Airport 1975\"],[\"Airport '77\"],[\"The Towering Inferno\"],[\"Logan's Run\"],[\"Planet of the Apes\"],[\"Beneath the Planet of the Apes\"],[\"Battle for the Planet of the Apes\"],[\"Conquest of the Planet of the Apes\"],[\"Escape from the Planet of the Apes\"],[\"Earthquake\"],[\"The Concorde... Airport '79\"],[\"The Corruptor\"],[\"Cruel Intentions\"],[\"Lock, Stock and Two Smoking Barrels\"],[\"The Rage: Carrie 2\"],[\"Dead Ringers\"],[\"Baby Geniuses\"],[\"The King and I\"],[\"The King and I\"],[\"10 Things I Hate About You\"],[\"Following\"],[\"Go\"],[\"Never Been Kissed\"],[\"Twin Dragons\"],[\"Cookie's Fortune\"],[\"Open Your Eyes\"],[\"Lost & Found\"],[\"eXistenZ\"],[\"Idle Hands\"],[\"Mildred Pierce\"],[\"Night of the Comet\"],[\"The Castle\"],[\"Edge of Seventeen\"],[\"Superman IV: The Quest for Peace\"],[\"Dracula\"],[\"Frankenstein\"],[\"The Rocky Horror Picture Show\"],[\"It Came from Hollywood\"],[\"The War of the Worlds\"],[\"The Thirteenth Floor\"],[\"Limbo\"],[\"The Red Violin\"],[\"An Ideal Husband\"],[\"Run Lola Run\"],[\"The Dinner Game\"],[\"Arachnophobia\"],[\"Muppets from Space\"],[\"The Blair Witch Project\"],[\"Lake Placid\"],[\"The Wood\"],[\"Drop Dead Gorgeous\"],[\"Trick\"],[\"Spartacus\"],[\"Lolita\"],[\"Barry Lyndon\"],[\"Vibes\"],[\"The Golden Child\"],[\"The Color Purple\"],[\"Native Son\"],[\"The Mission\"],[\"Little Shop of Horrors\"],[\"Dick\"],[\"Brokedown Palace\"],[\"Detroit Rock City\"],[\"Never Talk to Strangers\"],[\"The Raven\"],[\"The Pit and the Pendulum\"],[\"Damien: Omen II\"],[\"Airplane!\"],[\"An American Werewolf in Paris\"],[\"National Lampoon's Vacation\"],[\"Big\"],[\"Teaching Mrs. Tingle\"],[\"In Too Deep\"],[\"Outside Providence\"],[\"Stigmata\"],[\"Stir of Echoes\"],[\"A Soldier's Story\"],[\"Stop Making Sense\"],[\"Caligula\"],[\"A Hard Day's Night\"],[\"The Buddy Holly Story\"],[\"Fright Night\"],[\"Deliverance\"],[\"Excalibur\"],[\"Thumbelina\"],[\"Tommy\"],[\"Guinevere\"],[\"Drive Me Crazy\"],[\"Mystery, Alaska\"],[\"Happy, Texas\"],[\"The Dark Half\"],[\"Monkey Shines\"],[\"Phantasm\"],[\"Psycho II\"],[\"Boys Don't Cry\"],[\"The Limey\"],[\"Risky Business\"],[\"Ferris Bueller's Day Off\"],[\"The Year of Living Dangerously\"],[\"High Plains Drifter\"],[\"Hang 'em High\"],[\"Reds\"],[\"Niagara\"],[\"South Pacific\"],[\"Flashdance\"],[\"The Dirty Dozen\"],[\"Goldfinger\"],[\"From Russia with Love\"],[\"Dr. No\"],[\"The Blue Lagoon\"],[\"A Fistful of Dollars\"],[\"Hard Eight\"],[\"Someone to Watch Over Me\"],[\"Sparrows\"],[\"Naturally Native\"],[\"Time Bandits\"],[\"Crimes and Misdemeanors\"],[\"The Best Man\"],[\"RoboCop\"],[\"Live and Let Die\"],[\"Thunderball\"],[\"House on Haunted Hill\"],[\"Music of the Heart\"],[\"Being John Malkovich\"],[\"Dreaming of Joseph Lees\"],[\"Creepshow\"],[\"Creepshow 2\"],[\"Re-Animator\"],[\"Drugstore Cowboy\"],[\"Falling Down\"],[\"My Best Girl\"],[\"Nighthawks\"],[\"Spaceballs\"],[\"Robin Hood\"],[\"Quest for Fire\"],[\"Little Big Man\"],[\"Under the Rainbow\"],[\"Anywhere But Here\"],[\"Dogma\"],[\"The Longest Day\"],[\"Tora! Tora! Tora!\"],[\"Women on the Verge of a Nervous Breakdown\"],[\"The Verdict\"],[\"All About My Mother\"],[\"Bicycle Thieves\"],[\"Matewan\"],[\"The Natural\"],[\"Stanley & Iris\"],[\"Midnight Run\"],[\"The Fisher King\"],[\"The River\"],[\"Ride with the Devil\"],[\"Tumbleweeds\"],[\"The End of the Affair\"],[\"The Two Jakes\"],[\"Deuce Bigalow: Male Gigolo\"],[\"The Cider House Rules\"],[\"The Last Picture Show\"],[\"Onegin\"],[\"Simpatico\"],[\"Next Friday\"],[\"Angela's Ashes\"],[\"Play It to the Bone\"],[\"The Terrorist\"],[\"Papillon\"],[\"Dead Calm\"],[\"Fast Times at Ridgemont High\"],[\"A Cry in the Dark\"],[\"Batman: Mask of the Phantasm\"],[\"Poison\"],[\"Isn't She Great\"],[\"Malcolm X\"],[\"The Hand that Rocks the Cradle\"],[\"Alive\"],[\"Wayne's World\"],[\"Twin Peaks: Fire Walk with Me\"],[\"Buffy the Vampire Slayer\"],[\"El Mariachi\"],[\"Bad Lieutenant\"],[\"Single White Female\"],[\"The Boondock Saints\"],[\"Gun Shy\"],[\"The Tigger Movie\"],[\"Trois\"],[\"Boiler Room\"],[\"Pitch Black\"],[\"City Lights\"],[\"The Kid\"],[\"3 Strikes\"],[\"Drowning Mona\"],[\"The Next Best Thing\"],[\"Beyond the Mat\"],[\"Birdy\"],[\"Blood Feast\"],[\"Breaking Away\"],[\"Hoosiers\"],[\"Bull Durham\"],[\"Dog Day Afternoon\"],[\"American Graffiti\"],[\"Blind Date\"],[\"Nadine\"],[\"Titanic\"],[\"Final Destination\"],[\"Thelma & Louise\"],[\"Animal House\"],[\"Do the Right Thing\"],[\"Mo' Better Blues\"],[\"Jungle Fever\"],[\"Death Wish\"],[\"Death Wish 2\"],[\"Death Wish 3\"],[\"Death Wish 5: The Face of Death\"],[\"Double Indemnity\"],[\"Cool as Ice\"],[\"Teenage Mutant Ninja Turtles\"],[\"Teenage Mutant Ninja Turtles II: The Secret of the Ooze\"],[\"Teenage Mutant Ninja Turtles III\"],[\"Red Dawn\"],[\"Band of the Hand\"],[\"Bloodsport\"],[\"Eyes of Laura Mars\"],[\"Good Morning, Vietnam\"],[\"Guess Who's Coming to Dinner\"],[\"Romeo Must Die\"],[\"Whatever It Takes\"],[\"Waking the Dead\"],[\"Modern Times\"],[\"Hud\"],[\"The Hustler\"],[\"Jacob's Ladder\"],[\"La Bamba\"],[\"Ladyhawke\"],[\"Lucas\"],[\"High Fidelity\"],[\"The Skulls\"],[\"El Dorado\"],[\"Midnight Express\"],[\"Misery\"],[\"Murphy's Romance\"],[\"Network\"],[\"No Way Out\"],[\"The Outlaw Josey Wales\"],[\"Black and White\"],[\"Frequency\"],[\"Ready to Rumble\"],[\"Return to Me\"],[\"Force 10 from Navarone\"],[\"Arthur\"],[\"Bachelor Party\"],[\"Predator\"],[\"The Prince of Tides\"],[\"American Psycho\"],[\"Keeping the Faith\"],[\"East Is East\"],[\"Marathon Man\"],[\"Caddyshack\"],[\"Gossip\"],[\"Love & Basketball\"],[\"The Virgin Suicides\"],[\"Jennifer Eight\"],[\"Where the Heart Is\"],[\"The Big Kahuna\"],[\"The Idiots\"],[\"Carnosaur\"],[\"Human Traffic\"],[\"The Lords of Flatbush\"],[\"Center Stage\"],[\"Hamlet\"],[\"Pee-wee's Big Adventure\"],[\"Road Trip\"],[\"The Hollywood Knights\"],[\"The Myth Of Fingerprints\"],[\"The Gold Rush\"],[\"On Her Majesty's Secret Service\"],[\"The Spy Who Loved Me\"],[\"The Man with the Golden Gun\"],[\"American Gigolo\"],[\"The Guns of Navarone\"],[\"Stay Tuned\"],[\"Blazing Saddles\"],[\"Eraserhead\"],[\"For a Few Dollars More\"],[\"Flatliners\"],[\"Porky's\"],[\"Porky's II: The Next Day\"],[\"Porky's 3: Revenge\"],[\"The Running Man\"],[\"Starman\"],[\"Alien Nation\"],[\"Mad Max\"],[\"Mad Max 2: The Road Warrior\"],[\"Mad Max Beyond Thunderdome\"],[\"Angel Heart\"],[\"Nine 1/2 Weeks\"],[\"Firestarter\"],[\"Action Jackson\"],[\"Love's Labour's Lost\"],[\"Shaft\"],[\"The Conversation\"],[\"The Fury\"],[\"Serpico\"],[\"Ace in the Hole\"],[\"The Sugarland Express\"],[\"Big Trouble in Little China\"],[\"Boys and Girls\"],[\"Butterfly\"],[\"Missing in Action\"],[\"Missing in Action 2: The Beginning\"],[\"House Party\"],[\"Shaft in Africa\"],[\"Shaft's Big Score!\"],[\"But I'm a Cheerleader\"],[\"Footloose\"],[\"Duel in the Sun\"],[\"The In Crowd\"],[\"Sinbad and the Eye of the Tiger\"],[\"Everything You Always Wanted to Know About Sex *But Were Afraid to Ask\"],[\"Love and Death\"],[\"Saving Grace\"],[\"The Crush\"],[\"Kelly's Heroes\"],[\"Phantasm II\"],[\"Pumpkinhead\"],[\"Silent Fall\"],[\"Godzilla 2000\"],[\"The Naked Gun: From the Files of Police Squad!\"],[\"The Naked Gun 2\\u00bd: The Smell of Fear\"],[\"Shane\"],[\"Supergirl\"],[\"Bring It On\"],[\"Highlander: Endgame\"],[\"The Way of the Gun\"],[\"Under Suspicion\"],[\"Urban Legends: Final Cut\"],[\"Dancer in the Dark\"],[\"The Broken Hearts Club: A Romantic Comedy\"],[\"Hellraiser\"],[\"Hellbound: Hellraiser II\"],[\"Hellraiser III: Hell on Earth\"],[\"Voyage to the Bottom of the Sea\"],[\"Fantastic Voyage\"],[\"Requiem for a Dream\"],[\"The Ladies Man\"],[\"Ghoulies\"],[\"Billy Elliot\"],[\"The Little Vampire\"],[\"Men of Honor\"],[\"Diamonds Are Forever\"],[\"Bounce\"],[\"Rugrats in Paris: The Movie\"],[\"Quills\"],[\"Crouching Tiger, Hidden Dragon\"],[\"Dungeons & Dragons\"],[\"The Bounty\"],[\"The Transformers: The Movie\"],[\"Wall Street\"],[\"Born on the Fourth of July\"],[\"Talk Radio\"],[\"Brewster's Millions\"],[\"Snatch\"],[\"Punchline\"],[\"Dude, Where\\u2019s My Car?\"],[\"Pollock\"],[\"The Gift\"],[\"The House of Mirth\"],[\"O Brother, Where Art Thou?\"],[\"Dracula 2000\"],[\"Shadow of the Vampire\"],[\"Don't Tell Mom the Babysitter's Dead\"],[\"The Alamo\"],[\"At Close Range\"],[\"Antitrust\"],[\"Save the Last Dance\"],[\"Panic\"],[\"The Pledge\"],[\"Sugar & Spice\"],[\"Barfly\"],[\"Can't Buy Me Love\"],[\"Cherry 2000\"],[\"Empire of the Sun\"],[\"Ernest Goes to Camp\"],[\"The Evil Dead\"],[\"Jaws: The Revenge\"],[\"Less Than Zero\"],[\"The Lost Boys\"],[\"Mannequin\"],[\"Masters of the Universe\"],[\"The Monster Squad\"],[\"Head Over Heels\"],[\"Saving Silverman\"],[\"Recess: School's Out\"],[\"Me, You, Them\"],[\"The Greatest Story Ever Told\"],[\"Elmer Gantry\"],[\"Battle Beyond the Stars\"],[\"Death Warrant\"],[\"Double Impact\"],[\"Harley Davidson and the Marlboro Man\"],[\"Losin' It\"],[\"Mermaids\"],[\"Manhunter\"],[\"Death on the Nile\"],[\"The Longest Yard\"],[\"C.H.U.D.\"],[\"Memento\"],[\"Tomcats\"],[\"The Tailor of Panama\"],[\"Amores perros\"],[\"Pok\\u00e9mon: Spell of the Unknown\"],[\"Brigham City\"],[\"Joe Dirt\"],[\"Crocodile Dundee in Los Angeles\"],[\"Scarface\"],[\"Cleopatra\"],[\"Krull\"],[\"The World According to Garp\"],[\"A Home of Our Own\"],[\"Love Story\"],[\"Postcards from the Edge\"],[\"Mississippi Burning\"],[\"The Magnificent Seven\"],[\"Throw Momma from the Train\"],[\"The Sand Pebbles\"],[\"The Animal\"],[\"Catch-22\"],[\"Point Break\"],[\"Unlawful Entry\"],[\"Macabre\"],[\"Tootsie\"],[\"Baby Boy\"],[\"Crazy/Beautiful\"],[\"Kiss of the Dragon\"],[\"The Cannonball Run\"],[\"Donovan's Reef\"],[\"House of Usher\"],[\"The Man Who Shot Liberty Valance\"],[\"Shadows and Fog\"],[\"The Misfits\"],[\"Moby Dick\"],[\"The Last Dragon\"],[\"Outland\"],[\"The Way of the Dragon\"],[\"Legally Blonde\"],[\"Made\"],[\"Above the Law\"],[\"Apartment Zero\"],[\"Bad Dreams\"],[\"Biloxi Blues\"],[\"The Blob\"],[\"The Boost\"],[\"Camille Claudel 1915\"],[\"Cocktail\"],[\"Colors\"],[\"Critters\"],[\"Critters 2\"],[\"Ernest Saves Christmas\"],[\"Frantic\"],[\"The Great Outdoors\"],[\"Hot to Trot\"],[\"The Lair of the White Worm\"],[\"The Land Before Time\"],[\"License to Drive\"],[\"My Stepmother is an Alien\"],[\"Off Limits\"],[\"Permanent Record\"],[\"Red Heat\"],[\"Return of the Living Dead Part II\"],[\"The Return of the Living Dead\"],[\"The Man from Snowy River\"],[\"The Serpent and the Rainbow\"],[\"Sunset\"],[\"They Live\"],[\"Twins\"],[\"Always\"],[\"American Ninja\"],[\"The Big Picture\"],[\"Bill & Ted's Excellent Adventure\"],[\"Black Rain\"],[\"Casualties of War\"],[\"Cyborg\"],[\"Dad\"],[\"Earth Girls Are Easy\"],[\"Farewell to the King\"],[\"Harlem Nights\"],[\"Johnny Handsome\"],[\"K-9\"],[\"Kickboxer\"],[\"Leviathan\"],[\"Little Monsters\"],[\"Lock Up\"],[\"Major League\"],[\"Miracle Mile\"],[\"Next of Kin\"],[\"No Holds Barred\"],[\"Red Scorpion\"],[\"Brother\"],[\"Cure\"],[\"Jackpot\"],[\"Wet Hot American Summer\"],[\"Road House\"],[\"Sea of Love\"],[\"See No Evil, Hear No Evil\"],[\"Shocker\"],[\"Three Fugitives\"],[\"Uncle Buck\"],[\"Vampire's Kiss\"],[\"The Wizard\"],[\"Paint Your Wagon\"],[\"Altered States\"],[\"American Outlaws\"],[\"Session 9\"],[\"Jay and Silent Bob Strike Back\"],[\"Ghosts of Mars\"],[\"Summer Catch\"],[\"Jeepers Creepers\"],[\"Vamp\"],[\"L.I.E.\"],[\"The Glass House\"],[\"Hardball\"],[\"Glitter\"],[\"Sidewalks of New York\"],[\"It's a Mad, Mad, Mad, Mad World\"],[\"Play Misty for Me\"],[\"Pocketful of Miracles\"],[\"SpaceCamp\"],[\"Hearts in Atlantis\"],[\"Zoolander\"],[\"Joy Ride\"],[\"Max Keeble's Big Move\"],[\"Serendipity\"],[\"The Big Red One\"],[\"Coal Miner's Daughter\"],[\"Corky Romano\"],[\"Mulholland Drive\"],[\"Bones\"],[\"Dirty Harry\"],[\"Fiddler on the Roof\"],[\"Donnie Darko\"],[\"Tape\"],[\"The Wash\"],[\"Novocaine\"],[\"Out Cold\"],[\"The Devil's Backbone\"],[\"Funny Girl\"],[\"Subway\"],[\"The Last Wave\"],[\"Dressed to Kill\"],[\"Flash Gordon\"],[\"The Enforcer\"],[\"The Gauntlet\"],[\"Lone Wolf McQuade\"],[\"Sudden Impact\"],[\"Am\\u00e9lie\"],[\"Not Another Teen Movie\"],[\"The Royal Tenenbaums\"],[\"Sheena\"],[\"Silent Rage\"],[\"Spacehunter: Adventures in the Forbidden Zone\"],[\"How High\"],[\"Jimmy Neutron: Boy Genius\"],[\"Witness for the Prosecution\"],[\"Yentl\"],[\"Gosford Park\"],[\"I Am Sam\"],[\"Monster's Ball\"],[\"Silent Trigger\"],[\"Brotherhood of the Wolf\"],[\"Dragonslayer\"],[\"Conan the Destroyer\"],[\"Fire and Ice\"],[\"Galaxina\"],[\"48 Hrs.\"],[\"Brainstorm\"],[\"Dragon: The Bruce Lee Story\"],[\"M*A*S*H\"],[\"One-Eyed Jacks\"],[\"The Mothman Prophecies\"],[\"A Walk to Remember\"],[\"American Adobo\"],[\"Metropolis\"],[\"Cousins\"],[\"Slackers\"],[\"Honky Tonk Freeway\"],[\"Big Fat Liar\"],[\"The Man Who Loved Women\"],[\"Crossroads\"],[\"Return to Never Land\"],[\"Super Troopers\"],[\"The Good Son\"],[\"Used Cars\"],[\"The Bad News Bears\"],[\"A Troll in Central Park\"],[\"Scarlet Street\"],[\"All About the Benjamins\"],[\"Full Frontal\"],[\"The Long Riders\"],[\"Kissing Jessica Stein\"],[\"Y Tu Mam\\u00e1 Tambi\\u00e9n\"],[\"Split Second\"],[\"Taps\"],[\"Clockstoppers\"],[\"The Rookie\"],[\"The Piano Teacher\"],[\"National Lampoon\\u2019s Van Wilder\"],[\"Rashomon\"],[\"Frailty\"],[\"The Cat's Meow\"],[\"Human Nature\"],[\"Breakout\"],[\"Jason X\"],[\"Salton Sea\"],[\"Vulgar\"],[\"Delirious\"],[\"Joe\"],[\"Thief of Hearts\"],[\"Rambling Rose\"],[\"White Fang\"],[\"My Beautiful Laundrette\"],[\"The Believer\"],[\"Every Which Way But Loose\"],[\"Undercover Brother\"],[\"Rapid Fire\"],[\"Atanarjuat: The Fast Runner\"],[\"Hombre\"],[\"The Manhattan Project\"],[\"She Wore a Yellow Ribbon\"],[\"Lovely & Amazing\"],[\"The Powerpuff Girls Movie\"],[\"Perfect\"],[\"The Legend of Boggy Creek\"],[\"Halloween: Resurrection\"],[\"The Kid Stays in the Picture\"],[\"Happy Times\"],[\"Tadpole\"],[\"Top Secret!\"],[\"The Good Girl\"],[\"Martin Lawrence Live: Runteldat\"],[\"Blue Crush\"],[\"The Isle\"],[\"Possession\"],[\"One Hour Photo\"],[\"Serving Sara\"],[\"Undisputed\"],[\"Clash of the Titans\"],[\"Camilla\"],[\"Down and Out in Beverly Hills\"],[\"Love Me Tender\"],[\"Wolfen\"],[\"Swimfan\"],[\"Barbershop\"],[\"The Transporter\"],[\"Igby Goes Down\"],[\"Captain Ron\"],[\"The Hills Have Eyes\"],[\"Spaced Invaders\"],[\"The Four Feathers\"],[\"Trapped\"],[\"Secretary\"],[\"Moonlight Mile\"],[\"Powaqqatsi\"],[\"Valmont\"],[\"Claire of the Moon\"],[\"Brown Sugar\"],[\"Knockaround Guys\"],[\"Tuck Everlasting\"],[\"Bowling for Columbine\"],[\"Punch-Drunk Love\"],[\"Swept Away\"],[\"Abandon\"],[\"The 51st State\"],[\"Auto Focus\"],[\"Naqoyqatsi\"],[\"Jason Goes to Hell: The Final Friday\"],[\"Saturday Night Fever\"],[\"Staying Alive\"],[\"When Time Ran Out...\"],[\"Xanadu\"],[\"Absence of Malice\"],[\"The Amateur\"],[\"Blow Out\"],[\"Dead & Buried\"],[\"Gallipoli\"],[\"Goodbye Pork Pie\"],[\"The Hand\"],[\"Heartbeeps\"],[\"The Legend of the Lone Ranger\"],[\"Neighbors\"],[\"Pennies from Heaven\"],[\"Private Lessons\"],[\"Jackass: The Movie\"],[\"All The Queen's Men\"],[\"Frida\"],[\"Casino Royale\"],[\"Exodus\"],[\"The Weight of Water\"],[\"Femme Fatale\"],[\"Far from Heaven\"],[\"Men with Brooms\"],[\"Return to the Blue Lagoon\"],[\"Roadgames\"],[\"Scanners\"],[\"Sphinx\"],[\"This Is Elvis\"],[\"Friday After Next\"],[\"The Quiet American\"],[\"Talk to Her\"],[\"The Sword and the Sorcerer\"],[\"Zulu\"],[\"Empire\"],[\"Adaptation.\"],[\"Equilibrium\"],[\"Escape to Victory\"],[\"Alone in the Dark\"],[\"Come Back to the 5 & Dime, Jimmy Dean, Jimmy Dean\"],[\"Drumline\"],[\"25th Hour\"],[\"Antwone Fisher\"],[\"Narc\"],[\"Body of Evidence\"],[\"Legend of the Lost\"],[\"Running Time\"],[\"War and Peace\"],[\"The Hours\"],[\"Confessions of a Dangerous Mind\"],[\"Just Married\"],[\"A Guy Thing\"],[\"City of God\"],[\"Band of Outsiders\"],[\"Biker Boyz\"],[\"Final Destination 2\"],[\"May\"],[\"Firefox\"],[\"The Jungle Book 2\"],[\"10 to Midnight\"],[\"The Black Stallion\"],[\"A Countess from Hong Kong\"],[\"A Patch of Blue\"],[\"A Prayer for the Dying\"],[\"Dark Blue\"],[\"Old School\"],[\"Cradle 2 the Grave\"],[\"Bringing Down the House\"],[\"Bend It Like Beckham\"],[\"King of Kings\"],[\"Ringu\"],[\"Ringu 2\"],[\"Sweet Charity\"],[\"Boat Trip\"],[\"The Robe\"],[\"Wind\"],[\"Raising Victor Vargas\"],[\"Phone Booth\"],[\"Levity\"],[\"Ghosts of the Abyss\"],[\"House of 1000 Corpses\"],[\"A Mighty Wind\"],[\"Winged Migration\"],[\"Straw Dogs\"],[\"The Andromeda Strain\"],[\"The Other Side of Heaven\"],[\"The Wiz\"],[\"The Marrying Man\"],[\"Scenes from a Mall\"],[\"Identity\"],[\"House of Fools\"],[\"The Lizzie McGuire Movie\"],[\"Blue Car\"],[\"Down with Love\"],[\"The Spanish Apartment\"],[\"Wrong Turn\"],[\"Whale Rider\"],[\"Oscar\"],[\"Barton Fink\"],[\"Shattered\"],[\"Dumb and Dumberer: When Harry Met Lloyd\"],[\"From Justin to Kelly\"],[\"Alex & Emma\"],[\"28 Days Later\"],[\"Bodies, Rest & Motion\"],[\"Never on Sunday\"],[\"Scaramouche\"],[\"Swimming Pool\"],[\"Loose Cannons\"],[\"Mondays in the Sun\"],[\"One, Two, Three\"],[\"The Private Life of Sherlock Holmes\"],[\"Freaky Friday\"],[\"Open Range\"],[\"Uptown Girls\"],[\"Agent Cody Banks\"],[\"House of Wax\"],[\"Man's Best Friend\"],[\"Valley Girl\"],[\"Wait Until Dark\"],[\"Showdown in Little Tokyo\"],[\"THX 1138\"],[\"Valley of the Dolls\"],[\"The Keep\"],[\"The Beast from 20,000 Fathoms\"],[\"Tremors\"],[\"The Pink Panther Strikes Again\"],[\"Commando\"],[\"Marci X\"],[\"Jeepers Creepers 2\"],[\"The Order\"],[\"Party Monster\"],[\"Cabin Fever\"],[\"Once Upon a Time in Mexico\"],[\"Lost in Translation\"],[\"Convoy\"],[\"Day of the Dead\"],[\"Hello, Dolly!\"],[\"The Rose\"],[\"Once Bitten\"],[\"The Fighting Temptations\"],[\"Underworld\"],[\"Under the Tuscan Sun\"],[\"Mambo Italiano\"],[\"The Triplets of Belleville\"],[\"Videodrome\"],[\"Lagaan: Once Upon a Time in India\"],[\"Judgment at Nuremberg\"],[\"Same Time, Next Year\"],[\"All the President's Men\"],[\"Avalon\"],[\"Beethoven's 2nd\"],[\"Boyz n the Hood\"],[\"Bugsy\"],[\"Consenting Adults\"],[\"Where Eagles Dare\"],[\"Sleeping with the Enemy\"],[\"PCU\"],[\"The Rookie\"],[\"City Heat\"],[\"Into the Night\"],[\"A Rage in Harlem\"],[\"More American Graffiti\"],[\"The Gun in Betty Lou's Handbag\"],[\"Article 99\"],[\"Tough Guys Don't Dance\"],[\"There Goes My Baby\"],[\"Kingdom of the Spiders\"],[\"In Cold Blood\"],[\"Mobsters\"],[\"The Station Agent\"],[\"Wonderland\"],[\"House of the Dead\"],[\"The Texas Chainsaw Massacre\"],[\"Sylvia\"],[\"Veronica Guerin\"],[\"In the Cut\"],[\"Radio\"],[\"Elephant\"],[\"Shattered Glass\"],[\"Tupac: Resurrection\"],[\"21 Grams\"],[\"The Barbarian Invasions\"],[\"Bad Santa\"],[\"Darkman\"],[\"New Jack City\"],[\"WarGames\"],[\"Ben-Hur: A Tale of the Christ\"],[\"Hannah and Her Sisters\"],[\"Highlander II: The Quickening\"],[\"Invasion of the Body Snatchers\"],[\"Kindergarten Cop\"],[\"The Last Boy Scout\"],[\"Last Tango in Paris\"],[\"Mr. Destiny\"],[\"Over the Top\"],[\"Passenger 57\"],[\"Project X\"],[\"Pure Luck\"],[\"Battle Royale\"],[\"The Wedding Banquet\"],[\"Radio Flyer\"],[\"The Secret of My Success\"],[\"Streets of Fire\"],[\"Vivre Sa Vie\"],[\"Wild at Heart\"],[\"Year of the Dragon\"],[\"Mary of Scotland\"],[\"Swing Time\"],[\"Birdman of Alcatraz\"],[\"The Birth of a Nation\"],[\"Red River\"],[\"Stagecoach\"],[\"Bullitt\"],[\"42nd Street\"],[\"I'm No Angel\"],[\"A Passage to India\"],[\"Anna Karenina\"],[\"Nausica\\u00e4 of the Valley of the Wind\"],[\"Dragnet\"],[\"1941\"],[\"Leprechaun\"],[\"Run\"],[\"Honey\"],[\"Calendar Girls\"],[\"House of Sand and Fog\"],[\"Monster\"],[\"The Company\"],[\"Chasing Liberty\"],[\"The Great Gatsby\"],[\"Car 54, Where Are You?\"],[\"Only the Strong\"],[\"The Pick-up Artist\"],[\"Cool World\"],[\"Money for Nothing\"],[\"The Butterfly Effect\"],[\"Win a Date with Tad Hamilton!\"],[\"Latter Days\"],[\"Barbershop 2:  Back in Business\"],[\"Catch That Kid\"],[\"Miracle\"],[\"The Dreamers\"],[\"Let's Do It Again\"],[\"Thirteen\"],[\"Foolish Wives\"],[\"Best Defense\"],[\"Welcome to Mooseport\"],[\"Vanishing Point\"],[\"The Thief of Bagdad\"],[\"King Solomon's Mines\"],[\"Raw Deal\"],[\"Confessions of a Teenage Drama Queen\"],[\"EuroTrip\"],[\"Club Dread\"],[\"Dirty Dancing: Havana Nights\"],[\"Good bye, Lenin!\"],[\"Agent Cody Banks 2: Destination London\"],[\"The Girl Next Door\"],[\"Spartan\"],[\"Clifford\"],[\"The Wind in the Willows\"],[\"Dawn of the Dead\"],[\"Eternal Sunshine of the Spotless Mind\"],[\"Intermission\"],[\"Jersey Girl\"],[\"Never Die Alone\"],[\"Dogville\"],[\"Johnson Family Vacation\"],[\"Ella Enchanted\"],[\"The Ten Commandments\"],[\"Dawn of the Dead\"],[\"Those Magnificent Men in Their Flying Machines or How I Flew from London to Paris in 25 hours 11 minutes\"],[\"After Hours\"],[\"Connie and Carla\"],[\"The Punisher\"],[\"Young Adam\"],[\"Godsend\"],[\"Laws of Attraction\"],[\"Mean Girls\"],[\"Mickey\"],[\"The Mudge Boy\"],[\"Enter the Dragon\"],[\"You Only Live Twice\"],[\"Desert Hearts\"],[\"Body Double\"],[\"The Miracle Worker\"],[\"Raising Cain\"],[\"Noises Off...\"],[\"The China Syndrome\"],[\"Cat People\"],[\"Good Guys Wear Black\"],[\"Forever Fever\"],[\"Explorers\"],[\"The Warriors\"],[\"Waterloo\"],[\"Woodstock\"],[\"Pat Garrett & Billy the Kid\"],[\"The Ballad of Cable Hogue\"],[\"The Indian Runner\"],[\"The Night of the Iguana\"],[\"Nightbreed\"],[\"Ken Park\"],[\"A Bridge Too Far\"],[\"Broadway Danny Rose\"],[\"From Beyond\"],[\"Space Truckers\"],[\"Not of This Earth\"],[\"Death Race 2000\"],[\"The Getaway\"],[\"Mean Streets\"],[\"Harper\"],[\"Dahmer\"],[\"Paradise\"],[\"Bad Day at Black Rock\"],[\"Charly\"],[\"Beyond the Valley of the Dolls\"],[\"At Play in the Fields of the Lord\"],[\"Night of the Living Dead\"],[\"Queen Christina\"],[\"Purple Rain\"],[\"The Cowboys\"],[\"The Caine Mutiny\"],[\"Escape from Alcatraz\"],[\"Soul Plane\"],[\"The Mother\"],[\"Mindhunters\"],[\"Napoleon Dynamite\"],[\"City of Joy\"],[\"The Doctor\"],[\"For Me and My Gal\"],[\"Star!\"],[\"The Molly Maguires\"],[\"Meet the Applegates\"],[\"Sands of Iwo Jima\"],[\"Super Size Me\"],[\"The Born Losers\"],[\"The Hitcher\"],[\"Show Boat\"],[\"DodgeBall: A True Underdog Story\"],[\"Bob & Carol & Ted & Alice\"],[\"Rapa Nui\"],[\"Juice\"],[\"Taxi 3\"],[\"Overboard\"],[\"Fahrenheit 9/11\"],[\"Search and Destroy\"],[\"Hard Times\"],[\"The Last Starfighter\"],[\"Before Sunset\"],[\"Anchorman: The Legend of Ron Burgundy\"],[\"A Cinderella Story\"],[\"How the West Was Won\"],[\"A Home at the End of the World\"],[\"Stay Hungry\"],[\"Shalako\"],[\"The New Adventures of Pippi Longstocking\"],[\"The Super\"],[\"A Woman Is a Woman\"],[\"Garden State\"],[\"Little Black Book\"],[\"Harold & Kumar Go to White Castle\"],[\"Yu-Gi-Oh! The Movie\"],[\"We Don't Live Here Anymore\"],[\"Without a Paddle\"],[\"Anacondas: The Hunt for the Blood Orchid\"],[\"Suspect Zero\"],[\"Vanity Fair\"],[\"The Cookout\"],[\"Paparazzi\"],[\"Wicker Park\"],[\"Night of the Demons\"],[\"Cellular\"],[\"Mr. 3000\"],[\"Wimbledon\"],[\"A Dirty Shame\"],[\"Shaun of the Dead\"],[\"Alexander's Ragtime Band\"],[\"Orca: The Killer Whale\"],[\"Raise Your Voice\"],[\"Taxi\"],[\"Primer\"],[\"Team America: World Police\"],[\"Cannonball\"],[\"Friday Night Lights\"],[\"Tarnation\"],[\"The Grudge\"],[\"Sideways\"],[\"The Machinist\"],[\"Saw\"],[\"Seed of Chucky\"],[\"Finding Neverland\"],[\"Veer-Zaara\"],[\"Bad Education\"],[\"Closer\"],[\"The Bellboy\"],[\"Cinderfella\"],[\"Stateside\"],[\"Fire in the Sky\"],[\"The Cheat\"],[\"The Big Parade\"],[\"She Done Him Wrong\"],[\"The Informer\"],[\"Boom Town\"],[\"A Guy Named Joe\"],[\"3 Godfathers\"],[\"Fort Apache\"],[\"The Pirate\"],[\"Annie Get Your Gun\"],[\"The Nun's Story\"],[\"Eegah\"],[\"Mutiny on the Bounty\"],[\"The Battle of Algiers\"],[\"Dracula: Prince of Darkness\"],[\"Major Dundee\"],[\"The Train\"],[\"The Bride Wore Black\"],[\"Point Blank\"],[\"Zabriskie Point\"],[\"Sweet Sweetback's Baadasssss Song\"],[\"Farewell, My Lovely\"],[\"Silver Streak\"],[\"High Anxiety\"],[\"Sorcerer\"],[\"The In-Laws\"],[\"Peter-No-Tail\"],[\"Blue Thunder\"],[\"Rumble Fish\"],[\"Twilight Zone: The Movie\"],[\"Racing with the Moon\"],[\"Bliss\"],[\"Mishima: A Life in Four Chapters\"],[\"Club Paradise\"],[\"Solarbabies\"],[\"Prince of Darkness\"],[\"Prison\"],[\"Kiki's Delivery Service\"],[\"Cry-Baby\"],[\"Frankenhooker\"],[\"Hard to Kill\"],[\"Lionheart\"],[\"Closet Land\"],[\"Dutch\"],[\"Mannequin Two: On the Move\"],[\"Out for Justice\"],[\"Diggstown\"],[\"Fortress\"],[\"Josh and S.A.M.\"],[\"Philadelphia Experiment II\"],[\"Beowulf\"],[\"A Place Called Chiapas\"],[\"Dil Se..\"],[\"Kuch Kuch Hota Hai\"],[\"2046\"],[\"The Accidental Spy\"],[\"Dil Chahta Hai\"],[\"Sympathy for Mr. Vengeance\"],[\"In My Country\"],[\"The Twilight Samurai\"],[\"Foolproof\"],[\"Oldboy\"],[\"The Jacket\"],[\"The Sea Inside\"],[\"Open Water\"],[\"Layer Cake\"],[\"Mean Creek\"],[\"The Visual Bible: The Gospel of John\"],[\"Bummer\"],[\"She Hate Me\"],[\"Born into Brothels\"],[\"Riding Giants\"],[\"A Scanner Darkly\"],[\"Casshern\"],[\"Hotel Rwanda\"],[\"White Noise\"],[\"Testament\"],[\"Hell's Angels\"],[\"Man Trouble\"],[\"Sergeant York\"],[\"Wizards\"],[\"Appleseed\"],[\"Coach Carter\"],[\"A Star Is Born\"],[\"Beastmaster 2: Through the Portal of Time\"],[\"The Chase\"],[\"Downfall\"],[\"Assault on Precinct 13\"],[\"Alone in the Dark\"],[\"Hide and Seek\"],[\"Boogeyman\"],[\"The Wedding Date\"],[\"Double Dragon\"],[\"Assisted Living\"],[\"Inside Deep Throat\"],[\"Because of Winn-Dixie\"],[\"Night Watch\"],[\"Samson and Delilah\"],[\"Kung Fu Hustle\"],[\"Cursed\"],[\"Bopha!\"],[\"Once Upon a Forest\"],[\"The Green Berets\"],[\"Ice Princess\"],[\"Woman Thou Art Loosed\"],[\"Walker\"],[\"The Ballad of Jack and Rose\"],[\"Beauty Shop\"],[\"Fever Pitch\"],[\"Rhinestone\"],[\"Hawaii\"],[\"Wilson\"],[\"The Amityville Horror\"],[\"Before the Fall\"],[\"The Frisco Kid\"],[\"A Lot Like Love\"],[\"Crash\"],[\"San Francisco\"],[\"9 Songs\"],[\"Airborne\"],[\"Dominion: Prequel to the Exorcist\"],[\"Most Wanted\"],[\"The Sisterhood of the Traveling Pants\"],[\"Lords of Dogtown\"],[\"It's All Gone Pete Tong\"],[\"Quo Vadis\"],[\"Land of the Dead\"],[\"Somebody Up There Likes Me\"],[\"An Unmarried Woman\"],[\"March of the Penguins\"],[\"Dark Water\"],[\"Murderball\"],[\"Russian Dolls\"],[\"Hustle & Flow\"],[\"Hardware\"],[\"Bad News Bears\"],[\"Must Love Dogs\"],[\"Broken Flowers\"],[\"The Heart is Deceitful Above All Things\"],[\"Man-Thing\"],[\"Deuce Bigalow: European Gigolo\"],[\"The 40 Year Old Virgin\"],[\"Red Eye\"],[\"Dilwale Dulhania Le Jayenge\"],[\"Valiant\"],[\"The Cave\"],[\"Undiscovered\"],[\"The Constant Gardener\"],[\"Proof\"],[\"Cry_Wolf\"],[\"Everything is Illuminated\"],[\"Waiting...\"],[\"An Unfinished Life\"],[\"The Exorcism of Emily Rose\"],[\"A History of Violence\"],[\"The Greatest Game Ever Played\"],[\"Capote\"],[\"Mirrormask\"],[\"Kiss Kiss Bang Bang\"],[\"Goal!: The Dream Begins\"],[\"The Wraith\"],[\"55 Days at Peking\"],[\"The Squid and the Whale\"],[\"Two for the Money\"],[\"Brokeback Mountain\"],[\"North Country\"],[\"Good Night, and Good Luck.\"],[\"The Proposition\"],[\"The Fog\"],[\"Shopgirl\"],[\"The Weather Man\"],[\"Saw II\"],[\"Empire of the Wolves\"],[\"Manderlay\"],[\"Damnation Alley\"],[\"Joyeux No\\u00ebl\"],[\"Derailed\"],[\"Wolf Creek\"],[\"Bee Season\"],[\"Match Point\"],[\"Down\"],[\"The Matador\"],[\"Mozart and the Whale\"],[\"The Three Burials of Melquiades Estrada\"],[\"Transamerica\"],[\"Keeping Mum\"],[\"The New World\"],[\"District B13\"],[\"BloodRayne\"],[\"Hostel\"],[\"Tristan & Isolde\"],[\"Hoodwinked!\"],[\"Riding Alone for Thousands of Miles\"],[\"Revolution\"],[\"Bandidas\"],[\"Annapolis\"],[\"Nanny McPhee\"],[\"Final Destination 3\"],[\"Dave Chappelle's Block Party\"],[\"Troll\"],[\"When a Stranger Calls\"],[\"Tamara\"],[\"Freedomland\"],[\"Winter Passing\"],[\"Date Movie\"],[\"Running Scared\"],[\"Madea's Family Reunion\"],[\"Ultraviolet\"],[\"Just My Luck\"],[\"She's the Man\"],[\"Thank You for Smoking\"],[\"Find Me Guilty\"],[\"Tsotsi\"],[\"Aquamarine\"],[\"Leprechaun 2\"],[\"Lights in the Dusk\"],[\"The Hills Have Eyes\"],[\"Son of the Pink Panther\"],[\"The Lives of Others\"],[\"Take the Lead\"],[\"Lucky Number Slevin\"],[\"Volver\"],[\"Akeelah and the Bee\"],[\"Stay Alive\"],[\"Brick\"],[\"ATL\"],[\"Renaissance\"],[\"Friends with Money\"],[\"Hard Candy\"],[\"Pinocchio and the Emperor of the Night\"],[\"Battle in Heaven\"],[\"American Dreamz\"],[\"Mata Hari\"],[\"The Protector\"],[\"United 93\"],[\"Down in the Valley\"],[\"Twelve and Holding\"],[\"The Lost City\"],[\"Standing Still\"],[\"The Omen\"],[\"Clerks II\"],[\"Who Killed the Electric Car?\"],[\"An Inconvenient Truth\"],[\"Little Miss Sunshine\"],[\"Curse of the Pink Panther\"],[\"Babel\"],[\"Prophecy\"],[\"Snakes on a Plane\"],[\"Scoop\"],[\"Stranger Than Fiction\"],[\"The Valley of Decision\"],[\"John Tucker Must Die\"],[\"Mrs Palfrey at The Claremont\"],[\"Crank\"],[\"Chaos\"],[\"Step Up\"],[\"Zoom\"],[\"Bon Cop Bad Cop\"],[\"Half Nelson\"],[\"Tideland\"],[\"Cabin in the Sky\"],[\"Accepted\"],[\"The Queen\"],[\"Beerfest\"],[\"Crossover\"],[\"The Quiet\"],[\"The Wind That Shakes the Barley\"],[\"The Covenant\"],[\"Sherrybaby\"],[\"Idiocracy\"],[\"The Fountain\"],[\"The Science of Sleep\"],[\"Initial D\"],[\"Gridiron Gang\"],[\"Vixen!\"],[\"Jackass Number Two\"],[\"Conversations with Other Women\"],[\"Pan's Labyrinth\"],[\"School for Scoundrels\"],[\"Employee of the Month\"],[\"Running with Scissors\"],[\"The Grudge 2\"],[\"Man of the Year\"],[\"The Marine\"],[\"Infamous\"],[\"One Night with the King\"],[\"Little Children\"],[\"F.I.S.T.\"],[\"Facing the Giants\"],[\"The Last King of Scotland\"],[\"Shortbus\"],[\"Flicka\"],[\"9th Company\"],[\"Saw III\"],[\"Death of a President\"],[\"The Charge of the Light Brigade\"],[\"The Santa Clause 3: The Escape Clause\"],[\"A Good Year\"],[\"The Return\"],[\"For Your Consideration\"],[\"Let's Go to Prison\"],[\"Snow Cake\"],[\"Harsh Times\"],[\"Tenacious D in The Pick of Destiny\"],[\"Fur: An Imaginary Portrait of Diane Arbus\"],[\"Another Gay Movie\"],[\"Freedom Writers\"],[\"The History Boys\"],[\"Notes on a Scandal\"],[\"DOA: Dead or Alive\"],[\"The Good German\"],[\"Letters from Iwo Jima\"],[\"Black Christmas\"],[\"Code Name: The Cleaner\"],[\"Stomp the Yard\"],[\"Miss Potter\"],[\"The Hitcher\"],[\"Killer of Sheep\"],[\"Waitress\"],[\"Catch and Release\"],[\"Smokin' Aces\"],[\"Epic Movie\"],[\"The Messengers\"],[\"Paris, je t'aime\"],[\"The Astronaut Farmer\"],[\"It's a Boy Girl Thing\"],[\"Myra Breckinridge\"],[\"Days of Glory\"],[\"Unknown\"],[\"Trailer Park Boys: The Movie\"],[\"Daddy's Little Girls\"],[\"The Number 23\"],[\"Reno 911!: Miami\"],[\"Black Snake Moan\"],[\"Kidulthood\"],[\"Hot Fuzz\"],[\"Romanzo criminale\"],[\"Wise Guys\"],[\"Zyzzyx Road\"],[\"Starter for 10\"],[\"The Host\"],[\"Becoming Jane\"],[\"The Namesake\"],[\"I Think I Love My Wife\"],[\"Premonition\"],[\"Dead Silence\"],[\"Reign Over Me\"],[\"Black Book\"],[\"The Lookout\"],[\"Seraphim Falls\"],[\"The Hoax\"],[\"Disturbia\"],[\"Slow Burn\"],[\"The Contract\"],[\"Vacancy\"],[\"In the Land of Women\"],[\"The Invisible\"],[\"Tales from Earthsea\"],[\"The Rocket: The Legend of Rocket Richard\"],[\"Day Watch\"],[\"This Is England\"],[\"28 Weeks Later\"],[\"Once\"],[\"Bug\"],[\"Mr. Brooks\"],[\"Gracie\"],[\"88 Minutes\"],[\"Ten Canoes\"],[\"Alone With Her\"],[\"Hostel: Part II\"],[\"Fido\"],[\"Death Proof\"],[\"Robot Monster\"],[\"Rescue Dawn\"],[\"The TV Set\"],[\"Swoon\"],[\"Sicko\"],[\"Popular Music\"],[\"A Mighty Heart\"],[\"1408\"],[\"Death at a Funeral\"],[\"Captivity\"],[\"I Know Who Killed Me\"],[\"No Reservations\"],[\"You Kill Me\"],[\"Superbad\"],[\"Sydney White\"],[\"Daddy Day Camp\"],[\"War\"],[\"The Nanny Diaries\"],[\"Halloween\"],[\"Death Sentence\"],[\"The Good Night\"],[\"4 Months, 3 Weeks and 2 Days\"],[\"No End in Sight\"],[\"In the Valley of Elah\"],[\"Rang De Basanti\"],[\"I Could Never Be Your Woman\"],[\"December Boys\"],[\"Brooklyn Rules\"],[\"The Death and Life of Bobby Z\"],[\"Good Luck Chuck\"],[\"Into the Wild\"],[\"The Game Plan\"],[\"Dan in Real Life\"],[\"The Darjeeling Limited\"],[\"We Own the Night\"],[\"Michael Clayton\"],[\"Lars and the Real Girl\"],[\"30 Days of Night\"],[\"Rendition\"],[\"Things We Lost in the Fire\"],[\"Gone Baby Gone\"],[\"The Assassination of Jesse James by the Coward Robert Ford\"],[\"10th & Wolf\"],[\"The Edge of Heaven\"],[\"Why Did I Get Married?\"],[\"Saw IV\"],[\"Before the Devil Knows You're Dead\"],[\"The Diving Bell and the Butterfly\"],[\"Itty Bitty Titty Committee\"],[\"August Rush\"],[\"No Mercy for the Rude\"],[\"Southland Tales\"],[\"12\"],[\"The Mist\"],[\"Hitman\"],[\"P2\"],[\"Om Shanti Om\"],[\"I'm Not There.\"],[\"Juno\"],[\"My Blueberry Nights\"],[\"Redacted\"],[\"The Treatment\"],[\"Journey from the Fall\"],[\"The Kite Runner\"],[\"There Will Be Blood\"],[\"Walk Hard: The Dewey Cox Story\"],[\"The Great Debaters\"],[\"Taare Zameen Par\"],[\"[REC]\"],[\"Flawless\"],[\"Untraceable\"],[\"Meet the Spartans\"],[\"The Eye\"],[\"The Signal\"],[\"In Bruges\"],[\"Bamako\"],[\"Dark Angel\"],[\"Welcome Home Roscoe Jenkins\"],[\"U2 3D\"],[\"Step Up 2: The Streets\"],[\"Jodhaa Akbar\"],[\"Run, Fatboy, Run\"],[\"Taxi to the Dark Side\"],[\"The Bank Job\"],[\"Doomsday\"],[\"Funny Games\"],[\"Mongol: The Rise of Genghis Khan\"],[\"Diary of the Dead\"],[\"Hallam Foe\"],[\"Justice League: The New Frontier\"],[\"What Just Happened\"],[\"Return of the Living Dead 3\"],[\"Quiet City\"],[\"Never Back Down\"],[\"Alatriste\"],[\"Joysticks\"],[\"Smart People\"],[\"Assembly\"],[\"Stop-Loss\"],[\"Julia\"],[\"Superhero Movie\"],[\"Street Kings\"],[\"Harold & Kumar Escape from Guantanamo Bay\"],[\"Virgin Territory\"],[\"Son of Rambow\"],[\"Deception\"],[\"Baby Mama\"],[\"Expelled: No Intelligence Allowed\"],[\"The Bread, My Sweet\"],[\"Stargate: The Ark of Truth\"],[\"Meet Bill\"],[\"War, Inc.\"],[\"The Strangers\"],[\"My Brother Is an Only Child\"],[\"Doctor Who\"],[\"Boy Culture\"],[\"West of Zanzibar\"],[\"The Unholy Three\"],[\"The Wackness\"],[\"Welcome to the Sticks\"],[\"Katyn\"],[\"Death Defying Acts\"],[\"Death Note\"],[\"Transsiberian\"],[\"Brideshead Revisited\"],[\"The X Files: I Want to Believe\"],[\"The Tracey Fragments\"],[\"Swing Vote\"],[\"The Midnight Meat Train\"],[\"Bottle Shock\"],[\"Vicky Cristina Barcelona\"],[\"Pineapple Express\"],[\"The Sisterhood of the Traveling Pants 2\"],[\"Elegy\"],[\"Star Wars: The Clone Wars\"],[\"Mutant Chronicles\"],[\"Waltz with Bashir\"],[\"Let the Right One In\"],[\"The House Bunny\"],[\"The Rocker\"],[\"Sukiyaki Western Django\"],[\"Disaster Movie\"],[\"Traitor\"],[\"College\"],[\"The Women\"],[\"The Mother of Tears\"],[\"The Foot Fist Way\"],[\"Lakeview Terrace\"],[\"To Rob a Thief\"],[\"Appaloosa\"],[\"How to Lose Friends & Alienate People\"],[\"Nick and Norah's Infinite Playlist\"],[\"The Tulse Luper Suitcases, Part 1: The Moab Story\"],[\"20,000 Leagues Under the Sea\"],[\"Zack and Miri Make a Porno\"],[\"W.\"],[\"My Best Friend's Girl\"],[\"The Secret Life of Bees\"],[\"An American Carol\"],[\"The Wave\"],[\"Quarantine\"],[\"Pride and Glory\"],[\"RockNRolla\"],[\"Admiral\"],[\"Blindness\"],[\"The Road\"],[\"Role Models\"],[\"JCVD\"],[\"Saw V\"],[\"Sex Drive\"],[\"While She Was Out\"],[\"Beverly Hills Chihuahua\"],[\"Milk\"],[\"The Boy in the Striped Pyjamas\"],[\"Surveillance\"],[\"Fireproof\"],[\"Igor\"],[\"Punisher: War Zone\"],[\"Doubt\"],[\"The Wrestler\"],[\"Choke\"],[\"Surfer, Dude\"],[\"Nobel Son\"],[\"Wild Child\"],[\"Defiance\"],[\"Ip Man\"],[\"Passengers\"],[\"My Bloody Valentine\"],[\"Battle in Seattle\"],[\"Timecrimes\"],[\"The Lazarus Project\"],[\"The Unborn\"],[\"Go Go Tales\"],[\"The Grudge 3\"],[\"Two Lovers\"],[\"My Name Is Bruce\"],[\"Away We Go\"],[\"Il Divo\"],[\"Paris\"],[\"Friday the 13th\"],[\"Rock-A-Doodle\"],[\"Dr. Horrible's Sing-Along Blog\"],[\"Ong Bak 2\"],[\"The Girl with the Dragon Tattoo\"],[\"Sunshine Cleaning\"],[\"Nothing But the Truth\"],[\"Star of Midnight\"],[\"Adventureland\"],[\"17 Again\"],[\"Crank: High Voltage\"],[\"Moon\"],[\"The Young Victoria\"],[\"The Informers\"],[\"The Girlfriend Experience\"],[\"S. Darko\"],[\"Earth\"],[\"Crossing Over\"],[\"The Brothers Bloom\"],[\"The Last House on the Left\"],[\"Drag Me to Hell\"],[\"Fired Up!\"],[\"Antichrist\"],[\"Billu\"],[\"Special\"],[\"New in Town\"],[\"Dead Snow\"],[\"Dillinger\"],[\"The Hurt Locker\"],[\"Whatever Works\"],[\"Night Of The Living Dead 3D\"],[\"Hood of Horror\"],[\"Kandukondain Kandukondain\"],[\"(500) Days of Summer\"],[\"The Inhabited Island\"],[\"The Fast and the Furious\"],[\"The Imaginarium of Doctor Parnassus\"],[\"Cheri\"],[\"Orphan\"],[\"The Collector\"],[\"A Perfect Getaway\"],[\"Obsessed\"],[\"12 Rounds\"],[\"Silent Night, Deadly Night II\"],[\"Bandslam\"],[\"I Love You, Beth Cooper\"],[\"Paper Heart\"],[\"Tetro\"],[\"Bronson\"],[\"The Secret of Moonacre\"],[\"Post Grad\"],[\"My Life in Ruins\"],[\"Halloween II\"],[\"Five Graves to Cairo\"],[\"Videocracy\"],[\"The Secret in Their Eyes\"],[\"9\"],[\"Pandorum\"],[\"The Men Who Stare at Goats\"],[\"Jennifer's Body\"],[\"The Informant!\"],[\"Extract\"],[\"Attack of the 50 Foot Woman\"],[\"Battle for Terra\"],[\"Love Happens\"],[\"Bright Star\"],[\"Paranormal Activity\"],[\"World's Greatest Dad\"],[\"Capitalism: A Love Story\"],[\"Wanted\"],[\"A Serious Man\"],[\"City Island\"],[\"Whip It\"],[\"The Invention of Lying\"],[\"Zombieland\"],[\"Assassination of a High School President\"],[\"Sorority Row\"],[\"An Education\"],[\"Capone\"],[\"All About Steve\"],[\"Jab We Met\"],[\"New York, I Love You\"],[\"Mary and Max\"],[\"Saw VI\"],[\"The Boondock Saints II: All Saints Day\"],[\"Black Dynamite\"],[\"Big Fan\"],[\"Welcome to Dongmakgol\"],[\"Top Dog\"],[\"The Pebble and the Penguin\"],[\"Goemon\"],[\"The Box\"],[\"Sunday\"],[\"The Fourth Kind\"],[\"Precious\"],[\"The Bad Lieutenant: Port of Call - New Orleans\"],[\"The Messenger\"],[\"Police, Adjective\"],[\"Cell 211\"],[\"Brothers\"],[\"Sleep Dealer\"],[\"Me and Orson Welles\"],[\"Morphine\"],[\"Armored\"],[\"Invaders from Mars\"],[\"Nasty Old People\"],[\"Crazy Heart\"],[\"Guru\"],[\"Beyond a Reasonable Doubt\"],[\"Trapeze\"],[\"Pontypool\"],[\"The Matriarch\"],[\"Daybreakers\"],[\"Hachi: A Dog's Tale\"],[\"Leap Year\"],[\"The Girl Who Kicked the Hornet's Nest\"],[\"Horsemen\"],[\"Soul Kitchen\"],[\"The House on Sorority Row\"],[\"The Other Man\"],[\"3 Idiots\"],[\"Legion\"],[\"Beautiful\"],[\"Four Eyed Monsters\"],[\"Extraordinary Measures\"],[\"The Red Baron\"],[\"I Love You Phillip Morris\"],[\"Fish Tank\"],[\"The Wounds\"],[\"Ondine\"],[\"Cop Out\"],[\"The Spy Next Door\"],[\"I Hope They Serve Beer in Hell\"],[\"Singh Is Kinng\"],[\"District 13: Ultimatum\"],[\"The Crazies\"],[\"Dear John\"],[\"[REC]\\u00b2\"],[\"My Name Is Khan\"],[\"The Fall of the Roman Empire\"],[\"Brooklyn's Finest\"],[\"She's Out of My League\"],[\"Harry Brown\"],[\"Remember Me\"],[\"Our Family Wedding\"],[\"Leaves of Grass\"],[\"Women in Trouble\"],[\"The Card Player\"],[\"The Egyptian\"],[\"Repo Men\"],[\"Case 39\"],[\"Chloe\"],[\"Flesh and the Devil\"],[\"Mother\"],[\"Universal Soldier: Regeneration\"],[\"Micmacs\"],[\"Defendor\"],[\"Kick-Ass\"],[\"After.Life\"],[\"The Runaways\"],[\"Razorback\"],[\"A Farewell to Arms\"],[\"Death at a Funeral\"],[\"Valhalla Rising\"],[\"Diary of a Wimpy Kid\"],[\"City of Life and Death\"],[\"The Losers\"],[\"MacGruber\"],[\"Ca$h\"],[\"Four Lions\"],[\"Furry Vengeance\"],[\"The Disappearance of Alice Creed\"],[\"Halo Legends\"],[\"Blue Valentine\"],[\"Buried\"],[\"How About You...\"],[\"Winter's Bone\"],[\"Solitary Man\"],[\"Enter the Void\"],[\"The Yellow Handkerchief\"],[\"The Kids Are All Right\"],[\"The Silver Chalice\"],[\"Ip Man 2\"],[\"Invisible Agent\"],[\"Animal Kingdom\"],[\"Centurion\"],[\"Life During Wartime\"],[\"Piranha 3D\"],[\"The Extraordinary Adventures of Ad\\u00e8le Blanc-Sec\"],[\"The Joneses\"],[\"Gaby: A True Story\"],[\"TEKKEN\"],[\"Narco\"],[\"The Last Exorcism\"],[\"The American\"],[\"The Switch\"],[\"The End of Poverty?\"],[\"Machete\"],[\"Going the Distance\"],[\"Vampires Suck\"],[\"Easy A\"],[\"Howl\"],[\"Flipped\"],[\"It's Kind of a Funny Story\"],[\"Saint John of Las Vegas\"],[\"Tere Naam\"],[\"Let Me In\"],[\"Devil\"],[\"You Again\"],[\"Catfish\"],[\"Stone\"],[\"Inside Job\"],[\"Monsters\"],[\"Conviction\"],[\"Dirty Girl\"],[\"Bran Nue Dae\"],[\"Never Let Me Go\"],[\"The Illusionist\"],[\"PEEPLI [Live]\"],[\"Rubber\"],[\"Shelter\"],[\"Jackass 3D\"],[\"My Soul to Take\"],[\"Whisper\"],[\"Heartbreaker\"],[\"Of Gods and Men\"],[\"Paranormal Activity 2\"],[\"Saw: The Final Chapter\"],[\"127 Hours\"],[\"Fair Game\"],[\"The Next Three Days\"],[\"Wild Target\"],[\"Carlos\"],[\"The Fighter\"],[\"The Romantics\"],[\"The Extra Man\"],[\"Casino Jack\"],[\"London Boulevard\"],[\"Skyline\"],[\"Beastly\"],[\"Tiny Furniture\"],[\"Hatchet II\"],[\"Tomorrow, When the War Began\"],[\"Another Year\"],[\"Barney's Version\"],[\"The Company Men\"],[\"Faster\"],[\"Rabbit Hole\"],[\"The Last Circus\"],[\"Mao's Last Dancer\"],[\"Tucker and Dale vs Evil\"],[\"Waste Land\"],[\"Last Night\"],[\"The Way Back\"],[\"Ghajini\"],[\"It's Alive\"],[\"The Gorgeous Hussy\"],[\"I Spit on Your Grave\"],[\"Lucky Lady\"],[\"From Prada to Nada\"],[\"Country Strong\"],[\"Burke & Hare\"],[\"Vanishing on 7th Street\"],[\"At Long Last Love\"],[\"Take Me Home Tonight\"],[\"The Eagle\"],[\"71: Into the Fire\"],[\"The Merry Widow\"],[\"Janky Promoters\"],[\"Black Lightning\"],[\"Super\"],[\"Troll Hunter\"],[\"Chalet Girl\"],[\"Black Bread\"],[\"Insidious\"],[\"Hobo with a Shotgun\"],[\"Win Win\"],[\"The Time That Remains\"],[\"Boy\"],[\"Diary of a Wimpy Kid: Rodrick Rules\"],[\"Henry's Crime\"],[\"The Nutcracker\"],[\"13 Assassins\"],[\"Hanna\"],[\"New Kids Turbo\"],[\"Beyond\"],[\"The Princess of Montpensier\"],[\"Melancholia\"],[\"Atlas Shrugged Part I\"],[\"Welcome to the South\"],[\"The Robber\"],[\"Incendies\"],[\"Soul Surfer\"],[\"Eye of the Dolphin\"],[\"The Beaver\"],[\"The Tree of Life\"],[\"The Virginity Hit\"],[\"Pina\"],[\"The Roommate\"],[\"Trust\"],[\"Stolen\"],[\"The Double Hour\"],[\"Attack the Block\"],[\"Everything Must Go\"],[\"Beginners\"],[\"Why Did I Get Married Too?\"],[\"Larry Crowne\"],[\"Judy Moody and the Not Bummer Summer\"],[\"Takers\"],[\"The Mysterious Lady\"],[\"The Ward\"],[\"Delhi Belly\"],[\"Monte Carlo\"],[\"Drive\"],[\"Snow Flower and the Secret Fan\"],[\"One Day\"],[\"The Guard\"],[\"Winnie the Pooh\"],[\"The Goalie's Anxiety at the Penalty Kick\"],[\"Dylan Dog: Dead of Night\"],[\"Alpha and Omega\"],[\"Deadfall\"],[\"Blitz\"],[\"Our Idiot Brother\"],[\"Princess Kaiulani\"],[\"West Is West\"],[\"The Help\"],[\"30 Minutes or Less\"],[\"Glee: The Concert Movie\"],[\"The Conspirator\"],[\"A Very Harold & Kumar Christmas\"],[\"Loose Cannons\"],[\"Spy Kids: All the Time in the World\"],[\"Miranda\"],[\"Don't Be Afraid of the Dark\"],[\"Fright Night\"],[\"Another Earth\"],[\"Hesher\"],[\"Stake Land\"],[\"The Debt\"],[\"Freakonomics\"],[\"The Skin I Live In\"],[\"Prom\"],[\"Red State\"],[\"A Better Life\"],[\"I Don't Know How She Does It\"],[\"Shark Night\"],[\"Straw Dogs\"],[\"Restless\"],[\"A Dangerous Method\"],[\"Warrior\"],[\"The Ides of March\"],[\"Kill List\"],[\"Badmaash Company\"],[\"Bellflower\"],[\"50/50\"],[\"The Artist\"],[\"Enthiran\"],[\"Take Shelter\"],[\"Road to Nowhere\"],[\"The Music Never Stopped\"],[\"Footloose\"],[\"The Thing\"],[\"We Need to Talk About Kevin\"],[\"Margaret\"],[\"Carnage\"],[\"Margin Call\"],[\"Paranormal Activity 3\"],[\"This Must Be the Place\"],[\"Shame\"],[\"What's Your Number?\"],[\"Mulan: Rise of a Warrior\"],[\"Machine Gun Preacher\"],[\"Anonymous\"],[\"The Double\"],[\"Higher Ground\"],[\"Trespass\"],[\"The Devil's Double\"],[\"Setup\"],[\"Another Happy Day\"],[\"Shaolin\"],[\"Wuthering Heights\"],[\"The Descendants\"],[\"Like Crazy\"],[\"My Week with Marilyn\"],[\"Weekend\"],[\"Singham\"],[\"Chandni Chowk To China\"],[\"Hipsters\"],[\"Sarah's Key\"],[\"The Sitter\"],[\"Rampart\"],[\"The Perfect Game\"],[\"Flypaper\"],[\"Bathing Beauty\"],[\"Life in a Day\"],[\"Coriolanus\"],[\"Young Adult\"],[\"The Darkest Hour\"],[\"Albert Nobbs\"],[\"In the Land of Blood and Honey\"],[\"The Devil Inside\"],[\"Contraband\"],[\"The Iron Lady\"],[\"The Divide\"],[\"The Grey\"],[\"Haywire\"],[\"Apollo 18\"],[\"Seeking Justice\"],[\"W.E.\"],[\"The Innkeepers\"],[\"Six Degrees of Celebration\"],[\"Detective Dee and the Mystery of the Phantom Flame\"],[\"Chronicle\"],[\"The Woman in Black\"],[\"The Monk\"],[\"Louis C.K.: Live at the Beacon Theater\"],[\"For a Good Time, Call...\"],[\"Chapiteau-Show\"],[\"Kokowaah\"],[\"Bodyguards and Assassins\"],[\"Winter in Wartime\"],[\"Courageous\"],[\"Project X\"],[\"Act of Valor\"],[\"The Awakening\"],[\"The Ledge\"],[\"Jeff, Who Lives at Home\"],[\"Lockout\"],[\"A Lonely Place to Die\"],[\"Space Battleship Yamato\"],[\"Salmon Fishing in the Yemen\"],[\"Iron Sky\"],[\"The Raid\"],[\"The Cabin in the Woods\"],[\"L!fe Happens\"],[\"Silent House\"],[\"The Three Stooges\"],[\"The Raven\"],[\"The Best Exotic Marigold Hotel\"],[\"The Five-Year Engagement\"],[\"Think Like a Man\"],[\"The Lucky One\"],[\"Bride Flight\"],[\"Safe\"],[\"Jumping the Broom\"],[\"Chicken with Plums\"],[\"Bernie\"],[\"Inhale\"],[\"Wanderlust\"],[\"Moonrise Kingdom\"],[\"Kahaani\"],[\"5 Days of War\"],[\"A Few Best Men\"],[\"Cosmopolis\"],[\"Love's Deadly Triangle: The Texas Cadet Murder\"],[\"Safety Not Guaranteed\"],[\"Your Sister's Sister\"],[\"Bel Ami\"],[\"To Rome with Love\"],[\"4.3.2.1\"],[\"For Greater Glory - The True Story of Cristiada\"],[\"Seeking a Friend for the End of the World\"],[\"Magic Mike\"],[\"On the Road\"],[\"Beasts of the Southern Wild\"],[\"People Like Us\"],[\"2 Days in New York\"],[\"Killer Joe\"],[\"Love, Wedding, Marriage\"],[\"Diary of a Wimpy Kid: Dog Days\"],[\"War of the Arrows\"],[\"Hit & Run\"],[\"Premium Rush\"],[\"Lawless\"],[\"Piranha 3DD\"],[\"ATM\"],[\"The Possession\"],[\"Little White Lies\"],[\"The Apparition\"],[\"Bachelorette\"],[\"The Words\"],[\"Pitch Perfect\"],[\"The Cold Light of Day\"],[\"Looper\"],[\"Robot & Frank\"],[\"The Master\"],[\"Arbitrage\"],[\"End of Watch\"],[\"The Perks of Being a Wallflower\"],[\"The Hunt\"],[\"Behind the Burly Q\"],[\"Two Rabbits\"],[\"Sparkle\"],[\"Red Lights\"],[\"The Paperboy\"],[\"A Royal Affair\"],[\"House at the End of the Street\"],[\"2016: Obama's America\"],[\"Laurence Anyways\"],[\"The Painted Veil\"],[\"Rust and Bone\"],[\"Katy Perry: Part of Me\"],[\"Sinister\"],[\"Seven Psychopaths\"],[\"Hoodwinked Too! Hood VS. Evil\"],[\"Gangs of Wasseypur\"],[\"Paranormal Activity 4\"],[\"Silent Hill: Revelation 3D\"],[\"Like Dandelion Dust\"],[\"Killing Them Softly\"],[\"The Sessions\"],[\"Smashed\"],[\"Lookin' to Get Out\"],[\"The Man with the Iron Fists\"],[\"Sleepless Night\"],[\"Stolen\"],[\"Amour\"],[\"Meet Monica Velour\"],[\"Deadfall\"],[\"Byzantium\"],[\"1911\"],[\"Lay the Favorite\"],[\"Crooked Arrows\"],[\"Yossi\"],[\"Barfi\"],[\"Fire with Fire\"],[\"Not Fade Away\"],[\"Quartet\"],[\"StreetDance 3D\"],[\"Parental Guidance\"],[\"Promised Land\"],[\"The Sweeney\"],[\"English Vinglish\"],[\"Texas Chainsaw 3D\"],[\"The Samaritan\"],[\"The Iceman\"],[\"A Haunted House\"],[\"Mama\"],[\"Upstream Color\"],[\"Shadow Dancer\"],[\"Sunny\"],[\"Movie 43\"],[\"The Last Godfather\"],[\"The East\"],[\"Pink Ribbons, Inc.\"],[\"Side Effects\"],[\"21 & Over\"],[\"Safe Haven\"],[\"Elles\"],[\"The Act of Killing\"],[\"Universal Soldier: Day of Reckoning\"],[\"Before Midnight\"],[\"Snitch\"],[\"Dark Skies\"],[\"A Coffee in Berlin\"],[\"The Last Exorcism Part II\"],[\"Stoker\"],[\"Phantom\"],[\"Burn\"],[\"The Incredible Burt Wonderstone\"],[\"Spring Breakers\"],[\"I'm So Excited!\"],[\"The Call\"],[\"The Place Beyond the Pines\"],[\"The Good Doctor\"],[\"Admission\"],[\"Hey Ram\"],[\"Evil Dead\"],[\"Trance\"],[\"Welcome to the Punch\"],[\"Poor White Trash\"],[\"Dark Tide\"],[\"Love Is All You Need\"],[\"Disconnect\"],[\"Scary Movie 5\"],[\"Pain & Gain\"],[\"Home Run\"],[\"The Grandmaster\"],[\"Late Autumn\"],[\"Mud\"],[\"The Afflicted\"],[\"About Cherry\"],[\"Only God Forgives\"],[\"The Past\"],[\"Down Terrace\"],[\"The Lords of Salem\"],[\"Behind the Candelabra\"],[\"Aftershock\"],[\"Lovelace\"],[\"Special Forces\"],[\"Redd Inc.\"],[\"The Way Way Back\"],[\"The Big Wedding\"],[\"The Purge\"],[\"The Bling Ring\"],[\"Maniac\"],[\"The Best Offer\"],[\"What Maisie Knew\"],[\"The World's End\"],[\"Hummingbird\"],[\"The Spectacular Now\"],[\"Bhaag Milkha Bhaag\"],[\"The Breath\"],[\"Lost in Thailand\"],[\"Blue Jasmine\"],[\"The Great Beauty\"],[\"The Canyons\"],[\"Alan Partridge: Alpha Papa\"],[\"Class of 1999\"],[\"Man of Tai Chi\"],[\"Kick-Ass 2\"],[\"Cameron's Closet\"],[\"Paranoia\"],[\"Jobs\"],[\"The Butler\"],[\"In a World...\"],[\"About Time\"],[\"Chennai Express\"],[\"The Frozen Ground\"],[\"Empire State\"],[\"The Immortals\"],[\"Tidal Wave\"],[\"Adore\"],[\"Instructions Not Included\"],[\"Getaway\"],[\"What If\"],[\"Out of the Furnace\"],[\"Austenland\"],[\"The Family\"],[\"The To Do List\"],[\"Grand Masti\"],[\"Battle of the Year\"],[\"Out on a Limb\"],[\"Nebraska\"],[\"Metallica: Through the Never\"],[\"Special 26\"],[\"Runner Runner\"],[\"Blue Is the Warmest Color\"],[\"Parkland\"],[\"On the Job\"],[\"Machete Kills\"],[\"Filth\"],[\"Drona\"],[\"Baggage Claim\"],[\"Stitches\"],[\"Carrie\"],[\"The Fifth Estate\"],[\"The Counselor\"],[\"12 Years a Slave\"],[\"All Is Lost\"],[\"Bad Grandpa\"],[\"Dallas Buyers Club\"],[\"Pieta\"],[\"Philomena\"],[\"The Best Man Holiday\"],[\"Ida\"],[\"Delivery Man\"],[\"Twice Born\"],[\"Inside Llewyn Davis\"],[\"Homefront\"],[\"Mandela: Long Walk to Freedom\"],[\"August: Osage County\"],[\"Amen\"],[\"Sweetwater\"],[\"Her\"],[\"A Perfect Man\"],[\"Oldboy\"],[\"Aqu\\u00ed Entre Nos\"],[\"The Precocious and Brief Life of Sabina Rivas\"],[\"Fun Size\"],[\"The Physician\"],[\"Mio in the Land of Faraway\"],[\"The Hijack That Went South\"],[\"Dhoom\"],[\"Paranormal Activity: The Marked Ones\"],[\"The Lunchbox\"],[\"Yves Saint Laurent\"],[\"Hunting Elephants\"],[\"Underdogs\"],[\"The Railway Man\"],[\"Diana\"],[\"Devil's Due\"],[\"The First Power\"],[\"Decoding Annie Parker\"],[\"Justice League: War\"],[\"Yeh Jawaani Hai Deewani\"],[\"Vizontele Tuuba\"],[\"Ernest & Celestine\"],[\"Better Living Through Chemistry\"],[\"Labor Day\"],[\"The Young and Prodigious T.S. Spivet\"],[\"Sabotage\"],[\"The Zero Theorem\"],[\"Endless Love\"],[\"Joe\"],[\"Love Story 2050\"],[\"About Last Night\"],[\"That Awkward Moment\"],[\"3 Days to Kill\"],[\"Under the Skin\"],[\"Barefoot\"],[\"Veronica Mars\"],[\"Bad Words\"],[\"Son of God\"],[\"Space Pirate Captain Harlock\"],[\"Across to Singapore\"],[\"13 Sins\"],[\"Blood Ties\"],[\"Best Man Down\"],[\"The Quiet Ones\"],[\"Draft Day\"],[\"The Raid 2\"],[\"Oculus\"],[\"God's Not Dead\"],[\"Beauty and the Beast\"],[\"Heaven is for Real\"],[\"Brick Mansions\"],[\"Locke\"],[\"Tentacles\"],[\"Belle\"],[\"The Immigrant\"],[\"A Wednesday!\"],[\"Moms' Night Out\"],[\"Walk of Shame\"],[\"Chef\"],[\"Afflicted\"],[\"Begin Again\"],[\"Million Dollar Arm\"],[\"The Grand Seduction\"],[\"Black Nativity\"],[\"Minuscule: Valley of the Lost Ants\"],[\"Camille Claudel 1915\"],[\"Mindscape\"],[\"Bikini Spring Break\"],[\"Human Capital\"],[\"Birdman\"],[\"17 Girls\"],[\"Boyhood\"],[\"Think Like a Man Too\"],[\"Mrs. Brown's Boys D'Movie\"],[\"Tammy\"],[\"The Babadook\"],[\"White God\"],[\"Whiplash\"],[\"No One Lives\"],[\"And So It Goes\"],[\"The Purge: Anarchy\"],[\"The Signal\"],[\"A Most Wanted Man\"],[\"Wish I Was Here\"],[\"Earth to Echo\"],[\"Life After Beth\"],[\"The Rover\"],[\"Magic in the Moonlight\"],[\"The Hundred-Foot Journey\"],[\"The Giver\"],[\"Let's Be Cops\"],[\"The Sacrament\"],[\"Make Your Move\"],[\"If I Stay\"],[\"Two Days, One Night\"],[\"The Pyramid\"],[\"Life of Crime\"],[\"As Above, So Below\"],[\"The Guest\"],[\"Before I Go to Sleep\"],[\"Atlas Shrugged Part III: Who is John Galt?\"],[\"Third Person\"],[\"Honeymoon\"],[\"The Drop\"],[\"No Good Deed\"],[\"Camp X-Ray\"],[\"A Walk Among the Tombstones\"],[\"My Old Lady\"],[\"CBGB\"],[\"The Homesman\"],[\"The November Man\"],[\"This Is Where I Leave You\"],[\"Tusk\"],[\"The Adventurer: The Curse of the Midas Box\"],[\"Predestination\"],[\"The Best of Me\"],[\"John Wick\"],[\"The Salvation\"],[\"St. Vincent\"],[\"Alexander and the Terrible, Horrible, No Good, Very Bad Day\"],[\"Left Behind\"],[\"Ouija\"],[\"Nightcrawler\"],[\"Felix The Cat: The Movie\"],[\"Marshland\"],[\"Ex Machina\"],[\"Kung Fu Dunk\"],[\"Paradise: Love\"],[\"Foxcatcher\"],[\"Wolf Creek 2\"],[\"Remington and the Curse of the Zombadings\"],[\"Stalingrad\"],[\"Inherent Vice\"],[\"Repentance\"],[\"The Theory of Everything\"],[\"Moscow, Belgium\"],[\"When the Game Stands Tall\"],[\"Aashiqui 2\"],[\"Ragnarok\"],[\"20th Century Boys - Chapter 1: Beginning of the End\"],[\"Beyond the Lights\"],[\"My Dear Desperado\"],[\"Lucia\"],[\"Black or White\"],[\"The Water Diviner\"],[\"Still Alice\"],[\"Clouds of Sils Maria\"],[\"Hard to Be a God\"],[\"Kill the Messenger\"],[\"The Face of Love\"],[\"Selma\"],[\"Fat Pizza\"],[\"Khumba\"],[\"A Girl Walks Home Alone at Night\"],[\"Mommy\"],[\"A Most Violent Year\"],[\"Wild\"],[\"Big Eyes\"],[\"Madea's Big Happy Family\"],[\"Gloss\"],[\"Fishtales\"],[\"PK\"],[\"Drishyam\"],[\"Gimme Shelter\"],[\"The Woman in Black 2: Angel of Death\"],[\"Forbidden Kingdom\"],[\"Justin Bieber: Never Say Never\"],[\"Nurse 3-D\"],[\"Tad, the Lost Explorer\"],[\"Nothing Left to Fear\"],[\"It Follows\"],[\"Highway to Hell\"],[\"The Berlin File\"],[\"Tim\"],[\"Solomon and Sheba\"],[\"Peter and Vandy\"],[\"Kandahar\"],[\"Torrente 5: Operaci\\u00f3n Eurovegas\"],[\"Insidious: Chapter 3\"],[\"Sankofa\"],[\"My Way\"],[\"The Derby Stallion\"],[\"Cake\"],[\"The Snow Queen\"],[\"Hard Contract\"],[\"The Gambler\"],[\"Parrish\"],[\"The DUFF\"],[\"Of Horses and Men\"],[\"Project Almanac\"],[\"Brooklyn\"],[\"A Walk in the Woods\"],[\"99 Homes\"],[\"Aloft\"],[\"The Bronze\"],[\"The D Train\"],[\"The Diary of a Teenage Girl\"],[\"Dope\"],[\"Miss Julie\"],[\"The Loft\"],[\"Lost River\"],[\"Battletruck\"],[\"Italiano medio\"],[\"Paper Towns\"],[\"The Wedding Ringer\"],[\"The Boy Next Door\"],[\"Hot Tub Time Machine 2\"],[\"Demonic\"],[\"The Second Best Exotic Marigold Hotel\"],[\"Tracers\"],[\"The Lazarus Effect\"],[\"Unfinished Business\"],[\"Soulless\"],[\"Raanjhanaa\"],[\"While We're Young\"],[\"Suite Fran\\u00e7aise\"],[\"Big Game\"],[\"La v\\u00e9rit\\u00e9 si je mens !\"],[\"Midnight Special\"],[\"Escobar: Paradise Lost\"],[\"Unfriended\"],[\"Bolero\"],[\"What Men Talk About\"],[\"Kung Fu Jungle\"],[\"Infinitely Polar Bear\"],[\"Woman in Gold\"],[\"Ryaba, My Chicken\"],[\"Samba\"],[\"Space Dogs\"],[\"Long Live Freedom\"],[\"Parts Per Billion\"],[\"The Admiral: Roaring Currents\"],[\"Table For Five\"],[\"The Age of Adaline\"],[\"Danny Collins\"],[\"Grandma\"],[\"50 to 1\"],[\"Barbecue\"],[\"Falling From Grace\"],[\"A Company Man\"],[\"Jimmy P.\"],[\"Ricki and the Flash\"],[\"Piku\"],[\"Carol\"],[\"Strangerland\"],[\"The Lobster\"],[\"Maggie\"],[\"The Green Inferno\"],[\"A Driver for Vera\"],[\"Plus one\"],[\"Badlapur\"],[\"Youth\"],[\"Wake Up Sid\"],[\"Rangeela\"],[\"Sarkar\"],[\"From a Whisper to a Scream\"],[\"Tutto tutto niente niente\"],[\"Song One\"],[\"Mere Brother Ki Dulhan\"],[\"Entourage\"],[\"5 Flights Up\"],[\"Tanu Weds Manu\"],[\"Max\"],[\"Madras Cafe\"],[\"White Tiger\"],[\"Gabbar Is Back\"],[\"Little Boy\"],[\"Self/less\"],[\"Criminal\"],[\"Krampus\"],[\"Bluffmaster!\"],[\"Pizza\"],[\"Rockstar\"],[\"This is Sodom\"],[\"Jackson County Jail\"],[\"Kaminey\"],[\"Company\"],[\"Vishwaroopam\"],[\"Shootout at Lokhandwala\"],[\"Josh\"],[\"Dhoom 3\"],[\"Dhoom 2\"],[\"Rough Cut\"],[\"Mickey's Christmas Carol\"],[\"Bulletproof\"],[\"Steve Jobs\"],[\"Macbeth\"],[\"Manglehorn\"],[\"Shabd\"],[\"Gemma Bovery\"],[\"Love and the City\"],[\"Magic Mike XXL\"],[\"Dragon Ball Z: Resurrection 'F'\"],[\"Bombay Velvet\"],[\"Treehouse\"],[\"French Women\"],[\"Welcome to the North\"],[\"The Worst Christmas of My Life\"],[\"La peggior settimana della mia vita\"],[\"A Whole Life Ahead\"],[\"The Opposite Sex\"],[\"The Gallows\"],[\"Dark Places\"],[\"Mustang\"],[\"Soodhu Kavvum\"],[\"Bajrangi Bhaijaan\"],[\"Irrational Man\"],[\"Southpaw\"],[\"Sicario\"],[\"Anomalisa\"],[\"Colonia\"],[\"The Vatican Tapes\"],[\"Love\"],[\"Room\"],[\"The Gift\"],[\"The Witch\"],[\"3 Generations\"],[\"Zaytoun\"],[\"The Visit\"],[\"Secret in Their Eyes\"],[\"Sinister 2\"],[\"American Ultra\"],[\"No Escape\"],[\"Tangerine\"],[\"Iron & Blood: The Legend of Taras Bulba\"],[\"Sholem Aleichem: Laughing In The Darkness\"],[\"The Angrez\"],[\"Captive\"],[\"Equals\"],[\"Scouts Guide to the Zombie Apocalypse\"],[\"Suffragette\"],[\"We Are Your Friends\"],[\"War Room\"],[\"Legend\"],[\"The Danish Girl\"],[\"Green Room\"],[\"Beasts of No Nation\"],[\"The Lady in the Van\"],[\"Zid\"],[\"The Transporter Refueled\"],[\"La V\\u00e9rit\\u00e9 si je Mens ! 3\"],[\"Would I Lie to You? 2\"],[\"Knock Knock\"],[\"Dreaming of Space\"],[\"Silenced\"],[\"The House of Usher\"],[\"Demolition\"],[\"Our Brand Is Crisis\"],[\"Agneepath\"],[\"Cocktail\"],[\"The Assassin\"],[\"The Night Before\"],[\"Spotlight\"],[\"Son of Saul\"],[\"Pawn Sacrifice\"],[\"Hardcore Henry\"],[\"Burnt\"],[\"Lootera\"],[\"Bangalore Days\"],[\"Ohm Shanthi Oshaana\"],[\"Alaipayuthey\"],[\"Vaaranam Aayiram\"],[\"Godfather\"],[\"Varalaru\"],[\"Freeheld\"],[\"By the Sea\"],[\"The Circle\"],[\"Cruel World\"],[\"Hail, Caesar!\"],[\"Look Who's Back\"],[\"Standing Tall\"],[\"Clockstoppers\"],[\"The Bullet Vanishes\"],[\"Confessions of a Dangerous Mind\"],[\"Rita's Last Fairy Tale\"],[\"The Perfect Guy\"],[\"Rock the Kasbah\"],[\"Momentum\"],[\"Aferim!\"],[\"Paranormal Activity: The Ghost Dimension\"],[\"Jem and the Holograms\"],[\"The 33\"],[\"The Dressmaker\"],[\"Trumbo\"],[\"Wolf Warrior\"],[\"Antikiller\"],[\"Duniyadari\"],[\"Shikshanachya Aaicha Gho\"],[\"Dil To Pagal Hai\"],[\"Fiza\"],[\"William & Kate\"],[\"Lost in the Sun\"],[\"Louder Than Bombs\"],[\"Heist\"],[\"Love the Coopers\"],[\"Prem Ratan Dhan Payo\"],[\"Faster than Rabbits\"],[\"Recep \\u0130vedik\"],[\"Katyar Kaljat Ghusali\"],[\"Mary Kom\"],[\"Premam\"],[\"The Last Breath\"],[\"The Wave\"],[\"Monkey King: Hero Is Back\"],[\"Truth\"],[\"The Letters\"],[\"Valentino\"],[\"Loham\"],[\"The Legend of Bhagat Singh\"],[\"The Perfect Weapon\"],[\"Fifty Shades of Black\"],[\"Nocturnal Animals\"],[\"Bajirao Mastani\"],[\"F.C. De Kampioenen: Kampioen zijn blijft plezant\"],[\"Pride and Prejudice and Zombies\"],[\"Jane Got a Gun\"],[\"Dilwale\"],[\"Woodlawn\"],[\"Captive\"],[\"The Forest\"],[\"Raavan\"],[\"Rowdy Rathore\"],[\"Wazir\"],[\"Mickey\"],[\"Norm of the North\"],[\"Eddie the Eagle\"],[\"Airlift\"],[\"Stonewall\"],[\"The Boy\"],[\"90 Minutes in Heaven\"],[\"Risen\"],[\"Dirty Grandpa\"],[\"Orleans\"],[\"The Guide\"],[\"The Birth of a Nation\"],[\"Anjaana Anjaani\"],[\"Na Maloom Afraad\"],[\"Triple 9\"],[\"Embrace of the Serpent\"],[\"Neerja\"],[\"Race\"],[\"10 Cloverfield Lane\"],[\"Whiskey Tango Foxtrot\"],[\"The Young Messiah\"],[\"Grimsby\"],[\"Na Tum Jaano Na Hum\"],[\"Garv: Pride and Honour\"],[\"Capture the Flag\"],[\"The Touch\"],[\"3 Braves\"],[\"Jaane Tu... Ya Jaane Na\"],[\"Bachna Ae Haseeno\"],[\"Dostana\"],[\"Phoonk\"],[\"Gabbar Singh\"],[\"Eega\"],[\"99\"],[\"Khatta Meetha\"],[\"Dear Guest, When Will You Leave?\"],[\"Bodyguard\"],[\"Thank You\"],[\"Raja Natwarlal\"],[\"Heropanti\"],[\"Happy Family\"],[\"The Neon Demon\"],[\"Vinnaithaandi Varuvaayaa\"],[\"Ayan\"],[\"Bommarillu\"],[\"Arundhati\"],[\"Happy Days\"],[\"Dil Dhadakne Do\"],[\"Eye in the Sky\"],[\"Hello, My Name Is Doris\"],[\"Roar\"],[\"Mr. Right\"],[\"Miracles from Heaven\"],[\"Florence Foster Jenkins\"],[\"My Big Fat Greek Wedding 2\"],[\"Irudhi Suttru\"],[\"I Saw the Light\"],[\"Keanu\"],[\"The Lure\"],[\"White Girl\"],[\"Love & Friendship\"],[\"Sunshine Superman\"],[\"Everybody Wants Some!!\"],[\"Sing Street\"],[\"Paterson\"],[\"Aadukalam\"],[\"Visaranai\"],[\"Things to Come\"],[\"Fan\"],[\"Money Monster\"],[\"Nine Lives\"],[\"Barbershop: The Next Cut\"],[\"The Choice\"],[\"The Boss\"],[\"Bastille Day\"],[\"Precious Cargo\"],[\"Arrambam\"],[\"Yennai Arindhaal\"],[\"Mankatha\"],[\"Indru Netru Naalai\"],[\"Veeram\"],[\"Vaali\"],[\"Villan\"],[\"Dheena\"],[\"Citizen\"],[\"Amarkalam\"],[\"Mugavari\"],[\"Aasai\"],[\"Kadhal Kottai\"],[\"Mother's Day\"],[\"Ratchet & Clank\"],[\"Term Life\"],[\"A Hologram for the King\"],[\"Singam\"],[\"Saamy\"],[\"7Aum Arivu\"],[\"Flight Crew\"],[\"The Shallows\"],[\"A Little Night Music\"],[\"Skinning\"],[\"Kick\"],[\"Aitraaz\"],[\"Paws\"],[\"The Handmaiden\"],[\"Sausage Party\"],[\"Captain Fantastic\"],[\"Toni Erdmann\"],[\"The Meddler\"],[\"Finding Mr. Right\"],[\"Caf\\u00e9 Society\"],[\"Swiss Army Man\"],[\"A Violent Prosecutor\"],[\"Graduation\"],[\"The Darkness\"],[\"Boris - Il film\"],[\"Udta Punjab\"],[\"Te3n\"],[\"Raman Raghav 2.0\"],[\"The Purge: Election Year\"],[\"Lights Out\"],[\"The Duel\"],[\"Nerve\"],[\"Sultan\"],[\"Charlie\"],[\"Kismat Konnection\"],[\"The Infiltrator\"],[\"To Steal from a Thief\"],[\"Batman: The Killing Joke\"],[\"Lights of New York\"],[\"Bad Moms\"],[\"Hell or High Water\"],[\"Don't Breathe\"],[\"47 Meters Down\"],[\"Hillary's America: The Secret History of the Democratic Party\"],[\"The Cherry Orchard\"],[\"Robinson Crusoe\"],[\"The Edge of Seventeen\"],[\"Anthropoid\"],[\"Elle\"],[\"Grandmaster\"],[\"Train to Busan\"],[\"Friend Request\"],[\"Starchaser: The Legend of Orin\"],[\"Skiptrace\"],[\"Moonlight\"],[\"Big Fish & Begonia\"],[\"A Conspiracy of Faith\"],[\"Masterminds\"],[\"Pelli Choopulu\"],[\"The Light Between Oceans\"],[\"Morgan\"],[\"Queen of Katwe\"],[\"Middle School: The Worst Years of My Life\"],[\"God's Not Dead 2\"],[\"Kabali\"],[\"Mohenjo Daro\"],[\"A Quiet Passion\"],[\"Local Color\"],[\"I'm Staying\"],[\"Shin Godzilla\"],[\"Wabash Avenue\"],[\"Aquarius\"],[\"The Work and the Glory\"],[\"The Work and the Glory II: American Zion\"],[\"The Work and the Glory III: A House Divided\"],[\"The Book of Mormon Movie, Volume 1: The Journey\"],[\"Blair Witch\"],[\"The Hollars\"],[\"Loving\"],[\"31\"],[\"From the Land of the Moon\"],[\"My Life as a Zucchini\"],[\"Musudan\"],[\"The Duelist\"],[\"Ouija: Origin of Evil\"],[\"Max Steel\"],[\"Denial\"],[\"Manchester by the Sea\"],[\"Lion\"],[\"Bad Santa 2\"],[\"Almost Christmas\"],[\"Smoke & Mirrors\"],[\"Alesha Popovich and Tugarin the Dragon\"],[\"Nikitich and The Dragon\"],[\"Max & Leon\"],[\"A United Kingdom\"],[\"Shut In\"],[\"Jimmy Vestvood: Amerikan Hero\"],[\"Jackie\"],[\"The Tiger: An Old Hunter's Tale\"],[\"Logan\"],[\"The Space Between Us\"],[\"Miss Sloane\"],[\"Rules Don't Apply\"],[\"Voracious\"],[\"Aanandam\"],[\"Action Hero Biju\"],[\"Fences\"],[\"Bleed for This\"],[\"Tri bogatyrya i Shamakhanskaya tsaritsa\"],[\"20th Century Women\"],[\"The Founder\"],[\"Dear Zindagi\"],[\"The Guillotines\"],[\"Collide\"],[\"Gold\"],[\"Ballerina\"],[\"Sleepless\"],[\"He's a Dragon\"],[\"A Street Cat Named Bob\"],[\"The Bye Bye Man\"],[\"When the Bough Breaks\"],[\"I'm Not Ashamed\"],[\"The King's Choice\"],[\"Rings\"],[\"Vipers Nest\"],[\"Raw\"],[\"T2 Trainspotting\"],[\"Before I Fall\"],[\"Incarnate\"],[\"A Ghost Story\"],[\"Black Snow\"],[\"Song to Song\"],[\"Queen of Spades: The Dark Rite\"],[\"Ayurveda: Art of Being\"],[\"Their Finest\"],[\"Personal Shopper\"],[\"The Shack\"],[\"The Lost City of Z\"],[\"Free Fire\"],[\"CHiPS\"],[\"Table 19\"],[\"Going in Style\"],[\"O Kadhal Kanmani\"],[\"Bitter Harvest\"],[\"The Amazing Truth About Queen Raquela\"],[\"RRRrrrr!!!\"],[\"Shadowboxing\"],[\"The Zookeeper's Wife\"],[\"Gifted\"],[\"24\"],[\"Aftermath\"],[\"Diary of a Wimpy Kid: The Long Haul\"],[\"The Spacewalker\"],[\"Unforgettable\"],[\"The Book of Henry\"],[\"Phoenix Forgotten\"],[\"Lowriders\"],[\"Heavy Traffic\"],[\"\\u041a\\u043e\\u0440\\u043e\\u043b\\u0451\\u0432\"],[\"Bizim Aile\"],[\"Tosun Pasha\"],[\"Have Fun, Vasya!\"],[\"Horoscope for Good Luck\"],[\"Kidnapping, Caucasian Style\"],[\"Nasha Russia: Yaytsa sudby\"],[\"The Best Movie 3-DE\"],[\"The New Year's Rate Plan\"],[\"The Star\"],[\"The Irony of Fate. The Sequel\"],[\"Kabhi Alvida Naa Kehna\"],[\"The Beguiled\"],[\"Desmundo\"],[\"Rough Night\"],[\"In the Forests of Siberia\"],[\"The Dawns Here Are Quiet\"],[\"Waltzing Anna\"],[\"Cowboys & Angels\"],[\"Boj S Tenyu 2: Revansh\"],[\"Easy on the Eyes\"],[\"Lucky Island\"],[\"Hooked on the Game 2. The Next Level\"],[\"Lovey-Dovey 2\"],[\"The Interceptor\"],[\"Hooked on the Game\"],[\"High Security Vacation\"],[\"Antikiller D.K\"],[\"The Spy\"],[\"Mechenosets\"],[\"Paris Can Wait\"],[\"Hitler's Kaput!\"],[\"Glukhar v kino\"],[\"That still Karloson!\"],[\"I Was a Teenage Werewolf\"],[\"Kidnap\"],[\"Black Rose\"],[\"Mudhalvan\"],[\"Nirvana\"],[\"The Battalion\"],[\"Fanaa\"],[\"Atomic Blonde\"],[\"Gymkata\"],[\"Confidential Assignment\"],[\"Pok\\u00e9mon: Spell of the Unknown\"],[\"Mommies, Happy New Year!\"],[\"Pregnant\"],[\"On the Hook!\"],[\"FC Venus\"],[\"Wind River\"],[\"Sivaji: The Boss\"],[\"All at Once\"],[\"Savages\"],[\"Pro Lyuboff\"],[\"Antidur\"]],\"hovertemplate\":\"clusters=0<br>budget=%{x}<br>revenue=%{y}<br>title=%{customdata[0]}<extra></extra>\",\"legendgroup\":\"0\",\"marker\":{\"color\":\"#EF553B\",\"symbol\":\"circle\"},\"mode\":\"markers\",\"name\":\"0\",\"showlegend\":true,\"x\":[16000000.0,16500000.0,4000000.0,3600000.0,12000000.0,18000000.0,11000000.0,18000000.0,20000000.0,10000000.0,6000000.0,15000000.0,3500000.0,19000000.0,15000000.0,20000000.0,8000000.0,38000000.0,8169363.0,14000000.0,7000000.0,12000000.0,1300000.0,7500000.0,25000000.0,7000000.0,19000000.0,4000000.0,28000000.0,2000000.0,11000000.0,25000000.0,7000000.0,27000000.0,20000000.0,25000000.0,1500000.0,500000.0,6000000.0,15000000.0,2.0,22000000.0,150000.0,8.0,7000000.0,14000000.0,20000000.0,2800000.0,2500000.0,10000000.0,21000000.0,27000.0,25000000.0,18000000.0,15000000.0,700000.0,5000000.0,10500000.0,14000000.0,2000000.0,17000000.0,6.0,34000000.0,16000000.0,11000000.0,8000000.0,400000.0,32000000.0,22000000.0,15000000.0,35000000.0,25000000.0,25000000.0,6000000.0,11000000.0,30000000.0,17000000.0,3000000.0,15000000.0,5000000.0,15000000.0,35000000.0,14000000.0,30000000.0,11500000.0,8000000.0,27000000.0,10000000.0,7000000.0,26000000.0,8000000.0,34000000.0,17080000.0,13000000.0,22000000.0,13000000.0,30000000.0,6900000.0,30000000.0,20000000.0,35000000.0,18000000.0,25000000.0,13000000.0,9000000.0,1500000.0,13500000.0,3500000.0,12000000.0,20000000.0,7000000.0,14000000.0,11000000.0,11500000.0,22000000.0,20000000.0,11500000.0,800000.0,12000000.0,13000000.0,25000000.0,28000000.0,20000000.0,7400000.0,18000000.0,30000000.0,25000000.0,12500000.0,27000000.0,1488423.0,2600000.0,6244087.0,7000000.0,4000000.0,4000000.0,12000000.0,13000000.0,9000000.0,25000000.0,30000000.0,31000000.0,25530000.0,35000000.0,15000000.0,4800000.0,25000000.0,1800000.0,4000000.0,27000000.0,30000000.0,5000000.0,3500000.0,25000000.0,13000000.0,26000000.0,36000000.0,6000000.0,13000000.0,15000000.0,6000000.0,2962051.0,200000.0,900000.0,500000.0,4500000.0,25000000.0,5000000.0,2540800.0,2723903.0,2500000.0,2479000.0,1000000.0,325000.0,4000000.0,3000000.0,2883848.0,4000000.0,878000.0,375000.0,17000000.0,2238813.0,1500000.0,2777000.0,1752000.0,839727.0,10500000.0,1400000.0,1688000.0,1288000.0,2000000.0,1500000.0,2500000.0,1365000.0,2033000.0,1020000.0,609000.0,5400000.0,1.0,226408.0,6000000.0,3180000.0,1500000.0,114000.0,1300000.0,3000000.0,4.0,25000000.0,28000000.0,9000000.0,2300000.0,5000000.0,14000000.0,3000000.0,6000000.0,812000.0,20000000.0,12000000.0,10000000.0,4500000.0,16000000.0,2400000.0,7000000.0,14500000.0,200000.0,3000000.0,2000000.0,2000000.0,7500000.0,4000000.0,12000000.0,2500000.0,1400000.0,6000000.0,1200000.0,6000000.0,6500000.0,3705538.0,12500000.0,12000000.0,1800000.0,12500000.0,36000000.0,5000000.0,6788000.0,1000000.0,6000000.0,1000000.0,400000.0,7000000.0,4000000.0,645180.0,3000000.0,4.0,500000.0,3000000.0,16000000.0,18500000.0,1200000.0,350000.0,15000000.0,2200000.0,2000000.0,5000000.0,2500000.0,25000000.0,11000000.0,11500000.0,806948.0,27000000.0,13000000.0,17000000.0,18000000.0,18000000.0,4000000.0,27000000.0,14000000.0,5500000.0,6400000.0,3000000.0,18000000.0,14000000.0,3000000.0,829000.0,3000000.0,6000000.0,3800000.0,19000000.0,8000000.0,3600000.0,4000000.0,15000000.0,14600000.0,14000000.0,11000000.0,12000000.0,8000000.0,16000000.0,3000000.0,2800000.0,3500000.0,2000000.0,2280000.0,730000.0,15000000.0,2500000.0,22000000.0,17000000.0,3000000.0,12000000.0,14400000.0,1900000.0,6000000.0,1746964.0,16000000.0,10000000.0,2500000.0,6000000.0,1800000.0,1800000.0,2800000.0,1000000.0,3000000.0,27000000.0,30000000.0,12000000.0,18000000.0,24000000.0,13000000.0,6000000.0,13200000.0,12000000.0,20000000.0,20500000.0,3000000.0,6000000.0,23000000.0,14000000.0,8000000.0,25000000.0,15000000.0,30000000.0,35000000.0,3000000.0,28000000.0,20000000.0,32000000.0,10000000.0,35000000.0,16500000.0,2000000.0,500000.0,900000.0,28000000.0,20000000.0,15000000.0,3000000.0,19000000.0,16000000.0,30000000.0,20000000.0,27000000.0,5000000.0,19000000.0,18000000.0,250000.0,17000000.0,12000000.0,1500000.0,36000000.0,37000000.0,10000000.0,24000000.0,15000000.0,12000000.0,11000000.0,6000000.0,30000000.0,20000000.0,20000000.0,35000000.0,10000000.0,35000000.0,5000000.0,12000000.0,28000000.0,15000000.0,25000000.0,15000000.0,27000000.0,8000000.0,3000000.0,25000000.0,30000000.0,1000000.0,28000000.0,18000000.0,1000000.0,27000000.0,20000000.0,1000000.0,15000000.0,24000000.0,10000000.0,25000000.0,5000000.0,10000000.0,12716953.0,35000000.0,13000000.0,13000000.0,30000000.0,18500000.0,5000000.0,10000000.0,180000.0,1500000.0,60000.0,379000.0,700000.0,1180280.0,1950000.0,1644736.0,1250000.0,1344000.0,1250000.0,2100000.0,2000000.0,4000000.0,1650000.0,910000.0,343000.0,6000000.0,1000000.0,3900000.0,2000000.0,10000000.0,3600000.0,1800000.0,1000000.0,8000000.0,5500000.0,23000000.0,7500000.0,1500000.0,25000000.0,1000000.0,3000000.0,5000000.0,7000000.0,8000000.0,11000000.0,550000.0,1250000.0,4000000.0,2600000.0,2200000.0,3000000.0,2800000.0,5000000.0,300000.0,2500000.0,2500000.0,5000000.0,5000000.0,1000000.0,9000000.0,13000000.0,13000000.0,10700000.0,19000000.0,10500000.0,14000000.0,15000000.0,11000000.0,19000000.0,5000000.0,2000000.0,14000000.0,7000000.0,1227401.0,15000000.0,10000000.0,25000000.0,20000000.0,5000000.0,14000000.0,28000000.0,160000.0,15000000.0,11000000.0,18000000.0,6000000.0,4000000.0,10000000.0,4000000.0,4000000.0,1200000.0,25000000.0,6000000.0,19000000.0,8000000.0,17000000.0,17000000.0,10500000.0,10000000.0,4000000.0,10000000.0,10000000.0,5000000.0,800000.0,13800000.0,26000000.0,300000.0,7200000.0,7500000.0,18000000.0,1000000.0,7000000.0,15000000.0,9000000.0,25000000.0,6500000.0,5000000.0,20000000.0,3200000.0,27000000.0,32000000.0,5000000.0,15000000.0,1500000.0,2000000.0,3500000.0,4000000.0,3000000.0,2135161.0,1200000.0,2500000.0,1200000.0,1200000.0,13000000.0,250.0,25000000.0,1103000.0,12000000.0,250000.0,20000000.0,25000000.0,20000000.0,28000000.0,10000000.0,800000.0,2000000.0,14000000.0,25000000.0,15000000.0,8000000.0,10000000.0,20000000.0,17000000.0,1100000.0,11000000.0,11000000.0,28000000.0,5000000.0,25000000.0,3000000.0,3500000.0,20000000.0,12000000.0,10000000.0,30000000.0,9000000.0,4000000.0,2900000.0,12000.0,2000000.0,672000.0,23000000.0,10000000.0,5000000.0,8000000.0,8045760.0,17900000.0,10000000.0,4500000.0,15000000.0,3500000.0,30000000.0,9000000.0,15000000.0,25000000.0,10000000.0,17500000.0,7000000.0,15000000.0,8000000.0,113.0,27000000.0,15000000.0,12000000.0,6000000.0,20000000.0,700000.0,15000000.0,12000000.0,85000.0,4700000.0,600000.0,20000000.0,18000000.0,13800000.0,15000000.0,10000000.0,7300.0,150000.0,6000000.0,35000000.0,3000000.0,10000000.0,6000000.0,11500000.0,8000000.0,900000.0,10000000.0,3000000.0,6000000.0,14000000.0,9000000.0,5800000.0,3000000.0,1700000.0,1700000.0,2500000.0,7000000.0,14000000.0,25000000.0,10500000.0,1350000.0,21000000.0,13000000.0,12000000.0,25000000.0,4550000.0,16000000.0,6000.0,6500000.0,25000000.0,10000000.0,10000000.0,2900000.0,1.0,15000000.0,25000000.0,1453000.0,3000000.0,786675.0,1500000.0,17000000.0,355000.0,291000.0,1200000.0,5000000.0,2000000.0,16000000.0,8000000.0,18000000.0,14000000.0,1530000.0,12500000.0,31000000.0,24000000.0,60000.0,27000000.0,6000000.0,10000000.0,450000.0,12000000.0,2000000.0,11000000.0,1884000.0,25000000.0,15000000.0,2000000.0,24500000.0,25000000.0,13000000.0,25000000.0,6500000.0,6400000.0,350000.0,200000.0,6800000.0,3500000.0,22000000.0,15000000.0,18000000.0,13000000.0,7000000.0,7000000.0,29000000.0,12000000.0,6000000.0,1200000.0,17500000.0,560000.0,1200000.0,9000000.0,2000000.0,11000000.0,28000000.0,5000000.0,2600000.0,8000000.0,28000000.0,1700000.0,15000000.0,7000000.0,300000.0,5000000.0,2000000.0,10000000.0,6200000.0,6000000.0,6000000.0,5500000.0,1800000.0,32000000.0,1250000.0,6000000.0,4000000.0,5400000.0,2500000.0,2000000.0,950000.0,4500000.0,200000.0,3000000.0,17000000.0,463455.0,700000.0,5000000.0,19000000.0,9000000.0,13000000.0,7000000.0,5500000.0,19000000.0,27000000.0,13000000.0,2000000.0,8000000.0,3500000.0,900000.0,2500000.0,25000000.0,483103.0,5000000.0,22700000.0,15000000.0,12000000.0,15000000.0,20000000.0,23000000.0,10000000.0,10000000.0,25485000.0,700000.0,16000000.0,8272296.0,133000.0,4000000.0,28000000.0,23000000.0,30000000.0,24000000.0,18000000.0,38000000.0,312000.0,23000000.0,19000000.0,17000000.0,24000000.0,1300000.0,14000000.0,10000000.0,11000000.0,25.0,24000000.0,24554.0,12000000.0,10000000.0,4500000.0,15000000.0,6000000.0,250000.0,36000000.0,34000000.0,11700000.0,32000000.0,20000000.0,10000000.0,7000000.0,220000.0,1000000.0,16000000.0,6000000.0,10000000.0,30000000.0,200000.0,26000000.0,23000000.0,1500000.0,250000.0,6000000.0,16000000.0,25000000.0,2053648.0,12000000.0,24500.0,2300000.0,9000000.0,7000000.0,1800000.0,777000.0,18000000.0,12000000.0,1805000.0,23000000.0,16000000.0,2700000.0,6500000.0,10000000.0,14000000.0,3000000.0,2000000.0,9000000.0,5000000.0,927262.0,6000000.0,13500000.0,25000000.0,21000000.0,4200000.0,8700000.0,1500000.0,7000000.0,13000000.0,4000000.0,25000000.0,15000000.0,8500000.0,1.0,2500000.0,2000000.0,25000000.0,6500000.0,20000000.0,6000000.0,30000000.0,15000000.0,4653000.0,2300000.0,20000000.0,13000000.0,3800000.0,15000000.0,3700000.0,10000000.0,31000000.0,24000000.0,24000000.0,5000000.0,7000000.0,6000000.0,18000000.0,30000000.0,7000000.0,30000000.0,3800000.0,6500000.0,6000000.0,14000000.0,20000000.0,6000000.0,20000000.0,15000000.0,7000000.0,2500000.0,1000000.0,600000.0,160000.0,18000000.0,2000000.0,6000000.0,16000000.0,2500000.0,2000000.0,923000.0,6500000.0,14000000.0,7000000.0,4800000.0,6000000.0,25000000.0,2600000.0,10000.0,600000.0,26000000.0,4000000.0,6500000.0,9000000.0,27000000.0,22000000.0,16000000.0,400000.0,2000000.0,12305523.0,17000000.0,17000000.0,15000000.0,7000000.0,13000000.0,4000000.0,1600000.0,5500000.0,3000000.0,1821052.0,3000000.0,25000000.0,16000000.0,3000000.0,1500000.0,2410000.0,2500000.0,2142000.0,1978000.0,1200000.0,8200000.0,6000000.0,15000000.0,3500000.0,2000000.0,3000000.0,10000000.0,6000000.0,4000000.0,3000000.0,3500000.0,30000000.0,1000000.0,12000000.0,23000000.0,3100000.0,35000000.0,28000000.0,25000000.0,8500000.0,25000000.0,14000000.0,12800000.0,1000000.0,1000000.0,3000000.0,5000000.0,1580000.0,5115000.0,4500000.0,24000000.0,1000000.0,5000000.0,22000000.0,32000000.0,7200000.0,35000000.0,30.0,13500000.0,17000000.0,35000000.0,25000000.0,6000000.0,15000000.0,14000000.0,4000000.0,20000000.0,10000000.0,15000000.0,13000000.0,6.0,10000000.0,10000000.0,26000000.0,28000000.0,8000000.0,10000000.0,12000000.0,6500000.0,30000000.0,13000000.0,1000000.0,35000000.0,11000000.0,3000000.0,1800000.0,10000000.0,35000000.0,3000000.0,350000.0,23000000.0,1.0,8500000.0,6000000.0,22000000.0,12000000.0,14000000.0,22000000.0,10000000.0,1900000.0,20000000.0,3000000.0,2000000.0,4000000.0,15000000.0,23000000.0,7000000.0,31000000.0,15000000.0,7920000.0,2900000.0,1250000.0,9000000.0,11000000.0,21000000.0,2000000.0,16000000.0,1000000.0,17700000.0,21150000.0,25000000.0,31115000.0,27000000.0,17000000.0,12000000.0,2200000.0,22000000.0,15000000.0,2000000.0,14000000.0,12000000.0,22000000.0,18000000.0,24000000.0,23000000.0,90000.0,21000000.0,16000000.0,13000000.0,25000000.0,18000000.0,2686000.0,270000.0,3200000.0,14000000.0,4000000.0,4500000.0,10000000.0,16000000.0,130000.0,18000000.0,5000000.0,7500000.0,4000000.0,4000000.0,20000000.0,19000000.0,8000000.0,3512454.0,20000000.0,6000000.0,2000000.0,4500000.0,6000000.0,20000000.0,24000000.0,9000000.0,2500000.0,12300000.0,8000000.0,20000000.0,12000000.0,8000000.0,29000000.0,6200000.0,4000000.0,3500000.0,7000000.0,16000000.0,4000000.0,15000000.0,31000000.0,1000000.0,5000000.0,10000000.0,30000000.0,22500000.0,500000.0,19000000.0,10000000.0,16000000.0,30000000.0,20000000.0,17000000.0,1500000.0,25000000.0,7000000.0,24000000.0,11000000.0,3000000.0,12000000.0,8000000.0,16000000.0,12000000.0,20000.0,400000.0,5000000.0,15000000.0,19000000.0,18000000.0,5000000.0,15000000.0,15000000.0,2000000.0,6000000.0,20000000.0,15000000.0,35000000.0,1500000.0,22000000.0,28000000.0,34000000.0,10000000.0,1900000.0,700000.0,30000000.0,32000000.0,22000000.0,1000000.0,9400000.0,725000.0,2900000.0,18000000.0,31000000.0,28000000.0,23000000.0,12000000.0,28000000.0,4500000.0,15000000.0,11000000.0,15000000.0,10000000.0,4000000.0,9000000.0,6000000.0,100000.0,7000000.0,6000000.0,24000000.0,4500000.0,14000000.0,2000000.0,810000.0,6500000.0,35000000.0,9000000.0,5500000.0,5000000.0,22000000.0,10000000.0,16000000.0,21000000.0,25000000.0,4500000.0,15000000.0,12000000.0,25000000.0,3000000.0,12000000.0,19800000.0,22000000.0,4000000.0,15000000.0,29000000.0,18000000.0,18000000.0,1200000.0,5500000.0,12000000.0,15000000.0,14000000.0,3500000.0,6000000.0,32000000.0,11000000.0,344.0,14500000.0,13000000.0,14000000.0,24000000.0,15000000.0,19000000.0,12000000.0,20000000.0,3000000.0,17000000.0,8000000.0,35000000.0,23000000.0,1202007.0,14000000.0,2000000.0,10000000.0,1000000.0,5000000.0,7.0,14000000.0,26000000.0,20000000.0,3000000.0,5000000.0,250000.0,11000000.0,7000000.0,6000000.0,1000000.0,11000000.0,18000000.0,120000.0,18000000.0,106000.0,9000000.0,7500000.0,14000000.0,860000.0,1500000.0,5.0,25000000.0,10000000.0,1934000.0,5860000.0,18000000.0,1600000.0,250000.0,10000000.0,19000000.0,100000.0,13000000.0,40000.0,1900000.0,150000.0,9000000.0,8000000.0,3000000.0,25000000.0,50000.0,25000000.0,12000000.0,29000000.0,20000000.0,15000000.0,8500000.0,14000000.0,1000000.0,17000000.0,8500000.0,12000000.0,21000000.0,9000000.0,24000000.0,230000.0,3000000.0,35000000.0,30000000.0,4000000.0,21000000.0,2500000.0,33000000.0,130000.0,8000000.0,15000000.0,15000000.0,4000000.0,25000000.0,10000000.0,25000000.0,28.0,7000000.0,3000000.0,3000000.0,3500000.0,22000000.0,20000000.0,20000000.0,12000000.0,10000000.0,18000000.0,3000000.0,3000000.0,300000.0,6500000.0,10000000.0,18000000.0,8500000.0,22000000.0,2800000.0,5000000.0,15000000.0,12000000.0,12000000.0,4000000.0,16000000.0,35000000.0,13500000.0,7500000.0,11000000.0,1750000.0,4100000.0,14000000.0,5000000.0,20000000.0,30000000.0,9285469.0,4000000.0,3500000.0,4000000.0,19000000.0,20000000.0,10000000.0,20000000.0,850000.0,20000000.0,15000000.0,12500000.0,6500000.0,30000000.0,1750000.0,130000.0,6000000.0,25000000.0,30000000.0,18000000.0,20000000.0,3300000.0,120000.0,24000000.0,26000000.0,500000.0,18000000.0,20000000.0,4520000.0,2700000.0,3500000.0,800000.0,6000000.0,15000000.0,24000000.0,25000000.0,20000000.0,3500159.0,5037000.0,1200000.0,6000000.0,8000000.0,20000000.0,4100000.0,29000000.0,800000.0,13000000.0,7500000.0,13000000.0,7000000.0,6000000.0,35866397.0,2200000.0,6500000.0,7000000.0,24000000.0,26000000.0,3000000.0,30000000.0,2500000.0,17000000.0,1000000.0,35000000.0,5300000.0,12600000.0,8000000.0,35000000.0,9000000.0,22000000.0,19000000.0,12000000.0,30000000.0,5000000.0,2500000.0,151000.0,3005000.0,7800000.0,1500000.0,4000000.0,3000000.0,10000000.0,26000000.0,22000000.0,20000000.0,28000000.0,658000.0,6000000.0,350000.0,4000000.0,8000000.0,777000.0,5000000.0,6000000.0,210000.0,11000000.0,6000000.0,10000000.0,20000000.0,17000000.0,35000000.0,5000000.0,1500000.0,29000000.0,4000000.0,12000000.0,3500000.0,24000000.0,9250000.0,3200000.0,15000000.0,22000000.0,18000000.0,4361898.0,8000000.0,5952000.0,5200000.0,3000000.0,118.0,8500000.0,8000000.0,15000000.0,6500000.0,30000000.0,18000000.0,7700000.0,19000000.0,9000000.0,10000000.0,25000000.0,11400000.0,8000000.0,2500000.0,13000000.0,18000000.0,5000000.0,10500000.0,500000.0,3500000.0,23000000.0,500000.0,5000000.0,7000000.0,9500000.0,7000000.0,17000000.0,12000000.0,32000000.0,3000000.0,6000000.0,300000.0,20000000.0,8000000.0,23000000.0,16000000.0,8500000.0,12000000.0,3900000.0,6400000.0,30000000.0,3500000.0,15000000.0,29000000.0,1250000.0,20000000.0,25000000.0,15000000.0,18000000.0,17010000.0,4500000.0,1000000.0,35000000.0,12000000.0,14500000.0,64000.0,9500000.0,24000000.0,864000.0,886000.0,2650000.0,100000.0,3000000.0,531374.0,5500000.0,439000.0,225000.0,8000000.0,1152000.0,1000000.0,20000000.0,35000000.0,900000.0,16000000.0,18000000.0,10000000.0,16500000.0,8000000.0,15000000.0,23000000.0,6500000.0,10700000.0,6000000.0,15000000.0,30000000.0,11000000.0,13000000.0,17000000.0,850000.0,18000000.0,18000000.0,28000000.0,15000000.0,70000.0,2000000.0,1100000.0,18000000.0,30000000.0,1300000.0,1135654.0,12500000.0,8500000.0,15000000.0,25000000.0,8500000.0,25000000.0,4800000.0,26000000.0,25000000.0,19250000.0,19000000.0,12.0,28000000.0,20000000.0,5000000.0,35000000.0,3000000.0,10000000.0,12000000.0,31000000.0,13000000.0,650000.0,5600000.0,4500000.0,20000000.0,33000000.0,6400000.0,25000000.0,28000000.0,17000000.0,6000000.0,800000.0,850000.0,9500000.0,350000.0,10000000.0,500000.0,12000000.0,12000000.0,5900000.0,134000.0,1000000.0,1070000.0,25000000.0,4000000.0,25000000.0,600000.0,4638783.0,3716946.0,7000000.0,3000000.0,11000000.0,1300000.0,22000000.0,8000000.0,4500000.0,25000000.0,210000.0,300000.0,3352254.0,500000.0,3500000.0,250000.0,34000000.0,1271000.0,950000.0,2090000.0,36000000.0,4200000.0,1114000.0,7200000.0,6000000.0,2000000.0,8000000.0,16000000.0,2500000.0,27000000.0,400000.0,27000000.0,12000000.0,802000.0,14320000.0,11000000.0,5000000.0,1000000.0,65000.0,360000.0,6000000.0,2300000.0,20000000.0,2000000.0,20000000.0,5000000.0,14500000.0,1880006.0,6000000.0,4000000.0,2700000.0,15000000.0,2700000.0,26000000.0,19000000.0,15000000.0,6500000.0,5000000.0,1455000.0,5000000.0,22000000.0,160000.0,2500000.0,35000000.0,9000000.0,20000000.0,3000000.0,19000000.0,20000000.0,27000000.0,23000000.0,16000000.0,20000000.0,30000000.0,1200000.0,25000000.0,30000000.0,31000000.0,15000000.0,4000000.0,2000000.0,6000000.0,15000000.0,25000000.0,7000.0,32000000.0,780000.0,30000000.0,218.0,10000000.0,16000000.0,5000000.0,1200000.0,12000000.0,25000000.0,7000000.0,5000000.0,27000000.0,900000.0,3000000.0,16000000.0,19885552.0,17311.0,245000.0,200000.0,243000.0,2000000.0,2627000.0,1243000.0,2500000.0,3700000.0,3768785.0,3500000.0,15000.0,19000000.0,800000.0,280379.0,3800000.0,5800000.0,747000.0,2500000.0,7000000.0,150000.0,2500000.0,6500000.0,3400000.0,22000000.0,9000000.0,48740.0,22000000.0,10000000.0,10000000.0,9000000.0,3400000.0,5000000.0,15000000.0,25000000.0,3000000.0,1300000.0,6900000.0,11000000.0,2500000.0,10000000.0,6000000.0,4000000.0,17000000.0,13000000.0,14000000.0,17000000.0,8000000.0,18000000.0,5000000.0,20000000.0,891000.0,5200000.0,1530000.0,12000000.0,25697387.0,2079000.0,4000000.0,12000000.0,5000000.0,8256269.0,3000000.0,29000000.0,12806000.0,130000.0,6500000.0,500000.0,10000000.0,700000.0,8000000.0,350000.0,2600000.0,8700000.0,6000000.0,17500000.0,10000000.0,1500000.0,3950000.0,30.0,1400000.0,1200000.0,10000000.0,30000000.0,6000000.0,6000000.0,26000000.0,18339750.0,30000000.0,20000000.0,25000000.0,20000000.0,15000000.0,3500000.0,500.0,2000000.0,14000000.0,4200000.0,3000000.0,20000000.0,35000000.0,12000000.0,13000000.0,7000000.0,25000000.0,3000000.0,5800000.0,1500000.0,25000000.0,30000000.0,28000000.0,15000000.0,2995000.0,19000000.0,4500000.0,9200000.0,30000000.0,6500000.0,1300000.0,1000000.0,2600000.0,30000000.0,25000000.0,25000000.0,25000000.0,2000000.0,8250000.0,15000000.0,1920000.0,2515000.0,8000000.0,30000000.0,300000.0,13000000.0,8000000.0,1500000.0,30000000.0,30000000.0,10000000.0,74050.0,7500000.0,22000000.0,26000000.0,26000000.0,13200000.0,35000000.0,30000000.0,9000000.0,25000000.0,20000000.0,1000000.0,7000000.0,3000000.0,30000000.0,19000000.0,32000000.0,25000000.0,7000000.0,4000000.0,15000000.0,30000000.0,2700000.0,17000000.0,1500000.0,35000000.0,14000000.0,35000000.0,7000000.0,2000000.0,18000000.0,10284523.0,20000000.0,4000000.0,24000000.0,14200000.0,17000000.0,22000000.0,22000000.0,1000000.0,14000000.0,15000000.0,15000000.0,10000000.0,12000000.0,15000000.0,1000000.0,169000.0,30000000.0,12000000.0,25000000.0,4800000.0,31000000.0,15000000.0,7500000.0,28000000.0,35000000.0,26000000.0,25000000.0,25000000.0,3000000.0,1100000.0,15000000.0,4750000.0,37665000.0,3500000.0,20000000.0,17000000.0,6000000.0,30000000.0,28000000.0,20000000.0,6500000.0,13000000.0,3000000.0,12000000.0,2000000.0,1380000.0,15000000.0,25000000.0,2000000.0,30000000.0,27000000.0,12899867.0,8000000.0,9000000.0,475000.0,20000000.0,18000000.0,6500000.0,950000.0,8000000.0,1601792.0,17000000.0,558000.0,6000000.0,15000000.0,8000000.0,400000.0,9600000.0,1700000.0,25000000.0,5000000.0,1000000.0,1000000.0,8000000.0,11000000.0,25000000.0,12000000.0,33000000.0,4000000.0,30000000.0,2160000.0,18000000.0,750000.0,12000000.0,20000000.0,12000000.0,35000000.0,8000000.0,700000.0,12000000.0,662141.0,23000000.0,15000000.0,17500000.0,5800000.0,900000.0,6500000.0,20000000.0,2000000.0,30000000.0,35000000.0,6000000.0,1549000.0,30000000.0,76000.0,11000000.0,450000.0,19000000.0,20000000.0,12000000.0,12000000.0,20000000.0,20000000.0,20000000.0,13000000.0,20000000.0,26000000.0,11.0,100000.0,6000000.0,2000000.0,15000000.0,9500000.0,10000000.0,2000000.0,1200000.0,12000000.0,35000000.0,15000000.0,12000000.0,4000000.0,12000000.0,2000000.0,22000000.0,16800000.0,500000.0,21000000.0,4000000.0,15000000.0,21000000.0,32000000.0,19000000.0,9000000.0,20000000.0,13000000.0,30000000.0,10000000.0,100000.0,2000000.0,25000000.0,17000000.0,20000000.0,16000000.0,13000000.0,13000000.0,15500000.0,5000000.0,14500000.0,3700000.0,5000000.0,10000000.0,30000000.0,10000000.0,15000000.0,994000.0,12000000.0,818418.0,13000000.0,2000000.0,8.0,11000000.0,16500000.0,12000000.0,11000000.0,20000000.0,20000000.0,20000000.0,21000000.0,16000000.0,18000000.0,25000000.0,20000000.0,15500000.0,25000000.0,19000000.0,10000000.0,30000000.0,22000000.0,8000000.0,4200000.0,2380000.0,15000000.0,160000.0,4000000.0,20000000.0,9000000.0,30000000.0,2000000.0,1000000.0,10200000.0,8000000.0,25000000.0,16000.0,10000000.0,2000000.0,250000.0,9000000.0,2224000.0,16000000.0,25000000.0,9000000.0,17000000.0,12000000.0,28000000.0,4000000.0,20000000.0,16500000.0,6000000.0,25000000.0,20000000.0,15000000.0,20000000.0,15000000.0,852510.0,2000000.0,23000000.0,2200000.0,24000000.0,4000000.0,8000000.0,22000000.0,25000000.0,15000000.0,22000000.0,25000000.0,16000000.0,21000000.0,25000000.0,12000000.0,30000000.0,27500000.0,16000000.0,19000000.0,30000000.0,8000000.0,3800000.0,15000000.0,10000000.0,18000000.0,14000000.0,1000000.0,25000000.0,3.0,17000000.0,4000000.0,18000000.0,24000000.0,8000000.0,9100000.0,20000000.0,7500000.0,10000000.0,5000000.0,900000.0,1300000.0,20000000.0,25000000.0,35000000.0,15000000.0,2600000.0,1500000.0,20000000.0,35000000.0,30000000.0,12000000.0,50000.0,15000000.0,2000000.0,7000000.0,35000000.0,15000000.0,23000000.0,8376800.0,10000000.0,1000000.0,20000000.0,30000000.0,15000000.0,18000000.0,2000000.0,8000000.0,3500000.0,25000000.0,2000000.0,2500.0,20000000.0,24000000.0,300000.0,7000000.0,16000000.0,25000000.0,6000000.0,35000000.0,20000000.0,12000000.0,38000000.0,4000000.0,25000000.0,30000000.0,3500000.0,600000.0,7000000.0,5000000.0,5000000.0,9000000.0,5000000.0,5000000.0,500000.0,259000.0,103000.0,6000000.0,11000000.0,5200000.0,20000000.0,20000000.0,15000000.0,20000000.0,30000000.0,700000.0,21000000.0,15000000.0,5000000.0,15000000.0,27000000.0,27000000.0,13000000.0,8500000.0,8000000.0,2000000.0,4000000.0,25000000.0,15000000.0,3800000.0,25000000.0,22000000.0,7000000.0,16000000.0,3500000.0,79000.0,20000000.0,4002313.0,20000000.0,27000000.0,9000000.0,10000000.0,200000.0,24000000.0,25100000.0,20000000.0,11000000.0,20000000.0,7500000.0,12000000.0,30000000.0,18000000.0,2000000.0,25000000.0,32000000.0,28000000.0,6000000.0,10800000.0,19000000.0,6000000.0,20000000.0,20000000.0,12500000.0,3500000.0,500000.0,25000000.0,20500000.0,20000000.0,6000000.0,3000000.0,6000000.0,4000000.0,20000000.0,32000000.0,11715578.0,25000000.0,15000000.0,8000000.0,2600000.0,9750000.0,16000000.0,4000000.0,5000000.0,12000000.0,1500000.0,17000000.0,7275000.0,19000000.0,19000000.0,18000000.0,200000.0,8500000.0,13000000.0,5000000.0,11500000.0,280.0,9500000.0,20000000.0,20000000.0,5000000.0,35000000.0,18000000.0,1700000.0,4000000.0,15000000.0,25000000.0,20000000.0,15000000.0,30000000.0,20000000.0,11000000.0,5750000.0,1000000.0,8000000.0,800000.0,1000000.0,15000000.0,15000000.0,3000000.0,5000000.0,500000.0,7500000.0,36500000.0,66000.0,30000000.0,23000000.0,20000000.0,3400000.0,14000000.0,20000000.0,20000000.0,250000.0,20000000.0,18000000.0,1000000.0,15000000.0,230000.0,12000000.0,15000000.0,17000000.0,15000000.0,855000.0,700000.0,2000000.0,30000000.0,33000000.0,24000000.0,16000000.0,22000000.0,8000000.0,88000.0,4000000.0,18000000.0,8500000.0,15000.0,10000000.0,20000000.0,75.0,7000000.0,6000000.0,15000000.0,18500000.0,23600000.0,11500000.0,12500000.0,7500000.0,970000.0,15000000.0,2300000.0,14700000.0,590235.0,11000000.0,8000000.0,2900000.0,250000.0,8.0,6000000.0,28000000.0,9000000.0,30000000.0,450.0,10000000.0,10000000.0,25000000.0,6500000.0,1089360.0,5700000.0,26000000.0,2500000.0,25000000.0,3600000.0,20000000.0,12000000.0,15000.0,7000000.0,4700000.0,25000000.0,4000000.0,1500000.0,1400000.0,20000000.0,16000000.0,19000000.0,4000000.0,20000000.0,5000000.0,425000.0,15000000.0,9000000.0,26000000.0,1500000.0,250000.0,31000000.0,18000000.0,13000000.0,3000000.0,10000.0,12000000.0,30000000.0,28000000.0,7000000.0,14000000.0,15000000.0,20000000.0,25000000.0,5600000.0,12000000.0,19000000.0,17000000.0,20000000.0,7300000.0,16000000.0,14000000.0,9000000.0,3000000.0,2600000.0,5000000.0,32000000.0,27000000.0,15000000.0,373000.0,5000000.0,14000000.0,33000000.0,3500000.0,28000000.0,4500000.0,10000000.0,5500000.0,4.0,21000000.0,5641880.0,15000000.0,12000000.0,25000000.0,10000000.0,7000000.0,967686.0,35000000.0,800000.0,100000.0,3500000.0,1987650.0,9000000.0,2000000.0,15000000.0,13000000.0,15000000.0,3500000.0,4500000.0,12902809.0,322000.0,5000000.0,12000000.0,4500000.0,24000000.0,25000000.0,10000000.0,5000000.0,30000000.0,823258.0,1800000.0,20000000.0,19000000.0,1000000.0,20000000.0,32000000.0,20000000.0,8000000.0,30000.0,14000000.0,8000000.0,3800000.0,1.0,20000000.0,10000000.0,20000000.0,30000.0,22000000.0,2000000.0,500000.0,12500000.0,4000000.0,7.0,15000000.0,18000000.0,2270000.0,500000.0,22000000.0,20000000.0,25000000.0,12000000.0,8700000.0,4000000.0,3000000.0,20000000.0,18000000.0,22000000.0,30000000.0,8000000.0,18000000.0,25000000.0,4500000.0,7000000.0,12500000.0,25000000.0,10000000.0,17000000.0,65000.0,2500000.0,27000000.0,8000000.0,30000000.0,15000000.0,24000000.0,5000000.0,7000000.0,25000000.0,5000000.0,1500000.0,7000000.0,30000000.0,9100000.0,11000000.0,1119000.0,2000000.0,13000000.0,93.0,15000000.0,10000000.0,10000000.0,6000000.0,19000000.0,25000000.0,10400000.0,592.0,10000000.0,15000000.0,2500000.0,3500000.0,8000000.0,6000000.0,1500000.0,3000000.0,10831173.0,6500000.0,3.0,21000000.0,12000000.0,19000000.0,6000000.0,30000000.0,1500000.0,3000000.0,14734000.0,7400000.0,15000000.0,4000000.0,3900000.0,6800000.0,18000000.0,2500000.0,21000000.0,32000000.0,2000000.0,4317946.0,16000000.0,9500000.0,2000000.0,3906840.0,14350531.0,5000000.0,3200000.0,20000000.0,30000000.0,20000000.0,32000000.0,337.0,10000000.0,4090000.0,20000000.0,15000000.0,134005.0,15000000.0,6000000.0,30000000.0,410000.0,20000000.0,20000000.0,10000000.0,15774948.0,10000000.0,9000000.0,3837625.0,25000000.0,28000000.0,9000000.0,25000000.0,19000000.0,7000000.0,27000000.0,784170.0,25000000.0,17000000.0,100000.0,7000000.0,650000.0,20000000.0,3000000.0,13000000.0,8000000.0,4000000.0,10000000.0,24000000.0,28000000.0,25000000.0,8000000.0,15000000.0,25000000.0,12500000.0,500000.0,6250000.0,17000.0,8000000.0,15000000.0,26400000.0,5000000.0,5000000.0,4000000.0,24000000.0,35000000.0,7000000.0,14000000.0,25000000.0,3500000.0,5000000.0,25000000.0,6500000.0,20000000.0,12000000.0,30000000.0,30000000.0,17000000.0,2000000.0,36000000.0,19100000.0,20000000.0,4000000.0,29000000.0,8000000.0,20000000.0,250000.0,6400000.0,8000.0,3062000.0,10500000.0,15000000.0,10000000.0,25000000.0,12000000.0,12500000.0,5000000.0,2361000.0,45202.0,7700000.0,12000000.0,30000000.0,8000000.0,10000000.0,1000000.0,25000000.0,13000000.0,3000000.0,25000000.0,23000000.0,5000000.0,17000000.0,15000000.0,750000.0,5000000.0,13000000.0,15000000.0,17000000.0,11000000.0,250000.0,850000.0,2000000.0,5650000.0,23000000.0,4000000.0,1000000.0,12000000.0,12000000.0,4798235.0,10000000.0,10000000.0,20000000.0,4000000.0,12000000.0,5000000.0,7500000.0,1100000.0,30000000.0,930000.0,2000000.0,30000000.0,26000000.0,10000000.0,30000000.0,12000000.0,25000000.0,6400000.0,30000000.0,6600000.0,12000000.0,5000000.0,10000000.0,35000000.0,16000000.0,1200000.0,20000000.0,12468389.0,20500000.0,14000000.0,750000.0,125000.0,9000000.0,17000000.0,4600000.0,12000000.0,10000000.0,7000000.0,25000000.0,1800000.0,16000000.0,8000000.0,10000000.0,1.0,22000000.0,8000000.0,2000000.0,35000000.0,26000000.0,5000000.0,3000000.0,14000000.0,25000000.0,17000000.0,3000000.0,6000000.0,17000000.0,20000000.0,30000000.0,2500000.0,32000000.0,12000000.0,7000000.0,13000000.0,3800000.0,250000.0,2000000.0,14000000.0,14000000.0,12500000.0,8000000.0,6900000.0,2500000.0,9500000.0,947000.0,15400000.0,12000000.0,3000000.0,15000000.0,30000000.0,1400000.0,5000000.0,20000000.0,2500000.0,15000000.0,1000000.0,500000.0,17000000.0,15000000.0,2500000.0,35000000.0,8900000.0,5000000.0,12000000.0,10000000.0,30000000.0,26350000.0,13000000.0,500000.0,4437508.0,20000000.0,20000000.0,11000000.0,5773100.0,25000000.0,15000000.0,3730500.0,2840000.0,20000000.0,12000000.0,20000000.0,2500000.0,15000000.0,100000.0,6300000.0,3550000.0,6000000.0,13400000.0,6500000.0,900000.0,30000000.0,13000000.0,28000000.0,4000000.0,1000000.0,11500000.0,3000000.0,35000000.0,3500000.0,300000.0,5000000.0,12000000.0,10000000.0,225000.0,30000000.0,5000000.0,5000000.0,13000000.0,15000000.0,6000000.0,13000000.0,3900000.0,17000000.0,20000000.0,8500000.0,1200000.0,25000000.0,5500000.0,10000000.0,20000000.0,25000000.0,1200000.0,3860000.0,6200000.0,10000000.0,180000.0,2500000.0,4800000.0,11000000.0,31192.0,1500000.0,23000000.0,2000000.0,10000000.0,10000000.0,500000.0,4600000.0,35000000.0,3000000.0,15000000.0,6000000.0,13500000.0,6000000.0,20000000.0,20000000.0,2500000.0,4600000.0,2000000.0,2200000.0,18000000.0,12400000.0,250000.0,4000000.0,5200000.0,25000000.0,28000000.0,7000000.0,35000000.0,12000000.0,25000000.0,1000000.0,12000000.0,18000000.0,27220000.0,11000000.0,50.0,16000000.0,16000000.0,5500000.0,18000000.0,11000000.0,22000000.0,4900000.0,30000000.0,1500000.0,5500000.0,20000000.0,11000000.0,12000000.0,18000000.0,7100000.0,30000000.0,4300000.0,10000000.0,1052753.0,12000000.0,5000000.0,15000000.0,8500000.0,100000.0,30000000.0,28000000.0,25000000.0,20000000.0,9000000.0,15000000.0,5000000.0,103000.0,12000000.0,17000000.0,2159280.0,26000000.0,13000000.0,11000000.0,22000000.0,35000000.0,25000000.0,110000.0,7000000.0,23000000.0,5000000.0,30000000.0,1.0,4620000.0,14000000.0,32000000.0,7200000.0,1800000.0,1500000.0,5000000.0,1000000.0,12000000.0,2300000.0,22000000.0,18000000.0,15000000.0,7000000.0,10000000.0,2000000.0,3500000.0,7700000.0,3000000.0,12516654.0,5000000.0,18000000.0,33000000.0,35000000.0,8500000.0,20000000.0,4000000.0,20000000.0,12500000.0,8000000.0,28000000.0,13300000.0,6000000.0,6000000.0,9500000.0,22000000.0,30000000.0,290000.0,5000000.0,25500000.0,1500000.0,200000.0,25000000.0,4500000.0,5000000.0,17000000.0,33000000.0,12000000.0,28000000.0,2000000.0,750000.0,10900000.0,16000000.0,1400000.0,5000000.0,15000000.0,11000000.0,318000.0,8000000.0,25000000.0,12700000.0,17500000.0,19700000.0,3512454.0,4357373.0,500000.0,6000000.0,18000000.0,4141459.0,4000000.0,24000000.0,5900000.0,20000000.0,2000000.0,2200000.0,3300000.0,2900000.0,18000000.0,9000000.0,4000000.0,15000000.0,5500000.0,13000000.0,2400000.0,12250000.0,16800000.0,22000000.0,25000000.0,17000000.0,4000000.0,15.0,11000000.0,7000000.0,6500000.0,12000000.0,5000000.0,5000000.0,22000000.0,5000000.0,28000000.0,1000000.0,12600000.0,13200000.0,1000000.0,28000000.0,5000000.0,5000000.0,16000000.0,15000000.0,19800000.0,2800000.0,25000000.0,5500000.0,26000000.0,20000000.0,10500000.0,13000000.0,28000000.0,16000000.0,5000000.0,8500000.0,9000000.0,4000000.0,15000000.0,10000000.0,3600000.0,24000000.0,8000000.0,22361.0,30000000.0,20000000.0,5000000.0,15000000.0,560000.0,15000000.0,1300000.0,6500000.0,20000000.0,7000000.0,800000.0,79000.0,9000000.0,22500000.0,5000000.0,6600000.0,7000000.0,5000000.0,4000000.0,20000000.0,400000.0,20000000.0,1000000.0,4900000.0,20000000.0,15000000.0,10000000.0,25000000.0,2500000.0,14000000.0,13000000.0,750000.0,7500000.0,1000000.0,26000000.0,13000000.0,10.0,10500000.0,3000000.0,2000000.0,9000000.0,9000000.0,600000.0,5000000.0,500000.0,7000000.0,9272437.0,10000000.0,1000000.0,27563396.0,750000.0,7000000.0,7000000.0,4000000.0,25000000.0,1500000.0,8500000.0,10.0,12000000.0,11000000.0,8000000.0,8000000.0,8000000.0,3500000.0,447524.0,2000000.0,700000.0,5500000.0,14000000.0,2000000.0,1000000.0,1816720.0,12000000.0,23000000.0,4000000.0,14000000.0,3000000.0,10000000.0,11000000.0,3300000.0,35000000.0,2800000.0,6400000.0,10000000.0,15000000.0,8500000.0,4000000.0,18000000.0,17000000.0,1000000.0,7000000.0,1950000.0,25000000.0,6700000.0,11000000.0,2700000.0,20000000.0,25000000.0,5000000.0,500000.0,9500000.0,8000000.0,25000000.0,10000000.0,600000.0,10000000.0,6000000.0,3.0,3500000.0,10000000.0,18000000.0,5500000.0,11800000.0,10000000.0,4000000.0,4000000.0,5000000.0,3300000.0,336029.0,3700000.0,13360000.0,3000000.0,2800000.0,1900000.0,1100000.0,5579750.0,6000000.0,5510000.0,30000000.0,6000000.0,400000.0,20000000.0,5400000.0,11000000.0,11000000.0,20000000.0,26000000.0,31500000.0,15000000.0,1823152.0,240000.0,10920000.0,2745000.0,445000.0,9000000.0,1500000.0,17000000.0,11000000.0,6900000.0,19500000.0,11000000.0,14000000.0,3000000.0,5000000.0,30000000.0,15000000.0,4000000.0,2500000.0,9700000.0,3500000.0,14800000.0,5000000.0,18000000.0,3250000.0,5000000.0,6000000.0,6843500.0,11000000.0,5940000.0,3300000.0,100000.0,20000000.0,1300000.0,310000.0,14000000.0,11000000.0,30000000.0,30000000.0,8000000.0,14000000.0,13000000.0,3000000.0,6000000.0,5000000.0,3500000.0,5000000.0,8000000.0,5000000.0,19500000.0,10000000.0,28000000.0,5000000.0,100000.0,25000000.0,500000.0,50000.0,11180.0,16000000.0,15000000.0,14000000.0,6000000.0,3000000.0,25000000.0,15000000.0,5000000.0,6000000.0,6000000.0,1556288.0,25000000.0,25496629.0,12560000.0,2500000.0,2000000.0,2200000.0,130000.0,10000000.0,28000000.0,11097000.0,6400000.0,15000000.0,25000000.0,20000000.0,1000000.0,19000000.0,10000000.0,20000000.0,4100000.0,7400000.0,220000.0,2000000.0,3000000.0,18000.0,500000.0,7000000.0,10000000.0,18000000.0,2000000.0,22000000.0,3196621.0,5000000.0,26000000.0,12000000.0,30000000.0,200000.0,12000000.0,15000000.0,20000000.0,1379375.0,10000000.0,5000000.0,25000000.0,11930000.0,15000000.0,12000000.0,5000000.0,390000.0,380000.0,1300000.0,1000000.0,20.0,25000.0,11000000.0,8900000.0,17000000.0,23400000.0,3000000.0,500000.0,1500000.0,224056.0,6200000.0,3800000.0,5904067.0,10000000.0,9600000.0,1.0,1300000.0,1050255.0,3000000.0,10000000.0,20000000.0,22500000.0,19500000.0,3849796.0,28000000.0,25000000.0,26000000.0,12000000.0,2000000.0,10000000.0,4500000.0,6700000.0,5200000.0,250000.0,18000000.0,23000000.0,4500000.0,13500000.0,10000000.0,5000000.0,20000000.0,11500000.0,2500000.0,722083.0,8500000.0,6400000.0,884130.0,20000000.0,1400000.0,10721568.0,5000000.0,15000000.0,35000000.0,18500000.0,35000000.0,350000.0,1300000.0,14000000.0,6900000.0,143149.0,2300000.0,2400000.0,10000000.0,750000.0,7000000.0,5990000.0,3000000.0,7500000.0,3750000.0,130.0,13100000.0,5.0,4200000.0,800000.0,7000000.0,3000000.0,3230939.0,1333333.0,2915739.0,440141.0,13000000.0,13000000.0,1000000.0,17000000.0,8000000.0,16000000.0,29000000.0,18000000.0,300000.0,13000000.0,15000000.0,1300000.0,700000.0,3000000.0,400000.0,10000000.0,4000000.0,5000000.0,4000000.0,325000.0,2100000.0,16000000.0,27000000.0,30000000.0,20000000.0,10000000.0,29000000.0,20000000.0,10500000.0,9200000.0,7900000.0,6100000.0,620000.0,5900000.0,500000.0,500000.0,500000.0,500000.0,500000.0,500000.0,500000.0,500000.0,25000000.0,20000000.0,16500000.0,30000000.0,2200000.0,1.0,16000000.0,10000000.0,17000000.0,200000.0,500000.0,22000000.0,3500000.0,137731.0,8575000.0,19000000.0,5000000.0,3537415.0,3200000.0,4881000.0,30000000.0,3000000.0,500.0,2000000.0,4000000.0,3347850.0,5980000.0,5069632.0,521873.0,10000000.0,4900000.0,10000000.0,19000000.0,10400000.0,1900000.0,4180000.0,25000000.0,6700000.0,3500000.0,75000.0,20000000.0,12000000.0,9900000.0,5500000.0,5000000.0,5.0,13500000.0,9000000.0,9000000.0,9804690.0,120000.0,8820000.0,9900000.0,15000000.0,32000000.0,4000000.0,4531653.0,5210000.0,25000000.0,200000.0,20000000.0,8000000.0,15000000.0,8500000.0,5000000.0,18700000.0,15050000.0,8138338.0,3250000.0,1000000.0,15000000.0,2115000.0,762241.0,7500000.0,6500000.0,6500000.0,2000000.0,5000000.0,3800000.0,9000000.0,1500000.0,10300000.0,8000000.0,500.0,12823507.0,9000000.0,10000000.0,10000000.0,9000000.0,12000000.0,26000000.0,17000000.0,5000000.0,4000000.0,4500000.0,12156348.0,14000000.0,10000000.0,2500000.0,9000000.0,5000.0,135000.0,30000000.0,13000000.0,25000000.0,11178.0,450000.0,300000.0,24000000.0,6000000.0,3000000.0,7000000.0,25000000.0,4300000.0,15000000.0,21500000.0,20000000.0,30000000.0,30000000.0,18000000.0,8000000.0,7400000.0,10000000.0,1500000.0,7500000.0,25000000.0,3500000.0,3500000.0,18000000.0,5000000.0,5000000.0,100000.0,4000000.0,10000000.0,1000000.0,300000.0,32745300.0,6000000.0,20000000.0,30000000.0,10000000.0,25000000.0,5000000.0,25000000.0,940000.0,20000000.0,400000.0,17820000.0,3500000.0,20000000.0,7000000.0,10000000.0,10500000.0,22000000.0,7075038.0,12000000.0,10000000.0,2800000.0,916000.0,950000.0,6000000.0,65700.0,64200.0,707503.0,2800000.0,3500000.0,2000000.0,6500000.0,3200000.0,1300000.0,5000000.0,7400000.0,10500000.0,3.0,20000000.0,3500000.0,3300000.0,1000000.0,2000000.0,6000000.0,2153912.0,2000000.0,3500000.0,3000000.0,7000000.0,3500000.0,5000000.0,2500000.0,6000000.0,5000000.0,5000000.0,3000000.0,2500000.0,4000000.0,82000.0,21000000.0,7000000.0,7400000.0,2000000.0,10000000.0,5300000.0,30000000.0,8500000.0,8520000.0,16000000.0,2000000.0,2000000.0,3000000.0,2196531.0,11000000.0,12000000.0,750000.0,800000.0,2000000.0,5000000.0],\"xaxis\":\"x\",\"y\":[81452156.0,135000000.0,4300000.0,49800000.0,27400000.0,1738611.0,39363635.0,122195920.0,21284514.0,23574130.0,23341568.0,6700000.0,28215918.0,25836616.0,2042530.0,5781885.0,529766.0,10300000.0,8175346.0,19800000.0,560069.0,41205099.0,28262574.0,32392047.0,6278139.0,14702438.0,141407024.0,851545.0,31596911.0,1275000.0,178104.0,13071518.0,25405445.0,16140822.0,7563728.0,19075720.0,7412216.0,1148752.0,2122561.0,66000000.0,1.0,110627965.0,472370.0,16.0,8349430.0,5780000.0,50012507.0,2616503.0,5535405.0,26488734.0,23450000.0,3151130.0,22200000.0,5887457.0,12201255.0,7830611.0,3049135.0,26325256.0,2474000.0,21665468.0,7603766.0,5.0,50282766.0,45284974.0,2832826.0,213928762.0,152322.0,18552460.0,12400000.0,11300653.0,9771658.0,28341469.0,4064495.0,12000000.0,10032765.0,24048000.0,182057016.0,15119639.0,107217396.0,1862805.0,94000000.0,4858139.0,18090181.0,51132598.0,20079850.0,2000000.0,101646581.0,29392418.0,20851521.0,36800000.0,8946600.0,32255440.0,21011500.0,428868.0,17287898.0,2570145.0,36516012.0,7993039.0,11146270.0,153698625.0,18635620.0,74189677.0,133752825.0,65796862.0,2395231.0,418961.0,11285588.0,27900000.0,15826984.0,15340000.0,116700000.0,27515786.0,11439193.0,23237911.0,10696210.0,35739755.0,3275585.0,1001437.0,22750363.0,7820688.0,48063435.0,33139618.0,11585483.0,7690013.0,75634409.0,53898845.0,56505065.0,12281551.0,13670688.0,184925486.0,84300000.0,638641.0,60611975.0,16675000.0,55675257.0,4939939.0,9789900.0,2500000.0,10070000.0,57400547.0,74151346.0,20080020.0,15000000.0,24769466.0,3014000.0,14048372.0,9440272.0,16491080.0,25023434.0,29359216.0,13269963.0,9482579.0,17193231.0,4619014.0,116400000.0,33459416.0,22231658.0,17917287.0,5600000.0,12643776.0,3011195.0,300000.0,20483423.0,431326.0,7011317.0,22611954.0,15116634.0,7200000.0,4500000.0,9500000.0,28000000.0,36764313.0,4500000.0,13275000.0,25000000.0,25000000.0,13474588.0,10462500.0,1000000.0,72070731.0,10000000.0,12000000.0,33754967.0,5000000.0,23217674.0,68700000.0,63463.0,2270000.0,6000000.0,24464742.0,7000000.0,8750000.0,2279000.0,3981000.0,2000000.0,3202000.0,35000000.0,5.0,1423000.0,42000000.0,9644124.0,9600000.0,30000000.0,10750000.0,17570324.0,25.0,51702483.0,16900000.0,41590886.0,49620.0,28200000.0,154864401.0,22182353.0,102272727.0,1600000.0,17900000.0,29800000.0,32101000.0,13417292.0,1985001.0,5731103.0,405000.0,147298761.0,4505922.0,4000000.0,18344729.0,11833696.0,62493712.0,20045115.0,25333333.0,50700000.0,3000000.0,213954274.0,14661007.0,138530565.0,30218387.0,62548947.0,10725228.0,30036000.0,8000000.0,1227324.0,20300385.0,41833347.0,13878334.0,21378361.0,50244700.0,17985893.0,5028948.0,1100000.0,1794187.0,14743391.0,33946224.0,29.0,3779620.0,108981275.0,30857814.0,183316455.0,6000000.0,1000000.0,69995385.0,26589000.0,13129846.0,5321508.0,3200000.0,46836394.0,104931801.0,4069653.0,32000000.0,115229890.0,47542841.0,46357676.0,51973029.0,23000000.0,38251425.0,21500000.0,85000000.0,159616327.0,78371200.0,242623.0,26828365.0,5080409.0,104945305.0,2247465.0,27200000.0,30000000.0,4307000.0,44017374.0,52287414.0,5923044.0,11744471.0,50000000.0,70906973.0,159157447.0,119418501.0,89800000.0,553171.0,5900000.0,16217773.0,86273333.0,2015810.0,11000000.0,83320000.0,8000000.0,146900000.0,4736202.0,77737889.0,10006806.0,20966644.0,22244207.0,34700291.0,3250000.0,102308889.0,2181987.0,92823546.0,31973249.0,11403529.0,25792310.0,33800000.0,25504513.0,60922980.0,24444121.0,2503829.0,96900000.0,70200000.0,96800000.0,87000000.0,133000000.0,44726644.0,181813770.0,15171476.0,46044400.0,187884007.0,87987055.0,153155.0,29180280.0,12803305.0,173046663.0,589304.0,36400360.0,3675201.0,13130349.0,41954997.0,4109095.0,41230799.0,60000000.0,3566637.0,17979739.0,791830.0,67683989.0,2900000.0,10300.0,528428.0,8345056.0,79114085.0,44862187.0,23144499.0,44332015.0,1686429.0,25480490.0,5716080.0,60527873.0,15719109.0,6682098.0,8038061.0,12021272.0,125586134.0,4000000.0,626057.0,12532777.0,6482195.0,85300000.0,2642983.0,43101594.0,68706993.0,32861136.0,58000000.0,51376861.0,13801755.0,10686841.0,31611225.0,225933435.0,25105255.0,3263585.0,39673162.0,5684789.0,46189568.0,55494066.0,64256513.0,27200316.0,17460020.0,302204.0,100000000.0,19204929.0,91549.0,14051384.0,123306987.0,2554476.0,76000000.0,67200000.0,2057193.0,46905889.0,4562146.0,13835130.0,21567853.0,1980338.0,45779.0,18814720.0,19165560.0,27007143.0,8026971.0,29202884.0,10680275.0,5879254.0,25605015.0,900000.0,2375097.0,3221152.0,4358000.0,2594000.0,7630000.0,4460000.0,7433101.0,6000000.0,13500000.0,11000000.0,23650000.0,7800000.0,36000000.0,30500000.0,9600000.0,3000000.0,43656822.0,37600000.0,28350000.0,27379978.0,37402877.0,44785053.0,41158757.0,117235147.0,106260000.0,58972904.0,43984230.0,145793296.0,2300000.0,12729917.0,51525171.0,29999213.0,44793222.0,72500000.0,22168359.0,34872033.0,59754601.0,21722776.0,36690067.0,32980880.0,21930418.0,19472057.0,19170001.0,14000000.0,70000000.0,25533818.0,14400000.0,17768757.0,11642254.0,14796236.0,44196684.0,35763605.0,20560255.0,122200000.0,40996665.0,14144000.0,30749142.0,120207127.0,153083102.0,61503218.0,84563118.0,271841.0,34670720.0,8373585.0,1277401.0,17507368.0,19000000.0,21288692.0,35841901.0,8153677.0,38625550.0,39514713.0,6706368.0,10631333.0,111858363.0,36602000.0,8551228.0,205843612.0,50752337.0,215880014.0,87404651.0,71215869.0,11137801.0,51000000.0,5656087.0,69821334.0,33000000.0,55041738.0,11582891.0,33697647.0,30471420.0,20766616.0,7433663.0,21200000.0,14000000.0,27100027.0,65705772.0,40542.0,12729678.0,33736689.0,9000000.0,3713768.0,14665733.0,40577001.0,84542002.0,15502112.0,23686027.0,60000000.0,37672350.0,33395426.0,20158808.0,16283667.0,4710749.0,73326666.0,2200000.0,7900000.0,12600000.0,6000000.0,13000000.0,7000000.0,2000000.0,10250000.0,7000000.0,7000000.0,16757163.0,203.0,76270454.0,4500000.0,22921898.0,501818.0,18253415.0,777423.0,51249404.0,103173635.0,21486757.0,7000000.0,124494.0,72527595.0,2075084.0,19629760.0,21706101.0,10389003.0,53000000.0,30331165.0,631221.0,31672907.0,64088552.0,40400657.0,26010864.0,50671850.0,2807390.0,16324573.0,23875127.0,12902790.0,6451628.0,82150642.0,7936012.0,2826523.0,5596708.0,6000000.0,4100000.0,10000000.0,90614445.0,4711220.0,27400000.0,59612888.0,35150960.0,6948633.0,54999651.0,146198896.0,10443316.0,9247881.0,9898412.0,17096053.0,125212904.0,96773200.0,86572238.0,25024919.0,200182160.0,14643997.0,90815558.0,115103979.0,71320000.0,40283321.0,21001563.0,6330054.0,3970078.0,3000000.0,60629159.0,15945534.0,30859000.0,8025872.0,185898.0,77200000.0,41382841.0,52293982.0,42724017.0,103166989.0,13674.0,83957.0,4398989.0,40263020.0,3076820.0,12827813.0,6852450.0,57469467.0,17092453.0,6980986.0,100489151.0,47000000.0,30000000.0,116000000.0,25000000.0,33395426.0,18999718.0,8844595.0,9700000.0,12348905.0,79666653.0,13015688.0,15156200.0,75902208.0,3897569.0,17762705.0,8038508.0,36450736.0,12000000.0,21300000.0,53478166.0,48482.0,28451622.0,84565230.0,8359717.0,10920544.0,368234.0,100.0,2856712.0,4152230.0,5638000.0,14418922.0,861789.0,870751.0,19300000.0,1012189.0,12000000.0,112892319.0,2091037.0,2000000.0,18564088.0,1997807.0,9495408.0,18535191.0,7267585.0,78599508.0,53208180.0,16290976.0,248000000.0,56870414.0,25059640.0,10571408.0,2049595.0,60000000.0,9250000.0,20000000.0,1883811.0,79817939.0,146292009.0,1301121.0,17218023.0,38748395.0,27500000.0,13000000.0,4217115.0,6.0,1499275.0,2000000.0,26518355.0,83453539.0,26570463.0,61399552.0,151668774.0,8946237.0,14011454.0,7292175.0,50041732.0,21133087.0,21821347.0,4978922.0,23438120.0,12299668.0,14363400.0,24922237.0,46122355.0,34967437.0,11373501.0,34251525.0,614202.0,22593409.0,8888143.0,1943649.0,10611160.0,5344577.0,11988469.0,34725000.0,11540607.0,3193102.0,63541777.0,70136369.0,1317657.0,15700000.0,6800000.0,40382659.0,8500000.0,36800000.0,92921203.0,45300000.0,124881062.0,78898765.0,59600000.0,58853106.0,14500000.0,222559.0,10278549.0,966878.0,10508.0,42365581.0,18254702.0,34573780.0,53000000.0,161777836.0,141195658.0,40846082.0,14859394.0,22863596.0,7.0,21028755.0,14000000.0,2023414.0,4729352.0,40903593.0,1027757.0,19905359.0,38119483.0,32056467.0,55260558.0,31559552.0,2297493.0,18653615.0,30652890.0,50100000.0,29548291.0,7179298.0,53977250.0,67872296.0,361712.0,1680358.0,47951979.0,5820015.0,38413606.0,41895491.0,11500000.0,635096.0,1281176.0,10827816.0,10000000.0,65535067.0,88545092.0,29133000.0,206128.0,929606.0,59827328.0,13.0,8434146.0,140021.0,53267000.0,7825000.0,27092880.0,6908797.0,5617391.0,609524.0,3003296.0,48169908.0,88036683.0,36733909.0,121697323.0,4160851.0,16624456.0,2040920.0,2019469.0,48017402.0,30471.0,1631839.0,45554533.0,1160268.0,28780255.0,53187659.0,19181.0,2500000.0,9000000.0,15427192.0,24362772.0,500000.0,1400000.0,4000000.0,20000000.0,28607524.0,50888000.0,46665856.0,140000000.0,39321715.0,5669831.0,4905000.0,53302314.0,45361000.0,141000000.0,37295445.0,16153593.0,32482682.0,22000000.0,45000000.0,16945171.0,1702394.0,2500000.0,1193062.0,202000000.0,78000000.0,42000000.0,38376497.0,4865912.0,11806119.0,20000000.0,123922370.0,56666667.0,91036760.0,9902115.0,327418.0,8500000.0,10000000.0,7600000.0,25965144.0,54215416.0,18432000.0,8200000.0,47126295.0,35007180.0,6000000.0,35000000.0,61276872.0,30867525.0,23689877.0,35509515.0,31800000.0,5241315.0,68106245.0,12372410.0,36609995.0,7230000.0,95461682.0,38435947.0,98235548.0,74787599.0,34266564.0,37036004.0,28200000.0,21709020.0,39846344.0,5108820.0,27728118.0,10409377.0,11390479.0,33771174.0,3728888.0,7235.0,1753979.0,4000000.0,4000000.0,17200925.0,1568749.0,40940662.0,119754278.0,10000000.0,458815.0,2500000.0,81974493.0,185438673.0,97572000.0,22743674.0,28900000.0,10736401.0,119500000.0,7000000.0,15000000.0,61489265.0,125728258.0,33759266.0,20518905.0,38122105.0,28744356.0,32155047.0,100000000.0,24600832.0,36230219.0,17185632.0,6735922.0,17080167.0,20256975.0,299792.0,12121618.0,4420000.0,24000000.0,29800000.0,1300000.0,12800000.0,11000000.0,20627372.0,6000000.0,22812411.0,10755447.0,26386000.0,1458000.0,10000000.0,2600000.0,80035402.0,20400000.0,5217498.0,16000000.0,18016290.0,20173742.0,26330482.0,13609396.0,5200000.0,7282851.0,4385516.0,3180674.0,10037390.0,78756177.0,86930411.0,20000000.0,14296438.0,90449929.0,15843608.0,19125401.0,260562.0,38574362.0,40031879.0,1744858.0,14564027.0,12090735.0,12534961.0,7000000.0,12000000.0,7390108.0,13700000.0,35000000.0,110000000.0,13555988.0,48814909.0,116019547.0,36779296.0,103.0,7060876.0,213525736.0,15185241.0,8613462.0,5849647.0,43848069.0,161001698.0,3468572.0,45833132.0,83557872.0,21032267.0,73180723.0,8.0,12008642.0,5164404.0,71868327.0,33000337.0,8279017.0,25196249.0,7900000.0,2347000.0,18195610.0,91038276.0,779137.0,29400000.0,13276953.0,3221568.0,31623833.0,14000.0,22238696.0,23509382.0,29400000.0,51881013.0,12396383.0,32222567.0,42721196.0,17336370.0,3769990.0,10424470.0,19351569.0,44460850.0,2070806.0,15473333.0,10400000.0,11000000.0,16853487.0,30102717.0,7434726.0,1246141.0,35419397.0,8620929.0,14560084.0,43008075.0,3412497.0,39723096.0,23430766.0,28008462.0,20908467.0,68411275.0,852206.0,30987695.0,39438674.0,65884703.0,71000000.0,16519460.0,29712172.0,1703282.0,136400000.0,39071603.0,34604000.0,4905000.0,57915972.0,20000000.0,84772742.0,24911670.0,83531958.0,57138719.0,5000000.0,177200000.0,29381649.0,16929123.0,64437847.0,72179579.0,6600000.0,1450000.0,8000000.0,2735731.0,8200000.0,10400000.0,25754284.0,17374595.0,85000000.0,141774679.0,5476060.0,18869631.0,670774.0,9797098.0,51684798.0,8247943.0,784990.0,115860.0,171504781.0,46616067.0,13167232.0,3813293.0,28202109.0,17637950.0,43455230.0,6436211.0,1189315.0,84460846.0,22433275.0,13854000.0,7242035.0,1893139.0,34994648.0,9205924.0,14237000.0,20659423.0,19595031.0,4594452.0,13008928.0,216614388.0,74134790.0,10499694.0,117463.0,40485039.0,45892212.0,18671317.0,10166459.0,19738015.0,3916303.0,2420917.0,60864870.0,7237794.0,78247647.0,14697005.0,15704614.0,793775.0,22099847.0,49797148.0,1145404.0,15942628.0,16093651.0,4192440.0,15250000.0,99000.0,43719.0,295206.0,30050028.0,110879513.0,46908987.0,16554699.0,40590000.0,79258538.0,725131.0,14278900.0,31678778.0,19853892.0,13678913.0,373967.0,33788161.0,14010832.0,19693891.0,59217789.0,4790926.0,1667192.0,23619609.0,40222729.0,5271666.0,2402459.0,60000000.0,10600000.0,5000000.0,9697739.0,24185781.0,60780981.0,36642838.0,17292381.0,77516304.0,7206220.0,67182787.0,23978402.0,20117339.0,7316658.0,35976000.0,83304330.0,1270522.0,490475.0,10229331.0,2025238.0,14782676.0,6459020.0,52223306.0,390659.0,1258000.0,31899000.0,27107960.0,46236000.0,26414658.0,12232628.0,67642693.0,173921954.0,66468332.0,71441250.0,5778353.0,10500000.0,16500000.0,31155435.0,80936232.0,9000000.0,30400000.0,87754044.0,92542418.0,44909486.0,76382.0,70752904.0,14110013.0,100000000.0,760883.0,4865000.0,78868508.0,10219460.0,63513743.0,81600000.0,4300000.0,55157539.0,41227069.0,4.0,95789342.0,22030000.0,6413915.0,939423.0,52970014.0,11000000.0,61141030.0,109862682.0,18492362.0,44456478.0,11715321.0,35323292.0,71368.0,2948386.0,25482931.0,2506446.0,15795189.0,10013424.0,33616692.0,5.0,35856053.0,38793283.0,75597042.0,9801375.0,38275483.0,96568.0,13110448.0,3646994.0,705308.0,16000000.0,16951798.0,676698.0,14904.0,5546827.0,19319254.0,10364904.0,6266621.0,34793160.0,2451545.0,416925.0,85.0,41604473.0,14356479.0,3786801.0,12000000.0,3900000.0,5400000.0,4186931.0,11411644.0,12918858.0,22000000.0,37664855.0,1434436.0,240093.0,2891288.0,20458340.0,16856124.0,19184015.0,51842679.0,21075.0,10113733.0,52223306.0,16930185.0,12398628.0,41092328.0,250993.0,62134225.0,9000000.0,10626725.0,34411240.0,75781642.0,43928932.0,4777465.0,22518097.0,25000000.0,15369573.0,29882645.0,6916869.0,9304609.0,10011050.0,589244.0,1132112.0,799674.0,27362712.0,12000000.0,19158074.0,35564473.0,17000000.0,598645.0,10719357.0,14.0,2062066.0,13308.0,15938065.0,237113184.0,64892670.0,3763988.0,22471595.0,40716963.0,6892098.0,12000000.0,216166.0,11740000.0,1400000.0,566736.0,2154696.0,2945600.0,29916207.0,9171289.0,26279000.0,64282312.0,23000.0,56298474.0,41744718.0,21750000.0,109130.0,16838910.0,29027914.0,4245870.0,2807854.0,100000.0,14225876.0,439564.0,2028612.0,33526835.0,27674124.0,51001550.0,39103425.0,8000000.0,18591272.0,32801173.0,5359645.0,27453418.0,8178569.0,840000.0,57588485.0,13060843.0,23367586.0,12633747.0,13273595.0,2200000.0,1596.0,12500000.0,41597830.0,33013805.0,101564935.0,17432163.0,30641770.0,182857.0,23510601.0,90426405.0,150277.0,70687344.0,135680000.0,7175592.0,37799643.0,2000000.0,6792000.0,1432687.0,9237470.0,87055349.0,56489558.0,132675402.0,76578641.0,14483352.0,8690429.0,18686644.0,20000000.0,8586376.0,36000000.0,5519569.0,2816116.0,97837138.0,209151.0,17040871.0,16829545.0,18750246.0,20217080.0,3251794.0,12376563.0,4720371.0,21049053.0,12454768.0,9563393.0,90259536.0,57862.0,55534455.0,464000.0,20298207.0,3897799.0,28650575.0,41400000.0,23562716.0,6153939.0,11511031.0,39267515.0,4922166.0,15368897.0,82719885.0,764083.0,8000000.0,6746000.0,22441323.0,5585154.0,146402.0,4000000.0,1500000.0,110230332.0,68296293.0,37095657.0,58795814.0,23800000.0,12974636.0,17343596.0,11000000.0,2275557.0,2437000.0,50000000.0,3661757.0,5000000.0,48572000.0,33833201.0,57500000.0,1675706.0,63102666.0,11560806.0,742898.0,30553394.0,98185582.0,119723856.0,22765081.0,34000000.0,33208099.0,29174648.0,10000000.0,30238577.0,95708457.0,58878723.0,3031801.0,1477676.0,2120439.0,8100000.0,10000000.0,19.0,70600000.0,8826094.0,118243066.0,57504069.0,49114016.0,21591728.0,21000000.0,174999005.0,4350774.0,21633874.0,38348988.0,6700000.0,10400000.0,15014674.0,3721911.0,6375979.0,858250.0,123509.0,17000000.0,13007551.0,20246790.0,8679814.0,2466444.0,13818181.0,107071655.0,10000000.0,1569918.0,23.0,52277485.0,10012022.0,2944752.0,7808524.0,60427839.0,3432342.0,76488889.0,48878502.0,47624253.0,79567667.0,9000000.0,40084041.0,15556340.0,24046533.0,201957688.0,59509925.0,36144000.0,15379253.0,16057580.0,44065653.0,18532286.0,24941969.0,25000000.0,6933459.0,4651977.0,110996879.0,8089290.0,24517.0,14560247.0,18707466.0,1276000.0,2600000.0,3100000.0,11000000.0,9012000.0,1103757.0,42300873.0,2281000.0,2850000.0,27187653.0,1439000.0,3301446.0,66673516.0,31755742.0,8556940.0,4409328.0,62646763.0,96542059.0,16942795.0,60378584.0,2281585.0,12.0,26533200.0,1238080.0,3283371.0,13290368.0,14110589.0,1044824.0,96060858.0,16980098.0,819939.0,65070412.0,16702864.0,64445708.0,15121165.0,11800000.0,4601043.0,400200.0,19265302.0,14000000.0,72266306.0,1213880.0,238227.0,16209459.0,29331068.0,20796847.0,5001655.0,27685016.0,79384880.0,28818995.0,30411183.0,8112712.0,7411659.0,1.0,102356381.0,72258126.0,4856298.0,36098382.0,5923000.0,16680836.0,31179516.0,27388767.0,122700000.0,55000000.0,29950000.0,10609321.0,11341016.0,54700105.0,2500000.0,30114487.0,30016165.0,129042871.0,293793.0,62852.0,90000000.0,111584787.0,2400000.0,8801940.0,2500000.0,37170057.0,2280148.0,51718367.0,4000000.0,18300000.0,570000.0,9873044.0,22490039.0,3052000.0,34505110.0,11000000.0,5000000.0,191125.0,12000000.0,8862354.0,447741.0,50750000.0,10600497.0,1261000.0,1614266.0,107352.0,8000000.0,58831997.0,3000000.0,12000000.0,144008.0,18634643.0,3788000.0,814666.0,40000000.0,1345903.0,5835247.0,2610000.0,68392977.0,7500000.0,21750000.0,43000000.0,14822346.0,1062253.0,21148829.0,46118097.0,14683921.0,38120905.0,4371000.0,14000000.0,2200000.0,485772.0,7800000.0,28575078.0,36000000.0,5844868.0,11000000.0,167722310.0,30000000.0,305070.0,20146880.0,65497208.0,26713187.0,119114517.0,389503.0,5000000.0,28733290.0,15992615.0,90574188.0,70067909.0,50000000.0,1548955.0,24854765.0,2620000.0,3569939.0,11000863.0,100655.0,26781723.0,22034832.0,23936908.0,29170410.0,2037545.0,69631118.0,70992898.0,13000000.0,16123851.0,12.0,16605763.0,13001257.0,3109904.0,56422687.0,21800302.0,41512007.0,1914166.0,30039392.0,4000000.0,14717854.0,14867514.0,36609966.0,424760.0,50907422.0,1500000.0,61255921.0,1162014.0,183474602.0,109502303.0,8203235.0,103911669.0,24829644.0,116766556.0,29385320.0,40266982.0,115505027.0,10000000.0,7100000.0,174318.0,19724334.0,137365.0,22000000.0,2200000.0,950000.0,9172000.0,5363000.0,2841000.0,3000000.0,2956000.0,8000000.0,12800000.0,3274.0,13680000.0,921548.0,364937.0,14873.0,6800000.0,44566.0,3200000.0,1000000.0,15200000.0,2000000.0,51079064.0,31063038.0,12000000.0,38200000.0,955401.0,42313354.0,2494480.0,29450919.0,6045657.0,660537.0,502758.0,12308521.0,1579260.0,14182492.0,354704.0,18172849.0,8266343.0,205068.0,47410000.0,24078196.0,259012.0,4603929.0,3752426.0,39673161.0,4836637.0,6739141.0,1528163.0,2970.0,1531251.0,229000.0,13000000.0,15306000.0,19271312.0,3849941.0,4099000.0,1954937.0,163536.0,7338987.0,460978.0,14980005.0,21126225.0,38535221.0,54667954.0,11850214.0,603943.0,4069090.0,1600000.0,365134.0,3515061.0,3166000.0,7659918.0,1530216.0,38000000.0,91196419.0,2044892.0,8000000.0,4.0,16361885.0,9000000.0,1461989.0,76669806.0,161000000.0,869325.0,8009329.0,92180910.0,35294470.0,10442808.0,122644820.0,67192859.0,47175038.0,2341309.0,41.0,653621.0,32645546.0,32000000.0,11500000.0,100914445.0,19294901.0,212483.0,6582052.0,11000000.0,27645491.0,6804016.0,257043.0,712294.0,36351350.0,50451307.0,21435321.0,34562222.0,2000000.0,108047131.0,3764219.0,9346177.0,42886719.0,98410061.0,5273000.0,1574623.0,2850263.0,251495.0,11838218.0,39053061.0,13411957.0,120620.0,30000000.0,46770602.0,3360000.0,24000000.0,127392239.0,25473093.0,1750211.0,23727301.0,23563727.0,5728953.0,34252847.0,58405313.0,45742101.0,176153.0,143000.0,22400154.0,109449237.0,57891803.0,100000000.0,19478106.0,15007991.0,1046166.0,82466670.0,7535331.0,10047674.0,2697930.0,18637690.0,18618284.0,144216468.0,60740827.0,15431177.0,49084830.0,866999.0,15785148.0,27610873.0,3500000.0,10000000.0,11098131.0,30526509.0,178043761.0,25224242.0,54600000.0,5048693.0,46201432.0,11588205.0,12482775.0,152925093.0,11875866.0,674918.0,8720000.0,17709155.0,57479076.0,27762648.0,6856989.0,85306374.0,163169.0,17297244.0,84967.0,12036149.0,13350369.0,18564702.0,30536013.0,9584131.0,2405420.0,80578934.0,28000000.0,51053787.0,3752325.0,358574.0,10496317.0,17496992.0,122489822.0,117719158.0,11718595.0,5450815.0,66966987.0,206871.0,14655628.0,113783.0,48548426.0,9500000.0,57231524.0,31070211.0,38159905.0,33889159.0,24793509.0,2636637.0,9879971.0,23006849.0,2260622.0,1615018.0,69623713.0,2438031.0,70000000.0,34742066.0,56308881.0,85582407.0,18948425.0,27105095.0,3919254.0,21170563.0,1831348.0,13368437.0,7022209.0,3261638.0,253527.0,7314027.0,2227000.0,27165581.0,76286096.0,852872.0,95687.0,4386236.0,12762.0,119188334.0,26888376.0,1678874.0,46243000.0,100523181.0,4491986.0,135330182.0,54000000.0,62022014.0,31584901.0,53653224.0,9132000.0,41009669.0,1720953.0,42931041.0,10289.0,114194847.0,12506188.0,12671300.0,4911725.0,566611.0,1606624.0,38505009.0,123384128.0,19179969.0,7000000.0,381420.0,22889018.0,37597471.0,622806.0,495303.0,15304890.0,9524340.0,7096000.0,41480851.0,6000000.0,72778712.0,973525.0,83258226.0,17807569.0,38368909.0,6754898.0,39143839.0,41237648.0,22165608.0,1151330.0,13391174.0,14821658.0,11.0,10178331.0,48027970.0,5179037.0,21000000.0,24000000.0,163876815.0,167000.0,2736000.0,84500122.0,42064105.0,11992014.0,5542025.0,4630045.0,1381665.0,5967038.0,13405595.0,2281089.0,745327.0,41170784.0,13401952.0,49469904.0,480314.0,5914908.0,68673228.0,21510851.0,10337477.0,75511123.0,35078241.0,25399945.0,362222.0,22179430.0,16158487.0,57103895.0,86865564.0,1109660.0,4857367.0,11130889.0,7385434.0,3000000.0,22963701.0,3338228.0,3833507.0,31609243.0,77566815.0,20342161.0,10903846.0,165000.0,80573774.0,4851244.0,8475466.0,30.0,21.0,88489643.0,37311672.0,20138836.0,13196245.0,84146832.0,22217407.0,22222308.0,26193068.0,5367030.0,1196307.0,11772461.0,117760134.0,1237615.0,5549200.0,35300645.0,17500000.0,26810113.0,68000000.0,2019009.0,38862717.0,8176544.0,64238440.0,20710513.0,8059140.0,41637263.0,2955039.0,16930884.0,300000.0,10018.0,35619521.0,426224.0,25037897.0,1000000.0,7177143.0,265198.0,340147.0,24538513.0,28000000.0,18928871.0,94679598.0,46.0,2626800.0,9620399.0,92601050.0,2426851.0,121463226.0,13620075.0,18197398.0,40452643.0,47738099.0,80253908.0,16974459.0,20380.0,1185783.0,1431623.0,29541790.0,11502151.0,9576495.0,46474.0,458232.0,413454.0,59192128.0,56255142.0,147880543.0,68377859.0,24377151.0,54926886.0,92991835.0,11293663.0,75505973.0,24748670.0,2849142.0,34619699.0,14711793.0,143451.0,17804565.0,55184721.0,139352633.0,25005257.0,19777647.0,18479.0,66122026.0,4.0,374743.0,7537453.0,57096190.0,99965753.0,7766240.0,37707444.0,4001121.0,231411584.0,21786738.0,782102.0,82701.0,639000.0,73276047.0,77208711.0,18317151.0,30226144.0,28430000.0,30448000.0,6819587.0,32483410.0,84646831.0,56309766.0,249905.0,34533783.0,111000.0,9229401.0,43650785.0,22730842.0,150816700.0,13000000.0,33000000.0,274661.0,64822796.0,22211426.0,7938872.0,26527510.0,5364858.0,60641.0,5231128.0,6673422.0,54207.0,15425.0,41627431.0,23321954.0,3952448.0,10569964.0,34786960.0,11207130.0,1300000.0,25871834.0,65569869.0,43493123.0,5410749.0,6870249.0,17741298.0,63833449.0,7700000.0,1023156.0,8900000.0,346592.0,1296184.0,82391145.0,6463286.0,42000000.0,220151.0,921000.0,704000.0,2899975.0,53191886.0,14723313.0,8380329.0,27793200.0,5926410.0,13204291.0,68369434.0,31576.0,17600000.0,3533227.0,4040588.0,96408652.0,101624843.0,44352417.0,14894347.0,68282844.0,2033165.0,11125849.0,10785801.0,70442940.0,8762890.0,2725258.0,14109284.0,23530831.0,6230276.0,50007546.0,54947.0,245000.0,27640028.0,6.0,20211394.0,17286299.0,32973937.0,25800.0,8000000.0,42105111.0,29506464.0,36620508.0,38105395.0,7000000.0,19000000.0,40855419.0,31148328.0,25739015.0,38135878.0,19844979.0,27635305.0,92380927.0,276891.0,113857533.0,18755936.0,391410.0,149281606.0,54586584.0,20416563.0,1115493.0,33456317.0,30000000.0,10089373.0,50907234.0,44703995.0,3830137.0,69497.0,333912.0,21972336.0,51155219.0,21888598.0,2000000.0,100734718.0,908847.0,553198.0,558000.0,76514050.0,907456.0,38610009.0,3148182.0,173066.0,14899417.0,11260366.0,23550000.0,91379051.0,11657385.0,3.0,8936663.0,104345682.0,16174377.0,186702.0,831.0,17164377.0,136267476.0,34560577.0,9760104.0,27409889.0,382174.0,1007962.0,4100000.0,109000000.0,1037335.0,5530764.0,32721635.0,90810892.0,18599102.0,791867.0,10000000.0,7202.0,29010817.0,1984662.0,2000000.0,42000000.0,35097815.0,1449945.0,25900.0,500000.0,60722734.0,21834845.0,250000.0,64352607.0,9366227.0,41596251.0,114000000.0,22852638.0,73830340.0,17280326.0,154323.0,5210988.0,15345201.0,1296971.0,113221.0,2260712.0,7070330.0,6405245.0,20455276.0,39421467.0,1200000.0,1179676.0,33965843.0,48428063.0,20645327.0,68729358.0,31556061.0,35424826.0,10848783.0,480000.0,6101046.0,36133014.0,4440055.0,193355800.0,295750.0,17436509.0,134.0,31430334.0,6670712.0,16633035.0,31912793.0,102391382.0,69564.0,27206120.0,26096852.0,2000000.0,40105542.0,4600000.0,8049666.0,1725381.0,68233629.0,10629321.0,296557.0,232732.0,33579813.0,5093707.0,3983912.0,16000000.0,33333531.0,288.0,42333295.0,47536959.0,10589102.0,1521261.0,48298.0,19300483.0,43318349.0,107559.0,2336172.0,766075.0,22942221.0,4884663.0,5300.0,39462438.0,31000000.0,4388563.0,14400000.0,32000.0,435000.0,51416464.0,47801389.0,29922472.0,43498108.0,1017401.0,17872796.0,10604986.0,1143856.0,70000000.0,67918658.0,56000.0,245000.0,15134293.0,40239.0,10652035.0,2357852.0,150000.0,1644755.0,55583804.0,45236543.0,1429299.0,25000000.0,8786375.0,54956140.0,114977104.0,18469680.0,42345360.0,4750000.0,29536299.0,49779728.0,10329747.0,56032889.0,21409028.0,985117.0,18097.0,1479042.0,15000000.0,18409891.0,29000000.0,8459458.0,658000.0,17112713.0,875386.0,14000000.0,44462.0,96188903.0,3606395.0,2995811.0,801000.0,25.0,49050886.0,30638.0,75700498.0,10652498.0,23580000.0,6110000.0,46488.0,4270000.0,39340177.0,867714.0,1000000.0,16566240.0,19152480.0,706000.0,13831503.0,5024782.0,754249.0,317000.0,34705850.0,3200000.0,36000000.0,1040000.0,1000000.0,6814789.0,744816.0,83188165.0,34100000.0,7022728.0,125400.0,967000.0,823258.0,67738090.0,65464324.0,49830607.0,57.0,31327899.0,42045846.0,80547866.0,74952305.0,617000.0,1755212.0,6491240.0,111731.0,2.0,24145613.0,33583175.0,32005248.0,3045943.0,9479718.0,7871522.0,4242978.0,6732980.0,55125.0,7.0,9455232.0,5602431.0,6900000.0,98017.0,851517.0,117224271.0,19829957.0,5285197.0,47355187.0,41424067.0,177512032.0,136150434.0,35692920.0,24188922.0,51148651.0,3453043.0,871279.0,93617009.0,123820.0,453079.0,1083683.0,4644108.0,66821036.0,43165571.0,416498.0,52604.0,16504936.0,18124262.0,8454301.0,4882577.0,23081726.0,5129058.0,3218666.0,20719451.0,5476793.0,187716.0,7644937.0,20348249.0,76000000.0,15500000.0,2019000.0,572809.0,24441725.0,2500000.0,20529194.0,4349187.0,1068682.0,1500000.0,6928068.0,27122040.0,20967660.0,1.0,9069.0,21500000.0,324138.0,4159678.0,1749457.0,3770657.0,97009150.0,748453.0,10654385.0,753808.0,43.0,72417394.0,204940.0,2119994.0,17555141.0,63782078.0,8786756.0,4800080.0,6775121.0,21817298.0,4627375.0,65584679.0,208475.0,7103838.0,47088990.0,71904.0,970816.0,54674226.0,563706.0,14624826.0,40492759.0,120000.0,7306.0,4300000.0,3964682.0,2614773.0,5332926.0,60072596.0,36160375.0,14166853.0,69055695.0,551.0,498974.0,18035000.0,17425000.0,78054825.0,1332231.0,59389433.0,19560274.0,14460000.0,100.0,4634062.0,39300000.0,18.0,741875.0,17273593.0,771499.0,3867000.0,124272124.0,40547440.0,18663238.0,15478800.0,35387212.0,8220215.0,85564310.0,834332.0,36993168.0,24922237.0,1776935.0,382946.0,33245.0,45636368.0,103735.0,5774854.0,10130000.0,1104682.0,1759252.0,30551495.0,10126458.0,10324441.0,163265.0,27462041.0,23057115.0,75993061.0,171760.0,8500000.0,101236.0,39187783.0,133432856.0,62000000.0,3099314.0,27046.0,253899.0,63543328.0,28128670.0,6038942.0,46495.0,27603069.0,19504039.0,205703818.0,11790979.0,17693675.0,30426096.0,13380561.0,2527904.0,15395087.0,3696232.0,841733.0,9612469.0,5728213.0,2128186.0,355688.0,33662874.0,100915.0,177243185.0,3542353.0,35057696.0,484592.0,25034000.0,9400000.0,16810383.0,17511906.0,34942188.0,972512.0,3878993.0,3142154.0,6892000.0,225861.0,1072602.0,22939027.0,64626786.0,5634828.0,303877.0,101758490.0,63100000.0,114956699.0,22000.0,77278331.0,33372606.0,25562924.0,12355798.0,868439.0,78396.0,22772019.0,51723285.0,145000000.0,127730736.0,807535.0,1000000.0,1243961.0,393816.0,43000000.0,5837674.0,530048.0,34522221.0,100000000.0,81272766.0,209696.0,610986.0,4417580.0,32204030.0,25345000.0,11212294.0,34564651.0,8135031.0,4105187.0,66486080.0,30905.0,13101672.0,54819301.0,29657751.0,136836156.0,53909751.0,96070507.0,99357138.0,2556911.0,40346186.0,37710610.0,1428291.0,9206470.0,55089.0,24159934.0,68263166.0,16000000.0,17479.0,29007412.0,6063556.0,161001698.0,4007792.0,3200000.0,8303261.0,73244881.0,1163967.0,9622846.0,9636289.0,167221571.0,8784318.0,21107746.0,12434778.0,1653792.0,3665069.0,1378.0,77112176.0,49000000.0,14400000.0,31083599.0,53676580.0,8493728.0,3010.0,85446075.0,48531470.0,9627492.0,11947954.0,13231461.0,115350426.0,16863583.0,47042000.0,3325038.0,28258060.0,35485056.0,48126384.0,33400000.0,16800000.0,23859.0,1620436.0,24637469.0,13551174.0,1353868.0,7594693.0,44287131.0,33400000.0,12250.0,1120000.0,25762027.0,32726956.0,77712439.0,19422261.0,13521829.0,4100000.0,142817992.0,52302796.0,352810.0,37930465.0,9138338.0,376597.0,946461.0,15608545.0,3358.0,2106557.0,29844753.0,31649.0,66351.0,89237.0,108348.0,1576687.0,1832541.0,116207.0,2804874.0,4636169.0,610792.0,59520298.0,18144030.0,119772232.0,8138788.0,6294161.0,11620000.0,47241945.0,2521.0,1969193.0,60141683.0,146497771.0,444098.0,419953.0,48000000.0,32438988.0,16700000.0,2401510.0,25000.0,63372757.0,48065672.0,97594140.0,911466.0,444575.0,1402307.0,11176469.0,42930462.0,25174316.0,2750275.0,15179302.0,12077441.0,1034589.0,111300.0,27437881.0,31724284.0,11724119.0,68572378.0,35485608.0,5206.0,18000000.0,4900000.0,97542952.0,24261569.0,9747.0,1404.0,432274.0,10016934.0,3428048.0,78378744.0,86175291.0,2861020.0,64076736.0,4820000.0,21587700.0,175742.0,3003.0,10337387.0,10631747.0,10000.0,1165882.0,15600000.0,58510.0,1585582.0,10759.0,1000000.0,23198652.0,21819348.0,89328627.0,19145732.0,31081.0,19255873.0,1066471.0,46089287.0,8352885.0,6854611.0,25000000.0,13500000.0,208000000.0,99206215.0,8371085.0,56825.0,9800000.0,2459895.0,2054941.0,60700000.0,136203.0,13785015.0,35931410.0,115922175.0,2963902.0,87100449.0,62000000.0,5496951.0,3639345.0,83.0,11301649.0,318982.0,99067206.0,10501938.0,7847000.0,15400000.0,2159041.0,36894225.0,3566225.0,47000000.0,16549477.0,1659542.0,17654912.0,7972967.0,18000000.0,62616646.0,10165694.0,653651.0,466088.0,15008161.0,9114264.0,3250000.0,22456509.0,95000.0,82394288.0,8555008.0,71009334.0,187000000.0,6108720.0,151831537.0,55198285.0,3623330.0,100129872.0,71625195.0,15298355.0,51164106.0,18295.0,32935319.0,43058898.0,27330000.0,74188937.0,270000.0,6147.0,47351251.0,388.0,4861022.0,2755584.0,2395000.0,11417362.0,57284237.0,2300000.0,532269.0,12000000.0,86362372.0,4235151.0,21026290.0,4500000.0,24000000.0,22309223.0,21766271.0,36433975.0,22424195.0,48390.0,5155325.0,46000000.0,13954476.0,8109160.0,75143.0,20275812.0,9494789.0,17508518.0,770706.0,34077920.0,2365467.0,5000000.0,49002684.0,26049082.0,52597999.0,5380251.0,15071.0,3485127.0,7800000.0,67800064.0,17137302.0,596000.0,13809.0,2415472.0,1938.0,17834867.0,28831145.0,2627209.0,44030246.0,29789000.0,49100000.0,101332962.0,68896829.0,4635300.0,3000000.0,16505460.0,5867686.0,3500000.0,10429707.0,59209.0,45967935.0,121179.0,63464861.0,38307627.0,3430018.0,7018189.0,30000000.0,115860.0,1200000.0,500000.0,5809330.0,103215094.0,201607.0,44349000.0,70181428.0,23000000.0,100525432.0,6676471.0,282358.0,13092000.0,74918.0,25312387.0,108782847.0,600896.0,31554855.0,5483299.0,45300000.0,88273.0,2295423.0,51029361.0,88880821.0,66980456.0,136621271.0,9221.0,122.0,78874843.0,6860853.0,13865435.0,265452.0,40100000.0,2367161.0,15447154.0,846704.0,1749201.0,9318.0,19054534.0,53830415.0,59744.0,53181600.0,7527232.0,40400.0,3442853.0,32556119.0,41296320.0,1826705.0,6399.0,3000000.0,35926213.0,88761661.0,42070000.0,54837234.0,100654149.0,19682924.0,103590271.0,38697217.0,1964253.0,5169755.0,36869414.0,22896728.0,24267.0,12096300.0,9630444.0,721651.0,68129518.0,11110975.0,1189612.0,123726688.0,1500000.0,30127963.0,16000000.0,3721345.0,31244858.0,14618727.0,4214668.0,170000.0,21571189.0,15520023.0,43884652.0,1851517.0,1310673.0,2450846.0,350006.0,66787908.0,7888102.0,27187375.0,395000.0,3494070.0,12007070.0,52501541.0,28883511.0,53213633.0,4684165.0,9216.0,120000000.0,12000000.0,1359910.0,26501323.0,34592118.0,98441954.0,10000000.0,23000000.0,1675381.0,14674076.0,26055.0,48965210.0,809000.0,12200000.0,11276.0,15172408.0,11672363.0,104303851.0,2691899.0,29193330.0,4000000.0,2360281.0,12400000.0,1750000.0,39171130.0,4200000.0,43528634.0,11.0,32248241.0,62076141.0,35991087.0,1411927.0,53086.0,615816.0,771317.0,1477002.0,17986781.0,5000000.0,10076790.0,45431.0,3000000.0,4541800.0,85512300.0,79799880.0,52425855.0,12314651.0,3387000.0,85978266.0,593683.0,64110728.0,14431253.0,13218980.0,18000000.0,7587485.0,9104716.0,7500000.0,29456000.0,6212282.0,3758328.0,62882090.0,8914881.0,12005838.0,129115.0,1430655.0,61619773.0,4635143.0,151530.0,6500000.0,48125.0,15000000.0,112156811.0,2439705.0,65663276.0,10835752.0,7087452.0,1064454.0,14348529.0,232.0,7339398.0,30283.0,41325328.0,22159216.0,40272135.0,17472.0,15656193.0,187112.0,6833445.0,2011837.0,927277.0,11480000.0,2000000.0,11000000.0,14000000.0,5900000.0,1400000.0,8927600.0,32251.0,18050000.0,49263404.0,1020921.0,252000.0,43967255.0,6500000.0,7200000.0,41000000.0,6485961.0,30523226.0,14708696.0,61548707.0,7133082.0,2800000.0,19660000.0,5850000.0,2300000.0,18130000.0,6000000.0,51000000.0,12000000.0,15000000.0,91000000.0,46396427.0,16656125.0,21000000.0,807947.0,34441873.0,12601706.0,143101.0,3100000.0,154701.0,9112193.0,122513057.0,61768190.0,1500000.0,3250000.0,12058187.0,35000000.0,10703234.0,12935800.0,4250000.0,45000.0,42664410.0,208588.0,250000.0,12000000.0,98000000.0,27391084.0,91709827.0,84025816.0,5659286.0,3621046.0,1784763.0,249083.0,35401758.0,58978653.0,40423945.0,443962.0,42330.0,98450062.0,34854990.0,52882018.0,27139524.0,54418872.0,702354.0,16815892.0,845188.0,300000.0,24591.0,2084628.0,14860766.0,16002420.0,11122090.0,67790117.0,42972994.0,64191523.0,3220371.0,9077700.0,41387687.0,1268395.0,72629670.0,40924982.0,42700000.0,6341684.0,696681.0,31500000.0,1677.0,1978592.0,7002261.0,49028000.0,18800000.0,632542.0,52395996.0,88346473.0,1777043.0,5578519.0,14333790.0,36606743.0,4300000.0,1300000.0,1500000.0,6000000.0,14000000.0,700000.0,500000.0,573335.0,3727746.0,20497844.0,16344.0,63647656.0,25513752.0,26144.0,38793283.0,117629.0,33013805.0,486937.0,60273173.0,3020664.0,133332.0,105097.0,78096553.0,2333684.0,24902723.0,18340000.0,8235661.0,80000000.0,340312.0,3.0,520000.0,11000000.0,623791.0,15.0,25000.0,161789.0,4100000.0,42426912.0,67000000.0,5279982.0,5330000.0,4400000.0,15536328.0,11000000.0,559298.0,12975143.0,150000000.0,2541554.0,1.0,1550000.0,2250547.0,6000000.0,14061361.0,21164799.0,29252978.0,56000000.0,7471304.0,16374328.0,1397284.0,61000000.0,14394097.0,2801508.0,40055439.0,4200000.0,31000000.0,9200000.0,8000000.0,17062499.0,46152411.0,32000000.0,187674.0,64188367.0,4842699.0,46069568.0,94073028.0,302000.0,499168.0,15861566.0,5900000.0,2259444.0,12639297.0,1320005.0,2978994.0,24804129.0,108286421.0,23083334.0,6490401.0,25182929.0,6100000.0,11000000.0,8306690.0,6530000.0,645135.0,11100000.0,9600000.0,20000000.0,2760000.0,16000000.0,19450000.0,6600000.0,10000000.0,5000000.0,8.0,4100000.0,4.0,10000000.0,966214.0,1333124.0,12000000.0,18000000.0,5333333.0,14000000.0,2640850.0,22000000.0,18704595.0,14444999.0,2000000.0,34694.0,73883359.0,48902953.0,88923251.0,2100000.0,1646788.0,20566327.0,101657.0,200242.0,14016568.0,88097.0,3400278.0,13624522.0,2152738.0,6000000.0,1600000.0,282382.0,29251596.0,93282604.0,57814445.0,55030051.0,18730891.0,78636257.0,14397593.0,100659.0,21000000.0,16000000.0,28000000.0,1400000.0,19000000.0,500000.0,500000.0,500000.0,500000.0,500000.0,500000.0,500000.0,500000.0,48418160.0,8821329.0,21256.0,4212494.0,9700000.0,3.0,98900000.0,27305571.0,119100758.0,286000.0,198.0,55000000.0,9250000.0,1778391.0,1983204.0,140705322.0,5879736.0,1390172.0,4267218.0,81350000.0,43763247.0,4210454.0,50.0,343617.0,10898293.0,1248748.0,14900000.0,4817642.0,1013926.0,118587880.0,148868835.0,4500.0,85241496.0,102000000.0,5900000.0,11000000.0,15436808.0,12118661.0,3775000.0,1200000.0,183936074.0,37589296.0,157100845.0,44235023.0,13000000.0,135.0,3342697.0,18803648.0,4600000.0,2341534.0,130000.0,2129768.0,2400000.0,3360800.0,58500000.0,65046687.0,84552250.0,5900000.0,29200000.0,5500000.0,25956113.0,8810591.0,10367161.0,19985196.0,23507567.0,74000000.0,16180000.0,1864266.0,32788.0,404785.0,77000000.0,2039000.0,285930.0,3347647.0,2025032.0,1325092.0,1672730.0,45172994.0,1016985.0,8996802.0,779820.0,47748.0,292279.0,500.0,6101904.0,81705746.0,6272403.0,4073489.0,75026965.0,140302754.0,17782178.0,42487325.0,2387127.0,1730000.0,3468423.0,7900000.0,13819139.0,13082071.0,230069.0,13960394.0,11083449.0,10474.0,14793385.0,3500605.0,3885342.0,34659.0,2300000.0,2500000.0,64414761.0,6174491.0,19010585.0,5816211.0,23964782.0,3376375.0,5290.0,4811525.0,7227038.0,2351359.0,32540674.0,1776333.0,82703.0,26667197.0,30658387.0,2000000.0,9100000.0,83080890.0,18000000.0,4100000.0,41412709.0,10025571.0,6341855.0,15584255.0,1440000.0,443684.0,2228115.0,2074000.0,12173470.0,1305195.0,57330873.0,8574339.0,3565109.0,26800152.0,3305592.0,84618541.0,5100000.0,557241.0,5255.0,14054361.0,8262833.0,13162475.0,37461045.0,15000000.0,3451.0,40120144.0,9868942.0,17768012.0,4219536.0,3600000.0,2403885.0,1500000.0,31000.0,214600.0,698200.0,4781454.0,964206.0,179000.0,22212223.0,9816332.0,3877492.0,809000.0,55635037.0,17000000.0,25442939.0,3.0,45056771.0,1492523.0,5249225.0,11455.0,33700.0,11171900.0,4864560.0,4803665.0,2294357.0,17850711.0,1877122.0,3704408.0,17566040.0,2141028.0,4588176.0,3919731.0,6700000.0,9713500.0,1477030.0,9938268.0,2000000.0,24527158.0,855450.0,22000000.0,273137.0,7547762.0,22175908.0,90007945.0,5730596.0,56100000.0,68411275.0,11666088.0,8000000.0,1957000.0,2411594.0,184770205.0,19000000.0,3.0,1328612.0,1268793.0,1413000.0],\"yaxis\":\"y\",\"type\":\"scattergl\"},{\"customdata\":[[\"Heat\"],[\"Sudden Death\"],[\"The American President\"],[\"Nixon\"],[\"Cutthroat Island\"],[\"Casino\"],[\"Ace Ventura: When Nature Calls\"],[\"Money Train\"],[\"Get Shorty\"],[\"Assassins\"],[\"Twelve Monkeys\"],[\"Fair Game\"],[\"Mary Reilly\"],[\"Broken Arrow\"],[\"The Bridges of Madison County\"],[\"Braveheart\"],[\"Boomerang\"],[\"Jade\"],[\"The Birdcage\"],[\"Congo\"],[\"Crimson Tide\"],[\"First Knight\"],[\"Judge Dredd\"],[\"The Scarlet Letter\"],[\"Showgirls\"],[\"Species\"],[\"Strange Days\"],[\"Under Siege 2: Dark Territory\"],[\"Disclosure\"],[\"Interview with the Vampire\"],[\"Junior\"],[\"Legends of the Fall\"],[\"Mary Shelley's Frankenstein\"],[\"Nell\"],[\"Outbreak\"],[\"The Specialist\"],[\"Stargate\"],[\"The Santa Clause\"],[\"Star Trek: Generations\"],[\"Clear and Present Danger\"],[\"The Client\"],[\"I Love Trouble\"],[\"Wyatt Earp\"],[\"Street Fighter\"],[\"Beverly Hills Cop III\"],[\"Color of Night\"],[\"Demolition Man\"],[\"In the Line of Fire\"],[\"Last Action Hero\"],[\"Executive Decision\"],[\"A Perfect World\"],[\"Philadelphia\"],[\"Renaissance Man\"],[\"Sliver\"],[\"Super Mario Bros.\"],[\"Terminal Velocity\"],[\"Primal Fear\"],[\"Courage Under Fire\"],[\"DragonHeart\"],[\"James and the Giant Peach\"],[\"The Phantom\"],[\"Striptease\"],[\"Jack\"],[\"The Fan\"],[\"The Hunchback of Notre Dame\"],[\"The Cable Guy\"],[\"The Nutty Professor\"],[\"Daylight\"],[\"Phenomenon\"],[\"A Time to Kill\"],[\"Chain Reaction\"],[\"Escape from L.A.\"],[\"Tin Cup\"],[\"The Relic\"],[\"The Island of Dr. Moreau\"],[\"Last Man Standing\"],[\"Extreme Measures\"],[\"The Chamber\"],[\"Die Hard\"],[\"The Long Kiss Goodnight\"],[\"The Ghost and the Darkness\"],[\"Shadow Conspiracy\"],[\"Sleepers\"],[\"The Doors\"],[\"Days of Thunder\"],[\"The Abyss\"],[\"Apocalypse Now\"],[\"The Manchurian Candidate\"],[\"Alien\\u00b3\"],[\"Dracula\"],[\"Cape Fear\"],[\"Star Trek: First Contact\"],[\"Jingle All the Way\"],[\"The Preacher's Wife\"],[\"Star Trek: The Motion Picture\"],[\"Under Siege\"],[\"Mars Attacks!\"],[\"The Last of the Mohicans\"],[\"Evita\"],[\"Turbulence\"],[\"Metro\"],[\"Absolute Power\"],[\"The Saint\"],[\"The Devil's Own\"],[\"Anaconda\"],[\"Breakdown\"],[\"The Lost World: Jurassic Park\"],[\"Con Air\"],[\"Contact\"],[\"G.I. Jane\"],[\"Event Horizon\"],[\"Spawn\"],[\"Conspiracy Theory\"],[\"The Hunt for Red October\"],[\"L.A. Confidential\"],[\"Seven Years in Tibet\"],[\"The Game\"],[\"Fire Down Below\"],[\"The Devil's Advocate\"],[\"Mad City\"],[\"The Rainmaker\"],[\"Starship Troopers\"],[\"The Jackal\"],[\"Anastasia\"],[\"Alien: Resurrection\"],[\"Amistad\"],[\"Flubber\"],[\"Home Alone 3\"],[\"MouseHunt\"],[\"Scream 2\"],[\"The Postman\"],[\"The Horse Whisperer\"],[\"Hard Rain\"],[\"Deep Rising\"],[\"Sphere\"],[\"U.S. Marshals\"],[\"Lost in Space\"],[\"City of Angels\"],[\"Deep Impact\"],[\"Quest for Camelot\"],[\"A Perfect Murder\"],[\"Six Days Seven Nights\"],[\"The X Files\"],[\"Out of Sight\"],[\"Small Soldiers\"],[\"Out of Africa\"],[\"Gremlins 2: The New Batch\"],[\"Metropolis\"],[\"Dune\"],[\"The Godfather: Part III\"],[\"Lolita\"],[\"Honey I Blew Up the Kid\"],[\"The Negotiator\"],[\"The Little Mermaid\"],[\"The Rescuers Down Under\"],[\"The Rocketeer\"],[\"The Addams Family\"],[\"Snake Eyes\"],[\"The Avengers\"],[\"Blade\"],[\"Willow\"],[\"Nothing but Trouble\"],[\"Ronin\"],[\"Antz\"],[\"What Dreams May Come\"],[\"Practical Magic\"],[\"Soldier\"],[\"The Siege\"],[\"The Waterboy\"],[\"I Still Know What You Did Last Summer\"],[\"Meet Joe Black\"],[\"The Rugrats Movie\"],[\"A View to a Kill\"],[\"Babe: Pig in the City\"],[\"Psycho\"],[\"Star Trek: Insurrection\"],[\"The Prince of Egypt\"],[\"Santa Claus: The Movie\"],[\"Rambo III\"],[\"Rocky V\"],[\"The Thin Red Line\"],[\"Patch Adams\"],[\"A Civil Action\"],[\"Virus\"],[\"Howard the Duck\"],[\"Payback\"],[\"Message in a Bottle\"],[\"My Favorite Martian\"],[\"8MM\"],[\"Analyze This\"],[\"The Deep End of the Ocean\"],[\"Forces of Nature\"],[\"The Mod Squad\"],[\"The Out-of-Towners\"],[\"Life\"],[\"Entrapment\"],[\"Dick Tracy\"],[\"Superman II\"],[\"Superman III\"],[\"The General's Daughter\"],[\"Eyes Wide Shut\"],[\"Ghostbusters II\"],[\"The Haunting\"],[\"Deep Blue Sea\"],[\"Mystery Men\"],[\"The Iron Giant\"],[\"The Thomas Crown Affair\"],[\"The Pelican Brief\"],[\"Universal Soldier: The Return\"],[\"The Astronaut's Wife\"],[\"Chill Factor\"],[\"Blue Streak\"],[\"Double Jeopardy\"],[\"Three Kings\"],[\"Random Hearts\"],[\"Fight Club\"],[\"The Story of Us\"],[\"RoboCop 2\"],[\"For Your Eyes Only\"],[\"Licence to Kill\"],[\"Princess Mononoke\"],[\"The Bachelor\"],[\"The Bone Collector\"],[\"The Insider\"],[\"Trading Places\"],[\"The Messenger: The Story of Joan of Arc\"],[\"Pok\\u00e9mon: The First Movie: Mewtwo Strikes Back\"],[\"Backdraft\"],[\"The Bonfire of the Vanities\"],[\"Bicentennial Man\"],[\"Fantasia 2000\"],[\"Magnolia\"],[\"Any Given Sunday\"],[\"Man on the Moon\"],[\"Galaxy Quest\"],[\"The Talented Mr. Ripley\"],[\"The Hurricane\"],[\"Supernova\"],[\"Sister Act 2: Back in the Habit\"],[\"Scent of a Woman\"],[\"A League of Their Own\"],[\"Patriot Games\"],[\"Death Becomes Her\"],[\"Far and Away\"],[\"Scream 3\"],[\"The Beach\"],[\"Hanging Up\"],[\"The Whole Nine Yards\"],[\"Reindeer Games\"],[\"Mission to Mars\"],[\"The Ninth Gate\"],[\"JFK\"],[\"The Road to El Dorado\"],[\"Mr. Saturday Night\"],[\"Rules of Engagement\"],[\"U-571\"],[\"The Flintstones in Viva Rock Vegas\"],[\"Battlefield Earth\"],[\"Shanghai Noon\"],[\"Moonraker\"],[\"Big Momma's House\"],[\"Predator 2\"],[\"Gone in Sixty Seconds\"],[\"Shaft\"],[\"Titan A.E.\"],[\"Chicken Run\"],[\"Me, Myself & Irene\"],[\"The Adventures of Rocky & Bullwinkle\"],[\"The Kid\"],[\"What Lies Beneath\"],[\"Pok\\u00e9mon: The Movie 2000\"],[\"What About Bob?\"],[\"Nutty Professor II: The Klumps\"],[\"Coyote Ugly\"],[\"Hollow Man\"],[\"Space Cowboys\"],[\"The Cell\"],[\"The Art of War\"],[\"Almost Famous\"],[\"Remember the Titans\"],[\"Get Carter\"],[\"Bedazzled\"],[\"Pay It Forward\"],[\"The Legend of Bagger Vance\"],[\"Red Planet\"],[\"The 6th Day\"],[\"102 Dalmatians\"],[\"Vertical Limit\"],[\"The Living Daylights\"],[\"Chocolat\"],[\"The Emperor's New Groove\"],[\"Finding Forrester\"],[\"Miss Congeniality\"],[\"Thirteen Days\"],[\"Traffic\"],[\"Annie\"],[\"The Wedding Planner\"],[\"Ishtar\"],[\"Sweet November\"],[\"Monkeybone\"],[\"3000 Miles to Graceland\"],[\"The Mexican\"],[\"15 Minutes\"],[\"Enemy at the Gates\"],[\"Exit Wounds\"],[\"Spy Kids\"],[\"Along Came a Spider\"],[\"Blow\"],[\"Driven\"],[\"Town & Country\"],[\"For the Boys\"],[\"A Knight's Tale\"],[\"Angel Eyes\"],[\"Moulin Rouge!\"],[\"City Slickers\"],[\"Evolution\"],[\"Swordfish\"],[\"Dr. Dolittle 2\"],[\"The Fast and the Furious\"],[\"Cats & Dogs\"],[\"Scary Movie 2\"],[\"The Score\"],[\"The Adventures of Baron Munchausen\"],[\"Tango & Cash\"],[\"The Cotton Club\"],[\"Original Sin\"],[\"The Princess Diaries\"],[\"Osmosis Jones\"],[\"Captain Corelli's Mandolin\"],[\"Rat Race\"],[\"The Musketeer\"],[\"Rock Star\"],[\"Big Trouble\"],[\"Training Day\"],[\"Don't Say a Word\"],[\"Bandits\"],[\"From Hell\"],[\"The Last Castle\"],[\"Riding in Cars with Boys\"],[\"K-PAX\"],[\"Domestic Disturbance\"],[\"The One\"],[\"Shallow Hal\"],[\"Spy Game\"],[\"Behind Enemy Lines\"],[\"Vanilla Sky\"],[\"The Majestic\"],[\"Ali\"],[\"Black Hawk Down\"],[\"Another 48 Hrs.\"],[\"The Count of Monte Cristo\"],[\"Collateral Damage\"],[\"Baby's Day Out\"],[\"Hart's War\"],[\"John Q\"],[\"Dragonfly\"],[\"Queen of the Damned\"],[\"We Were Soldiers\"],[\"Intersection\"],[\"The Time Machine\"],[\"Heaven's Gate\"],[\"Resident Evil\"],[\"Showtime\"],[\"Blade II\"],[\"Panic Room\"],[\"High Crimes\"],[\"Changing Lanes\"],[\"The Sweetest Thing\"],[\"Murder by Numbers\"],[\"The Scorpion King\"],[\"Life or Something Like It\"],[\"Unfaithful\"],[\"About a Boy\"],[\"Enough\"],[\"Insomnia\"],[\"Spirit: Stallion of the Cimarron\"],[\"The Sum of All Fears\"],[\"Bad Company\"],[\"The Bourne Identity\"],[\"Windtalkers\"],[\"Lilo & Stitch\"],[\"Mr. Deeds\"],[\"Reign of Fire\"],[\"Road to Perdition\"],[\"K-19: The Widowmaker\"],[\"Spy Kids 2: The Island of Lost Dreams\"],[\"Blood Work\"],[\"The Adventures of Pluto Nash\"],[\"Hot Shots!\"],[\"FearDotCom\"],[\"City By The Sea\"],[\"Ballistic: Ecks vs. Sever\"],[\"Sweet Home Alabama\"],[\"Red Dragon\"],[\"Ghost Ship\"],[\"I Spy\"],[\"The Santa Clause 2\"],[\"8 Mile\"],[\"Extreme Ops\"],[\"Solaris\"],[\"Analyze That\"],[\"The Best Little Whorehouse in Texas\"],[\"Maid in Manhattan\"],[\"Star Trek: Nemesis\"],[\"About Schmidt\"],[\"Gangs of New York\"],[\"Two Weeks Notice\"],[\"Pinocchio\"],[\"The Pianist\"],[\"How to Lose a Guy in 10 Days\"],[\"Shanghai Knights\"],[\"Daredevil\"],[\"Dennis the Menace\"],[\"Gods and Generals\"],[\"The Life of David Gale\"],[\"Tears of the Sun\"],[\"The Hunted\"],[\"Dreamcatcher\"],[\"Basic\"],[\"The Core\"],[\"A Man Apart\"],[\"Anger Management\"],[\"Daddy Day Care\"],[\"The Italian Job\"],[\"2 Fast 2 Furious\"],[\"Hollywood Homicide\"],[\"Legally Blonde 2: Red, White & Blonde\"],[\"Sinbad: Legend of the Seven Seas\"],[\"The League of Extraordinary Gentlemen\"],[\"Johnny English\"],[\"Lara Croft Tomb Raider: The Cradle of Life\"],[\"Seabiscuit\"],[\"Spy Kids 3-D: Game Over\"],[\"Gigli\"],[\"S.W.A.T.\"],[\"Freddy vs. Jason\"],[\"Matchstick Men\"],[\"Memoirs of an Invisible Man\"],[\"Duplex\"],[\"The Rundown\"],[\"Out of Time\"],[\"School of Rock\"],[\"Mystic River\"],[\"Intolerable Cruelty\"],[\"Kill Bill: Vol. 1\"],[\"Runaway Jury\"],[\"Scary Movie 3\"],[\"Elf\"],[\"Looney Tunes: Back in Action\"],[\"Gothika\"],[\"The Haunted Mansion\"],[\"Timeline\"],[\"Hudson Hawk\"],[\"Hero\"],[\"Big Fish\"],[\"Stuck on You\"],[\"Cheaper by the Dozen\"],[\"Cold Mountain\"],[\"Paycheck\"],[\"Peter Pan\"],[\"Along Came Polly\"],[\"Torque\"],[\"The Adventures of Ford Fairlane\"],[\"The Big Bounce\"],[\"50 First Dates\"],[\"Against the Ropes\"],[\"Twisted\"],[\"Hidalgo\"],[\"Starsky & Hutch\"],[\"Secret Window\"],[\"Taking Lives\"],[\"Hellboy\"],[\"Home on the Range\"],[\"Walking Tall\"],[\"The Whole Ten Yards\"],[\"Kill Bill: Vol. 2\"],[\"13 Going on 30\"],[\"Man on Fire\"],[\"D-Tox\"],[\"Enemy Mine\"],[\"Octopussy\"],[\"Never Say Never Again\"],[\"On Deadly Ground\"],[\"Raising Helen\"],[\"The Chronicles of Riddick\"],[\"Garfield\"],[\"The Stepford Wives\"],[\"Around the World in 80 Days\"],[\"The Terminal\"],[\"White Chicks\"],[\"The Notebook\"],[\"Two Brothers\"],[\"Catwoman\"],[\"The Manchurian Candidate\"],[\"Thunderbirds\"],[\"Collateral\"],[\"The Princess Diaries 2: Royal Engagement\"],[\"AVP: Alien vs. Predator\"],[\"Exorcist: The Beginning\"],[\"Resident Evil: Apocalypse\"],[\"Sky Captain and the World of Tomorrow\"],[\"The Forgotten\"],[\"1492: Conquest of Paradise\"],[\"Ladder 49\"],[\"Shall We Dance?\"],[\"Surviving Christmas\"],[\"Alfie\"],[\"Ray\"],[\"After the Sunset\"],[\"Bridget Jones: The Edge of Reason\"],[\"The SpongeBob SquarePants Movie\"],[\"Blade: Trinity\"],[\"Havana\"],[\"A Sound of Thunder\"],[\"Spanglish\"],[\"The Interpreter\"],[\"Flight of the Phoenix\"],[\"The Ring Two\"],[\"Million Dollar Baby\"],[\"The Life Aquatic with Steve Zissou\"],[\"The Phantom of the Opera\"],[\"Elektra\"],[\"Racing Stripes\"],[\"Are We There Yet?\"],[\"The Pacifier\"],[\"Be Cool\"],[\"Hostage\"],[\"Guess Who\"],[\"Sin City\"],[\"The Hitchhiker's Guide to the Galaxy\"],[\"xXx: State of the Union\"],[\"House of Wax\"],[\"Unleashed\"],[\"Kicking & Screaming\"],[\"Monster-in-Law\"],[\"The Longest Yard\"],[\"Cinderella Man\"],[\"The Adventures of Sharkboy and Lavagirl\"],[\"Herbie Fully Loaded\"],[\"Bewitched\"],[\"Rebound\"],[\"Sky High\"],[\"Serenity\"],[\"The Dukes of Hazzard\"],[\"The Skeleton Key\"],[\"Four Brothers\"],[\"The Great Raid\"],[\"The Brothers Grimm\"],[\"Transporter 2\"],[\"Just Like Heaven\"],[\"Lord of War\"],[\"Doom\"],[\"Domino\"],[\"\\u00c6on Flux\"],[\"Flightplan\"],[\"Corpse Bride\"],[\"Oliver Twist\"],[\"Into the Blue\"],[\"The Curse of the Were-Rabbit\"],[\"Elizabethtown\"],[\"Stay\"],[\"The Legend of Zorro\"],[\"Jarhead\"],[\"Get Rich or Die Tryin'\"],[\"Syriana\"],[\"Pride & Prejudice\"],[\"Walk the Line\"],[\"Rent\"],[\"Zathura: A Space Adventure\"],[\"Yours, Mine & Ours\"],[\"Memoirs of a Geisha\"],[\"Munich\"],[\"The Producers\"],[\"Rumor Has It...\"],[\"Cheaper by the Dozen 2\"],[\"Last Holiday\"],[\"Underworld: Evolution\"],[\"Big Momma's House 2\"],[\"Curious George\"],[\"Firewall\"],[\"Eight Below\"],[\"Pulse\"],[\"16 Blocks\"],[\"Failure to Launch\"],[\"V for Vendetta\"],[\"Inside Man\"],[\"The Shaggy Dog\"],[\"Basic Instinct 2\"],[\"Scary Movie 4\"],[\"The Sentinel\"],[\"The Wild\"],[\"Silent Hill\"],[\"RV\"],[\"The Break-Up\"],[\"Nacho Libre\"],[\"The Lake House\"],[\"Click\"],[\"You, Me and Dupree\"],[\"Lady in the Water\"],[\"Marie Antoinette\"],[\"The Fast and the Furious: Tokyo Drift\"],[\"Little Man\"],[\"Monster House\"],[\"Talladega Nights: The Ballad of Ricky Bobby\"],[\"World Trade Center\"],[\"The Ant Bully\"],[\"Black Gold\"],[\"Barnyard\"],[\"The Illusionist\"],[\"The Wicker Man\"],[\"The Black Dahlia\"],[\"Apocalypto\"],[\"Flyboys\"],[\"All the King's Men\"],[\"The Guardian\"],[\"Open Season\"],[\"Stormbreaker\"],[\"Children of Men\"],[\"The Prestige\"],[\"Flags of Our Fathers\"],[\"Perfume: The Story of a Murderer\"],[\"D\\u00e9j\\u00e0 Vu\"],[\"The Holiday\"],[\"Blood Diamond\"],[\"Charlotte's Web\"],[\"Rocky Balboa\"],[\"We Are Marshall\"],[\"The Good Shepherd\"],[\"Dreamgirls\"],[\"Happily N'Ever After\"],[\"Arthur and the Invisibles\"],[\"Bridge to Terabithia\"],[\"Hannibal Rising\"],[\"Norbit\"],[\"Music and Lyrics\"],[\"Next\"],[\"Zodiac\"],[\"Shooter\"],[\"TMNT\"],[\"The Reaping\"],[\"Sunshine\"],[\"Goya's Ghosts\"],[\"Perfect Stranger\"],[\"Pathfinder\"],[\"Knocked Up\"],[\"Hairspray\"],[\"Surf's Up\"],[\"License to Wed\"],[\"I Now Pronounce You Chuck & Larry\"],[\"Stardust\"],[\"The Last Legion\"],[\"The Kingdom\"],[\"The Invasion\"],[\"3:10 to Yuma\"],[\"Shoot 'Em Up\"],[\"Atonement\"],[\"The Brave One\"],[\"Eastern Promises\"],[\"Resident Evil: Extinction\"],[\"The Heartbreak Kid\"],[\"Elizabeth: The Golden Age\"],[\"No Country for Old Men\"],[\"Lions for Lambs\"],[\"Fred Claus\"],[\"Beowulf\"],[\"Love in the Time of Cholera\"],[\"Awake\"],[\"The Bucket List\"],[\"Sweeney Todd: The Demon Barber of Fleet Street\"],[\"Charlie Wilson's War\"],[\"Aliens vs Predator: Requiem\"],[\"The Water Horse\"],[\"P.S. I Love You\"],[\"27 Dresses\"],[\"Dragon Wars: D-War\"],[\"Cloverfield\"],[\"Rambo\"],[\"Hellboy II: The Golden Army\"],[\"Fool's Gold\"],[\"Jumper\"],[\"Vantage Point\"],[\"The Spiderwick Chronicles\"],[\"The Love Guru\"],[\"21\"],[\"Leatherheads\"],[\"Pirates\"],[\"Nim's Island\"],[\"Forgetting Sarah Marshall\"],[\"The Forbidden Kingdom\"],[\"Made of Honor\"],[\"What Happens in Vegas\"],[\"You Don't Mess with the Zohan\"],[\"The Happening\"],[\"The Children of Huang Shi\"],[\"Get Smart\"],[\"Journey to the Center of the Earth\"],[\"Meet Dave\"],[\"Space Chimps\"],[\"Step Brothers\"],[\"Red Cliff\"],[\"Tropic Thunder\"],[\"Death Race\"],[\"Mirrors\"],[\"Burn After Reading\"],[\"Babylon A.D.\"],[\"The Spirit\"],[\"Bangkok Dangerous\"],[\"Righteous Kill\"],[\"Miracle at St. Anna\"],[\"Eagle Eye\"],[\"Body of Lies\"],[\"City of Ember\"],[\"Max Payne\"],[\"The Express\"],[\"Changeling\"],[\"Transporter 3\"],[\"Four Christmases\"],[\"The Day the Earth Stood Still\"],[\"The Reader\"],[\"Seven Pounds\"],[\"Yes Man\"],[\"Valkyrie\"],[\"Bedtime Stories\"],[\"Revolutionary Road\"],[\"Ponyo\"],[\"The Tale of Despereaux\"],[\"Bride Wars\"],[\"Underworld: Rise of the Lycans\"],[\"Inkheart\"],[\"Paul Blart: Mall Cop\"],[\"Outlander\"],[\"Coraline\"],[\"Push\"],[\"The International\"],[\"He's Just Not That Into You\"],[\"Hotel for Dogs\"],[\"Funny People\"],[\"Street Fighter: The Legend of Chun-Li\"],[\"I Love You, Man\"],[\"Duplicity\"],[\"Knowing\"],[\"Confessions of a Shopaholic\"],[\"The Boat That Rocked\"],[\"State of Play\"],[\"Red Cliff Part II\"],[\"The Soloist\"],[\"Land of the Lost\"],[\"The Taking of Pelham 1 2 3\"],[\"Year One\"],[\"Public Enemies\"],[\"My Sister's Keeper\"],[\"The Ugly Truth\"],[\"Aliens in the Attic\"],[\"District 9\"],[\"Julie & Julia\"],[\"Race to Witch Mountain\"],[\"Hannah Montana: The Movie\"],[\"The Time Traveler's Wife\"],[\"Christopher Columbus: The Discovery\"],[\"The Final Destination\"],[\"Gamer\"],[\"Surrogates\"],[\"Whiteout\"],[\"Couples Retreat\"],[\"Where the Wild Things Are\"],[\"Shorts\"],[\"Law Abiding Citizen\"],[\"Amelia\"],[\"Up in the Air\"],[\"Cirque du Freak: The Vampire's Assistant\"],[\"Astro Boy\"],[\"Fantastic Mr. Fox\"],[\"Ninja Assassin\"],[\"Old Dogs\"],[\"Planet 51\"],[\"The Lovely Bones\"],[\"Invictus\"],[\"Did You Hear About the Morgans?\"],[\"Nine\"],[\"It's Complicated\"],[\"The Book of Eli\"],[\"Asterix at the Olympic Games\"],[\"Edge of Darkness\"],[\"Valentine's Day\"],[\"Percy Jackson & the Olympians: The Lightning Thief\"],[\"The Ghost Writer\"],[\"Agora\"],[\"Tooth Fairy\"],[\"Green Zone\"],[\"From Paris with Love\"],[\"The Bounty Hunter\"],[\"Hot Tub Time Machine\"],[\"Date Night\"],[\"Solomon Kane\"],[\"Marmaduke\"],[\"A Nightmare on Elm Street\"],[\"Killers\"],[\"Get Him to the Greek\"],[\"The Back-Up Plan\"],[\"Jonah Hex\"],[\"Predators\"],[\"Mr. Nobody\"],[\"Dinner for Schmucks\"],[\"Nanny McPhee and the Big Bang\"],[\"Charlie St. Cloud\"],[\"The Other Guys\"],[\"Scott Pilgrim vs. the World\"],[\"Step Up 3D\"],[\"The Town\"],[\"Eat Pray Love\"],[\"Wall Street: Money Never Sleeps\"],[\"Legend of the Guardians: The Owls of Ga'Hoole\"],[\"Cats & Dogs 2 : The Revenge of Kitty Galore\"],[\"Secretariat\"],[\"Life As We Know It\"],[\"RED\"],[\"Hereafter\"],[\"Due Date\"],[\"Unstoppable\"],[\"Morning Glory\"],[\"Love & Other Drugs\"],[\"How Do You Know\"],[\"Burlesque\"],[\"The Secret World of Arrietty\"],[\"Yogi Bear\"],[\"The Warrior's Way\"],[\"Season of the Witch\"],[\"The Dilemma\"],[\"Limitless\"],[\"No Strings Attached\"],[\"The Lincoln Lawyer\"],[\"The Rite\"],[\"Unknown\"],[\"Sanctum\"],[\"Gnomeo & Juliet\"],[\"Paul\"],[\"Drive Angry\"],[\"The Adjustment Bureau\"],[\"The Mechanic\"],[\"Hall Pass\"],[\"I Am Number Four\"],[\"Battle: Los Angeles\"],[\"Just Go with It\"],[\"Red Riding Hood\"],[\"Big Mommas: Like Father, Like Son\"],[\"Source Code\"],[\"Sucker Punch\"],[\"Hop\"],[\"Arthur\"],[\"Scream 4\"],[\"Water for Elephants\"],[\"Something Borrowed\"],[\"Priest\"],[\"Midnight in Paris\"],[\"The Other Woman\"],[\"Mr. Popper's Penguins\"],[\"Bad Teacher\"],[\"Your Highness\"],[\"Zookeeper\"],[\"Horrible Bosses\"],[\"Crazy, Stupid, Love.\"],[\"Friends with Benefits\"],[\"The Change-Up\"],[\"Final Destination 5\"],[\"Colombiana\"],[\"Conan the Barbarian\"],[\"Contagion\"],[\"Moneyball\"],[\"Killer Elite\"],[\"The Three Musketeers\"],[\"In Time\"],[\"Johnny English Reborn\"],[\"Abduction\"],[\"Dream House\"],[\"Tower Heist\"],[\"J. Edgar\"],[\"Immortals\"],[\"Jack and Jill\"],[\"The Muppets\"],[\"War Horse\"],[\"The Rum Diary\"],[\"Extremely Loud & Incredibly Close\"],[\"Bullet to the Head\"],[\"New Year's Eve\"],[\"We Bought a Zoo\"],[\"The Girl with the Dragon Tattoo\"],[\"Dolphin Tale\"],[\"Underworld: Awakening\"],[\"Man on a Ledge\"],[\"Red Tails\"],[\"The Flowers of War\"],[\"One for the Money\"],[\"Big Miracle\"],[\"Safe House\"],[\"The Vow\"],[\"Ghost Rider: Spirit of Vengeance\"],[\"The Big Year\"],[\"This Means War\"],[\"21 Jump Street\"],[\"Mirror Mirror\"],[\"The Dictator\"],[\"The Pirates! In an Adventure with Scientists!\"],[\"A Thousand Words\"],[\"What to Expect When You're Expecting\"],[\"Abraham Lincoln: Vampire Hunter\"],[\"Rock of Ages\"],[\"Savages\"],[\"The Watch\"],[\"Hope Springs\"],[\"ParaNorman\"],[\"That's My Boy\"],[\"Dredd\"],[\"Frankenweenie\"],[\"Alex Cross\"],[\"Cloud Atlas\"],[\"Silver Linings Playbook\"],[\"Flight\"],[\"Red Dawn\"],[\"Step Up Revolution\"],[\"Zero Dark Thirty\"],[\"Warm Bodies\"],[\"The Guilt Trip\"],[\"Jack Reacher\"],[\"This Is 40\"],[\"The Impossible\"],[\"Gangster Squad\"],[\"Broken City\"],[\"Parker\"],[\"Hansel & Gretel: Witch Hunters\"],[\"Upside Down\"],[\"Identity Thief\"],[\"Beautiful Creatures\"],[\"Escape from Planet Earth\"],[\"Olympus Has Fallen\"],[\"The Host\"],[\"42\"],[\"This Is the End\"],[\"Black Gold\"],[\"The Internship\"],[\"Now You See Me\"],[\"The Heat\"],[\"2 Guns\"],[\"Percy Jackson: Sea of Monsters\"],[\"Riddick\"],[\"Planes\"],[\"The Wind Rises\"],[\"The Mortal Instruments: City of Bones\"],[\"Prisoners\"],[\"Rush\"],[\"Captain Phillips\"],[\"Escape Plan\"],[\"Ender's Game\"],[\"Free Birds\"],[\"Last Vegas\"],[\"The Secret Life of Walter Mitty\"],[\"Lone Survivor\"],[\"Saving Mr. Banks\"],[\"The Nutcracker: The Untold Story\"],[\"Anchorman 2: The Legend Continues\"],[\"Snowpiercer\"],[\"Grudge Match\"],[\"Ride Along\"],[\"Jack Ryan: Shadow Recruit\"],[\"HOUBA! On the Trail of the Marsupilami\"],[\"I, Frankenstein\"],[\"The Monuments Men\"],[\"Winter's Tale\"],[\"The Grand Budapest Hotel\"],[\"Non-Stop\"],[\"Need for Speed\"],[\"The Legend of Hercules\"],[\"Muppets Most Wanted\"],[\"Transcendence\"],[\"The Other Woman\"],[\"Lucy\"],[\"Legends of Oz: Dorothy's Return\"],[\"Blended\"],[\"22 Jump Street\"],[\"The Equalizer\"],[\"Jersey Boys\"],[\"Planes: Fire & Rescue\"],[\"Sex Tape\"],[\"The Expendables 3\"],[\"Step Up All In\"],[\"Sin City: A Dame to Kill For\"],[\"Into the Storm\"],[\"The Boxtrolls\"],[\"The Tale of the Princess Kaguya\"],[\"Dracula Untold\"],[\"The Judge\"],[\"Fury\"],[\"The Book of Life\"],[\"Walking With Dinosaurs\"],[\"Dumb and Dumber To\"],[\"Dolphin Tale 2\"],[\"In the Heart of the Sea\"],[\"Horrible Bosses 2\"],[\"Unbroken\"],[\"Into the Woods\"],[\"The Interview\"],[\"Seventh Son\"],[\"Annie\"],[\"Foodfight!\"],[\"Chappie\"],[\"Blackhat\"],[\"Ben-Hur\"],[\"Mortdecai\"],[\"The Hateful Eight\"],[\"Crimson Peak\"],[\"Focus\"],[\"Wolf Totem\"],[\"Run All Night\"],[\"Stand by Me Doraemon\"],[\"Poltergeist\"],[\"The Gunman\"],[\"Child 44\"],[\"Get Hard\"],[\"Paul Blart: Mall Cop 2\"],[\"The Longest Ride\"],[\"Hitman: Agent 47\"],[\"Hot Pursuit\"],[\"Trainwreck\"],[\"Aloha\"],[\"Dragon Blade\"],[\"The Last Witch Hunter\"],[\"Ted 2\"],[\"Black Mass\"],[\"Vacation\"],[\"The Man from U.N.C.L.E.\"],[\"The Walk\"],[\"13 Hours: The Secret Soldiers of Benghazi\"],[\"Baahubali: The Beginning\"],[\"The Intern\"],[\"Straight Outta Compton\"],[\"Joy\"],[\"Victor Frankenstein\"],[\"Everest\"],[\"The Little Prince\"],[\"Silence\"],[\"Bridge of Spies\"],[\"Goosebumps\"],[\"Concussion\"],[\"Creed\"],[\"Point Break\"],[\"The 5th Wave\"],[\"The Big Short\"],[\"Zoolander 2\"],[\"How to Be Single\"],[\"Sisters\"],[\"Ride Along 2\"],[\"The Finest Hours\"],[\"Me Before You\"],[\"London Has Fallen\"],[\"Ip Man 3\"],[\"Neighbors 2: Sorority Rising\"],[\"Free State of Jones\"],[\"Snowden\"],[\"The Nice Guys\"],[\"Central Intelligence\"],[\"Mike and Dave Need Wedding Dates\"],[\"Pete's Dragon\"],[\"War Dogs\"],[\"Mechanic: Resurrection\"],[\"The Magnificent Seven\"],[\"Kubo and the Two Strings\"],[\"Bridget Jones's Baby\"],[\"Deepwater Horizon\"],[\"The Girl on the Train\"],[\"The Accountant\"],[\"Hacksaw Ridge\"],[\"Billy Lynn's Long Halftime Walk\"],[\"A Monster Calls\"],[\"Arrival\"],[\"Storks\"],[\"Railroad Tigers\"],[\"Allied\"],[\"Inferno\"],[\"Keeping Up with the Joneses\"],[\"Jack Reacher: Never Go Back\"],[\"Collateral Beauty\"],[\"Office Christmas Party\"],[\"Live by Night\"],[\"Underworld: Blood Wars\"],[\"Why Him?\"],[\"A Dog's Purpose\"],[\"Patriots Day\"],[\"A Cure for Wellness\"],[\"John Wick: Chapter 2\"],[\"The Ottoman Lieutenant\"],[\"Life\"],[\"Power Rangers\"],[\"Smurfs: The Lost Village\"],[\"Baywatch\"],[\"Snatched\"],[\"Captain Underpants: The First Epic Movie\"],[\"Rock Dog\"],[\"The Dark Tower\"],[\"The Emoji Movie\"]],\"hovertemplate\":\"clusters=3<br>budget=%{x}<br>revenue=%{y}<br>title=%{customdata[0]}<extra></extra>\",\"legendgroup\":\"3\",\"marker\":{\"color\":\"#00cc96\",\"symbol\":\"circle\"},\"mode\":\"markers\",\"name\":\"3\",\"showlegend\":true,\"x\":[60000000.0,35000000.0,62000000.0,44000000.0,98000000.0,52000000.0,30000000.0,60000000.0,30250000.0,50000000.0,29500000.0,50000000.0,47000000.0,50000000.0,24000000.0,72000000.0,40000000.0,50000000.0,31000000.0,50000000.0,53000000.0,55000000.0,90000000.0,50000000.0,45000000.0,35000000.0,42000000.0,60000000.0,55000000.0,60000000.0,60000000.0,30000000.0,45000000.0,31000000.0,50000000.0,45000000.0,55000000.0,22000000.0,38000000.0,62000000.0,45000000.0,45000000.0,63000000.0,35000000.0,50000000.0,40000000.0,57000000.0,40000000.0,85000000.0,55000000.0,30000000.0,26000000.0,40000000.0,40000000.0,48000000.0,50000000.0,30000000.0,46000000.0,57000000.0,38000000.0,45000000.0,50000000.0,45000000.0,55000000.0,100000000.0,47000000.0,54000000.0,80000000.0,32000000.0,40000000.0,50000000.0,50000000.0,45000000.0,60000000.0,40000000.0,67000000.0,38000000.0,50000000.0,28000000.0,65000000.0,50000000.0,45000000.0,44000000.0,38000000.0,60000000.0,70000000.0,31500000.0,80000000.0,50000000.0,40000000.0,35000000.0,46000000.0,60000000.0,40000000.0,35000000.0,35000000.0,70000000.0,40000000.0,55000000.0,55000000.0,55000000.0,50000000.0,68000000.0,90000000.0,45000000.0,36000000.0,73000000.0,75000000.0,90000000.0,50000000.0,60000000.0,40000000.0,75000000.0,30000000.0,35000000.0,70000000.0,50000000.0,60000000.0,57000000.0,50000000.0,40000000.0,105000000.0,60000000.0,53000000.0,70000000.0,36000000.0,80000000.0,32000000.0,38000000.0,24000000.0,80000000.0,60000000.0,70000000.0,45000000.0,75000000.0,60000000.0,80000000.0,55000000.0,75000000.0,40000000.0,60000000.0,70000000.0,66000000.0,48000000.0,40000000.0,31000000.0,50000000.0,92620000.0,40000000.0,54000000.0,62000000.0,40000000.0,50000000.0,40000000.0,37931000.0,42000000.0,30000000.0,73000000.0,60000000.0,45000000.0,35000000.0,40000000.0,55000000.0,60000000.0,85000000.0,75000000.0,75000000.0,70000000.0,23000000.0,65000000.0,90000000.0,30000000.0,30000000.0,90000000.0,60000000.0,70000000.0,70000000.0,50000000.0,63000000.0,42000000.0,52000000.0,50000000.0,70000000.0,75000000.0,37000000.0,90000000.0,80000000.0,65000000.0,40000000.0,80000000.0,38000000.0,75000000.0,50000000.0,75000000.0,80000000.0,66000000.0,47000000.0,54000000.0,39000000.0,60000000.0,65000000.0,37000000.0,80000000.0,60000000.0,68000000.0,70000000.0,48000000.0,45000000.0,45000000.0,75000000.0,70000000.0,65000000.0,70000000.0,75000000.0,64000000.0,63000000.0,50000000.0,35000000.0,28000000.0,32000000.0,26500000.0,51000000.0,73000000.0,90000000.0,40600000.0,60000000.0,30000000.0,75000000.0,47000000.0,100000000.0,80000000.0,37000000.0,55000000.0,82000000.0,45000000.0,40000000.0,50000000.0,90000000.0,38000000.0,31000000.0,40000000.0,45000000.0,55000000.0,60000000.0,40000000.0,40000000.0,40000000.0,41300000.0,42000000.0,90000000.0,38000000.0,40000000.0,95000000.0,43000000.0,60000000.0,62000000.0,83000000.0,44000000.0,55000000.0,34000000.0,30000000.0,35000000.0,90000000.0,46000000.0,75000000.0,45000000.0,51000000.0,76000000.0,65000000.0,100000000.0,30000000.0,35000000.0,84000000.0,45000000.0,95000000.0,65000000.0,33000000.0,40000000.0,60000000.0,30000000.0,63600000.0,48000000.0,40000000.0,80000000.0,80000000.0,82000000.0,85000000.0,75000000.0,40000000.0,25000000.0,100000000.0,43000000.0,45000000.0,80000000.0,48000000.0,50000000.0,35000000.0,55000000.0,40000000.0,75000000.0,62000000.0,57000000.0,60000000.0,68000000.0,50000000.0,35000000.0,60000000.0,53000000.0,94000000.0,90000000.0,40000000.0,65000000.0,53000000.0,52500000.0,27000000.0,80000000.0,102000000.0,70000000.0,38000000.0,60000000.0,45000000.0,68000000.0,46630000.0,55000000.0,58000000.0,42000000.0,37000000.0,75000000.0,57000000.0,48000000.0,40000000.0,57000000.0,40000000.0,45000000.0,50000000.0,75000000.0,35000000.0,72000000.0,48000000.0,48000000.0,75000000.0,49000000.0,40000000.0,92000000.0,40000000.0,68000000.0,72000000.0,107000000.0,92000000.0,38000000.0,35000000.0,85000000.0,50000000.0,70000000.0,36000000.0,60000000.0,35000000.0,75000000.0,45000000.0,80000000.0,44000000.0,33000000.0,85000000.0,54000000.0,48000000.0,42000000.0,45000000.0,43000000.0,50000000.0,60000000.0,40000000.0,50000000.0,27000000.0,38000000.0,46000000.0,80000000.0,68000000.0,70000000.0,60000000.0,115000000.0,80000000.0,50000000.0,60000000.0,80000000.0,100000000.0,38000000.0,50000000.0,100000000.0,26000000.0,40000000.0,40000000.0,70000000.0,30000000.0,78000000.0,35000000.0,70000000.0,65000000.0,41000000.0,40000000.0,47000000.0,60000000.0,35000000.0,55000000.0,60000000.0,30000000.0,100000000.0,60000000.0,40000000.0,35000000.0,50000000.0,50000000.0,78000000.0,35000000.0,56000000.0,50000000.0,70000000.0,55000000.0,68000000.0,50000000.0,60000000.0,36000000.0,75000000.0,60000000.0,60000000.0,76000000.0,75000000.0,45000000.0,60000000.0,78000000.0,40000000.0,95000000.0,87000000.0,38000000.0,54000000.0,80000000.0,30000000.0,62000000.0,40000000.0,40000000.0,85000000.0,50000000.0,35000000.0,25000000.0,60000000.0,30000000.0,60000000.0,48000000.0,32000000.0,80000000.0,40000000.0,90000000.0,80000000.0,65000000.0,31000000.0,70000000.0,55000000.0,40000000.0,79000000.0,60000000.0,100000000.0,42000000.0,40000000.0,49000000.0,50000000.0,75000000.0,39000000.0,50000000.0,100000000.0,60000000.0,40000000.0,45000000.0,66000000.0,110000000.0,56000000.0,40000000.0,30000000.0,37000000.0,70000000.0,55000000.0,40000000.0,27500000.0,36000000.0,50000000.0,50000000.0,105000000.0,50000000.0,90000000.0,110000000.0,60000000.0,37000000.0,29000000.0,74500000.0,100000000.0,80000000.0,57000000.0,65000000.0,40000000.0,70000000.0,80000000.0,45000000.0,70000000.0,42000000.0,47000000.0,60000000.0,50000000.0,45000000.0,60000000.0,40000000.0,60000000.0,50000000.0,30000000.0,65000000.0,40000000.0,80000000.0,80000000.0,80000000.0,45000000.0,50000000.0,30000000.0,50000000.0,70000000.0,43000000.0,30000000.0,32000000.0,56000000.0,53000000.0,52000000.0,35000000.0,40000000.0,50000000.0,60000000.0,40000000.0,45000000.0,45000000.0,43000000.0,82000000.0,88000000.0,50000000.0,50000000.0,85000000.0,45000000.0,35000000.0,39000000.0,50000000.0,43000000.0,45000000.0,80000000.0,88000000.0,32000000.0,58000000.0,42000000.0,60000000.0,50000000.0,62000000.0,55000000.0,40000000.0,50000000.0,50000000.0,30000000.0,57000000.0,50000000.0,75000000.0,72000000.0,40000000.0,50000000.0,28000000.0,28000000.0,40000000.0,65000000.0,45000000.0,85000000.0,70000000.0,45000000.0,70000000.0,60000000.0,45000000.0,50000000.0,40000000.0,50000000.0,45000000.0,40000000.0,38000000.0,55000000.0,50000000.0,54000000.0,45000000.0,50000000.0,70000000.0,45000000.0,60000000.0,80000000.0,50000000.0,50000000.0,52000000.0,32000000.0,40000000.0,82500000.0,54000000.0,75000000.0,40000000.0,85000000.0,64000000.0,75000000.0,72500000.0,63000000.0,50000000.0,40000000.0,51000000.0,40000000.0,40000000.0,50000000.0,40000000.0,60000000.0,55000000.0,70000000.0,85000000.0,40000000.0,76000000.0,40000000.0,90000000.0,50000000.0,75000000.0,85000000.0,100000000.0,85000000.0,24000000.0,65000000.0,85000000.0,70000000.0,47000000.0,86000000.0,60000000.0,50000000.0,60000000.0,40000000.0,70000000.0,65000000.0,61000000.0,34000000.0,40000000.0,50000000.0,50000000.0,60795000.0,45000000.0,30000000.0,50000000.0,85000000.0,35000000.0,85000000.0,70000000.0,67000000.0,70000000.0,80000000.0,55000000.0,39000000.0,30000000.0,70000000.0,51500000.0,45000000.0,60000000.0,55000000.0,25000000.0,35000000.0,100000000.0,70000000.0,45000000.0,86000000.0,45000000.0,50000000.0,75000000.0,40000000.0,40000000.0,30000000.0,30000000.0,70000000.0,25000000.0,50000000.0,85000000.0,70000000.0,85000000.0,40000000.0,90000000.0,62000000.0,35000000.0,58000000.0,40000000.0,37000000.0,30000000.0,55000000.0,40000000.0,35000000.0,90000000.0,60000000.0,40000000.0,80000000.0,45000000.0,60000000.0,37000000.0,65000000.0,80341000.0,92000000.0,45000000.0,35000000.0,37000000.0,70000000.0,60000000.0,45000000.0,60000000.0,45000000.0,80000000.0,70000000.0,55000000.0,35000000.0,40000000.0,55000000.0,30000000.0,80000000.0,80000000.0,32000000.0,55000000.0,70000000.0,75000000.0,80000000.0,35000000.0,41677699.0,60000000.0,30000000.0,35000000.0,60000000.0,26000000.0,50000000.0,60000000.0,38000000.0,50000000.0,40000000.0,35000000.0,75000000.0,50000000.0,41000000.0,78146652.0,50000000.0,40000000.0,50000000.0,60000000.0,80000000.0,60000000.0,100000000.0,100000000.0,60000000.0,80000000.0,30000000.0,38000000.0,45000000.0,30000000.0,40000000.0,50000000.0,35000000.0,39000000.0,40000000.0,40000000.0,50000000.0,80000000.0,40000000.0,70000000.0,100000000.0,40000000.0,53000000.0,40000000.0,25000000.0,40000000.0,65000000.0,40000000.0,40000000.0,35000000.0,70000000.0,65000000.0,60000000.0,58000000.0,80000000.0,85000000.0,80000000.0,97250400.0,80000000.0,52000000.0,95000000.0,45000000.0,70000000.0,48000000.0,100000000.0,52000000.0,40000000.0,36000000.0,55000000.0,45000000.0,50000000.0,35000000.0,75000000.0,40000000.0,35000000.0,47000000.0,40000000.0,47000000.0,69000000.0,35000000.0,44000000.0,100000000.0,60000000.0,30000000.0,37000000.0,60000000.0,70000000.0,80000000.0,85000000.0,35000000.0,38000000.0,58000000.0,50000000.0,65000000.0,100000000.0,40000000.0,30000000.0,120000000.0,55000000.0,37000000.0,80000000.0,42000000.0,40000000.0,70000000.0,27000000.0,25000000.0,40000000.0,37000000.0,30000000.0,30000000.0,36000000.0,40000000.0,50000000.0,50200000.0,40000000.0,36000000.0,50000000.0,70000000.0,80000000.0,42000000.0,32000000.0,32000000.0,82000000.0,63000000.0,40000000.0,40000000.0,38000000.0,35000000.0,60000000.0,30000000.0,30000000.0,55000000.0,20000000.0,49900000.0,80000000.0,35000000.0,50000000.0,35000000.0,52000000.0,47000000.0,40000000.0,90000000.0,60000000.0,50000000.0,66000000.0,75000000.0,40000000.0,45000000.0,35000000.0,50000000.0,75000000.0,35000000.0,75000000.0,79000000.0,45000000.0,66000000.0,45000000.0,40000000.0,55000000.0,56000000.0,50000000.0,90000000.0,37000000.0,70000000.0,42000000.0,58000000.0,94000000.0,40000000.0,40000000.0,85000000.0,30000000.0,57000000.0,41000000.0,65000000.0,42000000.0,85000000.0,65000000.0,60000000.0,40000000.0,40000000.0,69000000.0,75000000.0,45000000.0,68000000.0,30000000.0,60000000.0,70000000.0,50000000.0,39000000.0,45000000.0,102000000.0,21000000.0,31000000.0,65000000.0,33000000.0,40000000.0,35000000.0,40000000.0,60000000.0,35000000.0,42000000.0,60000000.0,56000000.0,35000000.0,50000000.0,60000000.0,35000000.0,60000000.0,40000000.0,70000000.0,44000000.0,40000000.0,32000000.0,40000000.0,58000000.0,75000000.0,43000000.0,61000000.0,90000000.0,38000000.0,50000000.0,30000000.0,60000000.0,46000000.0,38000000.0,55000000.0,50000000.0,110000000.0,55000000.0,28000000.0,90000000.0,40000000.0,35000000.0,90000000.0,50000000.0,39200000.0,40000000.0,25000000.0,60000000.0,50000000.0,65000000.0,70000000.0,60000000.0,30000000.0,50000000.0,66000000.0,70000000.0,50000000.0,100000000.0,40000000.0,40000000.0,70000000.0,40000000.0,50000000.0,55000000.0,40000000.0,50000000.0,40000000.0,90000000.0,45000000.0,65000000.0,50000000.0,60000000.0,49300000.0,70000000.0,50000000.0,68000000.0,50000000.0,80000000.0,40000000.0,36000000.0,100000000.0,42000000.0,65000000.0,50000000.0,44000000.0,95000000.0,65000000.0,65000000.0,49000000.0,70000000.0,100000000.0,60000000.0,44000000.0,55000000.0,50100000.0,38000000.0,50000000.0,35000000.0,35000000.0,40000000.0,50000000.0,40000000.0,38000000.0,34000000.0,35000000.0,35000000.0,35000000.0,37000000.0,65000000.0,90000000.0,68000000.0,53000000.0,31000000.0,75000000.0,35000000.0,50000000.0,40000000.0,35000000.0,28000000.0,60000000.0,40000000.0,55000000.0,64000000.0,46000000.0,40000000.0,58000000.0,35000000.0,37000000.0,105000000.0,38000000.0,28000000.0,50000000.0,38000000.0,30000000.0,40000000.0,80000000.0,20000000.0,60000000.0,36000000.0,35000000.0,50000000.0,40000000.0,50000000.0,50000000.0,33000000.0,65000000.0,40000000.0,40000000.0,90000000.0,60000000.0,35000000.0,110000000.0,45000000.0,44000000.0,40000000.0,40000000.0,43000000.0,47000000.0,70000000.0,50000000.0,85000000.0,75000000.0,40000000.0,60000000.0,36000000.0,45000000.0,108000000.0,35000000.0,38000000.0,22000000.0,45000000.0,40000000.0,40000000.0,40000000.0,58000000.0,100000000.0,60000000.0,69000000.0,42000000.0,38000000.0,60000000.0,60000000.0,50000000.0],\"xaxis\":\"x\",\"y\":[187436818.0,64350171.0,107879496.0,13681765.0,10017322.0,116112375.0,212385533.0,35431113.0,115101622.0,30303072.0,168840000.0,11534477.0,12379402.0,150270147.0,182016617.0,210000000.0,70100000.0,9851610.0,185260553.0,152022101.0,157387195.0,127600435.0,113493481.0,10382407.0,20350754.0,113374103.0,7959291.0,104324083.0,214015089.0,223664608.0,37000000.0,160638883.0,112006296.0,106683817.0,189859560.0,170362582.0,196567262.0,189833357.0,120000000.0,215887717.0,117615211.0,61947267.0,25052000.0,99423521.0,119208989.0,19726050.0,159055768.0,176997168.0,137298489.0,121969216.0,135130999.0,206678440.0,24332324.0,116300000.0,20915465.0,16478900.0,102616183.0,100860818.0,115267375.0,28921264.0,17300889.0,113309743.0,58620973.0,18626419.0,100138851.0,102825796.0,128769345.0,159212469.0,152036382.0,152266007.0,60209334.0,42277365.0,53854588.0,33956608.0,49627779.0,47267001.0,17380126.0,22540359.0,140767956.0,89456761.0,75000000.0,2154540.0,165615285.0,34416893.0,157920733.0,90000098.0,89460381.0,96105910.0,159773545.0,215862692.0,182300000.0,150000000.0,129832389.0,48093211.0,139000000.0,156563139.0,101371017.0,75505856.0,141047179.0,11466088.0,31987563.0,50068310.0,118063304.0,140807547.0,136885767.0,50159144.0,229074524.0,224012234.0,171120329.0,48169156.0,26673242.0,87840042.0,136982834.0,199200000.0,126216940.0,131457682.0,109423648.0,16000000.0,152944660.0,10541523.0,45916769.0,121214377.0,159330280.0,139804348.0,162000000.0,74000000.0,177977226.0,79082515.0,122417389.0,172363301.0,17626234.0,186883563.0,19870567.0,11203026.0,13100000.0,102367405.0,136159423.0,198685114.0,140464664.0,38172500.0,128038368.0,164000000.0,189198313.0,77745568.0,54682547.0,128499205.0,41482207.0,650422.0,30925690.0,136766062.0,1060056.0,58662452.0,44547681.0,222300000.0,47431461.0,62000000.0,191502426.0,103891409.0,48585416.0,131183530.0,57269863.0,8479793.0,41610884.0,171757863.0,71485043.0,46683377.0,14567883.0,116672912.0,185991646.0,40002112.0,142940100.0,100491683.0,152427960.0,69131860.0,37141130.0,118000000.0,218613188.0,23717291.0,189015611.0,119946358.0,98126565.0,202292902.0,56702901.0,14010690.0,37962774.0,161626121.0,118880016.0,36850101.0,96618699.0,176885658.0,28121100.0,93888180.0,13260050.0,29000000.0,73345029.0,212404396.0,103738726.0,190458706.0,75850624.0,149705852.0,162091208.0,215394738.0,91188905.0,73648228.0,29762011.0,23159305.0,124305181.0,195268056.0,10667893.0,19598588.0,11263966.0,117758500.0,177841558.0,108000000.0,74608570.0,100853753.0,58900031.0,45681173.0,195312802.0,156167015.0,159375308.0,36911617.0,151493655.0,60289912.0,90400000.0,66976317.0,163644662.0,152368585.0,15691192.0,93700000.0,90874570.0,48451803.0,100230832.0,47434430.0,90683916.0,128798265.0,73956241.0,14828081.0,57319029.0,134095253.0,107458785.0,178051587.0,149022650.0,137783840.0,161834276.0,144056873.0,36037909.0,106371651.0,32168970.0,60874615.0,58401898.0,205405498.0,76432727.0,13300000.0,71000000.0,127666415.0,59468275.0,21400000.0,56932305.0,210308099.0,173959438.0,57120318.0,237202299.0,107196498.0,36754634.0,224834564.0,149270999.0,35134820.0,69700000.0,155464351.0,133949270.0,63710000.0,123307945.0,113916474.0,190213455.0,128884132.0,104155843.0,30199105.0,47383689.0,136706683.0,19412993.0,90383208.0,55707411.0,39459427.0,33463969.0,96085477.0,183611771.0,215663859.0,191185897.0,152500343.0,169327687.0,80049764.0,212000000.0,34566746.0,207515725.0,57059003.0,94728529.0,14375181.0,65754228.0,5409517.0,18720175.0,147845033.0,56359980.0,96976270.0,79958599.0,147934180.0,105178561.0,83282296.0,54744738.0,10372291.0,23202444.0,117487473.0,29700000.0,179213434.0,179033791.0,98376292.0,147080413.0,176104344.0,207283925.0,93375151.0,141220678.0,71069884.0,8083123.0,63408614.0,25928721.0,35402320.0,165335153.0,13596911.0,62112895.0,85498534.0,27053815.0,16991902.0,8493890.0,104876233.0,100020092.0,67631903.0,74558115.0,27642707.0,35743308.0,50315140.0,54249294.0,72700000.0,141069860.0,143049560.0,91753202.0,203388341.0,37317558.0,87713825.0,172989651.0,153518974.0,75395048.0,78382433.0,16671505.0,32287044.0,102244770.0,52322400.0,45479110.0,114660784.0,21355893.0,123729176.0,3484331.0,102984862.0,77741732.0,155010032.0,196397415.0,63781810.0,94935764.0,68696770.0,56714147.0,165333180.0,16872671.0,119137784.0,129000000.0,51801187.0,113714830.0,122563539.0,193000000.0,65977295.0,214034224.0,77628265.0,145771527.0,171269535.0,43061982.0,181001478.0,35168966.0,119723358.0,26199517.0,7103973.0,181096164.0,18902015.0,22433915.0,19924033.0,180622424.0,209196298.0,68349884.0,33561137.0,172855065.0,215000000.0,10959475.0,30002758.0,55003135.0,69701637.0,154906693.0,67312826.0,105834556.0,193772504.0,93354918.0,41323171.0,120072577.0,177371441.0,88323487.0,179179718.0,117270765.0,12923936.0,38955598.0,85632458.0,34234008.0,75715436.0,42792561.0,74208267.0,44350926.0,195745823.0,164433867.0,176070171.0,236350661.0,51142659.0,124914842.0,26288320.0,179265204.0,160583018.0,156505388.0,148336445.0,197011982.0,7266209.0,116643346.0,114908830.0,65565672.0,14358033.0,19322135.0,80916492.0,55495563.0,131282949.0,156822020.0,119940815.0,180949000.0,80154140.0,220673217.0,173398518.0,68514844.0,141591324.0,182290266.0,43935763.0,17218080.0,177394432.0,122919055.0,33828318.0,190212113.0,173013509.0,96269812.0,121975011.0,171963386.0,46546197.0,20423389.0,6808550.0,196482882.0,6614280.0,25195000.0,108103450.0,170268750.0,92913171.0,65470529.0,99318987.0,103951461.0,57223890.0,26155781.0,152159461.0,96455697.0,130293714.0,6416302.0,12303411.0,187500000.0,160000000.0,49000000.0,49718611.0,115772733.0,200804534.0,102000000.0,72178895.0,219417255.0,113086475.0,115603229.0,62172050.0,82102379.0,96105964.0,28283637.0,217764291.0,95149435.0,171183863.0,78000586.0,129394835.0,57958696.0,117575636.0,7191399.0,74541707.0,170128460.0,14793624.0,13395939.0,124731534.0,61347797.0,40203020.0,140161792.0,128905366.0,9243140.0,5989640.0,55041367.0,162944923.0,21009180.0,161451538.0,216763646.0,34808403.0,154648887.0,56681566.0,93772522.0,97918663.0,113006880.0,95226116.0,77944725.0,68915888.0,158733820.0,104478416.0,71073932.0,68766121.0,50871113.0,56070433.0,154749918.0,190320568.0,108539911.0,69425966.0,66002004.0,131426169.0,16809014.0,86369815.0,38869464.0,110803676.0,91974818.0,92374674.0,10166502.0,105316267.0,85167639.0,102854431.0,24127895.0,55987321.0,22944502.0,52304001.0,223387299.0,117195061.0,42093706.0,44434439.0,192452832.0,52034889.0,8342132.0,142400065.0,96889998.0,46442528.0,94000000.0,121147947.0,186438883.0,31670620.0,64321501.0,72028752.0,162242962.0,130358911.0,38058335.0,88933562.0,129181830.0,38399961.0,111340801.0,138259062.0,69834815.0,82800000.0,120455994.0,29907685.0,65664721.0,128406887.0,132511035.0,184376254.0,61112916.0,38629478.0,178262620.0,77920346.0,37384046.0,97607453.0,87528173.0,204999686.0,80197993.0,114830111.0,237681299.0,130431368.0,42285169.0,60474340.0,158468292.0,101595121.0,140175006.0,162966177.0,162945894.0,55181129.0,5446000.0,72779000.0,86915017.0,38755073.0,49111202.0,120175290.0,17800000.0,9450897.0,55011732.0,197309027.0,23937870.0,69959751.0,109676311.0,65900249.0,132180323.0,180557550.0,194168700.0,170877916.0,144000000.0,155721132.0,43545364.0,59908565.0,154937680.0,38085778.0,107944236.0,137587063.0,82169884.0,95673607.0,145896422.0,76066841.0,84785914.0,95696996.0,95608995.0,62771059.0,32017803.0,9448082.0,73090611.0,30822861.0,219076518.0,90450008.0,149044513.0,69307224.0,186072214.0,135560026.0,25303038.0,86658558.0,15071514.0,70016220.0,26820641.0,129266061.0,69766619.0,55112356.0,148412065.0,127766650.0,74237563.0,171600000.0,63215872.0,97838349.0,195735876.0,4607608.0,14373825.0,175372502.0,152000000.0,119000410.0,41797066.0,103071443.0,156835339.0,160259319.0,53587404.0,170764026.0,113244290.0,160388063.0,111231041.0,222231186.0,151161491.0,162839667.0,41819064.0,69823199.0,41299492.0,1641825.0,100076342.0,105173115.0,127906624.0,84601681.0,170000000.0,201596308.0,163403799.0,7400000.0,230685453.0,101702060.0,50650079.0,63800345.0,128107642.0,127814609.0,188072649.0,73762516.0,72436439.0,163720069.0,72108608.0,39031337.0,42487390.0,73174566.0,9323833.0,178066569.0,113280098.0,17869048.0,85416905.0,9793496.0,113020255.0,108979549.0,163733697.0,233093859.0,113019290.0,168167691.0,225990978.0,200276000.0,212874442.0,75225693.0,187479518.0,50877145.0,114663461.0,91353501.0,57490374.0,183293131.0,7033683.0,124596398.0,45465299.0,60161391.0,177259441.0,73034460.0,61458982.0,12764201.0,91636986.0,60000000.0,155446362.0,108332743.0,36348784.0,87784194.0,121059225.0,31720158.0,68688831.0,150166126.0,62357900.0,214104620.0,95714875.0,205298907.0,57881056.0,210819611.0,129540499.0,106303988.0,155545279.0,101229792.0,8251071.0,186167139.0,40828540.0,122444772.0,12206028.0,171844840.0,100086793.0,28972508.0,126690726.0,19258519.0,163670000.0,28169671.0,44091067.0,46471023.0,60462347.0,92219310.0,104945765.0,93525586.0,122233971.0,85280250.0,53825515.0,219103655.0,157107755.0,132900000.0,74901339.0,216485654.0,226497209.0,60222298.0,39041505.0,112462508.0,94882889.0,52826594.0,136000000.0,64572262.0,152263880.0,7810000.0,83761844.0,115664037.0,98159963.0,90029656.0,77477008.0,10539000.0,126248813.0,3547209.0,86387857.0,93246388.0,48190704.0,170432927.0,47664559.0,159291809.0,154026136.0,204594016.0,134748021.0,140073390.0,112483764.0,60251371.0,105610124.0,71664962.0,105197635.0,211780824.0,167805466.0,58785180.0,102820008.0,48668907.0,89519773.0,145570827.0,201584141.0,11087569.0,88100000.0,67112664.0,161849455.0,147780440.0,85412898.0,96047633.0,130786397.0,108609310.0,189712432.0,97552050.0,28931401.0,127869379.0,51070807.0,83160734.0,144492830.0,202466756.0,214918407.0,89162162.0,83615414.0,147332697.0,89792502.0,183953723.0,45735397.0,97138686.0,114156230.0,59901913.0,78309131.0,151119219.0,102000000.0,187361754.0,216197492.0,26121638.0,169852759.0,117000000.0,142851197.0,150483765.0,75450437.0,157887643.0,60965854.0,48795021.0,137551594.0,110206216.0,57777106.0,132274484.0,173930596.0,160078586.0,82087155.0,38502340.0,152930623.0,84606030.0,226904017.0,149673788.0,165184237.0,177584879.0,24000000.0,55247881.0,9489829.0,142044638.0,120081841.0,232617430.0,95404397.0,160112671.0,46221189.0,50365377.0,95311434.0,36893721.0,24719215.0,208076205.0,196114570.0,149217355.0,7448385.0,156974557.0,201585328.0,183018522.0,179379533.0,118338361.0,22044277.0,79700000.0,112265139.0,59418613.0,82966152.0,68267862.0,114281051.0,107139399.0,58058367.0,41037742.0,35287788.0,30353232.0,130482868.0,205738714.0,161772375.0,44806783.0,140470746.0,132820716.0,116980662.0,41863726.0,218340595.0,88058786.0,180274123.0,105200903.0,19701164.0,46216641.0,224803475.0,8106475.0,173965010.0,60052138.0,74597643.0,161025640.0,63327201.0,95020213.0,126041322.0,5446000.0,44000000.0,117698894.0,158674180.0,131940411.0,174578751.0,98337295.0,219788712.0,117932401.0,90565421.0,122126687.0,90247624.0,95000000.0,122915111.0,125537191.0,110000000.0,134402450.0,188133322.0,149295601.0,112544580.0,16178959.0,173649015.0,86758912.0,44907260.0,153997819.0,50549107.0,48600000.0,71154592.0,154984035.0,30800231.0,174600318.0,222809600.0,203277636.0,61279452.0,80383290.0,103039258.0,196781193.0,126546825.0,18662027.0,123494610.0,188441614.0,192330738.0,67347013.0,151165787.0,126069509.0,206172544.0,86165646.0,39407616.0,160602194.0,108255770.0,24186232.0,215529201.0,83719388.0,211817906.0,97437106.0,126546518.0,169837010.0,52424533.0,93820758.0,107670357.0,163442937.0,212902372.0,12342632.0,114178613.0,133821816.0,73706.0,104399548.0,17752940.0,94061311.0,30418560.0,155760117.0,74679822.0,153962963.0,123205624.0,71561644.0,83061158.0,95437994.0,13644292.0,3324330.0,111811453.0,107597242.0,63013281.0,81967450.0,51680201.0,140795793.0,26250020.0,121545703.0,146936910.0,217022588.0,98837872.0,104384188.0,108145109.0,61181942.0,69411370.0,100000000.0,194564672.0,201634991.0,101134059.0,34227298.0,203427584.0,97571250.0,23737523.0,165478348.0,158162788.0,50363790.0,173567581.0,133718711.0,109906372.0,133346506.0,55969000.0,112343513.0,105011053.0,124827316.0,52099090.0,207945075.0,205754447.0,156844753.0,108758521.0,25035950.0,37279439.0,62788218.0,216972543.0,77068246.0,143695338.0,86234523.0,125729635.0,162360636.0,69929545.0,211952420.0,121790373.0,173185859.0,155160045.0,175302354.0,30930984.0,46652768.0,203388186.0,182379278.0,102205175.0,119520023.0,220021259.0,29918745.0,162146076.0,87416021.0,114501299.0,22678555.0,81093313.0,118034273.0,194647323.0,50548152.0,26559557.0,171539887.0,240978.0,100541806.0,142337240.0,197183546.0,177856751.0,60845711.0,110824373.0,9420546.0,71000000.0,66913939.0],\"yaxis\":\"y\",\"type\":\"scattergl\"},{\"customdata\":[[\"Batman Forever\"],[\"Waterworld\"],[\"True Lies\"],[\"Terminator 2: Judgment Day\"],[\"Eraser\"],[\"Dante's Peak\"],[\"Speed 2: Cruise Control\"],[\"Batman & Robin\"],[\"Tomorrow Never Dies\"],[\"Godzilla\"],[\"Armageddon\"],[\"Lethal Weapon 4\"],[\"The Mask of Zorro\"],[\"A Bug's Life\"],[\"Tarzan\"],[\"Wild Wild West\"],[\"The 13th Warrior\"],[\"Sleepy Hollow\"],[\"The World Is Not Enough\"],[\"End of Days\"],[\"Stuart Little\"],[\"Gladiator\"],[\"Dinosaur\"],[\"Mission: Impossible II\"],[\"The Patriot\"],[\"The Perfect Storm\"],[\"How the Grinch Stole Christmas\"],[\"The Mummy Returns\"],[\"Pearl Harbor\"],[\"Atlantis: The Lost Empire\"],[\"Lara Croft: Tomb Raider\"],[\"A.I. Artificial Intelligence\"],[\"Final Fantasy: The Spirits Within\"],[\"Planet of the Apes\"],[\"Monsters, Inc.\"],[\"Star Wars: Episode II - Attack of the Clones\"],[\"Minority Report\"],[\"Men in Black II\"],[\"Stuart Little 2\"],[\"Die Another Day\"],[\"Treasure Planet\"],[\"X2\"],[\"Charlie's Angels: Full Throttle\"],[\"Hulk\"],[\"Terminator 3: Rise of the Machines\"],[\"Bad Boys II\"],[\"The Matrix Revolutions\"],[\"Master and Commander: The Far Side of the World\"],[\"The Last Samurai\"],[\"The Alamo\"],[\"Van Helsing\"],[\"Troy\"],[\"The Day After Tomorrow\"],[\"King Arthur\"],[\"I, Robot\"],[\"The Polar Express\"],[\"National Treasure\"],[\"Alexander\"],[\"Ocean's Twelve\"],[\"Lemony Snicket's A Series of Unfortunate Events\"],[\"Charlie and the Chocolate Factory\"],[\"The Aviator\"],[\"Constantine\"],[\"Sahara\"],[\"Kingdom of Heaven\"],[\"Mr. & Mrs. Smith\"],[\"Batman Begins\"],[\"War of the Worlds\"],[\"Fantastic Four\"],[\"The Island\"],[\"Stealth\"],[\"Chicken Little\"],[\"King Kong\"],[\"Fun with Dick and Jane\"],[\"Mission: Impossible III\"],[\"Poseidon\"],[\"X-Men: The Last Stand\"],[\"Cars\"],[\"Superman Returns\"],[\"Night at the Museum\"],[\"Miami Vice\"],[\"Flushed Away\"],[\"Casino Royale\"],[\"Happy Feet\"],[\"Eragon\"],[\"Ratatouille\"],[\"Ghost Rider\"],[\"Meet the Robinsons\"],[\"Fantastic 4: Rise of the Silver Surfer\"],[\"Live Free or Die Hard\"],[\"Evan Almighty\"],[\"Rush Hour 3\"],[\"American Gangster\"],[\"Bee Movie\"],[\"The Golden Compass\"],[\"I Am Legend\"],[\"National Treasure: Book of Secrets\"],[\"10,000 BC\"],[\"Speed Racer\"],[\"Iron Man\"],[\"The Chronicles of Narnia: Prince Caspian\"],[\"Kung Fu Panda\"],[\"The Incredible Hulk\"],[\"WALL\\u00b7E\"],[\"Hancock\"],[\"Watchmen\"],[\"The Mummy: Tomb of the Dragon Emperor\"],[\"Madagascar: Escape 2 Africa\"],[\"Quantum of Solace\"],[\"Australia\"],[\"Bolt\"],[\"The Curious Case of Benjamin Button\"],[\"Monsters vs Aliens\"],[\"X-Men Origins: Wolverine\"],[\"Star Trek\"],[\"Angels & Demons\"],[\"Terminator Salvation\"],[\"Night at the Museum: Battle of the Smithsonian\"],[\"G.I. Joe: The Rise of Cobra\"],[\"G-Force\"],[\"Cloudy with a Chance of Meatballs\"],[\"A Christmas Carol\"],[\"The Princess and the Frog\"],[\"How to Train Your Dragon\"],[\"Clash of the Titans\"],[\"Robin Hood\"],[\"Prince of Persia: The Sands of Time\"],[\"Sex and the City 2\"],[\"The A-Team\"],[\"The Last Airbender\"],[\"The Sorcerer's Apprentice\"],[\"Knight and Day\"],[\"Salt\"],[\"Megamind\"],[\"The Chronicles of Narnia: The Voyage of the Dawn Treader\"],[\"The Tourist\"],[\"TRON: Legacy\"],[\"Little Fockers\"],[\"Gulliver's Travels\"],[\"The Green Hornet\"],[\"Cowboys & Aliens\"],[\"Rango\"],[\"Mars Needs Moms\"],[\"Thor\"],[\"Fast Five\"],[\"X-Men: First Class\"],[\"Green Lantern\"],[\"Cars 2\"],[\"Captain America: The First Avenger\"],[\"The Smurfs\"],[\"Real Steel\"],[\"The Adventures of Tintin\"],[\"Hugo\"],[\"Happy Feet Two\"],[\"The Expendables 2\"],[\"The Bourne Legacy\"],[\"Sherlock Holmes: A Game of Shadows\"],[\"John Carter\"],[\"Wrath of the Titans\"],[\"Battleship\"],[\"Dark Shadows\"],[\"Snow White and the Huntsman\"],[\"Prometheus\"],[\"Brave\"],[\"Total Recall\"],[\"Wreck-It Ralph\"],[\"Life of Pi\"],[\"Rise of the Guardians\"],[\"Django Unchained\"],[\"Jack the Giant Slayer\"],[\"G.I. Joe: Retaliation\"],[\"Oz: The Great and Powerful\"],[\"The Croods\"],[\"Oblivion\"],[\"The Great Gatsby\"],[\"Star Trek Into Darkness\"],[\"The Hangover Part III\"],[\"Epic\"],[\"After Earth\"],[\"Pacific Rim\"],[\"World War Z\"],[\"Elysium\"],[\"White House Down\"],[\"The Lone Ranger\"],[\"R.I.P.D.\"],[\"Turbo\"],[\"The Wolverine\"],[\"The Smurfs 2\"],[\"47 Ronin\"],[\"The Wolf of Wall Street\"],[\"RoboCop\"],[\"300: Rise of an Empire\"],[\"Mr. Peabody & Sherman\"],[\"Noah\"],[\"Rio 2\"],[\"Pompeii\"],[\"Godzilla\"],[\"Edge of Tomorrow\"],[\"How to Train Your Dragon 2\"],[\"Hercules\"],[\"Jupiter Ascending\"],[\"Teenage Mutant Ninja Turtles\"],[\"Exodus: Gods and Kings\"],[\"Penguins of Madagascar\"],[\"Night at the Museum: Secret of the Tomb\"],[\"Terminator Genisys\"],[\"Mad Max: Fury Road\"],[\"Warcraft\"],[\"Ant-Man\"],[\"Fantastic Four\"],[\"X-Men: Apocalypse\"],[\"Pan\"],[\"Insurgent\"],[\"Home\"],[\"Tomorrowland\"],[\"San Andreas\"],[\"The Martian\"],[\"Allegiant\"],[\"Independence Day: Resurgence\"],[\"Star Trek Beyond\"],[\"The Good Dinosaur\"],[\"The Revenant\"],[\"The Peanuts Movie\"],[\"Kung Fu Panda 3\"],[\"Gods of Egypt\"],[\"The Huntsman: Winter's War\"],[\"Alice Through the Looking Glass\"],[\"The BFG\"],[\"Teenage Mutant Ninja Turtles: Out of the Shadows\"],[\"Ghostbusters\"],[\"Jason Bourne\"],[\"The Legend of Tarzan\"],[\"Ice Age: Collision Course\"],[\"Miss Peregrine's Home for Peculiar Children\"],[\"Trolls\"],[\"Passengers\"],[\"The Great Wall\"],[\"Assassin's Creed\"],[\"Monster Trucks\"],[\"Kong: Skull Island\"],[\"King Arthur: Legend of the Sword\"],[\"The Boss Baby\"],[\"Ghost in the Shell\"],[\"Alien: Covenant\"],[\"The Mummy\"],[\"Cars 3\"],[\"War for the Planet of the Apes\"],[\"Valerian and the City of a Thousand Planets\"],[\"Dunkirk\"]],\"hovertemplate\":\"clusters=2<br>budget=%{x}<br>revenue=%{y}<br>title=%{customdata[0]}<extra></extra>\",\"legendgroup\":\"2\",\"marker\":{\"color\":\"#ab63fa\",\"symbol\":\"circle\"},\"mode\":\"markers\",\"name\":\"2\",\"showlegend\":true,\"x\":[100000000.0,175000000.0,115000000.0,100000000.0,100000000.0,116000000.0,160000000.0,125000000.0,110000000.0,130000000.0,140000000.0,140000000.0,95000000.0,120000000.0,150000000.0,170000000.0,160000000.0,100000000.0,135000000.0,100000000.0,133000000.0,103000000.0,127500000.0,125000000.0,110000000.0,120000000.0,123000000.0,98000000.0,140000000.0,120000000.0,115000000.0,100000000.0,137000000.0,100000000.0,115000000.0,120000000.0,102000000.0,140000000.0,120000000.0,140000000.0,140000000.0,110000000.0,120000000.0,137000000.0,200000000.0,130000000.0,150000000.0,150000000.0,140000000.0,145000000.0,160000000.0,175000000.0,125000000.0,120000000.0,120000000.0,165000000.0,100000000.0,155000000.0,110000000.0,140000000.0,150000000.0,116000000.0,100000000.0,130000000.0,130000000.0,110000000.0,150000000.0,132000000.0,100000000.0,126000000.0,135000000.0,150000000.0,207000000.0,100000000.0,150000000.0,160000000.0,210000000.0,120000000.0,270000000.0,110000000.0,135000000.0,149000000.0,150000000.0,100000000.0,100000000.0,150000000.0,110000000.0,150000000.0,130000000.0,110000000.0,175000000.0,140000000.0,100000000.0,150000000.0,180000000.0,150000000.0,130000000.0,105000000.0,120000000.0,140000000.0,225000000.0,130000000.0,150000000.0,180000000.0,150000000.0,130000000.0,145000000.0,150000000.0,200000000.0,130000000.0,150000000.0,150000000.0,175000000.0,150000000.0,150000000.0,150000000.0,200000000.0,150000000.0,175000000.0,150000000.0,100000000.0,200000000.0,105000000.0,165000000.0,125000000.0,200000000.0,150000000.0,100000000.0,110000000.0,150000000.0,150000000.0,117000000.0,110000000.0,130000000.0,155000000.0,100000000.0,170000000.0,100000000.0,112000000.0,120000000.0,163000000.0,135000000.0,150000000.0,150000000.0,125000000.0,160000000.0,200000000.0,200000000.0,140000000.0,110000000.0,110000000.0,130000000.0,170000000.0,130000000.0,100000000.0,130000000.0,125000000.0,260000000.0,150000000.0,209000000.0,150000000.0,170000000.0,130000000.0,185000000.0,125000000.0,165000000.0,120000000.0,145000000.0,100000000.0,195000000.0,130000000.0,200000000.0,135000000.0,120000000.0,105000000.0,190000000.0,103000000.0,100000000.0,130000000.0,180000000.0,200000000.0,115000000.0,150000000.0,255000000.0,130000000.0,135000000.0,120000000.0,105000000.0,175000000.0,100000000.0,120000000.0,110000000.0,145000000.0,125000000.0,103000000.0,130000000.0,160000000.0,178000000.0,145000000.0,100000000.0,176000003.0,125000000.0,140000000.0,132000000.0,127000000.0,155000000.0,150000000.0,160000000.0,130000000.0,120000000.0,178000000.0,150000000.0,110000000.0,135000000.0,190000000.0,110000000.0,108000000.0,110000000.0,165000000.0,185000000.0,175000000.0,135000000.0,99000000.0,145000000.0,140000000.0,115000000.0,170000000.0,140000000.0,135000000.0,144000000.0,120000000.0,180000000.0,105000000.0,110000000.0,125000000.0,110000000.0,150000000.0,125000000.0,125000000.0,185000000.0,175000000.0,125000000.0,110000000.0,97000000.0,125000000.0,175000000.0,152000000.0,197471676.0,100000000.0],\"xaxis\":\"x\",\"y\":[336529144.0,264218220.0,378882411.0,520000000.0,242295562.0,178127760.0,164508066.0,238207122.0,333011068.0,379014294.0,553799566.0,285444603.0,250288523.0,363258859.0,448000000.0,222104681.0,61698899.0,206071502.0,361832400.0,211989043.0,300135367.0,457640427.0,354248063.0,546388105.0,215294342.0,325756637.0,345141403.0,433013274.0,449220945.0,186053725.0,274703340.0,235926552.0,85131830.0,362211740.0,562816256.0,649398328.0,358372926.0,441818803.0,169956806.0,431971116.0,109578115.0,407711549.0,259175788.0,245360480.0,435000000.0,273339556.0,424988211.0,212011111.0,456758981.0,25819961.0,300257475.0,497409852.0,544272402.0,203567857.0,347234916.0,305875730.0,347451894.0,167298192.0,362744280.0,209073645.0,474968763.0,102000000.0,230884728.0,119269486.0,211643158.0,478207520.0,374218673.0,591739379.0,330579719.0,162949164.0,76932943.0,314432665.0,550000000.0,202026112.0,397850012.0,181674817.0,459359555.0,461983149.0,391081192.0,574480841.0,163794509.0,64459316.0,599045960.0,384335608.0,249288105.0,623722818.0,228738393.0,169332978.0,289047763.0,383531464.0,173000000.0,258022233.0,266465037.0,287594577.0,372234864.0,585349010.0,457363168.0,266000000.0,93945766.0,585174222.0,419651413.0,631744560.0,163712074.0,521311860.0,624029371.0,185258983.0,401128639.0,603900354.0,586090727.0,49554002.0,309979994.0,333932083.0,381509870.0,373062864.0,385680446.0,356613439.0,371353001.0,413106170.0,302469017.0,292817841.0,242988466.0,325233863.0,267045765.0,494878759.0,232713139.0,310669540.0,335154643.0,288347692.0,177238796.0,318502923.0,215283742.0,261930431.0,293329073.0,321887208.0,415686217.0,278731369.0,400062763.0,310650585.0,237382724.0,227817248.0,174822325.0,245724603.0,38992758.0,449326618.0,626137675.0,353624124.0,219851172.0,559852396.0,370569774.0,563749323.0,299268508.0,371940071.0,185770160.0,150406466.0,312573423.0,276572938.0,334615000.0,284139100.0,301000000.0,303025485.0,245527149.0,396600000.0,403170142.0,538983207.0,198802074.0,471222889.0,609016565.0,306941670.0,425368238.0,197687603.0,371876278.0,491868548.0,585178928.0,286168572.0,351040419.0,467365246.0,362000072.0,268426634.0,243843127.0,407602906.0,531865000.0,286140700.0,205366737.0,89289910.0,61648500.0,282570682.0,415440673.0,347434178.0,150962475.0,392000694.0,242688965.0,337580051.0,272912430.0,362637473.0,500188435.0,117831631.0,529076069.0,370541256.0,609123048.0,243400000.0,183987723.0,477200000.0,268031828.0,373552094.0,349424282.0,440603537.0,378858340.0,433677183.0,519311965.0,167977596.0,543934787.0,128388320.0,295238201.0,368871007.0,209154322.0,470490832.0,630161890.0,179246868.0,389681935.0,343471816.0,331926147.0,532950503.0,246233113.0,521170825.0,150680864.0,164602163.0,299370084.0,183345589.0,245623848.0,229147509.0,415484914.0,356743061.0,408579038.0,296485719.0,346864462.0,303144152.0,331957105.0,240697856.0,64493915.0,566652812.0,146175066.0,498814908.0,169801921.0,232380243.0,407778013.0,350170057.0,369907963.0,90024292.0,519876949.0],\"yaxis\":\"y\",\"type\":\"scattergl\"},{\"customdata\":[[\"Jurassic Park\"],[\"Independence Day\"],[\"Titanic\"],[\"Star Wars: Episode I - The Phantom Menace\"],[\"Harry Potter and the Philosopher's Stone\"],[\"The Lord of the Rings: The Fellowship of the Ring\"],[\"Spider-Man\"],[\"Harry Potter and the Chamber of Secrets\"],[\"The Lord of the Rings: The Two Towers\"],[\"The Matrix Reloaded\"],[\"Finding Nemo\"],[\"Pirates of the Caribbean: The Curse of the Black Pearl\"],[\"The Lord of the Rings: The Return of the King\"],[\"Shrek 2\"],[\"Harry Potter and the Prisoner of Azkaban\"],[\"Spider-Man 2\"],[\"Star Wars: Episode III - Revenge of the Sith\"],[\"Harry Potter and the Goblet of Fire\"],[\"The Chronicles of Narnia: The Lion, the Witch and the Wardrobe\"],[\"The Da Vinci Code\"],[\"Pirates of the Caribbean: Dead Man's Chest\"],[\"Spider-Man 3\"],[\"Shrek the Third\"],[\"Pirates of the Caribbean: At World's End\"],[\"Transformers\"],[\"Harry Potter and the Order of the Phoenix\"],[\"The Dark Knight\"],[\"Indiana Jones and the Kingdom of the Crystal Skull\"],[\"Up\"],[\"Transformers: Revenge of the Fallen\"],[\"Ice Age: Dawn of the Dinosaurs\"],[\"Harry Potter and the Half-Blood Prince\"],[\"2012\"],[\"Avatar\"],[\"Alice in Wonderland\"],[\"Iron Man 2\"],[\"Toy Story 3\"],[\"Shrek Forever After\"],[\"Inception\"],[\"Harry Potter and the Deathly Hallows: Part 1\"],[\"Tangled\"],[\"Pirates of the Caribbean: On Stranger Tides\"],[\"Kung Fu Panda 2\"],[\"Transformers: Dark of the Moon\"],[\"Harry Potter and the Deathly Hallows: Part 2\"],[\"The Avengers\"],[\"The Twilight Saga: Breaking Dawn - Part 1\"],[\"The Dark Knight Rises\"],[\"Mission: Impossible - Ghost Protocol\"],[\"Men in Black 3\"],[\"Madagascar 3: Europe's Most Wanted\"],[\"The Amazing Spider-Man\"],[\"Ice Age: Continental Drift\"],[\"Skyfall\"],[\"The Twilight Saga: Breaking Dawn - Part 2\"],[\"The Hobbit: An Unexpected Journey\"],[\"Iron Man 3\"],[\"Fast & Furious 6\"],[\"Man of Steel\"],[\"Monsters University\"],[\"Despicable Me 2\"],[\"Gravity\"],[\"Thor: The Dark World\"],[\"The Hunger Games: Catching Fire\"],[\"The Hobbit: The Desolation of Smaug\"],[\"Frozen\"],[\"Interstellar\"],[\"Captain America: The Winter Soldier\"],[\"The Amazing Spider-Man 2\"],[\"X-Men: Days of Future Past\"],[\"Maleficent\"],[\"Mission: Impossible - Rogue Nation\"],[\"Transformers: Age of Extinction\"],[\"Dawn of the Planet of the Apes\"],[\"Guardians of the Galaxy\"],[\"Big Hero 6\"],[\"The Hunger Games: Mockingjay - Part 1\"],[\"Jurassic World\"],[\"The Hobbit: The Battle of the Five Armies\"],[\"Star Wars: The Force Awakens\"],[\"Avengers: Age of Ultron\"],[\"Pirates of the Caribbean: Dead Men Tell No Tales\"],[\"Guardians of the Galaxy Vol. 2\"],[\"Captain America: Civil War\"],[\"Doctor Strange\"],[\"Furious 7\"],[\"Inside Out\"],[\"The Hunger Games: Mockingjay - Part 2\"],[\"Fantastic Beasts and Where to Find Them\"],[\"The Secret Life of Pets\"],[\"Suicide Squad\"],[\"Minions\"],[\"Spectre\"],[\"Batman v Superman: Dawn of Justice\"],[\"The Jungle Book\"],[\"Wonder Woman\"],[\"Zootopia\"],[\"Finding Dory\"],[\"Moana\"],[\"Rogue One: A Star Wars Story\"],[\"Beauty and the Beast\"],[\"The Fate of the Furious\"],[\"Despicable Me 3\"],[\"Transformers: The Last Knight\"]],\"hovertemplate\":\"clusters=1<br>budget=%{x}<br>revenue=%{y}<br>title=%{customdata[0]}<extra></extra>\",\"legendgroup\":\"1\",\"marker\":{\"color\":\"#FFA15A\",\"symbol\":\"circle\"},\"mode\":\"markers\",\"name\":\"1\",\"showlegend\":true,\"x\":[63000000.0,75000000.0,200000000.0,115000000.0,125000000.0,93000000.0,139000000.0,100000000.0,79000000.0,150000000.0,94000000.0,140000000.0,94000000.0,150000000.0,130000000.0,200000000.0,113000000.0,150000000.0,180000000.0,125000000.0,200000000.0,258000000.0,160000000.0,300000000.0,150000000.0,150000000.0,185000000.0,185000000.0,175000000.0,150000000.0,90000000.0,250000000.0,200000000.0,237000000.0,200000000.0,200000000.0,200000000.0,165000000.0,160000000.0,250000000.0,260000000.0,380000000.0,150000000.0,195000000.0,125000000.0,220000000.0,110000000.0,250000000.0,145000000.0,225000000.0,145000000.0,215000000.0,95000000.0,200000000.0,120000000.0,250000000.0,200000000.0,160000000.0,225000000.0,200000000.0,76000000.0,105000000.0,170000000.0,130000000.0,250000000.0,150000000.0,165000000.0,170000000.0,200000000.0,250000000.0,180000000.0,150000000.0,210000000.0,170000000.0,170000000.0,165000000.0,125000000.0,150000000.0,250000000.0,245000000.0,280000000.0,230000000.0,200000000.0,250000000.0,165000000.0,190000000.0,175000000.0,160000000.0,180000000.0,75000000.0,175000000.0,74000000.0,245000000.0,250000000.0,175000000.0,149000000.0,150000000.0,200000000.0,150000000.0,200000000.0,160000000.0,250000000.0,80000000.0,260000000.0],\"xaxis\":\"x\",\"y\":[920100000.0,816969268.0,1845034188.0,924317558.0,976475550.0,871368364.0,821708551.0,876688482.0,926287400.0,738599701.0,940335536.0,655011224.0,1118888979.0,919838758.0,789804554.0,783766341.0,850000000.0,895921036.0,748806957.0,767820459.0,1065659812.0,890871626.0,798958165.0,961000000.0,709709780.0,938212738.0,1004558444.0,786636033.0,735099082.0,836297228.0,886686817.0,933959197.0,769653595.0,2787965087.0,1025491110.0,623933331.0,1066969703.0,752600867.0,825532764.0,954305868.0,591794936.0,1045713802.0,665692281.0,1123746996.0,1342000000.0,1519557910.0,712171856.0,1084939099.0,694713380.0,624026776.0,746921274.0,752215857.0,877244782.0,1108561013.0,829000000.0,1021103568.0,1215439994.0,788679850.0,662845518.0,743559607.0,970761885.0,716392705.0,644571402.0,847423452.0,958400000.0,1274219009.0,675120017.0,714766572.0,705717432.0,747862775.0,758539785.0,682330139.0,1091405097.0,710644566.0,773328629.0,652105443.0,752100229.0,1513528810.0,956019788.0,2068223624.0,1405403694.0,794191988.0,863416141.0,1153304495.0,677718395.0,1506249360.0,857611174.0,653428261.0,809342332.0,875457937.0,745600054.0,1156730962.0,880674609.0,873260194.0,966550600.0,820580447.0,1023784195.0,1028570889.0,643034466.0,1056057273.0,1262886337.0,1238764765.0,1020063384.0,604942143.0],\"yaxis\":\"y\",\"type\":\"scattergl\"}],                        {\"legend\":{\"title\":{\"text\":\"clusters\"},\"tracegroupgap\":0},\"margin\":{\"t\":60},\"template\":{\"data\":{\"barpolar\":[{\"marker\":{\"line\":{\"color\":\"rgb(17,17,17)\",\"width\":0.5},\"pattern\":{\"fillmode\":\"overlay\",\"size\":10,\"solidity\":0.2}},\"type\":\"barpolar\"}],\"bar\":[{\"error_x\":{\"color\":\"#f2f5fa\"},\"error_y\":{\"color\":\"#f2f5fa\"},\"marker\":{\"line\":{\"color\":\"rgb(17,17,17)\",\"width\":0.5},\"pattern\":{\"fillmode\":\"overlay\",\"size\":10,\"solidity\":0.2}},\"type\":\"bar\"}],\"carpet\":[{\"aaxis\":{\"endlinecolor\":\"#A2B1C6\",\"gridcolor\":\"#506784\",\"linecolor\":\"#506784\",\"minorgridcolor\":\"#506784\",\"startlinecolor\":\"#A2B1C6\"},\"baxis\":{\"endlinecolor\":\"#A2B1C6\",\"gridcolor\":\"#506784\",\"linecolor\":\"#506784\",\"minorgridcolor\":\"#506784\",\"startlinecolor\":\"#A2B1C6\"},\"type\":\"carpet\"}],\"choropleth\":[{\"colorbar\":{\"outlinewidth\":0,\"ticks\":\"\"},\"type\":\"choropleth\"}],\"contourcarpet\":[{\"colorbar\":{\"outlinewidth\":0,\"ticks\":\"\"},\"type\":\"contourcarpet\"}],\"contour\":[{\"colorbar\":{\"outlinewidth\":0,\"ticks\":\"\"},\"colorscale\":[[0.0,\"#0d0887\"],[0.1111111111111111,\"#46039f\"],[0.2222222222222222,\"#7201a8\"],[0.3333333333333333,\"#9c179e\"],[0.4444444444444444,\"#bd3786\"],[0.5555555555555556,\"#d8576b\"],[0.6666666666666666,\"#ed7953\"],[0.7777777777777778,\"#fb9f3a\"],[0.8888888888888888,\"#fdca26\"],[1.0,\"#f0f921\"]],\"type\":\"contour\"}],\"heatmapgl\":[{\"colorbar\":{\"outlinewidth\":0,\"ticks\":\"\"},\"colorscale\":[[0.0,\"#0d0887\"],[0.1111111111111111,\"#46039f\"],[0.2222222222222222,\"#7201a8\"],[0.3333333333333333,\"#9c179e\"],[0.4444444444444444,\"#bd3786\"],[0.5555555555555556,\"#d8576b\"],[0.6666666666666666,\"#ed7953\"],[0.7777777777777778,\"#fb9f3a\"],[0.8888888888888888,\"#fdca26\"],[1.0,\"#f0f921\"]],\"type\":\"heatmapgl\"}],\"heatmap\":[{\"colorbar\":{\"outlinewidth\":0,\"ticks\":\"\"},\"colorscale\":[[0.0,\"#0d0887\"],[0.1111111111111111,\"#46039f\"],[0.2222222222222222,\"#7201a8\"],[0.3333333333333333,\"#9c179e\"],[0.4444444444444444,\"#bd3786\"],[0.5555555555555556,\"#d8576b\"],[0.6666666666666666,\"#ed7953\"],[0.7777777777777778,\"#fb9f3a\"],[0.8888888888888888,\"#fdca26\"],[1.0,\"#f0f921\"]],\"type\":\"heatmap\"}],\"histogram2dcontour\":[{\"colorbar\":{\"outlinewidth\":0,\"ticks\":\"\"},\"colorscale\":[[0.0,\"#0d0887\"],[0.1111111111111111,\"#46039f\"],[0.2222222222222222,\"#7201a8\"],[0.3333333333333333,\"#9c179e\"],[0.4444444444444444,\"#bd3786\"],[0.5555555555555556,\"#d8576b\"],[0.6666666666666666,\"#ed7953\"],[0.7777777777777778,\"#fb9f3a\"],[0.8888888888888888,\"#fdca26\"],[1.0,\"#f0f921\"]],\"type\":\"histogram2dcontour\"}],\"histogram2d\":[{\"colorbar\":{\"outlinewidth\":0,\"ticks\":\"\"},\"colorscale\":[[0.0,\"#0d0887\"],[0.1111111111111111,\"#46039f\"],[0.2222222222222222,\"#7201a8\"],[0.3333333333333333,\"#9c179e\"],[0.4444444444444444,\"#bd3786\"],[0.5555555555555556,\"#d8576b\"],[0.6666666666666666,\"#ed7953\"],[0.7777777777777778,\"#fb9f3a\"],[0.8888888888888888,\"#fdca26\"],[1.0,\"#f0f921\"]],\"type\":\"histogram2d\"}],\"histogram\":[{\"marker\":{\"pattern\":{\"fillmode\":\"overlay\",\"size\":10,\"solidity\":0.2}},\"type\":\"histogram\"}],\"mesh3d\":[{\"colorbar\":{\"outlinewidth\":0,\"ticks\":\"\"},\"type\":\"mesh3d\"}],\"parcoords\":[{\"line\":{\"colorbar\":{\"outlinewidth\":0,\"ticks\":\"\"}},\"type\":\"parcoords\"}],\"pie\":[{\"automargin\":true,\"type\":\"pie\"}],\"scatter3d\":[{\"line\":{\"colorbar\":{\"outlinewidth\":0,\"ticks\":\"\"}},\"marker\":{\"colorbar\":{\"outlinewidth\":0,\"ticks\":\"\"}},\"type\":\"scatter3d\"}],\"scattercarpet\":[{\"marker\":{\"colorbar\":{\"outlinewidth\":0,\"ticks\":\"\"}},\"type\":\"scattercarpet\"}],\"scattergeo\":[{\"marker\":{\"colorbar\":{\"outlinewidth\":0,\"ticks\":\"\"}},\"type\":\"scattergeo\"}],\"scattergl\":[{\"marker\":{\"line\":{\"color\":\"#283442\"}},\"type\":\"scattergl\"}],\"scattermapbox\":[{\"marker\":{\"colorbar\":{\"outlinewidth\":0,\"ticks\":\"\"}},\"type\":\"scattermapbox\"}],\"scatterpolargl\":[{\"marker\":{\"colorbar\":{\"outlinewidth\":0,\"ticks\":\"\"}},\"type\":\"scatterpolargl\"}],\"scatterpolar\":[{\"marker\":{\"colorbar\":{\"outlinewidth\":0,\"ticks\":\"\"}},\"type\":\"scatterpolar\"}],\"scatter\":[{\"marker\":{\"line\":{\"color\":\"#283442\"}},\"type\":\"scatter\"}],\"scatterternary\":[{\"marker\":{\"colorbar\":{\"outlinewidth\":0,\"ticks\":\"\"}},\"type\":\"scatterternary\"}],\"surface\":[{\"colorbar\":{\"outlinewidth\":0,\"ticks\":\"\"},\"colorscale\":[[0.0,\"#0d0887\"],[0.1111111111111111,\"#46039f\"],[0.2222222222222222,\"#7201a8\"],[0.3333333333333333,\"#9c179e\"],[0.4444444444444444,\"#bd3786\"],[0.5555555555555556,\"#d8576b\"],[0.6666666666666666,\"#ed7953\"],[0.7777777777777778,\"#fb9f3a\"],[0.8888888888888888,\"#fdca26\"],[1.0,\"#f0f921\"]],\"type\":\"surface\"}],\"table\":[{\"cells\":{\"fill\":{\"color\":\"#506784\"},\"line\":{\"color\":\"rgb(17,17,17)\"}},\"header\":{\"fill\":{\"color\":\"#2a3f5f\"},\"line\":{\"color\":\"rgb(17,17,17)\"}},\"type\":\"table\"}]},\"layout\":{\"annotationdefaults\":{\"arrowcolor\":\"#f2f5fa\",\"arrowhead\":0,\"arrowwidth\":1},\"autotypenumbers\":\"strict\",\"coloraxis\":{\"colorbar\":{\"outlinewidth\":0,\"ticks\":\"\"}},\"colorscale\":{\"diverging\":[[0,\"#8e0152\"],[0.1,\"#c51b7d\"],[0.2,\"#de77ae\"],[0.3,\"#f1b6da\"],[0.4,\"#fde0ef\"],[0.5,\"#f7f7f7\"],[0.6,\"#e6f5d0\"],[0.7,\"#b8e186\"],[0.8,\"#7fbc41\"],[0.9,\"#4d9221\"],[1,\"#276419\"]],\"sequential\":[[0.0,\"#0d0887\"],[0.1111111111111111,\"#46039f\"],[0.2222222222222222,\"#7201a8\"],[0.3333333333333333,\"#9c179e\"],[0.4444444444444444,\"#bd3786\"],[0.5555555555555556,\"#d8576b\"],[0.6666666666666666,\"#ed7953\"],[0.7777777777777778,\"#fb9f3a\"],[0.8888888888888888,\"#fdca26\"],[1.0,\"#f0f921\"]],\"sequentialminus\":[[0.0,\"#0d0887\"],[0.1111111111111111,\"#46039f\"],[0.2222222222222222,\"#7201a8\"],[0.3333333333333333,\"#9c179e\"],[0.4444444444444444,\"#bd3786\"],[0.5555555555555556,\"#d8576b\"],[0.6666666666666666,\"#ed7953\"],[0.7777777777777778,\"#fb9f3a\"],[0.8888888888888888,\"#fdca26\"],[1.0,\"#f0f921\"]]},\"colorway\":[\"#636efa\",\"#EF553B\",\"#00cc96\",\"#ab63fa\",\"#FFA15A\",\"#19d3f3\",\"#FF6692\",\"#B6E880\",\"#FF97FF\",\"#FECB52\"],\"font\":{\"color\":\"#f2f5fa\"},\"geo\":{\"bgcolor\":\"rgb(17,17,17)\",\"lakecolor\":\"rgb(17,17,17)\",\"landcolor\":\"rgb(17,17,17)\",\"showlakes\":true,\"showland\":true,\"subunitcolor\":\"#506784\"},\"hoverlabel\":{\"align\":\"left\"},\"hovermode\":\"closest\",\"mapbox\":{\"style\":\"dark\"},\"paper_bgcolor\":\"rgb(17,17,17)\",\"plot_bgcolor\":\"rgb(17,17,17)\",\"polar\":{\"angularaxis\":{\"gridcolor\":\"#506784\",\"linecolor\":\"#506784\",\"ticks\":\"\"},\"bgcolor\":\"rgb(17,17,17)\",\"radialaxis\":{\"gridcolor\":\"#506784\",\"linecolor\":\"#506784\",\"ticks\":\"\"}},\"scene\":{\"xaxis\":{\"backgroundcolor\":\"rgb(17,17,17)\",\"gridcolor\":\"#506784\",\"gridwidth\":2,\"linecolor\":\"#506784\",\"showbackground\":true,\"ticks\":\"\",\"zerolinecolor\":\"#C8D4E3\"},\"yaxis\":{\"backgroundcolor\":\"rgb(17,17,17)\",\"gridcolor\":\"#506784\",\"gridwidth\":2,\"linecolor\":\"#506784\",\"showbackground\":true,\"ticks\":\"\",\"zerolinecolor\":\"#C8D4E3\"},\"zaxis\":{\"backgroundcolor\":\"rgb(17,17,17)\",\"gridcolor\":\"#506784\",\"gridwidth\":2,\"linecolor\":\"#506784\",\"showbackground\":true,\"ticks\":\"\",\"zerolinecolor\":\"#C8D4E3\"}},\"shapedefaults\":{\"line\":{\"color\":\"#f2f5fa\"}},\"sliderdefaults\":{\"bgcolor\":\"#C8D4E3\",\"bordercolor\":\"rgb(17,17,17)\",\"borderwidth\":1,\"tickwidth\":0},\"ternary\":{\"aaxis\":{\"gridcolor\":\"#506784\",\"linecolor\":\"#506784\",\"ticks\":\"\"},\"baxis\":{\"gridcolor\":\"#506784\",\"linecolor\":\"#506784\",\"ticks\":\"\"},\"bgcolor\":\"rgb(17,17,17)\",\"caxis\":{\"gridcolor\":\"#506784\",\"linecolor\":\"#506784\",\"ticks\":\"\"}},\"title\":{\"x\":0.05},\"updatemenudefaults\":{\"bgcolor\":\"#506784\",\"borderwidth\":0},\"xaxis\":{\"automargin\":true,\"gridcolor\":\"#283442\",\"linecolor\":\"#506784\",\"ticks\":\"\",\"title\":{\"standoff\":15},\"zerolinecolor\":\"#283442\",\"zerolinewidth\":2},\"yaxis\":{\"automargin\":true,\"gridcolor\":\"#283442\",\"linecolor\":\"#506784\",\"ticks\":\"\",\"title\":{\"standoff\":15},\"zerolinecolor\":\"#283442\",\"zerolinewidth\":2}}},\"xaxis\":{\"anchor\":\"y\",\"domain\":[0.0,1.0],\"title\":{\"text\":\"budget\"}},\"yaxis\":{\"anchor\":\"x\",\"domain\":[0.0,1.0],\"title\":{\"text\":\"revenue\"}}},                        {\"responsive\": true}                    ).then(function(){\n                            \nvar gd = document.getElementById('cfb0d07e-5895-40cb-a9a0-f534a386ad8b');\nvar x = new MutationObserver(function (mutations, observer) {{\n        var display = window.getComputedStyle(gd).display;\n        if (!display || display === 'none') {{\n            console.log([gd, 'removed!']);\n            Plotly.purge(gd);\n            observer.disconnect();\n        }}\n}});\n\n// Listen for the removal of the full notebook cells\nvar notebookContainer = gd.closest('#notebook-container');\nif (notebookContainer) {{\n    x.observe(notebookContainer, {childList: true});\n}}\n\n// Listen for the clearing of the current output cell\nvar outputEl = gd.closest('.output');\nif (outputEl) {{\n    x.observe(outputEl, {childList: true});\n}}\n\n                        })                };                });            </script>        </div>"
     },
     "metadata": {},
     "output_type": "display_data"
    },
    {
     "data": {
      "text/plain": "[\"Ocean's Twelve\", 'Syriana', 'Popular Music', 'Blackmail']"
     },
     "execution_count": 2,
     "metadata": {},
     "output_type": "execute_result"
    }
   ],
   "source": [
    "import modules.recomander.CollaborativeRecomander as cr\n",
    "import modules.clusters.ClusterCompre as cc\n",
    "\n",
    "cc.get_elbow_diagram(\"budget\", \"runtime\")\n",
    "cc.create_cluster_scatter(\"budget\", \"revenue\", 5)\n",
    "cr.recommend_movies(87, 5)"
   ]
  }
 ],
 "metadata": {
  "kernelspec": {
   "display_name": "Python 3",
   "language": "python",
   "name": "python3"
  },
  "language_info": {
   "codemirror_mode": {
    "name": "ipython",
    "version": 2
   },
   "file_extension": ".py",
   "mimetype": "text/x-python",
   "name": "python",
   "nbconvert_exporter": "python",
   "pygments_lexer": "ipython2",
   "version": "2.7.6"
  }
 },
 "nbformat": 4,
 "nbformat_minor": 0
}