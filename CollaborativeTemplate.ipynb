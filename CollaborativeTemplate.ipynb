{
 "cells": [
  {
   "cell_type": "markdown",
   "source": [
    "# Collaborative recommender\n",
    "With the collaborative-based filtering we will (based on one movie choice) recommend movies by finding similarities between the ratings from others that has rated the movie."
   ],
   "metadata": {
    "collapsed": false,
    "pycharm": {
     "name": "#%% md\n"
    }
   }
  },
  {
   "cell_type": "code",
   "execution_count": 1,
   "outputs": [],
   "source": [
    "import modules.recommmender.CollaborativeRecommender as cr"
   ],
   "metadata": {
    "collapsed": false,
    "pycharm": {
     "name": "#%%\n"
    }
   }
  },
  {
   "cell_type": "markdown",
   "source": [
    "#### Get data\n",
    "We are going to use data about movies and rating. We load our datasets from our folder \"data\"."
   ],
   "metadata": {
    "collapsed": false,
    "pycharm": {
     "name": "#%% md\n"
    }
   }
  },
  {
   "cell_type": "code",
   "execution_count": 2,
   "outputs": [
    {
     "data": {
      "text/plain": "        id                        title\n0    862.0                    Toy Story\n1   8844.0                      Jumanji\n2  15602.0             Grumpier Old Men\n3  31357.0            Waiting to Exhale\n4  11862.0  Father of the Bride Part II",
      "text/html": "<div>\n<style scoped>\n    .dataframe tbody tr th:only-of-type {\n        vertical-align: middle;\n    }\n\n    .dataframe tbody tr th {\n        vertical-align: top;\n    }\n\n    .dataframe thead th {\n        text-align: right;\n    }\n</style>\n<table border=\"1\" class=\"dataframe\">\n  <thead>\n    <tr style=\"text-align: right;\">\n      <th></th>\n      <th>id</th>\n      <th>title</th>\n    </tr>\n  </thead>\n  <tbody>\n    <tr>\n      <th>0</th>\n      <td>862.0</td>\n      <td>Toy Story</td>\n    </tr>\n    <tr>\n      <th>1</th>\n      <td>8844.0</td>\n      <td>Jumanji</td>\n    </tr>\n    <tr>\n      <th>2</th>\n      <td>15602.0</td>\n      <td>Grumpier Old Men</td>\n    </tr>\n    <tr>\n      <th>3</th>\n      <td>31357.0</td>\n      <td>Waiting to Exhale</td>\n    </tr>\n    <tr>\n      <th>4</th>\n      <td>11862.0</td>\n      <td>Father of the Bride Part II</td>\n    </tr>\n  </tbody>\n</table>\n</div>"
     },
     "execution_count": 2,
     "metadata": {},
     "output_type": "execute_result"
    }
   ],
   "source": [
    "movies_df = cr.load_movies()\n",
    "movies_df.head()"
   ],
   "metadata": {
    "collapsed": false,
    "pycharm": {
     "name": "#%%\n"
    }
   }
  },
  {
   "cell_type": "code",
   "execution_count": 3,
   "outputs": [
    {
     "data": {
      "text/plain": "(45466, 2)"
     },
     "execution_count": 3,
     "metadata": {},
     "output_type": "execute_result"
    }
   ],
   "source": [
    "movies_df.shape"
   ],
   "metadata": {
    "collapsed": false,
    "pycharm": {
     "name": "#%%\n"
    }
   }
  },
  {
   "cell_type": "code",
   "execution_count": 4,
   "outputs": [
    {
     "data": {
      "text/plain": "   userId  movieId  rating\n0       1       31     2.5\n1       1     1029     3.0\n2       1     1061     3.0\n3       1     1129     2.0\n4       1     1172     4.0",
      "text/html": "<div>\n<style scoped>\n    .dataframe tbody tr th:only-of-type {\n        vertical-align: middle;\n    }\n\n    .dataframe tbody tr th {\n        vertical-align: top;\n    }\n\n    .dataframe thead th {\n        text-align: right;\n    }\n</style>\n<table border=\"1\" class=\"dataframe\">\n  <thead>\n    <tr style=\"text-align: right;\">\n      <th></th>\n      <th>userId</th>\n      <th>movieId</th>\n      <th>rating</th>\n    </tr>\n  </thead>\n  <tbody>\n    <tr>\n      <th>0</th>\n      <td>1</td>\n      <td>31</td>\n      <td>2.5</td>\n    </tr>\n    <tr>\n      <th>1</th>\n      <td>1</td>\n      <td>1029</td>\n      <td>3.0</td>\n    </tr>\n    <tr>\n      <th>2</th>\n      <td>1</td>\n      <td>1061</td>\n      <td>3.0</td>\n    </tr>\n    <tr>\n      <th>3</th>\n      <td>1</td>\n      <td>1129</td>\n      <td>2.0</td>\n    </tr>\n    <tr>\n      <th>4</th>\n      <td>1</td>\n      <td>1172</td>\n      <td>4.0</td>\n    </tr>\n  </tbody>\n</table>\n</div>"
     },
     "execution_count": 4,
     "metadata": {},
     "output_type": "execute_result"
    }
   ],
   "source": [
    "ratings_df = cr.load_ratings()\n",
    "ratings_df.head()"
   ],
   "metadata": {
    "collapsed": false,
    "pycharm": {
     "name": "#%%\n"
    }
   }
  },
  {
   "cell_type": "code",
   "execution_count": 5,
   "outputs": [
    {
     "data": {
      "text/plain": "(100004, 3)"
     },
     "execution_count": 5,
     "metadata": {},
     "output_type": "execute_result"
    }
   ],
   "source": [
    "ratings_df.shape"
   ],
   "metadata": {
    "collapsed": false,
    "pycharm": {
     "name": "#%%\n"
    }
   }
  },
  {
   "cell_type": "markdown",
   "source": [
    "#### Preparing data\n",
    "We will now clean the movie dataframe."
   ],
   "metadata": {
    "collapsed": false,
    "pycharm": {
     "name": "#%% md\n"
    }
   }
  },
  {
   "cell_type": "code",
   "execution_count": 6,
   "outputs": [
    {
     "data": {
      "text/plain": "   movieId                        title\n0      862                    Toy Story\n1     8844                      Jumanji\n2    15602             Grumpier Old Men\n3    31357            Waiting to Exhale\n4    11862  Father of the Bride Part II",
      "text/html": "<div>\n<style scoped>\n    .dataframe tbody tr th:only-of-type {\n        vertical-align: middle;\n    }\n\n    .dataframe tbody tr th {\n        vertical-align: top;\n    }\n\n    .dataframe thead th {\n        text-align: right;\n    }\n</style>\n<table border=\"1\" class=\"dataframe\">\n  <thead>\n    <tr style=\"text-align: right;\">\n      <th></th>\n      <th>movieId</th>\n      <th>title</th>\n    </tr>\n  </thead>\n  <tbody>\n    <tr>\n      <th>0</th>\n      <td>862</td>\n      <td>Toy Story</td>\n    </tr>\n    <tr>\n      <th>1</th>\n      <td>8844</td>\n      <td>Jumanji</td>\n    </tr>\n    <tr>\n      <th>2</th>\n      <td>15602</td>\n      <td>Grumpier Old Men</td>\n    </tr>\n    <tr>\n      <th>3</th>\n      <td>31357</td>\n      <td>Waiting to Exhale</td>\n    </tr>\n    <tr>\n      <th>4</th>\n      <td>11862</td>\n      <td>Father of the Bride Part II</td>\n    </tr>\n  </tbody>\n</table>\n</div>"
     },
     "execution_count": 6,
     "metadata": {},
     "output_type": "execute_result"
    }
   ],
   "source": [
    "# drops NaN values, rename id name to movieId to match rating_df id column\n",
    "movies_df = cr.prepare_movies(movies_df)\n",
    "movies_df.head()"
   ],
   "metadata": {
    "collapsed": false,
    "pycharm": {
     "name": "#%%\n"
    }
   }
  },
  {
   "cell_type": "code",
   "execution_count": 7,
   "outputs": [
    {
     "data": {
      "text/plain": "(45460, 2)"
     },
     "execution_count": 7,
     "metadata": {},
     "output_type": "execute_result"
    }
   ],
   "source": [
    "movies_df.shape"
   ],
   "metadata": {
    "collapsed": false,
    "pycharm": {
     "name": "#%%\n"
    }
   }
  },
  {
   "cell_type": "markdown",
   "source": [
    "#### Transformation\n",
    "We will now merge the dataframe to get a single dataframe we will use for our modelling. We will also reduce the size of dataframe by removing movies that do not have a high rating count."
   ],
   "metadata": {
    "collapsed": false,
    "pycharm": {
     "name": "#%% md\n"
    }
   }
  },
  {
   "cell_type": "markdown",
   "source": [
    "##### Merging movies and ratings into one dataframe"
   ],
   "metadata": {
    "collapsed": false,
    "pycharm": {
     "name": "#%% md\n"
    }
   }
  },
  {
   "cell_type": "code",
   "execution_count": 8,
   "outputs": [
    {
     "data": {
      "text/plain": "    userId  movieId  rating         title\n0        1     1371     2.5     Rocky III\n1        4     1371     4.0     Rocky III\n2        7     1371     3.0     Rocky III\n3       19     1371     4.0     Rocky III\n4       21     1371     3.0     Rocky III\n..     ...      ...     ...           ...\n95      15     2105     4.0  American Pie\n96      30     2105     2.0  American Pie\n97      34     2105     4.0  American Pie\n98      35     2105     3.5  American Pie\n99      41     2105     5.0  American Pie\n\n[100 rows x 4 columns]",
      "text/html": "<div>\n<style scoped>\n    .dataframe tbody tr th:only-of-type {\n        vertical-align: middle;\n    }\n\n    .dataframe tbody tr th {\n        vertical-align: top;\n    }\n\n    .dataframe thead th {\n        text-align: right;\n    }\n</style>\n<table border=\"1\" class=\"dataframe\">\n  <thead>\n    <tr style=\"text-align: right;\">\n      <th></th>\n      <th>userId</th>\n      <th>movieId</th>\n      <th>rating</th>\n      <th>title</th>\n    </tr>\n  </thead>\n  <tbody>\n    <tr>\n      <th>0</th>\n      <td>1</td>\n      <td>1371</td>\n      <td>2.5</td>\n      <td>Rocky III</td>\n    </tr>\n    <tr>\n      <th>1</th>\n      <td>4</td>\n      <td>1371</td>\n      <td>4.0</td>\n      <td>Rocky III</td>\n    </tr>\n    <tr>\n      <th>2</th>\n      <td>7</td>\n      <td>1371</td>\n      <td>3.0</td>\n      <td>Rocky III</td>\n    </tr>\n    <tr>\n      <th>3</th>\n      <td>19</td>\n      <td>1371</td>\n      <td>4.0</td>\n      <td>Rocky III</td>\n    </tr>\n    <tr>\n      <th>4</th>\n      <td>21</td>\n      <td>1371</td>\n      <td>3.0</td>\n      <td>Rocky III</td>\n    </tr>\n    <tr>\n      <th>...</th>\n      <td>...</td>\n      <td>...</td>\n      <td>...</td>\n      <td>...</td>\n    </tr>\n    <tr>\n      <th>95</th>\n      <td>15</td>\n      <td>2105</td>\n      <td>4.0</td>\n      <td>American Pie</td>\n    </tr>\n    <tr>\n      <th>96</th>\n      <td>30</td>\n      <td>2105</td>\n      <td>2.0</td>\n      <td>American Pie</td>\n    </tr>\n    <tr>\n      <th>97</th>\n      <td>34</td>\n      <td>2105</td>\n      <td>4.0</td>\n      <td>American Pie</td>\n    </tr>\n    <tr>\n      <th>98</th>\n      <td>35</td>\n      <td>2105</td>\n      <td>3.5</td>\n      <td>American Pie</td>\n    </tr>\n    <tr>\n      <th>99</th>\n      <td>41</td>\n      <td>2105</td>\n      <td>5.0</td>\n      <td>American Pie</td>\n    </tr>\n  </tbody>\n</table>\n<p>100 rows × 4 columns</p>\n</div>"
     },
     "execution_count": 8,
     "metadata": {},
     "output_type": "execute_result"
    }
   ],
   "source": [
    "# combine movie_df and rating_df into one dataframe\n",
    "df = cr.merge_movies_and_ratings(ratings_df, movies_df)\n",
    "df.head(100)"
   ],
   "metadata": {
    "collapsed": false,
    "pycharm": {
     "name": "#%%\n"
    }
   }
  },
  {
   "cell_type": "code",
   "execution_count": 9,
   "outputs": [
    {
     "data": {
      "text/plain": "(44994, 4)"
     },
     "execution_count": 9,
     "metadata": {},
     "output_type": "execute_result"
    }
   ],
   "source": [
    "df.shape"
   ],
   "metadata": {
    "collapsed": false,
    "pycharm": {
     "name": "#%%\n"
    }
   }
  },
  {
   "cell_type": "markdown",
   "source": [
    "##### Remove movies with a low rating count\n",
    "We will first find the total numbers of rating counts for every movie and save it into a new dataframe. Then we merge the dataframe into our dataframe and lastly look through our dataframe and remove all with a low rating count."
   ],
   "metadata": {
    "collapsed": false,
    "pycharm": {
     "name": "#%% md\n"
    }
   }
  },
  {
   "cell_type": "code",
   "execution_count": 10,
   "outputs": [
    {
     "data": {
      "text/plain": "                                   title  totalRatingCount\n0                  !Women Art Revolution                 2\n1                            'Gator Bait                 1\n2       'Twas the Night Before Christmas                 2\n3               ...And God Created Woman                 1\n4   00 Schneider - Jagd auf Nihil Baxter                 2\n5                                  02:37                 4\n6                                  08:46                 1\n7                       10 Items or Less                11\n8             10 Things I Hate About You                 7\n9                              10,000 BC                 3\n10              11'09''01 - September 11                 1\n11                          12 Angry Men                 1\n12                            13 Tzameti                 1\n13                                  1408                 1\n14                            15 Minutes                 5\n15                             16 Blocks                 1\n16                                  1900                 1\n17                    1942: A Love Story                 1\n18                                  1984                 8\n19                       2 Days in Paris                12\n20          20,000 Leagues Under the Sea                89\n21                 2001: A Space Odyssey                87\n22                                  2010                 4\n23                                  2046                 1\n24            2061 - Un anno eccezionale                 2\n25                              21 Grams                 3\n26                  24 Hour Party People                22\n27                             25th Hour                13\n28                         28 Days Later                26\n29                        28 Weeks Later                47\n30                           29th Street                 1\n31  3 Ninjas: High Noon at Mega Mountain                 1\n32                                3-Iron                19\n33                                   300                40\n34                   33 Scenes from Life                 1\n35          4 Months, 3 Weeks and 2 Days                17\n36                 40 Days and 40 Nights                 5\n37                           42nd Street                11\n38                               48 Hrs.               200\n39                           5 Card Stud               200\n40                         5 Days of War                 4\n41                        50 First Dates                 3\n42                                    54                 7\n43                             7 Virgins                32\n44                                8 Mile                20\n45                               8 Women                34\n46                            88 Minutes                43\n47                                    8½                 9\n48                               9 Songs                 7\n49                        95 Miles to Go                 1",
      "text/html": "<div>\n<style scoped>\n    .dataframe tbody tr th:only-of-type {\n        vertical-align: middle;\n    }\n\n    .dataframe tbody tr th {\n        vertical-align: top;\n    }\n\n    .dataframe thead th {\n        text-align: right;\n    }\n</style>\n<table border=\"1\" class=\"dataframe\">\n  <thead>\n    <tr style=\"text-align: right;\">\n      <th></th>\n      <th>title</th>\n      <th>totalRatingCount</th>\n    </tr>\n  </thead>\n  <tbody>\n    <tr>\n      <th>0</th>\n      <td>!Women Art Revolution</td>\n      <td>2</td>\n    </tr>\n    <tr>\n      <th>1</th>\n      <td>'Gator Bait</td>\n      <td>1</td>\n    </tr>\n    <tr>\n      <th>2</th>\n      <td>'Twas the Night Before Christmas</td>\n      <td>2</td>\n    </tr>\n    <tr>\n      <th>3</th>\n      <td>...And God Created Woman</td>\n      <td>1</td>\n    </tr>\n    <tr>\n      <th>4</th>\n      <td>00 Schneider - Jagd auf Nihil Baxter</td>\n      <td>2</td>\n    </tr>\n    <tr>\n      <th>5</th>\n      <td>02:37</td>\n      <td>4</td>\n    </tr>\n    <tr>\n      <th>6</th>\n      <td>08:46</td>\n      <td>1</td>\n    </tr>\n    <tr>\n      <th>7</th>\n      <td>10 Items or Less</td>\n      <td>11</td>\n    </tr>\n    <tr>\n      <th>8</th>\n      <td>10 Things I Hate About You</td>\n      <td>7</td>\n    </tr>\n    <tr>\n      <th>9</th>\n      <td>10,000 BC</td>\n      <td>3</td>\n    </tr>\n    <tr>\n      <th>10</th>\n      <td>11'09''01 - September 11</td>\n      <td>1</td>\n    </tr>\n    <tr>\n      <th>11</th>\n      <td>12 Angry Men</td>\n      <td>1</td>\n    </tr>\n    <tr>\n      <th>12</th>\n      <td>13 Tzameti</td>\n      <td>1</td>\n    </tr>\n    <tr>\n      <th>13</th>\n      <td>1408</td>\n      <td>1</td>\n    </tr>\n    <tr>\n      <th>14</th>\n      <td>15 Minutes</td>\n      <td>5</td>\n    </tr>\n    <tr>\n      <th>15</th>\n      <td>16 Blocks</td>\n      <td>1</td>\n    </tr>\n    <tr>\n      <th>16</th>\n      <td>1900</td>\n      <td>1</td>\n    </tr>\n    <tr>\n      <th>17</th>\n      <td>1942: A Love Story</td>\n      <td>1</td>\n    </tr>\n    <tr>\n      <th>18</th>\n      <td>1984</td>\n      <td>8</td>\n    </tr>\n    <tr>\n      <th>19</th>\n      <td>2 Days in Paris</td>\n      <td>12</td>\n    </tr>\n    <tr>\n      <th>20</th>\n      <td>20,000 Leagues Under the Sea</td>\n      <td>89</td>\n    </tr>\n    <tr>\n      <th>21</th>\n      <td>2001: A Space Odyssey</td>\n      <td>87</td>\n    </tr>\n    <tr>\n      <th>22</th>\n      <td>2010</td>\n      <td>4</td>\n    </tr>\n    <tr>\n      <th>23</th>\n      <td>2046</td>\n      <td>1</td>\n    </tr>\n    <tr>\n      <th>24</th>\n      <td>2061 - Un anno eccezionale</td>\n      <td>2</td>\n    </tr>\n    <tr>\n      <th>25</th>\n      <td>21 Grams</td>\n      <td>3</td>\n    </tr>\n    <tr>\n      <th>26</th>\n      <td>24 Hour Party People</td>\n      <td>22</td>\n    </tr>\n    <tr>\n      <th>27</th>\n      <td>25th Hour</td>\n      <td>13</td>\n    </tr>\n    <tr>\n      <th>28</th>\n      <td>28 Days Later</td>\n      <td>26</td>\n    </tr>\n    <tr>\n      <th>29</th>\n      <td>28 Weeks Later</td>\n      <td>47</td>\n    </tr>\n    <tr>\n      <th>30</th>\n      <td>29th Street</td>\n      <td>1</td>\n    </tr>\n    <tr>\n      <th>31</th>\n      <td>3 Ninjas: High Noon at Mega Mountain</td>\n      <td>1</td>\n    </tr>\n    <tr>\n      <th>32</th>\n      <td>3-Iron</td>\n      <td>19</td>\n    </tr>\n    <tr>\n      <th>33</th>\n      <td>300</td>\n      <td>40</td>\n    </tr>\n    <tr>\n      <th>34</th>\n      <td>33 Scenes from Life</td>\n      <td>1</td>\n    </tr>\n    <tr>\n      <th>35</th>\n      <td>4 Months, 3 Weeks and 2 Days</td>\n      <td>17</td>\n    </tr>\n    <tr>\n      <th>36</th>\n      <td>40 Days and 40 Nights</td>\n      <td>5</td>\n    </tr>\n    <tr>\n      <th>37</th>\n      <td>42nd Street</td>\n      <td>11</td>\n    </tr>\n    <tr>\n      <th>38</th>\n      <td>48 Hrs.</td>\n      <td>200</td>\n    </tr>\n    <tr>\n      <th>39</th>\n      <td>5 Card Stud</td>\n      <td>200</td>\n    </tr>\n    <tr>\n      <th>40</th>\n      <td>5 Days of War</td>\n      <td>4</td>\n    </tr>\n    <tr>\n      <th>41</th>\n      <td>50 First Dates</td>\n      <td>3</td>\n    </tr>\n    <tr>\n      <th>42</th>\n      <td>54</td>\n      <td>7</td>\n    </tr>\n    <tr>\n      <th>43</th>\n      <td>7 Virgins</td>\n      <td>32</td>\n    </tr>\n    <tr>\n      <th>44</th>\n      <td>8 Mile</td>\n      <td>20</td>\n    </tr>\n    <tr>\n      <th>45</th>\n      <td>8 Women</td>\n      <td>34</td>\n    </tr>\n    <tr>\n      <th>46</th>\n      <td>88 Minutes</td>\n      <td>43</td>\n    </tr>\n    <tr>\n      <th>47</th>\n      <td>8½</td>\n      <td>9</td>\n    </tr>\n    <tr>\n      <th>48</th>\n      <td>9 Songs</td>\n      <td>7</td>\n    </tr>\n    <tr>\n      <th>49</th>\n      <td>95 Miles to Go</td>\n      <td>1</td>\n    </tr>\n  </tbody>\n</table>\n</div>"
     },
     "execution_count": 10,
     "metadata": {},
     "output_type": "execute_result"
    }
   ],
   "source": [
    "# find the total number of rating counts for every movie\n",
    "rating_counts_df = cr.count_ratings(df)\n",
    "rating_counts_df.head(50)"
   ],
   "metadata": {
    "collapsed": false,
    "pycharm": {
     "name": "#%%\n"
    }
   }
  },
  {
   "cell_type": "code",
   "execution_count": 11,
   "outputs": [
    {
     "data": {
      "text/plain": "(2794, 2)"
     },
     "execution_count": 11,
     "metadata": {},
     "output_type": "execute_result"
    }
   ],
   "source": [
    "rating_counts_df.shape"
   ],
   "metadata": {
    "collapsed": false,
    "pycharm": {
     "name": "#%%\n"
    }
   }
  },
  {
   "cell_type": "code",
   "execution_count": 12,
   "outputs": [
    {
     "data": {
      "text/plain": "    userId  movieId  rating         title  totalRatingCount\n0        1     1371     2.5     Rocky III                47\n1        4     1371     4.0     Rocky III                47\n2        7     1371     3.0     Rocky III                47\n3       19     1371     4.0     Rocky III                47\n4       21     1371     3.0     Rocky III                47\n..     ...      ...     ...           ...               ...\n95      15     2105     4.0  American Pie                47\n96      30     2105     2.0  American Pie                47\n97      34     2105     4.0  American Pie                47\n98      35     2105     3.5  American Pie                47\n99      41     2105     5.0  American Pie                47\n\n[100 rows x 5 columns]",
      "text/html": "<div>\n<style scoped>\n    .dataframe tbody tr th:only-of-type {\n        vertical-align: middle;\n    }\n\n    .dataframe tbody tr th {\n        vertical-align: top;\n    }\n\n    .dataframe thead th {\n        text-align: right;\n    }\n</style>\n<table border=\"1\" class=\"dataframe\">\n  <thead>\n    <tr style=\"text-align: right;\">\n      <th></th>\n      <th>userId</th>\n      <th>movieId</th>\n      <th>rating</th>\n      <th>title</th>\n      <th>totalRatingCount</th>\n    </tr>\n  </thead>\n  <tbody>\n    <tr>\n      <th>0</th>\n      <td>1</td>\n      <td>1371</td>\n      <td>2.5</td>\n      <td>Rocky III</td>\n      <td>47</td>\n    </tr>\n    <tr>\n      <th>1</th>\n      <td>4</td>\n      <td>1371</td>\n      <td>4.0</td>\n      <td>Rocky III</td>\n      <td>47</td>\n    </tr>\n    <tr>\n      <th>2</th>\n      <td>7</td>\n      <td>1371</td>\n      <td>3.0</td>\n      <td>Rocky III</td>\n      <td>47</td>\n    </tr>\n    <tr>\n      <th>3</th>\n      <td>19</td>\n      <td>1371</td>\n      <td>4.0</td>\n      <td>Rocky III</td>\n      <td>47</td>\n    </tr>\n    <tr>\n      <th>4</th>\n      <td>21</td>\n      <td>1371</td>\n      <td>3.0</td>\n      <td>Rocky III</td>\n      <td>47</td>\n    </tr>\n    <tr>\n      <th>...</th>\n      <td>...</td>\n      <td>...</td>\n      <td>...</td>\n      <td>...</td>\n      <td>...</td>\n    </tr>\n    <tr>\n      <th>95</th>\n      <td>15</td>\n      <td>2105</td>\n      <td>4.0</td>\n      <td>American Pie</td>\n      <td>47</td>\n    </tr>\n    <tr>\n      <th>96</th>\n      <td>30</td>\n      <td>2105</td>\n      <td>2.0</td>\n      <td>American Pie</td>\n      <td>47</td>\n    </tr>\n    <tr>\n      <th>97</th>\n      <td>34</td>\n      <td>2105</td>\n      <td>4.0</td>\n      <td>American Pie</td>\n      <td>47</td>\n    </tr>\n    <tr>\n      <th>98</th>\n      <td>35</td>\n      <td>2105</td>\n      <td>3.5</td>\n      <td>American Pie</td>\n      <td>47</td>\n    </tr>\n    <tr>\n      <th>99</th>\n      <td>41</td>\n      <td>2105</td>\n      <td>5.0</td>\n      <td>American Pie</td>\n      <td>47</td>\n    </tr>\n  </tbody>\n</table>\n<p>100 rows × 5 columns</p>\n</div>"
     },
     "execution_count": 12,
     "metadata": {},
     "output_type": "execute_result"
    }
   ],
   "source": [
    "# merge the totalRatingCount into our dataframe\n",
    "rating_with_total_rating_counts_df = cr.merge_total_rating_counts(df, rating_counts_df)\n",
    "rating_with_total_rating_counts_df.head(100)"
   ],
   "metadata": {
    "collapsed": false,
    "pycharm": {
     "name": "#%%\n"
    }
   }
  },
  {
   "cell_type": "code",
   "execution_count": 13,
   "outputs": [
    {
     "data": {
      "text/plain": "(44994, 5)"
     },
     "execution_count": 13,
     "metadata": {},
     "output_type": "execute_result"
    }
   ],
   "source": [
    "rating_with_total_rating_counts_df.shape"
   ],
   "metadata": {
    "collapsed": false,
    "pycharm": {
     "name": "#%%\n"
    }
   }
  },
  {
   "cell_type": "code",
   "execution_count": 14,
   "outputs": [
    {
     "data": {
      "text/plain": "    userId  movieId  rating         title  totalRatingCount\n0        1     1371     2.5     Rocky III                47\n1        4     1371     4.0     Rocky III                47\n2        7     1371     3.0     Rocky III                47\n3       19     1371     4.0     Rocky III                47\n4       21     1371     3.0     Rocky III                47\n..     ...      ...     ...           ...               ...\n95      15     2105     4.0  American Pie                47\n96      30     2105     2.0  American Pie                47\n97      34     2105     4.0  American Pie                47\n98      35     2105     3.5  American Pie                47\n99      41     2105     5.0  American Pie                47\n\n[100 rows x 5 columns]",
      "text/html": "<div>\n<style scoped>\n    .dataframe tbody tr th:only-of-type {\n        vertical-align: middle;\n    }\n\n    .dataframe tbody tr th {\n        vertical-align: top;\n    }\n\n    .dataframe thead th {\n        text-align: right;\n    }\n</style>\n<table border=\"1\" class=\"dataframe\">\n  <thead>\n    <tr style=\"text-align: right;\">\n      <th></th>\n      <th>userId</th>\n      <th>movieId</th>\n      <th>rating</th>\n      <th>title</th>\n      <th>totalRatingCount</th>\n    </tr>\n  </thead>\n  <tbody>\n    <tr>\n      <th>0</th>\n      <td>1</td>\n      <td>1371</td>\n      <td>2.5</td>\n      <td>Rocky III</td>\n      <td>47</td>\n    </tr>\n    <tr>\n      <th>1</th>\n      <td>4</td>\n      <td>1371</td>\n      <td>4.0</td>\n      <td>Rocky III</td>\n      <td>47</td>\n    </tr>\n    <tr>\n      <th>2</th>\n      <td>7</td>\n      <td>1371</td>\n      <td>3.0</td>\n      <td>Rocky III</td>\n      <td>47</td>\n    </tr>\n    <tr>\n      <th>3</th>\n      <td>19</td>\n      <td>1371</td>\n      <td>4.0</td>\n      <td>Rocky III</td>\n      <td>47</td>\n    </tr>\n    <tr>\n      <th>4</th>\n      <td>21</td>\n      <td>1371</td>\n      <td>3.0</td>\n      <td>Rocky III</td>\n      <td>47</td>\n    </tr>\n    <tr>\n      <th>...</th>\n      <td>...</td>\n      <td>...</td>\n      <td>...</td>\n      <td>...</td>\n      <td>...</td>\n    </tr>\n    <tr>\n      <th>95</th>\n      <td>15</td>\n      <td>2105</td>\n      <td>4.0</td>\n      <td>American Pie</td>\n      <td>47</td>\n    </tr>\n    <tr>\n      <th>96</th>\n      <td>30</td>\n      <td>2105</td>\n      <td>2.0</td>\n      <td>American Pie</td>\n      <td>47</td>\n    </tr>\n    <tr>\n      <th>97</th>\n      <td>34</td>\n      <td>2105</td>\n      <td>4.0</td>\n      <td>American Pie</td>\n      <td>47</td>\n    </tr>\n    <tr>\n      <th>98</th>\n      <td>35</td>\n      <td>2105</td>\n      <td>3.5</td>\n      <td>American Pie</td>\n      <td>47</td>\n    </tr>\n    <tr>\n      <th>99</th>\n      <td>41</td>\n      <td>2105</td>\n      <td>5.0</td>\n      <td>American Pie</td>\n      <td>47</td>\n    </tr>\n  </tbody>\n</table>\n<p>100 rows × 5 columns</p>\n</div>"
     },
     "execution_count": 14,
     "metadata": {},
     "output_type": "execute_result"
    }
   ],
   "source": [
    "# keep only movies which has a higher ratings than 50 rating counts\n",
    "popular_movies_df = cr.get_popular_movies(rating_with_total_rating_counts_df, 20)\n",
    "popular_movies_df.head(100)"
   ],
   "metadata": {
    "collapsed": false,
    "pycharm": {
     "name": "#%%\n"
    }
   }
  },
  {
   "cell_type": "code",
   "execution_count": 15,
   "outputs": [
    {
     "data": {
      "text/plain": "(34932, 5)"
     },
     "execution_count": 15,
     "metadata": {},
     "output_type": "execute_result"
    }
   ],
   "source": [
    "popular_movies_df.shape"
   ],
   "metadata": {
    "collapsed": false,
    "pycharm": {
     "name": "#%%\n"
    }
   }
  },
  {
   "cell_type": "code",
   "execution_count": 16,
   "outputs": [],
   "source": [
    "# our dataframe\n",
    "df = popular_movies_df"
   ],
   "metadata": {
    "collapsed": false,
    "pycharm": {
     "name": "#%%\n"
    }
   }
  },
  {
   "cell_type": "code",
   "execution_count": 17,
   "outputs": [
    {
     "data": {
      "text/plain": "userId                        1    2    3    4    5    6    7    8    9    \\\ntitle                                                                       \n20,000 Leagues Under the Sea  0.0  0.0  0.0  3.0  0.0  2.0  0.0  0.0  0.0   \n2001: A Space Odyssey         0.0  3.0  0.0  0.0  0.0  0.0  0.0  0.0  0.0   \n24 Hour Party People          0.0  0.0  0.0  0.0  0.0  0.0  0.0  0.0  0.0   \n28 Days Later                 0.0  0.0  0.0  0.0  0.0  0.0  0.0  0.0  0.0   \n28 Weeks Later                0.0  0.0  0.0  0.0  0.0  0.0  0.0  0.0  0.0   \n...                           ...  ...  ...  ...  ...  ...  ...  ...  ...   \nYoung Adam                    0.0  0.0  0.0  0.0  0.0  0.0  0.0  0.0  0.0   \nYoung Frankenstein            0.0  0.0  0.0  5.0  0.0  0.0  0.0  0.0  0.0   \nYoung and Innocent            0.0  0.0  3.5  0.0  3.5  0.0  0.0  4.5  4.0   \nZatoichi                      0.0  0.0  0.0  0.0  0.0  0.0  0.0  0.0  0.0   \nxXx                           0.0  0.0  0.0  0.0  0.0  0.0  0.0  0.0  0.0   \n\nuserId                        10   ...  662  663  664  665  666  667  668  \\\ntitle                              ...                                      \n20,000 Leagues Under the Sea  0.0  ...  0.0  0.0  0.0  0.0  0.0  0.0  0.0   \n2001: A Space Odyssey         0.0  ...  0.0  0.0  0.0  3.0  0.0  0.0  0.0   \n24 Hour Party People          0.0  ...  0.0  0.0  0.0  3.0  0.0  0.0  0.0   \n28 Days Later                 0.0  ...  0.0  0.0  3.0  0.0  0.0  0.0  0.0   \n28 Weeks Later                0.0  ...  0.0  0.0  0.0  0.0  0.0  0.0  0.0   \n...                           ...  ...  ...  ...  ...  ...  ...  ...  ...   \nYoung Adam                    0.0  ...  0.0  0.0  0.0  0.0  0.0  0.0  0.0   \nYoung Frankenstein            0.0  ...  0.0  0.0  0.0  5.0  0.0  0.0  0.0   \nYoung and Innocent            0.0  ...  0.0  0.0  4.5  0.0  0.0  0.0  0.0   \nZatoichi                      0.0  ...  0.0  0.0  0.0  0.0  0.0  0.0  0.0   \nxXx                           0.0  ...  0.0  0.0  0.0  0.0  0.0  0.0  0.0   \n\nuserId                        669  670  671  \ntitle                                        \n20,000 Leagues Under the Sea  0.0  0.0  0.0  \n2001: A Space Odyssey         0.0  0.0  0.0  \n24 Hour Party People          0.0  0.0  0.0  \n28 Days Later                 0.0  0.0  0.0  \n28 Weeks Later                0.0  0.0  0.0  \n...                           ...  ...  ...  \nYoung Adam                    0.0  0.0  0.0  \nYoung Frankenstein            0.0  0.0  0.0  \nYoung and Innocent            0.0  0.0  4.0  \nZatoichi                      0.0  0.0  0.0  \nxXx                           0.0  0.0  0.0  \n\n[599 rows x 671 columns]",
      "text/html": "<div>\n<style scoped>\n    .dataframe tbody tr th:only-of-type {\n        vertical-align: middle;\n    }\n\n    .dataframe tbody tr th {\n        vertical-align: top;\n    }\n\n    .dataframe thead th {\n        text-align: right;\n    }\n</style>\n<table border=\"1\" class=\"dataframe\">\n  <thead>\n    <tr style=\"text-align: right;\">\n      <th>userId</th>\n      <th>1</th>\n      <th>2</th>\n      <th>3</th>\n      <th>4</th>\n      <th>5</th>\n      <th>6</th>\n      <th>7</th>\n      <th>8</th>\n      <th>9</th>\n      <th>10</th>\n      <th>...</th>\n      <th>662</th>\n      <th>663</th>\n      <th>664</th>\n      <th>665</th>\n      <th>666</th>\n      <th>667</th>\n      <th>668</th>\n      <th>669</th>\n      <th>670</th>\n      <th>671</th>\n    </tr>\n    <tr>\n      <th>title</th>\n      <th></th>\n      <th></th>\n      <th></th>\n      <th></th>\n      <th></th>\n      <th></th>\n      <th></th>\n      <th></th>\n      <th></th>\n      <th></th>\n      <th></th>\n      <th></th>\n      <th></th>\n      <th></th>\n      <th></th>\n      <th></th>\n      <th></th>\n      <th></th>\n      <th></th>\n      <th></th>\n      <th></th>\n    </tr>\n  </thead>\n  <tbody>\n    <tr>\n      <th>20,000 Leagues Under the Sea</th>\n      <td>0.0</td>\n      <td>0.0</td>\n      <td>0.0</td>\n      <td>3.0</td>\n      <td>0.0</td>\n      <td>2.0</td>\n      <td>0.0</td>\n      <td>0.0</td>\n      <td>0.0</td>\n      <td>0.0</td>\n      <td>...</td>\n      <td>0.0</td>\n      <td>0.0</td>\n      <td>0.0</td>\n      <td>0.0</td>\n      <td>0.0</td>\n      <td>0.0</td>\n      <td>0.0</td>\n      <td>0.0</td>\n      <td>0.0</td>\n      <td>0.0</td>\n    </tr>\n    <tr>\n      <th>2001: A Space Odyssey</th>\n      <td>0.0</td>\n      <td>3.0</td>\n      <td>0.0</td>\n      <td>0.0</td>\n      <td>0.0</td>\n      <td>0.0</td>\n      <td>0.0</td>\n      <td>0.0</td>\n      <td>0.0</td>\n      <td>0.0</td>\n      <td>...</td>\n      <td>0.0</td>\n      <td>0.0</td>\n      <td>0.0</td>\n      <td>3.0</td>\n      <td>0.0</td>\n      <td>0.0</td>\n      <td>0.0</td>\n      <td>0.0</td>\n      <td>0.0</td>\n      <td>0.0</td>\n    </tr>\n    <tr>\n      <th>24 Hour Party People</th>\n      <td>0.0</td>\n      <td>0.0</td>\n      <td>0.0</td>\n      <td>0.0</td>\n      <td>0.0</td>\n      <td>0.0</td>\n      <td>0.0</td>\n      <td>0.0</td>\n      <td>0.0</td>\n      <td>0.0</td>\n      <td>...</td>\n      <td>0.0</td>\n      <td>0.0</td>\n      <td>0.0</td>\n      <td>3.0</td>\n      <td>0.0</td>\n      <td>0.0</td>\n      <td>0.0</td>\n      <td>0.0</td>\n      <td>0.0</td>\n      <td>0.0</td>\n    </tr>\n    <tr>\n      <th>28 Days Later</th>\n      <td>0.0</td>\n      <td>0.0</td>\n      <td>0.0</td>\n      <td>0.0</td>\n      <td>0.0</td>\n      <td>0.0</td>\n      <td>0.0</td>\n      <td>0.0</td>\n      <td>0.0</td>\n      <td>0.0</td>\n      <td>...</td>\n      <td>0.0</td>\n      <td>0.0</td>\n      <td>3.0</td>\n      <td>0.0</td>\n      <td>0.0</td>\n      <td>0.0</td>\n      <td>0.0</td>\n      <td>0.0</td>\n      <td>0.0</td>\n      <td>0.0</td>\n    </tr>\n    <tr>\n      <th>28 Weeks Later</th>\n      <td>0.0</td>\n      <td>0.0</td>\n      <td>0.0</td>\n      <td>0.0</td>\n      <td>0.0</td>\n      <td>0.0</td>\n      <td>0.0</td>\n      <td>0.0</td>\n      <td>0.0</td>\n      <td>0.0</td>\n      <td>...</td>\n      <td>0.0</td>\n      <td>0.0</td>\n      <td>0.0</td>\n      <td>0.0</td>\n      <td>0.0</td>\n      <td>0.0</td>\n      <td>0.0</td>\n      <td>0.0</td>\n      <td>0.0</td>\n      <td>0.0</td>\n    </tr>\n    <tr>\n      <th>...</th>\n      <td>...</td>\n      <td>...</td>\n      <td>...</td>\n      <td>...</td>\n      <td>...</td>\n      <td>...</td>\n      <td>...</td>\n      <td>...</td>\n      <td>...</td>\n      <td>...</td>\n      <td>...</td>\n      <td>...</td>\n      <td>...</td>\n      <td>...</td>\n      <td>...</td>\n      <td>...</td>\n      <td>...</td>\n      <td>...</td>\n      <td>...</td>\n      <td>...</td>\n      <td>...</td>\n    </tr>\n    <tr>\n      <th>Young Adam</th>\n      <td>0.0</td>\n      <td>0.0</td>\n      <td>0.0</td>\n      <td>0.0</td>\n      <td>0.0</td>\n      <td>0.0</td>\n      <td>0.0</td>\n      <td>0.0</td>\n      <td>0.0</td>\n      <td>0.0</td>\n      <td>...</td>\n      <td>0.0</td>\n      <td>0.0</td>\n      <td>0.0</td>\n      <td>0.0</td>\n      <td>0.0</td>\n      <td>0.0</td>\n      <td>0.0</td>\n      <td>0.0</td>\n      <td>0.0</td>\n      <td>0.0</td>\n    </tr>\n    <tr>\n      <th>Young Frankenstein</th>\n      <td>0.0</td>\n      <td>0.0</td>\n      <td>0.0</td>\n      <td>5.0</td>\n      <td>0.0</td>\n      <td>0.0</td>\n      <td>0.0</td>\n      <td>0.0</td>\n      <td>0.0</td>\n      <td>0.0</td>\n      <td>...</td>\n      <td>0.0</td>\n      <td>0.0</td>\n      <td>0.0</td>\n      <td>5.0</td>\n      <td>0.0</td>\n      <td>0.0</td>\n      <td>0.0</td>\n      <td>0.0</td>\n      <td>0.0</td>\n      <td>0.0</td>\n    </tr>\n    <tr>\n      <th>Young and Innocent</th>\n      <td>0.0</td>\n      <td>0.0</td>\n      <td>3.5</td>\n      <td>0.0</td>\n      <td>3.5</td>\n      <td>0.0</td>\n      <td>0.0</td>\n      <td>4.5</td>\n      <td>4.0</td>\n      <td>0.0</td>\n      <td>...</td>\n      <td>0.0</td>\n      <td>0.0</td>\n      <td>4.5</td>\n      <td>0.0</td>\n      <td>0.0</td>\n      <td>0.0</td>\n      <td>0.0</td>\n      <td>0.0</td>\n      <td>0.0</td>\n      <td>4.0</td>\n    </tr>\n    <tr>\n      <th>Zatoichi</th>\n      <td>0.0</td>\n      <td>0.0</td>\n      <td>0.0</td>\n      <td>0.0</td>\n      <td>0.0</td>\n      <td>0.0</td>\n      <td>0.0</td>\n      <td>0.0</td>\n      <td>0.0</td>\n      <td>0.0</td>\n      <td>...</td>\n      <td>0.0</td>\n      <td>0.0</td>\n      <td>0.0</td>\n      <td>0.0</td>\n      <td>0.0</td>\n      <td>0.0</td>\n      <td>0.0</td>\n      <td>0.0</td>\n      <td>0.0</td>\n      <td>0.0</td>\n    </tr>\n    <tr>\n      <th>xXx</th>\n      <td>0.0</td>\n      <td>0.0</td>\n      <td>0.0</td>\n      <td>0.0</td>\n      <td>0.0</td>\n      <td>0.0</td>\n      <td>0.0</td>\n      <td>0.0</td>\n      <td>0.0</td>\n      <td>0.0</td>\n      <td>...</td>\n      <td>0.0</td>\n      <td>0.0</td>\n      <td>0.0</td>\n      <td>0.0</td>\n      <td>0.0</td>\n      <td>0.0</td>\n      <td>0.0</td>\n      <td>0.0</td>\n      <td>0.0</td>\n      <td>0.0</td>\n    </tr>\n  </tbody>\n</table>\n<p>599 rows × 671 columns</p>\n</div>"
     },
     "execution_count": 17,
     "metadata": {},
     "output_type": "execute_result"
    }
   ],
   "source": [
    "# we will then transform our dataframe, so we have all movie titles as index and users as column with their ratings as value\n",
    "df = cr.transform_df(df)\n",
    "df"
   ],
   "metadata": {
    "collapsed": false,
    "pycharm": {
     "name": "#%%\n"
    }
   }
  },
  {
   "cell_type": "code",
   "execution_count": 18,
   "outputs": [
    {
     "data": {
      "text/plain": "(599, 671)"
     },
     "execution_count": 18,
     "metadata": {},
     "output_type": "execute_result"
    }
   ],
   "source": [
    "df.shape"
   ],
   "metadata": {
    "collapsed": false,
    "pycharm": {
     "name": "#%%\n"
    }
   }
  },
  {
   "cell_type": "markdown",
   "source": [
    "#### Modelling\n",
    "We will now make a clustering of our dataframe with K-mean algorithm"
   ],
   "metadata": {
    "collapsed": false,
    "pycharm": {
     "name": "#%% md\n"
    }
   }
  },
  {
   "cell_type": "code",
   "execution_count": 19,
   "outputs": [
    {
     "data": {
      "text/plain": "NearestNeighbors(algorithm='brute', metric='cosine')",
      "text/html": "<style>#sk-container-id-1 {color: black;background-color: white;}#sk-container-id-1 pre{padding: 0;}#sk-container-id-1 div.sk-toggleable {background-color: white;}#sk-container-id-1 label.sk-toggleable__label {cursor: pointer;display: block;width: 100%;margin-bottom: 0;padding: 0.3em;box-sizing: border-box;text-align: center;}#sk-container-id-1 label.sk-toggleable__label-arrow:before {content: \"▸\";float: left;margin-right: 0.25em;color: #696969;}#sk-container-id-1 label.sk-toggleable__label-arrow:hover:before {color: black;}#sk-container-id-1 div.sk-estimator:hover label.sk-toggleable__label-arrow:before {color: black;}#sk-container-id-1 div.sk-toggleable__content {max-height: 0;max-width: 0;overflow: hidden;text-align: left;background-color: #f0f8ff;}#sk-container-id-1 div.sk-toggleable__content pre {margin: 0.2em;color: black;border-radius: 0.25em;background-color: #f0f8ff;}#sk-container-id-1 input.sk-toggleable__control:checked~div.sk-toggleable__content {max-height: 200px;max-width: 100%;overflow: auto;}#sk-container-id-1 input.sk-toggleable__control:checked~label.sk-toggleable__label-arrow:before {content: \"▾\";}#sk-container-id-1 div.sk-estimator input.sk-toggleable__control:checked~label.sk-toggleable__label {background-color: #d4ebff;}#sk-container-id-1 div.sk-label input.sk-toggleable__control:checked~label.sk-toggleable__label {background-color: #d4ebff;}#sk-container-id-1 input.sk-hidden--visually {border: 0;clip: rect(1px 1px 1px 1px);clip: rect(1px, 1px, 1px, 1px);height: 1px;margin: -1px;overflow: hidden;padding: 0;position: absolute;width: 1px;}#sk-container-id-1 div.sk-estimator {font-family: monospace;background-color: #f0f8ff;border: 1px dotted black;border-radius: 0.25em;box-sizing: border-box;margin-bottom: 0.5em;}#sk-container-id-1 div.sk-estimator:hover {background-color: #d4ebff;}#sk-container-id-1 div.sk-parallel-item::after {content: \"\";width: 100%;border-bottom: 1px solid gray;flex-grow: 1;}#sk-container-id-1 div.sk-label:hover label.sk-toggleable__label {background-color: #d4ebff;}#sk-container-id-1 div.sk-serial::before {content: \"\";position: absolute;border-left: 1px solid gray;box-sizing: border-box;top: 0;bottom: 0;left: 50%;z-index: 0;}#sk-container-id-1 div.sk-serial {display: flex;flex-direction: column;align-items: center;background-color: white;padding-right: 0.2em;padding-left: 0.2em;position: relative;}#sk-container-id-1 div.sk-item {position: relative;z-index: 1;}#sk-container-id-1 div.sk-parallel {display: flex;align-items: stretch;justify-content: center;background-color: white;position: relative;}#sk-container-id-1 div.sk-item::before, #sk-container-id-1 div.sk-parallel-item::before {content: \"\";position: absolute;border-left: 1px solid gray;box-sizing: border-box;top: 0;bottom: 0;left: 50%;z-index: -1;}#sk-container-id-1 div.sk-parallel-item {display: flex;flex-direction: column;z-index: 1;position: relative;background-color: white;}#sk-container-id-1 div.sk-parallel-item:first-child::after {align-self: flex-end;width: 50%;}#sk-container-id-1 div.sk-parallel-item:last-child::after {align-self: flex-start;width: 50%;}#sk-container-id-1 div.sk-parallel-item:only-child::after {width: 0;}#sk-container-id-1 div.sk-dashed-wrapped {border: 1px dashed gray;margin: 0 0.4em 0.5em 0.4em;box-sizing: border-box;padding-bottom: 0.4em;background-color: white;}#sk-container-id-1 div.sk-label label {font-family: monospace;font-weight: bold;display: inline-block;line-height: 1.2em;}#sk-container-id-1 div.sk-label-container {text-align: center;}#sk-container-id-1 div.sk-container {/* jupyter's `normalize.less` sets `[hidden] { display: none; }` but bootstrap.min.css set `[hidden] { display: none !important; }` so we also need the `!important` here to be able to override the default hidden behavior on the sphinx rendered scikit-learn.org. See: https://github.com/scikit-learn/scikit-learn/issues/21755 */display: inline-block !important;position: relative;}#sk-container-id-1 div.sk-text-repr-fallback {display: none;}</style><div id=\"sk-container-id-1\" class=\"sk-top-container\"><div class=\"sk-text-repr-fallback\"><pre>NearestNeighbors(algorithm=&#x27;brute&#x27;, metric=&#x27;cosine&#x27;)</pre><b>In a Jupyter environment, please rerun this cell to show the HTML representation or trust the notebook. <br />On GitHub, the HTML representation is unable to render, please try loading this page with nbviewer.org.</b></div><div class=\"sk-container\" hidden><div class=\"sk-item\"><div class=\"sk-estimator sk-toggleable\"><input class=\"sk-toggleable__control sk-hidden--visually\" id=\"sk-estimator-id-1\" type=\"checkbox\" checked><label for=\"sk-estimator-id-1\" class=\"sk-toggleable__label sk-toggleable__label-arrow\">NearestNeighbors</label><div class=\"sk-toggleable__content\"><pre>NearestNeighbors(algorithm=&#x27;brute&#x27;, metric=&#x27;cosine&#x27;)</pre></div></div></div></div></div>"
     },
     "execution_count": 19,
     "metadata": {},
     "output_type": "execute_result"
    }
   ],
   "source": [
    "from sklearn.neighbors import NearestNeighbors\n",
    "\n",
    "model_knn = NearestNeighbors(metric = 'cosine', algorithm = 'brute')\n",
    "model_knn.fit(df)"
   ],
   "metadata": {
    "collapsed": false,
    "pycharm": {
     "name": "#%%\n"
    }
   }
  },
  {
   "cell_type": "code",
   "execution_count": 20,
   "outputs": [],
   "source": [
    "from sklearn.cluster import KMeans\n",
    "import matplotlib.pyplot as plt"
   ],
   "metadata": {
    "collapsed": false,
    "pycharm": {
     "name": "#%%\n"
    }
   }
  },
  {
   "cell_type": "markdown",
   "source": [
    "##### Decide amount of clusters\n",
    "We will use the elbow method to decide the number of clusters."
   ],
   "metadata": {
    "collapsed": false,
    "pycharm": {
     "name": "#%% md\n"
    }
   }
  },
  {
   "cell_type": "code",
   "execution_count": 21,
   "outputs": [
    {
     "name": "stderr",
     "output_type": "stream",
     "text": [
      "C:\\Users\\miemt\\Desktop\\MovieMatch\\modules\\recommmender\\CollaborativeRecommender.py:99: ConvergenceWarning: Number of distinct clusters (18) found smaller than n_clusters (19). Possibly due to duplicate points in X.\n",
      "  kmeans.fit(data[[data.columns[1],data.columns[2]]])\n"
     ]
    },
    {
     "data": {
      "text/plain": "<Figure size 1000x500 with 1 Axes>",
      "image/png": "[encoded data removed]"
     },
     "metadata": {},
     "output_type": "display_data"
    }
   ],
   "source": [
    "# show elbow plot\n",
    "cr.optimise_k_means(df,20)"
   ],
   "metadata": {
    "collapsed": false,
    "pycharm": {
     "name": "#%%\n"
    }
   }
  },
  {
   "cell_type": "code",
   "execution_count": 22,
   "outputs": [
    {
     "data": {
      "text/plain": "KMeans(n_clusters=5)",
      "text/html": "<style>#sk-container-id-2 {color: black;background-color: white;}#sk-container-id-2 pre{padding: 0;}#sk-container-id-2 div.sk-toggleable {background-color: white;}#sk-container-id-2 label.sk-toggleable__label {cursor: pointer;display: block;width: 100%;margin-bottom: 0;padding: 0.3em;box-sizing: border-box;text-align: center;}#sk-container-id-2 label.sk-toggleable__label-arrow:before {content: \"▸\";float: left;margin-right: 0.25em;color: #696969;}#sk-container-id-2 label.sk-toggleable__label-arrow:hover:before {color: black;}#sk-container-id-2 div.sk-estimator:hover label.sk-toggleable__label-arrow:before {color: black;}#sk-container-id-2 div.sk-toggleable__content {max-height: 0;max-width: 0;overflow: hidden;text-align: left;background-color: #f0f8ff;}#sk-container-id-2 div.sk-toggleable__content pre {margin: 0.2em;color: black;border-radius: 0.25em;background-color: #f0f8ff;}#sk-container-id-2 input.sk-toggleable__control:checked~div.sk-toggleable__content {max-height: 200px;max-width: 100%;overflow: auto;}#sk-container-id-2 input.sk-toggleable__control:checked~label.sk-toggleable__label-arrow:before {content: \"▾\";}#sk-container-id-2 div.sk-estimator input.sk-toggleable__control:checked~label.sk-toggleable__label {background-color: #d4ebff;}#sk-container-id-2 div.sk-label input.sk-toggleable__control:checked~label.sk-toggleable__label {background-color: #d4ebff;}#sk-container-id-2 input.sk-hidden--visually {border: 0;clip: rect(1px 1px 1px 1px);clip: rect(1px, 1px, 1px, 1px);height: 1px;margin: -1px;overflow: hidden;padding: 0;position: absolute;width: 1px;}#sk-container-id-2 div.sk-estimator {font-family: monospace;background-color: #f0f8ff;border: 1px dotted black;border-radius: 0.25em;box-sizing: border-box;margin-bottom: 0.5em;}#sk-container-id-2 div.sk-estimator:hover {background-color: #d4ebff;}#sk-container-id-2 div.sk-parallel-item::after {content: \"\";width: 100%;border-bottom: 1px solid gray;flex-grow: 1;}#sk-container-id-2 div.sk-label:hover label.sk-toggleable__label {background-color: #d4ebff;}#sk-container-id-2 div.sk-serial::before {content: \"\";position: absolute;border-left: 1px solid gray;box-sizing: border-box;top: 0;bottom: 0;left: 50%;z-index: 0;}#sk-container-id-2 div.sk-serial {display: flex;flex-direction: column;align-items: center;background-color: white;padding-right: 0.2em;padding-left: 0.2em;position: relative;}#sk-container-id-2 div.sk-item {position: relative;z-index: 1;}#sk-container-id-2 div.sk-parallel {display: flex;align-items: stretch;justify-content: center;background-color: white;position: relative;}#sk-container-id-2 div.sk-item::before, #sk-container-id-2 div.sk-parallel-item::before {content: \"\";position: absolute;border-left: 1px solid gray;box-sizing: border-box;top: 0;bottom: 0;left: 50%;z-index: -1;}#sk-container-id-2 div.sk-parallel-item {display: flex;flex-direction: column;z-index: 1;position: relative;background-color: white;}#sk-container-id-2 div.sk-parallel-item:first-child::after {align-self: flex-end;width: 50%;}#sk-container-id-2 div.sk-parallel-item:last-child::after {align-self: flex-start;width: 50%;}#sk-container-id-2 div.sk-parallel-item:only-child::after {width: 0;}#sk-container-id-2 div.sk-dashed-wrapped {border: 1px dashed gray;margin: 0 0.4em 0.5em 0.4em;box-sizing: border-box;padding-bottom: 0.4em;background-color: white;}#sk-container-id-2 div.sk-label label {font-family: monospace;font-weight: bold;display: inline-block;line-height: 1.2em;}#sk-container-id-2 div.sk-label-container {text-align: center;}#sk-container-id-2 div.sk-container {/* jupyter's `normalize.less` sets `[hidden] { display: none; }` but bootstrap.min.css set `[hidden] { display: none !important; }` so we also need the `!important` here to be able to override the default hidden behavior on the sphinx rendered scikit-learn.org. See: https://github.com/scikit-learn/scikit-learn/issues/21755 */display: inline-block !important;position: relative;}#sk-container-id-2 div.sk-text-repr-fallback {display: none;}</style><div id=\"sk-container-id-2\" class=\"sk-top-container\"><div class=\"sk-text-repr-fallback\"><pre>KMeans(n_clusters=5)</pre><b>In a Jupyter environment, please rerun this cell to show the HTML representation or trust the notebook. <br />On GitHub, the HTML representation is unable to render, please try loading this page with nbviewer.org.</b></div><div class=\"sk-container\" hidden><div class=\"sk-item\"><div class=\"sk-estimator sk-toggleable\"><input class=\"sk-toggleable__control sk-hidden--visually\" id=\"sk-estimator-id-2\" type=\"checkbox\" checked><label for=\"sk-estimator-id-2\" class=\"sk-toggleable__label sk-toggleable__label-arrow\">KMeans</label><div class=\"sk-toggleable__content\"><pre>KMeans(n_clusters=5)</pre></div></div></div></div></div>"
     },
     "execution_count": 22,
     "metadata": {},
     "output_type": "execute_result"
    }
   ],
   "source": [
    "kmeans = KMeans(n_clusters=5)\n",
    "kmeans.fit(df)"
   ],
   "metadata": {
    "collapsed": false,
    "pycharm": {
     "name": "#%%\n"
    }
   }
  },
  {
   "cell_type": "markdown",
   "source": [
    "##### Find nearest\n",
    "We will now find the movies that is located as the nearest to the movie we will make a recommendations from."
   ],
   "metadata": {
    "collapsed": false,
    "pycharm": {
     "name": "#%% md\n"
    }
   }
  },
  {
   "cell_type": "code",
   "execution_count": 23,
   "outputs": [],
   "source": [
    "# choose movie and size of recommendation\n",
    "movie_title = \"Harry Potter and the Goblet of Fire\"\n",
    "recommends_size = 5"
   ],
   "metadata": {
    "collapsed": false,
    "pycharm": {
     "name": "#%%\n"
    }
   }
  },
  {
   "cell_type": "code",
   "execution_count": 24,
   "outputs": [
    {
     "data": {
      "text/plain": "205"
     },
     "execution_count": 24,
     "metadata": {},
     "output_type": "execute_result"
    }
   ],
   "source": [
    "# get movie index\n",
    "movie_index = cr.get_movie_index_by_title(movie_title)\n",
    "movie_index"
   ],
   "metadata": {
    "collapsed": false,
    "pycharm": {
     "name": "#%%\n"
    }
   }
  },
  {
   "cell_type": "code",
   "execution_count": 25,
   "outputs": [],
   "source": [
    "# find the nearest movies\n",
    "distances, indices = model_knn.kneighbors(df.iloc[movie_index,:].values.reshape(1, -1), n_neighbors = 6)"
   ],
   "metadata": {
    "collapsed": false,
    "pycharm": {
     "name": "#%%\n"
    }
   }
  },
  {
   "cell_type": "code",
   "execution_count": 26,
   "outputs": [
    {
     "data": {
      "text/plain": "array([[205,  37, 278, 367, 366, 384]], dtype=int64)"
     },
     "execution_count": 26,
     "metadata": {},
     "output_type": "execute_result"
    }
   ],
   "source": [
    "# indexes for the nearest movies\n",
    "indices"
   ],
   "metadata": {
    "collapsed": false,
    "pycharm": {
     "name": "#%%\n"
    }
   }
  },
  {
   "cell_type": "code",
   "execution_count": 27,
   "outputs": [
    {
     "data": {
      "text/plain": "array([[0.        , 0.52376264, 0.5470693 , 0.56820273, 0.5713248 ,\n        0.57914835]], dtype=float32)"
     },
     "execution_count": 27,
     "metadata": {},
     "output_type": "execute_result"
    }
   ],
   "source": [
    "# the distances between the movie and every nearest movie found\n",
    "distances"
   ],
   "metadata": {
    "collapsed": false,
    "pycharm": {
     "name": "#%%\n"
    }
   }
  },
  {
   "cell_type": "code",
   "execution_count": 28,
   "outputs": [
    {
     "data": {
      "text/plain": "userId                          1    2    3    4    5    6    7    8    9  \\\ntitle                                                                       \n20,000 Leagues Under the Sea  0.0  0.0  0.0  3.0  0.0  2.0  0.0  0.0  0.0   \n2001: A Space Odyssey         0.0  3.0  0.0  0.0  0.0  0.0  0.0  0.0  0.0   \n24 Hour Party People          0.0  0.0  0.0  0.0  0.0  0.0  0.0  0.0  0.0   \n28 Days Later                 0.0  0.0  0.0  0.0  0.0  0.0  0.0  0.0  0.0   \n28 Weeks Later                0.0  0.0  0.0  0.0  0.0  0.0  0.0  0.0  0.0   \n\nuserId                         10  ...  663  664  665  666  667  668  669  \\\ntitle                              ...                                      \n20,000 Leagues Under the Sea  0.0  ...  0.0  0.0  0.0  0.0  0.0  0.0  0.0   \n2001: A Space Odyssey         0.0  ...  0.0  0.0  3.0  0.0  0.0  0.0  0.0   \n24 Hour Party People          0.0  ...  0.0  0.0  3.0  0.0  0.0  0.0  0.0   \n28 Days Later                 0.0  ...  0.0  3.0  0.0  0.0  0.0  0.0  0.0   \n28 Weeks Later                0.0  ...  0.0  0.0  0.0  0.0  0.0  0.0  0.0   \n\nuserId                        670  671  labels  \ntitle                                           \n20,000 Leagues Under the Sea  0.0  0.0       2  \n2001: A Space Odyssey         0.0  0.0       2  \n24 Hour Party People          0.0  0.0       0  \n28 Days Later                 0.0  0.0       2  \n28 Weeks Later                0.0  0.0       2  \n\n[5 rows x 672 columns]",
      "text/html": "<div>\n<style scoped>\n    .dataframe tbody tr th:only-of-type {\n        vertical-align: middle;\n    }\n\n    .dataframe tbody tr th {\n        vertical-align: top;\n    }\n\n    .dataframe thead th {\n        text-align: right;\n    }\n</style>\n<table border=\"1\" class=\"dataframe\">\n  <thead>\n    <tr style=\"text-align: right;\">\n      <th>userId</th>\n      <th>1</th>\n      <th>2</th>\n      <th>3</th>\n      <th>4</th>\n      <th>5</th>\n      <th>6</th>\n      <th>7</th>\n      <th>8</th>\n      <th>9</th>\n      <th>10</th>\n      <th>...</th>\n      <th>663</th>\n      <th>664</th>\n      <th>665</th>\n      <th>666</th>\n      <th>667</th>\n      <th>668</th>\n      <th>669</th>\n      <th>670</th>\n      <th>671</th>\n      <th>labels</th>\n    </tr>\n    <tr>\n      <th>title</th>\n      <th></th>\n      <th></th>\n      <th></th>\n      <th></th>\n      <th></th>\n      <th></th>\n      <th></th>\n      <th></th>\n      <th></th>\n      <th></th>\n      <th></th>\n      <th></th>\n      <th></th>\n      <th></th>\n      <th></th>\n      <th></th>\n      <th></th>\n      <th></th>\n      <th></th>\n      <th></th>\n      <th></th>\n    </tr>\n  </thead>\n  <tbody>\n    <tr>\n      <th>20,000 Leagues Under the Sea</th>\n      <td>0.0</td>\n      <td>0.0</td>\n      <td>0.0</td>\n      <td>3.0</td>\n      <td>0.0</td>\n      <td>2.0</td>\n      <td>0.0</td>\n      <td>0.0</td>\n      <td>0.0</td>\n      <td>0.0</td>\n      <td>...</td>\n      <td>0.0</td>\n      <td>0.0</td>\n      <td>0.0</td>\n      <td>0.0</td>\n      <td>0.0</td>\n      <td>0.0</td>\n      <td>0.0</td>\n      <td>0.0</td>\n      <td>0.0</td>\n      <td>2</td>\n    </tr>\n    <tr>\n      <th>2001: A Space Odyssey</th>\n      <td>0.0</td>\n      <td>3.0</td>\n      <td>0.0</td>\n      <td>0.0</td>\n      <td>0.0</td>\n      <td>0.0</td>\n      <td>0.0</td>\n      <td>0.0</td>\n      <td>0.0</td>\n      <td>0.0</td>\n      <td>...</td>\n      <td>0.0</td>\n      <td>0.0</td>\n      <td>3.0</td>\n      <td>0.0</td>\n      <td>0.0</td>\n      <td>0.0</td>\n      <td>0.0</td>\n      <td>0.0</td>\n      <td>0.0</td>\n      <td>2</td>\n    </tr>\n    <tr>\n      <th>24 Hour Party People</th>\n      <td>0.0</td>\n      <td>0.0</td>\n      <td>0.0</td>\n      <td>0.0</td>\n      <td>0.0</td>\n      <td>0.0</td>\n      <td>0.0</td>\n      <td>0.0</td>\n      <td>0.0</td>\n      <td>0.0</td>\n      <td>...</td>\n      <td>0.0</td>\n      <td>0.0</td>\n      <td>3.0</td>\n      <td>0.0</td>\n      <td>0.0</td>\n      <td>0.0</td>\n      <td>0.0</td>\n      <td>0.0</td>\n      <td>0.0</td>\n      <td>0</td>\n    </tr>\n    <tr>\n      <th>28 Days Later</th>\n      <td>0.0</td>\n      <td>0.0</td>\n      <td>0.0</td>\n      <td>0.0</td>\n      <td>0.0</td>\n      <td>0.0</td>\n      <td>0.0</td>\n      <td>0.0</td>\n      <td>0.0</td>\n      <td>0.0</td>\n      <td>...</td>\n      <td>0.0</td>\n      <td>3.0</td>\n      <td>0.0</td>\n      <td>0.0</td>\n      <td>0.0</td>\n      <td>0.0</td>\n      <td>0.0</td>\n      <td>0.0</td>\n      <td>0.0</td>\n      <td>2</td>\n    </tr>\n    <tr>\n      <th>28 Weeks Later</th>\n      <td>0.0</td>\n      <td>0.0</td>\n      <td>0.0</td>\n      <td>0.0</td>\n      <td>0.0</td>\n      <td>0.0</td>\n      <td>0.0</td>\n      <td>0.0</td>\n      <td>0.0</td>\n      <td>0.0</td>\n      <td>...</td>\n      <td>0.0</td>\n      <td>0.0</td>\n      <td>0.0</td>\n      <td>0.0</td>\n      <td>0.0</td>\n      <td>0.0</td>\n      <td>0.0</td>\n      <td>0.0</td>\n      <td>0.0</td>\n      <td>2</td>\n    </tr>\n  </tbody>\n</table>\n<p>5 rows × 672 columns</p>\n</div>"
     },
     "execution_count": 28,
     "metadata": {},
     "output_type": "execute_result"
    }
   ],
   "source": [
    "df['labels'] = kmeans.labels_\n",
    "df.head()"
   ],
   "metadata": {
    "collapsed": false,
    "pycharm": {
     "name": "#%%\n"
    }
   }
  },
  {
   "cell_type": "code",
   "execution_count": 29,
   "outputs": [
    {
     "name": "stdout",
     "output_type": "stream",
     "text": [
      "Recommendations for Harry Potter and the Goblet of Fire , cluster 2:\n",
      "\n",
      "1: American Pie, with distance of 0.5237626433372498: cluster 2\n",
      "2: Madame Bovary, with distance of 0.5470693111419678: cluster 2\n",
      "3: Rocky V, with distance of 0.5682027339935303: cluster 2\n",
      "4: Rocky IV, with distance of 0.5713248252868652: cluster 2\n",
      "5: Seven Blood-Stained Orchids, with distance of 0.5791483521461487: cluster 2\n"
     ]
    }
   ],
   "source": [
    "for i in range(0, len(distances.flatten())):\n",
    "    if i == 0:\n",
    "        print('Recommendations for {0} , cluster {1}:\\n'.format(df.index[movie_index], df['labels'][[indices.flatten()[i]]].values[0]))\n",
    "    else:\n",
    "        print('{0}: {1}, with distance of {2}: cluster {3}'.\n",
    "        format(i, df.index[indices.flatten()[i]], distances.flatten()[i],df['labels'][[indices.flatten()[i]]].values[0]))"
   ],
   "metadata": {
    "collapsed": false,
    "pycharm": {
     "name": "#%%\n"
    }
   }
  },
  {
   "cell_type": "code",
   "execution_count": 30,
   "outputs": [
    {
     "data": {
      "text/plain": "userId           1           2           3           4           5  \\\ncount   599.000000  599.000000  599.000000  599.000000  599.000000   \nmean      0.023372    0.313856    0.142738    0.691152    0.346411   \nstd       0.249323    1.044971    0.714805    1.625396    1.126505   \nmin       0.000000    0.000000    0.000000    0.000000    0.000000   \n25%       0.000000    0.000000    0.000000    0.000000    0.000000   \n50%       0.000000    0.000000    0.000000    0.000000    0.000000   \n75%       0.000000    0.000000    0.000000    0.000000    0.000000   \nmax       4.000000    5.000000    5.000000    5.000000    5.000000   \n\nuserId           6           7           8           9          10  ...  \\\ncount   599.000000  599.000000  599.000000  599.000000  599.000000  ...   \nmean      0.149416    0.258765    0.294658    0.156928    0.110184  ...   \nstd       0.717527    0.929713    1.065766    0.785794    0.657765  ...   \nmin       0.000000    0.000000    0.000000    0.000000    0.000000  ...   \n25%       0.000000    0.000000    0.000000    0.000000    0.000000  ...   \n50%       0.000000    0.000000    0.000000    0.000000    0.000000  ...   \n75%       0.000000    0.000000    0.000000    0.000000    0.000000  ...   \nmax       5.000000    5.000000    5.000000    5.000000    5.000000  ...   \n\nuserId         663         664         665         666         667  \\\ncount   599.000000  599.000000  599.000000  599.000000  599.000000   \nmean      0.012521    0.826377    0.891486    0.165275    0.312187   \nstd       0.216988    1.607852    1.589023    0.718413    1.031787   \nmin       0.000000    0.000000    0.000000    0.000000    0.000000   \n25%       0.000000    0.000000    0.000000    0.000000    0.000000   \n50%       0.000000    0.000000    0.000000    0.000000    0.000000   \n75%       0.000000    0.000000    1.000000    0.000000    0.000000   \nmax       4.000000    5.000000    5.000000    5.000000    5.000000   \n\nuserId         668         669         670         671      labels  \ncount   599.000000  599.000000  599.000000  599.000000  599.000000  \nmean      0.065109    0.070117    0.093489    0.311352    1.505843  \nstd       0.537025    0.528542    0.623890    1.096271    0.960534  \nmin       0.000000    0.000000    0.000000    0.000000    0.000000  \n25%       0.000000    0.000000    0.000000    0.000000    1.000000  \n50%       0.000000    0.000000    0.000000    0.000000    2.000000  \n75%       0.000000    0.000000    0.000000    0.000000    2.000000  \nmax       5.000000    5.000000    5.000000    5.000000    4.000000  \n\n[8 rows x 672 columns]",
      "text/html": "<div>\n<style scoped>\n    .dataframe tbody tr th:only-of-type {\n        vertical-align: middle;\n    }\n\n    .dataframe tbody tr th {\n        vertical-align: top;\n    }\n\n    .dataframe thead th {\n        text-align: right;\n    }\n</style>\n<table border=\"1\" class=\"dataframe\">\n  <thead>\n    <tr style=\"text-align: right;\">\n      <th>userId</th>\n      <th>1</th>\n      <th>2</th>\n      <th>3</th>\n      <th>4</th>\n      <th>5</th>\n      <th>6</th>\n      <th>7</th>\n      <th>8</th>\n      <th>9</th>\n      <th>10</th>\n      <th>...</th>\n      <th>663</th>\n      <th>664</th>\n      <th>665</th>\n      <th>666</th>\n      <th>667</th>\n      <th>668</th>\n      <th>669</th>\n      <th>670</th>\n      <th>671</th>\n      <th>labels</th>\n    </tr>\n  </thead>\n  <tbody>\n    <tr>\n      <th>count</th>\n      <td>599.000000</td>\n      <td>599.000000</td>\n      <td>599.000000</td>\n      <td>599.000000</td>\n      <td>599.000000</td>\n      <td>599.000000</td>\n      <td>599.000000</td>\n      <td>599.000000</td>\n      <td>599.000000</td>\n      <td>599.000000</td>\n      <td>...</td>\n      <td>599.000000</td>\n      <td>599.000000</td>\n      <td>599.000000</td>\n      <td>599.000000</td>\n      <td>599.000000</td>\n      <td>599.000000</td>\n      <td>599.000000</td>\n      <td>599.000000</td>\n      <td>599.000000</td>\n      <td>599.000000</td>\n    </tr>\n    <tr>\n      <th>mean</th>\n      <td>0.023372</td>\n      <td>0.313856</td>\n      <td>0.142738</td>\n      <td>0.691152</td>\n      <td>0.346411</td>\n      <td>0.149416</td>\n      <td>0.258765</td>\n      <td>0.294658</td>\n      <td>0.156928</td>\n      <td>0.110184</td>\n      <td>...</td>\n      <td>0.012521</td>\n      <td>0.826377</td>\n      <td>0.891486</td>\n      <td>0.165275</td>\n      <td>0.312187</td>\n      <td>0.065109</td>\n      <td>0.070117</td>\n      <td>0.093489</td>\n      <td>0.311352</td>\n      <td>1.505843</td>\n    </tr>\n    <tr>\n      <th>std</th>\n      <td>0.249323</td>\n      <td>1.044971</td>\n      <td>0.714805</td>\n      <td>1.625396</td>\n      <td>1.126505</td>\n      <td>0.717527</td>\n      <td>0.929713</td>\n      <td>1.065766</td>\n      <td>0.785794</td>\n      <td>0.657765</td>\n      <td>...</td>\n      <td>0.216988</td>\n      <td>1.607852</td>\n      <td>1.589023</td>\n      <td>0.718413</td>\n      <td>1.031787</td>\n      <td>0.537025</td>\n      <td>0.528542</td>\n      <td>0.623890</td>\n      <td>1.096271</td>\n      <td>0.960534</td>\n    </tr>\n    <tr>\n      <th>min</th>\n      <td>0.000000</td>\n      <td>0.000000</td>\n      <td>0.000000</td>\n      <td>0.000000</td>\n      <td>0.000000</td>\n      <td>0.000000</td>\n      <td>0.000000</td>\n      <td>0.000000</td>\n      <td>0.000000</td>\n      <td>0.000000</td>\n      <td>...</td>\n      <td>0.000000</td>\n      <td>0.000000</td>\n      <td>0.000000</td>\n      <td>0.000000</td>\n      <td>0.000000</td>\n      <td>0.000000</td>\n      <td>0.000000</td>\n      <td>0.000000</td>\n      <td>0.000000</td>\n      <td>0.000000</td>\n    </tr>\n    <tr>\n      <th>25%</th>\n      <td>0.000000</td>\n      <td>0.000000</td>\n      <td>0.000000</td>\n      <td>0.000000</td>\n      <td>0.000000</td>\n      <td>0.000000</td>\n      <td>0.000000</td>\n      <td>0.000000</td>\n      <td>0.000000</td>\n      <td>0.000000</td>\n      <td>...</td>\n      <td>0.000000</td>\n      <td>0.000000</td>\n      <td>0.000000</td>\n      <td>0.000000</td>\n      <td>0.000000</td>\n      <td>0.000000</td>\n      <td>0.000000</td>\n      <td>0.000000</td>\n      <td>0.000000</td>\n      <td>1.000000</td>\n    </tr>\n    <tr>\n      <th>50%</th>\n      <td>0.000000</td>\n      <td>0.000000</td>\n      <td>0.000000</td>\n      <td>0.000000</td>\n      <td>0.000000</td>\n      <td>0.000000</td>\n      <td>0.000000</td>\n      <td>0.000000</td>\n      <td>0.000000</td>\n      <td>0.000000</td>\n      <td>...</td>\n      <td>0.000000</td>\n      <td>0.000000</td>\n      <td>0.000000</td>\n      <td>0.000000</td>\n      <td>0.000000</td>\n      <td>0.000000</td>\n      <td>0.000000</td>\n      <td>0.000000</td>\n      <td>0.000000</td>\n      <td>2.000000</td>\n    </tr>\n    <tr>\n      <th>75%</th>\n      <td>0.000000</td>\n      <td>0.000000</td>\n      <td>0.000000</td>\n      <td>0.000000</td>\n      <td>0.000000</td>\n      <td>0.000000</td>\n      <td>0.000000</td>\n      <td>0.000000</td>\n      <td>0.000000</td>\n      <td>0.000000</td>\n      <td>...</td>\n      <td>0.000000</td>\n      <td>0.000000</td>\n      <td>1.000000</td>\n      <td>0.000000</td>\n      <td>0.000000</td>\n      <td>0.000000</td>\n      <td>0.000000</td>\n      <td>0.000000</td>\n      <td>0.000000</td>\n      <td>2.000000</td>\n    </tr>\n    <tr>\n      <th>max</th>\n      <td>4.000000</td>\n      <td>5.000000</td>\n      <td>5.000000</td>\n      <td>5.000000</td>\n      <td>5.000000</td>\n      <td>5.000000</td>\n      <td>5.000000</td>\n      <td>5.000000</td>\n      <td>5.000000</td>\n      <td>5.000000</td>\n      <td>...</td>\n      <td>4.000000</td>\n      <td>5.000000</td>\n      <td>5.000000</td>\n      <td>5.000000</td>\n      <td>5.000000</td>\n      <td>5.000000</td>\n      <td>5.000000</td>\n      <td>5.000000</td>\n      <td>5.000000</td>\n      <td>4.000000</td>\n    </tr>\n  </tbody>\n</table>\n<p>8 rows × 672 columns</p>\n</div>"
     },
     "execution_count": 30,
     "metadata": {},
     "output_type": "execute_result"
    }
   ],
   "source": [
    "df.describe()"
   ],
   "metadata": {
    "collapsed": false,
    "pycharm": {
     "name": "#%%\n"
    }
   }
  },
  {
   "cell_type": "code",
   "execution_count": 31,
   "outputs": [
    {
     "data": {
      "text/plain": "userId        1         2         3         4         5         6         7  \\\nlabels                                                                        \n0       0.00000  0.248227  0.046099  0.730496  0.166667  0.177305  0.226950   \n1       0.00000  0.015152  0.409091  1.106061  0.818182  0.515152  0.166667   \n2       0.04023  0.166667  0.051724  0.502874  0.239943  0.087644  0.158046   \n3       0.00000  2.305556  0.402778  1.333333  1.222222  0.000000  1.305556   \n4       0.00000  1.375000  2.437500  1.875000  0.312500  0.000000  1.250000   \n\nuserId         8         9        10  ...       663       664       665  \\\nlabels                                ...                                 \n0       0.035461  0.205674  0.177305  ...  0.000000  0.095745  0.588652   \n1       1.227273  0.303030  0.121212  ...  0.000000  2.568182  1.469697   \n2       0.146552  0.066092  0.066092  ...  0.000000  0.689655  0.729885   \n3       0.236111  0.000000  0.166667  ...  0.097222  1.250000  2.055556   \n4       3.875000  2.750000  0.500000  ...  0.500000  3.375000  3.250000   \n\nuserId       666       667       668       669       670       671  Counts  \nlabels                                                                      \n0       0.056738  0.390071  0.028369  0.085106  0.042553  0.276596     141  \n1       0.075758  0.090909  0.196970  0.136364  0.151515  1.484848      66  \n2       0.040230  0.152299  0.008621  0.037356  0.025862  0.044540     348  \n3       1.694444  1.750000  0.000000  0.083333  0.305556  0.333333      36  \n4       1.375000  1.250000  2.375000  0.625000  2.500000  2.750000       8  \n\n[5 rows x 672 columns]",
      "text/html": "<div>\n<style scoped>\n    .dataframe tbody tr th:only-of-type {\n        vertical-align: middle;\n    }\n\n    .dataframe tbody tr th {\n        vertical-align: top;\n    }\n\n    .dataframe thead th {\n        text-align: right;\n    }\n</style>\n<table border=\"1\" class=\"dataframe\">\n  <thead>\n    <tr style=\"text-align: right;\">\n      <th>userId</th>\n      <th>1</th>\n      <th>2</th>\n      <th>3</th>\n      <th>4</th>\n      <th>5</th>\n      <th>6</th>\n      <th>7</th>\n      <th>8</th>\n      <th>9</th>\n      <th>10</th>\n      <th>...</th>\n      <th>663</th>\n      <th>664</th>\n      <th>665</th>\n      <th>666</th>\n      <th>667</th>\n      <th>668</th>\n      <th>669</th>\n      <th>670</th>\n      <th>671</th>\n      <th>Counts</th>\n    </tr>\n    <tr>\n      <th>labels</th>\n      <th></th>\n      <th></th>\n      <th></th>\n      <th></th>\n      <th></th>\n      <th></th>\n      <th></th>\n      <th></th>\n      <th></th>\n      <th></th>\n      <th></th>\n      <th></th>\n      <th></th>\n      <th></th>\n      <th></th>\n      <th></th>\n      <th></th>\n      <th></th>\n      <th></th>\n      <th></th>\n      <th></th>\n    </tr>\n  </thead>\n  <tbody>\n    <tr>\n      <th>0</th>\n      <td>0.00000</td>\n      <td>0.248227</td>\n      <td>0.046099</td>\n      <td>0.730496</td>\n      <td>0.166667</td>\n      <td>0.177305</td>\n      <td>0.226950</td>\n      <td>0.035461</td>\n      <td>0.205674</td>\n      <td>0.177305</td>\n      <td>...</td>\n      <td>0.000000</td>\n      <td>0.095745</td>\n      <td>0.588652</td>\n      <td>0.056738</td>\n      <td>0.390071</td>\n      <td>0.028369</td>\n      <td>0.085106</td>\n      <td>0.042553</td>\n      <td>0.276596</td>\n      <td>141</td>\n    </tr>\n    <tr>\n      <th>1</th>\n      <td>0.00000</td>\n      <td>0.015152</td>\n      <td>0.409091</td>\n      <td>1.106061</td>\n      <td>0.818182</td>\n      <td>0.515152</td>\n      <td>0.166667</td>\n      <td>1.227273</td>\n      <td>0.303030</td>\n      <td>0.121212</td>\n      <td>...</td>\n      <td>0.000000</td>\n      <td>2.568182</td>\n      <td>1.469697</td>\n      <td>0.075758</td>\n      <td>0.090909</td>\n      <td>0.196970</td>\n      <td>0.136364</td>\n      <td>0.151515</td>\n      <td>1.484848</td>\n      <td>66</td>\n    </tr>\n    <tr>\n      <th>2</th>\n      <td>0.04023</td>\n      <td>0.166667</td>\n      <td>0.051724</td>\n      <td>0.502874</td>\n      <td>0.239943</td>\n      <td>0.087644</td>\n      <td>0.158046</td>\n      <td>0.146552</td>\n      <td>0.066092</td>\n      <td>0.066092</td>\n      <td>...</td>\n      <td>0.000000</td>\n      <td>0.689655</td>\n      <td>0.729885</td>\n      <td>0.040230</td>\n      <td>0.152299</td>\n      <td>0.008621</td>\n      <td>0.037356</td>\n      <td>0.025862</td>\n      <td>0.044540</td>\n      <td>348</td>\n    </tr>\n    <tr>\n      <th>3</th>\n      <td>0.00000</td>\n      <td>2.305556</td>\n      <td>0.402778</td>\n      <td>1.333333</td>\n      <td>1.222222</td>\n      <td>0.000000</td>\n      <td>1.305556</td>\n      <td>0.236111</td>\n      <td>0.000000</td>\n      <td>0.166667</td>\n      <td>...</td>\n      <td>0.097222</td>\n      <td>1.250000</td>\n      <td>2.055556</td>\n      <td>1.694444</td>\n      <td>1.750000</td>\n      <td>0.000000</td>\n      <td>0.083333</td>\n      <td>0.305556</td>\n      <td>0.333333</td>\n      <td>36</td>\n    </tr>\n    <tr>\n      <th>4</th>\n      <td>0.00000</td>\n      <td>1.375000</td>\n      <td>2.437500</td>\n      <td>1.875000</td>\n      <td>0.312500</td>\n      <td>0.000000</td>\n      <td>1.250000</td>\n      <td>3.875000</td>\n      <td>2.750000</td>\n      <td>0.500000</td>\n      <td>...</td>\n      <td>0.500000</td>\n      <td>3.375000</td>\n      <td>3.250000</td>\n      <td>1.375000</td>\n      <td>1.250000</td>\n      <td>2.375000</td>\n      <td>0.625000</td>\n      <td>2.500000</td>\n      <td>2.750000</td>\n      <td>8</td>\n    </tr>\n  </tbody>\n</table>\n<p>5 rows × 672 columns</p>\n</div>"
     },
     "execution_count": 31,
     "metadata": {},
     "output_type": "execute_result"
    }
   ],
   "source": [
    "import pandas as pd\n",
    "#Grouping passengers by Cluster\n",
    "df_cluster = df.groupby(['labels']).mean()\n",
    "#Count of passengers in each cluster\n",
    "df_cluster['Counts'] = pd.Series(df.groupby(['labels']).size())\n",
    "df_cluster"
   ],
   "metadata": {
    "collapsed": false,
    "pycharm": {
     "name": "#%%\n"
    }
   }
  },
  {
   "cell_type": "markdown",
   "source": [
    "#### Result\n",
    "The result of our modelling"
   ],
   "metadata": {
    "collapsed": false,
    "pycharm": {
     "name": "#%% md\n"
    }
   }
  },
  {
   "cell_type": "code",
   "execution_count": 32,
   "outputs": [
    {
     "data": {
      "text/plain": "['American Pie',\n 'Madame Bovary',\n 'Rocky V',\n 'Rocky IV',\n 'Seven Blood-Stained Orchids']"
     },
     "execution_count": 32,
     "metadata": {},
     "output_type": "execute_result"
    }
   ],
   "source": [
    "# get 5 recommendations for the movie \"Harry Potter and the Goblet of Fire\"\n",
    "recommends = cr.recommend_movies(movie_index, recommends_size)\n",
    "recommends"
   ],
   "metadata": {
    "collapsed": false,
    "pycharm": {
     "name": "#%%\n"
    }
   }
  }
 ],
 "metadata": {
  "kernelspec": {
   "display_name": "Python 3",
   "language": "python",
   "name": "python3"
  },
  "language_info": {
   "codemirror_mode": {
    "name": "ipython",
    "version": 2
   },
   "file_extension": ".py",
   "mimetype": "text/x-python",
   "name": "python",
   "nbconvert_exporter": "python",
   "pygments_lexer": "ipython2",
   "version": "2.7.6"
  }
 },
 "nbformat": 4,
 "nbformat_minor": 0
}