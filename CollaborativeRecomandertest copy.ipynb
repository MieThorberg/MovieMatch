{
 "cells": [
  {
   "cell_type": "code",
   "execution_count": 423,
   "metadata": {
    "pycharm": {
     "name": "#%%\n"
    }
   },
   "outputs": [],
   "source": [
    "import pandas as pd\n",
    "import numpy as np"
   ]
  },
  {
   "cell_type": "code",
   "execution_count": 424,
   "metadata": {
    "pycharm": {
     "name": "#%%\n"
    }
   },
   "outputs": [],
   "source": [
    "# reading movie data and user rating data\n",
    "movies_df = pd.read_csv('data/movies_metadata.csv',usecols=['id','title'])\n",
    "\n",
    "rating_df = pd.read_csv('data/ratings_small.csv',usecols=['userId', 'movieId', 'rating'],\n",
    "dtype={'userId': 'int32', 'movieId': 'int32', 'rating': 'float32'})"
   ]
  },
  {
   "cell_type": "code",
   "execution_count": 425,
   "outputs": [],
   "source": [
    "# reading movie data and user rating data\n",
    "movies_df = pd.read_csv('data/movies_metadata.csv',usecols=['id','title'])\n",
    "\n",
    "rating_df = pd.read_csv('data/ratings_small.csv',usecols=['userId', 'movieId', 'rating'],\n",
    "dtype={'userId': 'int32', 'movieId': 'int32', 'rating': 'float32'})"
   ],
   "metadata": {
    "collapsed": false,
    "pycharm": {
     "name": "#%%\n"
    }
   }
  },
  {
   "cell_type": "code",
   "execution_count": 426,
   "outputs": [
    {
     "data": {
      "text/plain": "       movieId                        title\n0          862                    Toy Story\n1         8844                      Jumanji\n2        15602             Grumpier Old Men\n3        31357            Waiting to Exhale\n4        11862  Father of the Bride Part II\n...        ...                          ...\n45461   439050                       Subdue\n45462   111109          Century of Birthing\n45463    67758                     Betrayal\n45464   227506             Satan Triumphant\n45465   461257                     Queerama\n\n[45460 rows x 2 columns]",
      "text/html": "<div>\n<style scoped>\n    .dataframe tbody tr th:only-of-type {\n        vertical-align: middle;\n    }\n\n    .dataframe tbody tr th {\n        vertical-align: top;\n    }\n\n    .dataframe thead th {\n        text-align: right;\n    }\n</style>\n<table border=\"1\" class=\"dataframe\">\n  <thead>\n    <tr style=\"text-align: right;\">\n      <th></th>\n      <th>movieId</th>\n      <th>title</th>\n    </tr>\n  </thead>\n  <tbody>\n    <tr>\n      <th>0</th>\n      <td>862</td>\n      <td>Toy Story</td>\n    </tr>\n    <tr>\n      <th>1</th>\n      <td>8844</td>\n      <td>Jumanji</td>\n    </tr>\n    <tr>\n      <th>2</th>\n      <td>15602</td>\n      <td>Grumpier Old Men</td>\n    </tr>\n    <tr>\n      <th>3</th>\n      <td>31357</td>\n      <td>Waiting to Exhale</td>\n    </tr>\n    <tr>\n      <th>4</th>\n      <td>11862</td>\n      <td>Father of the Bride Part II</td>\n    </tr>\n    <tr>\n      <th>...</th>\n      <td>...</td>\n      <td>...</td>\n    </tr>\n    <tr>\n      <th>45461</th>\n      <td>439050</td>\n      <td>Subdue</td>\n    </tr>\n    <tr>\n      <th>45462</th>\n      <td>111109</td>\n      <td>Century of Birthing</td>\n    </tr>\n    <tr>\n      <th>45463</th>\n      <td>67758</td>\n      <td>Betrayal</td>\n    </tr>\n    <tr>\n      <th>45464</th>\n      <td>227506</td>\n      <td>Satan Triumphant</td>\n    </tr>\n    <tr>\n      <th>45465</th>\n      <td>461257</td>\n      <td>Queerama</td>\n    </tr>\n  </tbody>\n</table>\n<p>45460 rows × 2 columns</p>\n</div>"
     },
     "execution_count": 426,
     "metadata": {},
     "output_type": "execute_result"
    }
   ],
   "source": [
    "# drops Nan values\n",
    "movies_df.dropna(inplace=True)\n",
    "\n",
    "# defines Dtype of id\n",
    "movies_df[\"id\"] = movies_df['id'].astype(pd.Int64Dtype())\n",
    "\n",
    "# renames id to movieId for later merge\n",
    "movies_df = movies_df.rename(columns={'id' : 'movieId'})\n",
    "\n",
    "movies_df"
   ],
   "metadata": {
    "collapsed": false,
    "pycharm": {
     "name": "#%%\n"
    }
   }
  },
  {
   "cell_type": "code",
   "execution_count": 427,
   "outputs": [
    {
     "data": {
      "text/plain": "   userId  movieId  rating\n0       1       31   2.500\n1       1     1029   3.000\n2       1     1061   3.000\n3       1     1129   2.000\n4       1     1172   4.000",
      "text/html": "<div>\n<style scoped>\n    .dataframe tbody tr th:only-of-type {\n        vertical-align: middle;\n    }\n\n    .dataframe tbody tr th {\n        vertical-align: top;\n    }\n\n    .dataframe thead th {\n        text-align: right;\n    }\n</style>\n<table border=\"1\" class=\"dataframe\">\n  <thead>\n    <tr style=\"text-align: right;\">\n      <th></th>\n      <th>userId</th>\n      <th>movieId</th>\n      <th>rating</th>\n    </tr>\n  </thead>\n  <tbody>\n    <tr>\n      <th>0</th>\n      <td>1</td>\n      <td>31</td>\n      <td>2.500</td>\n    </tr>\n    <tr>\n      <th>1</th>\n      <td>1</td>\n      <td>1029</td>\n      <td>3.000</td>\n    </tr>\n    <tr>\n      <th>2</th>\n      <td>1</td>\n      <td>1061</td>\n      <td>3.000</td>\n    </tr>\n    <tr>\n      <th>3</th>\n      <td>1</td>\n      <td>1129</td>\n      <td>2.000</td>\n    </tr>\n    <tr>\n      <th>4</th>\n      <td>1</td>\n      <td>1172</td>\n      <td>4.000</td>\n    </tr>\n  </tbody>\n</table>\n</div>"
     },
     "execution_count": 427,
     "metadata": {},
     "output_type": "execute_result"
    }
   ],
   "source": [
    "rating_df.head()"
   ],
   "metadata": {
    "collapsed": false,
    "pycharm": {
     "name": "#%%\n"
    }
   }
  },
  {
   "cell_type": "code",
   "execution_count": 428,
   "outputs": [
    {
     "data": {
      "text/plain": "   userId  movieId  rating      title\n0       1     1371   2.500  Rocky III\n1       4     1371   4.000  Rocky III\n2       7     1371   3.000  Rocky III\n3      19     1371   4.000  Rocky III\n4      21     1371   3.000  Rocky III",
      "text/html": "<div>\n<style scoped>\n    .dataframe tbody tr th:only-of-type {\n        vertical-align: middle;\n    }\n\n    .dataframe tbody tr th {\n        vertical-align: top;\n    }\n\n    .dataframe thead th {\n        text-align: right;\n    }\n</style>\n<table border=\"1\" class=\"dataframe\">\n  <thead>\n    <tr style=\"text-align: right;\">\n      <th></th>\n      <th>userId</th>\n      <th>movieId</th>\n      <th>rating</th>\n      <th>title</th>\n    </tr>\n  </thead>\n  <tbody>\n    <tr>\n      <th>0</th>\n      <td>1</td>\n      <td>1371</td>\n      <td>2.500</td>\n      <td>Rocky III</td>\n    </tr>\n    <tr>\n      <th>1</th>\n      <td>4</td>\n      <td>1371</td>\n      <td>4.000</td>\n      <td>Rocky III</td>\n    </tr>\n    <tr>\n      <th>2</th>\n      <td>7</td>\n      <td>1371</td>\n      <td>3.000</td>\n      <td>Rocky III</td>\n    </tr>\n    <tr>\n      <th>3</th>\n      <td>19</td>\n      <td>1371</td>\n      <td>4.000</td>\n      <td>Rocky III</td>\n    </tr>\n    <tr>\n      <th>4</th>\n      <td>21</td>\n      <td>1371</td>\n      <td>3.000</td>\n      <td>Rocky III</td>\n    </tr>\n  </tbody>\n</table>\n</div>"
     },
     "execution_count": 428,
     "metadata": {},
     "output_type": "execute_result"
    }
   ],
   "source": [
    "# merges the to dataframes\n",
    "df = pd.merge(rating_df,movies_df,on='movieId')\n",
    "df.head()"
   ],
   "metadata": {
    "collapsed": false,
    "pycharm": {
     "name": "#%%\n"
    }
   }
  },
  {
   "cell_type": "code",
   "execution_count": 429,
   "outputs": [
    {
     "data": {
      "text/plain": "                                  title  totalRatingCount\n0                 !Women Art Revolution                 2\n1                           'Gator Bait                 1\n2      'Twas the Night Before Christmas                 2\n3              ...And God Created Woman                 1\n4  00 Schneider - Jagd auf Nihil Baxter                 2",
      "text/html": "<div>\n<style scoped>\n    .dataframe tbody tr th:only-of-type {\n        vertical-align: middle;\n    }\n\n    .dataframe tbody tr th {\n        vertical-align: top;\n    }\n\n    .dataframe thead th {\n        text-align: right;\n    }\n</style>\n<table border=\"1\" class=\"dataframe\">\n  <thead>\n    <tr style=\"text-align: right;\">\n      <th></th>\n      <th>title</th>\n      <th>totalRatingCount</th>\n    </tr>\n  </thead>\n  <tbody>\n    <tr>\n      <th>0</th>\n      <td>!Women Art Revolution</td>\n      <td>2</td>\n    </tr>\n    <tr>\n      <th>1</th>\n      <td>'Gator Bait</td>\n      <td>1</td>\n    </tr>\n    <tr>\n      <th>2</th>\n      <td>'Twas the Night Before Christmas</td>\n      <td>2</td>\n    </tr>\n    <tr>\n      <th>3</th>\n      <td>...And God Created Woman</td>\n      <td>1</td>\n    </tr>\n    <tr>\n      <th>4</th>\n      <td>00 Schneider - Jagd auf Nihil Baxter</td>\n      <td>2</td>\n    </tr>\n  </tbody>\n</table>\n</div>"
     },
     "execution_count": 429,
     "metadata": {},
     "output_type": "execute_result"
    }
   ],
   "source": [
    "#combine_movie_rating = df.dropna(axis = 0, subset = ['title'])\n",
    "\n",
    "# groups all of same title, counts all the ratings and remanes ratings to totalRatingCount\n",
    "movie_ratingCount = (df.\n",
    "     groupby(by = ['title'])['rating'].\n",
    "     count().\n",
    "     reset_index().\n",
    "     rename(columns = {'rating': 'totalRatingCount'})\n",
    "     [['title', 'totalRatingCount']]\n",
    "    )\n",
    "movie_ratingCount.head()"
   ],
   "metadata": {
    "collapsed": false,
    "pycharm": {
     "name": "#%%\n"
    }
   }
  },
  {
   "cell_type": "code",
   "execution_count": 430,
   "outputs": [
    {
     "data": {
      "text/plain": "   userId  movieId  rating      title  totalRatingCount\n0       1     1371   2.500  Rocky III                47\n1       4     1371   4.000  Rocky III                47\n2       7     1371   3.000  Rocky III                47\n3      19     1371   4.000  Rocky III                47\n4      21     1371   3.000  Rocky III                47",
      "text/html": "<div>\n<style scoped>\n    .dataframe tbody tr th:only-of-type {\n        vertical-align: middle;\n    }\n\n    .dataframe tbody tr th {\n        vertical-align: top;\n    }\n\n    .dataframe thead th {\n        text-align: right;\n    }\n</style>\n<table border=\"1\" class=\"dataframe\">\n  <thead>\n    <tr style=\"text-align: right;\">\n      <th></th>\n      <th>userId</th>\n      <th>movieId</th>\n      <th>rating</th>\n      <th>title</th>\n      <th>totalRatingCount</th>\n    </tr>\n  </thead>\n  <tbody>\n    <tr>\n      <th>0</th>\n      <td>1</td>\n      <td>1371</td>\n      <td>2.500</td>\n      <td>Rocky III</td>\n      <td>47</td>\n    </tr>\n    <tr>\n      <th>1</th>\n      <td>4</td>\n      <td>1371</td>\n      <td>4.000</td>\n      <td>Rocky III</td>\n      <td>47</td>\n    </tr>\n    <tr>\n      <th>2</th>\n      <td>7</td>\n      <td>1371</td>\n      <td>3.000</td>\n      <td>Rocky III</td>\n      <td>47</td>\n    </tr>\n    <tr>\n      <th>3</th>\n      <td>19</td>\n      <td>1371</td>\n      <td>4.000</td>\n      <td>Rocky III</td>\n      <td>47</td>\n    </tr>\n    <tr>\n      <th>4</th>\n      <td>21</td>\n      <td>1371</td>\n      <td>3.000</td>\n      <td>Rocky III</td>\n      <td>47</td>\n    </tr>\n  </tbody>\n</table>\n</div>"
     },
     "execution_count": 430,
     "metadata": {},
     "output_type": "execute_result"
    }
   ],
   "source": [
    "# merges the totalRatingCount on title\n",
    "rating_with_totalRatingCount = df.merge(movie_ratingCount, left_on = 'title', right_on = 'title', how = 'left')\n",
    "rating_with_totalRatingCount.head()"
   ],
   "metadata": {
    "collapsed": false,
    "pycharm": {
     "name": "#%%\n"
    }
   }
  },
  {
   "cell_type": "code",
   "execution_count": 431,
   "outputs": [
    {
     "name": "stdout",
     "output_type": "stream",
     "text": [
      "count   2794.000\n",
      "mean      16.104\n",
      "std       31.481\n",
      "min        1.000\n",
      "25%        1.000\n",
      "50%        4.000\n",
      "75%       15.750\n",
      "max      324.000\n",
      "Name: totalRatingCount, dtype: float64\n"
     ]
    }
   ],
   "source": [
    "pd.set_option('display.float_format', lambda x: '%.3f' % x)\n",
    "print(movie_ratingCount['totalRatingCount'].describe())"
   ],
   "metadata": {
    "collapsed": false,
    "pycharm": {
     "name": "#%%\n"
    }
   }
  },
  {
   "cell_type": "code",
   "execution_count": 432,
   "outputs": [
    {
     "data": {
      "text/plain": "         userId    movieId    rating  totalRatingCount\ncount 39675.000  39675.000 39675.000         39675.000\nmean    342.765   4412.588     3.600            87.416\nstd     194.922  12398.346     1.037            72.640\nmin       1.000      2.000     0.500            10.000\n25%     174.000    468.000     3.000            31.000\n50%     355.000   1269.000     4.000            64.000\n75%     517.000   2454.000     4.000           120.000\nmax     671.000 111759.000     5.000           324.000",
      "text/html": "<div>\n<style scoped>\n    .dataframe tbody tr th:only-of-type {\n        vertical-align: middle;\n    }\n\n    .dataframe tbody tr th {\n        vertical-align: top;\n    }\n\n    .dataframe thead th {\n        text-align: right;\n    }\n</style>\n<table border=\"1\" class=\"dataframe\">\n  <thead>\n    <tr style=\"text-align: right;\">\n      <th></th>\n      <th>userId</th>\n      <th>movieId</th>\n      <th>rating</th>\n      <th>totalRatingCount</th>\n    </tr>\n  </thead>\n  <tbody>\n    <tr>\n      <th>count</th>\n      <td>39675.000</td>\n      <td>39675.000</td>\n      <td>39675.000</td>\n      <td>39675.000</td>\n    </tr>\n    <tr>\n      <th>mean</th>\n      <td>342.765</td>\n      <td>4412.588</td>\n      <td>3.600</td>\n      <td>87.416</td>\n    </tr>\n    <tr>\n      <th>std</th>\n      <td>194.922</td>\n      <td>12398.346</td>\n      <td>1.037</td>\n      <td>72.640</td>\n    </tr>\n    <tr>\n      <th>min</th>\n      <td>1.000</td>\n      <td>2.000</td>\n      <td>0.500</td>\n      <td>10.000</td>\n    </tr>\n    <tr>\n      <th>25%</th>\n      <td>174.000</td>\n      <td>468.000</td>\n      <td>3.000</td>\n      <td>31.000</td>\n    </tr>\n    <tr>\n      <th>50%</th>\n      <td>355.000</td>\n      <td>1269.000</td>\n      <td>4.000</td>\n      <td>64.000</td>\n    </tr>\n    <tr>\n      <th>75%</th>\n      <td>517.000</td>\n      <td>2454.000</td>\n      <td>4.000</td>\n      <td>120.000</td>\n    </tr>\n    <tr>\n      <th>max</th>\n      <td>671.000</td>\n      <td>111759.000</td>\n      <td>5.000</td>\n      <td>324.000</td>\n    </tr>\n  </tbody>\n</table>\n</div>"
     },
     "execution_count": 432,
     "metadata": {},
     "output_type": "execute_result"
    }
   ],
   "source": [
    "# removes all movies with less then 50 ppl rating them.\n",
    "popularity_threshold = 10\n",
    "rating_popular_movie= rating_with_totalRatingCount.query('totalRatingCount >= @popularity_threshold')\n",
    "rating_popular_movie.describe()"
   ],
   "metadata": {
    "collapsed": false,
    "pycharm": {
     "name": "#%%\n"
    }
   }
  },
  {
   "cell_type": "code",
   "execution_count": 433,
   "outputs": [
    {
     "data": {
      "text/plain": "userId                         1     2     3     4     5     6     7     8    \\\ntitle                                                                          \n10 Items or Less             0.000 0.000 0.000 0.000 0.000 0.000 0.000 0.000   \n2 Days in Paris              0.000 0.000 0.000 0.000 0.000 0.000 0.000 0.000   \n20,000 Leagues Under the Sea 0.000 0.000 0.000 3.000 0.000 2.000 0.000 0.000   \n2001: A Space Odyssey        0.000 3.000 0.000 0.000 0.000 0.000 0.000 0.000   \n24 Hour Party People         0.000 0.000 0.000 0.000 0.000 0.000 0.000 0.000   \n\nuserId                         9     10   ...   662   663   664   665   666  \\\ntitle                                     ...                                 \n10 Items or Less             0.000 0.000  ... 0.000 0.000 0.000 0.000 0.000   \n2 Days in Paris              0.000 0.000  ... 0.000 0.000 0.000 0.000 0.000   \n20,000 Leagues Under the Sea 0.000 0.000  ... 0.000 0.000 0.000 0.000 0.000   \n2001: A Space Odyssey        0.000 0.000  ... 0.000 0.000 0.000 3.000 0.000   \n24 Hour Party People         0.000 0.000  ... 0.000 0.000 0.000 3.000 0.000   \n\nuserId                         667   668   669   670   671  \ntitle                                                       \n10 Items or Less             0.000 0.000 0.000 0.000 0.000  \n2 Days in Paris              0.000 0.000 0.000 0.000 0.000  \n20,000 Leagues Under the Sea 0.000 0.000 0.000 0.000 0.000  \n2001: A Space Odyssey        0.000 0.000 0.000 0.000 0.000  \n24 Hour Party People         0.000 0.000 0.000 0.000 0.000  \n\n[5 rows x 671 columns]",
      "text/html": "<div>\n<style scoped>\n    .dataframe tbody tr th:only-of-type {\n        vertical-align: middle;\n    }\n\n    .dataframe tbody tr th {\n        vertical-align: top;\n    }\n\n    .dataframe thead th {\n        text-align: right;\n    }\n</style>\n<table border=\"1\" class=\"dataframe\">\n  <thead>\n    <tr style=\"text-align: right;\">\n      <th>userId</th>\n      <th>1</th>\n      <th>2</th>\n      <th>3</th>\n      <th>4</th>\n      <th>5</th>\n      <th>6</th>\n      <th>7</th>\n      <th>8</th>\n      <th>9</th>\n      <th>10</th>\n      <th>...</th>\n      <th>662</th>\n      <th>663</th>\n      <th>664</th>\n      <th>665</th>\n      <th>666</th>\n      <th>667</th>\n      <th>668</th>\n      <th>669</th>\n      <th>670</th>\n      <th>671</th>\n    </tr>\n    <tr>\n      <th>title</th>\n      <th></th>\n      <th></th>\n      <th></th>\n      <th></th>\n      <th></th>\n      <th></th>\n      <th></th>\n      <th></th>\n      <th></th>\n      <th></th>\n      <th></th>\n      <th></th>\n      <th></th>\n      <th></th>\n      <th></th>\n      <th></th>\n      <th></th>\n      <th></th>\n      <th></th>\n      <th></th>\n      <th></th>\n    </tr>\n  </thead>\n  <tbody>\n    <tr>\n      <th>10 Items or Less</th>\n      <td>0.000</td>\n      <td>0.000</td>\n      <td>0.000</td>\n      <td>0.000</td>\n      <td>0.000</td>\n      <td>0.000</td>\n      <td>0.000</td>\n      <td>0.000</td>\n      <td>0.000</td>\n      <td>0.000</td>\n      <td>...</td>\n      <td>0.000</td>\n      <td>0.000</td>\n      <td>0.000</td>\n      <td>0.000</td>\n      <td>0.000</td>\n      <td>0.000</td>\n      <td>0.000</td>\n      <td>0.000</td>\n      <td>0.000</td>\n      <td>0.000</td>\n    </tr>\n    <tr>\n      <th>2 Days in Paris</th>\n      <td>0.000</td>\n      <td>0.000</td>\n      <td>0.000</td>\n      <td>0.000</td>\n      <td>0.000</td>\n      <td>0.000</td>\n      <td>0.000</td>\n      <td>0.000</td>\n      <td>0.000</td>\n      <td>0.000</td>\n      <td>...</td>\n      <td>0.000</td>\n      <td>0.000</td>\n      <td>0.000</td>\n      <td>0.000</td>\n      <td>0.000</td>\n      <td>0.000</td>\n      <td>0.000</td>\n      <td>0.000</td>\n      <td>0.000</td>\n      <td>0.000</td>\n    </tr>\n    <tr>\n      <th>20,000 Leagues Under the Sea</th>\n      <td>0.000</td>\n      <td>0.000</td>\n      <td>0.000</td>\n      <td>3.000</td>\n      <td>0.000</td>\n      <td>2.000</td>\n      <td>0.000</td>\n      <td>0.000</td>\n      <td>0.000</td>\n      <td>0.000</td>\n      <td>...</td>\n      <td>0.000</td>\n      <td>0.000</td>\n      <td>0.000</td>\n      <td>0.000</td>\n      <td>0.000</td>\n      <td>0.000</td>\n      <td>0.000</td>\n      <td>0.000</td>\n      <td>0.000</td>\n      <td>0.000</td>\n    </tr>\n    <tr>\n      <th>2001: A Space Odyssey</th>\n      <td>0.000</td>\n      <td>3.000</td>\n      <td>0.000</td>\n      <td>0.000</td>\n      <td>0.000</td>\n      <td>0.000</td>\n      <td>0.000</td>\n      <td>0.000</td>\n      <td>0.000</td>\n      <td>0.000</td>\n      <td>...</td>\n      <td>0.000</td>\n      <td>0.000</td>\n      <td>0.000</td>\n      <td>3.000</td>\n      <td>0.000</td>\n      <td>0.000</td>\n      <td>0.000</td>\n      <td>0.000</td>\n      <td>0.000</td>\n      <td>0.000</td>\n    </tr>\n    <tr>\n      <th>24 Hour Party People</th>\n      <td>0.000</td>\n      <td>0.000</td>\n      <td>0.000</td>\n      <td>0.000</td>\n      <td>0.000</td>\n      <td>0.000</td>\n      <td>0.000</td>\n      <td>0.000</td>\n      <td>0.000</td>\n      <td>0.000</td>\n      <td>...</td>\n      <td>0.000</td>\n      <td>0.000</td>\n      <td>0.000</td>\n      <td>3.000</td>\n      <td>0.000</td>\n      <td>0.000</td>\n      <td>0.000</td>\n      <td>0.000</td>\n      <td>0.000</td>\n      <td>0.000</td>\n    </tr>\n  </tbody>\n</table>\n<p>5 rows × 671 columns</p>\n</div>"
     },
     "execution_count": 433,
     "metadata": {},
     "output_type": "execute_result"
    }
   ],
   "source": [
    "# puts all movie and user in a metrix with ratings\n",
    "movie_features_df=rating_popular_movie.pivot_table(index='title',columns='userId',values='rating').fillna(0)\n",
    "# movie_features_df=rating_popular_movie.pivot_table(index='userId',columns='title',values='rating').fillna(0)\n",
    "movie_features_df.head()"
   ],
   "metadata": {
    "collapsed": false,
    "pycharm": {
     "name": "#%%\n"
    }
   }
  },
  {
   "cell_type": "code",
   "execution_count": 434,
   "outputs": [
    {
     "data": {
      "text/plain": "(945, 671)"
     },
     "execution_count": 434,
     "metadata": {},
     "output_type": "execute_result"
    }
   ],
   "source": [
    "movie_features_df.shape"
   ],
   "metadata": {
    "collapsed": false,
    "pycharm": {
     "name": "#%%\n"
    }
   }
  },
  {
   "cell_type": "code",
   "execution_count": 435,
   "outputs": [],
   "source": [
    "# from scipy.sparse import csr_matrix\n",
    "\n",
    "# movie_features_df_matrix = csr_matrix(movie_features_df.values)\n",
    "\n",
    "# type(movie_features_df_matrix)"
   ],
   "metadata": {
    "collapsed": false,
    "pycharm": {
     "name": "#%%\n"
    }
   }
  },
  {
   "cell_type": "code",
   "execution_count": 435,
   "outputs": [],
   "source": [],
   "metadata": {
    "collapsed": false,
    "pycharm": {
     "name": "#%%\n"
    }
   }
  },
  {
   "cell_type": "code",
   "execution_count": 436,
   "outputs": [
    {
     "data": {
      "text/plain": "NearestNeighbors(algorithm='brute', metric='cosine')",
      "text/html": "<style>#sk-container-id-27 {color: black;background-color: white;}#sk-container-id-27 pre{padding: 0;}#sk-container-id-27 div.sk-toggleable {background-color: white;}#sk-container-id-27 label.sk-toggleable__label {cursor: pointer;display: block;width: 100%;margin-bottom: 0;padding: 0.3em;box-sizing: border-box;text-align: center;}#sk-container-id-27 label.sk-toggleable__label-arrow:before {content: \"▸\";float: left;margin-right: 0.25em;color: #696969;}#sk-container-id-27 label.sk-toggleable__label-arrow:hover:before {color: black;}#sk-container-id-27 div.sk-estimator:hover label.sk-toggleable__label-arrow:before {color: black;}#sk-container-id-27 div.sk-toggleable__content {max-height: 0;max-width: 0;overflow: hidden;text-align: left;background-color: #f0f8ff;}#sk-container-id-27 div.sk-toggleable__content pre {margin: 0.2em;color: black;border-radius: 0.25em;background-color: #f0f8ff;}#sk-container-id-27 input.sk-toggleable__control:checked~div.sk-toggleable__content {max-height: 200px;max-width: 100%;overflow: auto;}#sk-container-id-27 input.sk-toggleable__control:checked~label.sk-toggleable__label-arrow:before {content: \"▾\";}#sk-container-id-27 div.sk-estimator input.sk-toggleable__control:checked~label.sk-toggleable__label {background-color: #d4ebff;}#sk-container-id-27 div.sk-label input.sk-toggleable__control:checked~label.sk-toggleable__label {background-color: #d4ebff;}#sk-container-id-27 input.sk-hidden--visually {border: 0;clip: rect(1px 1px 1px 1px);clip: rect(1px, 1px, 1px, 1px);height: 1px;margin: -1px;overflow: hidden;padding: 0;position: absolute;width: 1px;}#sk-container-id-27 div.sk-estimator {font-family: monospace;background-color: #f0f8ff;border: 1px dotted black;border-radius: 0.25em;box-sizing: border-box;margin-bottom: 0.5em;}#sk-container-id-27 div.sk-estimator:hover {background-color: #d4ebff;}#sk-container-id-27 div.sk-parallel-item::after {content: \"\";width: 100%;border-bottom: 1px solid gray;flex-grow: 1;}#sk-container-id-27 div.sk-label:hover label.sk-toggleable__label {background-color: #d4ebff;}#sk-container-id-27 div.sk-serial::before {content: \"\";position: absolute;border-left: 1px solid gray;box-sizing: border-box;top: 0;bottom: 0;left: 50%;z-index: 0;}#sk-container-id-27 div.sk-serial {display: flex;flex-direction: column;align-items: center;background-color: white;padding-right: 0.2em;padding-left: 0.2em;position: relative;}#sk-container-id-27 div.sk-item {position: relative;z-index: 1;}#sk-container-id-27 div.sk-parallel {display: flex;align-items: stretch;justify-content: center;background-color: white;position: relative;}#sk-container-id-27 div.sk-item::before, #sk-container-id-27 div.sk-parallel-item::before {content: \"\";position: absolute;border-left: 1px solid gray;box-sizing: border-box;top: 0;bottom: 0;left: 50%;z-index: -1;}#sk-container-id-27 div.sk-parallel-item {display: flex;flex-direction: column;z-index: 1;position: relative;background-color: white;}#sk-container-id-27 div.sk-parallel-item:first-child::after {align-self: flex-end;width: 50%;}#sk-container-id-27 div.sk-parallel-item:last-child::after {align-self: flex-start;width: 50%;}#sk-container-id-27 div.sk-parallel-item:only-child::after {width: 0;}#sk-container-id-27 div.sk-dashed-wrapped {border: 1px dashed gray;margin: 0 0.4em 0.5em 0.4em;box-sizing: border-box;padding-bottom: 0.4em;background-color: white;}#sk-container-id-27 div.sk-label label {font-family: monospace;font-weight: bold;display: inline-block;line-height: 1.2em;}#sk-container-id-27 div.sk-label-container {text-align: center;}#sk-container-id-27 div.sk-container {/* jupyter's `normalize.less` sets `[hidden] { display: none; }` but bootstrap.min.css set `[hidden] { display: none !important; }` so we also need the `!important` here to be able to override the default hidden behavior on the sphinx rendered scikit-learn.org. See: https://github.com/scikit-learn/scikit-learn/issues/21755 */display: inline-block !important;position: relative;}#sk-container-id-27 div.sk-text-repr-fallback {display: none;}</style><div id=\"sk-container-id-27\" class=\"sk-top-container\"><div class=\"sk-text-repr-fallback\"><pre>NearestNeighbors(algorithm=&#x27;brute&#x27;, metric=&#x27;cosine&#x27;)</pre><b>In a Jupyter environment, please rerun this cell to show the HTML representation or trust the notebook. <br />On GitHub, the HTML representation is unable to render, please try loading this page with nbviewer.org.</b></div><div class=\"sk-container\" hidden><div class=\"sk-item\"><div class=\"sk-estimator sk-toggleable\"><input class=\"sk-toggleable__control sk-hidden--visually\" id=\"sk-estimator-id-27\" type=\"checkbox\" checked><label for=\"sk-estimator-id-27\" class=\"sk-toggleable__label sk-toggleable__label-arrow\">NearestNeighbors</label><div class=\"sk-toggleable__content\"><pre>NearestNeighbors(algorithm=&#x27;brute&#x27;, metric=&#x27;cosine&#x27;)</pre></div></div></div></div></div>"
     },
     "execution_count": 436,
     "metadata": {},
     "output_type": "execute_result"
    }
   ],
   "source": [
    "from sklearn.neighbors import NearestNeighbors\n",
    "\n",
    "model_knn = NearestNeighbors(metric = 'cosine', algorithm = 'brute')\n",
    "model_knn.fit(movie_features_df)"
   ],
   "metadata": {
    "collapsed": false,
    "pycharm": {
     "name": "#%%\n"
    }
   }
  },
  {
   "cell_type": "code",
   "execution_count": 437,
   "outputs": [],
   "source": [
    "from sklearn.cluster import KMeans\n",
    "import matplotlib.pyplot as plt"
   ],
   "metadata": {
    "collapsed": false,
    "pycharm": {
     "name": "#%%\n"
    }
   }
  },
  {
   "cell_type": "code",
   "execution_count": 438,
   "outputs": [],
   "source": [
    "def optimise_k_means(data, max_k):\n",
    "    means = [];\n",
    "    inertias = []\n",
    "\n",
    "    for k in range(1, max_k):\n",
    "        kmeans = KMeans(n_clusters = k)\n",
    "        kmeans.fit(data[[data.columns[1],data.columns[2]]])\n",
    "\n",
    "        means.append(k)\n",
    "        inertias.append(kmeans.inertia_)\n",
    "\n",
    "    fig = plt.subplots(figsize=(10,5))\n",
    "    plt.plot(means, inertias, 'o-')\n",
    "    plt.xlabel('Number of Clusters')\n",
    "    plt.ylabel('Inertia')\n",
    "    plt.grid(True)\n",
    "    plt.show()"
   ],
   "metadata": {
    "collapsed": false,
    "pycharm": {
     "name": "#%%\n"
    }
   }
  },
  {
   "cell_type": "code",
   "execution_count": 439,
   "outputs": [
    {
     "name": "stderr",
     "output_type": "stream",
     "text": [
      "C:\\Users\\miemt\\AppData\\Local\\Temp\\ipykernel_11984\\2992083874.py:7: ConvergenceWarning: Number of distinct clusters (18) found smaller than n_clusters (19). Possibly due to duplicate points in X.\n",
      "  kmeans.fit(data[[data.columns[1],data.columns[2]]])\n"
     ]
    },
    {
     "data": {
      "text/plain": "<Figure size 1000x500 with 1 Axes>",
      "image/png": "[encoded data removed]"
     },
     "metadata": {},
     "output_type": "display_data"
    }
   ],
   "source": [
    "optimise_k_means(movie_features_df,20)"
   ],
   "metadata": {
    "collapsed": false,
    "pycharm": {
     "name": "#%%\n"
    }
   }
  },
  {
   "cell_type": "code",
   "execution_count": 440,
   "outputs": [
    {
     "data": {
      "text/plain": "KMeans(n_clusters=5)",
      "text/html": "<style>#sk-container-id-28 {color: black;background-color: white;}#sk-container-id-28 pre{padding: 0;}#sk-container-id-28 div.sk-toggleable {background-color: white;}#sk-container-id-28 label.sk-toggleable__label {cursor: pointer;display: block;width: 100%;margin-bottom: 0;padding: 0.3em;box-sizing: border-box;text-align: center;}#sk-container-id-28 label.sk-toggleable__label-arrow:before {content: \"▸\";float: left;margin-right: 0.25em;color: #696969;}#sk-container-id-28 label.sk-toggleable__label-arrow:hover:before {color: black;}#sk-container-id-28 div.sk-estimator:hover label.sk-toggleable__label-arrow:before {color: black;}#sk-container-id-28 div.sk-toggleable__content {max-height: 0;max-width: 0;overflow: hidden;text-align: left;background-color: #f0f8ff;}#sk-container-id-28 div.sk-toggleable__content pre {margin: 0.2em;color: black;border-radius: 0.25em;background-color: #f0f8ff;}#sk-container-id-28 input.sk-toggleable__control:checked~div.sk-toggleable__content {max-height: 200px;max-width: 100%;overflow: auto;}#sk-container-id-28 input.sk-toggleable__control:checked~label.sk-toggleable__label-arrow:before {content: \"▾\";}#sk-container-id-28 div.sk-estimator input.sk-toggleable__control:checked~label.sk-toggleable__label {background-color: #d4ebff;}#sk-container-id-28 div.sk-label input.sk-toggleable__control:checked~label.sk-toggleable__label {background-color: #d4ebff;}#sk-container-id-28 input.sk-hidden--visually {border: 0;clip: rect(1px 1px 1px 1px);clip: rect(1px, 1px, 1px, 1px);height: 1px;margin: -1px;overflow: hidden;padding: 0;position: absolute;width: 1px;}#sk-container-id-28 div.sk-estimator {font-family: monospace;background-color: #f0f8ff;border: 1px dotted black;border-radius: 0.25em;box-sizing: border-box;margin-bottom: 0.5em;}#sk-container-id-28 div.sk-estimator:hover {background-color: #d4ebff;}#sk-container-id-28 div.sk-parallel-item::after {content: \"\";width: 100%;border-bottom: 1px solid gray;flex-grow: 1;}#sk-container-id-28 div.sk-label:hover label.sk-toggleable__label {background-color: #d4ebff;}#sk-container-id-28 div.sk-serial::before {content: \"\";position: absolute;border-left: 1px solid gray;box-sizing: border-box;top: 0;bottom: 0;left: 50%;z-index: 0;}#sk-container-id-28 div.sk-serial {display: flex;flex-direction: column;align-items: center;background-color: white;padding-right: 0.2em;padding-left: 0.2em;position: relative;}#sk-container-id-28 div.sk-item {position: relative;z-index: 1;}#sk-container-id-28 div.sk-parallel {display: flex;align-items: stretch;justify-content: center;background-color: white;position: relative;}#sk-container-id-28 div.sk-item::before, #sk-container-id-28 div.sk-parallel-item::before {content: \"\";position: absolute;border-left: 1px solid gray;box-sizing: border-box;top: 0;bottom: 0;left: 50%;z-index: -1;}#sk-container-id-28 div.sk-parallel-item {display: flex;flex-direction: column;z-index: 1;position: relative;background-color: white;}#sk-container-id-28 div.sk-parallel-item:first-child::after {align-self: flex-end;width: 50%;}#sk-container-id-28 div.sk-parallel-item:last-child::after {align-self: flex-start;width: 50%;}#sk-container-id-28 div.sk-parallel-item:only-child::after {width: 0;}#sk-container-id-28 div.sk-dashed-wrapped {border: 1px dashed gray;margin: 0 0.4em 0.5em 0.4em;box-sizing: border-box;padding-bottom: 0.4em;background-color: white;}#sk-container-id-28 div.sk-label label {font-family: monospace;font-weight: bold;display: inline-block;line-height: 1.2em;}#sk-container-id-28 div.sk-label-container {text-align: center;}#sk-container-id-28 div.sk-container {/* jupyter's `normalize.less` sets `[hidden] { display: none; }` but bootstrap.min.css set `[hidden] { display: none !important; }` so we also need the `!important` here to be able to override the default hidden behavior on the sphinx rendered scikit-learn.org. See: https://github.com/scikit-learn/scikit-learn/issues/21755 */display: inline-block !important;position: relative;}#sk-container-id-28 div.sk-text-repr-fallback {display: none;}</style><div id=\"sk-container-id-28\" class=\"sk-top-container\"><div class=\"sk-text-repr-fallback\"><pre>KMeans(n_clusters=5)</pre><b>In a Jupyter environment, please rerun this cell to show the HTML representation or trust the notebook. <br />On GitHub, the HTML representation is unable to render, please try loading this page with nbviewer.org.</b></div><div class=\"sk-container\" hidden><div class=\"sk-item\"><div class=\"sk-estimator sk-toggleable\"><input class=\"sk-toggleable__control sk-hidden--visually\" id=\"sk-estimator-id-28\" type=\"checkbox\" checked><label for=\"sk-estimator-id-28\" class=\"sk-toggleable__label sk-toggleable__label-arrow\">KMeans</label><div class=\"sk-toggleable__content\"><pre>KMeans(n_clusters=5)</pre></div></div></div></div></div>"
     },
     "execution_count": 440,
     "metadata": {},
     "output_type": "execute_result"
    }
   ],
   "source": [
    "kmeans = KMeans(n_clusters=5)\n",
    "kmeans.fit(movie_features_df)\n",
    "# movie_features_df['labels'] = kmeans.labels_"
   ],
   "metadata": {
    "collapsed": false,
    "pycharm": {
     "name": "#%%\n"
    }
   }
  },
  {
   "cell_type": "code",
   "execution_count": 441,
   "outputs": [],
   "source": [
    "#movie_features_df[movie_features_df['labels'] == 4].shape"
   ],
   "metadata": {
    "collapsed": false,
    "pycharm": {
     "name": "#%%\n"
    }
   }
  },
  {
   "cell_type": "code",
   "execution_count": 442,
   "outputs": [
    {
     "name": "stdout",
     "output_type": "stream",
     "text": [
      "440\n"
     ]
    }
   ],
   "source": [
    "# randomly picks a movie\n",
    "query_index = np.random.choice(movie_features_df.shape[0])\n",
    "print(query_index)\n",
    "#query_index = 1"
   ],
   "metadata": {
    "collapsed": false,
    "pycharm": {
     "name": "#%%\n"
    }
   }
  },
  {
   "cell_type": "code",
   "execution_count": 443,
   "outputs": [],
   "source": [
    "# from fuzzywuzzy import process\n",
    "# idx = process.extractOne(\"2 Days\", movie_features_df.index)\n",
    "\n",
    "# idx\n",
    "\n",
    "# movie_features_df."
   ],
   "metadata": {
    "collapsed": false,
    "pycharm": {
     "name": "#%%\n"
    }
   }
  },
  {
   "cell_type": "code",
   "execution_count": 444,
   "outputs": [],
   "source": [
    "# movie_features_df.head()\n",
    "# movie_features_df['labels'] = kmeans.labels_\n",
    "# movie_features_df.head()"
   ],
   "metadata": {
    "collapsed": false,
    "pycharm": {
     "name": "#%%\n"
    }
   }
  },
  {
   "cell_type": "code",
   "execution_count": 445,
   "outputs": [],
   "source": [
    "distances, indices = model_knn.kneighbors(movie_features_df.iloc[query_index,:].values.reshape(1, -1), n_neighbors = 6)"
   ],
   "metadata": {
    "collapsed": false,
    "pycharm": {
     "name": "#%%\n"
    }
   }
  },
  {
   "cell_type": "code",
   "execution_count": 446,
   "outputs": [
    {
     "data": {
      "text/plain": "array([[440, 129,  77, 646, 654,  59]], dtype=int64)"
     },
     "execution_count": 446,
     "metadata": {},
     "output_type": "execute_result"
    }
   ],
   "source": [
    "indices"
   ],
   "metadata": {
    "collapsed": false,
    "pycharm": {
     "name": "#%%\n"
    }
   }
  },
  {
   "cell_type": "code",
   "execution_count": 447,
   "outputs": [],
   "source": [
    "movie_features_df.head()\n",
    "movie_features_df['labels'] = kmeans.labels_"
   ],
   "metadata": {
    "collapsed": false,
    "pycharm": {
     "name": "#%%\n"
    }
   }
  },
  {
   "cell_type": "code",
   "execution_count": 448,
   "outputs": [
    {
     "name": "stdout",
     "output_type": "stream",
     "text": [
      "Recommendations for Married to the Mob , cluster 1:\n",
      "\n",
      "1: Blood: The Last Vampire, with distance of 0.4935920238494873: cluster 0\n",
      "2: Avalon, with distance of 0.5539913177490234: cluster 0\n",
      "3: Street Kings, with distance of 0.5562143921852112: cluster 1\n",
      "4: Superstar: The Karen Carpenter Story, with distance of 0.5620939135551453: cluster 0\n",
      "5: An Unfinished Life, with distance of 0.5627124309539795: cluster 1\n"
     ]
    }
   ],
   "source": [
    "\n",
    "\n",
    "for i in range(0, len(distances.flatten())):\n",
    "    \n",
    "    if i == 0:\n",
    "        print('Recommendations for {0} , cluster {1}:\\n'.format(movie_features_df.index[query_index], movie_features_df['labels'][[indices.flatten()[i]]].values[0]))\n",
    "    else:\n",
    "        print('{0}: {1}, with distance of {2}: cluster {3}'.\n",
    "        format(i, movie_features_df.index[indices.flatten()[i]], distances.flatten()[i],movie_features_df['labels'][[indices.flatten()[i]]].values[0]))"
   ],
   "metadata": {
    "collapsed": false,
    "pycharm": {
     "name": "#%%\n"
    }
   }
  },
  {
   "cell_type": "code",
   "execution_count": 448,
   "outputs": [],
   "source": [],
   "metadata": {
    "collapsed": false,
    "pycharm": {
     "name": "#%%\n"
    }
   }
  },
  {
   "cell_type": "code",
   "execution_count": 449,
   "outputs": [
    {
     "data": {
      "text/plain": "59"
     },
     "execution_count": 449,
     "metadata": {},
     "output_type": "execute_result"
    }
   ],
   "source": [
    "indices.flatten()[i]"
   ],
   "metadata": {
    "collapsed": false,
    "pycharm": {
     "name": "#%%\n"
    }
   }
  },
  {
   "cell_type": "code",
   "execution_count": 450,
   "outputs": [
    {
     "data": {
      "text/plain": "(14, 672)"
     },
     "execution_count": 450,
     "metadata": {},
     "output_type": "execute_result"
    }
   ],
   "source": [
    "movie_features_df[movie_features_df['labels'] == 3].shape\n",
    "\n"
   ],
   "metadata": {
    "collapsed": false,
    "pycharm": {
     "name": "#%%\n"
    }
   }
  },
  {
   "cell_type": "code",
   "execution_count": 451,
   "outputs": [
    {
     "data": {
      "text/plain": "userId               1     2     3     4     5     6     7     8     9    10  \\\ntitle                                                                          \n10 Items or Less 0.000 0.000 0.000 0.000 0.000 0.000 0.000 0.000 0.000 0.000   \n\nuserId            ...   663   664   665   666   667   668   669   670   671  \\\ntitle             ...                                                         \n10 Items or Less  ... 0.000 0.000 0.000 0.000 0.000 0.000 0.000 0.000 0.000   \n\nuserId            labels  \ntitle                     \n10 Items or Less       4  \n\n[1 rows x 672 columns]",
      "text/html": "<div>\n<style scoped>\n    .dataframe tbody tr th:only-of-type {\n        vertical-align: middle;\n    }\n\n    .dataframe tbody tr th {\n        vertical-align: top;\n    }\n\n    .dataframe thead th {\n        text-align: right;\n    }\n</style>\n<table border=\"1\" class=\"dataframe\">\n  <thead>\n    <tr style=\"text-align: right;\">\n      <th>userId</th>\n      <th>1</th>\n      <th>2</th>\n      <th>3</th>\n      <th>4</th>\n      <th>5</th>\n      <th>6</th>\n      <th>7</th>\n      <th>8</th>\n      <th>9</th>\n      <th>10</th>\n      <th>...</th>\n      <th>663</th>\n      <th>664</th>\n      <th>665</th>\n      <th>666</th>\n      <th>667</th>\n      <th>668</th>\n      <th>669</th>\n      <th>670</th>\n      <th>671</th>\n      <th>labels</th>\n    </tr>\n    <tr>\n      <th>title</th>\n      <th></th>\n      <th></th>\n      <th></th>\n      <th></th>\n      <th></th>\n      <th></th>\n      <th></th>\n      <th></th>\n      <th></th>\n      <th></th>\n      <th></th>\n      <th></th>\n      <th></th>\n      <th></th>\n      <th></th>\n      <th></th>\n      <th></th>\n      <th></th>\n      <th></th>\n      <th></th>\n      <th></th>\n    </tr>\n  </thead>\n  <tbody>\n    <tr>\n      <th>10 Items or Less</th>\n      <td>0.000</td>\n      <td>0.000</td>\n      <td>0.000</td>\n      <td>0.000</td>\n      <td>0.000</td>\n      <td>0.000</td>\n      <td>0.000</td>\n      <td>0.000</td>\n      <td>0.000</td>\n      <td>0.000</td>\n      <td>...</td>\n      <td>0.000</td>\n      <td>0.000</td>\n      <td>0.000</td>\n      <td>0.000</td>\n      <td>0.000</td>\n      <td>0.000</td>\n      <td>0.000</td>\n      <td>0.000</td>\n      <td>0.000</td>\n      <td>4</td>\n    </tr>\n  </tbody>\n</table>\n<p>1 rows × 672 columns</p>\n</div>"
     },
     "execution_count": 451,
     "metadata": {},
     "output_type": "execute_result"
    }
   ],
   "source": [
    "movie_features_df.head(1)"
   ],
   "metadata": {
    "collapsed": false,
    "pycharm": {
     "name": "#%%\n"
    }
   }
  },
  {
   "cell_type": "code",
   "execution_count": 452,
   "metadata": {
    "pycharm": {
     "name": "#%%\n"
    }
   },
   "outputs": [
    {
     "data": {
      "text/plain": "(35, 672)"
     },
     "execution_count": 452,
     "metadata": {},
     "output_type": "execute_result"
    }
   ],
   "source": [
    "movie_features_df[movie_features_df['labels'] == 2].shape\n",
    "\n"
   ]
  },
  {
   "cell_type": "code",
   "execution_count": 453,
   "metadata": {
    "pycharm": {
     "name": "#%%\n"
    }
   },
   "outputs": [
    {
     "data": {
      "text/plain": "userId               1     2     3     4     5     6     7     8     9    10  \\\ntitle                                                                          \n10 Items or Less 0.000 0.000 0.000 0.000 0.000 0.000 0.000 0.000 0.000 0.000   \n\nuserId            ...   663   664   665   666   667   668   669   670   671  \\\ntitle             ...                                                         \n10 Items or Less  ... 0.000 0.000 0.000 0.000 0.000 0.000 0.000 0.000 0.000   \n\nuserId            labels  \ntitle                     \n10 Items or Less       4  \n\n[1 rows x 672 columns]",
      "text/html": "<div>\n<style scoped>\n    .dataframe tbody tr th:only-of-type {\n        vertical-align: middle;\n    }\n\n    .dataframe tbody tr th {\n        vertical-align: top;\n    }\n\n    .dataframe thead th {\n        text-align: right;\n    }\n</style>\n<table border=\"1\" class=\"dataframe\">\n  <thead>\n    <tr style=\"text-align: right;\">\n      <th>userId</th>\n      <th>1</th>\n      <th>2</th>\n      <th>3</th>\n      <th>4</th>\n      <th>5</th>\n      <th>6</th>\n      <th>7</th>\n      <th>8</th>\n      <th>9</th>\n      <th>10</th>\n      <th>...</th>\n      <th>663</th>\n      <th>664</th>\n      <th>665</th>\n      <th>666</th>\n      <th>667</th>\n      <th>668</th>\n      <th>669</th>\n      <th>670</th>\n      <th>671</th>\n      <th>labels</th>\n    </tr>\n    <tr>\n      <th>title</th>\n      <th></th>\n      <th></th>\n      <th></th>\n      <th></th>\n      <th></th>\n      <th></th>\n      <th></th>\n      <th></th>\n      <th></th>\n      <th></th>\n      <th></th>\n      <th></th>\n      <th></th>\n      <th></th>\n      <th></th>\n      <th></th>\n      <th></th>\n      <th></th>\n      <th></th>\n      <th></th>\n      <th></th>\n    </tr>\n  </thead>\n  <tbody>\n    <tr>\n      <th>10 Items or Less</th>\n      <td>0.000</td>\n      <td>0.000</td>\n      <td>0.000</td>\n      <td>0.000</td>\n      <td>0.000</td>\n      <td>0.000</td>\n      <td>0.000</td>\n      <td>0.000</td>\n      <td>0.000</td>\n      <td>0.000</td>\n      <td>...</td>\n      <td>0.000</td>\n      <td>0.000</td>\n      <td>0.000</td>\n      <td>0.000</td>\n      <td>0.000</td>\n      <td>0.000</td>\n      <td>0.000</td>\n      <td>0.000</td>\n      <td>0.000</td>\n      <td>4</td>\n    </tr>\n  </tbody>\n</table>\n<p>1 rows × 672 columns</p>\n</div>"
     },
     "execution_count": 453,
     "metadata": {},
     "output_type": "execute_result"
    }
   ],
   "source": [
    "movie_features_df.head(1)"
   ]
  },
  {
   "cell_type": "code",
   "execution_count": 454,
   "outputs": [
    {
     "data": {
      "text/plain": "userId       1       2       3       4       5       6       7       8  \\\ncount  945.000 945.000 945.000 945.000 945.000 945.000 945.000 945.000   \nmean     0.015   0.216   0.094   0.477   0.220   0.099   0.164   0.187   \nstd      0.199   0.875   0.581   1.383   0.912   0.589   0.750   0.860   \nmin      0.000   0.000   0.000   0.000   0.000   0.000   0.000   0.000   \n25%      0.000   0.000   0.000   0.000   0.000   0.000   0.000   0.000   \n50%      0.000   0.000   0.000   0.000   0.000   0.000   0.000   0.000   \n75%      0.000   0.000   0.000   0.000   0.000   0.000   0.000   0.000   \nmax      4.000   5.000   5.000   5.000   5.000   5.000   5.000   5.000   \n\nuserId       9      10  ...     663     664     665     666     667     668  \\\ncount  945.000 945.000  ... 945.000 945.000 945.000 945.000 945.000 945.000   \nmean     0.102   0.075  ...   0.008   0.593   0.675   0.105   0.206   0.041   \nstd      0.633   0.550  ...   0.173   1.409   1.412   0.577   0.854   0.429   \nmin      0.000   0.000  ...   0.000   0.000   0.000   0.000   0.000   0.000   \n25%      0.000   0.000  ...   0.000   0.000   0.000   0.000   0.000   0.000   \n50%      0.000   0.000  ...   0.000   0.000   0.000   0.000   0.000   0.000   \n75%      0.000   0.000  ...   0.000   0.000   0.000   0.000   0.000   0.000   \nmax      5.000   5.000  ...   4.000   5.000   5.000   5.000   5.000   5.000   \n\nuserId     669     670     671  labels  \ncount  945.000 945.000 945.000 945.000  \nmean     0.044   0.068   0.197   2.907  \nstd      0.422   0.532   0.885   1.543  \nmin      0.000   0.000   0.000   0.000  \n25%      0.000   0.000   0.000   1.000  \n50%      0.000   0.000   0.000   4.000  \n75%      0.000   0.000   0.000   4.000  \nmax      5.000   5.000   5.000   4.000  \n\n[8 rows x 672 columns]",
      "text/html": "<div>\n<style scoped>\n    .dataframe tbody tr th:only-of-type {\n        vertical-align: middle;\n    }\n\n    .dataframe tbody tr th {\n        vertical-align: top;\n    }\n\n    .dataframe thead th {\n        text-align: right;\n    }\n</style>\n<table border=\"1\" class=\"dataframe\">\n  <thead>\n    <tr style=\"text-align: right;\">\n      <th>userId</th>\n      <th>1</th>\n      <th>2</th>\n      <th>3</th>\n      <th>4</th>\n      <th>5</th>\n      <th>6</th>\n      <th>7</th>\n      <th>8</th>\n      <th>9</th>\n      <th>10</th>\n      <th>...</th>\n      <th>663</th>\n      <th>664</th>\n      <th>665</th>\n      <th>666</th>\n      <th>667</th>\n      <th>668</th>\n      <th>669</th>\n      <th>670</th>\n      <th>671</th>\n      <th>labels</th>\n    </tr>\n  </thead>\n  <tbody>\n    <tr>\n      <th>count</th>\n      <td>945.000</td>\n      <td>945.000</td>\n      <td>945.000</td>\n      <td>945.000</td>\n      <td>945.000</td>\n      <td>945.000</td>\n      <td>945.000</td>\n      <td>945.000</td>\n      <td>945.000</td>\n      <td>945.000</td>\n      <td>...</td>\n      <td>945.000</td>\n      <td>945.000</td>\n      <td>945.000</td>\n      <td>945.000</td>\n      <td>945.000</td>\n      <td>945.000</td>\n      <td>945.000</td>\n      <td>945.000</td>\n      <td>945.000</td>\n      <td>945.000</td>\n    </tr>\n    <tr>\n      <th>mean</th>\n      <td>0.015</td>\n      <td>0.216</td>\n      <td>0.094</td>\n      <td>0.477</td>\n      <td>0.220</td>\n      <td>0.099</td>\n      <td>0.164</td>\n      <td>0.187</td>\n      <td>0.102</td>\n      <td>0.075</td>\n      <td>...</td>\n      <td>0.008</td>\n      <td>0.593</td>\n      <td>0.675</td>\n      <td>0.105</td>\n      <td>0.206</td>\n      <td>0.041</td>\n      <td>0.044</td>\n      <td>0.068</td>\n      <td>0.197</td>\n      <td>2.907</td>\n    </tr>\n    <tr>\n      <th>std</th>\n      <td>0.199</td>\n      <td>0.875</td>\n      <td>0.581</td>\n      <td>1.383</td>\n      <td>0.912</td>\n      <td>0.589</td>\n      <td>0.750</td>\n      <td>0.860</td>\n      <td>0.633</td>\n      <td>0.550</td>\n      <td>...</td>\n      <td>0.173</td>\n      <td>1.409</td>\n      <td>1.412</td>\n      <td>0.577</td>\n      <td>0.854</td>\n      <td>0.429</td>\n      <td>0.422</td>\n      <td>0.532</td>\n      <td>0.885</td>\n      <td>1.543</td>\n    </tr>\n    <tr>\n      <th>min</th>\n      <td>0.000</td>\n      <td>0.000</td>\n      <td>0.000</td>\n      <td>0.000</td>\n      <td>0.000</td>\n      <td>0.000</td>\n      <td>0.000</td>\n      <td>0.000</td>\n      <td>0.000</td>\n      <td>0.000</td>\n      <td>...</td>\n      <td>0.000</td>\n      <td>0.000</td>\n      <td>0.000</td>\n      <td>0.000</td>\n      <td>0.000</td>\n      <td>0.000</td>\n      <td>0.000</td>\n      <td>0.000</td>\n      <td>0.000</td>\n      <td>0.000</td>\n    </tr>\n    <tr>\n      <th>25%</th>\n      <td>0.000</td>\n      <td>0.000</td>\n      <td>0.000</td>\n      <td>0.000</td>\n      <td>0.000</td>\n      <td>0.000</td>\n      <td>0.000</td>\n      <td>0.000</td>\n      <td>0.000</td>\n      <td>0.000</td>\n      <td>...</td>\n      <td>0.000</td>\n      <td>0.000</td>\n      <td>0.000</td>\n      <td>0.000</td>\n      <td>0.000</td>\n      <td>0.000</td>\n      <td>0.000</td>\n      <td>0.000</td>\n      <td>0.000</td>\n      <td>1.000</td>\n    </tr>\n    <tr>\n      <th>50%</th>\n      <td>0.000</td>\n      <td>0.000</td>\n      <td>0.000</td>\n      <td>0.000</td>\n      <td>0.000</td>\n      <td>0.000</td>\n      <td>0.000</td>\n      <td>0.000</td>\n      <td>0.000</td>\n      <td>0.000</td>\n      <td>...</td>\n      <td>0.000</td>\n      <td>0.000</td>\n      <td>0.000</td>\n      <td>0.000</td>\n      <td>0.000</td>\n      <td>0.000</td>\n      <td>0.000</td>\n      <td>0.000</td>\n      <td>0.000</td>\n      <td>4.000</td>\n    </tr>\n    <tr>\n      <th>75%</th>\n      <td>0.000</td>\n      <td>0.000</td>\n      <td>0.000</td>\n      <td>0.000</td>\n      <td>0.000</td>\n      <td>0.000</td>\n      <td>0.000</td>\n      <td>0.000</td>\n      <td>0.000</td>\n      <td>0.000</td>\n      <td>...</td>\n      <td>0.000</td>\n      <td>0.000</td>\n      <td>0.000</td>\n      <td>0.000</td>\n      <td>0.000</td>\n      <td>0.000</td>\n      <td>0.000</td>\n      <td>0.000</td>\n      <td>0.000</td>\n      <td>4.000</td>\n    </tr>\n    <tr>\n      <th>max</th>\n      <td>4.000</td>\n      <td>5.000</td>\n      <td>5.000</td>\n      <td>5.000</td>\n      <td>5.000</td>\n      <td>5.000</td>\n      <td>5.000</td>\n      <td>5.000</td>\n      <td>5.000</td>\n      <td>5.000</td>\n      <td>...</td>\n      <td>4.000</td>\n      <td>5.000</td>\n      <td>5.000</td>\n      <td>5.000</td>\n      <td>5.000</td>\n      <td>5.000</td>\n      <td>5.000</td>\n      <td>5.000</td>\n      <td>5.000</td>\n      <td>4.000</td>\n    </tr>\n  </tbody>\n</table>\n<p>8 rows × 672 columns</p>\n</div>"
     },
     "execution_count": 454,
     "metadata": {},
     "output_type": "execute_result"
    }
   ],
   "source": [
    "movie_features_df.describe()"
   ],
   "metadata": {
    "collapsed": false,
    "pycharm": {
     "name": "#%%\n"
    }
   }
  },
  {
   "cell_type": "code",
   "execution_count": 455,
   "metadata": {
    "pycharm": {
     "name": "#%%\n"
    }
   },
   "outputs": [
    {
     "data": {
      "text/plain": "userId     1     2     3     4     5     6     7     8     9    10  ...   663  \\\nlabels                                                              ...         \n0      0.000 0.064 0.197 1.223 0.814 0.383 0.234 0.830 0.245 0.128  ... 0.000   \n1      0.021 0.241 0.034 0.707 0.126 0.173 0.204 0.052 0.141 0.178  ... 0.000   \n2      0.000 2.143 0.300 1.343 1.257 0.000 1.086 0.129 0.000 0.171  ... 0.000   \n3      0.000 1.357 2.286 1.429 0.429 0.000 1.357 3.714 1.857 0.286  ... 0.536   \n4      0.016 0.095 0.034 0.219 0.093 0.040 0.061 0.052 0.033 0.025  ... 0.000   \n\nuserId   664   665   666   667   668   669   670   671  Counts  \nlabels                                                          \n0      2.080 1.606 0.053 0.096 0.138 0.096 0.106 0.989      94  \n1      0.045 0.503 0.042 0.325 0.021 0.058 0.052 0.243     191  \n2      1.071 2.114 1.571 1.571 0.000 0.000 0.229 0.343      35  \n3      3.786 2.929 1.214 1.286 1.357 0.929 1.643 2.500      14  \n4      0.435 0.452 0.023 0.083 0.005 0.015 0.021 0.000     611  \n\n[5 rows x 672 columns]",
      "text/html": "<div>\n<style scoped>\n    .dataframe tbody tr th:only-of-type {\n        vertical-align: middle;\n    }\n\n    .dataframe tbody tr th {\n        vertical-align: top;\n    }\n\n    .dataframe thead th {\n        text-align: right;\n    }\n</style>\n<table border=\"1\" class=\"dataframe\">\n  <thead>\n    <tr style=\"text-align: right;\">\n      <th>userId</th>\n      <th>1</th>\n      <th>2</th>\n      <th>3</th>\n      <th>4</th>\n      <th>5</th>\n      <th>6</th>\n      <th>7</th>\n      <th>8</th>\n      <th>9</th>\n      <th>10</th>\n      <th>...</th>\n      <th>663</th>\n      <th>664</th>\n      <th>665</th>\n      <th>666</th>\n      <th>667</th>\n      <th>668</th>\n      <th>669</th>\n      <th>670</th>\n      <th>671</th>\n      <th>Counts</th>\n    </tr>\n    <tr>\n      <th>labels</th>\n      <th></th>\n      <th></th>\n      <th></th>\n      <th></th>\n      <th></th>\n      <th></th>\n      <th></th>\n      <th></th>\n      <th></th>\n      <th></th>\n      <th></th>\n      <th></th>\n      <th></th>\n      <th></th>\n      <th></th>\n      <th></th>\n      <th></th>\n      <th></th>\n      <th></th>\n      <th></th>\n      <th></th>\n    </tr>\n  </thead>\n  <tbody>\n    <tr>\n      <th>0</th>\n      <td>0.000</td>\n      <td>0.064</td>\n      <td>0.197</td>\n      <td>1.223</td>\n      <td>0.814</td>\n      <td>0.383</td>\n      <td>0.234</td>\n      <td>0.830</td>\n      <td>0.245</td>\n      <td>0.128</td>\n      <td>...</td>\n      <td>0.000</td>\n      <td>2.080</td>\n      <td>1.606</td>\n      <td>0.053</td>\n      <td>0.096</td>\n      <td>0.138</td>\n      <td>0.096</td>\n      <td>0.106</td>\n      <td>0.989</td>\n      <td>94</td>\n    </tr>\n    <tr>\n      <th>1</th>\n      <td>0.021</td>\n      <td>0.241</td>\n      <td>0.034</td>\n      <td>0.707</td>\n      <td>0.126</td>\n      <td>0.173</td>\n      <td>0.204</td>\n      <td>0.052</td>\n      <td>0.141</td>\n      <td>0.178</td>\n      <td>...</td>\n      <td>0.000</td>\n      <td>0.045</td>\n      <td>0.503</td>\n      <td>0.042</td>\n      <td>0.325</td>\n      <td>0.021</td>\n      <td>0.058</td>\n      <td>0.052</td>\n      <td>0.243</td>\n      <td>191</td>\n    </tr>\n    <tr>\n      <th>2</th>\n      <td>0.000</td>\n      <td>2.143</td>\n      <td>0.300</td>\n      <td>1.343</td>\n      <td>1.257</td>\n      <td>0.000</td>\n      <td>1.086</td>\n      <td>0.129</td>\n      <td>0.000</td>\n      <td>0.171</td>\n      <td>...</td>\n      <td>0.000</td>\n      <td>1.071</td>\n      <td>2.114</td>\n      <td>1.571</td>\n      <td>1.571</td>\n      <td>0.000</td>\n      <td>0.000</td>\n      <td>0.229</td>\n      <td>0.343</td>\n      <td>35</td>\n    </tr>\n    <tr>\n      <th>3</th>\n      <td>0.000</td>\n      <td>1.357</td>\n      <td>2.286</td>\n      <td>1.429</td>\n      <td>0.429</td>\n      <td>0.000</td>\n      <td>1.357</td>\n      <td>3.714</td>\n      <td>1.857</td>\n      <td>0.286</td>\n      <td>...</td>\n      <td>0.536</td>\n      <td>3.786</td>\n      <td>2.929</td>\n      <td>1.214</td>\n      <td>1.286</td>\n      <td>1.357</td>\n      <td>0.929</td>\n      <td>1.643</td>\n      <td>2.500</td>\n      <td>14</td>\n    </tr>\n    <tr>\n      <th>4</th>\n      <td>0.016</td>\n      <td>0.095</td>\n      <td>0.034</td>\n      <td>0.219</td>\n      <td>0.093</td>\n      <td>0.040</td>\n      <td>0.061</td>\n      <td>0.052</td>\n      <td>0.033</td>\n      <td>0.025</td>\n      <td>...</td>\n      <td>0.000</td>\n      <td>0.435</td>\n      <td>0.452</td>\n      <td>0.023</td>\n      <td>0.083</td>\n      <td>0.005</td>\n      <td>0.015</td>\n      <td>0.021</td>\n      <td>0.000</td>\n      <td>611</td>\n    </tr>\n  </tbody>\n</table>\n<p>5 rows × 672 columns</p>\n</div>"
     },
     "execution_count": 455,
     "metadata": {},
     "output_type": "execute_result"
    }
   ],
   "source": [
    "#Grouping passengers by Cluster\n",
    "movie_features_df_cluster = movie_features_df.groupby(['labels']).mean()\n",
    "#Count of passengers in each cluster\n",
    "movie_features_df_cluster['Counts'] = pd.Series(movie_features_df.groupby(['labels']).size())\n",
    "movie_features_df_cluster"
   ]
  }
 ],
 "metadata": {
  "kernelspec": {
   "display_name": "Python 3.10.8 64-bit (microsoft store)",
   "language": "python",
   "name": "python3"
  },
  "language_info": {
   "codemirror_mode": {
    "name": "ipython",
    "version": 3
   },
   "file_extension": ".py",
   "mimetype": "text/x-python",
   "name": "python",
   "nbconvert_exporter": "python",
   "pygments_lexer": "ipython3",
   "version": "3.10.8"
  },
  "orig_nbformat": 4,
  "vscode": {
   "interpreter": {
    "hash": "80819c54c7d22b05949ff95365b6ac6ca45458f2e36025379a83c9281eefd092"
   }
  }
 },
 "nbformat": 4,
 "nbformat_minor": 2
}